{
 "cells": [
  {
   "cell_type": "code",
   "execution_count": 1,
   "id": "1fcbc667-303b-4b25-b3e1-be63774bf098",
   "metadata": {},
   "outputs": [],
   "source": [
    "import os\n",
    "import shutil\n",
    "import pandas as pd"
   ]
  },
  {
   "cell_type": "code",
   "execution_count": 2,
   "id": "b556cec6-ec8c-4ebe-abfa-8879859fac8f",
   "metadata": {},
   "outputs": [],
   "source": [
    "files = []\n",
    "for (dirpath, dirnames, filenames) in os.walk(\".\"):\n",
    "    files.extend(filenames)\n",
    "    break"
   ]
  },
  {
   "cell_type": "code",
   "execution_count": 3,
   "id": "27587e82-5502-47a3-bad7-cc3e7e306fff",
   "metadata": {},
   "outputs": [],
   "source": [
    "for file in files:\n",
    "    if file.endswith(\"txt\") and file != \"seq.txt\":\n",
    "        dir_name = file.split(\".\")[0][-3:]\n",
    "        os.mkdir(dir_name)\n",
    "        shutil.copyfile(file, os.path.join(dir_name, file))"
   ]
  },
  {
   "cell_type": "code",
   "execution_count": 4,
   "id": "10807f56-eb8d-423f-b5f2-02de4459b9d4",
   "metadata": {},
   "outputs": [],
   "source": [
    "def load_seq_from_file(file_name=\"seq.txt\"):\n",
    "    with open(file_name) as f:\n",
    "        seq = f.readlines()\n",
    "    return [l.strip() for l in seq]"
   ]
  },
  {
   "cell_type": "code",
   "execution_count": 5,
   "id": "94d4ef7a-e3a3-45ef-839b-a391e79f86bf",
   "metadata": {},
   "outputs": [],
   "source": [
    "def is_chuncked_file_name(filename):\n",
    "    if file_name.endswith(\".txt\") and file_name.split(\".\")[0][-3:].isdigit():\n",
    "        return True\n",
    "    return False"
   ]
  },
  {
   "cell_type": "code",
   "execution_count": 6,
   "id": "f4af0980-4d37-4a7b-b8ff-e430c63c9649",
   "metadata": {},
   "outputs": [],
   "source": [
    "def parse_ps_concetrations_data(values: list) -> dict:\n",
    "    for line in values:\n",
    "        if line.startswith(\"Dense\"):\n",
    "            values = line.strip().split(\":\")[1].split(\"+/-\")\n",
    "            conc = float(values[0].strip())\n",
    "            var = float(values[1].strip())\n",
    "\n",
    "    return {\"conc\": conc, \"var\": var}"
   ]
  },
  {
   "cell_type": "code",
   "execution_count": 10,
   "id": "9c24207f-7a92-4ea0-bedd-7b1926e85c03",
   "metadata": {},
   "outputs": [
    {
     "data": {
      "text/plain": [
       "['.ipynb_checkpoints',\n",
       " 'generated_data',\n",
       " 'mk_dir_ff.ipynb',\n",
       " 'seqs_maristany.json']"
      ]
     },
     "execution_count": 10,
     "metadata": {},
     "output_type": "execute_result"
    }
   ],
   "source": [
    "os.listdir(\".\")"
   ]
  },
  {
   "cell_type": "code",
   "execution_count": 28,
   "id": "83a29659-f0c6-4d3e-87a7-4a05d8d9c945",
   "metadata": {},
   "outputs": [
    {
     "data": {
      "text/plain": [
       "'C:\\\\Users\\\\suvcss\\\\Documents\\\\Chemistry\\\\CTP\\\\data'"
      ]
     },
     "execution_count": 28,
     "metadata": {},
     "output_type": "execute_result"
    }
   ],
   "source": [
    "os.getcwd()"
   ]
  },
  {
   "cell_type": "code",
   "execution_count": 26,
   "id": "d10b6f1d-40d1-40d2-8753-f7a169f7c3b8",
   "metadata": {},
   "outputs": [],
   "source": [
    "def load_ps_concentrations(root_dir_name=\".\"):\n",
    "    ps_conc = {}\n",
    "    root_dir = 'generated_data'\n",
    "    for gene_name in os.listdir(root_dir):\n",
    "        ps_conc[gene_name] = {}\n",
    "        for temp in os.listdir(os.path.join(root_dir, gene_name)):\n",
    "            if temp.split(os.sep)[-1].isdigit():\n",
    "                for file_name in os.listdir(os.path.join(root_dir,gene_name, temp)):\n",
    "                    if is_chuncked_file_name(file_name):\n",
    "                        with open(os.path.join(root_dir, gene_name, temp, file_name)) as f:\n",
    "                            ps_conc[gene_name][float(temp)] = f.readlines()\n",
    "                            ps_conc[gene_name][float(temp)] = parse_ps_concetrations_data(ps_conc[gene_name][float(temp)])\n",
    "\n",
    "    return ps_conc"
   ]
  },
  {
   "cell_type": "code",
   "execution_count": 29,
   "id": "0fda5dde-e035-4f07-adc0-05dbea170b36",
   "metadata": {},
   "outputs": [
    {
     "data": {
      "text/plain": [
       "{'TIA_Wildtype': {250.0: {'conc': 0.8360503725771717,\n",
       "   'var': 0.13892632463497562},\n",
       "  270.0: {'conc': 0.7797660087102176, 'var': 0.14774383092273657},\n",
       "  290.0: {'conc': 0.7295378052763819, 'var': 0.1357808137643217},\n",
       "  300.0: {'conc': 0.6940471427726869, 'var': 0.14014332231786006},\n",
       "  307.0: {'conc': 0.7072770515075377, 'var': 0.07595893808731312},\n",
       "  314.0: {'conc': 0.6746150076854863, 'var': 0.09516255339247304},\n",
       "  321.0: {'conc': 0.6438512761027358, 'var': 0.10314311781690717},\n",
       "  335.0: {'conc': 0.5983536697434539, 'var': 0.08618436268394165},\n",
       "  342.0: {'conc': 0.5714758110552763, 'var': 0.08488786494968888},\n",
       "  349.0: {'conc': 0.5525675538693468, 'var': 0.06532768583560215},\n",
       "  356.0: {'conc': 0.5213545022732712, 'var': 0.05694819106290415},\n",
       "  363.0: {'conc': 0.4474041371989493, 'var': 0.06810833743310736},\n",
       "  370.0: {'conc': 0.4223802308637277, 'var': 0.057884840495942114}}}"
      ]
     },
     "execution_count": 29,
     "metadata": {},
     "output_type": "execute_result"
    }
   ],
   "source": [
    "conc = load_ps_concentrations()\n",
    "conc"
   ]
  },
  {
   "cell_type": "code",
   "execution_count": 37,
   "id": "5d242a65-d31a-43e5-92dd-c43e1daeb892",
   "metadata": {},
   "outputs": [],
   "source": [
    "for gene in conc:\n",
    "    gene_dict = {gene: {}}\n",
    "    for temp, c_values in conc[gene].items():\n",
    "        gene_dict[gene][temp] = c_values['conc']"
   ]
  },
  {
   "cell_type": "code",
   "execution_count": 38,
   "id": "99194380-3713-41a4-9dae-3936a972bc05",
   "metadata": {},
   "outputs": [
    {
     "data": {
      "text/plain": [
       "{'TIA_Wildtype': {250.0: 0.8360503725771717,\n",
       "  270.0: 0.7797660087102176,\n",
       "  290.0: 0.7295378052763819,\n",
       "  300.0: 0.6940471427726869,\n",
       "  307.0: 0.7072770515075377,\n",
       "  314.0: 0.6746150076854863,\n",
       "  321.0: 0.6438512761027358,\n",
       "  335.0: 0.5983536697434539,\n",
       "  342.0: 0.5714758110552763,\n",
       "  349.0: 0.5525675538693468,\n",
       "  356.0: 0.5213545022732712,\n",
       "  363.0: 0.4474041371989493,\n",
       "  370.0: 0.4223802308637277}}"
      ]
     },
     "execution_count": 38,
     "metadata": {},
     "output_type": "execute_result"
    }
   ],
   "source": [
    "gene_dict"
   ]
  },
  {
   "cell_type": "code",
   "execution_count": 43,
   "id": "de6301b6-d14c-4333-9148-0f6add6c26a4",
   "metadata": {},
   "outputs": [
    {
     "data": {
      "text/html": [
       "<div>\n",
       "<style scoped>\n",
       "    .dataframe tbody tr th:only-of-type {\n",
       "        vertical-align: middle;\n",
       "    }\n",
       "\n",
       "    .dataframe tbody tr th {\n",
       "        vertical-align: top;\n",
       "    }\n",
       "\n",
       "    .dataframe thead th {\n",
       "        text-align: right;\n",
       "    }\n",
       "</style>\n",
       "<table border=\"1\" class=\"dataframe\">\n",
       "  <thead>\n",
       "    <tr style=\"text-align: right;\">\n",
       "      <th></th>\n",
       "      <th>250.0</th>\n",
       "      <th>270.0</th>\n",
       "      <th>290.0</th>\n",
       "      <th>300.0</th>\n",
       "      <th>307.0</th>\n",
       "      <th>314.0</th>\n",
       "      <th>321.0</th>\n",
       "      <th>335.0</th>\n",
       "      <th>342.0</th>\n",
       "      <th>349.0</th>\n",
       "      <th>356.0</th>\n",
       "      <th>363.0</th>\n",
       "      <th>370.0</th>\n",
       "    </tr>\n",
       "  </thead>\n",
       "  <tbody>\n",
       "    <tr>\n",
       "      <th>TIA_Wildtype</th>\n",
       "      <td>0.83605</td>\n",
       "      <td>0.779766</td>\n",
       "      <td>0.729538</td>\n",
       "      <td>0.694047</td>\n",
       "      <td>0.707277</td>\n",
       "      <td>0.674615</td>\n",
       "      <td>0.643851</td>\n",
       "      <td>0.598354</td>\n",
       "      <td>0.571476</td>\n",
       "      <td>0.552568</td>\n",
       "      <td>0.521355</td>\n",
       "      <td>0.447404</td>\n",
       "      <td>0.42238</td>\n",
       "    </tr>\n",
       "  </tbody>\n",
       "</table>\n",
       "</div>"
      ],
      "text/plain": [
       "                250.0     270.0     290.0     300.0     307.0     314.0  \\\n",
       "TIA_Wildtype  0.83605  0.779766  0.729538  0.694047  0.707277  0.674615   \n",
       "\n",
       "                 321.0     335.0     342.0     349.0     356.0     363.0  \\\n",
       "TIA_Wildtype  0.643851  0.598354  0.571476  0.552568  0.521355  0.447404   \n",
       "\n",
       "                370.0  \n",
       "TIA_Wildtype  0.42238  "
      ]
     },
     "execution_count": 43,
     "metadata": {},
     "output_type": "execute_result"
    }
   ],
   "source": [
    "pd.DataFrame.from_dict(gene_dict, orient='index')"
   ]
  },
  {
   "cell_type": "code",
   "execution_count": 31,
   "id": "97e2b5b1-3993-4d31-94ac-10f5596b35e2",
   "metadata": {
    "scrolled": true
   },
   "outputs": [
    {
     "data": {
      "text/html": [
       "<div>\n",
       "<style scoped>\n",
       "    .dataframe tbody tr th:only-of-type {\n",
       "        vertical-align: middle;\n",
       "    }\n",
       "\n",
       "    .dataframe tbody tr th {\n",
       "        vertical-align: top;\n",
       "    }\n",
       "\n",
       "    .dataframe thead th {\n",
       "        text-align: right;\n",
       "    }\n",
       "</style>\n",
       "<table border=\"1\" class=\"dataframe\">\n",
       "  <thead>\n",
       "    <tr style=\"text-align: right;\">\n",
       "      <th></th>\n",
       "      <th>250.0</th>\n",
       "      <th>270.0</th>\n",
       "      <th>290.0</th>\n",
       "      <th>300.0</th>\n",
       "      <th>307.0</th>\n",
       "      <th>314.0</th>\n",
       "      <th>321.0</th>\n",
       "      <th>335.0</th>\n",
       "      <th>342.0</th>\n",
       "      <th>349.0</th>\n",
       "      <th>356.0</th>\n",
       "      <th>363.0</th>\n",
       "      <th>370.0</th>\n",
       "    </tr>\n",
       "  </thead>\n",
       "  <tbody>\n",
       "    <tr>\n",
       "      <th>conc</th>\n",
       "      <td>0.836050</td>\n",
       "      <td>0.779766</td>\n",
       "      <td>0.729538</td>\n",
       "      <td>0.694047</td>\n",
       "      <td>0.707277</td>\n",
       "      <td>0.674615</td>\n",
       "      <td>0.643851</td>\n",
       "      <td>0.598354</td>\n",
       "      <td>0.571476</td>\n",
       "      <td>0.552568</td>\n",
       "      <td>0.521355</td>\n",
       "      <td>0.447404</td>\n",
       "      <td>0.422380</td>\n",
       "    </tr>\n",
       "    <tr>\n",
       "      <th>var</th>\n",
       "      <td>0.138926</td>\n",
       "      <td>0.147744</td>\n",
       "      <td>0.135781</td>\n",
       "      <td>0.140143</td>\n",
       "      <td>0.075959</td>\n",
       "      <td>0.095163</td>\n",
       "      <td>0.103143</td>\n",
       "      <td>0.086184</td>\n",
       "      <td>0.084888</td>\n",
       "      <td>0.065328</td>\n",
       "      <td>0.056948</td>\n",
       "      <td>0.068108</td>\n",
       "      <td>0.057885</td>\n",
       "    </tr>\n",
       "  </tbody>\n",
       "</table>\n",
       "</div>"
      ],
      "text/plain": [
       "         250.0     270.0     290.0     300.0     307.0     314.0     321.0  \\\n",
       "conc  0.836050  0.779766  0.729538  0.694047  0.707277  0.674615  0.643851   \n",
       "var   0.138926  0.147744  0.135781  0.140143  0.075959  0.095163  0.103143   \n",
       "\n",
       "         335.0     342.0     349.0     356.0     363.0     370.0  \n",
       "conc  0.598354  0.571476  0.552568  0.521355  0.447404  0.422380  \n",
       "var   0.086184  0.084888  0.065328  0.056948  0.068108  0.057885  "
      ]
     },
     "execution_count": 31,
     "metadata": {},
     "output_type": "execute_result"
    }
   ],
   "source": [
    "pd.DataFrame.from_dict(conc['TIA_Wildtype'])"
   ]
  },
  {
   "cell_type": "code",
   "execution_count": null,
   "id": "96e27c8a-38ec-4d49-9770-4bda078cc8b9",
   "metadata": {},
   "outputs": [],
   "source": [
    "def"
   ]
  }
 ],
 "metadata": {
  "kernelspec": {
   "display_name": "Python 3 (ipykernel)",
   "language": "python",
   "name": "python3"
  },
  "language_info": {
   "codemirror_mode": {
    "name": "ipython",
    "version": 3
   },
   "file_extension": ".py",
   "mimetype": "text/x-python",
   "name": "python",
   "nbconvert_exporter": "python",
   "pygments_lexer": "ipython3",
   "version": "3.9.19"
  }
 },
 "nbformat": 4,
 "nbformat_minor": 5
}
