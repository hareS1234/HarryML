{
 "cells": [
  {
   "cell_type": "code",
   "execution_count": 2,
   "id": "f521e2d4-33af-4614-94a3-c49882ce3d1b",
   "metadata": {},
   "outputs": [],
   "source": [
    "import os"
   ]
  },
  {
   "cell_type": "code",
   "execution_count": 10,
   "id": "f3382f4f-9d8b-409d-b94c-76c0cbc3cd1e",
   "metadata": {},
   "outputs": [],
   "source": [
    "for r_folder in next(os.walk(os.path.join(\"simulation\", \"runs\")))[1]:\n",
    "    for folder in os.path.join(\"simulation\", \"runs\", r_folder):\n",
    "        for file in next(os.walk(os.path.join(\"simulation\", \"runs\", r_folder)))[2]:\n",
    "             if file.endswith(\"lammpstrj\"):\n",
    "                print(os.path.join(\"simulation\", \"runs\", r_folder, file))\n",
    "                os.remove(os.path.join(\"simulation\", \"runs\", r_folder, file))  \n",
    "        for temp_folder in next(os.walk(os.path.join(\"simulation\", \"runs\", r_folder)))[1]:\n",
    "            for file in os.listdir(os.path.join(\"simulation\", \"runs\", r_folder, temp_folder)):\n",
    "                if file.endswith(\"lammpstrj\"):\n",
    "                    print(os.path.join(\"simulation\", \"runs\", r_folder, temp_folder, file))\n",
    "                    os.remove(os.path.join(\"simulation\", \"runs\", r_folder, temp_folder, file))"
   ]
  },
  {
   "cell_type": "code",
   "execution_count": null,
   "id": "475e0cc6-a956-4989-bec9-4dc2c126fe1d",
   "metadata": {},
   "outputs": [],
   "source": []
  },
  {
   "cell_type": "code",
   "execution_count": 14,
   "id": "7163811c-8ed1-492a-b39d-6c5ace0a33e1",
   "metadata": {},
   "outputs": [
    {
     "data": {
      "text/plain": [
       "['aa_charges_three_letters.txt',\n",
       " 'restart.75000',\n",
       " 'restart.25000',\n",
       " 'initialSlab.dat',\n",
       " 'aa_types_one_letter.txt',\n",
       " 'sample.lmp',\n",
       " 'aa_types_three_letters.txt',\n",
       " 'aa_charges_one_letter.txt',\n",
       " 'restart.50000',\n",
       " 'result.lammpstrj',\n",
       " 'Rg.out',\n",
       " 'potentials.dat',\n",
       " 'compress.lmp',\n",
       " 'compress.log',\n",
       " 'log.lammps',\n",
       " 'myconfig.dat',\n",
       " 'seq2config.py',\n",
       " 'inputSingleChain.lmp',\n",
       " 'replicate.lammpstrj',\n",
       " 'initialChainConfig.dat',\n",
       " 'seq.txt',\n",
       " 'inputSingleChain.log',\n",
       " 'singleChainConfig.dat']"
      ]
     },
     "execution_count": 14,
     "metadata": {},
     "output_type": "execute_result"
    }
   ],
   "source": [
    "next(os.walk(os.path.join(\"simulation\", \"runs\", 'EWSR1_-10G+10T_2024_08_06_12_08_1722948037')))[2]"
   ]
  },
  {
   "cell_type": "code",
   "execution_count": 9,
   "id": "541b7a23-0e4b-4d49-968d-c4265ea6bcea",
   "metadata": {},
   "outputs": [
    {
     "data": {
      "text/plain": [
       "['sample.log',\n",
       " 'initialSlab.dat',\n",
       " 'final-structure.dat',\n",
       " 'da.py',\n",
       " 'sample.lmp',\n",
       " 'result.lammpstrj',\n",
       " 'potentials.dat',\n",
       " 'densities_chunked2.dat',\n",
       " 'log.lammps',\n",
       " 'densities_chunked2.dat_density_profile.png',\n",
       " 'equilibration.lammpstrj']"
      ]
     },
     "execution_count": 9,
     "metadata": {},
     "output_type": "execute_result"
    }
   ],
   "source": [
    "os.listdir(os.path.join(\"simulation\", \"runs\", 'EWSR1_-10G+10T_2024_08_06_12_08_1722948037', '356.0'))"
   ]
  },
  {
   "cell_type": "code",
   "execution_count": null,
   "id": "80ec1474-c24c-41b8-b871-55e222bce425",
   "metadata": {},
   "outputs": [],
   "source": []
  }
 ],
 "metadata": {
  "kernelspec": {
   "display_name": "Python 3 (ipykernel)",
   "language": "python",
   "name": "python3"
  },
  "language_info": {
   "codemirror_mode": {
    "name": "ipython",
    "version": 3
   },
   "file_extension": ".py",
   "mimetype": "text/x-python",
   "name": "python",
   "nbconvert_exporter": "python",
   "pygments_lexer": "ipython3",
   "version": "3.9.19"
  }
 },
 "nbformat": 4,
 "nbformat_minor": 5
}
