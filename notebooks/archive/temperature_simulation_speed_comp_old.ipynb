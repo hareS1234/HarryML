{
 "cells": [
  {
   "cell_type": "code",
   "execution_count": 37,
   "id": "f4360acf-5b08-4026-9607-e720268ed65c",
   "metadata": {},
   "outputs": [],
   "source": [
    "import os\n",
    "import shutil\n",
    "import datetime\n",
    "import subprocess\n",
    "import re\n",
    "import multiprocessing\n",
    "import time\n",
    "import json\n",
    "import datetime"
   ]
  },
  {
   "cell_type": "code",
   "execution_count": 38,
   "id": "f1a632d0-309f-42a8-8b3a-b1dcd0986858",
   "metadata": {},
   "outputs": [],
   "source": [
    "def get_curr_time():\n",
    "    return datetime.datetime.now().strftime(\"%d-%h-%y | %H:%M\")"
   ]
  },
  {
   "cell_type": "code",
   "execution_count": 39,
   "id": "0b41c7b1-0cf9-4394-804c-572dbc84c225",
   "metadata": {},
   "outputs": [],
   "source": [
    "def _load_seq_from_file(file_name):\n",
    "    with open(file_name) as f:\n",
    "        seq = f.readlines()\n",
    "    return \"\".join([l.strip() for l in seq])"
   ]
  },
  {
   "cell_type": "code",
   "execution_count": 40,
   "id": "52aa8384-20c4-48df-b61f-56e359cd984e",
   "metadata": {},
   "outputs": [],
   "source": [
    "\n",
    "SIMULATION_ROOT_DIR = \"simulation\"\n",
    "SIMULATION_EXEC = os.path.join(SIMULATION_ROOT_DIR, \"bin\")\n",
    "SIMULATION_LIBS = os.path.join(SIMULATION_ROOT_DIR, \"libs\")\n",
    "SIMULATION_RUN_DIRS= os.path.join(SIMULATION_ROOT_DIR, \"runs\")\n"
   ]
  },
  {
   "cell_type": "code",
   "execution_count": 41,
   "id": "b03672dd-3943-4fe4-80ba-f1e7d7e3bc00",
   "metadata": {},
   "outputs": [],
   "source": [
    "def create_run_dir_name(gene_name):\n",
    "    return gene_name + \"_\" + datetime.datetime.now().strftime(\"%Y_%m_%d_%H_%m_%s\")"
   ]
  },
  {
   "cell_type": "code",
   "execution_count": null,
   "id": "292b97c3-e095-4708-ab4a-21c68f683358",
   "metadata": {},
   "outputs": [],
   "source": []
  },
  {
   "cell_type": "code",
   "execution_count": 42,
   "id": "931e5b65-f38d-4e23-9bcf-aaa142791781",
   "metadata": {},
   "outputs": [
    {
     "data": {
      "text/plain": [
       "'/home/ubuntu/anaconda3/envs/lammps/bin:/home/ubuntu/anaconda3/condabin:/usr/local/sbin:/usr/local/bin:/usr/sbin:/usr/bin:/sbin:/bin:/usr/games:/usr/local/games:/snap/bin:/home/ubuntu/CTP/simulation/bin:/home/ubuntu/CTP/simulation/bin'"
      ]
     },
     "execution_count": 42,
     "metadata": {},
     "output_type": "execute_result"
    }
   ],
   "source": [
    "os.environ[\"PATH\"] += os.pathsep + os.path.join(os.getcwd(), SIMULATION_EXEC)\n",
    "os.environ[\"PATH\"]"
   ]
  },
  {
   "cell_type": "code",
   "execution_count": 43,
   "id": "68cebf42-26f6-4186-9957-4341f089131f",
   "metadata": {},
   "outputs": [],
   "source": [
    "def gen_sim_data(folder_name):\n",
    "    seq = _load_seq_from_file(os.path.join(folder_name, \"seq.txt\"))\n",
    "    seq_name = folder_name.split(os.sep)[-1]\n",
    "    dirs = next(os.walk(os.path.join(folder_name, 'directCoexistence')))[1]\n",
    "    dirs = [dir[4:] for dir in dirs]\n",
    "    return {\"gene_name\": seq_name, \"seq\": seq, \"temps\": dirs}"
   ]
  },
  {
   "cell_type": "code",
   "execution_count": 44,
   "id": "79dcbaca-2900-4142-8800-7bcf19da0a68",
   "metadata": {},
   "outputs": [],
   "source": [
    "def gen_sim_data_done(folder_name):\n",
    "    seq = _load_seq_from_file(os.path.join(folder_name, \"seq.txt\"))\n",
    "    seq_name = folder_name.split(os.sep)[-1]\n",
    "    dirs = next(os.walk(folder_name))[1]\n",
    "    dirs = [dir[4:] for dir in dirs]\n",
    "    return {\"gene_name\": seq_name, \"seq\": seq, \"temps\": dirs}"
   ]
  },
  {
   "cell_type": "code",
   "execution_count": 45,
   "id": "4002150b-0449-4a95-afcc-9688620772c5",
   "metadata": {},
   "outputs": [],
   "source": [
    "def read_sim_data(seq_file='simulation/simulation_to_run.json'):\n",
    "    with open(seq_file) as f:\n",
    "        return json.load(f)"
   ]
  },
  {
   "cell_type": "code",
   "execution_count": 46,
   "id": "7c785a25-4481-4eb5-bc10-c487926c5c44",
   "metadata": {},
   "outputs": [],
   "source": [
    "def run_sample_lmp(temp_dir_name, CPUs_per_process):\n",
    "    f = open(os.path.join(temp_dir_name, \"sample.log\"), \"w+\")\n",
    "    CPUs_per_process_arg = str(CPUs_per_process)\n",
    "    subprocess.run([\"mpiexec\", \"-np\", CPUs_per_process_arg, \"lmp\", \"-in\", \"sample.lmp\"], stdout=f, cwd=temp_dir_name)\n",
    "    f.close()"
   ]
  },
  {
   "cell_type": "code",
   "execution_count": 47,
   "id": "a32f78ac-4e34-42cd-acc1-8d543c28d891",
   "metadata": {},
   "outputs": [],
   "source": [
    "def run_simulation(gene_name, seq, temps,\n",
    "                   CPUs,\n",
    "                   CPUs_per_process, \n",
    "                   run_dirs=SIMULATION_RUN_DIRS,\n",
    "                   simulation_dir=SIMULATION_ROOT_DIR,\n",
    "                   delete_lammpstrj=True):\n",
    "    \n",
    "    if len(seq) < 40:\n",
    "        CPUs_for_first_stages = 8\n",
    "    else:\n",
    "        CPUs_for_first_stages = 16\n",
    "    \n",
    "    processes =  CPUs // CPUs_per_process\n",
    "    \n",
    "    simulation_dir_name = create_run_dir_name(gene_name)\n",
    "    simulation_dir_name = os.path.join(run_dirs, simulation_dir_name)\n",
    "    print(simulation_dir_name)\n",
    "    os.mkdir(simulation_dir_name)\n",
    "   \n",
    "    with open(os.path.join(simulation_dir_name, \"seq.txt\"), \"w+\") as f:\n",
    "        for i, letter in enumerate(seq, start=1):\n",
    "            if i < len(seq):\n",
    "                f.write(letter+\"\\n\")\n",
    "            else:\n",
    "                f.write(letter)\n",
    "        f.truncate()\n",
    "    shutil.copy(os.path.join(SIMULATION_LIBS, \"seq2config.py\"), simulation_dir_name)\n",
    "    shutil.copy(os.path.join(SIMULATION_LIBS, \"aa_charges_one_letter.txt\"), simulation_dir_name)\n",
    "    shutil.copy(os.path.join(SIMULATION_LIBS, \"aa_charges_three_letters.txt\"), simulation_dir_name)\n",
    "    shutil.copy(os.path.join(SIMULATION_LIBS, \"aa_types_three_letters.txt\"), simulation_dir_name)\n",
    "    shutil.copy(os.path.join(SIMULATION_LIBS, \"aa_types_one_letter.txt\"), simulation_dir_name)\n",
    "    shutil.copy(os.path.join(SIMULATION_LIBS, \"potentials.dat\"), simulation_dir_name)\n",
    "\n",
    "    shutil.copy(os.path.join(SIMULATION_LIBS, \"inputSingleChain.lmp\"), simulation_dir_name)\n",
    "    shutil.copy(os.path.join(SIMULATION_LIBS, \"compress.lmp\"), simulation_dir_name)\n",
    "    shutil.copy(os.path.join(SIMULATION_LIBS, \"sample.lmp\"), simulation_dir_name)\n",
    "    \n",
    "    \n",
    "    \n",
    "    subprocess.run([\"python\", \"seq2config.py\"], cwd=simulation_dir_name)\n",
    "    os.rename(os.path.join(simulation_dir_name, \"myconfig.dat\"), os.path.join(simulation_dir_name, \"initialChainConfig.dat\"))\n",
    "\n",
    "    # subprocess.run([\"python\", \"seq2config.py\"], cwd=simulation_dir_name)\n",
    "\n",
    "    print(\"step 1: running input single chain\")\n",
    "    f = open(os.path.join(simulation_dir_name, \"inputSingleChain.log\"), \"w+\")\n",
    "    subprocess.run([\"mpiexec\", \"-np\", str(CPUs_for_first_stages), \"lmp\", \"-in\", \"inputSingleChain.lmp\"], stdout=f, cwd=simulation_dir_name)\n",
    "    f.close()\n",
    "    os.rename(os.path.join(simulation_dir_name, \"finalSingleChainStructure.dat\"), os.path.join(simulation_dir_name, \"singleChainConfig.dat\"))\n",
    "\n",
    "    print(\"step 2: running compress single chain\")\n",
    "    f = open(os.path.join(simulation_dir_name, \"compress.log\"), \"w+\")\n",
    "    subprocess.run([\"mpiexec\", \"-np\", str(CPUs_for_first_stages), \"lmp\", \"-in\", \"compress.lmp\"], stdout=f, cwd=simulation_dir_name)\n",
    "    f.close()\n",
    "    os.rename(os.path.join(simulation_dir_name, \"fusfinalStructureSlab.dat\"), os.path.join(simulation_dir_name, \"initialSlab.dat\"))\n",
    "    \n",
    "    print(\"step 3: direct coexistence\")\n",
    "    with open(os.path.join(simulation_dir_name, \"replicate.lammpstrj\")) as f:\n",
    "        replicate_data = f.readlines()\n",
    "        data_to_copy = []\n",
    "        for line in replicate_data[::-1]:\n",
    "            if line == 'ITEM: ATOMS id mol type q xu yu zu\\n':\n",
    "                break\n",
    "            else:\n",
    "                data_to_copy.append(line)\n",
    "        data_to_copy = [line for line in data_to_copy[::-1]]\n",
    "\n",
    "    with open(os.path.join(simulation_dir_name, \"initialSlab.dat\")) as f:\n",
    "        slab_data = f.read()\n",
    "\n",
    "    data_to_swap = \"\".join(data_to_copy)\n",
    "\n",
    "    slab_data = re.sub(r'(Atoms # full\\n)([\\n\\s0-9-.e]*)', rf'\\1\\n{data_to_swap}', slab_data)\n",
    "    slab_data = re.sub(r'Velocities([\\n\\s0-9-.e]*)', r'\\n', slab_data)\n",
    "\n",
    "    zlo_zhi = re.findall(r\"\\d.+\\szlo zhi\\n\", slab_data)\n",
    "\n",
    "    zlo, zhi = [float(v.strip()) for v in zlo_zhi[0].split(\" \")[:2]]\n",
    "\n",
    "    deltaZ = (zhi- zlo)*2\n",
    "\n",
    "    zhi = zhi+deltaZ\n",
    "\n",
    "    zlo = zlo - deltaZ\n",
    "\n",
    "    zlo_zhi_r = f'\\n{zlo} {zhi} zlo zhi'\n",
    "\n",
    "    slab_data = re.sub(r'\\n.*zlo zhi', zlo_zhi_r, slab_data)\n",
    "\n",
    "    with open(os.path.join(simulation_dir_name, \"initialSlab.dat\"), 'w+') as f:\n",
    "        f.write(slab_data)\n",
    "    \n",
    "   \n",
    "    temp_buf = []\n",
    "    for temp in sorted(temps):\n",
    "        temp_dir_name = os.path.join(simulation_dir_name, str(temp))\n",
    "        if not os.path.exists(temp_dir_name):\n",
    "            os.mkdir(temp_dir_name)\n",
    "        shutil.copy(os.path.join(SIMULATION_LIBS, \"potentials.dat\"), temp_dir_name)\n",
    "        shutil.copy(os.path.join(SIMULATION_LIBS, \"da.py\"), temp_dir_name)\n",
    "        shutil.copy(os.path.join(simulation_dir_name, \"initialSlab.dat\"), temp_dir_name)\n",
    "        with open(os.path.join(SIMULATION_LIBS, \"sample.lmp\")) as f:\n",
    "            sample_lmp = f.read()\n",
    "        sample_lmp = re.sub(\n",
    "           r\"(variable temperature equal)(\\s\\d+)\", \n",
    "           rf\"\\1 {temp}\", \n",
    "           sample_lmp\n",
    "        )\n",
    "       \n",
    "        with open(os.path.join(temp_dir_name, \"sample.lmp\"), \"w+\") as f:\n",
    "           f.write(sample_lmp)\n",
    "\n",
    "        temp_buf.append({\"temp\": temp, \"dir\": temp_dir_name})\n",
    "        if len(temp_buf) == proccesses:\n",
    "            print(f\"running {temp_buf}\")\n",
    "            print(get_curr_time())\n",
    "            start_time = time.time()\n",
    "            with multiprocessing.Pool(len(temp_buf)) as pool:\n",
    "                params = [(v[\"dir\"],) for v in temp_buf]\n",
    "                results = [pool.apply_async(run_sample_lmp, args = p + (CPUs_per_process,)) for p in params]\n",
    "    \n",
    "                for r in results:\n",
    "                    r.get()\n",
    "                    #print('\\t', r.get())\n",
    "            temp_buf = []\n",
    "            print(f'execution time: {(time.time() - start_time) / (60*60)} hours')\n",
    "            print(get_curr_time())\n",
    "    \n",
    "    if temp_buf:\n",
    "        print(f\"running {temp_buf}\")\n",
    "        print(f\"remaining temp, CPUs_pp = {CPUs//len(temp_buf)}\")\n",
    "        print(get_curr_time())\n",
    "        \n",
    "        start_time = time.time()\n",
    "        #with multiprocessing.Pool(CPUs_per_process) as pool:\n",
    "        with multiprocessing.Pool(len(temp_buf)) as pool:\n",
    "            params = [(v[\"dir\"],) for v in temp_buf]\n",
    "            results = [pool.apply_async(run_sample_lmp, args = p + (CPUs//len(temp_buf),)) for p in params]\n",
    "\n",
    "            for r in results:\n",
    "                r.get()\n",
    "                # rint('\\t', r.get())\n",
    "        temp_buf = []\n",
    "        print(f'execution time: {(time.time() - start_time) / (60*60)} hours')\n",
    "        print(get_curr_time())\n",
    "\n",
    "\n",
    "    if delete_lammpstrj:\n",
    "        for temp_folder in next(os.walk(simulation_dir_name))[1]:\n",
    "            for file in os.listdir(os.path.join(simulation_dir_name, temp_folder)):\n",
    "                if file.endswith(\"lammpstrj\"):\n",
    "                    # print(os.path.join(\"simulation\", \"runs\", r_folder, temp_folder, file))\n",
    "                    os.remove(os.path.join(simulation_dir_name, temp_folder, file))\n",
    "        for file in next(os.walk(simulation_dir_name))[2]:\n",
    "            if file.endswith(\"lammpstrj\"):\n",
    "                # print(os.path.join(\"simulation\", \"runs\", r_folder, temp_folder, file))\n",
    "                os.remove(os.path.join(simulation_dir_name, file))\n",
    "        \n",
    "    try:    \n",
    "        #Calculating ps densities\n",
    "        print(\"calculating ps densities\")\n",
    "        if not os.path.exists(os.path.join(simulation_dir_name, \"ps_densities\")):\n",
    "            os.mkdir(os.path.join(simulation_dir_name, \"ps_densities\"))\n",
    "        \n",
    "        shutil.copy(os.path.join(SIMULATION_LIBS, \"ppd.py\"), os.path.join(simulation_dir_name, \"ps_densities\"))\n",
    "        for temp in next(os.walk(simulation_dir_name))[1]:\n",
    "            if temp != \"ps_densities\":\n",
    "                print(os.path.join(simulation_dir_name, str(temp)))\n",
    "                subprocess.run([\"python\", \"da.py\", \"densities_chunked2.dat\"], cwd=os.path.join(simulation_dir_name, str(temp)))\n",
    "                os.rename(os.path.join(simulation_dir_name, temp, \"densities_chunked2.dat_concentrations.txt\"),\n",
    "                          os.path.join(simulation_dir_name, \"ps_densities\", f\"densities_chunked_temp{temp}.txt\"))\n",
    "    \n",
    "        subprocess.run([\"python\", \"ppd.py\"], cwd=os.path.join(simulation_dir_name, \"ps_densities\"))\n",
    "    \n",
    "    except Exception:\n",
    "        pass\n",
    "        \n",
    "        # f = open(os.path.join(simulation_dir_name, \"compress.log\"), \"w+\")\n",
    "        # subprocess.run([\"mpiexec\", \"-np\", f\"CPUs_per_process\", \"lmp\", \"-in\", \"sample.lmp\"], stdout=f, cwd=temp_dir_name)\n",
    "        # f.close()\n"
   ]
  },
  {
   "cell_type": "code",
   "execution_count": 119,
   "id": "ef4dd110-98d3-41f0-8567-05dcf7751e44",
   "metadata": {},
   "outputs": [],
   "source": [
    "simulations_completed = ['EWSR1_-10G+10T',\n",
    "                         'VPAP_HCMVA_P16790_Wildtype',\n",
    "                         \"SUPT6H(Q7KZ85)_Wildtype\", \n",
    "                         \"MCDB_SYNE7_Q8GJM6_Wildtype\",\n",
    "                         \"LORF1_-5S+5T\"]"
   ]
  },
  {
   "cell_type": "code",
   "execution_count": 13,
   "id": "470b6045-9b7b-44f9-a3da-ce1dedc4b431",
   "metadata": {},
   "outputs": [],
   "source": [
    "def get_completed_simulations():\n",
    "    sim_dirs = next(os.walk(os.path.join(\"simulation\", \"runs\")))[1]\n",
    "    comp_sims = [\"_\".join(dir_name.split(\"_\")[:-6]) for dir_name in sim_dirs if dir_name!='']\n",
    "    return [sim for sim in comp_sims if sim]"
   ]
  },
  {
   "cell_type": "code",
   "execution_count": 16,
   "id": "64cdb95d-d202-4c6a-92df-e0406a8d6a9d",
   "metadata": {},
   "outputs": [
    {
     "data": {
      "text/plain": [
       "['TIA_-5w+5f_j',\n",
       " 'HOME3_-4S+4T',\n",
       " 'SUPT6H(Q7KZ85)_Wildtype',\n",
       " 'LORF1_Q9UN81_Wildtype',\n",
       " 'TIA_-5w+5f',\n",
       " 'LORF1_-5S+5T',\n",
       " 'TIA_-5w+5f_j',\n",
       " 'VPAP_HCMVA_P16790_Wildtype',\n",
       " 'CEP3_HHV11_P04289_Wildtype',\n",
       " 'MCDB_SYNE7_Q8GJM6_Wildtype',\n",
       " 'HOME3_Q9NSC5_Wildtype',\n",
       " 'EWSR1_-10G+10T',\n",
       " 'GAG_-5S+5T',\n",
       " 'GAG_-5T+5G']"
      ]
     },
     "execution_count": 16,
     "metadata": {},
     "output_type": "execute_result"
    }
   ],
   "source": [
    "simulations_completed = get_completed_simulations()\n",
    "simulations_completed"
   ]
  },
  {
   "cell_type": "code",
   "execution_count": 17,
   "id": "fb3e4ac9-9b05-494c-89ab-097bd683c115",
   "metadata": {
    "scrolled": true
   },
   "outputs": [
    {
     "data": {
      "text/plain": [
       "{'AVPGVG': {'seq': 'PAVPGVGAVPGVGAVPGVGAVPGVGG',\n",
       "  'temps': [250,\n",
       "   270,\n",
       "   290,\n",
       "   300,\n",
       "   307,\n",
       "   314,\n",
       "   321,\n",
       "   328,\n",
       "   335,\n",
       "   342,\n",
       "   349,\n",
       "   356,\n",
       "   363,\n",
       "   370]},\n",
       " 'AVPGVGAVPGVGAVPGVGAVPGVGAVPGVGCVPGVG': {'seq': 'PAVPGVGAVPGVGAVPGVGAVPGVGAVPGVGCVPGVGAVPGVGAVPGVGAVPGVGAVPGVGAVPGVGCVPGVGAVPGVGAVPGVGAVPGVGAVPGVGAVPGVGCVPGVGAVPGVGAVPGVGAVPGVGAVPGVGAVPGVGCVPGVGG',\n",
       "  'temps': [250,\n",
       "   270,\n",
       "   290,\n",
       "   300,\n",
       "   307,\n",
       "   314,\n",
       "   321,\n",
       "   328,\n",
       "   335,\n",
       "   342,\n",
       "   349,\n",
       "   356,\n",
       "   363,\n",
       "   370]},\n",
       " 'C7GS49_YEAS2_Wildtype': {'seq': 'MSFLSKLSQIRKSTTASKAQVQDPLPKKNDEEYSLLPKNYIRDEDPAVKRLKELRRQELLKNGALAKKSGVKRKRGTSSGSEKKKIERNDDDEGGIGIRFKRSIGASHAPLKPVVRKKPEPIKKMSFEELMKQAENNEKQPPKVKSSEPVTKERPHFNKPGFKSSKRPQKKASPGATLRGVSSGGNSIKSSDSPKPVKLNLSTNGFAQPNRRLKEKLESRKQKSRYQDDYDEEDNDMDDFIEDDEDEGYHSKSKHSNGPGYDRDEIWAMFNRGKKRSEYDYDELE',\n",
       "  'temps': [250,\n",
       "   270,\n",
       "   290,\n",
       "   300,\n",
       "   307,\n",
       "   314,\n",
       "   321,\n",
       "   328,\n",
       "   335,\n",
       "   342,\n",
       "   349,\n",
       "   356,\n",
       "   363,\n",
       "   370]},\n",
       " 'CHKB_Q9Y259_Wildtype': {'seq': 'MAAEATAVAGSGAVGGCLAKDGLQQSKCPDTTPKRRRASSLSRDAER',\n",
       "  'temps': [250,\n",
       "   270,\n",
       "   290,\n",
       "   300,\n",
       "   307,\n",
       "   314,\n",
       "   321,\n",
       "   328,\n",
       "   335,\n",
       "   342,\n",
       "   349,\n",
       "   356,\n",
       "   363,\n",
       "   370]},\n",
       " 'CLPT1_O96005_Wildtype': {'seq': 'MAAAQEADGARSAVVAAGGGSSGQVTSNGSIGRDPPAETQPQNPPAQPAPNAWQVIKGVLFRIFIIWAISSWFRRGPAPQDQAGPGGAPR',\n",
       "  'temps': [250,\n",
       "   270,\n",
       "   290,\n",
       "   300,\n",
       "   307,\n",
       "   314,\n",
       "   321,\n",
       "   328,\n",
       "   335,\n",
       "   342,\n",
       "   349,\n",
       "   356,\n",
       "   363,\n",
       "   370]},\n",
       " 'CTDP1_Q9Y5B0_Wildtype': {'seq': 'FEAAASAQSSGASQSRVASGGCVRPARPERR',\n",
       "  'temps': [250,\n",
       "   270,\n",
       "   290,\n",
       "   300,\n",
       "   307,\n",
       "   314,\n",
       "   321,\n",
       "   328,\n",
       "   335,\n",
       "   342,\n",
       "   349,\n",
       "   356,\n",
       "   363,\n",
       "   370]},\n",
       " 'CX05A_A0A1B0GTR3_Wildtype': {'seq': 'MAKVTSEPQKPNEDVDEQTPSTSSTKGRKKGKTPRQRRSRSGVKGLKTTRKAKRPLRGSSSQKAGETNTPAGKPKKARGPILRGRYHRLKEKMKKEEADKEQSETSVL',\n",
       "  'temps': [250,\n",
       "   270,\n",
       "   290,\n",
       "   300,\n",
       "   307,\n",
       "   314,\n",
       "   321,\n",
       "   328,\n",
       "   335,\n",
       "   342,\n",
       "   349,\n",
       "   356,\n",
       "   363,\n",
       "   370]},\n",
       " 'DAXX_Q9UER7': {'seq': 'MATANSIIVLDDDDEDEAAAQPGPSHPLPNAASPGAEAPSSSEPHGARGSSSSGGKKC',\n",
       "  'temps': [250,\n",
       "   270,\n",
       "   290,\n",
       "   300,\n",
       "   307,\n",
       "   314,\n",
       "   321,\n",
       "   328,\n",
       "   335,\n",
       "   342,\n",
       "   349,\n",
       "   356,\n",
       "   363,\n",
       "   370]},\n",
       " 'DISP2_-10S+10T': {'seq': 'MDGDSTSTSGGSGPAPGPGPEGEQRPEGEPLAPDGGSPDTTQTKAVPPEASPERTCSLHSCPLEDPSTSTGPPPTTSTLQPVGPSTPLAPAHFTYPRALQEYQGGSTLPGLGDRAALCSHGTSLTPSPAPSQRDGTWKPPAVQHHVVSVRQERAFQMPKSY',\n",
       "  'temps': [250,\n",
       "   270,\n",
       "   290,\n",
       "   300,\n",
       "   307,\n",
       "   314,\n",
       "   321,\n",
       "   328,\n",
       "   335,\n",
       "   342,\n",
       "   349,\n",
       "   356,\n",
       "   363,\n",
       "   370]},\n",
       " 'DISP2_-20S+20T': {'seq': 'MDGDSTTTTGGTGPAPGPGPEGEQRPEGEPLAPDGGSPDTTQTKAVPPEATPERTCTLHTCPLEDPSTTTGPPPTTSTLQPVGPSTPLAPAHFTYPRALQEYQGGSTLPGLGDRAALCSHGTSLTPTPAPTQRDGTWKPPAVQHHVVSVRQERAFQMPKTY',\n",
       "  'temps': [250,\n",
       "   270,\n",
       "   290,\n",
       "   300,\n",
       "   307,\n",
       "   314,\n",
       "   321,\n",
       "   328,\n",
       "   335,\n",
       "   342,\n",
       "   349,\n",
       "   356,\n",
       "   363,\n",
       "   370]},\n",
       " 'DISP2_A7MBM2_Wildtype': {'seq': 'MDGDSSSSSGGSGPAPGPGPEGEQRPEGEPLAPDGGSPDSTQTKAVPPEASPERSCSLHSCPLEDPSSSSGPPPTTSTLQPVGPSSPLAPAHFTYPRALQEYQGGSSLPGLGDRAALCSHGSSLSPSPAPSQRDGTWKPPAVQHHVVSVRQERAFQMPKSY',\n",
       "  'temps': [250,\n",
       "   270,\n",
       "   290,\n",
       "   300,\n",
       "   307,\n",
       "   314,\n",
       "   321,\n",
       "   328,\n",
       "   335,\n",
       "   342,\n",
       "   349,\n",
       "   356,\n",
       "   363,\n",
       "   370]},\n",
       " 'ENO4_A6NNW6_Wildtype': {'seq': 'STVPTPLPPVPPPPPPPPPTKKKGQKPGRKDTITEKPIAPA',\n",
       "  'temps': [250,\n",
       "   270,\n",
       "   290,\n",
       "   300,\n",
       "   307,\n",
       "   314,\n",
       "   321,\n",
       "   328,\n",
       "   335,\n",
       "   342,\n",
       "   349,\n",
       "   356,\n",
       "   363,\n",
       "   370]},\n",
       " 'EWSR1_-10G+10T': {'seq': 'MASTDYSTYSQAAAQQTYSAYTAQPTQGYAQTTQAYGQQSYTTYGQPTDVSYTQAQTTATYGQTAYATSYTQPPTGYTTPTAPQAYSQPVQGYTTGAYDTTTATVTTTQASYAAQSAYGTQTAYPAYGQQPAATAPTRPQDTNKPTETSQPQSSTGTYNQPSLGYGQSNYSYPQVPTSYPMQPVTAPPSYPPTSYSSTQPTSYDQSSYSQQNTYGQPSSYGQQSSYTQQSSYGQQPPTSYPPQTGSYSQAPSQYSQQSSSYTQQSSFRQDHPSSMGVYGQ',\n",
       "  'temps': [250,\n",
       "   270,\n",
       "   290,\n",
       "   300,\n",
       "   307,\n",
       "   314,\n",
       "   321,\n",
       "   328,\n",
       "   335,\n",
       "   342,\n",
       "   349,\n",
       "   356,\n",
       "   363,\n",
       "   370]},\n",
       " 'EWSR1_-10Q+10N': {'seq': 'MASTDYSTYSNAAAQQGYSAYTAQPTQGYANTTQAYGQQSYGTYGQPTDVSYTNAQTTATYGQTAYATSYGQPPTGYTTPTAPQAYSNPVQGYGTGAYDTTTATVTTTQASYAAQSAYGTQPAYPAYGNQPAATAPTRPQDGNKPTETSQPQSSTGGYNNPSLGYGQSNYSYPQVPGSYPMQPVTAPPSYPPTSYSSTQPTSYDNSSYSQQNTYGQPSSYGQNSSYGQQSSYGQQPPTSYPPNTGSYSQAPSQYSQQSSSYGNQSSFRQDHPSSMGVYGQ',\n",
       "  'temps': [250,\n",
       "   270,\n",
       "   290,\n",
       "   300,\n",
       "   307,\n",
       "   314,\n",
       "   321,\n",
       "   328,\n",
       "   335,\n",
       "   342,\n",
       "   349,\n",
       "   356,\n",
       "   363,\n",
       "   370]},\n",
       " 'EWSR1_-10S+10t': {'seq': 'MATTDYSTYSQAAAQQGYTAYTAQPTQGYAQTTQAYGQQSYGTYGQPTDVSYTQAQTTATYGQTAYATTYGQPPTGYTTPTAPQAYSQPVQGYGTGAYDTTTATVTTTQASYAAQSAYGTQPAYPAYGQQPAATAPTRPQDGNKPTETTQPQSSTGGYNQPSLGYGQTNYSYPQVPGSYPMQPVTAPPSYPPTSYTSTQPTSYDQSSYSQQNTYGQPTSYGQQSSYGQQSTYGQQPPTSYPPQTGSYTQAPSQYSQQSSTYGQQSSFRQDHPSSMGVYGQ',\n",
       "  'temps': [250,\n",
       "   270,\n",
       "   290,\n",
       "   300,\n",
       "   307,\n",
       "   314,\n",
       "   321,\n",
       "   328,\n",
       "   335,\n",
       "   342,\n",
       "   349,\n",
       "   356,\n",
       "   363,\n",
       "   370]},\n",
       " 'EWSR1_-10T+10G': {'seq': 'MASGDYSTYSQAAAQQGYSAYTAQPTQGYAQGTQAYGQQSYGTYGQPTDVSYGQAQTTATYGQGAYATSYGQPPTGYTGPTAPQAYSQPVQGYGTGAYDTGTATVTGTQASYAAQSAYGTQPAYPAYGQQPAATAPGRPQDGNKPTETSQPQSSTGGYNQPSLGYGQSNYSYPQVPGSYPMQPVGAPPSYPPTSYSSTQPTSYDQSSYSQQNGYGQPSSYGQQSSYGQQSSYGQQPPTSYPPQTGSYSQAPSQYSQQSSSYGQQSSFRQDHPSSMGVYGQ',\n",
       "  'temps': [250,\n",
       "   270,\n",
       "   290,\n",
       "   300,\n",
       "   307,\n",
       "   314,\n",
       "   321,\n",
       "   328,\n",
       "   335,\n",
       "   342,\n",
       "   349,\n",
       "   356,\n",
       "   363,\n",
       "   370]},\n",
       " 'EWSR1_-10t+10s': {'seq': 'MASTDYSSYSQAAAQQGYSAYTAQPTQGYAQTSQAYGQQSYGTYGQPTDVSYTQAQSTATYGQTAYASSYGQPPTGYTTPSAPQAYSQPVQGYGTGAYDTTSATVTTSQASYAAQSAYGTQPAYPAYGQQPAATAPTRPQDGNKPSETSQPQSSTGGYNQPSLGYGQSNYSYPQVPGSYPMQPVTAPPSYPPSSYSSTQPTSYDQSSYSQQNTYGQPSSYGQQSSYGQQSSYGQQPPSSYPPQTGSYSQAPSQYSQQSSSYGQQSSFRQDHPSSMGVYGQ',\n",
       "  'temps': [250,\n",
       "   270,\n",
       "   290,\n",
       "   300,\n",
       "   307,\n",
       "   314,\n",
       "   321,\n",
       "   328,\n",
       "   335,\n",
       "   342,\n",
       "   349,\n",
       "   356,\n",
       "   363,\n",
       "   370]},\n",
       " 'EWSR1_-10Y': {'seq': 'MASTDTSTQSQAAAQQGSSAGTAQPTQGYAQTTQAYGQQSYGTYGQPTDVSYTQAQTTATYGQTATATSYGQPPTGQTTPTAPQAYSQPVQGSGTGAYDTTTATVTTTQASGAAQSAYGTQPAYPAYGQQPAATAPTRPQDGNKPTETSQPQSSTGGTNQPSLGYGQSNYSYPQVPGSYPMQPVTAPPSSPPTSYSSTQPTSYDQSSYSQQNTYGQPSSYGQQSSYGQQSSYGQQPPTSYPPQTGSYSQAPSQYSQQSSSYGQQSSFRQDHPSSMGVYGQ',\n",
       "  'temps': [250,\n",
       "   270,\n",
       "   290,\n",
       "   300,\n",
       "   307,\n",
       "   314,\n",
       "   321,\n",
       "   328,\n",
       "   335,\n",
       "   342,\n",
       "   349,\n",
       "   356,\n",
       "   363,\n",
       "   370]},\n",
       " 'EWSR1_-20G+20T': {'seq': 'MASTDYSTYSQAAAQQTYSAYTAQPTQTYAQTTQAYGQQSYTTYTQPTDVSYTQAQTTATYGQTAYATSYTQPPTTYTTPTAPQAYSQPVQGYTTTAYDTTTATVTTTQASYAAQSAYGTQPAYPAYTQQPAATAPTRPQDTNKPTETSQPQSSTGTYNQPSLTYTQSNYSYPQVPTSYPMQPVTAPPSYPPTSYSSTQPTSYDQSSYSQQNTYGQPSSYTQQSSYTQQSSYGQQPPTSYPPQTTSYSQAPSQYSQQSSSYTQQSSFRQDHPSSMTVYTQ',\n",
       "  'temps': [250,\n",
       "   270,\n",
       "   290,\n",
       "   300,\n",
       "   307,\n",
       "   314,\n",
       "   321,\n",
       "   328,\n",
       "   335,\n",
       "   342,\n",
       "   349,\n",
       "   356,\n",
       "   363,\n",
       "   370]},\n",
       " 'EWSR1_-20Q+20N': {'seq': 'MASTDYSTYSNAAAQNGYSAYTAQPTQGYANTTQAYGNQSYGTYGNPTDVSYTNAQTTATYGQTAYATSYGNPPTGYTTPTAPQAYSNPVQGYGTGAYDTTTATVTTTNASYAAQSAYGTQPAYPAYGNQPAATAPTRPNDGNKPTETSQPNSSTGGYNQPSLGYGQSNYSYPNVPGSYPMQPVTAPPSYPPTSYSSTNPTSYDQSSYSNQNTYGQPSSYGNQSSYGNQSSYGQNPPTSYPPQTGSYSNAPSQYSNQSSSYGQQSSFRQDHPSSMGVYGQ',\n",
       "  'temps': [250,\n",
       "   270,\n",
       "   290,\n",
       "   300,\n",
       "   307,\n",
       "   314,\n",
       "   321,\n",
       "   328,\n",
       "   335,\n",
       "   342,\n",
       "   349,\n",
       "   356,\n",
       "   363,\n",
       "   370]},\n",
       " 'EWSR1_-20S+20T': {'seq': 'MATTDYSTYTQAAAQQGYSAYTAQPTQGYAQTTQAYGQQTYGTYGQPTDVSYTQAQTTATYGQTAYATTYGQPPTGYTTPTAPQAYSQPVQGYGTGAYDTTTATVTTTQATYAAQSAYGTQPAYPAYGQQPAATAPTRPQDGNKPTETTQPQSTTGGYNQPSLGYGQTNYSYPQVPGTYPMQPVTAPPSYPPTTYSTTQPTSYDQTSYTQQNTYGQPSTYGQQSTYGQQSTYGQQPPTSYPPQTGTYSQAPTQYSQQTSTYGQQSSFRQDHPSSMGVYGQ',\n",
       "  'temps': [250,\n",
       "   270,\n",
       "   290,\n",
       "   300,\n",
       "   307,\n",
       "   314,\n",
       "   321,\n",
       "   328,\n",
       "   335,\n",
       "   342,\n",
       "   349,\n",
       "   356,\n",
       "   363,\n",
       "   370]},\n",
       " 'EWSR1_-20T+20G': {'seq': 'MASGDYSTYSQAAAQQGYSAYGAQPTQGYAQGTQAYGQQSYGGYGQPTDVSYGQAQTGATYGQGAYATSYGQPPGGYTGPTAPQAYSQPVQGYGGGAYDTGTAGVTGTQASYAAQSAYGGQPAYPAYGQQPAATAPGRPQDGNKPTEGSQPQSSTGGYNQPSLGYGQSNYSYPQVPGSYPMQPVGAPPSYPPTSYSSGQPTSYDQSSYSQQNGYGQPSSYGQQSSYGQQSSYGQQPPTSYPPQGGSYSQAPSQYSQQSSSYGQQSSFRQDHPSSMGVYGQ',\n",
       "  'temps': [250,\n",
       "   270,\n",
       "   290,\n",
       "   300,\n",
       "   307,\n",
       "   314,\n",
       "   321,\n",
       "   328,\n",
       "   335,\n",
       "   342,\n",
       "   349,\n",
       "   356,\n",
       "   363,\n",
       "   370]},\n",
       " 'EWSR1_-20T+20S': {'seq': 'MASSDYSTYSQAAAQQGYSAYSAQPTQGYAQSTQAYGQQSYGSYGQPTDVSYSQAQTSATYGQSAYATSYGQPPSGYTSPTAPQAYSQPVQGYGSGAYDTSTASVTSTQASYAAQSAYGSQPAYPAYGQQPAATAPSRPQDGNKPTESSQPQSSTGGYNQPSLGYGQSNYSYPQVPGSYPMQPVSAPPSYPPTSYSSSQPTSYDQSSYSQQNSYGQPSSYGQQSSYGQQSSYGQQPPTSYPPQSGSYSQAPSQYSQQSSSYGQQSSFRQDHPSSMGVYGQ',\n",
       "  'temps': [250,\n",
       "   270,\n",
       "   290,\n",
       "   300,\n",
       "   307,\n",
       "   314,\n",
       "   321,\n",
       "   328,\n",
       "   335,\n",
       "   342,\n",
       "   349,\n",
       "   356,\n",
       "   363,\n",
       "   370]},\n",
       " 'EWSR1_-20Y': {'seq': 'MASTDTSTQSQAAAQQGSSAGTAQPTQGYAQTTQAYGQQSTGTYGQPTDVSQTQAQTTATYGQTASATSYGQPPTGTTTPTAPQAGSQPVQGYGTGAQDTTTATVTTTQASYAAQSAYGTQPATPASGQQPAATAPTRPQDGNKPTETSQPQSSTGGYNQPSLGYGQSNQSGPQVPGSTPMQPVTAPPSYPPTSYSSTQPTSSDQSSYSQQNTQGQPSSTGQQSSYGQQSSYGQQPPTSGPPQTGSYSQAPSQYSQQSSSSGQQSSFRQDHPSSMGVYGQ',\n",
       "  'temps': [250,\n",
       "   270,\n",
       "   290,\n",
       "   300,\n",
       "   307,\n",
       "   314,\n",
       "   321,\n",
       "   328,\n",
       "   335,\n",
       "   342,\n",
       "   349,\n",
       "   356,\n",
       "   363,\n",
       "   370]},\n",
       " 'EWSR1_-20Y+20F': {'seq': 'MASTDFSTYSQAAAQQGFSAYTAQPTQGFAQTTQAYGQQSFGTYGQPTDVSFTQAQTTATYGQTAFATSYGQPPTGFTTPTAPQAYSQPVQGFGTGAFDTTTATVTTTQASYAAQSAFGTQPAYPAFGQQPAATAPTRPQDGNKPTETSQPQSSTGGYNQPSLGFGQSNYSFPQVPGSYPMQPVTAPPSFPPTSYSSTQPTSFDQSSYSQQNTFGQPSSYGQQSSFGQQSSYGQQPPTSFPPQTGSYSQAPSQFSQQSSSYGQQSSFRQDHPSSMGVFGQ',\n",
       "  'temps': [250,\n",
       "   270,\n",
       "   290,\n",
       "   300,\n",
       "   307,\n",
       "   314,\n",
       "   321,\n",
       "   328,\n",
       "   335,\n",
       "   342,\n",
       "   349,\n",
       "   356,\n",
       "   363,\n",
       "   370]},\n",
       " 'EWSR1_-30S+30T': {'seq': 'MATTDYTTYTQAAAQQGYSAYTAQPTQGYAQTTQAYGQQTYGTYGQPTDVTYTQAQTTATYGQTAYATTYGQPPTGYTTPTAPQAYSQPVQGYGTGAYDTTTATVTTTQATYAAQTAYGTQPAYPAYGQQPAATAPTRPQDGNKPTETTQPQSTTGGYNQPTLGYGQTNYSYPQVPGTYPMQPVTAPPTYPPTTYSTTQPTTYDQTTYTQQNTYGQPTTYGQQSTYGQQTTYGQQPPTSYPPQTGTYSQAPTQYTQQSTSYGQQTSFRQDHPSSMGVYGQ',\n",
       "  'temps': [250,\n",
       "   270,\n",
       "   290,\n",
       "   300,\n",
       "   307,\n",
       "   314,\n",
       "   321,\n",
       "   328,\n",
       "   335,\n",
       "   342,\n",
       "   349,\n",
       "   356,\n",
       "   363,\n",
       "   370]},\n",
       " 'EWSR1_-30T+30G': {'seq': 'MASGDYSTYSQAAAQQGYSAYGAQPGQGYAQGTQAYGQQSYGGYGQPGDVSYGQAQTGAGYGQGAYATSYGQPPTGYGGPGAPQAYSQPVQGYGTGAYDGGTAGVGGTQASYAAQSAYGGQPAYPAYGQQPAAGAPTRPQDGNKPGEGSQPQSSGGGYNQPSLGYGQSNYSYPQVPGSYPMQPVGAPPSYPPGSYSSGQPGSYDQSSYSQQNGYGQPSSYGQQSSYGQQSSYGQQPPGSYPPQGGSYSQAPSQYSQQSSSYGQQSSFRQDHPSSMGVYGQ',\n",
       "  'temps': [250,\n",
       "   270,\n",
       "   290,\n",
       "   300,\n",
       "   307,\n",
       "   314,\n",
       "   321,\n",
       "   328,\n",
       "   335,\n",
       "   342,\n",
       "   349,\n",
       "   356,\n",
       "   363,\n",
       "   370]},\n",
       " 'EWSR1_-30T+30S': {'seq': 'MASSDYSTYSQAAAQQGYSAYSAQPSQGYAQSTQAYGQQSYGSYGQPSDVSYSQAQTSASYGQSAYATSYGQPPSGYSSPSAPQAYSQPVQGYGTGAYDSSSATVSSSQASYAAQSAYGTQPAYPAYGQQPAATAPSRPQDGNKPSESSQPQSSTGGYNQPSLGYGQSNYSYPQVPGSYPMQPVSAPPSYPPSSYSSSQPSSYDQSSYSQQNSYGQPSSYGQQSSYGQQSSYGQQPPSSYPPQSGSYSQAPSQYSQQSSSYGQQSSFRQDHPSSMGVYGQ',\n",
       "  'temps': [250,\n",
       "   270,\n",
       "   290,\n",
       "   300,\n",
       "   307,\n",
       "   314,\n",
       "   321,\n",
       "   328,\n",
       "   335,\n",
       "   342,\n",
       "   349,\n",
       "   356,\n",
       "   363,\n",
       "   370]},\n",
       " 'EWSR1_-30Y+30F': {'seq': 'MASTDFSTFSQAAAQQGYSAFTAQPTQGFAQTTQAFGQQSFGTYGQPTDVSFTQAQTTATFGQTAFATSFGQPPTGYTTPTAPQAFSQPVQGFGTGAFDTTTATVTTTQASFAAQSAFGTQPAYPAFGQQPAATAPTRPQDGNKPTETSQPQSSTGGFNQPSLGFGQSNFSYPQVPGSFPMQPVTAPPSFPPTSFSSTQPTSFDQSSFSQQNTFGQPSSFGQQSSFGQQSSFGQQPPTSFPPQTGSFSQAPSQYSQQSSSYGQQSSFRQDHPSSMGVYGQ',\n",
       "  'temps': [250,\n",
       "   270,\n",
       "   290,\n",
       "   300,\n",
       "   307,\n",
       "   314,\n",
       "   321,\n",
       "   328,\n",
       "   335,\n",
       "   342,\n",
       "   349,\n",
       "   356,\n",
       "   363,\n",
       "   370]},\n",
       " 'EWSR1_-4N+4Q': {'seq': 'MASTDYSTYSQAAAQQGYSAYTAQPTQGYAQTTQAYGQQSYGTYGQPTDVSYTQAQTTATYGQTAYATSYGQPPTGYTTPTAPQAYSQPVQGYGTGAYDTTTATVTTTQASYAAQSAYGTQPAYPAYGQQPAATAPTRPQDGQKPTETSQPQSSTGGYQQPSLGYGQSQYSYPQVPGSYPMQPVTAPPSYPPTSYSSTQPTSYDQSSYSQQQTYGQPSSYGQQSSYGQQSSYGQQPPTSYPPQTGSYSQAPSQYSQQSSSYGQQSSFRQDHPSSMGVYGQ',\n",
       "  'temps': [250,\n",
       "   270,\n",
       "   290,\n",
       "   300,\n",
       "   307,\n",
       "   314,\n",
       "   321,\n",
       "   328,\n",
       "   335,\n",
       "   342,\n",
       "   349,\n",
       "   356,\n",
       "   363,\n",
       "   370]},\n",
       " 'EWSR1_-5Q+5N': {'seq': 'MASTDYSTYSNAAAQQGYSAYTAQPTQGYAQTTQAYGQQSYGTYGQPTDVSYTNAQTTATYGQTAYATSYGQPPTGYTTPTAPQAYSQPVQGYGTGAYDTTTATVTTTQASYAAQSAYGTQPAYPAYGNQPAATAPTRPQDGNKPTETSQPQSSTGGYNQPSLGYGQSNYSYPQVPGSYPMQPVTAPPSYPPTSYSSTQPTSYDNSSYSQQNTYGQPSSYGQQSSYGQQSSYGQQPPTSYPPNTGSYSQAPSQYSQQSSSYGQQSSFRQDHPSSMGVYGQ',\n",
       "  'temps': [250,\n",
       "   270,\n",
       "   290,\n",
       "   300,\n",
       "   307,\n",
       "   314,\n",
       "   321,\n",
       "   328,\n",
       "   335,\n",
       "   342,\n",
       "   349,\n",
       "   356,\n",
       "   363,\n",
       "   370]},\n",
       " 'EWSR1_-5Y': {'seq': 'MASTDTSTYSQAAAQQGYSAYTAQPTQGYAQTTQAYGQQSYGTYGQPTDVSYTQAQTTATYGQTAYATSQGQPPTGYTTPTAPQAYSQPVQGSGTGAYDTTTATVTTTQASGAAQSAYGTQPAYPAYGQQPAATAPTRPQDGNKPTETSQPQSSTGGYNQPSLGTGQSNYSYPQVPGSYPMQPVTAPPSYPPTSYSSTQPTSYDQSSYSQQNTYGQPSSYGQQSSYGQQSSYGQQPPTSYPPQTGSYSQAPSQYSQQSSSYGQQSSFRQDHPSSMGVYGQ',\n",
       "  'temps': [250,\n",
       "   270,\n",
       "   290,\n",
       "   300,\n",
       "   307,\n",
       "   314,\n",
       "   321,\n",
       "   328,\n",
       "   335,\n",
       "   342,\n",
       "   349,\n",
       "   356,\n",
       "   363,\n",
       "   370]},\n",
       " 'EWSR1_-5Y+5F': {'seq': 'MASTDYSTFSQAAAQQGYSAYTAQPTQGYAQTTQAYGQQSYGTYGQPTDVSYTQAQTTATFGQTAYATSYGQPPTGYTTPTAPQAYSQPVQGYGTGAFDTTTATVTTTQASYAAQSAYGTQPAYPAYGQQPAATAPTRPQDGNKPTETSQPQSSTGGYNQPSLGFGQSNYSYPQVPGSYPMQPVTAPPSYPPTSYSSTQPTSFDQSSYSQQNTYGQPSSYGQQSSYGQQSSYGQQPPTSYPPQTGSYSQAPSQYSQQSSSYGQQSSFRQDHPSSMGVYGQ',\n",
       "  'temps': [250,\n",
       "   270,\n",
       "   290,\n",
       "   300,\n",
       "   307,\n",
       "   314,\n",
       "   321,\n",
       "   328,\n",
       "   335,\n",
       "   342,\n",
       "   349,\n",
       "   356,\n",
       "   363,\n",
       "   370]},\n",
       " 'FARP1_Q9Y4F1_Wildtype': {'seq': 'MGEIEQRPTPGSRLGAPENSGISTLERGQKPPPTPSGKLVS',\n",
       "  'temps': [250,\n",
       "   270,\n",
       "   290,\n",
       "   300,\n",
       "   307,\n",
       "   314,\n",
       "   321,\n",
       "   328,\n",
       "   335,\n",
       "   342,\n",
       "   349,\n",
       "   356,\n",
       "   363,\n",
       "   370]},\n",
       " 'fus_-10g+10t': {'seq': 'MASNDYTQQATQSYTAYPTQPGQGYSQQSSQPYGQQSYSGYSQSTDTSGYTQSSYSSYGQSQNTGYGTQSTPQGYGSTTGYGSSQSSQSSYGQQSSYPGYGQQPAPSSTSTSYGSSSQSSSYGQPQSGSYSQQPSYGGQQQSYTQQQSYNPPQGYGQQNQYNSSSGGGTGGGGGTNYGQDQSSMSSGGGSGTGYGNQDQSGGGTSGGYGQQDRGGRGGRGRGGSTGGGGGGGGGYNRSSG',\n",
       "  'temps': [250,\n",
       "   270,\n",
       "   290,\n",
       "   300,\n",
       "   307,\n",
       "   314,\n",
       "   321,\n",
       "   328,\n",
       "   335,\n",
       "   342,\n",
       "   349,\n",
       "   356,\n",
       "   363,\n",
       "   370]},\n",
       " 'fus_-10q+10n': {'seq': 'MASNDYTNQATQSYGAYPTQPGNGYSQQSSQPYGNQSYSGYSQSTDTSGYGQSSYSSYGNSQNTGYGTQSTPQGYGSTGGYGSSNSSQSSYGQQSSYPGYGNQPAPSSTSGSYGSSSQSSSYGQPNSGSYSQQPSYGGQNQSYGQQNSYNPPQGYGQQNNYNSSSGGGGGGGGGGNYGQDQSSMSSGGGSGGGYGNQDQSGGGGSGGYGQQDRGGRGGRGRGGSGGGGGGGGGGYNRSSG',\n",
       "  'temps': [250,\n",
       "   270,\n",
       "   290,\n",
       "   300,\n",
       "   307,\n",
       "   314,\n",
       "   321,\n",
       "   328,\n",
       "   335,\n",
       "   342,\n",
       "   349,\n",
       "   356,\n",
       "   363,\n",
       "   370]},\n",
       " 'fus_-10s+10t': {'seq': 'MATNDYTQQATQSYGAYPTQPGQGYSQQSSQPYGQQSYTGYSQSTDTSGYGQSSYSTYGQSQNTGYGTQSTPQGYGSTGGYGSSQTSQSSYGQQSSYPGYGQQPAPTSTSGSYGSSTQSTSYGQPQSGSYSQQPTYGGQQQSYGQQQSYNPPQGYGQQNQYNSTSGGGGGGGGGGNYGQDQSSMSTGGGSGGGYGNQDQSGGGGSGGYGQQDRGGRGGRGRGGSGGGGGGGGGGYNRSSG',\n",
       "  'temps': [250,\n",
       "   270,\n",
       "   290,\n",
       "   300,\n",
       "   307,\n",
       "   314,\n",
       "   321,\n",
       "   328,\n",
       "   335,\n",
       "   342,\n",
       "   349,\n",
       "   356,\n",
       "   363,\n",
       "   370]},\n",
       " 'fus_-10t+10g': {'seq': 'MASNDYGQQAGQSYGAYPGQPGQGYSQQSSQPYGQQSYSGYSQSGDGSGYGQSSYSSYGQSQNGGYGGQGTPQGYGSGGGYGSSQSSQSSYGQQSSYPGYGQQPAPSSGSGSYGSSSQSSSYGQPQSGSYSQQPSYGGQQQSYGQQQSYNPPQGYGQQNQYNSSSGGGGGGGGGGNYGQDQSSMSSGGGSGGGYGNQDQSGGGGSGGYGQQDRGGRGGRGRGGSGGGGGGGGGGYNRSSG',\n",
       "  'temps': [250,\n",
       "   270,\n",
       "   290,\n",
       "   300,\n",
       "   307,\n",
       "   314,\n",
       "   321,\n",
       "   328,\n",
       "   335,\n",
       "   342,\n",
       "   349,\n",
       "   356,\n",
       "   363,\n",
       "   370]},\n",
       " 'fus_-10t+10s': {'seq': 'MASNDYSQQASQSYGAYPSQPGQGYSQQSSQPYGQQSYSGYSQSSDSSGYGQSSYSSYGQSQNSGYGSQSTPQGYGSSGGYGSSQSSQSSYGQQSSYPGYGQQPAPSSSSGSYGSSSQSSSYGQPQSGSYSQQPSYGGQQQSYGQQQSYNPPQGYGQQNQYNSSSGGGGGGGGGGNYGQDQSSMSSGGGSGGGYGNQDQSGGGGSGGYGQQDRGGRGGRGRGGSGGGGGGGGGGYNRSSG',\n",
       "  'temps': [250,\n",
       "   270,\n",
       "   290,\n",
       "   300,\n",
       "   307,\n",
       "   314,\n",
       "   321,\n",
       "   328,\n",
       "   335,\n",
       "   342,\n",
       "   349,\n",
       "   356,\n",
       "   363,\n",
       "   370]},\n",
       " 'fus_-14y': {'seq': 'MASNDYTQQATQSQGAYPTQPGQGGSQQSSQPYGQQSSSGYSQSTDTSGQGQSSYSSGGQSQNTGYGTQSTPQGSGSTGGYGSSQSSQSSQGQQSSYPGGGQQPAPSSTSGSYGSSSQSSSSGQPQSGSYSQQPSQGGQQQSYGQQQSSNPPQGYGQQNQGNSSSGGGGGGGGGGNYGQDQSSMSSGGGSGGGGGNQDQSGGGGSGGYGQQDRGGRGGRGRGGSGGGGGGGGGGGNRSSG',\n",
       "  'temps': [250,\n",
       "   270,\n",
       "   290,\n",
       "   300,\n",
       "   307,\n",
       "   314,\n",
       "   321,\n",
       "   328,\n",
       "   335,\n",
       "   342,\n",
       "   349,\n",
       "   356,\n",
       "   363,\n",
       "   370]},\n",
       " 'fus_-14y+14f': {'seq': 'MASNDFTQQATQSYGAFPTQPGQGYSQQSSQPFGQQSYSGFSQSTDTSGYGQSSFSSYGQSQNTGFGTQSTPQGYGSTGGFGSSQSSQSSYGQQSSFPGYGQQPAPSSTSGSFGSSSQSSSYGQPQSGSFSQQPSYGGQQQSFGQQQSYNPPQGFGQQNQYNSSSGGGGGGGGGGNFGQDQSSMSSGGGSGGGYGNQDQSGGGGSGGFGQQDRGGRGGRGRGGSGGGGGGGGGGYNRSSG',\n",
       "  'temps': [250,\n",
       "   270,\n",
       "   290,\n",
       "   300,\n",
       "   307,\n",
       "   314,\n",
       "   321,\n",
       "   328,\n",
       "   335,\n",
       "   342,\n",
       "   349,\n",
       "   356,\n",
       "   363,\n",
       "   370]},\n",
       " 'fus_-20q+20n': {'seq': 'MASNDYTNQATNSYGAYPTQPGNGYSQNSSQPYGNQSYSGYSNSTDTSGYGQSSYSSYGNSQNTGYGTNSTPQGYGSTGGYGSSNSSQSSYGQNSSYPGYGNQPAPSSTSGSYGSSSNSSSYGQPNSGSYSQNPSYGGQNQSYGNQNSYNPPQGYGNQNNYNSSSGGGGGGGGGGNYGQDNSSMSSGGGSGGGYGNQDQSGGGGSGGYGQQDRGGRGGRGRGGSGGGGGGGGGGYNRSSG',\n",
       "  'temps': [250,\n",
       "   270,\n",
       "   290,\n",
       "   300,\n",
       "   307,\n",
       "   314,\n",
       "   321,\n",
       "   328,\n",
       "   335,\n",
       "   342,\n",
       "   349,\n",
       "   356,\n",
       "   363,\n",
       "   370]},\n",
       " 'fus_-28y+28f': {'seq': 'MASNDFTQQATQSFGAFPTQPGQGFSQQSSQPFGQQSFSGFSQSTDTSGFGQSSFSSFGQSQNTGFGTQSTPQGFGSTGGFGSSQSSQSSFGQQSSFPGFGQQPAPSSTSGSFGSSSQSSSFGQPQSGSFSQQPSFGGQQQSFGQQQSFNPPQGFGQQNQFNSSSGGGGGGGGGGNFGQDQSSMSSGGGSGGGFGNQDQSGGGGSGGFGQQDRGGRGGRGRGGSGGGGGGGGGGFNRSSG',\n",
       "  'temps': [250,\n",
       "   270,\n",
       "   290,\n",
       "   300,\n",
       "   307,\n",
       "   314,\n",
       "   321,\n",
       "   328,\n",
       "   335,\n",
       "   342,\n",
       "   349,\n",
       "   356,\n",
       "   363,\n",
       "   370]},\n",
       " 'fus_-5q+5n': {'seq': 'MASNDYTNQATQSYGAYPTQPGQGYSQQSSQPYGQNSYSGYSQSTDTSGYGQSSYSSYGQSQNTGYGTQSTPQGYGSTGGYGSSQSSQSSYGQNSSYPGYGQQPAPSSTSGSYGSSSQSSSYGQPQSGSYSQQPSYGGNQQSYGQQQSYNPPQGYGQQNQYNSSSGGGGGGGGGGNYGQDNSSMSSGGGSGGGYGNQDQSGGGGSGGYGQQDRGGRGGRGRGGSGGGGGGGGGGYNRSSG',\n",
       "  'temps': [250,\n",
       "   270,\n",
       "   290,\n",
       "   300,\n",
       "   307,\n",
       "   314,\n",
       "   321,\n",
       "   328,\n",
       "   335,\n",
       "   342,\n",
       "   349,\n",
       "   356,\n",
       "   363,\n",
       "   370]},\n",
       " 'fus_-5t+5g': {'seq': 'MASNDYGQQATQSYGAYPGQPGQGYSQQSSQPYGQQSYSGYSQSTDGSGYGQSSYSSYGQSQNTGYGGQSTPQGYGSGGGYGSSQSSQSSYGQQSSYPGYGQQPAPSSTSGSYGSSSQSSSYGQPQSGSYSQQPSYGGQQQSYGQQQSYNPPQGYGQQNQYNSSSGGGGGGGGGGNYGQDQSSMSSGGGSGGGYGNQDQSGGGGSGGYGQQDRGGRGGRGRGGSGGGGGGGGGGYNRSSG',\n",
       "  'temps': [250,\n",
       "   270,\n",
       "   290,\n",
       "   300,\n",
       "   307,\n",
       "   314,\n",
       "   321,\n",
       "   328,\n",
       "   335,\n",
       "   342,\n",
       "   349,\n",
       "   356,\n",
       "   363,\n",
       "   370]},\n",
       " 'fus_-5t+5s': {'seq': 'MASNDYSQQATQSYGAYPSQPGQGYSQQSSQPYGQQSYSGYSQSTDSSGYGQSSYSSYGQSQNTGYGSQSTPQGYGSSGGYGSSQSSQSSYGQQSSYPGYGQQPAPSSTSGSYGSSSQSSSYGQPQSGSYSQQPSYGGQQQSYGQQQSYNPPQGYGQQNQYNSSSGGGGGGGGGGNYGQDQSSMSSGGGSGGGYGNQDQSGGGGSGGYGQQDRGGRGGRGRGGSGGGGGGGGGGYNRSSG',\n",
       "  'temps': [250,\n",
       "   270,\n",
       "   290,\n",
       "   300,\n",
       "   307,\n",
       "   314,\n",
       "   321,\n",
       "   328,\n",
       "   335,\n",
       "   342,\n",
       "   349,\n",
       "   356,\n",
       "   363,\n",
       "   370]},\n",
       " 'fus_-7y': {'seq': 'MASNDYTQQATQSYGAYPTQPGQGQSQQSSQPYGQQSYSGYSQSTDTSGGGQSSYSSYGQSQNTGYGTQSTPQGSGSTGGYGSSQSSQSSYGQQSSYPGQGQQPAPSSTSGSYGSSSQSSSYGQPQSGSYSQQPSSGGQQQSYGQQQSYNPPQGYGQQNQGNSSSGGGGGGGGGGNYGQDQSSMSSGGGSGGGGGNQDQSGGGGSGGYGQQDRGGRGGRGRGGSGGGGGGGGGGYNRSSG',\n",
       "  'temps': [250,\n",
       "   270,\n",
       "   290,\n",
       "   300,\n",
       "   307,\n",
       "   314,\n",
       "   321,\n",
       "   328,\n",
       "   335,\n",
       "   342,\n",
       "   349,\n",
       "   356,\n",
       "   363,\n",
       "   370]},\n",
       " 'fus_-7y+7f': {'seq': 'MASNDFTQQATQSYGAYPTQPGQGYSQQSSQPFGQQSYSGYSQSTDTSGYGQSSFSSYGQSQNTGYGTQSTPQGYGSTGGFGSSQSSQSSYGQQSSYPGYGQQPAPSSTSGSFGSSSQSSSYGQPQSGSYSQQPSYGGQQQSFGQQQSYNPPQGYGQQNQYNSSSGGGGGGGGGGNFGQDQSSMSSGGGSGGGYGNQDQSGGGGSGGYGQQDRGGRGGRGRGGSGGGGGGGGGGYNRSSG',\n",
       "  'temps': [250,\n",
       "   270,\n",
       "   290,\n",
       "   300,\n",
       "   307,\n",
       "   314,\n",
       "   321,\n",
       "   328,\n",
       "   335,\n",
       "   342,\n",
       "   349,\n",
       "   356,\n",
       "   363,\n",
       "   370]},\n",
       " 'GAG_-5S+5T': {'seq': 'RPGNFLQSRPEPTAPPEETFRTGVETTTPPQKQEPIDKELYPLTTLRTLFGNDPSTQ',\n",
       "  'temps': [250,\n",
       "   270,\n",
       "   290,\n",
       "   300,\n",
       "   307,\n",
       "   314,\n",
       "   321,\n",
       "   328,\n",
       "   335,\n",
       "   342,\n",
       "   349,\n",
       "   356,\n",
       "   363,\n",
       "   370]},\n",
       " 'GAG_-5T+5G': {'seq': 'RPGNFLQSRPEPGAPPEESFRSGVEGGGPPQKQEPIDKELYPLGSLRSLFGNDPSSQ',\n",
       "  'temps': [250,\n",
       "   270,\n",
       "   290,\n",
       "   300,\n",
       "   307,\n",
       "   314,\n",
       "   321,\n",
       "   328,\n",
       "   335,\n",
       "   342,\n",
       "   349,\n",
       "   356,\n",
       "   363,\n",
       "   370]},\n",
       " 'GAG_HV1H2_P04591_Wildtype': {'seq': 'RPGNFLQSRPEPTAPPEESFRSGVETTTPPQKQEPIDKELYPLTSLRSLFGNDPSSQ',\n",
       "  'temps': [250,\n",
       "   270,\n",
       "   290,\n",
       "   300,\n",
       "   307,\n",
       "   314,\n",
       "   321,\n",
       "   328,\n",
       "   335,\n",
       "   342,\n",
       "   349,\n",
       "   356,\n",
       "   363,\n",
       "   370]},\n",
       " 'GAL3B_A0A0B4J2D5_Wildtype': {'seq': 'MAAVRALVASRLAAASAFTSLSPGGRTPSQRAALHL',\n",
       "  'temps': [250,\n",
       "   270,\n",
       "   290,\n",
       "   300,\n",
       "   307,\n",
       "   314,\n",
       "   321,\n",
       "   328,\n",
       "   335,\n",
       "   342,\n",
       "   349,\n",
       "   356,\n",
       "   363,\n",
       "   370]},\n",
       " 'GKAP1_Q5VSY0_Wildtype': {'seq': 'KKEYEDAENTSTQSKVMNKKDKRKNHQGKDRPLTVSLKDFHSEDHISKKTEELSSSQTLSHDGGFFNRLEDDVHKILIREKRREQLTEYNGTDNCTAHEH',\n",
       "  'temps': [250,\n",
       "   270,\n",
       "   290,\n",
       "   300,\n",
       "   307,\n",
       "   314,\n",
       "   321,\n",
       "   328,\n",
       "   335,\n",
       "   342,\n",
       "   349,\n",
       "   356,\n",
       "   363,\n",
       "   370]},\n",
       " 'GKGDSPYG': {'seq': 'PGKGDSPYGGKGDSPYGGKGDSPYGGKGDSPYGG',\n",
       "  'temps': [250,\n",
       "   270,\n",
       "   290,\n",
       "   300,\n",
       "   307,\n",
       "   314,\n",
       "   321,\n",
       "   328,\n",
       "   335,\n",
       "   342,\n",
       "   349,\n",
       "   356,\n",
       "   363,\n",
       "   370]},\n",
       " 'GRGDAPYQ': {'seq': 'PGRGDAPYQGRGDAPYQGRGDAPYQGRGDAPYQG',\n",
       "  'temps': [250,\n",
       "   270,\n",
       "   290,\n",
       "   300,\n",
       "   307,\n",
       "   314,\n",
       "   321,\n",
       "   328,\n",
       "   335,\n",
       "   342,\n",
       "   349,\n",
       "   356,\n",
       "   363,\n",
       "   370]},\n",
       " 'GRGDSPY': {'seq': 'PGRGDSPYGRGDSPYGRGDSPYGRGDSPYG',\n",
       "  'temps': [250,\n",
       "   270,\n",
       "   290,\n",
       "   300,\n",
       "   307,\n",
       "   314,\n",
       "   321,\n",
       "   328,\n",
       "   335,\n",
       "   342,\n",
       "   349,\n",
       "   356,\n",
       "   363,\n",
       "   370]},\n",
       " 'GRGDSPYQ': {'seq': 'PGRGDSPYQGRGDSPYQGRGDSPYQGRGDSPYQG',\n",
       "  'temps': [250,\n",
       "   270,\n",
       "   290,\n",
       "   300,\n",
       "   307,\n",
       "   314,\n",
       "   321,\n",
       "   328,\n",
       "   335,\n",
       "   342,\n",
       "   349,\n",
       "   356,\n",
       "   363,\n",
       "   370]},\n",
       " 'HOME3_-4S+4T': {'seq': 'SQDGGELTTPALGLATHQVPPTPLVSANGPGEEKLFRTQSADAPGPTE',\n",
       "  'temps': [250,\n",
       "   270,\n",
       "   290,\n",
       "   300,\n",
       "   307,\n",
       "   314,\n",
       "   321,\n",
       "   328,\n",
       "   335,\n",
       "   342,\n",
       "   349,\n",
       "   356,\n",
       "   363,\n",
       "   370]},\n",
       " 'HOME3_Q9NSC5_Wildtype': {'seq': 'SQDGGELTSPALGLASHQVPPSPLVSANGPGEEKLFRSQSADAPGPTE',\n",
       "  'temps': [250,\n",
       "   270,\n",
       "   290,\n",
       "   300,\n",
       "   307,\n",
       "   314,\n",
       "   321,\n",
       "   328,\n",
       "   335,\n",
       "   342,\n",
       "   349,\n",
       "   356,\n",
       "   363,\n",
       "   370]},\n",
       " 'HTHQDFQPVLHLVALNTPLSGGMRGIRPGG': {'seq': 'PHTHQDFQPVLHLVALNTPLSGGMRGIRPGGHTHQDFQPVLHLVALNTPLSGGMRGIRPGGHTHQDFQPVLHLVALNTPLSGGMRGIRPGGHTHQDFQPVLHLVALNTPLSGGMRGIRPGGG',\n",
       "  'temps': [250,\n",
       "   270,\n",
       "   290,\n",
       "   300,\n",
       "   307,\n",
       "   314,\n",
       "   321,\n",
       "   328,\n",
       "   335,\n",
       "   342,\n",
       "   349,\n",
       "   356,\n",
       "   363,\n",
       "   370]},\n",
       " 'I0FUN3_MACMU_-10Q+10N': {'seq': 'VQNQNQIGYPNPYGQWGNWYGNANQIGNYMPNGWQVPAYGMYGNAWNNQGFNNTQSSAPWMGPNYGVNPPNGQNGSMLPSQPSGYRVAGYETQ',\n",
       "  'temps': [250,\n",
       "   270,\n",
       "   290,\n",
       "   300,\n",
       "   307,\n",
       "   314,\n",
       "   321,\n",
       "   328,\n",
       "   335,\n",
       "   342,\n",
       "   349,\n",
       "   356,\n",
       "   363,\n",
       "   370]},\n",
       " 'I0FUN3_MACMU_-15Q+15N': {'seq': 'VNNQNQIGYPNPYGNWGNWYGNANQIGNYMPNGWNVPAYGMYGNAWNNQGFNNTNSSAPWMGPNYGVNPPNGQNGSMLPSNPSGYRVAGYETQ',\n",
       "  'temps': [250,\n",
       "   270,\n",
       "   290,\n",
       "   300,\n",
       "   307,\n",
       "   314,\n",
       "   321,\n",
       "   328,\n",
       "   335,\n",
       "   342,\n",
       "   349,\n",
       "   356,\n",
       "   363,\n",
       "   370]},\n",
       " 'I0FUN3_MACMU_-5N+5Q': {'seq': 'VQQQNQIGYPQPYGQWGQWYGQAQQIGQYMPQGWQVPAYGMYGQAWQQQGFQQTQSSAPWMGPQYGVQPPQGQNGSMLPSQPSGYRVAGYETQ',\n",
       "  'temps': [250,\n",
       "   270,\n",
       "   290,\n",
       "   300,\n",
       "   307,\n",
       "   314,\n",
       "   321,\n",
       "   328,\n",
       "   335,\n",
       "   342,\n",
       "   349,\n",
       "   356,\n",
       "   363,\n",
       "   370]},\n",
       " 'I0FUN3_MACMU_-5Q+5N': {'seq': 'VQNQNQIGYPQPYGQWGQWYGNANQIGQYMPNGWQVPAYGMYGQAWNNQGFNNTQSSAPWMGPNYGVQPPNGQNGSMLPSQPSGYRVAGYETQ',\n",
       "  'temps': [250,\n",
       "   270,\n",
       "   290,\n",
       "   300,\n",
       "   307,\n",
       "   314,\n",
       "   321,\n",
       "   328,\n",
       "   335,\n",
       "   342,\n",
       "   349,\n",
       "   356,\n",
       "   363,\n",
       "   370]},\n",
       " 'I0FUN3_MACMU_Wildtype': {'seq': 'VQQQNQIGYPQPYGQWGQWYGNAQQIGQYMPNGWQVPAYGMYGQAWNQQGFNQTQSSAPWMGPNYGVQPPQGQNGSMLPSQPSGYRVAGYETQ',\n",
       "  'temps': [250,\n",
       "   270,\n",
       "   290,\n",
       "   300,\n",
       "   307,\n",
       "   314,\n",
       "   321,\n",
       "   328,\n",
       "   335,\n",
       "   342,\n",
       "   349,\n",
       "   356,\n",
       "   363,\n",
       "   370]},\n",
       " 'IDS_P22304_Wildtype': {'seq': 'MPPPRTGRGLLWLGLVLSSVCVALGSETQANSTT',\n",
       "  'temps': [250,\n",
       "   270,\n",
       "   290,\n",
       "   300,\n",
       "   307,\n",
       "   314,\n",
       "   321,\n",
       "   328,\n",
       "   335,\n",
       "   342,\n",
       "   349,\n",
       "   356,\n",
       "   363,\n",
       "   370]},\n",
       " 'IRS2_Q9Y4H2_Wildtype': {'seq': 'MASPPRHGPPGPASGDGPNLNNNNNNNNHSVR',\n",
       "  'temps': [250,\n",
       "   270,\n",
       "   290,\n",
       "   300,\n",
       "   307,\n",
       "   314,\n",
       "   321,\n",
       "   328,\n",
       "   335,\n",
       "   342,\n",
       "   349,\n",
       "   356,\n",
       "   363,\n",
       "   370]},\n",
       " 'KIF2A_-5K+5R': {'seq': 'DLVPDEEIEPSPETPPPPASSARVNRIVRNRRTVASIKNDPPSRDNRVVGSARARPSQFPEQSSSAQQNGSVSDISPVQAARKEFGPPSRRRSNCVKE',\n",
       "  'temps': [250,\n",
       "   270,\n",
       "   290,\n",
       "   300,\n",
       "   307,\n",
       "   314,\n",
       "   321,\n",
       "   328,\n",
       "   335,\n",
       "   342,\n",
       "   349,\n",
       "   356,\n",
       "   363,\n",
       "   370]},\n",
       " 'KIF2A_O00139_Wildtype': {'seq': 'DLVPDEEIEPSPETPPPPASSAKVNKIVKNRRTVASIKNDPPSRDNRVVGSARARPSQFPEQSSSAQQNGSVSDISPVQAAKKEFGPPSRRKSNCVKE',\n",
       "  'temps': [250,\n",
       "   270,\n",
       "   290,\n",
       "   300,\n",
       "   307,\n",
       "   314,\n",
       "   321,\n",
       "   328,\n",
       "   335,\n",
       "   342,\n",
       "   349,\n",
       "   356,\n",
       "   363,\n",
       "   370]},\n",
       " 'LGAPVG': {'seq': 'PLGAPVGLGAPVGLGAPVGLGAPVGG',\n",
       "  'temps': [250,\n",
       "   270,\n",
       "   290,\n",
       "   300,\n",
       "   307,\n",
       "   314,\n",
       "   321,\n",
       "   328,\n",
       "   335,\n",
       "   342,\n",
       "   349,\n",
       "   356,\n",
       "   363,\n",
       "   370]},\n",
       " 'LORF1_-5S+5T': {'seq': 'MGKKQNRKTGNTKTQTASPPPKERTTSPATEQTWM',\n",
       "  'temps': [250,\n",
       "   270,\n",
       "   290,\n",
       "   300,\n",
       "   307,\n",
       "   314,\n",
       "   321,\n",
       "   328,\n",
       "   335,\n",
       "   342,\n",
       "   349,\n",
       "   356,\n",
       "   363,\n",
       "   370]},\n",
       " 'LORF1_Q9UN81_Wildtype': {'seq': 'MGKKQNRKTGNSKTQSASPPPKERSSSPATEQSWM',\n",
       "  'temps': [250,\n",
       "   270,\n",
       "   290,\n",
       "   300,\n",
       "   307,\n",
       "   314,\n",
       "   321,\n",
       "   328,\n",
       "   335,\n",
       "   342,\n",
       "   349,\n",
       "   356,\n",
       "   363,\n",
       "   370]},\n",
       " 'MCDB_SYNE7_Q8GJM6_Wildtype': {'seq': 'MTDAFDRLKKRSRTPIAREGSLTTGPELSD',\n",
       "  'temps': [250,\n",
       "   270,\n",
       "   290,\n",
       "   300,\n",
       "   307,\n",
       "   314,\n",
       "   321,\n",
       "   328,\n",
       "   335,\n",
       "   342,\n",
       "   349,\n",
       "   356,\n",
       "   363,\n",
       "   370]},\n",
       " 'MED13_Q9UHV7_Wildtype': {'seq': 'PLDSSLLSQPNLVAPTSQSLITPPQMTNTGNANTPSATLASAASSTMTVTSGVAISTSVATANSTLTTASTSSSSSSNLNSGVSSNKLPSFPPFGSMNSNAAGSMSTQANTVQSGQLGGQQTSALQTAGISGESSSLPTQPHPDVSESTMDRDKVGIPTDGDSHAV',\n",
       "  'temps': [250,\n",
       "   270,\n",
       "   290,\n",
       "   300,\n",
       "   307,\n",
       "   314,\n",
       "   321,\n",
       "   328,\n",
       "   335,\n",
       "   342,\n",
       "   349,\n",
       "   356,\n",
       "   363,\n",
       "   370]},\n",
       " 'NOG2(Q13823)_Wildtype': {'seq': 'MVKPKYKGRSTINPSKASTNPDRVQGAGGQNMRDRATIRRLNMYRQKERRNSRGKIIKPLQYQSTVASGT',\n",
       "  'temps': [250,\n",
       "   270,\n",
       "   290,\n",
       "   300,\n",
       "   307,\n",
       "   314,\n",
       "   321,\n",
       "   328,\n",
       "   335,\n",
       "   342,\n",
       "   349,\n",
       "   356,\n",
       "   363,\n",
       "   370]},\n",
       " 'PMA6E_A0A0J9YXQ4_Wildtype': {'seq': 'LIREMEAWAAFPARSQQGVAWAAAPVESEDPAAAQASPAQGNASEAGPGAEDAAEAASATKEAARGAPAAGEGESAPAGPEGLGQARPIEVPWGSSPARMSSAVWVFPRGLSWGPEGLIQVRGQEARKPPLEGLQTILEEPENEDEDGAGDEGQPKSSQGK',\n",
       "  'temps': [250,\n",
       "   270,\n",
       "   290,\n",
       "   300,\n",
       "   307,\n",
       "   314,\n",
       "   321,\n",
       "   328,\n",
       "   335,\n",
       "   342,\n",
       "   349,\n",
       "   356,\n",
       "   363,\n",
       "   370]},\n",
       " 'PMA6F_A0A0J9YX94_Wildtype': {'seq': 'RQIAGKGGPWKVISLPQALDAEFQDIPSFPAQPQGQAVARGAGEAGAAGEAGSVGEAGGVNEERSAGEDEAGGIGEAGGVGEAGAAGEAGAAGEAGAAGEAGGAGEAGGAGEAGGAGEEGGTGEEGGAGEAGGAGEEGGEDEAGAAGEAVGAGVVEAWTQSWRQTLRPLVKTMAYRELRPFSGREQPGCVEESFESWLE',\n",
       "  'temps': [250,\n",
       "   270,\n",
       "   290,\n",
       "   300,\n",
       "   307,\n",
       "   314,\n",
       "   321,\n",
       "   328,\n",
       "   335,\n",
       "   342,\n",
       "   349,\n",
       "   356,\n",
       "   363,\n",
       "   370]},\n",
       " 'QYPSDGRG': {'seq': 'PQYPSDGRGQYPSDGRGQYPSDGRGQYPSDGRGG',\n",
       "  'temps': [250,\n",
       "   270,\n",
       "   290,\n",
       "   300,\n",
       "   307,\n",
       "   314,\n",
       "   321,\n",
       "   328,\n",
       "   335,\n",
       "   342,\n",
       "   349,\n",
       "   356,\n",
       "   363,\n",
       "   370]},\n",
       " 'RBM14_-10T+10G': {'seq': 'PMGAQAASYRAQPSVSLGAPYRGQLASPSSQSAAASSLGPYGGAQPSASALSSYGGQAAAASSLNSYGAQGSSLASYGNQPSSYGAQAASSYGVRAAASSYNGQGAASSLGSYGAQAASYGAQSAASSLAYGAQAASYNAQPSASYNAQSAPYAAQQAASYSSQPAAYVAQPAGAAAYASQPAAYAAQAGGPMAGSYGAQPVVQGQLNSYGAQASMGLSGSYGAQSAAAAGGSYGAAAAYGAQPSAGLAAPYRGQSSASLAASYAAQQHPQAAASYRGQPGNAYDGAGQPSAAYLSMSQGAVANANSGPPPY',\n",
       "  'temps': [250,\n",
       "   270,\n",
       "   290,\n",
       "   300,\n",
       "   307,\n",
       "   314,\n",
       "   321,\n",
       "   328,\n",
       "   335,\n",
       "   342,\n",
       "   349,\n",
       "   356,\n",
       "   363,\n",
       "   370]},\n",
       " 'RBM14_-10T+10S': {'seq': 'PMSAQAASYRAQPSVSLGAPYRGQLASPSSQSAAASSLGPYGGAQPSASALSSYGGQAAAASSLNSYGAQGSSLASYGNQPSSYGAQAASSYGVRAAASSYNSQGAASSLGSYGAQAASYGAQSAASSLAYGAQAASYNAQPSASYNAQSAPYAAQQAASYSSQPAAYVAQPASAAAYASQPAAYAAQASSPMAGSYGAQPVVQSQLNSYGAQASMGLSGSYGAQSAAAASGSYGAAAAYGAQPSASLAAPYRSQSSASLAASYAAQQHPQAAASYRGQPGNAYDGAGQPSAAYLSMSQGAVANANSSPPPY',\n",
       "  'temps': [250,\n",
       "   270,\n",
       "   290,\n",
       "   300,\n",
       "   307,\n",
       "   314,\n",
       "   321,\n",
       "   328,\n",
       "   335,\n",
       "   342,\n",
       "   349,\n",
       "   356,\n",
       "   363,\n",
       "   370]},\n",
       " 'RBM14_-10Y': {'seq': 'PMTAQAASGRAQPSVSLGAPSRGQLASPSSQSAAASSLGPQGGAQPSASALSSYGGQAAAASSLNSYGAQGSSLASYGNQPSSYGAQAASSQGVRAAASSYNTQGAASSLGSSGAQAASYGAQSAASSLAYGAQAASGNAQPSASYNAQSAPYAAQQAASYSSQPAAYVAQPATAAAYASQPAASAAQATTPMAGSQGAQPVVQTQLNSYGAQASMGLSGSYGAQSAAAATGSYGAAAAYGAQPSATLAAPSRTQSSASLAASYAAQQHPQAAASYRGQPGNASDGAGQPSAAYLSMSQGAVANANSTPPPY',\n",
       "  'temps': [250,\n",
       "   270,\n",
       "   290,\n",
       "   300,\n",
       "   307,\n",
       "   314,\n",
       "   321,\n",
       "   328,\n",
       "   335,\n",
       "   342,\n",
       "   349,\n",
       "   356,\n",
       "   363,\n",
       "   370]},\n",
       " 'RBM14_-20Q+20N': {'seq': 'PMTANAASYRAQPSVSLGAPYRGNLASPSSQSAAASSLGPYGGAQPSASALSSYGGNAAAASSLNSYGAQGSSLASYGNNPSSYGAQAASSYGVRAAASSYNTNGAASSLGSYGAQAASYGANSAASSLAYGAQAASYNANPSASYNAQSAPYAANNAASYSSQPAAYVANPATAAAYASNPAAYAAQATTPMAGSYGANPVVNTQLNSYGANASMGLSGSYGAQSAAAATGSYGAAAAYGANPSATLAAPYRTQSSASLAASYAANNHPQAAASYRGNPGNAYDGAGNPSAAYLSMSNGAVANANSTPPPY',\n",
       "  'temps': [250,\n",
       "   270,\n",
       "   290,\n",
       "   300,\n",
       "   307,\n",
       "   314,\n",
       "   321,\n",
       "   328,\n",
       "   335,\n",
       "   342,\n",
       "   349,\n",
       "   356,\n",
       "   363,\n",
       "   370]},\n",
       " 'RBM14_-20Y+20F': {'seq': 'PMTAQAASFRAQPSVSLGAPFRGQLASPSSQSAAASSLGPYGGAQPSASALSSFGGQAAAASSLNSFGAQGSSLASYGNQPSSFGAQAASSFGVRAAASSYNTQGAASSLGSFGAQAASFGAQSAASSLAYGAQAASFNAQPSASFNAQSAPYAAQQAASFSSQPAAFVAQPATAAAYASQPAAFAAQATTPMAGSFGAQPVVQTQLNSYGAQASMGLSGSFGAQSAAAATGSFGAAAAYGAQPSATLAAPFRTQSSASLAASFAAQQHPQAAASYRGQPGNAFDGAGQPSAAFLSMSQGAVANANSTPPPY',\n",
       "  'temps': [250,\n",
       "   270,\n",
       "   290,\n",
       "   300,\n",
       "   307,\n",
       "   314,\n",
       "   321,\n",
       "   328,\n",
       "   335,\n",
       "   342,\n",
       "   349,\n",
       "   356,\n",
       "   363,\n",
       "   370]},\n",
       " 'RBM14_-30Y+30F': {'seq': 'PMTAQAASFRAQPSVSLGAPFRGQLASPSSQSAAASSLGPFGGAQPSASALSSFGGQAAAASSLNSFGAQGSSLASFGNQPSSFGAQAASSFGVRAAASSFNTQGAASSLGSFGAQAASFGAQSAASSLAFGAQAASFNAQPSASFNAQSAPFAAQQAASFSSQPAAFVAQPATAAAFASQPAAFAAQATTPMAGSFGAQPVVQTQLNSFGAQASMGLSGSFGAQSAAAATGSFGAAAAFGAQPSATLAAPFRTQSSASLAASFAAQQHPQAAASFRGQPGNAFDGAGQPSAAFLSMSQGAVANANSTPPPF',\n",
       "  'temps': [250,\n",
       "   270,\n",
       "   290,\n",
       "   300,\n",
       "   307,\n",
       "   314,\n",
       "   321,\n",
       "   328,\n",
       "   335,\n",
       "   342,\n",
       "   349,\n",
       "   356,\n",
       "   363,\n",
       "   370]},\n",
       " 'RBM14_-5Q+5N': {'seq': 'PMTANAASYRAQPSVSLGAPYRGQLASPSSQSAAASSLGPYGGAQPSASALSSYGGQAAAASSLNSYGAQGSSLASYGNNPSSYGAQAASSYGVRAAASSYNTQGAASSLGSYGAQAASYGAQSAASSLAYGAQAASYNAQPSASYNANSAPYAAQQAASYSSQPAAYVAQPATAAAYASQPAAYAAQATTPMAGSYGANPVVQTQLNSYGAQASMGLSGSYGAQSAAAATGSYGAAAAYGAQPSATLAAPYRTQSSASLAASYAAQQHPNAAASYRGQPGNAYDGAGQPSAAYLSMSQGAVANANSTPPPY',\n",
       "  'temps': [250,\n",
       "   270,\n",
       "   290,\n",
       "   300,\n",
       "   307,\n",
       "   314,\n",
       "   321,\n",
       "   328,\n",
       "   335,\n",
       "   342,\n",
       "   349,\n",
       "   356,\n",
       "   363,\n",
       "   370]},\n",
       " 'RBM14_-5T+5G': {'seq': 'PMGAQAASYRAQPSVSLGAPYRGQLASPSSQSAAASSLGPYGGAQPSASALSSYGGQAAAASSLNSYGAQGSSLASYGNQPSSYGAQAASSYGVRAAASSYNTQGAASSLGSYGAQAASYGAQSAASSLAYGAQAASYNAQPSASYNAQSAPYAAQQAASYSSQPAAYVAQPAGAAAYASQPAAYAAQATGPMAGSYGAQPVVQTQLNSYGAQASMGLSGSYGAQSAAAAGGSYGAAAAYGAQPSATLAAPYRGQSSASLAASYAAQQHPQAAASYRGQPGNAYDGAGQPSAAYLSMSQGAVANANSTPPPY',\n",
       "  'temps': [250,\n",
       "   270,\n",
       "   290,\n",
       "   300,\n",
       "   307,\n",
       "   314,\n",
       "   321,\n",
       "   328,\n",
       "   335,\n",
       "   342,\n",
       "   349,\n",
       "   356,\n",
       "   363,\n",
       "   370]},\n",
       " 'RBM14_-5T+5S': {'seq': 'PMSAQAASYRAQPSVSLGAPYRGQLASPSSQSAAASSLGPYGGAQPSASALSSYGGQAAAASSLNSYGAQGSSLASYGNQPSSYGAQAASSYGVRAAASSYNTQGAASSLGSYGAQAASYGAQSAASSLAYGAQAASYNAQPSASYNAQSAPYAAQQAASYSSQPAAYVAQPASAAAYASQPAAYAAQATSPMAGSYGAQPVVQTQLNSYGAQASMGLSGSYGAQSAAAASGSYGAAAAYGAQPSATLAAPYRSQSSASLAASYAAQQHPQAAASYRGQPGNAYDGAGQPSAAYLSMSQGAVANANSTPPPY',\n",
       "  'temps': [250,\n",
       "   270,\n",
       "   290,\n",
       "   300,\n",
       "   307,\n",
       "   314,\n",
       "   321,\n",
       "   328,\n",
       "   335,\n",
       "   342,\n",
       "   349,\n",
       "   356,\n",
       "   363,\n",
       "   370]},\n",
       " 'RBM14_-5Y': {'seq': 'PMTAQAASYRAQPSVSLGAPSRGQLASPSSQSAAASSLGPYGGAQPSASALSSYGGQAAAASSLNSYGAQGSSLASYGNQPSSYGAQAASSGGVRAAASSYNTQGAASSLGSYGAQAASYGAQSAASSLAYGAQAASYNAQPSASYNAQSAPYAAQQAASYSSQPAAYVAQPATAAASASQPAAYAAQATTPMAGSYGAQPVVQTQLNSQGAQASMGLSGSYGAQSAAAATGSYGAAAAYGAQPSATLAAPYRTQSSASLAASYAAQQHPQAAASSRGQPGNAYDGAGQPSAAYLSMSQGAVANANSTPPPY',\n",
       "  'temps': [250,\n",
       "   270,\n",
       "   290,\n",
       "   300,\n",
       "   307,\n",
       "   314,\n",
       "   321,\n",
       "   328,\n",
       "   335,\n",
       "   342,\n",
       "   349,\n",
       "   356,\n",
       "   363,\n",
       "   370]},\n",
       " 'RBM14_-5Y+5F': {'seq': 'PMTAQAASFRAQPSVSLGAPYRGQLASPSSQSAAASSLGPYGGAQPSASALSSYGGQAAAASSLNSYGAQGSSLASYGNQPSSYGAQAASSFGVRAAASSYNTQGAASSLGSYGAQAASYGAQSAASSLAYGAQAASYNAQPSASYNAQSAPFAAQQAASYSSQPAAYVAQPATAAAYASQPAAYAAQATTPMAGSYGAQPVVQTQLNSYGAQASMGLSGSFGAQSAAAATGSYGAAAAYGAQPSATLAAPYRTQSSASLAASYAAQQHPQAAASYRGQPGNAYDGAGQPSAAFLSMSQGAVANANSTPPPY',\n",
       "  'temps': [250,\n",
       "   270,\n",
       "   290,\n",
       "   300,\n",
       "   307,\n",
       "   314,\n",
       "   321,\n",
       "   328,\n",
       "   335,\n",
       "   342,\n",
       "   349,\n",
       "   356,\n",
       "   363,\n",
       "   370]},\n",
       " 'ROAA_-10G+10T': {'seq': 'CEIKVAQPKEVYQQQQYGSTGRGNRNRGNRGSGTTGTGTGQSQSWNQGYGNYWNQTYGYQQGYGPTYTGYDYSPYGYYGYTPGYDYSQGSTNYTKSQRRGGHQNNYKPY',\n",
       "  'temps': [250,\n",
       "   270,\n",
       "   290,\n",
       "   300,\n",
       "   307,\n",
       "   314,\n",
       "   321,\n",
       "   328,\n",
       "   335,\n",
       "   342,\n",
       "   349,\n",
       "   356,\n",
       "   363,\n",
       "   370]},\n",
       " 'ROAA_-10Q+10N': {'seq': 'CEIKVAQPKEVYQNNNYGSGGRGNRNRGNRGSGGGGGGGGQSNSWNNGYGNYWNNGYGYQNGYGPGYGGYDYSPYGYYGYGPGYDYSNGSTNYGKSNRRGGHNNNYKPY',\n",
       "  'temps': [250,\n",
       "   270,\n",
       "   290,\n",
       "   300,\n",
       "   307,\n",
       "   314,\n",
       "   321,\n",
       "   328,\n",
       "   335,\n",
       "   342,\n",
       "   349,\n",
       "   356,\n",
       "   363,\n",
       "   370]},\n",
       " 'ROAA_-10Y+10F': {'seq': 'CEIKVAQPKEVYQQQQFGSGGRGNRNRGNRGSGGGGGGGGQSQSWNQGYGNFWNQGYGYQQGYGPGYGGFDFSPFGFYGFGPGFDYSQGSTNFGKSQRRGGHQNNFKPY',\n",
       "  'temps': [250,\n",
       "   270,\n",
       "   290,\n",
       "   300,\n",
       "   307,\n",
       "   314,\n",
       "   321,\n",
       "   328,\n",
       "   335,\n",
       "   342,\n",
       "   349,\n",
       "   356,\n",
       "   363,\n",
       "   370]},\n",
       " 'ROAA_-15G+15T': {'seq': 'CEIKVAQPKEVYQQQQYTSTGRGNRNRGNRGSGTTTTGTGQSQSWNQGYGNYWNQTYGYQQGYTPTYTGYDYSPYGYYTYTPGYDYSQGSTNYTKSQRRGTHQNNYKPY',\n",
       "  'temps': [250,\n",
       "   270,\n",
       "   290,\n",
       "   300,\n",
       "   307,\n",
       "   314,\n",
       "   321,\n",
       "   328,\n",
       "   335,\n",
       "   342,\n",
       "   349,\n",
       "   356,\n",
       "   363,\n",
       "   370]},\n",
       " 'ROAA_-15Y+15F': {'seq': 'CEIKVAQPKEVFQQQQFGSGGRGNRNRGNRGSGGGGGGGGQSQSWNQGYGNFWNQGFGYQQGFGPGFGGFDFSPFGFFGFGPGFDYSQGSTNFGKSQRRGGHQNNFKPY',\n",
       "  'temps': [250,\n",
       "   270,\n",
       "   290,\n",
       "   300,\n",
       "   307,\n",
       "   314,\n",
       "   321,\n",
       "   328,\n",
       "   335,\n",
       "   342,\n",
       "   349,\n",
       "   356,\n",
       "   363,\n",
       "   370]},\n",
       " 'ROAA_-20G+20T': {'seq': 'CEIKVAQPKEVYQQQQYTSTGRTNRNRGNRTSGTTTTGTTQSQSWNQGYTNYWNQTYGYQQGYTPTYTTYDYSPYGYYTYTPGYDYSQGSTNYTKSQRRGTHQNNYKPY',\n",
       "  'temps': [250,\n",
       "   270,\n",
       "   290,\n",
       "   300,\n",
       "   307,\n",
       "   314,\n",
       "   321,\n",
       "   328,\n",
       "   335,\n",
       "   342,\n",
       "   349,\n",
       "   356,\n",
       "   363,\n",
       "   370]},\n",
       " 'ROAA_-5G+5T': {'seq': 'CEIKVAQPKEVYQQQQYGSTGRGNRNRGNRGSGTGGTGTGQSQSWNQGYGNYWNQGYGYQQGYGPGYTGYDYSPYGYYGYGPGYDYSQGSTNYGKSQRRGGHQNNYKPY',\n",
       "  'temps': [250,\n",
       "   270,\n",
       "   290,\n",
       "   300,\n",
       "   307,\n",
       "   314,\n",
       "   321,\n",
       "   328,\n",
       "   335,\n",
       "   342,\n",
       "   349,\n",
       "   356,\n",
       "   363,\n",
       "   370]},\n",
       " 'ROAA_-5Q+5N': {'seq': 'CEIKVAQPKEVYQNNQYGSGGRGNRNRGNRGSGGGGGGGGQSNSWNQGYGNYWNQGYGYQQGYGPGYGGYDYSPYGYYGYGPGYDYSQGSTNYGKSNRRGGHNNNYKPY',\n",
       "  'temps': [250,\n",
       "   270,\n",
       "   290,\n",
       "   300,\n",
       "   307,\n",
       "   314,\n",
       "   321,\n",
       "   328,\n",
       "   335,\n",
       "   342,\n",
       "   349,\n",
       "   356,\n",
       "   363,\n",
       "   370]},\n",
       " 'ROAA_-5Y+5F': {'seq': 'CEIKVAQPKEVYQQQQFGSGGRGNRNRGNRGSGGGGGGGGQSQSWNQGYGNFWNQGYGYQQGYGPGYGGFDYSPFGFYGYGPGYDYSQGSTNYGKSQRRGGHQNNYKPY',\n",
       "  'temps': [250,\n",
       "   270,\n",
       "   290,\n",
       "   300,\n",
       "   307,\n",
       "   314,\n",
       "   321,\n",
       "   328,\n",
       "   335,\n",
       "   342,\n",
       "   349,\n",
       "   356,\n",
       "   363,\n",
       "   370]},\n",
       " 'ROAA_Q99729_Wildtype': {'seq': 'CEIKVAQPKEVYQQQQYGSGGRGNRNRGNRGSGGGGGGGGQSQSWNQGYGNYWNQGYGYQQGYGPGYGGYDYSPYGYYGYGPGYDYSQGSTNYGKSQRRGGHQNNYKPY',\n",
       "  'temps': [250,\n",
       "   270,\n",
       "   290,\n",
       "   300,\n",
       "   307,\n",
       "   314,\n",
       "   321,\n",
       "   328,\n",
       "   335,\n",
       "   342,\n",
       "   349,\n",
       "   356,\n",
       "   363,\n",
       "   370]},\n",
       " 'RPAGYDS': {'seq': 'PRPAGYDSRPAGYDSRPAGYDSRPAGYDSG',\n",
       "  'temps': [250,\n",
       "   270,\n",
       "   290,\n",
       "   300,\n",
       "   307,\n",
       "   314,\n",
       "   321,\n",
       "   328,\n",
       "   335,\n",
       "   342,\n",
       "   349,\n",
       "   356,\n",
       "   363,\n",
       "   370]},\n",
       " 'RPLGYDS': {'seq': 'PRPLGYDSRPLGYDSRPLGYDSRPLGYDSG',\n",
       "  'temps': [250,\n",
       "   270,\n",
       "   290,\n",
       "   300,\n",
       "   307,\n",
       "   314,\n",
       "   321,\n",
       "   328,\n",
       "   335,\n",
       "   342,\n",
       "   349,\n",
       "   356,\n",
       "   363,\n",
       "   370]},\n",
       " 'SGO1(Q5FBB7)_Wildtype': {'seq': 'TSQQTVEPAQNQEICSSGMDPNSDDSSRNLFVKDLPQIPLEETELPGQGESFQIEDQIPTIPQDTLGVDFDSGEAKSTDNVLPRTVSVRSSLKKHCNSICQFDSLDDFETSHLAGKSFEFERVGFLDPLVNMHIPENVQHNACQWSKDQVNLSPKLIQPGTFTKTKEDILESKSEQTKSKQRDTQERKREEKRKANRRKSKRMSKYKENKSENKKTVPQKKMHKSVSSNDAYNFNLEEGVHLTPFRQKVSNDSNREENNESEVSLCESSGSGDDSDDLYLPTCKYIQNPTSNSDRPVTRPLAKRALKYTDEKETEGSKPTKTPTTTPPETQQSPHLSLKDITNVSLYPVVKIRRLSLSPKKNKASPAVALPKRRCTASVNYKEPTLASKLRRGDPFTDLCFLNSPIFKQKKDLRRSKKRALEVSPAKEAIFILYYVREFVSRFPDCRKCKLETHICLR',\n",
       "  'temps': [250,\n",
       "   270,\n",
       "   290,\n",
       "   300,\n",
       "   307,\n",
       "   314,\n",
       "   321,\n",
       "   328,\n",
       "   335,\n",
       "   342,\n",
       "   349,\n",
       "   356,\n",
       "   363,\n",
       "   370]},\n",
       " 'SGO1_-10Q+10N': {'seq': 'TSQQTVEPANNQEICSSGMDPNSDDSSRNLFVKDLPNIPLEETELPGQGESFNIEDQIPTIPQDTLGVDFDSGEAKSTDNVLPRTVSVRSSLKKHCNSICNFDSLDDFETSHLAGKSFEFERVGFLDPLVNMHIPENVQHNACNWSKDQVNLSPKLIQPGTFTKTKEDILESKSENTKSKNRDTQERKREEKRKANRRKSKRMSKYKENKSENKKTVPQKKMHKSVSSNDAYNFNLEEGVHLTPFRQKVSNDSNREENNESEVSLCESSGSGDDSDDLYLPTCKYINNPTSNSDRPVTRPLAKRALKYTDEKETEGSKPTKTPTTTPPETQNSPHLSLKDITNVSLYPVVKIRRLSLSPKKNKASPAVALPKRRCTASVNYKEPTLASKLRRGDPFTDLCFLNSPIFKNKKDLRRSKKRALEVSPAKEAIFILYYVREFVSRFPDCRKCKLETHICLR',\n",
       "  'temps': [250,\n",
       "   270,\n",
       "   290,\n",
       "   300,\n",
       "   307,\n",
       "   314,\n",
       "   321,\n",
       "   328,\n",
       "   335,\n",
       "   342,\n",
       "   349,\n",
       "   356,\n",
       "   363,\n",
       "   370]},\n",
       " 'SGO1_-20Q+20N': {'seq': 'TSNNTVEPANNNEICSSGMDPNSDDSSRNLFVKDLPNIPLEETELPGNGESFNIEDNIPTIPNDTLGVDFDSGEAKSTDNVLPRTVSVRSSLKKHCNSICNFDSLDDFETSHLAGKSFEFERVGFLDPLVNMHIPENVNHNACNWSKDNVNLSPKLINPGTFTKTKEDILESKSENTKSKNRDTNERKREEKRKANRRKSKRMSKYKENKSENKKTVPNKKMHKSVSSNDAYNFNLEEGVHLTPFRNKVSNDSNREENNESEVSLCESSGSGDDSDDLYLPTCKYINNPTSNSDRPVTRPLAKRALKYTDEKETEGSKPTKTPTTTPPETQQSPHLSLKDITNVSLYPVVKIRRLSLSPKKNKASPAVALPKRRCTASVNYKEPTLASKLRRGDPFTDLCFLNSPIFKQKKDLRRSKKRALEVSPAKEAIFILYYVREFVSRFPDCRKCKLETHICLR',\n",
       "  'temps': [250,\n",
       "   270,\n",
       "   290,\n",
       "   300,\n",
       "   307,\n",
       "   314,\n",
       "   321,\n",
       "   328,\n",
       "   335,\n",
       "   342,\n",
       "   349,\n",
       "   356,\n",
       "   363,\n",
       "   370]},\n",
       " 'SHAN3_-5Q+5N': {'seq': 'DVVPFRETPSYAKRRRLAGPSGLASPRPLNRSASDINLKGEAQPAASPGPSLRSLPHNLLLNRLNEEKDRDRDADQESNISGPLAGRAGNSKISPSGPGGPGPAPGPGPAPPAPPAPPPRGPKRK',\n",
       "  'temps': [250,\n",
       "   270,\n",
       "   290,\n",
       "   300,\n",
       "   307,\n",
       "   314,\n",
       "   321,\n",
       "   328,\n",
       "   335,\n",
       "   342,\n",
       "   349,\n",
       "   356,\n",
       "   363,\n",
       "   370]},\n",
       " 'SHAN3_Q9BYB0_Wildtype': {'seq': 'DVVPFRETPSYAKRRRLAGPSGLASPRPLQRSASDINLKGEAQPAASPGPSLRSLPHQLLLQRLQEEKDRDRDADQESNISGPLAGRAGQSKISPSGPGGPGPAPGPGPAPPAPPAPPPRGPKRK',\n",
       "  'temps': [250,\n",
       "   270,\n",
       "   290,\n",
       "   300,\n",
       "   307,\n",
       "   314,\n",
       "   321,\n",
       "   328,\n",
       "   335,\n",
       "   342,\n",
       "   349,\n",
       "   356,\n",
       "   363,\n",
       "   370]},\n",
       " 'SP16H_Q9Y5B9_Wildtype': {'seq': 'VGIFLKNEDEEEEEEEKDEAEDLLGRGSRAALLTERTRNEMTAEEKRRAHQKELAAQLNEEAKRRLTEQKGEQQIQKARKSNVSYKNPS',\n",
       "  'temps': [250,\n",
       "   270,\n",
       "   290,\n",
       "   300,\n",
       "   307,\n",
       "   314,\n",
       "   321,\n",
       "   328,\n",
       "   335,\n",
       "   342,\n",
       "   349,\n",
       "   356,\n",
       "   363,\n",
       "   370]},\n",
       " 'SUPT6H(Q7KZ85)_Wildtype': {'seq': 'LKRVREEGDEEGEGDEAEDEEQRGPELKQAS',\n",
       "  'temps': [250,\n",
       "   270,\n",
       "   290,\n",
       "   300,\n",
       "   307,\n",
       "   314,\n",
       "   321,\n",
       "   328,\n",
       "   335,\n",
       "   342,\n",
       "   349,\n",
       "   356,\n",
       "   363,\n",
       "   370]},\n",
       " 'SYN2_-10S+10T': {'seq': 'MMNFLRRRLSDTTFIANLPNGYMTDLQRPEPQQPPPPPPPGPGAATATAAPPTASPGPERRPPPATAPAPQPAPTPTVGTSFFTTLTQAVKQTAASAGLVDAPAPAPAA',\n",
       "  'temps': [250,\n",
       "   270,\n",
       "   290,\n",
       "   300,\n",
       "   307,\n",
       "   314,\n",
       "   321,\n",
       "   328,\n",
       "   335,\n",
       "   342,\n",
       "   349,\n",
       "   356,\n",
       "   363,\n",
       "   370]},\n",
       " 'SYN2_-3N+3Q': {'seq': 'MMQFLRRRLSDSSFIAQLPQGYMTDLQRPEPQQPPPPPPPGPGAASASAAPPTASPGPERRPPPASAPAPQPAPTPSVGSSFFSSLSQAVKQTAASAGLVDAPAPAPAA',\n",
       "  'temps': [250,\n",
       "   270,\n",
       "   290,\n",
       "   300,\n",
       "   307,\n",
       "   314,\n",
       "   321,\n",
       "   328,\n",
       "   335,\n",
       "   342,\n",
       "   349,\n",
       "   356,\n",
       "   363,\n",
       "   370]},\n",
       " 'SYN2_-5Q+5N': {'seq': 'MMNFLRRRLSDSSFIANLPNGYMTDLNRPEPNQPPPPPPPGPGAASASAAPPTASPGPERRPPPASAPAPNPAPTPSVGSSFFSSLSNAVKNTAASAGLVDAPAPAPAA',\n",
       "  'temps': [250,\n",
       "   270,\n",
       "   290,\n",
       "   300,\n",
       "   307,\n",
       "   314,\n",
       "   321,\n",
       "   328,\n",
       "   335,\n",
       "   342,\n",
       "   349,\n",
       "   356,\n",
       "   363,\n",
       "   370]},\n",
       " 'SYN2_-5S+5T': {'seq': 'MMNFLRRRLSDTSFIANLPNGYMTDLQRPEPQQPPPPPPPGPGAASASAAPPTASPGPERRPPPATAPAPQPAPTPSVGTSFFTTLSQAVKQTAASAGLVDAPAPAPAA',\n",
       "  'temps': [250,\n",
       "   270,\n",
       "   290,\n",
       "   300,\n",
       "   307,\n",
       "   314,\n",
       "   321,\n",
       "   328,\n",
       "   335,\n",
       "   342,\n",
       "   349,\n",
       "   356,\n",
       "   363,\n",
       "   370]},\n",
       " 'SYN2_Q92777_Wildtype': {'seq': 'MMNFLRRRLSDSSFIANLPNGYMTDLQRPEPQQPPPPPPPGPGAASASAAPPTASPGPERRPPPASAPAPQPAPTPSVGSSFFSSLSQAVKQTAASAGLVDAPAPAPAA',\n",
       "  'temps': [250,\n",
       "   270,\n",
       "   290,\n",
       "   300,\n",
       "   307,\n",
       "   314,\n",
       "   321,\n",
       "   328,\n",
       "   335,\n",
       "   342,\n",
       "   349,\n",
       "   356,\n",
       "   363,\n",
       "   370]},\n",
       " 'T229A_B2RXF0_Wildtype': {'seq': 'QQQQQQQQQRRGALPVPPGARVPTAAGARRRRPRGPRGAGGAPSQGLP',\n",
       "  'temps': [250,\n",
       "   270,\n",
       "   290,\n",
       "   300,\n",
       "   307,\n",
       "   314,\n",
       "   321,\n",
       "   328,\n",
       "   335,\n",
       "   342,\n",
       "   349,\n",
       "   356,\n",
       "   363,\n",
       "   370]},\n",
       " 'TADBP_Q13148_Wildtype': {'seq': 'NAEPKHNSNRQLERSGRFGGNPGGFGNQGGFGNSRGGGAGLGNNQGSNMGGGMNFGAFSINPAMMAAAQAALQSSWGMMGMLASQQNQSGPSGNNQNQGNMQREPNQAFGSGNNSYSGSNSGAAIGWGSASNAGSGSGFNGGFGSSMDSKSSGWGM',\n",
       "  'temps': [250,\n",
       "   270,\n",
       "   290,\n",
       "   300,\n",
       "   307,\n",
       "   314,\n",
       "   321,\n",
       "   328,\n",
       "   335,\n",
       "   342,\n",
       "   349,\n",
       "   356,\n",
       "   363,\n",
       "   370]},\n",
       " 'TEF_Q10587_Wildtype': {'seq': 'MSDAGGGKKPPVDPQAGPGPGPGRAAGERGLSGSFPLVLKKLMENPPREARLDKEKGKEKLEEDEAAAASTMAVSASLMPPIWDKTIPYDGESFHLEYMDLDEFLLENGIPASPTHLAHNLLLPVAELEGKESASSSTASPPSSSTAIFQPSETVSSTESSLEKERETPSPI',\n",
       "  'temps': [250,\n",
       "   270,\n",
       "   290,\n",
       "   300,\n",
       "   307,\n",
       "   314,\n",
       "   321,\n",
       "   328,\n",
       "   335,\n",
       "   342,\n",
       "   349,\n",
       "   356,\n",
       "   363,\n",
       "   370]},\n",
       " 'TEST_Q9Y6M0_Wildtype': {'seq': 'MGARGALLLALLLARAGLRKPESQEAAPLSGPCGR',\n",
       "  'temps': [250,\n",
       "   270,\n",
       "   290,\n",
       "   300,\n",
       "   307,\n",
       "   314,\n",
       "   321,\n",
       "   328,\n",
       "   335,\n",
       "   342,\n",
       "   349,\n",
       "   356,\n",
       "   363,\n",
       "   370]},\n",
       " 'TIA_-4y+4f': {'seq': 'MINPVQQQNQIGFPQPYGQWGQWFGNAQQIGQYMPNGWQVPAFGMYGQAWNQQGFNQTQSSAPWMGPNFGVQPPQGQNGSMLPNQPSGYRVAGYETN',\n",
       "  'temps': [250,\n",
       "   270,\n",
       "   290,\n",
       "   300,\n",
       "   307,\n",
       "   314,\n",
       "   321,\n",
       "   328,\n",
       "   335,\n",
       "   342,\n",
       "   349,\n",
       "   356,\n",
       "   363,\n",
       "   370]},\n",
       " 'TIA_-4Y+4W': {'seq': 'MINPVQQQNQIGWPQPYGQWGQWWGNAQQIGQYMPNGWQVPAWGMYGQAWNQQGFNQTQSSAPWMGPNWGVQPPQGQNGSMLPNQPSGYRVAGYETN',\n",
       "  'temps': [250,\n",
       "   270,\n",
       "   290,\n",
       "   300,\n",
       "   307,\n",
       "   314,\n",
       "   321,\n",
       "   328,\n",
       "   335,\n",
       "   342,\n",
       "   349,\n",
       "   356,\n",
       "   363,\n",
       "   370]},\n",
       " 'TIA_-5w+5f': {'seq': 'MINPVQQQNQIGYPQPYGQFGQFYGNAQQIGQYMPNGFQVPAYGMYGQAFNQQGFNQTQSSAPFMGPNYGVQPPQGQNGSMLPNQPSGYRVAGYETN',\n",
       "  'temps': [250,\n",
       "   270,\n",
       "   290,\n",
       "   300,\n",
       "   307,\n",
       "   314,\n",
       "   321,\n",
       "   328,\n",
       "   335,\n",
       "   342,\n",
       "   349,\n",
       "   356,\n",
       "   363,\n",
       "   370]},\n",
       " 'TIA_-5W+5Y': {'seq': 'MINPVQQQNQIGYPQPYGQYGQYYGNAQQIGQYMPNGYQVPAYGMYGQAYNQQGFNQTQSSAPYMGPNYGVQPPQGQNGSMLPNQPSGYRVAGYETN',\n",
       "  'temps': [250,\n",
       "   270,\n",
       "   290,\n",
       "   300,\n",
       "   307,\n",
       "   314,\n",
       "   321,\n",
       "   328,\n",
       "   335,\n",
       "   342,\n",
       "   349,\n",
       "   356,\n",
       "   363,\n",
       "   370]},\n",
       " 'TIA_-9N+9Q': {'seq': 'MIQPVQQQQQIGYPQPYGQWGQWYGQAQQIGQYMPQGWQVPAYGMYGQAWQQQGFQQTQSSAPWMGPQYGVQPPQGQQGSMLPQQPSGYRVAGYETN',\n",
       "  'temps': [250,\n",
       "   270,\n",
       "   290,\n",
       "   300,\n",
       "   307,\n",
       "   314,\n",
       "   321,\n",
       "   328,\n",
       "   335,\n",
       "   342,\n",
       "   349,\n",
       "   356,\n",
       "   363,\n",
       "   370]},\n",
       " 'TIA_-9y+9f': {'seq': 'MINPVQQQNQIGFPQPFGQWGQWFGNAQQIGQFMPNGWQVPAFGMFGQAWNQQGFNQTQSSAPWMGPNFGVQPPQGQNGSMLPNQPSGFRVAGFETN',\n",
       "  'temps': [250,\n",
       "   270,\n",
       "   290,\n",
       "   300,\n",
       "   307,\n",
       "   314,\n",
       "   321,\n",
       "   328,\n",
       "   335,\n",
       "   342,\n",
       "   349,\n",
       "   356,\n",
       "   363,\n",
       "   370]},\n",
       " 'TIA_-9y+9w': {'seq': 'MINPVQQQNQIGWPQPWGQWGQWWGNAQQIGQWMPNGWQVPAWGMWGQAWNQQGFNQTQSSAPWMGPNWGVQPPQGQNGSMLPNQPSGWRVAGWETN',\n",
       "  'temps': [250,\n",
       "   270,\n",
       "   290,\n",
       "   300,\n",
       "   307,\n",
       "   314,\n",
       "   321,\n",
       "   328,\n",
       "   335,\n",
       "   342,\n",
       "   349,\n",
       "   356,\n",
       "   363,\n",
       "   370]},\n",
       " 'TIF1B_Q13263_Wildtype': {'seq': 'MAASAAAASAAAASAASGSPGPGEGSAGGEKRSTAPSAAASASASAAASSPAGGGAEALELLEH',\n",
       "  'temps': [250,\n",
       "   270,\n",
       "   290,\n",
       "   300,\n",
       "   307,\n",
       "   314,\n",
       "   321,\n",
       "   328,\n",
       "   335,\n",
       "   342,\n",
       "   349,\n",
       "   356,\n",
       "   363,\n",
       "   370]},\n",
       " 'TVPGVG': {'seq': 'PTVPGVGTVPGVGTVPGVGTVPGVGG',\n",
       "  'temps': [250,\n",
       "   270,\n",
       "   290,\n",
       "   300,\n",
       "   307,\n",
       "   314,\n",
       "   321,\n",
       "   328,\n",
       "   335,\n",
       "   342,\n",
       "   349,\n",
       "   356,\n",
       "   363,\n",
       "   370]},\n",
       " 'UBP4_Q13107_Wildtype': {'seq': 'PQNEDGTWPRQTLQSKSSTAPSRNFTTSPKSSASPYSSVSASLIANGDSTSTCGMHSSGVSRGGSGFSASYNCQEPPSSHIQPG',\n",
       "  'temps': [250,\n",
       "   270,\n",
       "   290,\n",
       "   300,\n",
       "   307,\n",
       "   314,\n",
       "   321,\n",
       "   328,\n",
       "   335,\n",
       "   342,\n",
       "   349,\n",
       "   356,\n",
       "   363,\n",
       "   370]},\n",
       " 'UBQL2_-10S+10T': {'seq': 'QNRPQGQTTQPSNAAGTNTTTASTPRTNTTPITTNTNPFGLGTLGGLAGLSTLGLTSTNFTE',\n",
       "  'temps': [250,\n",
       "   270,\n",
       "   290,\n",
       "   300,\n",
       "   307,\n",
       "   314,\n",
       "   321,\n",
       "   328,\n",
       "   335,\n",
       "   342,\n",
       "   349,\n",
       "   356,\n",
       "   363,\n",
       "   370]},\n",
       " 'UBQL2_-4Q+4N': {'seq': 'NNRPNGNSTNPSNAAGTNTTSASTPRSNSTPISTNSNPFGLGSLGGLAGLSSLGLSSTNFSE',\n",
       "  'temps': [250,\n",
       "   270,\n",
       "   290,\n",
       "   300,\n",
       "   307,\n",
       "   314,\n",
       "   321,\n",
       "   328,\n",
       "   335,\n",
       "   342,\n",
       "   349,\n",
       "   356,\n",
       "   363,\n",
       "   370]},\n",
       " 'UBQL2_-5N+5Q': {'seq': 'QQRPQGQSTQPSQAAGTNTTSASTPRSQSTPISTQSQPFGLGSLGGLAGLSSLGLSSTNFSE',\n",
       "  'temps': [250,\n",
       "   270,\n",
       "   290,\n",
       "   300,\n",
       "   307,\n",
       "   314,\n",
       "   321,\n",
       "   328,\n",
       "   335,\n",
       "   342,\n",
       "   349,\n",
       "   356,\n",
       "   363,\n",
       "   370]},\n",
       " 'UBQL2_-5S+5T': {'seq': 'QNRPQGQTTQPSNAAGTNTTTASTPRTNSTPITTNSNPFGLGTLGGLAGLSSLGLSSTNFSE',\n",
       "  'temps': [250,\n",
       "   270,\n",
       "   290,\n",
       "   300,\n",
       "   307,\n",
       "   314,\n",
       "   321,\n",
       "   328,\n",
       "   335,\n",
       "   342,\n",
       "   349,\n",
       "   356,\n",
       "   363,\n",
       "   370]},\n",
       " 'UBQL2_-5T+5S': {'seq': 'QNRPQGQSTQPSNAAGSNSSSASSPRSNSSPISTNSNPFGLGSLGGLAGLSSLGLSSTNFSE',\n",
       "  'temps': [250,\n",
       "   270,\n",
       "   290,\n",
       "   300,\n",
       "   307,\n",
       "   314,\n",
       "   321,\n",
       "   328,\n",
       "   335,\n",
       "   342,\n",
       "   349,\n",
       "   356,\n",
       "   363,\n",
       "   370]},\n",
       " 'UBQL2_Q9UHD9+Wildtype': {'seq': 'QNRPQGQSTQPSNAAGTNTTSASTPRSNSTPISTNSNPFGLGSLGGLAGLSSLGLSSTNFSE',\n",
       "  'temps': [250,\n",
       "   270,\n",
       "   290,\n",
       "   300,\n",
       "   307,\n",
       "   314,\n",
       "   321,\n",
       "   328,\n",
       "   335,\n",
       "   342,\n",
       "   349,\n",
       "   356,\n",
       "   363,\n",
       "   370]},\n",
       " 'VAPGVG': {'seq': 'PVAPGVGVAPGVGVAPGVGG',\n",
       "  'temps': [250,\n",
       "   270,\n",
       "   290,\n",
       "   300,\n",
       "   307,\n",
       "   314,\n",
       "   321,\n",
       "   328,\n",
       "   335,\n",
       "   342,\n",
       "   349,\n",
       "   356,\n",
       "   363,\n",
       "   370]},\n",
       " 'VP22_HHV11_P10233_Wildtype': {'seq': 'MTSRRSVKSGPREVPRDEYEDLYYTPSSGMASPDSPPDTSRRGALQTRSRQRGEVRFVQYDESDYALYGGSSSEDDEHPEVPRTRRPVSGAVLSGPGPARAPPPPAGSGGAGRTPTTAPRAPRTQRVATKAPAAPAAETTRGRKSAQPESAALPDAPASTAPTRSKTPAQGLARKLHFSTAPPNPDAP',\n",
       "  'temps': [250,\n",
       "   270,\n",
       "   290,\n",
       "   300,\n",
       "   307,\n",
       "   314,\n",
       "   321,\n",
       "   328,\n",
       "   335,\n",
       "   342,\n",
       "   349,\n",
       "   356,\n",
       "   363,\n",
       "   370]},\n",
       " 'VPAP_HCMVA_P16790_Wildtype': {'seq': 'QRGDPFDKNYVGNSGKSRGGGGGGGSLSSLANAGGLHDDGPGLDNDLMNEPMGLGGLGGGGGGGGKKHDRGGGGGSGTRKMSSGGGGGDHDHGLSSKEKYEQHKITSYLTSKGGSGGGGGGGGGGLDRNSGNYFNDAKEESDSEDSVTFEFVPNTKKQKCG',\n",
       "  'temps': [250,\n",
       "   270,\n",
       "   290,\n",
       "   300,\n",
       "   307,\n",
       "   314,\n",
       "   321,\n",
       "   328,\n",
       "   335,\n",
       "   342,\n",
       "   349,\n",
       "   356,\n",
       "   363,\n",
       "   370]},\n",
       " 'VPGHSHRDFQPVLHLVALNSPLSGGMRG': {'seq': 'PVPGHSHRDFQPVLHLVALNSPLSGGMRGVPGHSHRDFQPVLHLVALNSPLSGGMRGVPGHSHRDFQPVLHLVALNSPLSGGMRGVPGHSHRDFQPVLHLVALNSPLSGGMRGG',\n",
       "  'temps': [250,\n",
       "   270,\n",
       "   290,\n",
       "   300,\n",
       "   307,\n",
       "   314,\n",
       "   321,\n",
       "   328,\n",
       "   335,\n",
       "   342,\n",
       "   349,\n",
       "   356,\n",
       "   363,\n",
       "   370]},\n",
       " 'VPGVG': {'seq': 'PVPGVGVPGVGVPGVGVPGVGG',\n",
       "  'temps': [250,\n",
       "   270,\n",
       "   290,\n",
       "   300,\n",
       "   307,\n",
       "   314,\n",
       "   321,\n",
       "   328,\n",
       "   335,\n",
       "   342,\n",
       "   349,\n",
       "   356,\n",
       "   363,\n",
       "   370]},\n",
       " 'VPHSRNGG': {'seq': 'PVPHSRNGGVPHSRNGGVPHSRNGGVPHSRNGGG',\n",
       "  'temps': [250,\n",
       "   270,\n",
       "   290,\n",
       "   300,\n",
       "   307,\n",
       "   314,\n",
       "   321,\n",
       "   328,\n",
       "   335,\n",
       "   342,\n",
       "   349,\n",
       "   356,\n",
       "   363,\n",
       "   370]},\n",
       " 'VPHSRNGGNSGGRGDSPYG': {'seq': 'PVPHSRNGGNSGGRGDSPYGVPHSRNGGNSGGRGDSPYGVPHSRNGGNSGGRGDSPYGVPHSRNGGNSGGRGDSPYGG',\n",
       "  'temps': [250,\n",
       "   270,\n",
       "   290,\n",
       "   300,\n",
       "   307,\n",
       "   314,\n",
       "   321,\n",
       "   328,\n",
       "   335,\n",
       "   342,\n",
       "   349,\n",
       "   356,\n",
       "   363,\n",
       "   370]},\n",
       " 'YAK1_P14680_Wildtype': {'seq': 'MNSSNNNDSSSSNSNMNNSLSPTLVTHSDASMGSGRASPDNSHMGRGIWNPSYVNQGSQRSPQQQHQNHHQQQQQQQQQQQQNSQFCFVNPWNEEKVTNSQQNLVYPPQYDDLNSNESLDAYRRRKSSLVVPPARAPAPNPFQYDSYPAYTSSNTSLAGNSSGQYPSGYQQQQQQVYQQGAIHPSQFGSRFVPSLYDRQDFQRRQSLAATNYSSNFSSLNSNTNQGTNSIPVMSPYRRLSAYPPSTSPPLQPPFKQLRRDEVQGQKLSIPQMQLCNSKNDLQPVLNATPKFRRASLNSKTISPLVSVTKSLITTYSLCSPEFTYQTSKNPKRVLTKPSEGKCNNGFD',\n",
       "  'temps': [250,\n",
       "   270,\n",
       "   290,\n",
       "   300,\n",
       "   307,\n",
       "   314,\n",
       "   321,\n",
       "   328,\n",
       "   335,\n",
       "   342,\n",
       "   349,\n",
       "   356,\n",
       "   363,\n",
       "   370]},\n",
       " 'YTDC1_-10R+10K': {'seq': 'RKMHSQPRSRGRPSRKEPVRDVGRKRPEDYDIHNSRKKPRIDYPPEFHQRPGYLKDPRYQEVDRKFSGVRKDVFLNGSYNDYVREFHNMGPPPPWQGMPPYPGMEQPPHHPYYQHHAPPPQAHPPYSGHHPVPHEARYRDKRVHDYDMRVDDFLRKTQAVVSGRKSRPRERDRERERDRPRDNRKDRERDRGKDRERERERLCDRDRDRGERGRYKR',\n",
       "  'temps': [250,\n",
       "   270,\n",
       "   290,\n",
       "   300,\n",
       "   307,\n",
       "   314,\n",
       "   321,\n",
       "   328,\n",
       "   335,\n",
       "   342,\n",
       "   349,\n",
       "   356,\n",
       "   363,\n",
       "   370]},\n",
       " 'YTDC1_-10Y+10F': {'seq': 'RRMHSQPRSRGRPSRREPVRDVGRRRPEDYDIHNSRKKPRIDFPPEFHQRPGFLKDPRFQEVDRRFSGVRRDVFLNGSFNDYVREFHNMGPPPPWQGMPPFPGMEQPPHHPYFQHHAPPPQAHPPFSGHHPVPHEARFRDKRVHDFDMRVDDFLRRTQAVVSGRRSRPRERDRERERDRPRDNRRDRERDRGRDRERERERLCDRDRDRGERGRFRR',\n",
       "  'temps': [250,\n",
       "   270,\n",
       "   290,\n",
       "   300,\n",
       "   307,\n",
       "   314,\n",
       "   321,\n",
       "   328,\n",
       "   335,\n",
       "   342,\n",
       "   349,\n",
       "   356,\n",
       "   363,\n",
       "   370]},\n",
       " 'YTDC1_-10Y+10W': {'seq': 'RRMHSQPRSRGRPSRREPVRDVGRRRPEDWDIHNSRKKPRIDYPPEFHQRPGWLKDPRWQEVDRRFSGVRRDVFLNGSYNDWVREFHNMGPPPPWQGMPPWPGMEQPPHHPYWQHHAPPPQAHPPWSGHHPVPHEARWRDKRVHDWDMRVDDFLRRTQAVVSGRRSRPRERDRERERDRPRDNRRDRERDRGRDRERERERLCDRDRDRGERGRWRR',\n",
       "  'temps': [250,\n",
       "   270,\n",
       "   290,\n",
       "   300,\n",
       "   307,\n",
       "   314,\n",
       "   321,\n",
       "   328,\n",
       "   335,\n",
       "   342,\n",
       "   349,\n",
       "   356,\n",
       "   363,\n",
       "   370]},\n",
       " 'YTDC1_-20R+20K': {'seq': 'RKMHSQPKSRGKPSRKEPVKDVGRKRPEDYDIHNSKKKPRIDYPPEFHQRPGYLKDPKYQEVDRKFSGVRKDVFLNGSYNDYVREFHNMGPPPPWQGMPPYPGMEQPPHHPYYQHHAPPPQAHPPYSGHHPVPHEARYKDKRVHDYDMRVDDFLKKTQAVVSGRKSRPRERDREREKDRPRDNRKDRERDRGKDRERERERLCDKDRDRGEKGRYKR',\n",
       "  'temps': [250,\n",
       "   270,\n",
       "   290,\n",
       "   300,\n",
       "   307,\n",
       "   314,\n",
       "   321,\n",
       "   328,\n",
       "   335,\n",
       "   342,\n",
       "   349,\n",
       "   356,\n",
       "   363,\n",
       "   370]},\n",
       " 'YTDC1_-30R+30K': {'seq': 'RKMHSQPKSKGKPSRKEPVKDVGKKRPEDYDIHNSKKKPRIDYPPEFHQKPGYLKDPKYQEVDRKFSGVKKDVFLNGSYNDYVREFHNMGPPPPWQGMPPYPGMEQPPHHPYYQHHAPPPQAHPPYSGHHPVPHEARYKDKKVHDYDMRVDDFLKKTQAVVSGRKSRPKERDKEREKDKPRDNRKDREKDRGKDREKERERLCDKDRDRGEKGRYKR',\n",
       "  'temps': [250,\n",
       "   270,\n",
       "   290,\n",
       "   300,\n",
       "   307,\n",
       "   314,\n",
       "   321,\n",
       "   328,\n",
       "   335,\n",
       "   342,\n",
       "   349,\n",
       "   356,\n",
       "   363,\n",
       "   370]},\n",
       " 'YTDC1_-5N+5Q': {'seq': 'RRMHSQPRSRGRPSRREPVRDVGRRRPEDYDIHQSRKKPRIDYPPEFHQRPGYLKDPRYQEVDRRFSGVRRDVFLQGSYQDYVREFHQMGPPPPWQGMPPYPGMEQPPHHPYYQHHAPPPQAHPPYSGHHPVPHEARYRDKRVHDYDMRVDDFLRRTQAVVSGRRSRPRERDRERERDRPRDQRRDRERDRGRDRERERERLCDRDRDRGERGRYRR',\n",
       "  'temps': [250,\n",
       "   270,\n",
       "   290,\n",
       "   300,\n",
       "   307,\n",
       "   314,\n",
       "   321,\n",
       "   328,\n",
       "   335,\n",
       "   342,\n",
       "   349,\n",
       "   356,\n",
       "   363,\n",
       "   370]},\n",
       " 'YTDC1_-5Q+5N': {'seq': 'RRMHSQPRSRGRPSRREPVRDVGRRRPEDYDIHNSRKKPRIDYPPEFHNRPGYLKDPRYNEVDRRFSGVRRDVFLNGSYNDYVREFHNMGPPPPWQGMPPYPGMENPPHHPYYNHHAPPPNAHPPYSGHHPVPHEARYRDKRVHDYDMRVDDFLRRTQAVVSGRRSRPRERDRERERDRPRDNRRDRERDRGRDRERERERLCDRDRDRGERGRYRR',\n",
       "  'temps': [250,\n",
       "   270,\n",
       "   290,\n",
       "   300,\n",
       "   307,\n",
       "   314,\n",
       "   321,\n",
       "   328,\n",
       "   335,\n",
       "   342,\n",
       "   349,\n",
       "   356,\n",
       "   363,\n",
       "   370]},\n",
       " 'YTDC1_-5Y+5F': {'seq': 'RRMHSQPRSRGRPSRREPVRDVGRRRPEDYDIHNSRKKPRIDYPPEFHQRPGFLKDPRYQEVDRRFSGVRRDVFLNGSFNDYVREFHNMGPPPPWQGMPPYPGMEQPPHHPYFQHHAPPPQAHPPFSGHHPVPHEARYRDKRVHDFDMRVDDFLRRTQAVVSGRRSRPRERDRERERDRPRDNRRDRERDRGRDRERERERLCDRDRDRGERGRYRR',\n",
       "  'temps': [250,\n",
       "   270,\n",
       "   290,\n",
       "   300,\n",
       "   307,\n",
       "   314,\n",
       "   321,\n",
       "   328,\n",
       "   335,\n",
       "   342,\n",
       "   349,\n",
       "   356,\n",
       "   363,\n",
       "   370]},\n",
       " 'YTDC1_-5Y+5W': {'seq': 'RRMHSQPRSRGRPSRREPVRDVGRRRPEDYDIHNSRKKPRIDYPPEFHQRPGWLKDPRYQEVDRRFSGVRRDVFLNGSYNDWVREFHNMGPPPPWQGMPPYPGMEQPPHHPYWQHHAPPPQAHPPWSGHHPVPHEARYRDKRVHDWDMRVDDFLRRTQAVVSGRRSRPRERDRERERDRPRDNRRDRERDRGRDRERERERLCDRDRDRGERGRYRR',\n",
       "  'temps': [250,\n",
       "   270,\n",
       "   290,\n",
       "   300,\n",
       "   307,\n",
       "   314,\n",
       "   321,\n",
       "   328,\n",
       "   335,\n",
       "   342,\n",
       "   349,\n",
       "   356,\n",
       "   363,\n",
       "   370]},\n",
       " 'YTDC1_Q96MU7_Wildtype': {'seq': 'RRMHSQPRSRGRPSRREPVRDVGRRRPEDYDIHNSRKKPRIDYPPEFHQRPGYLKDPRYQEVDRRFSGVRRDVFLNGSYNDYVREFHNMGPPPPWQGMPPYPGMEQPPHHPYYQHHAPPPQAHPPYSGHHPVPHEARYRDKRVHDYDMRVDDFLRRTQAVVSGRRSRPRERDRERERDRPRDNRRDRERDRGRDRERERERLCDRDRDRGERGRYRR',\n",
       "  'temps': [250,\n",
       "   270,\n",
       "   290,\n",
       "   300,\n",
       "   307,\n",
       "   314,\n",
       "   321,\n",
       "   328,\n",
       "   335,\n",
       "   342,\n",
       "   349,\n",
       "   356,\n",
       "   363,\n",
       "   370]},\n",
       " 'ZN652_Q9Y2D9_Wildtype': {'seq': 'MSHTASSCQELVENCAVHVAGMAQEDSRRGQVPSSFYHGANQELDLSTKVYKRESGSPYSVLVDTKMSKPHLHETEEQPYFRETRAVSDVHAVKEDRENSDDTEEEEEEVSYKREQIIVEVNLNNQTLNVSKGEKGVSSQSKETPVLKTSSEEEEEESEEEATDDSNDYGENEKQKKKEKIVEKVSVTQRRTRRAASVAAATTSPTPRTTRGRRKSVEPPKRKKRATKEPKAPVQKAKCEEKETLTCEKCPRVFNTRWYLEKHMNVTHRRMQICDKCGKKFVLESELSLHQQTDC',\n",
       "  'temps': [250,\n",
       "   270,\n",
       "   290,\n",
       "   300,\n",
       "   307,\n",
       "   314,\n",
       "   321,\n",
       "   328,\n",
       "   335,\n",
       "   342,\n",
       "   349,\n",
       "   356,\n",
       "   363,\n",
       "   370]}}"
      ]
     },
     "execution_count": 17,
     "metadata": {},
     "output_type": "execute_result"
    }
   ],
   "source": [
    "seq_to_run = read_sim_data()\n",
    "seq_to_run"
   ]
  },
  {
   "cell_type": "code",
   "execution_count": 23,
   "id": "95d1f4f7-8ae6-46f1-aa23-942315adb648",
   "metadata": {},
   "outputs": [],
   "source": [
    "julias_simulations = [\"TDP\", \"TIA\", \"EWSR\", \"RBM\", \"FUS\"]"
   ]
  },
  {
   "cell_type": "code",
   "execution_count": 24,
   "id": "a97b0b69-3dbd-4b50-b29d-62309ed4ee16",
   "metadata": {},
   "outputs": [
    {
     "name": "stdout",
     "output_type": "stream",
     "text": [
      "EWSR1_-10G+10T\n",
      "EWSR1_-10Q+10N\n",
      "EWSR1_-10S+10t\n",
      "EWSR1_-10T+10G\n",
      "EWSR1_-10t+10s\n",
      "EWSR1_-10Y\n",
      "EWSR1_-20G+20T\n",
      "EWSR1_-20Q+20N\n",
      "EWSR1_-20S+20T\n",
      "EWSR1_-20T+20G\n",
      "EWSR1_-20T+20S\n",
      "EWSR1_-20Y\n",
      "EWSR1_-20Y+20F\n",
      "EWSR1_-30S+30T\n",
      "EWSR1_-30T+30G\n",
      "EWSR1_-30T+30S\n",
      "EWSR1_-30Y+30F\n",
      "EWSR1_-4N+4Q\n",
      "EWSR1_-5Q+5N\n",
      "EWSR1_-5Y\n",
      "EWSR1_-5Y+5F\n",
      "fus_-10g+10t\n",
      "fus_-10q+10n\n",
      "fus_-10s+10t\n",
      "fus_-10t+10g\n",
      "fus_-10t+10s\n",
      "fus_-14y\n",
      "fus_-14y+14f\n",
      "fus_-20q+20n\n",
      "fus_-28y+28f\n",
      "fus_-5q+5n\n",
      "fus_-5t+5g\n",
      "fus_-5t+5s\n",
      "fus_-7y\n",
      "fus_-7y+7f\n",
      "RBM14_-10T+10G\n",
      "RBM14_-10T+10S\n",
      "RBM14_-10Y\n",
      "RBM14_-20Q+20N\n",
      "RBM14_-20Y+20F\n",
      "RBM14_-30Y+30F\n",
      "RBM14_-5Q+5N\n",
      "RBM14_-5T+5G\n",
      "RBM14_-5T+5S\n",
      "RBM14_-5Y\n",
      "RBM14_-5Y+5F\n",
      "TIA_-4y+4f\n",
      "TIA_-4Y+4W\n",
      "TIA_-5w+5f\n",
      "TIA_-5W+5Y\n",
      "TIA_-9N+9Q\n",
      "TIA_-9y+9f\n",
      "TIA_-9y+9w\n"
     ]
    }
   ],
   "source": [
    "for k in seq_to_run:\n",
    "    for j in julias_simulations:\n",
    "        if k.lower().startswith(j.lower()):\n",
    "            print(k)"
   ]
  },
  {
   "cell_type": "code",
   "execution_count": 25,
   "id": "5c09795a-33f7-4e77-9d36-5202382fd6e0",
   "metadata": {
    "scrolled": true
   },
   "outputs": [
    {
     "data": {
      "text/plain": [
       "97"
      ]
     },
     "execution_count": 25,
     "metadata": {},
     "output_type": "execute_result"
    }
   ],
   "source": [
    "len(seq_to_run[\"TIA_-5w+5f\"][\"seq\"])"
   ]
  },
  {
   "cell_type": "code",
   "execution_count": 26,
   "id": "49af42c5-d11a-4453-aa07-5a92fb80a56c",
   "metadata": {},
   "outputs": [],
   "source": [
    "class JuliasExeption(Exception):\n",
    "    pass"
   ]
  },
  {
   "cell_type": "code",
   "execution_count": 27,
   "id": "ba3214d3-5539-46a1-9200-d71a82b967b5",
   "metadata": {},
   "outputs": [
    {
     "data": {
      "text/plain": [
       "{'seq': 'MINPVQQQNQIGYPQPYGQFGQFYGNAQQIGQYMPNGFQVPAYGMYGQAFNQQGFNQTQSSAPFMGPNYGVQPPQGQNGSMLPNQPSGYRVAGYETN',\n",
       " 'temps': [250,\n",
       "  270,\n",
       "  290,\n",
       "  300,\n",
       "  307,\n",
       "  314,\n",
       "  321,\n",
       "  328,\n",
       "  335,\n",
       "  342,\n",
       "  349,\n",
       "  356,\n",
       "  363,\n",
       "  370]}"
      ]
     },
     "execution_count": 27,
     "metadata": {},
     "output_type": "execute_result"
    }
   ],
   "source": [
    "seq_to_run['TIA_-5w+5f']"
   ]
  },
  {
   "cell_type": "code",
   "execution_count": 29,
   "id": "e85c1849-8455-4744-b2e9-45d1e0650a7e",
   "metadata": {},
   "outputs": [],
   "source": [
    "seq_to_run = {**seq_to_run, **{'TIA_-5w+5f_j': {'seq': 'MINPVQQQNQIGYPQPYGQFGQFYGNAQQIGQYMPNGFQVPAYGMYGQAFNQQGFNQTQSSAPFMGPNYGVQPPQGQNGSMLPNQPSGYRVAGYETN',\n",
    " 'temps': [\n",
    "  334,\n",
    "  335,\n",
    "  337,\n",
    "  339,\n",
    "  341,\n",
    "  342\n",
    "  ]}}}"
   ]
  },
  {
   "cell_type": "code",
   "execution_count": 30,
   "id": "2eac52ad-9be6-4350-b264-55aa0eec29b8",
   "metadata": {},
   "outputs": [
    {
     "data": {
      "text/plain": [
       "{'seq': 'MINPVQQQNQIGYPQPYGQFGQFYGNAQQIGQYMPNGFQVPAYGMYGQAFNQQGFNQTQSSAPFMGPNYGVQPPQGQNGSMLPNQPSGYRVAGYETN',\n",
       " 'temps': [334, 335, 337, 339, 341, 342]}"
      ]
     },
     "execution_count": 30,
     "metadata": {},
     "output_type": "execute_result"
    }
   ],
   "source": [
    "seq_to_run[\"TIA_-5w+5f_j\"]"
   ]
  },
  {
   "cell_type": "code",
   "execution_count": null,
   "id": "f3845dd7-587f-480b-8158-5f4f7bf4dfce",
   "metadata": {},
   "outputs": [],
   "source": []
  },
  {
   "cell_type": "code",
   "execution_count": 32,
   "id": "7a9de7fa-7f4d-4b01-ba9e-90f0df7e8a5c",
   "metadata": {
    "scrolled": true
   },
   "outputs": [
    {
     "name": "stdout",
     "output_type": "stream",
     "text": [
      "15-Aug-24 | 07:55\n",
      "CPUs 96, proccesses 6, CPUs_per_process 16\n",
      "\n",
      "replicating Julia's TIA_-5w+5f_j\n",
      "running simulation for TIA_-5w+5f_j\n",
      "15-Aug-24 | 07:55\n",
      "seq len 97\n",
      "total temps 6\n",
      "simulation/runs/TIA_-5w+5f_j_2024_08_15_07_08_1723708550\n",
      "step 1: running input single chain\n"
     ]
    },
    {
     "name": "stderr",
     "output_type": "stream",
     "text": [
      "/home/ubuntu/CTP/simulation/runs/TIA_-5w+5f_j_2024_08_15_07_08_1723708550/seq2config.py:67: DeprecationWarning: Conversion of an array with ndim > 0 to a scalar is deprecated, and will error in future. Ensure you extract a single element from your array before performing this operation. (Deprecated NumPy 1.25.)\n",
      "  typescharges.append([int(types[p,1]),float(charges[k,1])])\n"
     ]
    },
    {
     "ename": "KeyboardInterrupt",
     "evalue": "",
     "output_type": "error",
     "traceback": [
      "\u001b[0;31m---------------------------------------------------------------------------\u001b[0m",
      "\u001b[0;31mKeyboardInterrupt\u001b[0m                         Traceback (most recent call last)",
      "File \u001b[0;32m~/anaconda3/envs/lammps/lib/python3.9/subprocess.py:1189\u001b[0m, in \u001b[0;36mPopen.wait\u001b[0;34m(self, timeout)\u001b[0m\n\u001b[1;32m   1188\u001b[0m \u001b[38;5;28;01mtry\u001b[39;00m:\n\u001b[0;32m-> 1189\u001b[0m     \u001b[38;5;28;01mreturn\u001b[39;00m \u001b[38;5;28;43mself\u001b[39;49m\u001b[38;5;241;43m.\u001b[39;49m\u001b[43m_wait\u001b[49m\u001b[43m(\u001b[49m\u001b[43mtimeout\u001b[49m\u001b[38;5;241;43m=\u001b[39;49m\u001b[43mtimeout\u001b[49m\u001b[43m)\u001b[49m\n\u001b[1;32m   1190\u001b[0m \u001b[38;5;28;01mexcept\u001b[39;00m \u001b[38;5;167;01mKeyboardInterrupt\u001b[39;00m:\n\u001b[1;32m   1191\u001b[0m     \u001b[38;5;66;03m# https://bugs.python.org/issue25942\u001b[39;00m\n\u001b[1;32m   1192\u001b[0m     \u001b[38;5;66;03m# The first keyboard interrupt waits briefly for the child to\u001b[39;00m\n\u001b[1;32m   1193\u001b[0m     \u001b[38;5;66;03m# exit under the common assumption that it also received the ^C\u001b[39;00m\n\u001b[1;32m   1194\u001b[0m     \u001b[38;5;66;03m# generated SIGINT and will exit rapidly.\u001b[39;00m\n",
      "File \u001b[0;32m~/anaconda3/envs/lammps/lib/python3.9/subprocess.py:1933\u001b[0m, in \u001b[0;36mPopen._wait\u001b[0;34m(self, timeout)\u001b[0m\n\u001b[1;32m   1932\u001b[0m     \u001b[38;5;28;01mbreak\u001b[39;00m  \u001b[38;5;66;03m# Another thread waited.\u001b[39;00m\n\u001b[0;32m-> 1933\u001b[0m (pid, sts) \u001b[38;5;241m=\u001b[39m \u001b[38;5;28;43mself\u001b[39;49m\u001b[38;5;241;43m.\u001b[39;49m\u001b[43m_try_wait\u001b[49m\u001b[43m(\u001b[49m\u001b[38;5;241;43m0\u001b[39;49m\u001b[43m)\u001b[49m\n\u001b[1;32m   1934\u001b[0m \u001b[38;5;66;03m# Check the pid and loop as waitpid has been known to\u001b[39;00m\n\u001b[1;32m   1935\u001b[0m \u001b[38;5;66;03m# return 0 even without WNOHANG in odd situations.\u001b[39;00m\n\u001b[1;32m   1936\u001b[0m \u001b[38;5;66;03m# http://bugs.python.org/issue14396.\u001b[39;00m\n",
      "File \u001b[0;32m~/anaconda3/envs/lammps/lib/python3.9/subprocess.py:1891\u001b[0m, in \u001b[0;36mPopen._try_wait\u001b[0;34m(self, wait_flags)\u001b[0m\n\u001b[1;32m   1890\u001b[0m \u001b[38;5;28;01mtry\u001b[39;00m:\n\u001b[0;32m-> 1891\u001b[0m     (pid, sts) \u001b[38;5;241m=\u001b[39m \u001b[43mos\u001b[49m\u001b[38;5;241;43m.\u001b[39;49m\u001b[43mwaitpid\u001b[49m\u001b[43m(\u001b[49m\u001b[38;5;28;43mself\u001b[39;49m\u001b[38;5;241;43m.\u001b[39;49m\u001b[43mpid\u001b[49m\u001b[43m,\u001b[49m\u001b[43m \u001b[49m\u001b[43mwait_flags\u001b[49m\u001b[43m)\u001b[49m\n\u001b[1;32m   1892\u001b[0m \u001b[38;5;28;01mexcept\u001b[39;00m \u001b[38;5;167;01mChildProcessError\u001b[39;00m:\n\u001b[1;32m   1893\u001b[0m     \u001b[38;5;66;03m# This happens if SIGCLD is set to be ignored or waiting\u001b[39;00m\n\u001b[1;32m   1894\u001b[0m     \u001b[38;5;66;03m# for child processes has otherwise been disabled for our\u001b[39;00m\n\u001b[1;32m   1895\u001b[0m     \u001b[38;5;66;03m# process.  This child is dead, we can't get the status.\u001b[39;00m\n",
      "\u001b[0;31mKeyboardInterrupt\u001b[0m: ",
      "\nDuring handling of the above exception, another exception occurred:\n",
      "\u001b[0;31mKeyboardInterrupt\u001b[0m                         Traceback (most recent call last)",
      "Cell \u001b[0;32mIn[32], line 45\u001b[0m\n\u001b[1;32m     42\u001b[0m \u001b[38;5;28mprint\u001b[39m(mesg)\n\u001b[1;32m     43\u001b[0m f\u001b[38;5;241m.\u001b[39mwritelines(mesg\u001b[38;5;241m+\u001b[39m\u001b[38;5;124m\"\u001b[39m\u001b[38;5;130;01m\\n\u001b[39;00m\u001b[38;5;124m\"\u001b[39m)\n\u001b[0;32m---> 45\u001b[0m \u001b[43mrun_simulation\u001b[49m\u001b[43m(\u001b[49m\u001b[38;5;241;43m*\u001b[39;49m\u001b[38;5;241;43m*\u001b[39;49m\u001b[43m \u001b[49m\u001b[43msim_args\u001b[49m\u001b[43m \u001b[49m\u001b[38;5;241;43m|\u001b[39;49m\u001b[43m \u001b[49m\u001b[43m{\u001b[49m\u001b[38;5;124;43m\"\u001b[39;49m\u001b[38;5;124;43mCPUs\u001b[39;49m\u001b[38;5;124;43m\"\u001b[39;49m\u001b[43m:\u001b[49m\u001b[43m \u001b[49m\u001b[43mCPUs\u001b[49m\u001b[43m,\u001b[49m\u001b[43m \u001b[49m\u001b[38;5;124;43m\"\u001b[39;49m\u001b[38;5;124;43mCPUs_per_process\u001b[39;49m\u001b[38;5;124;43m\"\u001b[39;49m\u001b[43m:\u001b[49m\u001b[43m \u001b[49m\u001b[43mCPUs_per_process\u001b[49m\u001b[43m}\u001b[49m\u001b[43m)\u001b[49m\n\u001b[1;32m     46\u001b[0m \u001b[38;5;66;03m# for i in range(111111111):\u001b[39;00m\n\u001b[1;32m     47\u001b[0m \u001b[38;5;66;03m#     pass\u001b[39;00m\n\u001b[1;32m     48\u001b[0m mesg \u001b[38;5;241m=\u001b[39m \u001b[38;5;124mf\u001b[39m\u001b[38;5;124m'\u001b[39m\u001b[38;5;124mexecution time: \u001b[39m\u001b[38;5;132;01m{\u001b[39;00m(time\u001b[38;5;241m.\u001b[39mtime()\u001b[38;5;250m \u001b[39m\u001b[38;5;241m-\u001b[39m\u001b[38;5;250m \u001b[39mstart_time)\u001b[38;5;250m \u001b[39m\u001b[38;5;241m/\u001b[39m\u001b[38;5;250m \u001b[39m(\u001b[38;5;241m60\u001b[39m\u001b[38;5;241m*\u001b[39m\u001b[38;5;241m60\u001b[39m)\u001b[38;5;132;01m}\u001b[39;00m\u001b[38;5;124m hours\u001b[39m\u001b[38;5;124m'\u001b[39m\n",
      "Cell \u001b[0;32mIn[21], line 45\u001b[0m, in \u001b[0;36mrun_simulation\u001b[0;34m(gene_name, seq, temps, CPUs, CPUs_per_process, run_dirs, simulation_dir, delete_lammpstrj)\u001b[0m\n\u001b[1;32m     43\u001b[0m \u001b[38;5;28mprint\u001b[39m(\u001b[38;5;124m\"\u001b[39m\u001b[38;5;124mstep 1: running input single chain\u001b[39m\u001b[38;5;124m\"\u001b[39m)\n\u001b[1;32m     44\u001b[0m f \u001b[38;5;241m=\u001b[39m \u001b[38;5;28mopen\u001b[39m(os\u001b[38;5;241m.\u001b[39mpath\u001b[38;5;241m.\u001b[39mjoin(simulation_dir_name, \u001b[38;5;124m\"\u001b[39m\u001b[38;5;124minputSingleChain.log\u001b[39m\u001b[38;5;124m\"\u001b[39m), \u001b[38;5;124m\"\u001b[39m\u001b[38;5;124mw+\u001b[39m\u001b[38;5;124m\"\u001b[39m)\n\u001b[0;32m---> 45\u001b[0m \u001b[43msubprocess\u001b[49m\u001b[38;5;241;43m.\u001b[39;49m\u001b[43mrun\u001b[49m\u001b[43m(\u001b[49m\u001b[43m[\u001b[49m\u001b[38;5;124;43m\"\u001b[39;49m\u001b[38;5;124;43mmpiexec\u001b[39;49m\u001b[38;5;124;43m\"\u001b[39;49m\u001b[43m,\u001b[49m\u001b[43m \u001b[49m\u001b[38;5;124;43m\"\u001b[39;49m\u001b[38;5;124;43m-np\u001b[39;49m\u001b[38;5;124;43m\"\u001b[39;49m\u001b[43m,\u001b[49m\u001b[43m \u001b[49m\u001b[38;5;28;43mstr\u001b[39;49m\u001b[43m(\u001b[49m\u001b[43mCPUs_for_first_stages\u001b[49m\u001b[43m)\u001b[49m\u001b[43m,\u001b[49m\u001b[43m \u001b[49m\u001b[38;5;124;43m\"\u001b[39;49m\u001b[38;5;124;43mlmp\u001b[39;49m\u001b[38;5;124;43m\"\u001b[39;49m\u001b[43m,\u001b[49m\u001b[43m \u001b[49m\u001b[38;5;124;43m\"\u001b[39;49m\u001b[38;5;124;43m-in\u001b[39;49m\u001b[38;5;124;43m\"\u001b[39;49m\u001b[43m,\u001b[49m\u001b[43m \u001b[49m\u001b[38;5;124;43m\"\u001b[39;49m\u001b[38;5;124;43minputSingleChain.lmp\u001b[39;49m\u001b[38;5;124;43m\"\u001b[39;49m\u001b[43m]\u001b[49m\u001b[43m,\u001b[49m\u001b[43m \u001b[49m\u001b[43mstdout\u001b[49m\u001b[38;5;241;43m=\u001b[39;49m\u001b[43mf\u001b[49m\u001b[43m,\u001b[49m\u001b[43m \u001b[49m\u001b[43mcwd\u001b[49m\u001b[38;5;241;43m=\u001b[39;49m\u001b[43msimulation_dir_name\u001b[49m\u001b[43m)\u001b[49m\n\u001b[1;32m     46\u001b[0m f\u001b[38;5;241m.\u001b[39mclose()\n\u001b[1;32m     47\u001b[0m os\u001b[38;5;241m.\u001b[39mrename(os\u001b[38;5;241m.\u001b[39mpath\u001b[38;5;241m.\u001b[39mjoin(simulation_dir_name, \u001b[38;5;124m\"\u001b[39m\u001b[38;5;124mfinalSingleChainStructure.dat\u001b[39m\u001b[38;5;124m\"\u001b[39m), os\u001b[38;5;241m.\u001b[39mpath\u001b[38;5;241m.\u001b[39mjoin(simulation_dir_name, \u001b[38;5;124m\"\u001b[39m\u001b[38;5;124msingleChainConfig.dat\u001b[39m\u001b[38;5;124m\"\u001b[39m))\n",
      "File \u001b[0;32m~/anaconda3/envs/lammps/lib/python3.9/subprocess.py:507\u001b[0m, in \u001b[0;36mrun\u001b[0;34m(input, capture_output, timeout, check, *popenargs, **kwargs)\u001b[0m\n\u001b[1;32m    505\u001b[0m \u001b[38;5;28;01mwith\u001b[39;00m Popen(\u001b[38;5;241m*\u001b[39mpopenargs, \u001b[38;5;241m*\u001b[39m\u001b[38;5;241m*\u001b[39mkwargs) \u001b[38;5;28;01mas\u001b[39;00m process:\n\u001b[1;32m    506\u001b[0m     \u001b[38;5;28;01mtry\u001b[39;00m:\n\u001b[0;32m--> 507\u001b[0m         stdout, stderr \u001b[38;5;241m=\u001b[39m \u001b[43mprocess\u001b[49m\u001b[38;5;241;43m.\u001b[39;49m\u001b[43mcommunicate\u001b[49m\u001b[43m(\u001b[49m\u001b[38;5;28;43minput\u001b[39;49m\u001b[43m,\u001b[49m\u001b[43m \u001b[49m\u001b[43mtimeout\u001b[49m\u001b[38;5;241;43m=\u001b[39;49m\u001b[43mtimeout\u001b[49m\u001b[43m)\u001b[49m\n\u001b[1;32m    508\u001b[0m     \u001b[38;5;28;01mexcept\u001b[39;00m TimeoutExpired \u001b[38;5;28;01mas\u001b[39;00m exc:\n\u001b[1;32m    509\u001b[0m         process\u001b[38;5;241m.\u001b[39mkill()\n",
      "File \u001b[0;32m~/anaconda3/envs/lammps/lib/python3.9/subprocess.py:1126\u001b[0m, in \u001b[0;36mPopen.communicate\u001b[0;34m(self, input, timeout)\u001b[0m\n\u001b[1;32m   1124\u001b[0m         stderr \u001b[38;5;241m=\u001b[39m \u001b[38;5;28mself\u001b[39m\u001b[38;5;241m.\u001b[39mstderr\u001b[38;5;241m.\u001b[39mread()\n\u001b[1;32m   1125\u001b[0m         \u001b[38;5;28mself\u001b[39m\u001b[38;5;241m.\u001b[39mstderr\u001b[38;5;241m.\u001b[39mclose()\n\u001b[0;32m-> 1126\u001b[0m     \u001b[38;5;28;43mself\u001b[39;49m\u001b[38;5;241;43m.\u001b[39;49m\u001b[43mwait\u001b[49m\u001b[43m(\u001b[49m\u001b[43m)\u001b[49m\n\u001b[1;32m   1127\u001b[0m \u001b[38;5;28;01melse\u001b[39;00m:\n\u001b[1;32m   1128\u001b[0m     \u001b[38;5;28;01mif\u001b[39;00m timeout \u001b[38;5;129;01mis\u001b[39;00m \u001b[38;5;129;01mnot\u001b[39;00m \u001b[38;5;28;01mNone\u001b[39;00m:\n",
      "File \u001b[0;32m~/anaconda3/envs/lammps/lib/python3.9/subprocess.py:1202\u001b[0m, in \u001b[0;36mPopen.wait\u001b[0;34m(self, timeout)\u001b[0m\n\u001b[1;32m   1200\u001b[0m \u001b[38;5;28mself\u001b[39m\u001b[38;5;241m.\u001b[39m_sigint_wait_secs \u001b[38;5;241m=\u001b[39m \u001b[38;5;241m0\u001b[39m  \u001b[38;5;66;03m# nothing else should wait.\u001b[39;00m\n\u001b[1;32m   1201\u001b[0m \u001b[38;5;28;01mtry\u001b[39;00m:\n\u001b[0;32m-> 1202\u001b[0m     \u001b[38;5;28;43mself\u001b[39;49m\u001b[38;5;241;43m.\u001b[39;49m\u001b[43m_wait\u001b[49m\u001b[43m(\u001b[49m\u001b[43mtimeout\u001b[49m\u001b[38;5;241;43m=\u001b[39;49m\u001b[43msigint_timeout\u001b[49m\u001b[43m)\u001b[49m\n\u001b[1;32m   1203\u001b[0m \u001b[38;5;28;01mexcept\u001b[39;00m TimeoutExpired:\n\u001b[1;32m   1204\u001b[0m     \u001b[38;5;28;01mpass\u001b[39;00m\n",
      "File \u001b[0;32m~/anaconda3/envs/lammps/lib/python3.9/subprocess.py:1927\u001b[0m, in \u001b[0;36mPopen._wait\u001b[0;34m(self, timeout)\u001b[0m\n\u001b[1;32m   1925\u001b[0m             \u001b[38;5;28;01mraise\u001b[39;00m TimeoutExpired(\u001b[38;5;28mself\u001b[39m\u001b[38;5;241m.\u001b[39margs, timeout)\n\u001b[1;32m   1926\u001b[0m         delay \u001b[38;5;241m=\u001b[39m \u001b[38;5;28mmin\u001b[39m(delay \u001b[38;5;241m*\u001b[39m \u001b[38;5;241m2\u001b[39m, remaining, \u001b[38;5;241m.05\u001b[39m)\n\u001b[0;32m-> 1927\u001b[0m         \u001b[43mtime\u001b[49m\u001b[38;5;241;43m.\u001b[39;49m\u001b[43msleep\u001b[49m\u001b[43m(\u001b[49m\u001b[43mdelay\u001b[49m\u001b[43m)\u001b[49m\n\u001b[1;32m   1928\u001b[0m \u001b[38;5;28;01melse\u001b[39;00m:\n\u001b[1;32m   1929\u001b[0m     \u001b[38;5;28;01mwhile\u001b[39;00m \u001b[38;5;28mself\u001b[39m\u001b[38;5;241m.\u001b[39mreturncode \u001b[38;5;129;01mis\u001b[39;00m \u001b[38;5;28;01mNone\u001b[39;00m:\n",
      "\u001b[0;31mKeyboardInterrupt\u001b[0m: "
     ]
    }
   ],
   "source": [
    "CPUs=96\n",
    "CPUs_per_process = 16\n",
    "proccesses = CPUs // CPUs_per_process \n",
    "\n",
    "#seq_to_run = read_sim_data()\n",
    "\n",
    "log_name = f'simulation_run_{datetime.datetime.now().strftime(\"%Y_%m_%d_%H_%m_%s\")}.log'\n",
    "\n",
    "with open(os.path.join(\"simulation\", \"logs\", log_name), \"w+\") as f:\n",
    "    print(get_curr_time())\n",
    "    mesg = f\"CPUs {CPUs}, proccesses {proccesses}, CPUs_per_process {CPUs_per_process}\\n\"\n",
    "    print(mesg)\n",
    "    f.writelines(mesg+\"\\n\")\n",
    "    \n",
    "    # for seq_name in seq_to_run:\n",
    "    for sim_number, seq_name in enumerate([\"TIA_-5w+5f_j\"]):\n",
    "        # if seq_name in simulations_completed:\n",
    "        #     print(f\"Sequence was already calculated {seq_name}\")\n",
    "        #     continue\n",
    "\n",
    "\n",
    "        if seq_name in [\"TIA_-4y+4f\", \"TIA_-5w+5f\", \"TIA_-5w+5f_j\"]:\n",
    "            print(f\"replicating Julia's {seq_name}\")\n",
    "        \n",
    "     \n",
    "        mesg = f\"running simulation for {seq_name}\"\n",
    "        print(mesg)\n",
    "        f.writelines(mesg+\"\\n\")\n",
    "        print(get_curr_time())\n",
    "        \n",
    "        start_time = time.time()\n",
    "        \n",
    "        sim_args = {\"gene_name\": seq_name,\n",
    "                    \"seq\": seq_to_run[seq_name]['seq'],\n",
    "                    \"temps\": seq_to_run[seq_name]['temps']}\n",
    "          \n",
    "        mesg = f\"seq len {len(sim_args['seq'])}\"\n",
    "        print(mesg)\n",
    "        f.writelines(mesg+\"\\n\")\n",
    "    \n",
    "        mesg = f\"total temps {len(sim_args['temps'])}\"\n",
    "        print(mesg)\n",
    "        f.writelines(mesg+\"\\n\")\n",
    "        \n",
    "        run_simulation(** sim_args | {\"CPUs\": CPUs, \"CPUs_per_process\": CPUs_per_process})\n",
    "        # for i in range(111111111):\n",
    "        #     pass\n",
    "        mesg = f'execution time: {(time.time() - start_time) / (60*60)} hours'\n",
    "        print(mesg)\n",
    "        f.writelines(mesg+\"\\n\")\n",
    "        print(get_curr_time())\n",
    "    \n",
    "        mesg = f'\\n'\n",
    "        print(mesg)\n",
    "        f.writelines(mesg+\"\\n\")\n",
    "        #break\n",
    "\n",
    "#f.close()"
   ]
  },
  {
   "cell_type": "code",
   "execution_count": 55,
   "id": "34e7d813-7a4d-4c5c-8f9a-1ddda4618166",
   "metadata": {},
   "outputs": [
    {
     "ename": "KeyError",
     "evalue": "'TIA_-5w+5f_j'",
     "output_type": "error",
     "traceback": [
      "\u001b[0;31m---------------------------------------------------------------------------\u001b[0m",
      "\u001b[0;31mKeyError\u001b[0m                                  Traceback (most recent call last)",
      "Cell \u001b[0;32mIn[55], line 1\u001b[0m\n\u001b[0;32m----> 1\u001b[0m \u001b[43mseq_to_run\u001b[49m\u001b[43m[\u001b[49m\u001b[43mseq_name\u001b[49m\u001b[43m]\u001b[49m\n",
      "\u001b[0;31mKeyError\u001b[0m: 'TIA_-5w+5f_j'"
     ]
    }
   ],
   "source": [
    "seq_to_run[seq_name]"
   ]
  },
  {
   "cell_type": "code",
   "execution_count": null,
   "id": "d1f38a57-2435-4afc-978c-e54cc06d8be5",
   "metadata": {},
   "outputs": [],
   "source": [
    "for temp in next(os.walk(simulation_dir_name))[1]:\n",
    "    if temp != \"ps_densities\" and temp != \".ipynb_checkpoints\":\n",
    "        print(os.path.join(simulation_dir_name, str(temp)))\n",
    "        subprocess.run([\"python\", \"da.py\", \"densities_chunked2.dat\"], cwd=os.path.join(simulation_dir_name, str(temp)))\n",
    "        os.rename(os.path.join(simulation_dir_name, temp, \"densities_chunked2.dat_concentrations.txt\"),\n",
    "                  os.path.join(simulation_dir_name, \"ps_densities\", f\"densities_chunked_temp{temp}.txt\"))"
   ]
  },
  {
   "cell_type": "code",
   "execution_count": 41,
   "id": "5aeef659-3038-47b0-bc68-d0f91d4c4bbd",
   "metadata": {
    "scrolled": true
   },
   "outputs": [
    {
     "name": "stderr",
     "output_type": "stream",
     "text": [
      "/home/ubuntu/anaconda3/envs/lammps/lib/python3.9/site-packages/matplotlib/collections.py:197: ComplexWarning: Casting complex values to real discards the imaginary part\n",
      "  offsets = np.asanyarray(offsets, float)\n",
      "/home/ubuntu/anaconda3/envs/lammps/lib/python3.9/site-packages/matplotlib/cbook.py:1762: ComplexWarning: Casting complex values to real discards the imaginary part\n",
      "  return math.isfinite(val)\n",
      "/home/ubuntu/anaconda3/envs/lammps/lib/python3.9/site-packages/matplotlib/cbook.py:1398: ComplexWarning: Casting complex values to real discards the imaginary part\n",
      "  return np.asarray(x, float)\n"
     ]
    },
    {
     "name": "stdout",
     "output_type": "stream",
     "text": [
      "File densities_chunked_temp250.txt read successfully with 2 lines.\n",
      "Original data lines:\n",
      "Dense phase concentration: 0.4254039915444544 +/- 0.3534728172056548\n",
      "Dilute phase concentration: 9.94670557332115e-07 +/- 3.060325839163841e-06\n",
      "Filtered data lines: 2\n",
      "Dense phase concentration: 0.4254039915444544 +/- 0.3534728172056548\n",
      "Dilute phase concentration: 9.94670557332115e-07 +/- 3.060325839163841e-06\n",
      "File densities_chunked_temp270.txt read successfully with 2 lines.\n",
      "Original data lines:\n",
      "Dense phase concentration: 0.384236177936489 +/- 0.32023249501611495\n",
      "Dilute phase concentration: 6.386061623909017e-07 +/- 2.0135341940972123e-06\n",
      "Filtered data lines: 2\n",
      "Dense phase concentration: 0.384236177936489 +/- 0.32023249501611495\n",
      "Dilute phase concentration: 6.386061623909017e-07 +/- 2.0135341940972123e-06\n",
      "File densities_chunked_temp290.txt read successfully with 2 lines.\n",
      "Original data lines:\n",
      "Dense phase concentration: 0.34013213970206746 +/- 0.284517170231312\n",
      "Dilute phase concentration: 0.0004472494084422111 +/- 0.0002500387019546183\n",
      "Filtered data lines: 2\n",
      "Dense phase concentration: 0.34013213970206746 +/- 0.284517170231312\n",
      "Dilute phase concentration: 0.0004472494084422111 +/- 0.0002500387019546183\n",
      "File densities_chunked_temp300.txt read successfully with 2 lines.\n",
      "Original data lines:\n",
      "Dense phase concentration: 0.3217259479511204 +/- 0.2633427741049517\n",
      "Dilute phase concentration: 0.0005748925124855045 +/- 0.00016984464453489485\n",
      "Filtered data lines: 2\n",
      "Dense phase concentration: 0.3217259479511204 +/- 0.2633427741049517\n",
      "Dilute phase concentration: 0.0005748925124855045 +/- 0.00016984464453489485\n",
      "File densities_chunked_temp307.txt read successfully with 2 lines.\n",
      "Original data lines:\n",
      "Dense phase concentration: 0.29775340815797735 +/- 0.24765718589663632\n",
      "Dilute phase concentration: 0.00011973670934673369 +/- 7.401135008578524e-05\n",
      "Filtered data lines: 2\n",
      "Dense phase concentration: 0.29775340815797735 +/- 0.24765718589663632\n",
      "Dilute phase concentration: 0.00011973670934673369 +/- 7.401135008578524e-05\n",
      "File densities_chunked_temp314.txt read successfully with 2 lines.\n",
      "Original data lines:\n",
      "Dense phase concentration: 0.28337332041770763 +/- 0.2312881924708192\n",
      "Dilute phase concentration: 0.0012067825172110552 +/- 9.647651721008027e-05\n",
      "Filtered data lines: 2\n",
      "Dense phase concentration: 0.28337332041770763 +/- 0.2312881924708192\n",
      "Dilute phase concentration: 0.0012067825172110552 +/- 9.647651721008027e-05\n",
      "File densities_chunked_temp321.txt read successfully with 2 lines.\n",
      "Original data lines:\n",
      "Dense phase concentration: 0.3466408393556901 +/- 0.1662275486895659\n",
      "Dilute phase concentration: 0.00784656523696608 +/- 0.00672874065747056\n",
      "Filtered data lines: 2\n",
      "Dense phase concentration: 0.3466408393556901 +/- 0.1662275486895659\n",
      "Dilute phase concentration: 0.00784656523696608 +/- 0.00672874065747056\n",
      "File densities_chunked_temp328.txt read successfully with 2 lines.\n",
      "Original data lines:\n",
      "Dense phase concentration: 0.33313995126572565 +/- 0.10498101223717742\n",
      "Dilute phase concentration: 0.0365359531513191 +/- 0.035263046015245644\n",
      "Filtered data lines: 2\n",
      "Dense phase concentration: 0.33313995126572565 +/- 0.10498101223717742\n",
      "Dilute phase concentration: 0.0365359531513191 +/- 0.035263046015245644\n",
      "File densities_chunked_temp335.txt read successfully with 2 lines.\n",
      "Original data lines:\n",
      "Dense phase concentration: 0.22965627530696126 +/- 0.1401190367595188\n",
      "Dilute phase concentration: 0.25643876070285804 +/- 0.09742121157030201\n",
      "Filtered data lines: 2\n",
      "Dense phase concentration: 0.22965627530696126 +/- 0.1401190367595188\n",
      "Dilute phase concentration: 0.25643876070285804 +/- 0.09742121157030201\n",
      "File densities_chunked_temp342.txt read successfully with 2 lines.\n",
      "Original data lines:\n",
      "Dense phase concentration: 0.25665131940042857 +/- 0.02916115138150247\n",
      "Dilute phase concentration: 0.19907429210339198 +/- 0.009890523672806127\n",
      "Filtered data lines: 2\n",
      "Dense phase concentration: 0.25665131940042857 +/- 0.02916115138150247\n",
      "Dilute phase concentration: 0.19907429210339198 +/- 0.009890523672806127\n",
      "File densities_chunked_temp349.txt read successfully with 2 lines.\n",
      "Original data lines:\n",
      "Dense phase concentration: 0.2480474825010346 +/- 0.02224933792436214\n",
      "Dilute phase concentration: 0.21735745473680904 +/- 0.004195442306951468\n",
      "Filtered data lines: 2\n",
      "Dense phase concentration: 0.2480474825010346 +/- 0.02224933792436214\n",
      "Dilute phase concentration: 0.21735745473680904 +/- 0.004195442306951468\n",
      "File densities_chunked_temp356.txt read successfully with 2 lines.\n",
      "Original data lines:\n",
      "Dense phase concentration: 0.23955931445758202 +/- 0.018608726345354223\n",
      "Dilute phase concentration: 0.23539482512562815 +/- 0.006521779825568663\n",
      "Filtered data lines: 2\n",
      "Dense phase concentration: 0.23955931445758202 +/- 0.018608726345354223\n",
      "Dilute phase concentration: 0.23539482512562815 +/- 0.006521779825568663\n",
      "Temperatures: [250, 270, 290, 300, 307, 314, 321, 328, 335, 342, 349, 356]\n",
      "Dense phase concentrations: [0.4254039915444544, 0.384236177936489, 0.34013213970206746, 0.3217259479511204, 0.29775340815797735, 0.28337332041770763, 0.3466408393556901, 0.33313995126572565, 0.22965627530696126, 0.25665131940042857, 0.2480474825010346, 0.23955931445758202]\n",
      "Dilute phase concentrations: [9.94670557332115e-07, 6.386061623909017e-07, 0.0004472494084422111, 0.0005748925124855045, 0.00011973670934673369, 0.0012067825172110552, 0.00784656523696608, 0.0365359531513191, 0.25643876070285804, 0.19907429210339198, 0.21735745473680904, 0.23539482512562815]\n",
      "Dense std dev: [0.3534728172056548, 0.32023249501611495, 0.284517170231312, 0.2633427741049517, 0.24765718589663632, 0.2312881924708192, 0.1662275486895659, 0.10498101223717742, 0.1401190367595188, 0.02916115138150247, 0.02224933792436214, 0.018608726345354223]\n",
      "Dilute std dev: [3.060325839163841e-06, 2.0135341940972123e-06, 0.0002500387019546183, 0.00016984464453489485, 7.401135008578524e-05, 9.647651721008027e-05, 0.00672874065747056, 0.035263046015245644, 0.09742121157030201, 0.009890523672806127, 0.004195442306951468, 0.006521779825568663]\n",
      "Critical Solution Temperature: 349.94-0.00j K written to critical_solution_temperature.txt\n"
     ]
    },
    {
     "data": {
      "text/plain": [
       "CompletedProcess(args=['python', 'ppd.py'], returncode=0)"
      ]
     },
     "execution_count": 41,
     "metadata": {},
     "output_type": "execute_result"
    }
   ],
   "source": [
    "simulation_dir_name = \"simulation/runs/TIA_-5w+5f_2024_08_13_11_08_1723548979/\"\n",
    "subprocess.run([\"python\", \"ppd.py\"], cwd=os.path.join(simulation_dir_name, \"ps_densities\"))"
   ]
  },
  {
   "cell_type": "code",
   "execution_count": 36,
   "id": "2a0aa1d1-fb72-4321-88d1-759a67e8130a",
   "metadata": {
    "scrolled": true
   },
   "outputs": [
    {
     "name": "stdout",
     "output_type": "stream",
     "text": [
      "15-Aug-24 | 08:00\n",
      "CPUs 96, proccesses 6, CPUs_per_process 16\n",
      "\n",
      "running simulation for VAPGVG\n",
      "15-Aug-24 | 08:00\n",
      "seq len 20\n",
      "total temps 14\n",
      "simulation/runs/VAPGVG_2024_08_15_08_08_1723708840\n",
      "step 1: running input single chain\n"
     ]
    },
    {
     "name": "stderr",
     "output_type": "stream",
     "text": [
      "/home/ubuntu/CTP/simulation/runs/VAPGVG_2024_08_15_08_08_1723708840/seq2config.py:67: DeprecationWarning: Conversion of an array with ndim > 0 to a scalar is deprecated, and will error in future. Ensure you extract a single element from your array before performing this operation. (Deprecated NumPy 1.25.)\n",
      "  typescharges.append([int(types[p,1]),float(charges[k,1])])\n"
     ]
    },
    {
     "name": "stdout",
     "output_type": "stream",
     "text": [
      "step 2: running compress single chain\n",
      "step 3: direct coexistence\n",
      "running [{'temp': 250, 'dir': 'simulation/runs/VAPGVG_2024_08_15_08_08_1723708840/250'}, {'temp': 270, 'dir': 'simulation/runs/VAPGVG_2024_08_15_08_08_1723708840/270'}, {'temp': 290, 'dir': 'simulation/runs/VAPGVG_2024_08_15_08_08_1723708840/290'}, {'temp': 300, 'dir': 'simulation/runs/VAPGVG_2024_08_15_08_08_1723708840/300'}, {'temp': 307, 'dir': 'simulation/runs/VAPGVG_2024_08_15_08_08_1723708840/307'}, {'temp': 314, 'dir': 'simulation/runs/VAPGVG_2024_08_15_08_08_1723708840/314'}]\n",
      "15-Aug-24 | 08:01\n",
      "execution time: 0.21795631196763782 hours\n",
      "15-Aug-24 | 08:14\n",
      "running [{'temp': 321, 'dir': 'simulation/runs/VAPGVG_2024_08_15_08_08_1723708840/321'}, {'temp': 328, 'dir': 'simulation/runs/VAPGVG_2024_08_15_08_08_1723708840/328'}, {'temp': 335, 'dir': 'simulation/runs/VAPGVG_2024_08_15_08_08_1723708840/335'}, {'temp': 342, 'dir': 'simulation/runs/VAPGVG_2024_08_15_08_08_1723708840/342'}, {'temp': 349, 'dir': 'simulation/runs/VAPGVG_2024_08_15_08_08_1723708840/349'}, {'temp': 356, 'dir': 'simulation/runs/VAPGVG_2024_08_15_08_08_1723708840/356'}]\n",
      "15-Aug-24 | 08:14\n",
      "execution time: 0.22316028257211049 hours\n",
      "15-Aug-24 | 08:28\n",
      "running [{'temp': 363, 'dir': 'simulation/runs/VAPGVG_2024_08_15_08_08_1723708840/363'}, {'temp': 370, 'dir': 'simulation/runs/VAPGVG_2024_08_15_08_08_1723708840/370'}]\n",
      "remaining temp, CPUs_pp = 48\n",
      "15-Aug-24 | 08:28\n",
      "execution time: 0.20596359564198388 hours\n",
      "15-Aug-24 | 08:40\n",
      "calculating ps densities\n",
      "simulation/runs/VAPGVG_2024_08_15_08_08_1723708840/300\n"
     ]
    },
    {
     "name": "stderr",
     "output_type": "stream",
     "text": [
      "/home/ubuntu/CTP/simulation/runs/VAPGVG_2024_08_15_08_08_1723708840/300/da.py:62: OptimizeWarning: Covariance of the parameters could not be estimated\n",
      "  popt, _ = curve_fit(super_gaussian, coords, avg_profile, p0=initial_guess, maxfev=20000)\n"
     ]
    },
    {
     "name": "stdout",
     "output_type": "stream",
     "text": [
      "Dense phase concentration: 0.16615966099071208 +/- 0.0019675670703119207\n",
      "Dilute phase concentration: 0.1663607105263158 +/- 0.003168314213478888\n",
      "simulation/runs/VAPGVG_2024_08_15_08_08_1723708840/314\n"
     ]
    },
    {
     "name": "stderr",
     "output_type": "stream",
     "text": [
      "/home/ubuntu/CTP/simulation/runs/VAPGVG_2024_08_15_08_08_1723708840/314/da.py:62: OptimizeWarning: Covariance of the parameters could not be estimated\n",
      "  popt, _ = curve_fit(super_gaussian, coords, avg_profile, p0=initial_guess, maxfev=20000)\n"
     ]
    },
    {
     "name": "stdout",
     "output_type": "stream",
     "text": [
      "Dense phase concentration: 0.16634611919504644 +/- 0.0019880087912530833\n",
      "Dilute phase concentration: 0.16596454934210525 +/- 0.0013213528348050517\n",
      "simulation/runs/VAPGVG_2024_08_15_08_08_1723708840/290\n"
     ]
    },
    {
     "name": "stderr",
     "output_type": "stream",
     "text": [
      "/home/ubuntu/CTP/simulation/runs/VAPGVG_2024_08_15_08_08_1723708840/290/da.py:62: OptimizeWarning: Covariance of the parameters could not be estimated\n",
      "  popt, _ = curve_fit(super_gaussian, coords, avg_profile, p0=initial_guess, maxfev=20000)\n"
     ]
    },
    {
     "name": "stdout",
     "output_type": "stream",
     "text": [
      "Dense phase concentration: 0.16656378482972137 +/- 0.0026965469761623118\n",
      "Dilute phase concentration: 0.16550202302631578 +/- 0.002484823861476981\n",
      "simulation/runs/VAPGVG_2024_08_15_08_08_1723708840/342\n"
     ]
    },
    {
     "name": "stderr",
     "output_type": "stream",
     "text": [
      "/home/ubuntu/CTP/simulation/runs/VAPGVG_2024_08_15_08_08_1723708840/342/da.py:62: OptimizeWarning: Covariance of the parameters could not be estimated\n",
      "  popt, _ = curve_fit(super_gaussian, coords, avg_profile, p0=initial_guess, maxfev=20000)\n"
     ]
    },
    {
     "name": "stdout",
     "output_type": "stream",
     "text": [
      "Dense phase concentration: 0.16623785603715172 +/- 0.0026790783814244767\n",
      "Dilute phase concentration: 0.16619455592105262 +/- 0.0019363105030586133\n",
      "simulation/runs/VAPGVG_2024_08_15_08_08_1723708840/328\n"
     ]
    },
    {
     "name": "stderr",
     "output_type": "stream",
     "text": [
      "/home/ubuntu/CTP/simulation/runs/VAPGVG_2024_08_15_08_08_1723708840/328/da.py:62: OptimizeWarning: Covariance of the parameters could not be estimated\n",
      "  popt, _ = curve_fit(super_gaussian, coords, avg_profile, p0=initial_guess, maxfev=20000)\n"
     ]
    },
    {
     "name": "stdout",
     "output_type": "stream",
     "text": [
      "Dense phase concentration: 0.16666820433436533 +/- 0.002121497639815944\n",
      "Dilute phase concentration: 0.16528009210526312 +/- 0.0030600468982621334\n",
      "simulation/runs/VAPGVG_2024_08_15_08_08_1723708840/307\n"
     ]
    },
    {
     "name": "stderr",
     "output_type": "stream",
     "text": [
      "/home/ubuntu/CTP/simulation/runs/VAPGVG_2024_08_15_08_08_1723708840/307/da.py:62: OptimizeWarning: Covariance of the parameters could not be estimated\n",
      "  popt, _ = curve_fit(super_gaussian, coords, avg_profile, p0=initial_guess, maxfev=20000)\n"
     ]
    },
    {
     "name": "stdout",
     "output_type": "stream",
     "text": [
      "Dense phase concentration: 0.16511433436532505 +/- 0.0030327317025918843\n",
      "Dilute phase concentration: 0.16858201644736842 +/- 0.0023669228173244907\n",
      "simulation/runs/VAPGVG_2024_08_15_08_08_1723708840/363\n"
     ]
    },
    {
     "name": "stderr",
     "output_type": "stream",
     "text": [
      "/home/ubuntu/CTP/simulation/runs/VAPGVG_2024_08_15_08_08_1723708840/363/da.py:62: OptimizeWarning: Covariance of the parameters could not be estimated\n",
      "  popt, _ = curve_fit(super_gaussian, coords, avg_profile, p0=initial_guess, maxfev=20000)\n"
     ]
    },
    {
     "name": "stdout",
     "output_type": "stream",
     "text": [
      "Dense phase concentration: 0.16636777399380803 +/- 0.002132432371889591\n",
      "Dilute phase concentration: 0.1659184375 +/- 0.0023510731268708528\n",
      "simulation/runs/VAPGVG_2024_08_15_08_08_1723708840/250\n"
     ]
    },
    {
     "name": "stderr",
     "output_type": "stream",
     "text": [
      "/home/ubuntu/CTP/simulation/runs/VAPGVG_2024_08_15_08_08_1723708840/250/da.py:62: OptimizeWarning: Covariance of the parameters could not be estimated\n",
      "  popt, _ = curve_fit(super_gaussian, coords, avg_profile, p0=initial_guess, maxfev=20000)\n"
     ]
    },
    {
     "name": "stdout",
     "output_type": "stream",
     "text": [
      "Dense phase concentration: 0.16609746439628484 +/- 0.0018177302825410871\n",
      "Dilute phase concentration: 0.16649288815789473 +/- 0.0016010799742979672\n",
      "simulation/runs/VAPGVG_2024_08_15_08_08_1723708840/321\n"
     ]
    },
    {
     "name": "stderr",
     "output_type": "stream",
     "text": [
      "/home/ubuntu/CTP/simulation/runs/VAPGVG_2024_08_15_08_08_1723708840/321/da.py:62: OptimizeWarning: Covariance of the parameters could not be estimated\n",
      "  popt, _ = curve_fit(super_gaussian, coords, avg_profile, p0=initial_guess, maxfev=20000)\n"
     ]
    },
    {
     "name": "stdout",
     "output_type": "stream",
     "text": [
      "Dense phase concentration: 0.16624109597523223 +/- 0.0018898913231646635\n",
      "Dilute phase concentration: 0.16618768421052632 +/- 0.001969487835225824\n",
      "simulation/runs/VAPGVG_2024_08_15_08_08_1723708840/349\n"
     ]
    },
    {
     "name": "stderr",
     "output_type": "stream",
     "text": [
      "Traceback (most recent call last):\n",
      "  File \"/home/ubuntu/CTP/simulation/runs/VAPGVG_2024_08_15_08_08_1723708840/349/da.py\", line 146, in <module>\n",
      "    main()\n",
      "  File \"/home/ubuntu/CTP/simulation/runs/VAPGVG_2024_08_15_08_08_1723708840/349/da.py\", line 133, in main\n",
      "    dense, dilute, dense_stdev, dilute_stdev = process_density_file(file_name)\n",
      "  File \"/home/ubuntu/CTP/simulation/runs/VAPGVG_2024_08_15_08_08_1723708840/349/da.py\", line 121, in process_density_file\n",
      "    dense, dilute, dense_stdev, dilute_stdev = get_dilute_and_dense_concentrations(density, zPosition)\n",
      "  File \"/home/ubuntu/CTP/simulation/runs/VAPGVG_2024_08_15_08_08_1723708840/349/da.py\", line 99, in get_dilute_and_dense_concentrations\n",
      "    left_interface_coord, right_interface_coord = super_gaussian_fd_method(coords, density)\n",
      "  File \"/home/ubuntu/CTP/simulation/runs/VAPGVG_2024_08_15_08_08_1723708840/349/da.py\", line 62, in super_gaussian_fd_method\n",
      "    popt, _ = curve_fit(super_gaussian, coords, avg_profile, p0=initial_guess, maxfev=20000)\n",
      "  File \"/home/ubuntu/anaconda3/envs/lammps/lib/python3.9/site-packages/scipy/optimize/_minpack_py.py\", line 1005, in curve_fit\n",
      "    raise RuntimeError(\"Optimal parameters not found: \" + errmsg)\n",
      "RuntimeError: Optimal parameters not found: Number of calls to function has reached maxfev = 20000.\n",
      "/home/ubuntu/CTP/simulation/runs/VPGVG_2024_08_15_08_08_1723711248/seq2config.py:67: DeprecationWarning: Conversion of an array with ndim > 0 to a scalar is deprecated, and will error in future. Ensure you extract a single element from your array before performing this operation. (Deprecated NumPy 1.25.)\n",
      "  typescharges.append([int(types[p,1]),float(charges[k,1])])\n"
     ]
    },
    {
     "name": "stdout",
     "output_type": "stream",
     "text": [
      "execution time: 0.6688828262355593 hours\n",
      "15-Aug-24 | 08:40\n",
      "\n",
      "\n",
      "running simulation for VPGVG\n",
      "15-Aug-24 | 08:40\n",
      "seq len 22\n",
      "total temps 14\n",
      "simulation/runs/VPGVG_2024_08_15_08_08_1723711248\n",
      "step 1: running input single chain\n",
      "step 2: running compress single chain\n",
      "step 3: direct coexistence\n",
      "running [{'temp': 250, 'dir': 'simulation/runs/VPGVG_2024_08_15_08_08_1723711248/250'}, {'temp': 270, 'dir': 'simulation/runs/VPGVG_2024_08_15_08_08_1723711248/270'}, {'temp': 290, 'dir': 'simulation/runs/VPGVG_2024_08_15_08_08_1723711248/290'}, {'temp': 300, 'dir': 'simulation/runs/VPGVG_2024_08_15_08_08_1723711248/300'}, {'temp': 307, 'dir': 'simulation/runs/VPGVG_2024_08_15_08_08_1723711248/307'}, {'temp': 314, 'dir': 'simulation/runs/VPGVG_2024_08_15_08_08_1723711248/314'}]\n",
      "15-Aug-24 | 08:42\n",
      "execution time: 0.23168328649467892 hours\n",
      "15-Aug-24 | 08:55\n",
      "running [{'temp': 321, 'dir': 'simulation/runs/VPGVG_2024_08_15_08_08_1723711248/321'}, {'temp': 328, 'dir': 'simulation/runs/VPGVG_2024_08_15_08_08_1723711248/328'}, {'temp': 335, 'dir': 'simulation/runs/VPGVG_2024_08_15_08_08_1723711248/335'}, {'temp': 342, 'dir': 'simulation/runs/VPGVG_2024_08_15_08_08_1723711248/342'}, {'temp': 349, 'dir': 'simulation/runs/VPGVG_2024_08_15_08_08_1723711248/349'}, {'temp': 356, 'dir': 'simulation/runs/VPGVG_2024_08_15_08_08_1723711248/356'}]\n",
      "15-Aug-24 | 08:55\n",
      "execution time: 0.23310142517089844 hours\n",
      "15-Aug-24 | 09:09\n",
      "running [{'temp': 363, 'dir': 'simulation/runs/VPGVG_2024_08_15_08_08_1723711248/363'}, {'temp': 370, 'dir': 'simulation/runs/VPGVG_2024_08_15_08_08_1723711248/370'}]\n",
      "remaining temp, CPUs_pp = 48\n",
      "15-Aug-24 | 09:09\n",
      "execution time: 0.21128800140486823 hours\n",
      "15-Aug-24 | 09:22\n",
      "calculating ps densities\n",
      "simulation/runs/VPGVG_2024_08_15_08_08_1723711248/300\n"
     ]
    },
    {
     "name": "stderr",
     "output_type": "stream",
     "text": [
      "/home/ubuntu/CTP/simulation/runs/VPGVG_2024_08_15_08_08_1723711248/300/da.py:62: OptimizeWarning: Covariance of the parameters could not be estimated\n",
      "  popt, _ = curve_fit(super_gaussian, coords, avg_profile, p0=initial_guess, maxfev=20000)\n"
     ]
    },
    {
     "name": "stdout",
     "output_type": "stream",
     "text": [
      "Dense phase concentration: 0.1711183761609907 +/- 0.0017478112008536882\n",
      "Dilute phase concentration: 0.17127023355263157 +/- 0.0015319017156242983\n",
      "simulation/runs/VPGVG_2024_08_15_08_08_1723711248/314\n"
     ]
    },
    {
     "name": "stderr",
     "output_type": "stream",
     "text": [
      "/home/ubuntu/CTP/simulation/runs/VPGVG_2024_08_15_08_08_1723711248/314/da.py:62: OptimizeWarning: Covariance of the parameters could not be estimated\n",
      "  popt, _ = curve_fit(super_gaussian, coords, avg_profile, p0=initial_guess, maxfev=20000)\n"
     ]
    },
    {
     "name": "stdout",
     "output_type": "stream",
     "text": [
      "Dense phase concentration: 0.17055517956656346 +/- 0.0019796339919890484\n",
      "Dilute phase concentration: 0.1724670822368421 +/- 0.0017126971644763262\n",
      "simulation/runs/VPGVG_2024_08_15_08_08_1723711248/290\n"
     ]
    },
    {
     "name": "stderr",
     "output_type": "stream",
     "text": [
      "/home/ubuntu/CTP/simulation/runs/VPGVG_2024_08_15_08_08_1723711248/290/da.py:62: OptimizeWarning: Covariance of the parameters could not be estimated\n",
      "  popt, _ = curve_fit(super_gaussian, coords, avg_profile, p0=initial_guess, maxfev=20000)\n"
     ]
    },
    {
     "name": "stdout",
     "output_type": "stream",
     "text": [
      "Dense phase concentration: 0.17066213467492258 +/- 0.003234790290260514\n",
      "Dilute phase concentration: 0.17223983552631578 +/- 0.0022453756570715417\n",
      "simulation/runs/VPGVG_2024_08_15_08_08_1723711248/342\n"
     ]
    },
    {
     "name": "stderr",
     "output_type": "stream",
     "text": [
      "/home/ubuntu/CTP/simulation/runs/VPGVG_2024_08_15_08_08_1723711248/342/da.py:62: OptimizeWarning: Covariance of the parameters could not be estimated\n",
      "  popt, _ = curve_fit(super_gaussian, coords, avg_profile, p0=initial_guess, maxfev=20000)\n"
     ]
    },
    {
     "name": "stdout",
     "output_type": "stream",
     "text": [
      "Dense phase concentration: 0.17054361764705883 +/- 0.001712257781174201\n",
      "Dilute phase concentration: 0.17249167105263158 +/- 0.0015952491456629049\n",
      "simulation/runs/VPGVG_2024_08_15_08_08_1723711248/328\n"
     ]
    },
    {
     "name": "stderr",
     "output_type": "stream",
     "text": [
      "/home/ubuntu/CTP/simulation/runs/VPGVG_2024_08_15_08_08_1723711248/328/da.py:62: OptimizeWarning: Covariance of the parameters could not be estimated\n",
      "  popt, _ = curve_fit(super_gaussian, coords, avg_profile, p0=initial_guess, maxfev=20000)\n"
     ]
    },
    {
     "name": "stdout",
     "output_type": "stream",
     "text": [
      "Dense phase concentration: 0.17088477708978328 +/- 0.0023730037402052225\n",
      "Dilute phase concentration: 0.17176665789473686 +/- 0.0034232554562835475\n",
      "simulation/runs/VPGVG_2024_08_15_08_08_1723711248/307\n"
     ]
    },
    {
     "name": "stderr",
     "output_type": "stream",
     "text": [
      "/home/ubuntu/CTP/simulation/runs/VPGVG_2024_08_15_08_08_1723711248/307/da.py:62: OptimizeWarning: Covariance of the parameters could not be estimated\n",
      "  popt, _ = curve_fit(super_gaussian, coords, avg_profile, p0=initial_guess, maxfev=20000)\n"
     ]
    },
    {
     "name": "stdout",
     "output_type": "stream",
     "text": [
      "Dense phase concentration: 0.17077326780185761 +/- 0.0025133112883784677\n",
      "Dilute phase concentration: 0.1720036447368421 +/- 0.002241182079329512\n",
      "simulation/runs/VPGVG_2024_08_15_08_08_1723711248/363\n"
     ]
    },
    {
     "name": "stderr",
     "output_type": "stream",
     "text": [
      "/home/ubuntu/CTP/simulation/runs/VPGVG_2024_08_15_08_08_1723711248/363/da.py:62: OptimizeWarning: Covariance of the parameters could not be estimated\n",
      "  popt, _ = curve_fit(super_gaussian, coords, avg_profile, p0=initial_guess, maxfev=20000)\n"
     ]
    },
    {
     "name": "stdout",
     "output_type": "stream",
     "text": [
      "Dense phase concentration: 0.1706791547987616 +/- 0.0030396118364041168\n",
      "Dilute phase concentration: 0.17220365131578946 +/- 0.002038025054781695\n",
      "simulation/runs/VPGVG_2024_08_15_08_08_1723711248/250\n"
     ]
    },
    {
     "name": "stderr",
     "output_type": "stream",
     "text": [
      "/home/ubuntu/CTP/simulation/runs/VPGVG_2024_08_15_08_08_1723711248/250/da.py:62: OptimizeWarning: Covariance of the parameters could not be estimated\n",
      "  popt, _ = curve_fit(super_gaussian, coords, avg_profile, p0=initial_guess, maxfev=20000)\n"
     ]
    },
    {
     "name": "stdout",
     "output_type": "stream",
     "text": [
      "Dense phase concentration: 0.1704295479876161 +/- 0.002317311603273091\n",
      "Dilute phase concentration: 0.1727340690789474 +/- 0.0031577965210997775\n",
      "simulation/runs/VPGVG_2024_08_15_08_08_1723711248/321\n"
     ]
    },
    {
     "name": "stderr",
     "output_type": "stream",
     "text": [
      "/home/ubuntu/CTP/simulation/runs/VPGVG_2024_08_15_08_08_1723711248/321/da.py:62: OptimizeWarning: Covariance of the parameters could not be estimated\n",
      "  popt, _ = curve_fit(super_gaussian, coords, avg_profile, p0=initial_guess, maxfev=20000)\n"
     ]
    },
    {
     "name": "stdout",
     "output_type": "stream",
     "text": [
      "Dense phase concentration: 0.16984552631578947 +/- 0.002066541359490283\n",
      "Dilute phase concentration: 0.1739751085526316 +/- 0.0017520899002374578\n",
      "simulation/runs/VPGVG_2024_08_15_08_08_1723711248/349\n"
     ]
    },
    {
     "name": "stderr",
     "output_type": "stream",
     "text": [
      "/home/ubuntu/CTP/simulation/runs/VPGVG_2024_08_15_08_08_1723711248/349/da.py:62: OptimizeWarning: Covariance of the parameters could not be estimated\n",
      "  popt, _ = curve_fit(super_gaussian, coords, avg_profile, p0=initial_guess, maxfev=20000)\n"
     ]
    },
    {
     "name": "stdout",
     "output_type": "stream",
     "text": [
      "Dense phase concentration: 0.1706070495356037 +/- 0.0031970594448410446\n",
      "Dilute phase concentration: 0.17235684210526314 +/- 0.0026794512338301065\n",
      "simulation/runs/VPGVG_2024_08_15_08_08_1723711248/356\n"
     ]
    },
    {
     "name": "stderr",
     "output_type": "stream",
     "text": [
      "/home/ubuntu/CTP/simulation/runs/VPGVG_2024_08_15_08_08_1723711248/356/da.py:62: OptimizeWarning: Covariance of the parameters could not be estimated\n",
      "  popt, _ = curve_fit(super_gaussian, coords, avg_profile, p0=initial_guess, maxfev=20000)\n"
     ]
    },
    {
     "name": "stdout",
     "output_type": "stream",
     "text": [
      "Dense phase concentration: 0.16994061145510836 +/- 0.0017991094129180816\n",
      "Dilute phase concentration: 0.17377303289473683 +/- 0.0022706421868595155\n",
      "simulation/runs/VPGVG_2024_08_15_08_08_1723711248/370\n"
     ]
    },
    {
     "name": "stderr",
     "output_type": "stream",
     "text": [
      "/home/ubuntu/CTP/simulation/runs/VPGVG_2024_08_15_08_08_1723711248/370/da.py:62: OptimizeWarning: Covariance of the parameters could not be estimated\n",
      "  popt, _ = curve_fit(super_gaussian, coords, avg_profile, p0=initial_guess, maxfev=20000)\n"
     ]
    },
    {
     "name": "stdout",
     "output_type": "stream",
     "text": [
      "Dense phase concentration: 0.17108364860681113 +/- 0.0026782956335794387\n",
      "Dilute phase concentration: 0.17134406907894736 +/- 0.0024840720742751133\n",
      "simulation/runs/VPGVG_2024_08_15_08_08_1723711248/335\n"
     ]
    },
    {
     "name": "stderr",
     "output_type": "stream",
     "text": [
      "/home/ubuntu/CTP/simulation/runs/VPGVG_2024_08_15_08_08_1723711248/335/da.py:62: OptimizeWarning: Covariance of the parameters could not be estimated\n",
      "  popt, _ = curve_fit(super_gaussian, coords, avg_profile, p0=initial_guess, maxfev=20000)\n"
     ]
    },
    {
     "name": "stdout",
     "output_type": "stream",
     "text": [
      "Dense phase concentration: 0.17049458823529412 +/- 0.0022004560007615175\n",
      "Dilute phase concentration: 0.17259588157894734 +/- 0.0018144734531601687\n",
      "simulation/runs/VPGVG_2024_08_15_08_08_1723711248/270\n"
     ]
    },
    {
     "name": "stderr",
     "output_type": "stream",
     "text": [
      "/home/ubuntu/CTP/simulation/runs/VPGVG_2024_08_15_08_08_1723711248/270/da.py:62: OptimizeWarning: Covariance of the parameters could not be estimated\n",
      "  popt, _ = curve_fit(super_gaussian, coords, avg_profile, p0=initial_guess, maxfev=20000)\n"
     ]
    },
    {
     "name": "stdout",
     "output_type": "stream",
     "text": [
      "Dense phase concentration: 0.1694238452012384 +/- 0.0024276112931919\n",
      "Dilute phase concentration: 0.17487117434210528 +/- 0.002972717662535272\n"
     ]
    },
    {
     "name": "stderr",
     "output_type": "stream",
     "text": [
      "/home/ubuntu/anaconda3/envs/lammps/lib/python3.9/site-packages/matplotlib/collections.py:197: ComplexWarning: Casting complex values to real discards the imaginary part\n",
      "  offsets = np.asanyarray(offsets, float)\n",
      "/home/ubuntu/anaconda3/envs/lammps/lib/python3.9/site-packages/matplotlib/cbook.py:1762: ComplexWarning: Casting complex values to real discards the imaginary part\n",
      "  return math.isfinite(val)\n",
      "/home/ubuntu/anaconda3/envs/lammps/lib/python3.9/site-packages/matplotlib/cbook.py:1398: ComplexWarning: Casting complex values to real discards the imaginary part\n",
      "  return np.asarray(x, float)\n"
     ]
    },
    {
     "name": "stdout",
     "output_type": "stream",
     "text": [
      "File densities_chunked_temp250.txt read successfully with 2 lines.\n",
      "Original data lines:\n",
      "Dense phase concentration: 0.1704295479876161 +/- 0.002317311603273091\n",
      "Dilute phase concentration: 0.1727340690789474 +/- 0.0031577965210997775\n",
      "Filtered data lines: 2\n",
      "Dense phase concentration: 0.1704295479876161 +/- 0.002317311603273091\n",
      "Dilute phase concentration: 0.1727340690789474 +/- 0.0031577965210997775\n",
      "File densities_chunked_temp270.txt read successfully with 2 lines.\n",
      "Original data lines:\n",
      "Dense phase concentration: 0.1694238452012384 +/- 0.0024276112931919\n",
      "Dilute phase concentration: 0.17487117434210528 +/- 0.002972717662535272\n",
      "Filtered data lines: 2\n",
      "Dense phase concentration: 0.1694238452012384 +/- 0.0024276112931919\n",
      "Dilute phase concentration: 0.17487117434210528 +/- 0.002972717662535272\n",
      "File densities_chunked_temp290.txt read successfully with 2 lines.\n",
      "Original data lines:\n",
      "Dense phase concentration: 0.17066213467492258 +/- 0.003234790290260514\n",
      "Dilute phase concentration: 0.17223983552631578 +/- 0.0022453756570715417\n",
      "Filtered data lines: 2\n",
      "Dense phase concentration: 0.17066213467492258 +/- 0.003234790290260514\n",
      "Dilute phase concentration: 0.17223983552631578 +/- 0.0022453756570715417\n",
      "File densities_chunked_temp300.txt read successfully with 2 lines.\n",
      "Original data lines:\n",
      "Dense phase concentration: 0.1711183761609907 +/- 0.0017478112008536882\n",
      "Dilute phase concentration: 0.17127023355263157 +/- 0.0015319017156242983\n",
      "Filtered data lines: 2\n",
      "Dense phase concentration: 0.1711183761609907 +/- 0.0017478112008536882\n",
      "Dilute phase concentration: 0.17127023355263157 +/- 0.0015319017156242983\n",
      "File densities_chunked_temp307.txt read successfully with 2 lines.\n",
      "Original data lines:\n",
      "Dense phase concentration: 0.17077326780185761 +/- 0.0025133112883784677\n",
      "Dilute phase concentration: 0.1720036447368421 +/- 0.002241182079329512\n",
      "Filtered data lines: 2\n",
      "Dense phase concentration: 0.17077326780185761 +/- 0.0025133112883784677\n",
      "Dilute phase concentration: 0.1720036447368421 +/- 0.002241182079329512\n",
      "File densities_chunked_temp314.txt read successfully with 2 lines.\n",
      "Original data lines:\n",
      "Dense phase concentration: 0.17055517956656346 +/- 0.0019796339919890484\n",
      "Dilute phase concentration: 0.1724670822368421 +/- 0.0017126971644763262\n",
      "Filtered data lines: 2\n",
      "Dense phase concentration: 0.17055517956656346 +/- 0.0019796339919890484\n",
      "Dilute phase concentration: 0.1724670822368421 +/- 0.0017126971644763262\n",
      "File densities_chunked_temp321.txt read successfully with 2 lines.\n",
      "Original data lines:\n",
      "Dense phase concentration: 0.16984552631578947 +/- 0.002066541359490283\n",
      "Dilute phase concentration: 0.1739751085526316 +/- 0.0017520899002374578\n",
      "Filtered data lines: 2\n",
      "Dense phase concentration: 0.16984552631578947 +/- 0.002066541359490283\n",
      "Dilute phase concentration: 0.1739751085526316 +/- 0.0017520899002374578\n",
      "File densities_chunked_temp328.txt read successfully with 2 lines.\n",
      "Original data lines:\n",
      "Dense phase concentration: 0.17088477708978328 +/- 0.0023730037402052225\n",
      "Dilute phase concentration: 0.17176665789473686 +/- 0.0034232554562835475\n",
      "Filtered data lines: 2\n",
      "Dense phase concentration: 0.17088477708978328 +/- 0.0023730037402052225\n",
      "Dilute phase concentration: 0.17176665789473686 +/- 0.0034232554562835475\n",
      "File densities_chunked_temp335.txt read successfully with 2 lines.\n",
      "Original data lines:\n",
      "Dense phase concentration: 0.17049458823529412 +/- 0.0022004560007615175\n",
      "Dilute phase concentration: 0.17259588157894734 +/- 0.0018144734531601687\n",
      "Filtered data lines: 2\n",
      "Dense phase concentration: 0.17049458823529412 +/- 0.0022004560007615175\n",
      "Dilute phase concentration: 0.17259588157894734 +/- 0.0018144734531601687\n",
      "File densities_chunked_temp342.txt read successfully with 2 lines.\n",
      "Original data lines:\n",
      "Dense phase concentration: 0.17054361764705883 +/- 0.001712257781174201\n",
      "Dilute phase concentration: 0.17249167105263158 +/- 0.0015952491456629049\n",
      "Filtered data lines: 2\n",
      "Dense phase concentration: 0.17054361764705883 +/- 0.001712257781174201\n",
      "Dilute phase concentration: 0.17249167105263158 +/- 0.0015952491456629049\n",
      "File densities_chunked_temp349.txt read successfully with 2 lines.\n",
      "Original data lines:\n",
      "Dense phase concentration: 0.1706070495356037 +/- 0.0031970594448410446\n",
      "Dilute phase concentration: 0.17235684210526314 +/- 0.0026794512338301065\n",
      "Filtered data lines: 2\n",
      "Dense phase concentration: 0.1706070495356037 +/- 0.0031970594448410446\n",
      "Dilute phase concentration: 0.17235684210526314 +/- 0.0026794512338301065\n",
      "File densities_chunked_temp356.txt read successfully with 2 lines.\n",
      "Original data lines:\n",
      "Dense phase concentration: 0.16994061145510836 +/- 0.0017991094129180816\n",
      "Dilute phase concentration: 0.17377303289473683 +/- 0.0022706421868595155\n",
      "Filtered data lines: 2\n",
      "Dense phase concentration: 0.16994061145510836 +/- 0.0017991094129180816\n",
      "Dilute phase concentration: 0.17377303289473683 +/- 0.0022706421868595155\n",
      "File densities_chunked_temp363.txt read successfully with 2 lines.\n",
      "Original data lines:\n",
      "Dense phase concentration: 0.1706791547987616 +/- 0.0030396118364041168\n",
      "Dilute phase concentration: 0.17220365131578946 +/- 0.002038025054781695\n",
      "Filtered data lines: 2\n",
      "Dense phase concentration: 0.1706791547987616 +/- 0.0030396118364041168\n",
      "Dilute phase concentration: 0.17220365131578946 +/- 0.002038025054781695\n",
      "File densities_chunked_temp370.txt read successfully with 2 lines.\n",
      "Original data lines:\n",
      "Dense phase concentration: 0.17108364860681113 +/- 0.0026782956335794387\n",
      "Dilute phase concentration: 0.17134406907894736 +/- 0.0024840720742751133\n",
      "Filtered data lines: 2\n",
      "Dense phase concentration: 0.17108364860681113 +/- 0.0026782956335794387\n",
      "Dilute phase concentration: 0.17134406907894736 +/- 0.0024840720742751133\n",
      "Temperatures: [250, 270, 290, 300, 307, 314, 321, 328, 335, 342, 349, 356, 363, 370]\n",
      "Dense phase concentrations: [0.1704295479876161, 0.1694238452012384, 0.17066213467492258, 0.1711183761609907, 0.17077326780185761, 0.17055517956656346, 0.16984552631578947, 0.17088477708978328, 0.17049458823529412, 0.17054361764705883, 0.1706070495356037, 0.16994061145510836, 0.1706791547987616, 0.17108364860681113]\n",
      "Dilute phase concentrations: [0.1727340690789474, 0.17487117434210528, 0.17223983552631578, 0.17127023355263157, 0.1720036447368421, 0.1724670822368421, 0.1739751085526316, 0.17176665789473686, 0.17259588157894734, 0.17249167105263158, 0.17235684210526314, 0.17377303289473683, 0.17220365131578946, 0.17134406907894736]\n",
      "Dense std dev: [0.002317311603273091, 0.0024276112931919, 0.003234790290260514, 0.0017478112008536882, 0.0025133112883784677, 0.0019796339919890484, 0.002066541359490283, 0.0023730037402052225, 0.0022004560007615175, 0.001712257781174201, 0.0031970594448410446, 0.0017991094129180816, 0.0030396118364041168, 0.0026782956335794387]\n",
      "Dilute std dev: [0.0031577965210997775, 0.002972717662535272, 0.0022453756570715417, 0.0015319017156242983, 0.002241182079329512, 0.0017126971644763262, 0.0017520899002374578, 0.0034232554562835475, 0.0018144734531601687, 0.0015952491456629049, 0.0026794512338301065, 0.0022706421868595155, 0.002038025054781695, 0.0024840720742751133]\n",
      "Critical Solution Temperature: 377.80-0.00j K written to critical_solution_temperature.txt\n",
      "execution time: 0.7002680132786433 hours\n",
      "15-Aug-24 | 09:22\n",
      "\n",
      "\n",
      "running simulation for AVPGVG\n",
      "15-Aug-24 | 09:22\n",
      "seq len 26\n",
      "total temps 14\n",
      "simulation/runs/AVPGVG_2024_08_15_09_08_1723713769\n",
      "step 1: running input single chain\n"
     ]
    },
    {
     "name": "stderr",
     "output_type": "stream",
     "text": [
      "/home/ubuntu/CTP/simulation/runs/AVPGVG_2024_08_15_09_08_1723713769/seq2config.py:67: DeprecationWarning: Conversion of an array with ndim > 0 to a scalar is deprecated, and will error in future. Ensure you extract a single element from your array before performing this operation. (Deprecated NumPy 1.25.)\n",
      "  typescharges.append([int(types[p,1]),float(charges[k,1])])\n"
     ]
    },
    {
     "name": "stdout",
     "output_type": "stream",
     "text": [
      "step 2: running compress single chain\n",
      "step 3: direct coexistence\n",
      "running [{'temp': 250, 'dir': 'simulation/runs/AVPGVG_2024_08_15_09_08_1723713769/250'}, {'temp': 270, 'dir': 'simulation/runs/AVPGVG_2024_08_15_09_08_1723713769/270'}, {'temp': 290, 'dir': 'simulation/runs/AVPGVG_2024_08_15_09_08_1723713769/290'}, {'temp': 300, 'dir': 'simulation/runs/AVPGVG_2024_08_15_09_08_1723713769/300'}, {'temp': 307, 'dir': 'simulation/runs/AVPGVG_2024_08_15_09_08_1723713769/307'}, {'temp': 314, 'dir': 'simulation/runs/AVPGVG_2024_08_15_09_08_1723713769/314'}]\n",
      "15-Aug-24 | 09:24\n",
      "execution time: 0.241662484937244 hours\n",
      "15-Aug-24 | 09:38\n",
      "running [{'temp': 321, 'dir': 'simulation/runs/AVPGVG_2024_08_15_09_08_1723713769/321'}, {'temp': 328, 'dir': 'simulation/runs/AVPGVG_2024_08_15_09_08_1723713769/328'}, {'temp': 335, 'dir': 'simulation/runs/AVPGVG_2024_08_15_09_08_1723713769/335'}, {'temp': 342, 'dir': 'simulation/runs/AVPGVG_2024_08_15_09_08_1723713769/342'}, {'temp': 349, 'dir': 'simulation/runs/AVPGVG_2024_08_15_09_08_1723713769/349'}, {'temp': 356, 'dir': 'simulation/runs/AVPGVG_2024_08_15_09_08_1723713769/356'}]\n",
      "15-Aug-24 | 09:38\n",
      "execution time: 0.2442354241344664 hours\n",
      "15-Aug-24 | 09:53\n",
      "running [{'temp': 363, 'dir': 'simulation/runs/AVPGVG_2024_08_15_09_08_1723713769/363'}, {'temp': 370, 'dir': 'simulation/runs/AVPGVG_2024_08_15_09_08_1723713769/370'}]\n",
      "remaining temp, CPUs_pp = 48\n",
      "15-Aug-24 | 09:53\n",
      "execution time: 0.21933928880426617 hours\n",
      "15-Aug-24 | 10:06\n",
      "calculating ps densities\n",
      "simulation/runs/AVPGVG_2024_08_15_09_08_1723713769/300\n"
     ]
    },
    {
     "name": "stderr",
     "output_type": "stream",
     "text": [
      "/home/ubuntu/CTP/simulation/runs/AVPGVG_2024_08_15_09_08_1723713769/300/da.py:62: OptimizeWarning: Covariance of the parameters could not be estimated\n",
      "  popt, _ = curve_fit(super_gaussian, coords, avg_profile, p0=initial_guess, maxfev=20000)\n"
     ]
    },
    {
     "name": "stdout",
     "output_type": "stream",
     "text": [
      "Dense phase concentration: 0.16605731888544892 +/- 0.002762379128880917\n",
      "Dilute phase concentration: 0.17073631578947368 +/- 0.0029106278670301368\n",
      "simulation/runs/AVPGVG_2024_08_15_09_08_1723713769/314\n"
     ]
    },
    {
     "name": "stderr",
     "output_type": "stream",
     "text": [
      "/home/ubuntu/CTP/simulation/runs/AVPGVG_2024_08_15_09_08_1723713769/314/da.py:62: OptimizeWarning: Covariance of the parameters could not be estimated\n",
      "  popt, _ = curve_fit(super_gaussian, coords, avg_profile, p0=initial_guess, maxfev=20000)\n"
     ]
    },
    {
     "name": "stdout",
     "output_type": "stream",
     "text": [
      "Dense phase concentration: 0.16671631578947366 +/- 0.00246771591729278\n",
      "Dilute phase concentration: 0.16933589473684207 +/- 0.0022407237539424593\n",
      "simulation/runs/AVPGVG_2024_08_15_09_08_1723713769/290\n"
     ]
    },
    {
     "name": "stderr",
     "output_type": "stream",
     "text": [
      "/home/ubuntu/CTP/simulation/runs/AVPGVG_2024_08_15_09_08_1723713769/290/da.py:62: OptimizeWarning: Covariance of the parameters could not be estimated\n",
      "  popt, _ = curve_fit(super_gaussian, coords, avg_profile, p0=initial_guess, maxfev=20000)\n"
     ]
    },
    {
     "name": "stdout",
     "output_type": "stream",
     "text": [
      "Dense phase concentration: 0.1667298095975232 +/- 0.0027009624823887764\n",
      "Dilute phase concentration: 0.16930724013157894 +/- 0.001574963325647934\n",
      "simulation/runs/AVPGVG_2024_08_15_09_08_1723713769/342\n"
     ]
    },
    {
     "name": "stderr",
     "output_type": "stream",
     "text": [
      "/home/ubuntu/CTP/simulation/runs/AVPGVG_2024_08_15_09_08_1723713769/342/da.py:62: OptimizeWarning: Covariance of the parameters could not be estimated\n",
      "  popt, _ = curve_fit(super_gaussian, coords, avg_profile, p0=initial_guess, maxfev=20000)\n"
     ]
    },
    {
     "name": "stdout",
     "output_type": "stream",
     "text": [
      "Dense phase concentration: 0.1666616160990712 +/- 0.0017822809348427213\n",
      "Dilute phase concentration: 0.16945212828947367 +/- 0.0016979521862291861\n",
      "simulation/runs/AVPGVG_2024_08_15_09_08_1723713769/328\n"
     ]
    },
    {
     "name": "stderr",
     "output_type": "stream",
     "text": [
      "/home/ubuntu/CTP/simulation/runs/AVPGVG_2024_08_15_09_08_1723713769/328/da.py:62: OptimizeWarning: Covariance of the parameters could not be estimated\n",
      "  popt, _ = curve_fit(super_gaussian, coords, avg_profile, p0=initial_guess, maxfev=20000)\n"
     ]
    },
    {
     "name": "stdout",
     "output_type": "stream",
     "text": [
      "Dense phase concentration: 0.16652939009287926 +/- 0.0014618376096615434\n",
      "Dilute phase concentration: 0.16973310526315788 +/- 0.0016712726024925137\n",
      "simulation/runs/AVPGVG_2024_08_15_09_08_1723713769/307\n"
     ]
    },
    {
     "name": "stderr",
     "output_type": "stream",
     "text": [
      "/home/ubuntu/CTP/simulation/runs/AVPGVG_2024_08_15_09_08_1723713769/307/da.py:62: OptimizeWarning: Covariance of the parameters could not be estimated\n",
      "  popt, _ = curve_fit(super_gaussian, coords, avg_profile, p0=initial_guess, maxfev=20000)\n"
     ]
    },
    {
     "name": "stdout",
     "output_type": "stream",
     "text": [
      "Dense phase concentration: 0.16711279411764707 +/- 0.002704612418311464\n",
      "Dilute phase concentration: 0.16849342434210524 +/- 0.0014411557576307743\n",
      "simulation/runs/AVPGVG_2024_08_15_09_08_1723713769/363\n"
     ]
    },
    {
     "name": "stderr",
     "output_type": "stream",
     "text": [
      "/home/ubuntu/CTP/simulation/runs/AVPGVG_2024_08_15_09_08_1723713769/363/da.py:62: OptimizeWarning: Covariance of the parameters could not be estimated\n",
      "  popt, _ = curve_fit(super_gaussian, coords, avg_profile, p0=initial_guess, maxfev=20000)\n"
     ]
    },
    {
     "name": "stdout",
     "output_type": "stream",
     "text": [
      "Dense phase concentration: 0.16682001702786378 +/- 0.0019525143182736139\n",
      "Dilute phase concentration: 0.16911553947368418 +/- 0.0025963665766035146\n",
      "simulation/runs/AVPGVG_2024_08_15_09_08_1723713769/250\n"
     ]
    },
    {
     "name": "stderr",
     "output_type": "stream",
     "text": [
      "/home/ubuntu/CTP/simulation/runs/AVPGVG_2024_08_15_09_08_1723713769/250/da.py:62: OptimizeWarning: Covariance of the parameters could not be estimated\n",
      "  popt, _ = curve_fit(super_gaussian, coords, avg_profile, p0=initial_guess, maxfev=20000)\n"
     ]
    },
    {
     "name": "stdout",
     "output_type": "stream",
     "text": [
      "Dense phase concentration: 0.16622086222910215 +/- 0.0026565566731521096\n",
      "Dilute phase concentration: 0.17038871381578946 +/- 0.0019613064812048857\n",
      "simulation/runs/AVPGVG_2024_08_15_09_08_1723713769/321\n"
     ]
    },
    {
     "name": "stderr",
     "output_type": "stream",
     "text": [
      "/home/ubuntu/CTP/simulation/runs/AVPGVG_2024_08_15_09_08_1723713769/321/da.py:62: OptimizeWarning: Covariance of the parameters could not be estimated\n",
      "  popt, _ = curve_fit(super_gaussian, coords, avg_profile, p0=initial_guess, maxfev=20000)\n"
     ]
    },
    {
     "name": "stdout",
     "output_type": "stream",
     "text": [
      "Dense phase concentration: 0.16751697523219816 +/- 0.002516807257342188\n",
      "Dilute phase concentration: 0.16763450328947369 +/- 0.002732295598299174\n",
      "simulation/runs/AVPGVG_2024_08_15_09_08_1723713769/349\n"
     ]
    },
    {
     "name": "stderr",
     "output_type": "stream",
     "text": [
      "/home/ubuntu/CTP/simulation/runs/AVPGVG_2024_08_15_09_08_1723713769/349/da.py:62: OptimizeWarning: Covariance of the parameters could not be estimated\n",
      "  popt, _ = curve_fit(super_gaussian, coords, avg_profile, p0=initial_guess, maxfev=20000)\n"
     ]
    },
    {
     "name": "stdout",
     "output_type": "stream",
     "text": [
      "Dense phase concentration: 0.16691791950464396 +/- 0.002485900213629994\n",
      "Dilute phase concentration: 0.16890753289473687 +/- 0.0025702077256659723\n",
      "simulation/runs/AVPGVG_2024_08_15_09_08_1723713769/356\n"
     ]
    },
    {
     "name": "stderr",
     "output_type": "stream",
     "text": [
      "/home/ubuntu/CTP/simulation/runs/AVPGVG_2024_08_15_09_08_1723713769/356/da.py:62: OptimizeWarning: Covariance of the parameters could not be estimated\n",
      "  popt, _ = curve_fit(super_gaussian, coords, avg_profile, p0=initial_guess, maxfev=20000)\n"
     ]
    },
    {
     "name": "stdout",
     "output_type": "stream",
     "text": [
      "Dense phase concentration: 0.16648221981424147 +/- 0.002456489973480675\n",
      "Dilute phase concentration: 0.1698333585526316 +/- 0.0013840999743499128\n",
      "simulation/runs/AVPGVG_2024_08_15_09_08_1723713769/370\n"
     ]
    },
    {
     "name": "stderr",
     "output_type": "stream",
     "text": [
      "/home/ubuntu/CTP/simulation/runs/AVPGVG_2024_08_15_09_08_1723713769/370/da.py:62: OptimizeWarning: Covariance of the parameters could not be estimated\n",
      "  popt, _ = curve_fit(super_gaussian, coords, avg_profile, p0=initial_guess, maxfev=20000)\n"
     ]
    },
    {
     "name": "stdout",
     "output_type": "stream",
     "text": [
      "Dense phase concentration: 0.16772407120743033 +/- 0.0017818452038365913\n",
      "Dilute phase concentration: 0.16719449342105264 +/- 0.001511216271212618\n",
      "simulation/runs/AVPGVG_2024_08_15_09_08_1723713769/335\n"
     ]
    },
    {
     "name": "stderr",
     "output_type": "stream",
     "text": [
      "/home/ubuntu/CTP/simulation/runs/AVPGVG_2024_08_15_09_08_1723713769/335/da.py:62: OptimizeWarning: Covariance of the parameters could not be estimated\n",
      "  popt, _ = curve_fit(super_gaussian, coords, avg_profile, p0=initial_guess, maxfev=20000)\n"
     ]
    },
    {
     "name": "stdout",
     "output_type": "stream",
     "text": [
      "Dense phase concentration: 0.16643015634674924 +/- 0.0025924338691455558\n",
      "Dilute phase concentration: 0.16994398684210527 +/- 0.0017894078668720368\n",
      "simulation/runs/AVPGVG_2024_08_15_09_08_1723713769/270\n"
     ]
    },
    {
     "name": "stderr",
     "output_type": "stream",
     "text": [
      "/home/ubuntu/CTP/simulation/runs/AVPGVG_2024_08_15_09_08_1723713769/270/da.py:62: OptimizeWarning: Covariance of the parameters could not be estimated\n",
      "  popt, _ = curve_fit(super_gaussian, coords, avg_profile, p0=initial_guess, maxfev=20000)\n"
     ]
    },
    {
     "name": "stdout",
     "output_type": "stream",
     "text": [
      "Dense phase concentration: 0.16661684674922603 +/- 0.002512877684615911\n",
      "Dilute phase concentration: 0.16954724342105265 +/- 0.002055252587569267\n"
     ]
    },
    {
     "name": "stderr",
     "output_type": "stream",
     "text": [
      "/home/ubuntu/anaconda3/envs/lammps/lib/python3.9/site-packages/matplotlib/collections.py:197: ComplexWarning: Casting complex values to real discards the imaginary part\n",
      "  offsets = np.asanyarray(offsets, float)\n",
      "/home/ubuntu/anaconda3/envs/lammps/lib/python3.9/site-packages/matplotlib/cbook.py:1762: ComplexWarning: Casting complex values to real discards the imaginary part\n",
      "  return math.isfinite(val)\n",
      "/home/ubuntu/anaconda3/envs/lammps/lib/python3.9/site-packages/matplotlib/cbook.py:1398: ComplexWarning: Casting complex values to real discards the imaginary part\n",
      "  return np.asarray(x, float)\n"
     ]
    },
    {
     "name": "stdout",
     "output_type": "stream",
     "text": [
      "File densities_chunked_temp250.txt read successfully with 2 lines.\n",
      "Original data lines:\n",
      "Dense phase concentration: 0.16622086222910215 +/- 0.0026565566731521096\n",
      "Dilute phase concentration: 0.17038871381578946 +/- 0.0019613064812048857\n",
      "Filtered data lines: 2\n",
      "Dense phase concentration: 0.16622086222910215 +/- 0.0026565566731521096\n",
      "Dilute phase concentration: 0.17038871381578946 +/- 0.0019613064812048857\n",
      "File densities_chunked_temp270.txt read successfully with 2 lines.\n",
      "Original data lines:\n",
      "Dense phase concentration: 0.16661684674922603 +/- 0.002512877684615911\n",
      "Dilute phase concentration: 0.16954724342105265 +/- 0.002055252587569267\n",
      "Filtered data lines: 2\n",
      "Dense phase concentration: 0.16661684674922603 +/- 0.002512877684615911\n",
      "Dilute phase concentration: 0.16954724342105265 +/- 0.002055252587569267\n",
      "File densities_chunked_temp290.txt read successfully with 2 lines.\n",
      "Original data lines:\n",
      "Dense phase concentration: 0.1667298095975232 +/- 0.0027009624823887764\n",
      "Dilute phase concentration: 0.16930724013157894 +/- 0.001574963325647934\n",
      "Filtered data lines: 2\n",
      "Dense phase concentration: 0.1667298095975232 +/- 0.0027009624823887764\n",
      "Dilute phase concentration: 0.16930724013157894 +/- 0.001574963325647934\n",
      "File densities_chunked_temp300.txt read successfully with 2 lines.\n",
      "Original data lines:\n",
      "Dense phase concentration: 0.16605731888544892 +/- 0.002762379128880917\n",
      "Dilute phase concentration: 0.17073631578947368 +/- 0.0029106278670301368\n",
      "Filtered data lines: 2\n",
      "Dense phase concentration: 0.16605731888544892 +/- 0.002762379128880917\n",
      "Dilute phase concentration: 0.17073631578947368 +/- 0.0029106278670301368\n",
      "File densities_chunked_temp307.txt read successfully with 2 lines.\n",
      "Original data lines:\n",
      "Dense phase concentration: 0.16711279411764707 +/- 0.002704612418311464\n",
      "Dilute phase concentration: 0.16849342434210524 +/- 0.0014411557576307743\n",
      "Filtered data lines: 2\n",
      "Dense phase concentration: 0.16711279411764707 +/- 0.002704612418311464\n",
      "Dilute phase concentration: 0.16849342434210524 +/- 0.0014411557576307743\n",
      "File densities_chunked_temp314.txt read successfully with 2 lines.\n",
      "Original data lines:\n",
      "Dense phase concentration: 0.16671631578947366 +/- 0.00246771591729278\n",
      "Dilute phase concentration: 0.16933589473684207 +/- 0.0022407237539424593\n",
      "Filtered data lines: 2\n",
      "Dense phase concentration: 0.16671631578947366 +/- 0.00246771591729278\n",
      "Dilute phase concentration: 0.16933589473684207 +/- 0.0022407237539424593\n",
      "File densities_chunked_temp321.txt read successfully with 2 lines.\n",
      "Original data lines:\n",
      "Dense phase concentration: 0.16751697523219816 +/- 0.002516807257342188\n",
      "Dilute phase concentration: 0.16763450328947369 +/- 0.002732295598299174\n",
      "Filtered data lines: 2\n",
      "Dense phase concentration: 0.16751697523219816 +/- 0.002516807257342188\n",
      "Dilute phase concentration: 0.16763450328947369 +/- 0.002732295598299174\n",
      "File densities_chunked_temp328.txt read successfully with 2 lines.\n",
      "Original data lines:\n",
      "Dense phase concentration: 0.16652939009287926 +/- 0.0014618376096615434\n",
      "Dilute phase concentration: 0.16973310526315788 +/- 0.0016712726024925137\n",
      "Filtered data lines: 2\n",
      "Dense phase concentration: 0.16652939009287926 +/- 0.0014618376096615434\n",
      "Dilute phase concentration: 0.16973310526315788 +/- 0.0016712726024925137\n",
      "File densities_chunked_temp335.txt read successfully with 2 lines.\n",
      "Original data lines:\n",
      "Dense phase concentration: 0.16643015634674924 +/- 0.0025924338691455558\n",
      "Dilute phase concentration: 0.16994398684210527 +/- 0.0017894078668720368\n",
      "Filtered data lines: 2\n",
      "Dense phase concentration: 0.16643015634674924 +/- 0.0025924338691455558\n",
      "Dilute phase concentration: 0.16994398684210527 +/- 0.0017894078668720368\n",
      "File densities_chunked_temp342.txt read successfully with 2 lines.\n",
      "Original data lines:\n",
      "Dense phase concentration: 0.1666616160990712 +/- 0.0017822809348427213\n",
      "Dilute phase concentration: 0.16945212828947367 +/- 0.0016979521862291861\n",
      "Filtered data lines: 2\n",
      "Dense phase concentration: 0.1666616160990712 +/- 0.0017822809348427213\n",
      "Dilute phase concentration: 0.16945212828947367 +/- 0.0016979521862291861\n",
      "File densities_chunked_temp349.txt read successfully with 2 lines.\n",
      "Original data lines:\n",
      "Dense phase concentration: 0.16691791950464396 +/- 0.002485900213629994\n",
      "Dilute phase concentration: 0.16890753289473687 +/- 0.0025702077256659723\n",
      "Filtered data lines: 2\n",
      "Dense phase concentration: 0.16691791950464396 +/- 0.002485900213629994\n",
      "Dilute phase concentration: 0.16890753289473687 +/- 0.0025702077256659723\n",
      "File densities_chunked_temp356.txt read successfully with 2 lines.\n",
      "Original data lines:\n",
      "Dense phase concentration: 0.16648221981424147 +/- 0.002456489973480675\n",
      "Dilute phase concentration: 0.1698333585526316 +/- 0.0013840999743499128\n",
      "Filtered data lines: 2\n",
      "Dense phase concentration: 0.16648221981424147 +/- 0.002456489973480675\n",
      "Dilute phase concentration: 0.1698333585526316 +/- 0.0013840999743499128\n",
      "File densities_chunked_temp363.txt read successfully with 2 lines.\n",
      "Original data lines:\n",
      "Dense phase concentration: 0.16682001702786378 +/- 0.0019525143182736139\n",
      "Dilute phase concentration: 0.16911553947368418 +/- 0.0025963665766035146\n",
      "Filtered data lines: 2\n",
      "Dense phase concentration: 0.16682001702786378 +/- 0.0019525143182736139\n",
      "Dilute phase concentration: 0.16911553947368418 +/- 0.0025963665766035146\n",
      "File densities_chunked_temp370.txt read successfully with 2 lines.\n",
      "Original data lines:\n",
      "Dense phase concentration: 0.16772407120743033 +/- 0.0017818452038365913\n",
      "Dilute phase concentration: 0.16719449342105264 +/- 0.001511216271212618\n",
      "Filtered data lines: 2\n",
      "Dense phase concentration: 0.16772407120743033 +/- 0.0017818452038365913\n",
      "Dilute phase concentration: 0.16719449342105264 +/- 0.001511216271212618\n",
      "Temperatures: [250, 270, 290, 300, 307, 314, 321, 328, 335, 342, 349, 356, 363, 370]\n",
      "Dense phase concentrations: [0.16622086222910215, 0.16661684674922603, 0.1667298095975232, 0.16605731888544892, 0.16711279411764707, 0.16671631578947366, 0.16751697523219816, 0.16652939009287926, 0.16643015634674924, 0.1666616160990712, 0.16691791950464396, 0.16648221981424147, 0.16682001702786378, 0.16772407120743033]\n",
      "Dilute phase concentrations: [0.17038871381578946, 0.16954724342105265, 0.16930724013157894, 0.17073631578947368, 0.16849342434210524, 0.16933589473684207, 0.16763450328947369, 0.16973310526315788, 0.16994398684210527, 0.16945212828947367, 0.16890753289473687, 0.1698333585526316, 0.16911553947368418, 0.16719449342105264]\n",
      "Dense std dev: [0.0026565566731521096, 0.002512877684615911, 0.0027009624823887764, 0.002762379128880917, 0.002704612418311464, 0.00246771591729278, 0.002516807257342188, 0.0014618376096615434, 0.0025924338691455558, 0.0017822809348427213, 0.002485900213629994, 0.002456489973480675, 0.0019525143182736139, 0.0017818452038365913]\n",
      "Dilute std dev: [0.0019613064812048857, 0.002055252587569267, 0.001574963325647934, 0.0029106278670301368, 0.0014411557576307743, 0.0022407237539424593, 0.002732295598299174, 0.0016712726024925137, 0.0017894078668720368, 0.0016979521862291861, 0.0025702077256659723, 0.0013840999743499128, 0.0025963665766035146, 0.001511216271212618]\n",
      "Critical Solution Temperature: 396.01+0.02j K written to critical_solution_temperature.txt\n",
      "execution time: 0.7316474866867065 hours\n",
      "15-Aug-24 | 10:06\n",
      "\n",
      "\n",
      "running simulation for LGAPVG\n",
      "15-Aug-24 | 10:06\n",
      "seq len 26\n",
      "total temps 14\n",
      "simulation/runs/LGAPVG_2024_08_15_10_08_1723716402\n",
      "step 1: running input single chain\n"
     ]
    },
    {
     "name": "stderr",
     "output_type": "stream",
     "text": [
      "/home/ubuntu/CTP/simulation/runs/LGAPVG_2024_08_15_10_08_1723716402/seq2config.py:67: DeprecationWarning: Conversion of an array with ndim > 0 to a scalar is deprecated, and will error in future. Ensure you extract a single element from your array before performing this operation. (Deprecated NumPy 1.25.)\n",
      "  typescharges.append([int(types[p,1]),float(charges[k,1])])\n"
     ]
    },
    {
     "name": "stdout",
     "output_type": "stream",
     "text": [
      "step 2: running compress single chain\n",
      "step 3: direct coexistence\n",
      "running [{'temp': 250, 'dir': 'simulation/runs/LGAPVG_2024_08_15_10_08_1723716402/250'}, {'temp': 270, 'dir': 'simulation/runs/LGAPVG_2024_08_15_10_08_1723716402/270'}, {'temp': 290, 'dir': 'simulation/runs/LGAPVG_2024_08_15_10_08_1723716402/290'}, {'temp': 300, 'dir': 'simulation/runs/LGAPVG_2024_08_15_10_08_1723716402/300'}, {'temp': 307, 'dir': 'simulation/runs/LGAPVG_2024_08_15_10_08_1723716402/307'}, {'temp': 314, 'dir': 'simulation/runs/LGAPVG_2024_08_15_10_08_1723716402/314'}]\n",
      "15-Aug-24 | 10:08\n",
      "execution time: 0.24138908949163224 hours\n",
      "15-Aug-24 | 10:22\n",
      "running [{'temp': 321, 'dir': 'simulation/runs/LGAPVG_2024_08_15_10_08_1723716402/321'}, {'temp': 328, 'dir': 'simulation/runs/LGAPVG_2024_08_15_10_08_1723716402/328'}, {'temp': 335, 'dir': 'simulation/runs/LGAPVG_2024_08_15_10_08_1723716402/335'}, {'temp': 342, 'dir': 'simulation/runs/LGAPVG_2024_08_15_10_08_1723716402/342'}, {'temp': 349, 'dir': 'simulation/runs/LGAPVG_2024_08_15_10_08_1723716402/349'}, {'temp': 356, 'dir': 'simulation/runs/LGAPVG_2024_08_15_10_08_1723716402/356'}]\n",
      "15-Aug-24 | 10:22\n",
      "execution time: 0.2545584509770075 hours\n",
      "15-Aug-24 | 10:37\n",
      "running [{'temp': 363, 'dir': 'simulation/runs/LGAPVG_2024_08_15_10_08_1723716402/363'}, {'temp': 370, 'dir': 'simulation/runs/LGAPVG_2024_08_15_10_08_1723716402/370'}]\n",
      "remaining temp, CPUs_pp = 48\n",
      "15-Aug-24 | 10:37\n",
      "execution time: 0.22532702803611757 hours\n",
      "15-Aug-24 | 10:51\n",
      "calculating ps densities\n",
      "simulation/runs/LGAPVG_2024_08_15_10_08_1723716402/300\n"
     ]
    },
    {
     "name": "stderr",
     "output_type": "stream",
     "text": [
      "/home/ubuntu/CTP/simulation/runs/LGAPVG_2024_08_15_10_08_1723716402/300/da.py:62: OptimizeWarning: Covariance of the parameters could not be estimated\n",
      "  popt, _ = curve_fit(super_gaussian, coords, avg_profile, p0=initial_guess, maxfev=20000)\n"
     ]
    },
    {
     "name": "stdout",
     "output_type": "stream",
     "text": [
      "Dense phase concentration: 0.1677389845201238 +/- 0.0025781761496295667\n",
      "Dilute phase concentration: 0.16973138157894738 +/- 0.002402028667976256\n",
      "simulation/runs/LGAPVG_2024_08_15_10_08_1723716402/314\n"
     ]
    },
    {
     "name": "stderr",
     "output_type": "stream",
     "text": [
      "/home/ubuntu/CTP/simulation/runs/LGAPVG_2024_08_15_10_08_1723716402/314/da.py:62: OptimizeWarning: Covariance of the parameters could not be estimated\n",
      "  popt, _ = curve_fit(super_gaussian, coords, avg_profile, p0=initial_guess, maxfev=20000)\n"
     ]
    },
    {
     "name": "stdout",
     "output_type": "stream",
     "text": [
      "Dense phase concentration: 0.167908253869969 +/- 0.0017729652404270383\n",
      "Dilute phase concentration: 0.169371625 +/- 0.0019973924826817593\n",
      "simulation/runs/LGAPVG_2024_08_15_10_08_1723716402/290\n"
     ]
    },
    {
     "name": "stderr",
     "output_type": "stream",
     "text": [
      "/home/ubuntu/CTP/simulation/runs/LGAPVG_2024_08_15_10_08_1723716402/290/da.py:62: OptimizeWarning: Covariance of the parameters could not be estimated\n",
      "  popt, _ = curve_fit(super_gaussian, coords, avg_profile, p0=initial_guess, maxfev=20000)\n"
     ]
    },
    {
     "name": "stdout",
     "output_type": "stream",
     "text": [
      "Dense phase concentration: 0.16756362383900927 +/- 0.002409130971936428\n",
      "Dilute phase concentration: 0.17010401644736842 +/- 0.0025701950133712697\n",
      "simulation/runs/LGAPVG_2024_08_15_10_08_1723716402/342\n"
     ]
    },
    {
     "name": "stderr",
     "output_type": "stream",
     "text": [
      "/home/ubuntu/CTP/simulation/runs/LGAPVG_2024_08_15_10_08_1723716402/342/da.py:62: OptimizeWarning: Covariance of the parameters could not be estimated\n",
      "  popt, _ = curve_fit(super_gaussian, coords, avg_profile, p0=initial_guess, maxfev=20000)\n"
     ]
    },
    {
     "name": "stdout",
     "output_type": "stream",
     "text": [
      "Dense phase concentration: 0.16792722755417952 +/- 0.0021642212765481147\n",
      "Dilute phase concentration: 0.16933136842105267 +/- 0.001428912659024026\n",
      "simulation/runs/LGAPVG_2024_08_15_10_08_1723716402/328\n"
     ]
    },
    {
     "name": "stderr",
     "output_type": "stream",
     "text": [
      "/home/ubuntu/CTP/simulation/runs/LGAPVG_2024_08_15_10_08_1723716402/328/da.py:62: OptimizeWarning: Covariance of the parameters could not be estimated\n",
      "  popt, _ = curve_fit(super_gaussian, coords, avg_profile, p0=initial_guess, maxfev=20000)\n"
     ]
    },
    {
     "name": "stdout",
     "output_type": "stream",
     "text": [
      "Dense phase concentration: 0.16795723993808054 +/- 0.0019955139306330823\n",
      "Dilute phase concentration: 0.16926753289473684 +/- 0.0020711651928780116\n",
      "simulation/runs/LGAPVG_2024_08_15_10_08_1723716402/307\n"
     ]
    },
    {
     "name": "stderr",
     "output_type": "stream",
     "text": [
      "/home/ubuntu/CTP/simulation/runs/LGAPVG_2024_08_15_10_08_1723716402/307/da.py:62: OptimizeWarning: Covariance of the parameters could not be estimated\n",
      "  popt, _ = curve_fit(super_gaussian, coords, avg_profile, p0=initial_guess, maxfev=20000)\n"
     ]
    },
    {
     "name": "stdout",
     "output_type": "stream",
     "text": [
      "Dense phase concentration: 0.16777451083591333 +/- 0.002116677775901464\n",
      "Dilute phase concentration: 0.1696557960526316 +/- 0.0018374936978499156\n",
      "simulation/runs/LGAPVG_2024_08_15_10_08_1723716402/363\n"
     ]
    },
    {
     "name": "stderr",
     "output_type": "stream",
     "text": [
      "/home/ubuntu/CTP/simulation/runs/LGAPVG_2024_08_15_10_08_1723716402/363/da.py:62: OptimizeWarning: Covariance of the parameters could not be estimated\n",
      "  popt, _ = curve_fit(super_gaussian, coords, avg_profile, p0=initial_guess, maxfev=20000)\n"
     ]
    },
    {
     "name": "stdout",
     "output_type": "stream",
     "text": [
      "Dense phase concentration: 0.1685612678018576 +/- 0.0026412734525712313\n",
      "Dilute phase concentration: 0.16798401315789474 +/- 0.002915492906047744\n",
      "simulation/runs/LGAPVG_2024_08_15_10_08_1723716402/250\n"
     ]
    },
    {
     "name": "stderr",
     "output_type": "stream",
     "text": [
      "/home/ubuntu/CTP/simulation/runs/LGAPVG_2024_08_15_10_08_1723716402/250/da.py:62: OptimizeWarning: Covariance of the parameters could not be estimated\n",
      "  popt, _ = curve_fit(super_gaussian, coords, avg_profile, p0=initial_guess, maxfev=20000)\n"
     ]
    },
    {
     "name": "stdout",
     "output_type": "stream",
     "text": [
      "Dense phase concentration: 0.16791187461300308 +/- 0.0030411366340112943\n",
      "Dilute phase concentration: 0.1693639144736842 +/- 0.003314665265397492\n",
      "simulation/runs/LGAPVG_2024_08_15_10_08_1723716402/321\n"
     ]
    },
    {
     "name": "stderr",
     "output_type": "stream",
     "text": [
      "/home/ubuntu/CTP/simulation/runs/LGAPVG_2024_08_15_10_08_1723716402/321/da.py:62: OptimizeWarning: Covariance of the parameters could not be estimated\n",
      "  popt, _ = curve_fit(super_gaussian, coords, avg_profile, p0=initial_guess, maxfev=20000)\n"
     ]
    },
    {
     "name": "stdout",
     "output_type": "stream",
     "text": [
      "Dense phase concentration: 0.16789215789473683 +/- 0.0021323377683850524\n",
      "Dilute phase concentration: 0.16940586184210527 +/- 0.0023839538117628803\n",
      "simulation/runs/LGAPVG_2024_08_15_10_08_1723716402/349\n"
     ]
    },
    {
     "name": "stderr",
     "output_type": "stream",
     "text": [
      "/home/ubuntu/CTP/simulation/runs/LGAPVG_2024_08_15_10_08_1723716402/349/da.py:62: OptimizeWarning: Covariance of the parameters could not be estimated\n",
      "  popt, _ = curve_fit(super_gaussian, coords, avg_profile, p0=initial_guess, maxfev=20000)\n"
     ]
    },
    {
     "name": "stdout",
     "output_type": "stream",
     "text": [
      "Dense phase concentration: 0.16794310835913315 +/- 0.002147030921086729\n",
      "Dilute phase concentration: 0.16929757565789474 +/- 0.0013189427516601315\n",
      "simulation/runs/LGAPVG_2024_08_15_10_08_1723716402/356\n"
     ]
    },
    {
     "name": "stderr",
     "output_type": "stream",
     "text": [
      "/home/ubuntu/CTP/simulation/runs/LGAPVG_2024_08_15_10_08_1723716402/356/da.py:62: OptimizeWarning: Covariance of the parameters could not be estimated\n",
      "  popt, _ = curve_fit(super_gaussian, coords, avg_profile, p0=initial_guess, maxfev=20000)\n"
     ]
    },
    {
     "name": "stdout",
     "output_type": "stream",
     "text": [
      "Dense phase concentration: 0.16711910061919502 +/- 0.001787983411155514\n",
      "Dilute phase concentration: 0.1710486019736842 +/- 0.002246379829169709\n",
      "simulation/runs/LGAPVG_2024_08_15_10_08_1723716402/370\n"
     ]
    },
    {
     "name": "stderr",
     "output_type": "stream",
     "text": [
      "/home/ubuntu/CTP/simulation/runs/LGAPVG_2024_08_15_10_08_1723716402/370/da.py:62: OptimizeWarning: Covariance of the parameters could not be estimated\n",
      "  popt, _ = curve_fit(super_gaussian, coords, avg_profile, p0=initial_guess, maxfev=20000)\n"
     ]
    },
    {
     "name": "stdout",
     "output_type": "stream",
     "text": [
      "Dense phase concentration: 0.16806112074303406 +/- 0.002389736685841504\n",
      "Dilute phase concentration: 0.16904682894736842 +/- 0.0018229987763594506\n",
      "simulation/runs/LGAPVG_2024_08_15_10_08_1723716402/335\n"
     ]
    },
    {
     "name": "stderr",
     "output_type": "stream",
     "text": [
      "/home/ubuntu/CTP/simulation/runs/LGAPVG_2024_08_15_10_08_1723716402/335/da.py:62: OptimizeWarning: Covariance of the parameters could not be estimated\n",
      "  popt, _ = curve_fit(super_gaussian, coords, avg_profile, p0=initial_guess, maxfev=20000)\n"
     ]
    },
    {
     "name": "stdout",
     "output_type": "stream",
     "text": [
      "Dense phase concentration: 0.1677410154798762 +/- 0.0013848067288071266\n",
      "Dilute phase concentration: 0.16972699013157894 +/- 0.0018260651751697385\n",
      "simulation/runs/LGAPVG_2024_08_15_10_08_1723716402/270\n"
     ]
    },
    {
     "name": "stderr",
     "output_type": "stream",
     "text": [
      "/home/ubuntu/CTP/simulation/runs/LGAPVG_2024_08_15_10_08_1723716402/270/da.py:62: OptimizeWarning: Covariance of the parameters could not be estimated\n",
      "  popt, _ = curve_fit(super_gaussian, coords, avg_profile, p0=initial_guess, maxfev=20000)\n"
     ]
    },
    {
     "name": "stdout",
     "output_type": "stream",
     "text": [
      "Dense phase concentration: 0.16725417647058824 +/- 0.002706468127845985\n",
      "Dilute phase concentration: 0.17076159210526315 +/- 0.002077068958812071\n"
     ]
    },
    {
     "name": "stderr",
     "output_type": "stream",
     "text": [
      "/home/ubuntu/anaconda3/envs/lammps/lib/python3.9/site-packages/matplotlib/collections.py:197: ComplexWarning: Casting complex values to real discards the imaginary part\n",
      "  offsets = np.asanyarray(offsets, float)\n",
      "/home/ubuntu/anaconda3/envs/lammps/lib/python3.9/site-packages/matplotlib/cbook.py:1762: ComplexWarning: Casting complex values to real discards the imaginary part\n",
      "  return math.isfinite(val)\n",
      "/home/ubuntu/anaconda3/envs/lammps/lib/python3.9/site-packages/matplotlib/cbook.py:1398: ComplexWarning: Casting complex values to real discards the imaginary part\n",
      "  return np.asarray(x, float)\n"
     ]
    },
    {
     "name": "stdout",
     "output_type": "stream",
     "text": [
      "File densities_chunked_temp250.txt read successfully with 2 lines.\n",
      "Original data lines:\n",
      "Dense phase concentration: 0.16791187461300308 +/- 0.0030411366340112943\n",
      "Dilute phase concentration: 0.1693639144736842 +/- 0.003314665265397492\n",
      "Filtered data lines: 2\n",
      "Dense phase concentration: 0.16791187461300308 +/- 0.0030411366340112943\n",
      "Dilute phase concentration: 0.1693639144736842 +/- 0.003314665265397492\n",
      "File densities_chunked_temp270.txt read successfully with 2 lines.\n",
      "Original data lines:\n",
      "Dense phase concentration: 0.16725417647058824 +/- 0.002706468127845985\n",
      "Dilute phase concentration: 0.17076159210526315 +/- 0.002077068958812071\n",
      "Filtered data lines: 2\n",
      "Dense phase concentration: 0.16725417647058824 +/- 0.002706468127845985\n",
      "Dilute phase concentration: 0.17076159210526315 +/- 0.002077068958812071\n",
      "File densities_chunked_temp290.txt read successfully with 2 lines.\n",
      "Original data lines:\n",
      "Dense phase concentration: 0.16756362383900927 +/- 0.002409130971936428\n",
      "Dilute phase concentration: 0.17010401644736842 +/- 0.0025701950133712697\n",
      "Filtered data lines: 2\n",
      "Dense phase concentration: 0.16756362383900927 +/- 0.002409130971936428\n",
      "Dilute phase concentration: 0.17010401644736842 +/- 0.0025701950133712697\n",
      "File densities_chunked_temp300.txt read successfully with 2 lines.\n",
      "Original data lines:\n",
      "Dense phase concentration: 0.1677389845201238 +/- 0.0025781761496295667\n",
      "Dilute phase concentration: 0.16973138157894738 +/- 0.002402028667976256\n",
      "Filtered data lines: 2\n",
      "Dense phase concentration: 0.1677389845201238 +/- 0.0025781761496295667\n",
      "Dilute phase concentration: 0.16973138157894738 +/- 0.002402028667976256\n",
      "File densities_chunked_temp307.txt read successfully with 2 lines.\n",
      "Original data lines:\n",
      "Dense phase concentration: 0.16777451083591333 +/- 0.002116677775901464\n",
      "Dilute phase concentration: 0.1696557960526316 +/- 0.0018374936978499156\n",
      "Filtered data lines: 2\n",
      "Dense phase concentration: 0.16777451083591333 +/- 0.002116677775901464\n",
      "Dilute phase concentration: 0.1696557960526316 +/- 0.0018374936978499156\n",
      "File densities_chunked_temp314.txt read successfully with 2 lines.\n",
      "Original data lines:\n",
      "Dense phase concentration: 0.167908253869969 +/- 0.0017729652404270383\n",
      "Dilute phase concentration: 0.169371625 +/- 0.0019973924826817593\n",
      "Filtered data lines: 2\n",
      "Dense phase concentration: 0.167908253869969 +/- 0.0017729652404270383\n",
      "Dilute phase concentration: 0.169371625 +/- 0.0019973924826817593\n",
      "File densities_chunked_temp321.txt read successfully with 2 lines.\n",
      "Original data lines:\n",
      "Dense phase concentration: 0.16789215789473683 +/- 0.0021323377683850524\n",
      "Dilute phase concentration: 0.16940586184210527 +/- 0.0023839538117628803\n",
      "Filtered data lines: 2\n",
      "Dense phase concentration: 0.16789215789473683 +/- 0.0021323377683850524\n",
      "Dilute phase concentration: 0.16940586184210527 +/- 0.0023839538117628803\n",
      "File densities_chunked_temp328.txt read successfully with 2 lines.\n",
      "Original data lines:\n",
      "Dense phase concentration: 0.16795723993808054 +/- 0.0019955139306330823\n",
      "Dilute phase concentration: 0.16926753289473684 +/- 0.0020711651928780116\n",
      "Filtered data lines: 2\n",
      "Dense phase concentration: 0.16795723993808054 +/- 0.0019955139306330823\n",
      "Dilute phase concentration: 0.16926753289473684 +/- 0.0020711651928780116\n",
      "File densities_chunked_temp335.txt read successfully with 2 lines.\n",
      "Original data lines:\n",
      "Dense phase concentration: 0.1677410154798762 +/- 0.0013848067288071266\n",
      "Dilute phase concentration: 0.16972699013157894 +/- 0.0018260651751697385\n",
      "Filtered data lines: 2\n",
      "Dense phase concentration: 0.1677410154798762 +/- 0.0013848067288071266\n",
      "Dilute phase concentration: 0.16972699013157894 +/- 0.0018260651751697385\n",
      "File densities_chunked_temp342.txt read successfully with 2 lines.\n",
      "Original data lines:\n",
      "Dense phase concentration: 0.16792722755417952 +/- 0.0021642212765481147\n",
      "Dilute phase concentration: 0.16933136842105267 +/- 0.001428912659024026\n",
      "Filtered data lines: 2\n",
      "Dense phase concentration: 0.16792722755417952 +/- 0.0021642212765481147\n",
      "Dilute phase concentration: 0.16933136842105267 +/- 0.001428912659024026\n",
      "File densities_chunked_temp349.txt read successfully with 2 lines.\n",
      "Original data lines:\n",
      "Dense phase concentration: 0.16794310835913315 +/- 0.002147030921086729\n",
      "Dilute phase concentration: 0.16929757565789474 +/- 0.0013189427516601315\n",
      "Filtered data lines: 2\n",
      "Dense phase concentration: 0.16794310835913315 +/- 0.002147030921086729\n",
      "Dilute phase concentration: 0.16929757565789474 +/- 0.0013189427516601315\n",
      "File densities_chunked_temp356.txt read successfully with 2 lines.\n",
      "Original data lines:\n",
      "Dense phase concentration: 0.16711910061919502 +/- 0.001787983411155514\n",
      "Dilute phase concentration: 0.1710486019736842 +/- 0.002246379829169709\n",
      "Filtered data lines: 2\n",
      "Dense phase concentration: 0.16711910061919502 +/- 0.001787983411155514\n",
      "Dilute phase concentration: 0.1710486019736842 +/- 0.002246379829169709\n",
      "File densities_chunked_temp363.txt read successfully with 2 lines.\n",
      "Original data lines:\n",
      "Dense phase concentration: 0.1685612678018576 +/- 0.0026412734525712313\n",
      "Dilute phase concentration: 0.16798401315789474 +/- 0.002915492906047744\n",
      "Filtered data lines: 2\n",
      "Dense phase concentration: 0.1685612678018576 +/- 0.0026412734525712313\n",
      "Dilute phase concentration: 0.16798401315789474 +/- 0.002915492906047744\n",
      "File densities_chunked_temp370.txt read successfully with 2 lines.\n",
      "Original data lines:\n",
      "Dense phase concentration: 0.16806112074303406 +/- 0.002389736685841504\n",
      "Dilute phase concentration: 0.16904682894736842 +/- 0.0018229987763594506\n",
      "Filtered data lines: 2\n",
      "Dense phase concentration: 0.16806112074303406 +/- 0.002389736685841504\n",
      "Dilute phase concentration: 0.16904682894736842 +/- 0.0018229987763594506\n",
      "Temperatures: [250, 270, 290, 300, 307, 314, 321, 328, 335, 342, 349, 356, 363, 370]\n",
      "Dense phase concentrations: [0.16791187461300308, 0.16725417647058824, 0.16756362383900927, 0.1677389845201238, 0.16777451083591333, 0.167908253869969, 0.16789215789473683, 0.16795723993808054, 0.1677410154798762, 0.16792722755417952, 0.16794310835913315, 0.16711910061919502, 0.1685612678018576, 0.16806112074303406]\n",
      "Dilute phase concentrations: [0.1693639144736842, 0.17076159210526315, 0.17010401644736842, 0.16973138157894738, 0.1696557960526316, 0.169371625, 0.16940586184210527, 0.16926753289473684, 0.16972699013157894, 0.16933136842105267, 0.16929757565789474, 0.1710486019736842, 0.16798401315789474, 0.16904682894736842]\n",
      "Dense std dev: [0.0030411366340112943, 0.002706468127845985, 0.002409130971936428, 0.0025781761496295667, 0.002116677775901464, 0.0017729652404270383, 0.0021323377683850524, 0.0019955139306330823, 0.0013848067288071266, 0.0021642212765481147, 0.002147030921086729, 0.001787983411155514, 0.0026412734525712313, 0.002389736685841504]\n",
      "Dilute std dev: [0.003314665265397492, 0.002077068958812071, 0.0025701950133712697, 0.002402028667976256, 0.0018374936978499156, 0.0019973924826817593, 0.0023839538117628803, 0.0020711651928780116, 0.0018260651751697385, 0.001428912659024026, 0.0013189427516601315, 0.002246379829169709, 0.002915492906047744, 0.0018229987763594506]\n",
      "Critical Solution Temperature: 558.65+0.47j K written to critical_solution_temperature.txt\n",
      "execution time: 0.747790478600396 hours\n",
      "15-Aug-24 | 10:51\n",
      "\n",
      "\n",
      "running simulation for TVPGVG\n",
      "15-Aug-24 | 10:51\n",
      "seq len 26\n",
      "total temps 14\n",
      "simulation/runs/TVPGVG_2024_08_15_10_08_1723719095\n",
      "step 1: running input single chain\n"
     ]
    },
    {
     "name": "stderr",
     "output_type": "stream",
     "text": [
      "/home/ubuntu/CTP/simulation/runs/TVPGVG_2024_08_15_10_08_1723719095/seq2config.py:67: DeprecationWarning: Conversion of an array with ndim > 0 to a scalar is deprecated, and will error in future. Ensure you extract a single element from your array before performing this operation. (Deprecated NumPy 1.25.)\n",
      "  typescharges.append([int(types[p,1]),float(charges[k,1])])\n"
     ]
    },
    {
     "name": "stdout",
     "output_type": "stream",
     "text": [
      "step 2: running compress single chain\n",
      "step 3: direct coexistence\n",
      "running [{'temp': 250, 'dir': 'simulation/runs/TVPGVG_2024_08_15_10_08_1723719095/250'}, {'temp': 270, 'dir': 'simulation/runs/TVPGVG_2024_08_15_10_08_1723719095/270'}, {'temp': 290, 'dir': 'simulation/runs/TVPGVG_2024_08_15_10_08_1723719095/290'}, {'temp': 300, 'dir': 'simulation/runs/TVPGVG_2024_08_15_10_08_1723719095/300'}, {'temp': 307, 'dir': 'simulation/runs/TVPGVG_2024_08_15_10_08_1723719095/307'}, {'temp': 314, 'dir': 'simulation/runs/TVPGVG_2024_08_15_10_08_1723719095/314'}]\n",
      "15-Aug-24 | 10:52\n",
      "execution time: 0.2477489972114563 hours\n",
      "15-Aug-24 | 11:07\n",
      "running [{'temp': 321, 'dir': 'simulation/runs/TVPGVG_2024_08_15_10_08_1723719095/321'}, {'temp': 328, 'dir': 'simulation/runs/TVPGVG_2024_08_15_10_08_1723719095/328'}, {'temp': 335, 'dir': 'simulation/runs/TVPGVG_2024_08_15_10_08_1723719095/335'}, {'temp': 342, 'dir': 'simulation/runs/TVPGVG_2024_08_15_10_08_1723719095/342'}, {'temp': 349, 'dir': 'simulation/runs/TVPGVG_2024_08_15_10_08_1723719095/349'}, {'temp': 356, 'dir': 'simulation/runs/TVPGVG_2024_08_15_10_08_1723719095/356'}]\n",
      "15-Aug-24 | 11:07\n",
      "execution time: 0.24917521437009177 hours\n",
      "15-Aug-24 | 11:22\n",
      "running [{'temp': 363, 'dir': 'simulation/runs/TVPGVG_2024_08_15_10_08_1723719095/363'}, {'temp': 370, 'dir': 'simulation/runs/TVPGVG_2024_08_15_10_08_1723719095/370'}]\n",
      "remaining temp, CPUs_pp = 48\n",
      "15-Aug-24 | 11:22\n",
      "execution time: 0.22351609057850308 hours\n",
      "15-Aug-24 | 11:36\n",
      "calculating ps densities\n",
      "simulation/runs/TVPGVG_2024_08_15_10_08_1723719095/300\n"
     ]
    },
    {
     "name": "stderr",
     "output_type": "stream",
     "text": [
      "/home/ubuntu/CTP/simulation/runs/TVPGVG_2024_08_15_10_08_1723719095/300/da.py:62: OptimizeWarning: Covariance of the parameters could not be estimated\n",
      "  popt, _ = curve_fit(super_gaussian, coords, avg_profile, p0=initial_guess, maxfev=20000)\n"
     ]
    },
    {
     "name": "stdout",
     "output_type": "stream",
     "text": [
      "Dense phase concentration: 0.17097730959752325 +/- 0.002195840813353549\n",
      "Dilute phase concentration: 0.17470826644736842 +/- 0.0019171628576101665\n",
      "simulation/runs/TVPGVG_2024_08_15_10_08_1723719095/314\n"
     ]
    },
    {
     "name": "stderr",
     "output_type": "stream",
     "text": [
      "/home/ubuntu/CTP/simulation/runs/TVPGVG_2024_08_15_10_08_1723719095/314/da.py:62: OptimizeWarning: Covariance of the parameters could not be estimated\n",
      "  popt, _ = curve_fit(super_gaussian, coords, avg_profile, p0=initial_guess, maxfev=20000)\n"
     ]
    },
    {
     "name": "stdout",
     "output_type": "stream",
     "text": [
      "Dense phase concentration: 0.17178815944272444 +/- 0.0017692673426269886\n",
      "Dilute phase concentration: 0.17298517763157895 +/- 0.0014405573206231863\n",
      "simulation/runs/TVPGVG_2024_08_15_10_08_1723719095/290\n"
     ]
    },
    {
     "name": "stderr",
     "output_type": "stream",
     "text": [
      "/home/ubuntu/CTP/simulation/runs/TVPGVG_2024_08_15_10_08_1723719095/290/da.py:62: OptimizeWarning: Covariance of the parameters could not be estimated\n",
      "  popt, _ = curve_fit(super_gaussian, coords, avg_profile, p0=initial_guess, maxfev=20000)\n"
     ]
    },
    {
     "name": "stdout",
     "output_type": "stream",
     "text": [
      "Dense phase concentration: 0.17193972445820435 +/- 0.0021056504863918558\n",
      "Dilute phase concentration: 0.1726630625 +/- 0.002588292386012688\n",
      "simulation/runs/TVPGVG_2024_08_15_10_08_1723719095/342\n"
     ]
    },
    {
     "name": "stderr",
     "output_type": "stream",
     "text": [
      "/home/ubuntu/CTP/simulation/runs/TVPGVG_2024_08_15_10_08_1723719095/342/da.py:62: OptimizeWarning: Covariance of the parameters could not be estimated\n",
      "  popt, _ = curve_fit(super_gaussian, coords, avg_profile, p0=initial_guess, maxfev=20000)\n"
     ]
    },
    {
     "name": "stdout",
     "output_type": "stream",
     "text": [
      "Dense phase concentration: 0.1713612306501548 +/- 0.002747101398628776\n",
      "Dilute phase concentration: 0.17389242434210528 +/- 0.0035617667428045406\n",
      "simulation/runs/TVPGVG_2024_08_15_10_08_1723719095/328\n"
     ]
    },
    {
     "name": "stderr",
     "output_type": "stream",
     "text": [
      "/home/ubuntu/CTP/simulation/runs/TVPGVG_2024_08_15_10_08_1723719095/328/da.py:62: OptimizeWarning: Covariance of the parameters could not be estimated\n",
      "  popt, _ = curve_fit(super_gaussian, coords, avg_profile, p0=initial_guess, maxfev=20000)\n"
     ]
    },
    {
     "name": "stdout",
     "output_type": "stream",
     "text": [
      "Dense phase concentration: 0.17099384984520127 +/- 0.0022515444916118644\n",
      "Dilute phase concentration: 0.1746730855263158 +/- 0.0017904660281469736\n",
      "simulation/runs/TVPGVG_2024_08_15_10_08_1723719095/307\n"
     ]
    },
    {
     "name": "stderr",
     "output_type": "stream",
     "text": [
      "/home/ubuntu/CTP/simulation/runs/TVPGVG_2024_08_15_10_08_1723719095/307/da.py:62: OptimizeWarning: Covariance of the parameters could not be estimated\n",
      "  popt, _ = curve_fit(super_gaussian, coords, avg_profile, p0=initial_guess, maxfev=20000)\n"
     ]
    },
    {
     "name": "stdout",
     "output_type": "stream",
     "text": [
      "Dense phase concentration: 0.1714003777089783 +/- 0.002299331994032801\n",
      "Dilute phase concentration: 0.17380926315789474 +/- 0.0023211599987847556\n",
      "simulation/runs/TVPGVG_2024_08_15_10_08_1723719095/363\n"
     ]
    },
    {
     "name": "stderr",
     "output_type": "stream",
     "text": [
      "/home/ubuntu/CTP/simulation/runs/TVPGVG_2024_08_15_10_08_1723719095/363/da.py:62: OptimizeWarning: Covariance of the parameters could not be estimated\n",
      "  popt, _ = curve_fit(super_gaussian, coords, avg_profile, p0=initial_guess, maxfev=20000)\n"
     ]
    },
    {
     "name": "stdout",
     "output_type": "stream",
     "text": [
      "Dense phase concentration: 0.17219565325077402 +/- 0.0019528420114809744\n",
      "Dilute phase concentration: 0.1721192894736842 +/- 0.001702045599054379\n",
      "simulation/runs/TVPGVG_2024_08_15_10_08_1723719095/250\n"
     ]
    },
    {
     "name": "stderr",
     "output_type": "stream",
     "text": [
      "/home/ubuntu/CTP/simulation/runs/TVPGVG_2024_08_15_10_08_1723719095/250/da.py:62: OptimizeWarning: Covariance of the parameters could not be estimated\n",
      "  popt, _ = curve_fit(super_gaussian, coords, avg_profile, p0=initial_guess, maxfev=20000)\n"
     ]
    },
    {
     "name": "stdout",
     "output_type": "stream",
     "text": [
      "Dense phase concentration: 0.17086286996904024 +/- 0.0030291147052741627\n",
      "Dilute phase concentration: 0.17495143092105261 +/- 0.001790327102536994\n",
      "simulation/runs/TVPGVG_2024_08_15_10_08_1723719095/321\n"
     ]
    },
    {
     "name": "stderr",
     "output_type": "stream",
     "text": [
      "/home/ubuntu/CTP/simulation/runs/TVPGVG_2024_08_15_10_08_1723719095/321/da.py:62: OptimizeWarning: Covariance of the parameters could not be estimated\n",
      "  popt, _ = curve_fit(super_gaussian, coords, avg_profile, p0=initial_guess, maxfev=20000)\n"
     ]
    },
    {
     "name": "stdout",
     "output_type": "stream",
     "text": [
      "Dense phase concentration: 0.17188397987616102 +/- 0.002814968237812793\n",
      "Dilute phase concentration: 0.1727815197368421 +/- 0.0021345773763069495\n",
      "simulation/runs/TVPGVG_2024_08_15_10_08_1723719095/349\n"
     ]
    },
    {
     "name": "stderr",
     "output_type": "stream",
     "text": [
      "/home/ubuntu/CTP/simulation/runs/TVPGVG_2024_08_15_10_08_1723719095/349/da.py:62: OptimizeWarning: Covariance of the parameters could not be estimated\n",
      "  popt, _ = curve_fit(super_gaussian, coords, avg_profile, p0=initial_guess, maxfev=20000)\n"
     ]
    },
    {
     "name": "stdout",
     "output_type": "stream",
     "text": [
      "Dense phase concentration: 0.17128767027863775 +/- 0.003222268479205142\n",
      "Dilute phase concentration: 0.17404876315789475 +/- 0.0024257482746926845\n",
      "simulation/runs/TVPGVG_2024_08_15_10_08_1723719095/356\n"
     ]
    },
    {
     "name": "stderr",
     "output_type": "stream",
     "text": [
      "/home/ubuntu/CTP/simulation/runs/TVPGVG_2024_08_15_10_08_1723719095/356/da.py:62: OptimizeWarning: Covariance of the parameters could not be estimated\n",
      "  popt, _ = curve_fit(super_gaussian, coords, avg_profile, p0=initial_guess, maxfev=20000)\n"
     ]
    },
    {
     "name": "stdout",
     "output_type": "stream",
     "text": [
      "Dense phase concentration: 0.17058710216718267 +/- 0.0025072942203962813\n",
      "Dilute phase concentration: 0.17553750328947368 +/- 0.0018009799396617229\n",
      "simulation/runs/TVPGVG_2024_08_15_10_08_1723719095/370\n"
     ]
    },
    {
     "name": "stderr",
     "output_type": "stream",
     "text": [
      "/home/ubuntu/CTP/simulation/runs/TVPGVG_2024_08_15_10_08_1723719095/370/da.py:62: OptimizeWarning: Covariance of the parameters could not be estimated\n",
      "  popt, _ = curve_fit(super_gaussian, coords, avg_profile, p0=initial_guess, maxfev=20000)\n"
     ]
    },
    {
     "name": "stdout",
     "output_type": "stream",
     "text": [
      "Dense phase concentration: 0.17220491640866872 +/- 0.0019264213483875124\n",
      "Dilute phase concentration: 0.17209962171052628 +/- 0.0021071738753773886\n",
      "simulation/runs/TVPGVG_2024_08_15_10_08_1723719095/335\n"
     ]
    },
    {
     "name": "stderr",
     "output_type": "stream",
     "text": [
      "/home/ubuntu/CTP/simulation/runs/TVPGVG_2024_08_15_10_08_1723719095/335/da.py:62: OptimizeWarning: Covariance of the parameters could not be estimated\n",
      "  popt, _ = curve_fit(super_gaussian, coords, avg_profile, p0=initial_guess, maxfev=20000)\n"
     ]
    },
    {
     "name": "stdout",
     "output_type": "stream",
     "text": [
      "Dense phase concentration: 0.17158885913312694 +/- 0.003335572868080213\n",
      "Dilute phase concentration: 0.17340870394736843 +/- 0.0011337968102885245\n",
      "simulation/runs/TVPGVG_2024_08_15_10_08_1723719095/270\n"
     ]
    },
    {
     "name": "stderr",
     "output_type": "stream",
     "text": [
      "/home/ubuntu/CTP/simulation/runs/TVPGVG_2024_08_15_10_08_1723719095/270/da.py:62: OptimizeWarning: Covariance of the parameters could not be estimated\n",
      "  popt, _ = curve_fit(super_gaussian, coords, avg_profile, p0=initial_guess, maxfev=20000)\n"
     ]
    },
    {
     "name": "stdout",
     "output_type": "stream",
     "text": [
      "Dense phase concentration: 0.1712006455108359 +/- 0.002881605231662892\n",
      "Dilute phase concentration: 0.1742336480263158 +/- 0.0024884633136410786\n"
     ]
    },
    {
     "name": "stderr",
     "output_type": "stream",
     "text": [
      "/home/ubuntu/anaconda3/envs/lammps/lib/python3.9/site-packages/matplotlib/collections.py:197: ComplexWarning: Casting complex values to real discards the imaginary part\n",
      "  offsets = np.asanyarray(offsets, float)\n",
      "/home/ubuntu/anaconda3/envs/lammps/lib/python3.9/site-packages/matplotlib/cbook.py:1762: ComplexWarning: Casting complex values to real discards the imaginary part\n",
      "  return math.isfinite(val)\n",
      "/home/ubuntu/anaconda3/envs/lammps/lib/python3.9/site-packages/matplotlib/cbook.py:1398: ComplexWarning: Casting complex values to real discards the imaginary part\n",
      "  return np.asarray(x, float)\n"
     ]
    },
    {
     "name": "stdout",
     "output_type": "stream",
     "text": [
      "File densities_chunked_temp250.txt read successfully with 2 lines.\n",
      "Original data lines:\n",
      "Dense phase concentration: 0.17086286996904024 +/- 0.0030291147052741627\n",
      "Dilute phase concentration: 0.17495143092105261 +/- 0.001790327102536994\n",
      "Filtered data lines: 2\n",
      "Dense phase concentration: 0.17086286996904024 +/- 0.0030291147052741627\n",
      "Dilute phase concentration: 0.17495143092105261 +/- 0.001790327102536994\n",
      "File densities_chunked_temp270.txt read successfully with 2 lines.\n",
      "Original data lines:\n",
      "Dense phase concentration: 0.1712006455108359 +/- 0.002881605231662892\n",
      "Dilute phase concentration: 0.1742336480263158 +/- 0.0024884633136410786\n",
      "Filtered data lines: 2\n",
      "Dense phase concentration: 0.1712006455108359 +/- 0.002881605231662892\n",
      "Dilute phase concentration: 0.1742336480263158 +/- 0.0024884633136410786\n",
      "File densities_chunked_temp290.txt read successfully with 2 lines.\n",
      "Original data lines:\n",
      "Dense phase concentration: 0.17193972445820435 +/- 0.0021056504863918558\n",
      "Dilute phase concentration: 0.1726630625 +/- 0.002588292386012688\n",
      "Filtered data lines: 2\n",
      "Dense phase concentration: 0.17193972445820435 +/- 0.0021056504863918558\n",
      "Dilute phase concentration: 0.1726630625 +/- 0.002588292386012688\n",
      "File densities_chunked_temp300.txt read successfully with 2 lines.\n",
      "Original data lines:\n",
      "Dense phase concentration: 0.17097730959752325 +/- 0.002195840813353549\n",
      "Dilute phase concentration: 0.17470826644736842 +/- 0.0019171628576101665\n",
      "Filtered data lines: 2\n",
      "Dense phase concentration: 0.17097730959752325 +/- 0.002195840813353549\n",
      "Dilute phase concentration: 0.17470826644736842 +/- 0.0019171628576101665\n",
      "File densities_chunked_temp307.txt read successfully with 2 lines.\n",
      "Original data lines:\n",
      "Dense phase concentration: 0.1714003777089783 +/- 0.002299331994032801\n",
      "Dilute phase concentration: 0.17380926315789474 +/- 0.0023211599987847556\n",
      "Filtered data lines: 2\n",
      "Dense phase concentration: 0.1714003777089783 +/- 0.002299331994032801\n",
      "Dilute phase concentration: 0.17380926315789474 +/- 0.0023211599987847556\n",
      "File densities_chunked_temp314.txt read successfully with 2 lines.\n",
      "Original data lines:\n",
      "Dense phase concentration: 0.17178815944272444 +/- 0.0017692673426269886\n",
      "Dilute phase concentration: 0.17298517763157895 +/- 0.0014405573206231863\n",
      "Filtered data lines: 2\n",
      "Dense phase concentration: 0.17178815944272444 +/- 0.0017692673426269886\n",
      "Dilute phase concentration: 0.17298517763157895 +/- 0.0014405573206231863\n",
      "File densities_chunked_temp321.txt read successfully with 2 lines.\n",
      "Original data lines:\n",
      "Dense phase concentration: 0.17188397987616102 +/- 0.002814968237812793\n",
      "Dilute phase concentration: 0.1727815197368421 +/- 0.0021345773763069495\n",
      "Filtered data lines: 2\n",
      "Dense phase concentration: 0.17188397987616102 +/- 0.002814968237812793\n",
      "Dilute phase concentration: 0.1727815197368421 +/- 0.0021345773763069495\n",
      "File densities_chunked_temp328.txt read successfully with 2 lines.\n",
      "Original data lines:\n",
      "Dense phase concentration: 0.17099384984520127 +/- 0.0022515444916118644\n",
      "Dilute phase concentration: 0.1746730855263158 +/- 0.0017904660281469736\n",
      "Filtered data lines: 2\n",
      "Dense phase concentration: 0.17099384984520127 +/- 0.0022515444916118644\n",
      "Dilute phase concentration: 0.1746730855263158 +/- 0.0017904660281469736\n",
      "File densities_chunked_temp335.txt read successfully with 2 lines.\n",
      "Original data lines:\n",
      "Dense phase concentration: 0.17158885913312694 +/- 0.003335572868080213\n",
      "Dilute phase concentration: 0.17340870394736843 +/- 0.0011337968102885245\n",
      "Filtered data lines: 2\n",
      "Dense phase concentration: 0.17158885913312694 +/- 0.003335572868080213\n",
      "Dilute phase concentration: 0.17340870394736843 +/- 0.0011337968102885245\n",
      "File densities_chunked_temp342.txt read successfully with 2 lines.\n",
      "Original data lines:\n",
      "Dense phase concentration: 0.1713612306501548 +/- 0.002747101398628776\n",
      "Dilute phase concentration: 0.17389242434210528 +/- 0.0035617667428045406\n",
      "Filtered data lines: 2\n",
      "Dense phase concentration: 0.1713612306501548 +/- 0.002747101398628776\n",
      "Dilute phase concentration: 0.17389242434210528 +/- 0.0035617667428045406\n",
      "File densities_chunked_temp349.txt read successfully with 2 lines.\n",
      "Original data lines:\n",
      "Dense phase concentration: 0.17128767027863775 +/- 0.003222268479205142\n",
      "Dilute phase concentration: 0.17404876315789475 +/- 0.0024257482746926845\n",
      "Filtered data lines: 2\n",
      "Dense phase concentration: 0.17128767027863775 +/- 0.003222268479205142\n",
      "Dilute phase concentration: 0.17404876315789475 +/- 0.0024257482746926845\n",
      "File densities_chunked_temp356.txt read successfully with 2 lines.\n",
      "Original data lines:\n",
      "Dense phase concentration: 0.17058710216718267 +/- 0.0025072942203962813\n",
      "Dilute phase concentration: 0.17553750328947368 +/- 0.0018009799396617229\n",
      "Filtered data lines: 2\n",
      "Dense phase concentration: 0.17058710216718267 +/- 0.0025072942203962813\n",
      "Dilute phase concentration: 0.17553750328947368 +/- 0.0018009799396617229\n",
      "File densities_chunked_temp363.txt read successfully with 2 lines.\n",
      "Original data lines:\n",
      "Dense phase concentration: 0.17219565325077402 +/- 0.0019528420114809744\n",
      "Dilute phase concentration: 0.1721192894736842 +/- 0.001702045599054379\n",
      "Filtered data lines: 2\n",
      "Dense phase concentration: 0.17219565325077402 +/- 0.0019528420114809744\n",
      "Dilute phase concentration: 0.1721192894736842 +/- 0.001702045599054379\n",
      "File densities_chunked_temp370.txt read successfully with 2 lines.\n",
      "Original data lines:\n",
      "Dense phase concentration: 0.17220491640866872 +/- 0.0019264213483875124\n",
      "Dilute phase concentration: 0.17209962171052628 +/- 0.0021071738753773886\n",
      "Filtered data lines: 2\n",
      "Dense phase concentration: 0.17220491640866872 +/- 0.0019264213483875124\n",
      "Dilute phase concentration: 0.17209962171052628 +/- 0.0021071738753773886\n",
      "Temperatures: [250, 270, 290, 300, 307, 314, 321, 328, 335, 342, 349, 356, 363, 370]\n",
      "Dense phase concentrations: [0.17086286996904024, 0.1712006455108359, 0.17193972445820435, 0.17097730959752325, 0.1714003777089783, 0.17178815944272444, 0.17188397987616102, 0.17099384984520127, 0.17158885913312694, 0.1713612306501548, 0.17128767027863775, 0.17058710216718267, 0.17219565325077402, 0.17220491640866872]\n",
      "Dilute phase concentrations: [0.17495143092105261, 0.1742336480263158, 0.1726630625, 0.17470826644736842, 0.17380926315789474, 0.17298517763157895, 0.1727815197368421, 0.1746730855263158, 0.17340870394736843, 0.17389242434210528, 0.17404876315789475, 0.17553750328947368, 0.1721192894736842, 0.17209962171052628]\n",
      "Dense std dev: [0.0030291147052741627, 0.002881605231662892, 0.0021056504863918558, 0.002195840813353549, 0.002299331994032801, 0.0017692673426269886, 0.002814968237812793, 0.0022515444916118644, 0.003335572868080213, 0.002747101398628776, 0.003222268479205142, 0.0025072942203962813, 0.0019528420114809744, 0.0019264213483875124]\n",
      "Dilute std dev: [0.001790327102536994, 0.0024884633136410786, 0.002588292386012688, 0.0019171628576101665, 0.0023211599987847556, 0.0014405573206231863, 0.0021345773763069495, 0.0017904660281469736, 0.0011337968102885245, 0.0035617667428045406, 0.0024257482746926845, 0.0018009799396617229, 0.001702045599054379, 0.0021071738753773886]\n",
      "Critical Solution Temperature: 545.16+0.00j K written to critical_solution_temperature.txt\n",
      "execution time: 0.7469514789846209 hours\n",
      "15-Aug-24 | 11:36\n",
      "\n",
      "\n",
      "running simulation for GRGDSPY\n",
      "15-Aug-24 | 11:36\n",
      "seq len 30\n",
      "total temps 14\n",
      "simulation/runs/GRGDSPY_2024_08_15_11_08_1723721784\n",
      "step 1: running input single chain\n"
     ]
    },
    {
     "name": "stderr",
     "output_type": "stream",
     "text": [
      "/home/ubuntu/CTP/simulation/runs/GRGDSPY_2024_08_15_11_08_1723721784/seq2config.py:67: DeprecationWarning: Conversion of an array with ndim > 0 to a scalar is deprecated, and will error in future. Ensure you extract a single element from your array before performing this operation. (Deprecated NumPy 1.25.)\n",
      "  typescharges.append([int(types[p,1]),float(charges[k,1])])\n"
     ]
    },
    {
     "name": "stdout",
     "output_type": "stream",
     "text": [
      "step 2: running compress single chain\n",
      "step 3: direct coexistence\n",
      "running [{'temp': 250, 'dir': 'simulation/runs/GRGDSPY_2024_08_15_11_08_1723721784/250'}, {'temp': 270, 'dir': 'simulation/runs/GRGDSPY_2024_08_15_11_08_1723721784/270'}, {'temp': 290, 'dir': 'simulation/runs/GRGDSPY_2024_08_15_11_08_1723721784/290'}, {'temp': 300, 'dir': 'simulation/runs/GRGDSPY_2024_08_15_11_08_1723721784/300'}, {'temp': 307, 'dir': 'simulation/runs/GRGDSPY_2024_08_15_11_08_1723721784/307'}, {'temp': 314, 'dir': 'simulation/runs/GRGDSPY_2024_08_15_11_08_1723721784/314'}]\n",
      "15-Aug-24 | 11:38\n",
      "execution time: 0.5815260180499818 hours\n",
      "15-Aug-24 | 12:13\n",
      "running [{'temp': 321, 'dir': 'simulation/runs/GRGDSPY_2024_08_15_11_08_1723721784/321'}, {'temp': 328, 'dir': 'simulation/runs/GRGDSPY_2024_08_15_11_08_1723721784/328'}, {'temp': 335, 'dir': 'simulation/runs/GRGDSPY_2024_08_15_11_08_1723721784/335'}, {'temp': 342, 'dir': 'simulation/runs/GRGDSPY_2024_08_15_11_08_1723721784/342'}, {'temp': 349, 'dir': 'simulation/runs/GRGDSPY_2024_08_15_11_08_1723721784/349'}, {'temp': 356, 'dir': 'simulation/runs/GRGDSPY_2024_08_15_11_08_1723721784/356'}]\n",
      "15-Aug-24 | 12:13\n",
      "execution time: 0.39045779718293083 hours\n",
      "15-Aug-24 | 12:36\n",
      "running [{'temp': 363, 'dir': 'simulation/runs/GRGDSPY_2024_08_15_11_08_1723721784/363'}, {'temp': 370, 'dir': 'simulation/runs/GRGDSPY_2024_08_15_11_08_1723721784/370'}]\n",
      "remaining temp, CPUs_pp = 48\n",
      "15-Aug-24 | 12:36\n",
      "execution time: 0.28712728752030264 hours\n",
      "15-Aug-24 | 12:53\n",
      "calculating ps densities\n",
      "simulation/runs/GRGDSPY_2024_08_15_11_08_1723721784/300\n"
     ]
    },
    {
     "name": "stderr",
     "output_type": "stream",
     "text": [
      "/home/ubuntu/CTP/simulation/runs/GRGDSPY_2024_08_15_11_08_1723721784/300/da.py:62: OptimizeWarning: Covariance of the parameters could not be estimated\n",
      "  popt, _ = curve_fit(super_gaussian, coords, avg_profile, p0=initial_guess, maxfev=20000)\n"
     ]
    },
    {
     "name": "stdout",
     "output_type": "stream",
     "text": [
      "Dense phase concentration: 0.252309668758772 +/- 0.1781134956421791\n",
      "Dilute phase concentration: 0.0366526702631579 +/- 0.0008298592105263139\n",
      "simulation/runs/GRGDSPY_2024_08_15_11_08_1723721784/314\n"
     ]
    },
    {
     "name": "stderr",
     "output_type": "stream",
     "text": [
      "/home/ubuntu/CTP/simulation/runs/GRGDSPY_2024_08_15_11_08_1723721784/314/da.py:62: OptimizeWarning: Covariance of the parameters could not be estimated\n",
      "  popt, _ = curve_fit(super_gaussian, coords, avg_profile, p0=initial_guess, maxfev=20000)\n"
     ]
    },
    {
     "name": "stdout",
     "output_type": "stream",
     "text": [
      "Dense phase concentration: 0.2478222116099071 +/- 0.057141687798163414\n",
      "Dilute phase concentration: 0.23488835164473684 +/- 0.053227661575315485\n",
      "simulation/runs/GRGDSPY_2024_08_15_11_08_1723721784/290\n"
     ]
    },
    {
     "name": "stderr",
     "output_type": "stream",
     "text": [
      "/home/ubuntu/CTP/simulation/runs/GRGDSPY_2024_08_15_11_08_1723721784/290/da.py:62: OptimizeWarning: Covariance of the parameters could not be estimated\n",
      "  popt, _ = curve_fit(super_gaussian, coords, avg_profile, p0=initial_guess, maxfev=20000)\n"
     ]
    },
    {
     "name": "stdout",
     "output_type": "stream",
     "text": [
      "Dense phase concentration: 0.33314663253715177 +/- 0.24422289554609333\n",
      "Dilute phase concentration: 0.053574029154605254 +/- 0.07048802784144631\n",
      "simulation/runs/GRGDSPY_2024_08_15_11_08_1723721784/342\n"
     ]
    },
    {
     "name": "stderr",
     "output_type": "stream",
     "text": [
      "Traceback (most recent call last):\n",
      "  File \"/home/ubuntu/CTP/simulation/runs/GRGDSPY_2024_08_15_11_08_1723721784/342/da.py\", line 146, in <module>\n",
      "    main()\n",
      "  File \"/home/ubuntu/CTP/simulation/runs/GRGDSPY_2024_08_15_11_08_1723721784/342/da.py\", line 133, in main\n",
      "    dense, dilute, dense_stdev, dilute_stdev = process_density_file(file_name)\n",
      "  File \"/home/ubuntu/CTP/simulation/runs/GRGDSPY_2024_08_15_11_08_1723721784/342/da.py\", line 121, in process_density_file\n",
      "    dense, dilute, dense_stdev, dilute_stdev = get_dilute_and_dense_concentrations(density, zPosition)\n",
      "  File \"/home/ubuntu/CTP/simulation/runs/GRGDSPY_2024_08_15_11_08_1723721784/342/da.py\", line 99, in get_dilute_and_dense_concentrations\n",
      "    left_interface_coord, right_interface_coord = super_gaussian_fd_method(coords, density)\n",
      "  File \"/home/ubuntu/CTP/simulation/runs/GRGDSPY_2024_08_15_11_08_1723721784/342/da.py\", line 62, in super_gaussian_fd_method\n",
      "    popt, _ = curve_fit(super_gaussian, coords, avg_profile, p0=initial_guess, maxfev=20000)\n",
      "  File \"/home/ubuntu/anaconda3/envs/lammps/lib/python3.9/site-packages/scipy/optimize/_minpack_py.py\", line 1005, in curve_fit\n",
      "    raise RuntimeError(\"Optimal parameters not found: \" + errmsg)\n",
      "RuntimeError: Optimal parameters not found: Number of calls to function has reached maxfev = 20000.\n",
      "/home/ubuntu/CTP/simulation/runs/RPAGYDS_2024_08_15_12_08_1723726438/seq2config.py:67: DeprecationWarning: Conversion of an array with ndim > 0 to a scalar is deprecated, and will error in future. Ensure you extract a single element from your array before performing this operation. (Deprecated NumPy 1.25.)\n",
      "  typescharges.append([int(types[p,1]),float(charges[k,1])])\n"
     ]
    },
    {
     "name": "stdout",
     "output_type": "stream",
     "text": [
      "execution time: 1.2928055717547735 hours\n",
      "15-Aug-24 | 12:53\n",
      "\n",
      "\n",
      "Sequence was already calculated MCDB_SYNE7_Q8GJM6_Wildtype\n",
      "running simulation for RPAGYDS\n",
      "15-Aug-24 | 12:53\n",
      "seq len 30\n",
      "total temps 14\n",
      "simulation/runs/RPAGYDS_2024_08_15_12_08_1723726438\n",
      "step 1: running input single chain\n",
      "step 2: running compress single chain\n",
      "step 3: direct coexistence\n",
      "running [{'temp': 250, 'dir': 'simulation/runs/RPAGYDS_2024_08_15_12_08_1723726438/250'}, {'temp': 270, 'dir': 'simulation/runs/RPAGYDS_2024_08_15_12_08_1723726438/270'}, {'temp': 290, 'dir': 'simulation/runs/RPAGYDS_2024_08_15_12_08_1723726438/290'}, {'temp': 300, 'dir': 'simulation/runs/RPAGYDS_2024_08_15_12_08_1723726438/300'}, {'temp': 307, 'dir': 'simulation/runs/RPAGYDS_2024_08_15_12_08_1723726438/307'}, {'temp': 314, 'dir': 'simulation/runs/RPAGYDS_2024_08_15_12_08_1723726438/314'}]\n",
      "15-Aug-24 | 12:55\n",
      "execution time: 0.5771433667341868 hours\n",
      "15-Aug-24 | 13:30\n",
      "running [{'temp': 321, 'dir': 'simulation/runs/RPAGYDS_2024_08_15_12_08_1723726438/321'}, {'temp': 328, 'dir': 'simulation/runs/RPAGYDS_2024_08_15_12_08_1723726438/328'}, {'temp': 335, 'dir': 'simulation/runs/RPAGYDS_2024_08_15_12_08_1723726438/335'}, {'temp': 342, 'dir': 'simulation/runs/RPAGYDS_2024_08_15_12_08_1723726438/342'}, {'temp': 349, 'dir': 'simulation/runs/RPAGYDS_2024_08_15_12_08_1723726438/349'}, {'temp': 356, 'dir': 'simulation/runs/RPAGYDS_2024_08_15_12_08_1723726438/356'}]\n",
      "15-Aug-24 | 13:30\n",
      "execution time: 0.38896269586351184 hours\n",
      "15-Aug-24 | 13:53\n",
      "running [{'temp': 363, 'dir': 'simulation/runs/RPAGYDS_2024_08_15_12_08_1723726438/363'}, {'temp': 370, 'dir': 'simulation/runs/RPAGYDS_2024_08_15_12_08_1723726438/370'}]\n",
      "remaining temp, CPUs_pp = 48\n",
      "15-Aug-24 | 13:53\n",
      "execution time: 0.2817578734954198 hours\n",
      "15-Aug-24 | 14:10\n",
      "calculating ps densities\n",
      "simulation/runs/RPAGYDS_2024_08_15_12_08_1723726438/300\n"
     ]
    },
    {
     "name": "stderr",
     "output_type": "stream",
     "text": [
      "/home/ubuntu/CTP/simulation/runs/RPAGYDS_2024_08_15_12_08_1723726438/300/da.py:62: OptimizeWarning: Covariance of the parameters could not be estimated\n",
      "  popt, _ = curve_fit(super_gaussian, coords, avg_profile, p0=initial_guess, maxfev=20000)\n"
     ]
    },
    {
     "name": "stdout",
     "output_type": "stream",
     "text": [
      "Dense phase concentration: 0.2849246531733747 +/- 0.18097943133702427\n",
      "Dilute phase concentration: 0.1546487148026316 +/- 0.10148259813607552\n",
      "simulation/runs/RPAGYDS_2024_08_15_12_08_1723726438/314\n"
     ]
    },
    {
     "name": "stderr",
     "output_type": "stream",
     "text": [
      "Traceback (most recent call last):\n",
      "  File \"/home/ubuntu/CTP/simulation/runs/RPAGYDS_2024_08_15_12_08_1723726438/314/da.py\", line 146, in <module>\n",
      "    main()\n",
      "  File \"/home/ubuntu/CTP/simulation/runs/RPAGYDS_2024_08_15_12_08_1723726438/314/da.py\", line 133, in main\n",
      "    dense, dilute, dense_stdev, dilute_stdev = process_density_file(file_name)\n",
      "  File \"/home/ubuntu/CTP/simulation/runs/RPAGYDS_2024_08_15_12_08_1723726438/314/da.py\", line 121, in process_density_file\n",
      "    dense, dilute, dense_stdev, dilute_stdev = get_dilute_and_dense_concentrations(density, zPosition)\n",
      "  File \"/home/ubuntu/CTP/simulation/runs/RPAGYDS_2024_08_15_12_08_1723726438/314/da.py\", line 99, in get_dilute_and_dense_concentrations\n",
      "    left_interface_coord, right_interface_coord = super_gaussian_fd_method(coords, density)\n",
      "  File \"/home/ubuntu/CTP/simulation/runs/RPAGYDS_2024_08_15_12_08_1723726438/314/da.py\", line 62, in super_gaussian_fd_method\n",
      "    popt, _ = curve_fit(super_gaussian, coords, avg_profile, p0=initial_guess, maxfev=20000)\n",
      "  File \"/home/ubuntu/anaconda3/envs/lammps/lib/python3.9/site-packages/scipy/optimize/_minpack_py.py\", line 1005, in curve_fit\n",
      "    raise RuntimeError(\"Optimal parameters not found: \" + errmsg)\n",
      "RuntimeError: Optimal parameters not found: Number of calls to function has reached maxfev = 20000.\n",
      "/home/ubuntu/CTP/simulation/runs/RPLGYDS_2024_08_15_14_08_1723731047/seq2config.py:67: DeprecationWarning: Conversion of an array with ndim > 0 to a scalar is deprecated, and will error in future. Ensure you extract a single element from your array before performing this operation. (Deprecated NumPy 1.25.)\n",
      "  typescharges.append([int(types[p,1]),float(charges[k,1])])\n"
     ]
    },
    {
     "name": "stdout",
     "output_type": "stream",
     "text": [
      "execution time: 1.280321439107259 hours\n",
      "15-Aug-24 | 14:10\n",
      "\n",
      "\n",
      "running simulation for RPLGYDS\n",
      "15-Aug-24 | 14:10\n",
      "seq len 30\n",
      "total temps 14\n",
      "simulation/runs/RPLGYDS_2024_08_15_14_08_1723731047\n",
      "step 1: running input single chain\n",
      "step 2: running compress single chain\n",
      "step 3: direct coexistence\n",
      "running [{'temp': 250, 'dir': 'simulation/runs/RPLGYDS_2024_08_15_14_08_1723731047/250'}, {'temp': 270, 'dir': 'simulation/runs/RPLGYDS_2024_08_15_14_08_1723731047/270'}, {'temp': 290, 'dir': 'simulation/runs/RPLGYDS_2024_08_15_14_08_1723731047/290'}, {'temp': 300, 'dir': 'simulation/runs/RPLGYDS_2024_08_15_14_08_1723731047/300'}, {'temp': 307, 'dir': 'simulation/runs/RPLGYDS_2024_08_15_14_08_1723731047/307'}, {'temp': 314, 'dir': 'simulation/runs/RPLGYDS_2024_08_15_14_08_1723731047/314'}]\n",
      "15-Aug-24 | 14:12\n",
      "execution time: 0.5307669053475063 hours\n",
      "15-Aug-24 | 14:44\n",
      "running [{'temp': 321, 'dir': 'simulation/runs/RPLGYDS_2024_08_15_14_08_1723731047/321'}, {'temp': 328, 'dir': 'simulation/runs/RPLGYDS_2024_08_15_14_08_1723731047/328'}, {'temp': 335, 'dir': 'simulation/runs/RPLGYDS_2024_08_15_14_08_1723731047/335'}, {'temp': 342, 'dir': 'simulation/runs/RPLGYDS_2024_08_15_14_08_1723731047/342'}, {'temp': 349, 'dir': 'simulation/runs/RPLGYDS_2024_08_15_14_08_1723731047/349'}, {'temp': 356, 'dir': 'simulation/runs/RPLGYDS_2024_08_15_14_08_1723731047/356'}]\n",
      "15-Aug-24 | 14:44\n",
      "execution time: 0.3580418986744351 hours\n",
      "15-Aug-24 | 15:05\n",
      "running [{'temp': 363, 'dir': 'simulation/runs/RPLGYDS_2024_08_15_14_08_1723731047/363'}, {'temp': 370, 'dir': 'simulation/runs/RPLGYDS_2024_08_15_14_08_1723731047/370'}]\n",
      "remaining temp, CPUs_pp = 48\n",
      "15-Aug-24 | 15:05\n",
      "execution time: 0.2653742113378313 hours\n",
      "15-Aug-24 | 15:21\n",
      "calculating ps densities\n",
      "simulation/runs/RPLGYDS_2024_08_15_14_08_1723731047/300\n"
     ]
    },
    {
     "name": "stderr",
     "output_type": "stream",
     "text": [
      "Traceback (most recent call last):\n",
      "  File \"/home/ubuntu/CTP/simulation/runs/RPLGYDS_2024_08_15_14_08_1723731047/300/da.py\", line 146, in <module>\n",
      "    main()\n",
      "  File \"/home/ubuntu/CTP/simulation/runs/RPLGYDS_2024_08_15_14_08_1723731047/300/da.py\", line 133, in main\n",
      "    dense, dilute, dense_stdev, dilute_stdev = process_density_file(file_name)\n",
      "  File \"/home/ubuntu/CTP/simulation/runs/RPLGYDS_2024_08_15_14_08_1723731047/300/da.py\", line 121, in process_density_file\n",
      "    dense, dilute, dense_stdev, dilute_stdev = get_dilute_and_dense_concentrations(density, zPosition)\n",
      "  File \"/home/ubuntu/CTP/simulation/runs/RPLGYDS_2024_08_15_14_08_1723731047/300/da.py\", line 99, in get_dilute_and_dense_concentrations\n",
      "    left_interface_coord, right_interface_coord = super_gaussian_fd_method(coords, density)\n",
      "  File \"/home/ubuntu/CTP/simulation/runs/RPLGYDS_2024_08_15_14_08_1723731047/300/da.py\", line 62, in super_gaussian_fd_method\n",
      "    popt, _ = curve_fit(super_gaussian, coords, avg_profile, p0=initial_guess, maxfev=20000)\n",
      "  File \"/home/ubuntu/anaconda3/envs/lammps/lib/python3.9/site-packages/scipy/optimize/_minpack_py.py\", line 1005, in curve_fit\n",
      "    raise RuntimeError(\"Optimal parameters not found: \" + errmsg)\n",
      "RuntimeError: Optimal parameters not found: Number of calls to function has reached maxfev = 20000.\n",
      "/home/ubuntu/CTP/simulation/runs/CTDP1_Q9Y5B0_Wildtype_2024_08_15_15_08_1723735315/seq2config.py:67: DeprecationWarning: Conversion of an array with ndim > 0 to a scalar is deprecated, and will error in future. Ensure you extract a single element from your array before performing this operation. (Deprecated NumPy 1.25.)\n",
      "  typescharges.append([int(types[p,1]),float(charges[k,1])])\n"
     ]
    },
    {
     "name": "stdout",
     "output_type": "stream",
     "text": [
      "execution time: 1.185621394912402 hours\n",
      "15-Aug-24 | 15:21\n",
      "\n",
      "\n",
      "running simulation for CTDP1_Q9Y5B0_Wildtype\n",
      "15-Aug-24 | 15:21\n",
      "seq len 31\n",
      "total temps 14\n",
      "simulation/runs/CTDP1_Q9Y5B0_Wildtype_2024_08_15_15_08_1723735315\n",
      "step 1: running input single chain\n",
      "step 2: running compress single chain\n",
      "step 3: direct coexistence\n",
      "running [{'temp': 250, 'dir': 'simulation/runs/CTDP1_Q9Y5B0_Wildtype_2024_08_15_15_08_1723735315/250'}, {'temp': 270, 'dir': 'simulation/runs/CTDP1_Q9Y5B0_Wildtype_2024_08_15_15_08_1723735315/270'}, {'temp': 290, 'dir': 'simulation/runs/CTDP1_Q9Y5B0_Wildtype_2024_08_15_15_08_1723735315/290'}, {'temp': 300, 'dir': 'simulation/runs/CTDP1_Q9Y5B0_Wildtype_2024_08_15_15_08_1723735315/300'}, {'temp': 307, 'dir': 'simulation/runs/CTDP1_Q9Y5B0_Wildtype_2024_08_15_15_08_1723735315/307'}, {'temp': 314, 'dir': 'simulation/runs/CTDP1_Q9Y5B0_Wildtype_2024_08_15_15_08_1723735315/314'}]\n",
      "15-Aug-24 | 15:23\n",
      "execution time: 0.3051934858163198 hours\n",
      "15-Aug-24 | 15:42\n",
      "running [{'temp': 321, 'dir': 'simulation/runs/CTDP1_Q9Y5B0_Wildtype_2024_08_15_15_08_1723735315/321'}, {'temp': 328, 'dir': 'simulation/runs/CTDP1_Q9Y5B0_Wildtype_2024_08_15_15_08_1723735315/328'}, {'temp': 335, 'dir': 'simulation/runs/CTDP1_Q9Y5B0_Wildtype_2024_08_15_15_08_1723735315/335'}, {'temp': 342, 'dir': 'simulation/runs/CTDP1_Q9Y5B0_Wildtype_2024_08_15_15_08_1723735315/342'}, {'temp': 349, 'dir': 'simulation/runs/CTDP1_Q9Y5B0_Wildtype_2024_08_15_15_08_1723735315/349'}, {'temp': 356, 'dir': 'simulation/runs/CTDP1_Q9Y5B0_Wildtype_2024_08_15_15_08_1723735315/356'}]\n",
      "15-Aug-24 | 15:42\n",
      "execution time: 0.3013037712044186 hours\n",
      "15-Aug-24 | 16:00\n",
      "running [{'temp': 363, 'dir': 'simulation/runs/CTDP1_Q9Y5B0_Wildtype_2024_08_15_15_08_1723735315/363'}, {'temp': 370, 'dir': 'simulation/runs/CTDP1_Q9Y5B0_Wildtype_2024_08_15_15_08_1723735315/370'}]\n",
      "remaining temp, CPUs_pp = 48\n",
      "15-Aug-24 | 16:00\n",
      "execution time: 0.2467630891005198 hours\n",
      "15-Aug-24 | 16:14\n",
      "calculating ps densities\n",
      "simulation/runs/CTDP1_Q9Y5B0_Wildtype_2024_08_15_15_08_1723735315/300\n"
     ]
    },
    {
     "name": "stderr",
     "output_type": "stream",
     "text": [
      "/home/ubuntu/CTP/simulation/runs/CTDP1_Q9Y5B0_Wildtype_2024_08_15_15_08_1723735315/300/da.py:62: OptimizeWarning: Covariance of the parameters could not be estimated\n",
      "  popt, _ = curve_fit(super_gaussian, coords, avg_profile, p0=initial_guess, maxfev=20000)\n"
     ]
    },
    {
     "name": "stdout",
     "output_type": "stream",
     "text": [
      "Dense phase concentration: 0.21696549071207427 +/- 0.0064764570183948825\n",
      "Dilute phase concentration: 0.2164362894736842 +/- 0.0029577321365567297\n",
      "simulation/runs/CTDP1_Q9Y5B0_Wildtype_2024_08_15_15_08_1723735315/314\n"
     ]
    },
    {
     "name": "stderr",
     "output_type": "stream",
     "text": [
      "/home/ubuntu/CTP/simulation/runs/CTDP1_Q9Y5B0_Wildtype_2024_08_15_15_08_1723735315/314/da.py:62: OptimizeWarning: Covariance of the parameters could not be estimated\n",
      "  popt, _ = curve_fit(super_gaussian, coords, avg_profile, p0=initial_guess, maxfev=20000)\n"
     ]
    },
    {
     "name": "stdout",
     "output_type": "stream",
     "text": [
      "Dense phase concentration: 0.21561658978328174 +/- 0.003649942642060818\n",
      "Dilute phase concentration: 0.2193026677631579 +/- 0.003487797507128761\n",
      "simulation/runs/CTDP1_Q9Y5B0_Wildtype_2024_08_15_15_08_1723735315/290\n"
     ]
    },
    {
     "name": "stderr",
     "output_type": "stream",
     "text": [
      "/home/ubuntu/CTP/simulation/runs/CTDP1_Q9Y5B0_Wildtype_2024_08_15_15_08_1723735315/290/da.py:62: OptimizeWarning: Covariance of the parameters could not be estimated\n",
      "  popt, _ = curve_fit(super_gaussian, coords, avg_profile, p0=initial_guess, maxfev=20000)\n"
     ]
    },
    {
     "name": "stdout",
     "output_type": "stream",
     "text": [
      "Dense phase concentration: 0.21691226780185757 +/- 0.00534452632568857\n",
      "Dilute phase concentration: 0.21654933223684208 +/- 0.006250418995005839\n",
      "simulation/runs/CTDP1_Q9Y5B0_Wildtype_2024_08_15_15_08_1723735315/342\n"
     ]
    },
    {
     "name": "stderr",
     "output_type": "stream",
     "text": [
      "/home/ubuntu/CTP/simulation/runs/CTDP1_Q9Y5B0_Wildtype_2024_08_15_15_08_1723735315/342/da.py:62: OptimizeWarning: Covariance of the parameters could not be estimated\n",
      "  popt, _ = curve_fit(super_gaussian, coords, avg_profile, p0=initial_guess, maxfev=20000)\n"
     ]
    },
    {
     "name": "stdout",
     "output_type": "stream",
     "text": [
      "Dense phase concentration: 0.21614757739938084 +/- 0.0030940621101739436\n",
      "Dilute phase concentration: 0.21817430921052633 +/- 0.0029261828285816996\n",
      "simulation/runs/CTDP1_Q9Y5B0_Wildtype_2024_08_15_15_08_1723735315/328\n"
     ]
    },
    {
     "name": "stderr",
     "output_type": "stream",
     "text": [
      "/home/ubuntu/CTP/simulation/runs/CTDP1_Q9Y5B0_Wildtype_2024_08_15_15_08_1723735315/328/da.py:62: OptimizeWarning: Covariance of the parameters could not be estimated\n",
      "  popt, _ = curve_fit(super_gaussian, coords, avg_profile, p0=initial_guess, maxfev=20000)\n"
     ]
    },
    {
     "name": "stdout",
     "output_type": "stream",
     "text": [
      "Dense phase concentration: 0.21610386996904024 +/- 0.004788597409942832\n",
      "Dilute phase concentration: 0.21826715131578947 +/- 0.004553509542126131\n",
      "simulation/runs/CTDP1_Q9Y5B0_Wildtype_2024_08_15_15_08_1723735315/307\n"
     ]
    },
    {
     "name": "stderr",
     "output_type": "stream",
     "text": [
      "/home/ubuntu/CTP/simulation/runs/CTDP1_Q9Y5B0_Wildtype_2024_08_15_15_08_1723735315/307/da.py:62: OptimizeWarning: Covariance of the parameters could not be estimated\n",
      "  popt, _ = curve_fit(super_gaussian, coords, avg_profile, p0=initial_guess, maxfev=20000)\n"
     ]
    },
    {
     "name": "stdout",
     "output_type": "stream",
     "text": [
      "Dense phase concentration: 0.21555889318885452 +/- 0.005282183142826119\n",
      "Dilute phase concentration: 0.2194252927631579 +/- 0.004350395212646993\n",
      "simulation/runs/CTDP1_Q9Y5B0_Wildtype_2024_08_15_15_08_1723735315/363\n"
     ]
    },
    {
     "name": "stderr",
     "output_type": "stream",
     "text": [
      "/home/ubuntu/CTP/simulation/runs/CTDP1_Q9Y5B0_Wildtype_2024_08_15_15_08_1723735315/363/da.py:62: OptimizeWarning: Covariance of the parameters could not be estimated\n",
      "  popt, _ = curve_fit(super_gaussian, coords, avg_profile, p0=initial_guess, maxfev=20000)\n"
     ]
    },
    {
     "name": "stdout",
     "output_type": "stream",
     "text": [
      "Dense phase concentration: 0.21605263003095976 +/- 0.004128248276971515\n",
      "Dilute phase concentration: 0.21837605263157892 +/- 0.003544692615624932\n",
      "simulation/runs/CTDP1_Q9Y5B0_Wildtype_2024_08_15_15_08_1723735315/250\n"
     ]
    },
    {
     "name": "stderr",
     "output_type": "stream",
     "text": [
      "/home/ubuntu/CTP/simulation/runs/CTDP1_Q9Y5B0_Wildtype_2024_08_15_15_08_1723735315/250/da.py:62: OptimizeWarning: Covariance of the parameters could not be estimated\n",
      "  popt, _ = curve_fit(super_gaussian, coords, avg_profile, p0=initial_guess, maxfev=20000)\n"
     ]
    },
    {
     "name": "stdout",
     "output_type": "stream",
     "text": [
      "Dense phase concentration: 0.21786001702786378 +/- 0.009732562301456\n",
      "Dilute phase concentration: 0.21453540789473685 +/- 0.006670971290340284\n",
      "simulation/runs/CTDP1_Q9Y5B0_Wildtype_2024_08_15_15_08_1723735315/321\n"
     ]
    },
    {
     "name": "stderr",
     "output_type": "stream",
     "text": [
      "/home/ubuntu/CTP/simulation/runs/CTDP1_Q9Y5B0_Wildtype_2024_08_15_15_08_1723735315/321/da.py:62: OptimizeWarning: Covariance of the parameters could not be estimated\n",
      "  popt, _ = curve_fit(super_gaussian, coords, avg_profile, p0=initial_guess, maxfev=20000)\n"
     ]
    },
    {
     "name": "stdout",
     "output_type": "stream",
     "text": [
      "Dense phase concentration: 0.21652814241486068 +/- 0.0030541468139042493\n",
      "Dilute phase concentration: 0.21736559210526316 +/- 0.002895091236410325\n",
      "simulation/runs/CTDP1_Q9Y5B0_Wildtype_2024_08_15_15_08_1723735315/349\n"
     ]
    },
    {
     "name": "stderr",
     "output_type": "stream",
     "text": [
      "/home/ubuntu/CTP/simulation/runs/CTDP1_Q9Y5B0_Wildtype_2024_08_15_15_08_1723735315/349/da.py:62: OptimizeWarning: Covariance of the parameters could not be estimated\n",
      "  popt, _ = curve_fit(super_gaussian, coords, avg_profile, p0=initial_guess, maxfev=20000)\n"
     ]
    },
    {
     "name": "stdout",
     "output_type": "stream",
     "text": [
      "Dense phase concentration: 0.21602909752321983 +/- 0.003487949739469177\n",
      "Dilute phase concentration: 0.21842608552631576 +/- 0.0037929138448120872\n",
      "simulation/runs/CTDP1_Q9Y5B0_Wildtype_2024_08_15_15_08_1723735315/356\n"
     ]
    },
    {
     "name": "stderr",
     "output_type": "stream",
     "text": [
      "/home/ubuntu/CTP/simulation/runs/CTDP1_Q9Y5B0_Wildtype_2024_08_15_15_08_1723735315/356/da.py:62: OptimizeWarning: Covariance of the parameters could not be estimated\n",
      "  popt, _ = curve_fit(super_gaussian, coords, avg_profile, p0=initial_guess, maxfev=20000)\n"
     ]
    },
    {
     "name": "stdout",
     "output_type": "stream",
     "text": [
      "Dense phase concentration: 0.21663149071207433 +/- 0.00487015724357124\n",
      "Dilute phase concentration: 0.21714602960526316 +/- 0.004087615771864616\n",
      "simulation/runs/CTDP1_Q9Y5B0_Wildtype_2024_08_15_15_08_1723735315/370\n"
     ]
    },
    {
     "name": "stderr",
     "output_type": "stream",
     "text": [
      "/home/ubuntu/CTP/simulation/runs/CTDP1_Q9Y5B0_Wildtype_2024_08_15_15_08_1723735315/370/da.py:62: OptimizeWarning: Covariance of the parameters could not be estimated\n",
      "  popt, _ = curve_fit(super_gaussian, coords, avg_profile, p0=initial_guess, maxfev=20000)\n"
     ]
    },
    {
     "name": "stdout",
     "output_type": "stream",
     "text": [
      "Dense phase concentration: 0.21667276470588237 +/- 0.006160810099822417\n",
      "Dilute phase concentration: 0.21705827960526317 +/- 0.0038023969642028547\n",
      "simulation/runs/CTDP1_Q9Y5B0_Wildtype_2024_08_15_15_08_1723735315/335\n"
     ]
    },
    {
     "name": "stderr",
     "output_type": "stream",
     "text": [
      "/home/ubuntu/CTP/simulation/runs/CTDP1_Q9Y5B0_Wildtype_2024_08_15_15_08_1723735315/335/da.py:62: OptimizeWarning: Covariance of the parameters could not be estimated\n",
      "  popt, _ = curve_fit(super_gaussian, coords, avg_profile, p0=initial_guess, maxfev=20000)\n"
     ]
    },
    {
     "name": "stdout",
     "output_type": "stream",
     "text": [
      "Dense phase concentration: 0.21579759133126933 +/- 0.0036084184546047973\n",
      "Dilute phase concentration: 0.21891801315789472 +/- 0.004433051376975816\n",
      "simulation/runs/CTDP1_Q9Y5B0_Wildtype_2024_08_15_15_08_1723735315/270\n"
     ]
    },
    {
     "name": "stderr",
     "output_type": "stream",
     "text": [
      "/home/ubuntu/CTP/simulation/runs/CTDP1_Q9Y5B0_Wildtype_2024_08_15_15_08_1723735315/270/da.py:62: OptimizeWarning: Covariance of the parameters could not be estimated\n",
      "  popt, _ = curve_fit(super_gaussian, coords, avg_profile, p0=initial_guess, maxfev=20000)\n"
     ]
    },
    {
     "name": "stdout",
     "output_type": "stream",
     "text": [
      "Dense phase concentration: 0.21604312848297216 +/- 0.011637752172975434\n",
      "Dilute phase concentration: 0.21839624013157893 +/- 0.007307103289520065\n"
     ]
    },
    {
     "name": "stderr",
     "output_type": "stream",
     "text": [
      "/home/ubuntu/anaconda3/envs/lammps/lib/python3.9/site-packages/matplotlib/collections.py:197: ComplexWarning: Casting complex values to real discards the imaginary part\n",
      "  offsets = np.asanyarray(offsets, float)\n",
      "/home/ubuntu/anaconda3/envs/lammps/lib/python3.9/site-packages/matplotlib/cbook.py:1762: ComplexWarning: Casting complex values to real discards the imaginary part\n",
      "  return math.isfinite(val)\n",
      "/home/ubuntu/anaconda3/envs/lammps/lib/python3.9/site-packages/matplotlib/cbook.py:1398: ComplexWarning: Casting complex values to real discards the imaginary part\n",
      "  return np.asarray(x, float)\n"
     ]
    },
    {
     "name": "stdout",
     "output_type": "stream",
     "text": [
      "File densities_chunked_temp250.txt read successfully with 2 lines.\n",
      "Original data lines:\n",
      "Dense phase concentration: 0.21786001702786378 +/- 0.009732562301456\n",
      "Dilute phase concentration: 0.21453540789473685 +/- 0.006670971290340284\n",
      "Filtered data lines: 2\n",
      "Dense phase concentration: 0.21786001702786378 +/- 0.009732562301456\n",
      "Dilute phase concentration: 0.21453540789473685 +/- 0.006670971290340284\n",
      "File densities_chunked_temp270.txt read successfully with 2 lines.\n",
      "Original data lines:\n",
      "Dense phase concentration: 0.21604312848297216 +/- 0.011637752172975434\n",
      "Dilute phase concentration: 0.21839624013157893 +/- 0.007307103289520065\n",
      "Filtered data lines: 2\n",
      "Dense phase concentration: 0.21604312848297216 +/- 0.011637752172975434\n",
      "Dilute phase concentration: 0.21839624013157893 +/- 0.007307103289520065\n",
      "File densities_chunked_temp290.txt read successfully with 2 lines.\n",
      "Original data lines:\n",
      "Dense phase concentration: 0.21691226780185757 +/- 0.00534452632568857\n",
      "Dilute phase concentration: 0.21654933223684208 +/- 0.006250418995005839\n",
      "Filtered data lines: 2\n",
      "Dense phase concentration: 0.21691226780185757 +/- 0.00534452632568857\n",
      "Dilute phase concentration: 0.21654933223684208 +/- 0.006250418995005839\n",
      "File densities_chunked_temp300.txt read successfully with 2 lines.\n",
      "Original data lines:\n",
      "Dense phase concentration: 0.21696549071207427 +/- 0.0064764570183948825\n",
      "Dilute phase concentration: 0.2164362894736842 +/- 0.0029577321365567297\n",
      "Filtered data lines: 2\n",
      "Dense phase concentration: 0.21696549071207427 +/- 0.0064764570183948825\n",
      "Dilute phase concentration: 0.2164362894736842 +/- 0.0029577321365567297\n",
      "File densities_chunked_temp307.txt read successfully with 2 lines.\n",
      "Original data lines:\n",
      "Dense phase concentration: 0.21555889318885452 +/- 0.005282183142826119\n",
      "Dilute phase concentration: 0.2194252927631579 +/- 0.004350395212646993\n",
      "Filtered data lines: 2\n",
      "Dense phase concentration: 0.21555889318885452 +/- 0.005282183142826119\n",
      "Dilute phase concentration: 0.2194252927631579 +/- 0.004350395212646993\n",
      "File densities_chunked_temp314.txt read successfully with 2 lines.\n",
      "Original data lines:\n",
      "Dense phase concentration: 0.21561658978328174 +/- 0.003649942642060818\n",
      "Dilute phase concentration: 0.2193026677631579 +/- 0.003487797507128761\n",
      "Filtered data lines: 2\n",
      "Dense phase concentration: 0.21561658978328174 +/- 0.003649942642060818\n",
      "Dilute phase concentration: 0.2193026677631579 +/- 0.003487797507128761\n",
      "File densities_chunked_temp321.txt read successfully with 2 lines.\n",
      "Original data lines:\n",
      "Dense phase concentration: 0.21652814241486068 +/- 0.0030541468139042493\n",
      "Dilute phase concentration: 0.21736559210526316 +/- 0.002895091236410325\n",
      "Filtered data lines: 2\n",
      "Dense phase concentration: 0.21652814241486068 +/- 0.0030541468139042493\n",
      "Dilute phase concentration: 0.21736559210526316 +/- 0.002895091236410325\n",
      "File densities_chunked_temp328.txt read successfully with 2 lines.\n",
      "Original data lines:\n",
      "Dense phase concentration: 0.21610386996904024 +/- 0.004788597409942832\n",
      "Dilute phase concentration: 0.21826715131578947 +/- 0.004553509542126131\n",
      "Filtered data lines: 2\n",
      "Dense phase concentration: 0.21610386996904024 +/- 0.004788597409942832\n",
      "Dilute phase concentration: 0.21826715131578947 +/- 0.004553509542126131\n",
      "File densities_chunked_temp335.txt read successfully with 2 lines.\n",
      "Original data lines:\n",
      "Dense phase concentration: 0.21579759133126933 +/- 0.0036084184546047973\n",
      "Dilute phase concentration: 0.21891801315789472 +/- 0.004433051376975816\n",
      "Filtered data lines: 2\n",
      "Dense phase concentration: 0.21579759133126933 +/- 0.0036084184546047973\n",
      "Dilute phase concentration: 0.21891801315789472 +/- 0.004433051376975816\n",
      "File densities_chunked_temp342.txt read successfully with 2 lines.\n",
      "Original data lines:\n",
      "Dense phase concentration: 0.21614757739938084 +/- 0.0030940621101739436\n",
      "Dilute phase concentration: 0.21817430921052633 +/- 0.0029261828285816996\n",
      "Filtered data lines: 2\n",
      "Dense phase concentration: 0.21614757739938084 +/- 0.0030940621101739436\n",
      "Dilute phase concentration: 0.21817430921052633 +/- 0.0029261828285816996\n",
      "File densities_chunked_temp349.txt read successfully with 2 lines.\n",
      "Original data lines:\n",
      "Dense phase concentration: 0.21602909752321983 +/- 0.003487949739469177\n",
      "Dilute phase concentration: 0.21842608552631576 +/- 0.0037929138448120872\n",
      "Filtered data lines: 2\n",
      "Dense phase concentration: 0.21602909752321983 +/- 0.003487949739469177\n",
      "Dilute phase concentration: 0.21842608552631576 +/- 0.0037929138448120872\n",
      "File densities_chunked_temp356.txt read successfully with 2 lines.\n",
      "Original data lines:\n",
      "Dense phase concentration: 0.21663149071207433 +/- 0.00487015724357124\n",
      "Dilute phase concentration: 0.21714602960526316 +/- 0.004087615771864616\n",
      "Filtered data lines: 2\n",
      "Dense phase concentration: 0.21663149071207433 +/- 0.00487015724357124\n",
      "Dilute phase concentration: 0.21714602960526316 +/- 0.004087615771864616\n",
      "File densities_chunked_temp363.txt read successfully with 2 lines.\n",
      "Original data lines:\n",
      "Dense phase concentration: 0.21605263003095976 +/- 0.004128248276971515\n",
      "Dilute phase concentration: 0.21837605263157892 +/- 0.003544692615624932\n",
      "Filtered data lines: 2\n",
      "Dense phase concentration: 0.21605263003095976 +/- 0.004128248276971515\n",
      "Dilute phase concentration: 0.21837605263157892 +/- 0.003544692615624932\n",
      "File densities_chunked_temp370.txt read successfully with 2 lines.\n",
      "Original data lines:\n",
      "Dense phase concentration: 0.21667276470588237 +/- 0.006160810099822417\n",
      "Dilute phase concentration: 0.21705827960526317 +/- 0.0038023969642028547\n",
      "Filtered data lines: 2\n",
      "Dense phase concentration: 0.21667276470588237 +/- 0.006160810099822417\n",
      "Dilute phase concentration: 0.21705827960526317 +/- 0.0038023969642028547\n",
      "Temperatures: [250, 270, 290, 300, 307, 314, 321, 328, 335, 342, 349, 356, 363, 370]\n",
      "Dense phase concentrations: [0.21786001702786378, 0.21604312848297216, 0.21691226780185757, 0.21696549071207427, 0.21555889318885452, 0.21561658978328174, 0.21652814241486068, 0.21610386996904024, 0.21579759133126933, 0.21614757739938084, 0.21602909752321983, 0.21663149071207433, 0.21605263003095976, 0.21667276470588237]\n",
      "Dilute phase concentrations: [0.21453540789473685, 0.21839624013157893, 0.21654933223684208, 0.2164362894736842, 0.2194252927631579, 0.2193026677631579, 0.21736559210526316, 0.21826715131578947, 0.21891801315789472, 0.21817430921052633, 0.21842608552631576, 0.21714602960526316, 0.21837605263157892, 0.21705827960526317]\n",
      "Dense std dev: [0.009732562301456, 0.011637752172975434, 0.00534452632568857, 0.0064764570183948825, 0.005282183142826119, 0.003649942642060818, 0.0030541468139042493, 0.004788597409942832, 0.0036084184546047973, 0.0030940621101739436, 0.003487949739469177, 0.00487015724357124, 0.004128248276971515, 0.006160810099822417]\n",
      "Dilute std dev: [0.006670971290340284, 0.007307103289520065, 0.006250418995005839, 0.0029577321365567297, 0.004350395212646993, 0.003487797507128761, 0.002895091236410325, 0.004553509542126131, 0.004433051376975816, 0.0029261828285816996, 0.0037929138448120872, 0.004087615771864616, 0.003544692615624932, 0.0038023969642028547]\n",
      "Critical Solution Temperature: 245.00-19.70j K written to critical_solution_temperature.txt\n",
      "execution time: 0.8873866315682729 hours\n",
      "15-Aug-24 | 16:15\n",
      "\n",
      "\n",
      "Sequence was already calculated SUPT6H(Q7KZ85)_Wildtype\n",
      "running simulation for IRS2_Q9Y4H2_Wildtype\n",
      "15-Aug-24 | 16:15\n",
      "seq len 32\n",
      "total temps 14\n",
      "simulation/runs/IRS2_Q9Y4H2_Wildtype_2024_08_15_16_08_1723738510\n",
      "step 1: running input single chain\n"
     ]
    },
    {
     "name": "stderr",
     "output_type": "stream",
     "text": [
      "/home/ubuntu/CTP/simulation/runs/IRS2_Q9Y4H2_Wildtype_2024_08_15_16_08_1723738510/seq2config.py:67: DeprecationWarning: Conversion of an array with ndim > 0 to a scalar is deprecated, and will error in future. Ensure you extract a single element from your array before performing this operation. (Deprecated NumPy 1.25.)\n",
      "  typescharges.append([int(types[p,1]),float(charges[k,1])])\n"
     ]
    },
    {
     "name": "stdout",
     "output_type": "stream",
     "text": [
      "step 2: running compress single chain\n",
      "step 3: direct coexistence\n",
      "running [{'temp': 250, 'dir': 'simulation/runs/IRS2_Q9Y4H2_Wildtype_2024_08_15_16_08_1723738510/250'}, {'temp': 270, 'dir': 'simulation/runs/IRS2_Q9Y4H2_Wildtype_2024_08_15_16_08_1723738510/270'}, {'temp': 290, 'dir': 'simulation/runs/IRS2_Q9Y4H2_Wildtype_2024_08_15_16_08_1723738510/290'}, {'temp': 300, 'dir': 'simulation/runs/IRS2_Q9Y4H2_Wildtype_2024_08_15_16_08_1723738510/300'}, {'temp': 307, 'dir': 'simulation/runs/IRS2_Q9Y4H2_Wildtype_2024_08_15_16_08_1723738510/307'}, {'temp': 314, 'dir': 'simulation/runs/IRS2_Q9Y4H2_Wildtype_2024_08_15_16_08_1723738510/314'}]\n",
      "15-Aug-24 | 16:16\n",
      "execution time: 0.3234241592884064 hours\n",
      "15-Aug-24 | 16:36\n",
      "running [{'temp': 321, 'dir': 'simulation/runs/IRS2_Q9Y4H2_Wildtype_2024_08_15_16_08_1723738510/321'}, {'temp': 328, 'dir': 'simulation/runs/IRS2_Q9Y4H2_Wildtype_2024_08_15_16_08_1723738510/328'}, {'temp': 335, 'dir': 'simulation/runs/IRS2_Q9Y4H2_Wildtype_2024_08_15_16_08_1723738510/335'}, {'temp': 342, 'dir': 'simulation/runs/IRS2_Q9Y4H2_Wildtype_2024_08_15_16_08_1723738510/342'}, {'temp': 349, 'dir': 'simulation/runs/IRS2_Q9Y4H2_Wildtype_2024_08_15_16_08_1723738510/349'}, {'temp': 356, 'dir': 'simulation/runs/IRS2_Q9Y4H2_Wildtype_2024_08_15_16_08_1723738510/356'}]\n",
      "15-Aug-24 | 16:36\n",
      "execution time: 0.3038612155781852 hours\n",
      "15-Aug-24 | 16:54\n",
      "running [{'temp': 363, 'dir': 'simulation/runs/IRS2_Q9Y4H2_Wildtype_2024_08_15_16_08_1723738510/363'}, {'temp': 370, 'dir': 'simulation/runs/IRS2_Q9Y4H2_Wildtype_2024_08_15_16_08_1723738510/370'}]\n",
      "remaining temp, CPUs_pp = 48\n",
      "15-Aug-24 | 16:54\n",
      "execution time: 0.24813934041394128 hours\n",
      "15-Aug-24 | 17:09\n",
      "calculating ps densities\n",
      "simulation/runs/IRS2_Q9Y4H2_Wildtype_2024_08_15_16_08_1723738510/300\n"
     ]
    },
    {
     "name": "stderr",
     "output_type": "stream",
     "text": [
      "/home/ubuntu/CTP/simulation/runs/IRS2_Q9Y4H2_Wildtype_2024_08_15_16_08_1723738510/300/da.py:62: OptimizeWarning: Covariance of the parameters could not be estimated\n",
      "  popt, _ = curve_fit(super_gaussian, coords, avg_profile, p0=initial_guess, maxfev=20000)\n"
     ]
    },
    {
     "name": "stdout",
     "output_type": "stream",
     "text": [
      "Dense phase concentration: 0.22075859597523217 +/- 0.008826626889373466\n",
      "Dilute phase concentration: 0.2259827269736842 +/- 0.004551190534681059\n",
      "simulation/runs/IRS2_Q9Y4H2_Wildtype_2024_08_15_16_08_1723738510/314\n"
     ]
    },
    {
     "name": "stderr",
     "output_type": "stream",
     "text": [
      "/home/ubuntu/CTP/simulation/runs/IRS2_Q9Y4H2_Wildtype_2024_08_15_16_08_1723738510/314/da.py:62: OptimizeWarning: Covariance of the parameters could not be estimated\n",
      "  popt, _ = curve_fit(super_gaussian, coords, avg_profile, p0=initial_guess, maxfev=20000)\n"
     ]
    },
    {
     "name": "stdout",
     "output_type": "stream",
     "text": [
      "Dense phase concentration: 0.22196627554179568 +/- 0.005826643655479133\n",
      "Dilute phase concentration: 0.2234163355263158 +/- 0.0042630958716603825\n",
      "simulation/runs/IRS2_Q9Y4H2_Wildtype_2024_08_15_16_08_1723738510/290\n"
     ]
    },
    {
     "name": "stderr",
     "output_type": "stream",
     "text": [
      "/home/ubuntu/CTP/simulation/runs/IRS2_Q9Y4H2_Wildtype_2024_08_15_16_08_1723738510/290/da.py:62: OptimizeWarning: Covariance of the parameters could not be estimated\n",
      "  popt, _ = curve_fit(super_gaussian, coords, avg_profile, p0=initial_guess, maxfev=20000)\n"
     ]
    },
    {
     "name": "stdout",
     "output_type": "stream",
     "text": [
      "Dense phase concentration: 0.22145772291021673 +/- 0.004357671387788962\n",
      "Dilute phase concentration: 0.22449711513157894 +/- 0.005147479755859857\n",
      "simulation/runs/IRS2_Q9Y4H2_Wildtype_2024_08_15_16_08_1723738510/342\n"
     ]
    },
    {
     "name": "stderr",
     "output_type": "stream",
     "text": [
      "/home/ubuntu/CTP/simulation/runs/IRS2_Q9Y4H2_Wildtype_2024_08_15_16_08_1723738510/342/da.py:62: OptimizeWarning: Covariance of the parameters could not be estimated\n",
      "  popt, _ = curve_fit(super_gaussian, coords, avg_profile, p0=initial_guess, maxfev=20000)\n"
     ]
    },
    {
     "name": "stdout",
     "output_type": "stream",
     "text": [
      "Dense phase concentration: 0.22238987770897833 +/- 0.0055636053759083775\n",
      "Dilute phase concentration: 0.22251628289473685 +/- 0.00203087299440821\n",
      "simulation/runs/IRS2_Q9Y4H2_Wildtype_2024_08_15_16_08_1723738510/328\n"
     ]
    },
    {
     "name": "stderr",
     "output_type": "stream",
     "text": [
      "/home/ubuntu/CTP/simulation/runs/IRS2_Q9Y4H2_Wildtype_2024_08_15_16_08_1723738510/328/da.py:62: OptimizeWarning: Covariance of the parameters could not be estimated\n",
      "  popt, _ = curve_fit(super_gaussian, coords, avg_profile, p0=initial_guess, maxfev=20000)\n"
     ]
    },
    {
     "name": "stdout",
     "output_type": "stream",
     "text": [
      "Dense phase concentration: 0.22225195820433438 +/- 0.005594152689488314\n",
      "Dilute phase concentration: 0.22280934868421054 +/- 0.006223365783354951\n",
      "simulation/runs/IRS2_Q9Y4H2_Wildtype_2024_08_15_16_08_1723738510/307\n"
     ]
    },
    {
     "name": "stderr",
     "output_type": "stream",
     "text": [
      "/home/ubuntu/CTP/simulation/runs/IRS2_Q9Y4H2_Wildtype_2024_08_15_16_08_1723738510/307/da.py:62: OptimizeWarning: Covariance of the parameters could not be estimated\n",
      "  popt, _ = curve_fit(super_gaussian, coords, avg_profile, p0=initial_guess, maxfev=20000)\n"
     ]
    },
    {
     "name": "stdout",
     "output_type": "stream",
     "text": [
      "Dense phase concentration: 0.2212429024767802 +/- 0.005398943323628582\n",
      "Dilute phase concentration: 0.22495357236842106 +/- 0.006297492910493262\n",
      "simulation/runs/IRS2_Q9Y4H2_Wildtype_2024_08_15_16_08_1723738510/363\n"
     ]
    },
    {
     "name": "stderr",
     "output_type": "stream",
     "text": [
      "/home/ubuntu/CTP/simulation/runs/IRS2_Q9Y4H2_Wildtype_2024_08_15_16_08_1723738510/363/da.py:62: OptimizeWarning: Covariance of the parameters could not be estimated\n",
      "  popt, _ = curve_fit(super_gaussian, coords, avg_profile, p0=initial_guess, maxfev=20000)\n"
     ]
    },
    {
     "name": "stdout",
     "output_type": "stream",
     "text": [
      "Dense phase concentration: 0.2208940572755418 +/- 0.004552692589049986\n",
      "Dilute phase concentration: 0.22569481578947367 +/- 0.002785279099737572\n",
      "simulation/runs/IRS2_Q9Y4H2_Wildtype_2024_08_15_16_08_1723738510/250\n"
     ]
    },
    {
     "name": "stderr",
     "output_type": "stream",
     "text": [
      "/home/ubuntu/CTP/simulation/runs/IRS2_Q9Y4H2_Wildtype_2024_08_15_16_08_1723738510/250/da.py:62: OptimizeWarning: Covariance of the parameters could not be estimated\n",
      "  popt, _ = curve_fit(super_gaussian, coords, avg_profile, p0=initial_guess, maxfev=20000)\n"
     ]
    },
    {
     "name": "stdout",
     "output_type": "stream",
     "text": [
      "Dense phase concentration: 0.21613352074303405 +/- 0.014944193889936362\n",
      "Dilute phase concentration: 0.23581103092105263 +/- 0.010296617641156665\n",
      "simulation/runs/IRS2_Q9Y4H2_Wildtype_2024_08_15_16_08_1723738510/321\n"
     ]
    },
    {
     "name": "stderr",
     "output_type": "stream",
     "text": [
      "/home/ubuntu/CTP/simulation/runs/IRS2_Q9Y4H2_Wildtype_2024_08_15_16_08_1723738510/321/da.py:62: OptimizeWarning: Covariance of the parameters could not be estimated\n",
      "  popt, _ = curve_fit(super_gaussian, coords, avg_profile, p0=initial_guess, maxfev=20000)\n"
     ]
    },
    {
     "name": "stdout",
     "output_type": "stream",
     "text": [
      "Dense phase concentration: 0.22224809287925695 +/- 0.006496049866635541\n",
      "Dilute phase concentration: 0.22281759868421053 +/- 0.003279442024807\n",
      "simulation/runs/IRS2_Q9Y4H2_Wildtype_2024_08_15_16_08_1723738510/349\n"
     ]
    },
    {
     "name": "stderr",
     "output_type": "stream",
     "text": [
      "/home/ubuntu/CTP/simulation/runs/IRS2_Q9Y4H2_Wildtype_2024_08_15_16_08_1723738510/349/da.py:62: OptimizeWarning: Covariance of the parameters could not be estimated\n",
      "  popt, _ = curve_fit(super_gaussian, coords, avg_profile, p0=initial_guess, maxfev=20000)\n"
     ]
    },
    {
     "name": "stdout",
     "output_type": "stream",
     "text": [
      "Dense phase concentration: 0.22216451702786377 +/- 0.003979495551854942\n",
      "Dilute phase concentration: 0.22299520723684213 +/- 0.005038537299616054\n",
      "simulation/runs/IRS2_Q9Y4H2_Wildtype_2024_08_15_16_08_1723738510/356\n"
     ]
    },
    {
     "name": "stderr",
     "output_type": "stream",
     "text": [
      "/home/ubuntu/CTP/simulation/runs/IRS2_Q9Y4H2_Wildtype_2024_08_15_16_08_1723738510/356/da.py:62: OptimizeWarning: Covariance of the parameters could not be estimated\n",
      "  popt, _ = curve_fit(super_gaussian, coords, avg_profile, p0=initial_guess, maxfev=20000)\n"
     ]
    },
    {
     "name": "stdout",
     "output_type": "stream",
     "text": [
      "Dense phase concentration: 0.2217576222910217 +/- 0.0060335497207771125\n",
      "Dilute phase concentration: 0.22385978289473685 +/- 0.007349212359546063\n",
      "simulation/runs/IRS2_Q9Y4H2_Wildtype_2024_08_15_16_08_1723738510/370\n"
     ]
    },
    {
     "name": "stderr",
     "output_type": "stream",
     "text": [
      "/home/ubuntu/CTP/simulation/runs/IRS2_Q9Y4H2_Wildtype_2024_08_15_16_08_1723738510/370/da.py:62: OptimizeWarning: Covariance of the parameters could not be estimated\n",
      "  popt, _ = curve_fit(super_gaussian, coords, avg_profile, p0=initial_guess, maxfev=20000)\n"
     ]
    },
    {
     "name": "stdout",
     "output_type": "stream",
     "text": [
      "Dense phase concentration: 0.220739633126935 +/- 0.00607262083494703\n",
      "Dilute phase concentration: 0.22602302302631577 +/- 0.002877027368820964\n",
      "simulation/runs/IRS2_Q9Y4H2_Wildtype_2024_08_15_16_08_1723738510/335\n"
     ]
    },
    {
     "name": "stderr",
     "output_type": "stream",
     "text": [
      "/home/ubuntu/CTP/simulation/runs/IRS2_Q9Y4H2_Wildtype_2024_08_15_16_08_1723738510/335/da.py:62: OptimizeWarning: Covariance of the parameters could not be estimated\n",
      "  popt, _ = curve_fit(super_gaussian, coords, avg_profile, p0=initial_guess, maxfev=20000)\n"
     ]
    },
    {
     "name": "stdout",
     "output_type": "stream",
     "text": [
      "Dense phase concentration: 0.2208278761609907 +/- 0.006358208446475477\n",
      "Dilute phase concentration: 0.22583551644736843 +/- 0.005872282151777922\n",
      "simulation/runs/IRS2_Q9Y4H2_Wildtype_2024_08_15_16_08_1723738510/270\n"
     ]
    },
    {
     "name": "stderr",
     "output_type": "stream",
     "text": [
      "/home/ubuntu/CTP/simulation/runs/IRS2_Q9Y4H2_Wildtype_2024_08_15_16_08_1723738510/270/da.py:62: OptimizeWarning: Covariance of the parameters could not be estimated\n",
      "  popt, _ = curve_fit(super_gaussian, coords, avg_profile, p0=initial_guess, maxfev=20000)\n"
     ]
    },
    {
     "name": "stdout",
     "output_type": "stream",
     "text": [
      "Dense phase concentration: 0.22241036068111453 +/- 0.010450908362121985\n",
      "Dilute phase concentration: 0.2224727532894737 +/- 0.01037358229202916\n"
     ]
    },
    {
     "name": "stderr",
     "output_type": "stream",
     "text": [
      "/home/ubuntu/anaconda3/envs/lammps/lib/python3.9/site-packages/matplotlib/collections.py:197: ComplexWarning: Casting complex values to real discards the imaginary part\n",
      "  offsets = np.asanyarray(offsets, float)\n",
      "/home/ubuntu/anaconda3/envs/lammps/lib/python3.9/site-packages/matplotlib/cbook.py:1762: ComplexWarning: Casting complex values to real discards the imaginary part\n",
      "  return math.isfinite(val)\n",
      "/home/ubuntu/anaconda3/envs/lammps/lib/python3.9/site-packages/matplotlib/cbook.py:1398: ComplexWarning: Casting complex values to real discards the imaginary part\n",
      "  return np.asarray(x, float)\n"
     ]
    },
    {
     "name": "stdout",
     "output_type": "stream",
     "text": [
      "File densities_chunked_temp250.txt read successfully with 2 lines.\n",
      "Original data lines:\n",
      "Dense phase concentration: 0.21613352074303405 +/- 0.014944193889936362\n",
      "Dilute phase concentration: 0.23581103092105263 +/- 0.010296617641156665\n",
      "Filtered data lines: 2\n",
      "Dense phase concentration: 0.21613352074303405 +/- 0.014944193889936362\n",
      "Dilute phase concentration: 0.23581103092105263 +/- 0.010296617641156665\n",
      "File densities_chunked_temp270.txt read successfully with 2 lines.\n",
      "Original data lines:\n",
      "Dense phase concentration: 0.22241036068111453 +/- 0.010450908362121985\n",
      "Dilute phase concentration: 0.2224727532894737 +/- 0.01037358229202916\n",
      "Filtered data lines: 2\n",
      "Dense phase concentration: 0.22241036068111453 +/- 0.010450908362121985\n",
      "Dilute phase concentration: 0.2224727532894737 +/- 0.01037358229202916\n",
      "File densities_chunked_temp290.txt read successfully with 2 lines.\n",
      "Original data lines:\n",
      "Dense phase concentration: 0.22145772291021673 +/- 0.004357671387788962\n",
      "Dilute phase concentration: 0.22449711513157894 +/- 0.005147479755859857\n",
      "Filtered data lines: 2\n",
      "Dense phase concentration: 0.22145772291021673 +/- 0.004357671387788962\n",
      "Dilute phase concentration: 0.22449711513157894 +/- 0.005147479755859857\n",
      "File densities_chunked_temp300.txt read successfully with 2 lines.\n",
      "Original data lines:\n",
      "Dense phase concentration: 0.22075859597523217 +/- 0.008826626889373466\n",
      "Dilute phase concentration: 0.2259827269736842 +/- 0.004551190534681059\n",
      "Filtered data lines: 2\n",
      "Dense phase concentration: 0.22075859597523217 +/- 0.008826626889373466\n",
      "Dilute phase concentration: 0.2259827269736842 +/- 0.004551190534681059\n",
      "File densities_chunked_temp307.txt read successfully with 2 lines.\n",
      "Original data lines:\n",
      "Dense phase concentration: 0.2212429024767802 +/- 0.005398943323628582\n",
      "Dilute phase concentration: 0.22495357236842106 +/- 0.006297492910493262\n",
      "Filtered data lines: 2\n",
      "Dense phase concentration: 0.2212429024767802 +/- 0.005398943323628582\n",
      "Dilute phase concentration: 0.22495357236842106 +/- 0.006297492910493262\n",
      "File densities_chunked_temp314.txt read successfully with 2 lines.\n",
      "Original data lines:\n",
      "Dense phase concentration: 0.22196627554179568 +/- 0.005826643655479133\n",
      "Dilute phase concentration: 0.2234163355263158 +/- 0.0042630958716603825\n",
      "Filtered data lines: 2\n",
      "Dense phase concentration: 0.22196627554179568 +/- 0.005826643655479133\n",
      "Dilute phase concentration: 0.2234163355263158 +/- 0.0042630958716603825\n",
      "File densities_chunked_temp321.txt read successfully with 2 lines.\n",
      "Original data lines:\n",
      "Dense phase concentration: 0.22224809287925695 +/- 0.006496049866635541\n",
      "Dilute phase concentration: 0.22281759868421053 +/- 0.003279442024807\n",
      "Filtered data lines: 2\n",
      "Dense phase concentration: 0.22224809287925695 +/- 0.006496049866635541\n",
      "Dilute phase concentration: 0.22281759868421053 +/- 0.003279442024807\n",
      "File densities_chunked_temp328.txt read successfully with 2 lines.\n",
      "Original data lines:\n",
      "Dense phase concentration: 0.22225195820433438 +/- 0.005594152689488314\n",
      "Dilute phase concentration: 0.22280934868421054 +/- 0.006223365783354951\n",
      "Filtered data lines: 2\n",
      "Dense phase concentration: 0.22225195820433438 +/- 0.005594152689488314\n",
      "Dilute phase concentration: 0.22280934868421054 +/- 0.006223365783354951\n",
      "File densities_chunked_temp335.txt read successfully with 2 lines.\n",
      "Original data lines:\n",
      "Dense phase concentration: 0.2208278761609907 +/- 0.006358208446475477\n",
      "Dilute phase concentration: 0.22583551644736843 +/- 0.005872282151777922\n",
      "Filtered data lines: 2\n",
      "Dense phase concentration: 0.2208278761609907 +/- 0.006358208446475477\n",
      "Dilute phase concentration: 0.22583551644736843 +/- 0.005872282151777922\n",
      "File densities_chunked_temp342.txt read successfully with 2 lines.\n",
      "Original data lines:\n",
      "Dense phase concentration: 0.22238987770897833 +/- 0.0055636053759083775\n",
      "Dilute phase concentration: 0.22251628289473685 +/- 0.00203087299440821\n",
      "Filtered data lines: 2\n",
      "Dense phase concentration: 0.22238987770897833 +/- 0.0055636053759083775\n",
      "Dilute phase concentration: 0.22251628289473685 +/- 0.00203087299440821\n",
      "File densities_chunked_temp349.txt read successfully with 2 lines.\n",
      "Original data lines:\n",
      "Dense phase concentration: 0.22216451702786377 +/- 0.003979495551854942\n",
      "Dilute phase concentration: 0.22299520723684213 +/- 0.005038537299616054\n",
      "Filtered data lines: 2\n",
      "Dense phase concentration: 0.22216451702786377 +/- 0.003979495551854942\n",
      "Dilute phase concentration: 0.22299520723684213 +/- 0.005038537299616054\n",
      "File densities_chunked_temp356.txt read successfully with 2 lines.\n",
      "Original data lines:\n",
      "Dense phase concentration: 0.2217576222910217 +/- 0.0060335497207771125\n",
      "Dilute phase concentration: 0.22385978289473685 +/- 0.007349212359546063\n",
      "Filtered data lines: 2\n",
      "Dense phase concentration: 0.2217576222910217 +/- 0.0060335497207771125\n",
      "Dilute phase concentration: 0.22385978289473685 +/- 0.007349212359546063\n",
      "File densities_chunked_temp363.txt read successfully with 2 lines.\n",
      "Original data lines:\n",
      "Dense phase concentration: 0.2208940572755418 +/- 0.004552692589049986\n",
      "Dilute phase concentration: 0.22569481578947367 +/- 0.002785279099737572\n",
      "Filtered data lines: 2\n",
      "Dense phase concentration: 0.2208940572755418 +/- 0.004552692589049986\n",
      "Dilute phase concentration: 0.22569481578947367 +/- 0.002785279099737572\n",
      "File densities_chunked_temp370.txt read successfully with 2 lines.\n",
      "Original data lines:\n",
      "Dense phase concentration: 0.220739633126935 +/- 0.00607262083494703\n",
      "Dilute phase concentration: 0.22602302302631577 +/- 0.002877027368820964\n",
      "Filtered data lines: 2\n",
      "Dense phase concentration: 0.220739633126935 +/- 0.00607262083494703\n",
      "Dilute phase concentration: 0.22602302302631577 +/- 0.002877027368820964\n",
      "Temperatures: [250, 270, 290, 300, 307, 314, 321, 328, 335, 342, 349, 356, 363, 370]\n",
      "Dense phase concentrations: [0.21613352074303405, 0.22241036068111453, 0.22145772291021673, 0.22075859597523217, 0.2212429024767802, 0.22196627554179568, 0.22224809287925695, 0.22225195820433438, 0.2208278761609907, 0.22238987770897833, 0.22216451702786377, 0.2217576222910217, 0.2208940572755418, 0.220739633126935]\n",
      "Dilute phase concentrations: [0.23581103092105263, 0.2224727532894737, 0.22449711513157894, 0.2259827269736842, 0.22495357236842106, 0.2234163355263158, 0.22281759868421053, 0.22280934868421054, 0.22583551644736843, 0.22251628289473685, 0.22299520723684213, 0.22385978289473685, 0.22569481578947367, 0.22602302302631577]\n",
      "Dense std dev: [0.014944193889936362, 0.010450908362121985, 0.004357671387788962, 0.008826626889373466, 0.005398943323628582, 0.005826643655479133, 0.006496049866635541, 0.005594152689488314, 0.006358208446475477, 0.0055636053759083775, 0.003979495551854942, 0.0060335497207771125, 0.004552692589049986, 0.00607262083494703]\n",
      "Dilute std dev: [0.010296617641156665, 0.01037358229202916, 0.005147479755859857, 0.004551190534681059, 0.006297492910493262, 0.0042630958716603825, 0.003279442024807, 0.006223365783354951, 0.005872282151777922, 0.00203087299440821, 0.005038537299616054, 0.007349212359546063, 0.002785279099737572, 0.002877027368820964]\n",
      "Critical Solution Temperature: 338.79-0.00j K written to critical_solution_temperature.txt\n",
      "execution time: 0.907719071176317 hours\n",
      "15-Aug-24 | 17:09\n",
      "\n",
      "\n",
      "running simulation for GKGDSPYG\n",
      "15-Aug-24 | 17:09\n",
      "seq len 34\n",
      "total temps 14\n",
      "simulation/runs/GKGDSPYG_2024_08_15_17_08_1723741777\n",
      "step 1: running input single chain\n"
     ]
    },
    {
     "name": "stderr",
     "output_type": "stream",
     "text": [
      "/home/ubuntu/CTP/simulation/runs/GKGDSPYG_2024_08_15_17_08_1723741777/seq2config.py:67: DeprecationWarning: Conversion of an array with ndim > 0 to a scalar is deprecated, and will error in future. Ensure you extract a single element from your array before performing this operation. (Deprecated NumPy 1.25.)\n",
      "  typescharges.append([int(types[p,1]),float(charges[k,1])])\n"
     ]
    },
    {
     "name": "stdout",
     "output_type": "stream",
     "text": [
      "step 2: running compress single chain\n",
      "step 3: direct coexistence\n",
      "running [{'temp': 250, 'dir': 'simulation/runs/GKGDSPYG_2024_08_15_17_08_1723741777/250'}, {'temp': 270, 'dir': 'simulation/runs/GKGDSPYG_2024_08_15_17_08_1723741777/270'}, {'temp': 290, 'dir': 'simulation/runs/GKGDSPYG_2024_08_15_17_08_1723741777/290'}, {'temp': 300, 'dir': 'simulation/runs/GKGDSPYG_2024_08_15_17_08_1723741777/300'}, {'temp': 307, 'dir': 'simulation/runs/GKGDSPYG_2024_08_15_17_08_1723741777/307'}, {'temp': 314, 'dir': 'simulation/runs/GKGDSPYG_2024_08_15_17_08_1723741777/314'}]\n",
      "15-Aug-24 | 17:11\n",
      "execution time: 0.3472987660434511 hours\n",
      "15-Aug-24 | 17:32\n",
      "running [{'temp': 321, 'dir': 'simulation/runs/GKGDSPYG_2024_08_15_17_08_1723741777/321'}, {'temp': 328, 'dir': 'simulation/runs/GKGDSPYG_2024_08_15_17_08_1723741777/328'}, {'temp': 335, 'dir': 'simulation/runs/GKGDSPYG_2024_08_15_17_08_1723741777/335'}, {'temp': 342, 'dir': 'simulation/runs/GKGDSPYG_2024_08_15_17_08_1723741777/342'}, {'temp': 349, 'dir': 'simulation/runs/GKGDSPYG_2024_08_15_17_08_1723741777/349'}, {'temp': 356, 'dir': 'simulation/runs/GKGDSPYG_2024_08_15_17_08_1723741777/356'}]\n",
      "15-Aug-24 | 17:32\n",
      "execution time: 0.33744962957170277 hours\n",
      "15-Aug-24 | 17:52\n",
      "running [{'temp': 363, 'dir': 'simulation/runs/GKGDSPYG_2024_08_15_17_08_1723741777/363'}, {'temp': 370, 'dir': 'simulation/runs/GKGDSPYG_2024_08_15_17_08_1723741777/370'}]\n",
      "remaining temp, CPUs_pp = 48\n",
      "15-Aug-24 | 17:52\n",
      "execution time: 0.2712980526023441 hours\n",
      "15-Aug-24 | 18:08\n",
      "calculating ps densities\n",
      "simulation/runs/GKGDSPYG_2024_08_15_17_08_1723741777/300\n"
     ]
    },
    {
     "name": "stderr",
     "output_type": "stream",
     "text": [
      "/home/ubuntu/CTP/simulation/runs/GKGDSPYG_2024_08_15_17_08_1723741777/300/da.py:62: OptimizeWarning: Covariance of the parameters could not be estimated\n",
      "  popt, _ = curve_fit(super_gaussian, coords, avg_profile, p0=initial_guess, maxfev=20000)\n"
     ]
    },
    {
     "name": "stdout",
     "output_type": "stream",
     "text": [
      "Dense phase concentration: 0.2235743281733746 +/- 0.004953389598095395\n",
      "Dilute phase concentration: 0.21779615789473683 +/- 0.004823635609662702\n",
      "simulation/runs/GKGDSPYG_2024_08_15_17_08_1723741777/314\n"
     ]
    },
    {
     "name": "stderr",
     "output_type": "stream",
     "text": [
      "/home/ubuntu/CTP/simulation/runs/GKGDSPYG_2024_08_15_17_08_1723741777/314/da.py:62: OptimizeWarning: Covariance of the parameters could not be estimated\n",
      "  popt, _ = curve_fit(super_gaussian, coords, avg_profile, p0=initial_guess, maxfev=20000)\n"
     ]
    },
    {
     "name": "stdout",
     "output_type": "stream",
     "text": [
      "Dense phase concentration: 0.22207807430340556 +/- 0.004060996259262956\n",
      "Dilute phase concentration: 0.22097576644736844 +/- 0.0036671576943246597\n",
      "simulation/runs/GKGDSPYG_2024_08_15_17_08_1723741777/290\n"
     ]
    },
    {
     "name": "stderr",
     "output_type": "stream",
     "text": [
      "/home/ubuntu/CTP/simulation/runs/GKGDSPYG_2024_08_15_17_08_1723741777/290/da.py:62: OptimizeWarning: Covariance of the parameters could not be estimated\n",
      "  popt, _ = curve_fit(super_gaussian, coords, avg_profile, p0=initial_guess, maxfev=20000)\n"
     ]
    },
    {
     "name": "stdout",
     "output_type": "stream",
     "text": [
      "Dense phase concentration: 0.222990133126935 +/- 0.006173802789425427\n",
      "Dilute phase concentration: 0.21903759539473683 +/- 0.002605196421175978\n",
      "simulation/runs/GKGDSPYG_2024_08_15_17_08_1723741777/342\n"
     ]
    },
    {
     "name": "stderr",
     "output_type": "stream",
     "text": [
      "/home/ubuntu/CTP/simulation/runs/GKGDSPYG_2024_08_15_17_08_1723741777/342/da.py:62: OptimizeWarning: Covariance of the parameters could not be estimated\n",
      "  popt, _ = curve_fit(super_gaussian, coords, avg_profile, p0=initial_guess, maxfev=20000)\n"
     ]
    },
    {
     "name": "stdout",
     "output_type": "stream",
     "text": [
      "Dense phase concentration: 0.22119162383900928 +/- 0.0043654035948082785\n",
      "Dilute phase concentration: 0.22285944736842106 +/- 0.003903091533654204\n",
      "simulation/runs/GKGDSPYG_2024_08_15_17_08_1723741777/328\n"
     ]
    },
    {
     "name": "stderr",
     "output_type": "stream",
     "text": [
      "/home/ubuntu/CTP/simulation/runs/GKGDSPYG_2024_08_15_17_08_1723741777/328/da.py:62: OptimizeWarning: Covariance of the parameters could not be estimated\n",
      "  popt, _ = curve_fit(super_gaussian, coords, avg_profile, p0=initial_guess, maxfev=20000)\n"
     ]
    },
    {
     "name": "stdout",
     "output_type": "stream",
     "text": [
      "Dense phase concentration: 0.22367457894736842 +/- 0.006771240124612244\n",
      "Dilute phase concentration: 0.21758317105263159 +/- 0.004821436824013879\n",
      "simulation/runs/GKGDSPYG_2024_08_15_17_08_1723741777/307\n"
     ]
    },
    {
     "name": "stderr",
     "output_type": "stream",
     "text": [
      "/home/ubuntu/CTP/simulation/runs/GKGDSPYG_2024_08_15_17_08_1723741777/307/da.py:62: OptimizeWarning: Covariance of the parameters could not be estimated\n",
      "  popt, _ = curve_fit(super_gaussian, coords, avg_profile, p0=initial_guess, maxfev=20000)\n"
     ]
    },
    {
     "name": "stdout",
     "output_type": "stream",
     "text": [
      "Dense phase concentration: 0.2226820077399381 +/- 0.004511236519731757\n",
      "Dilute phase concentration: 0.2196923552631579 +/- 0.0032646333983978766\n",
      "simulation/runs/GKGDSPYG_2024_08_15_17_08_1723741777/363\n"
     ]
    },
    {
     "name": "stderr",
     "output_type": "stream",
     "text": [
      "Traceback (most recent call last):\n",
      "  File \"/home/ubuntu/CTP/simulation/runs/GKGDSPYG_2024_08_15_17_08_1723741777/363/da.py\", line 146, in <module>\n",
      "    main()\n",
      "  File \"/home/ubuntu/CTP/simulation/runs/GKGDSPYG_2024_08_15_17_08_1723741777/363/da.py\", line 133, in main\n",
      "    dense, dilute, dense_stdev, dilute_stdev = process_density_file(file_name)\n",
      "  File \"/home/ubuntu/CTP/simulation/runs/GKGDSPYG_2024_08_15_17_08_1723741777/363/da.py\", line 121, in process_density_file\n",
      "    dense, dilute, dense_stdev, dilute_stdev = get_dilute_and_dense_concentrations(density, zPosition)\n",
      "  File \"/home/ubuntu/CTP/simulation/runs/GKGDSPYG_2024_08_15_17_08_1723741777/363/da.py\", line 99, in get_dilute_and_dense_concentrations\n",
      "    left_interface_coord, right_interface_coord = super_gaussian_fd_method(coords, density)\n",
      "  File \"/home/ubuntu/CTP/simulation/runs/GKGDSPYG_2024_08_15_17_08_1723741777/363/da.py\", line 62, in super_gaussian_fd_method\n",
      "    popt, _ = curve_fit(super_gaussian, coords, avg_profile, p0=initial_guess, maxfev=20000)\n",
      "  File \"/home/ubuntu/anaconda3/envs/lammps/lib/python3.9/site-packages/scipy/optimize/_minpack_py.py\", line 1005, in curve_fit\n",
      "    raise RuntimeError(\"Optimal parameters not found: \" + errmsg)\n",
      "RuntimeError: Optimal parameters not found: Number of calls to function has reached maxfev = 20000.\n",
      "/home/ubuntu/CTP/simulation/runs/GRGDAPYQ_2024_08_15_18_08_1723745345/seq2config.py:67: DeprecationWarning: Conversion of an array with ndim > 0 to a scalar is deprecated, and will error in future. Ensure you extract a single element from your array before performing this operation. (Deprecated NumPy 1.25.)\n",
      "  typescharges.append([int(types[p,1]),float(charges[k,1])])\n"
     ]
    },
    {
     "name": "stdout",
     "output_type": "stream",
     "text": [
      "execution time: 0.9909157728486591 hours\n",
      "15-Aug-24 | 18:09\n",
      "\n",
      "\n",
      "running simulation for GRGDAPYQ\n",
      "15-Aug-24 | 18:09\n",
      "seq len 34\n",
      "total temps 14\n",
      "simulation/runs/GRGDAPYQ_2024_08_15_18_08_1723745345\n",
      "step 1: running input single chain\n",
      "step 2: running compress single chain\n",
      "step 3: direct coexistence\n",
      "running [{'temp': 250, 'dir': 'simulation/runs/GRGDAPYQ_2024_08_15_18_08_1723745345/250'}, {'temp': 270, 'dir': 'simulation/runs/GRGDAPYQ_2024_08_15_18_08_1723745345/270'}, {'temp': 290, 'dir': 'simulation/runs/GRGDAPYQ_2024_08_15_18_08_1723745345/290'}, {'temp': 300, 'dir': 'simulation/runs/GRGDAPYQ_2024_08_15_18_08_1723745345/300'}, {'temp': 307, 'dir': 'simulation/runs/GRGDAPYQ_2024_08_15_18_08_1723745345/307'}, {'temp': 314, 'dir': 'simulation/runs/GRGDAPYQ_2024_08_15_18_08_1723745345/314'}]\n",
      "15-Aug-24 | 18:11\n",
      "execution time: 0.6326275538735919 hours\n",
      "15-Aug-24 | 18:49\n",
      "running [{'temp': 321, 'dir': 'simulation/runs/GRGDAPYQ_2024_08_15_18_08_1723745345/321'}, {'temp': 328, 'dir': 'simulation/runs/GRGDAPYQ_2024_08_15_18_08_1723745345/328'}, {'temp': 335, 'dir': 'simulation/runs/GRGDAPYQ_2024_08_15_18_08_1723745345/335'}, {'temp': 342, 'dir': 'simulation/runs/GRGDAPYQ_2024_08_15_18_08_1723745345/342'}, {'temp': 349, 'dir': 'simulation/runs/GRGDAPYQ_2024_08_15_18_08_1723745345/349'}, {'temp': 356, 'dir': 'simulation/runs/GRGDAPYQ_2024_08_15_18_08_1723745345/356'}]\n",
      "15-Aug-24 | 18:49\n",
      "execution time: 0.43324653486410775 hours\n",
      "15-Aug-24 | 19:15\n",
      "running [{'temp': 363, 'dir': 'simulation/runs/GRGDAPYQ_2024_08_15_18_08_1723745345/363'}, {'temp': 370, 'dir': 'simulation/runs/GRGDAPYQ_2024_08_15_18_08_1723745345/370'}]\n",
      "remaining temp, CPUs_pp = 48\n",
      "15-Aug-24 | 19:15\n",
      "execution time: 0.29047471046447754 hours\n",
      "15-Aug-24 | 19:32\n",
      "calculating ps densities\n",
      "simulation/runs/GRGDAPYQ_2024_08_15_18_08_1723745345/300\n"
     ]
    },
    {
     "name": "stderr",
     "output_type": "stream",
     "text": [
      "/home/ubuntu/CTP/simulation/runs/GRGDAPYQ_2024_08_15_18_08_1723745345/300/da.py:62: OptimizeWarning: Covariance of the parameters could not be estimated\n",
      "  popt, _ = curve_fit(super_gaussian, coords, avg_profile, p0=initial_guess, maxfev=20000)\n"
     ]
    },
    {
     "name": "stdout",
     "output_type": "stream",
     "text": [
      "Dense phase concentration: 0.31261768767451525 +/- 0.2354668343991848\n",
      "Dilute phase concentration: 0.024015462381578947 +/- 0.007431531478907401\n",
      "simulation/runs/GRGDAPYQ_2024_08_15_18_08_1723745345/314\n"
     ]
    },
    {
     "name": "stderr",
     "output_type": "stream",
     "text": [
      "/home/ubuntu/CTP/simulation/runs/GRGDAPYQ_2024_08_15_18_08_1723745345/314/da.py:62: OptimizeWarning: Covariance of the parameters could not be estimated\n",
      "  popt, _ = curve_fit(super_gaussian, coords, avg_profile, p0=initial_guess, maxfev=20000)\n"
     ]
    },
    {
     "name": "stdout",
     "output_type": "stream",
     "text": [
      "Dense phase concentration: 0.3079493425758514 +/- 0.12152271915571954\n",
      "Dilute phase concentration: 0.10608624188157895 +/- 0.019108419292068947\n",
      "simulation/runs/GRGDAPYQ_2024_08_15_18_08_1723745345/290\n"
     ]
    },
    {
     "name": "stderr",
     "output_type": "stream",
     "text": [
      "/home/ubuntu/CTP/simulation/runs/GRGDAPYQ_2024_08_15_18_08_1723745345/290/da.py:62: OptimizeWarning: Covariance of the parameters could not be estimated\n",
      "  popt, _ = curve_fit(super_gaussian, coords, avg_profile, p0=initial_guess, maxfev=20000)\n"
     ]
    },
    {
     "name": "stdout",
     "output_type": "stream",
     "text": [
      "Dense phase concentration: 0.34424611568315794 +/- 0.26669385067919515\n",
      "Dilute phase concentration: 0.007936262445263157 +/- 0.0013038607461140766\n",
      "simulation/runs/GRGDAPYQ_2024_08_15_18_08_1723745345/342\n"
     ]
    },
    {
     "name": "stderr",
     "output_type": "stream",
     "text": [
      "/home/ubuntu/CTP/simulation/runs/GRGDAPYQ_2024_08_15_18_08_1723745345/342/da.py:62: OptimizeWarning: Covariance of the parameters could not be estimated\n",
      "  popt, _ = curve_fit(super_gaussian, coords, avg_profile, p0=initial_guess, maxfev=20000)\n"
     ]
    },
    {
     "name": "stdout",
     "output_type": "stream",
     "text": [
      "Dense phase concentration: 0.23614800015479875 +/- 0.012882752122632273\n",
      "Dilute phase concentration: 0.25866419506578947 +/- 0.006420325338712049\n",
      "simulation/runs/GRGDAPYQ_2024_08_15_18_08_1723745345/328\n"
     ]
    },
    {
     "name": "stderr",
     "output_type": "stream",
     "text": [
      "/home/ubuntu/CTP/simulation/runs/GRGDAPYQ_2024_08_15_18_08_1723745345/328/da.py:62: OptimizeWarning: Covariance of the parameters could not be estimated\n",
      "  popt, _ = curve_fit(super_gaussian, coords, avg_profile, p0=initial_guess, maxfev=20000)\n"
     ]
    },
    {
     "name": "stdout",
     "output_type": "stream",
     "text": [
      "Dense phase concentration: 0.26270733761609905 +/- 0.057798633930593625\n",
      "Dilute phase concentration: 0.20222553059210527 +/- 0.05318081120295424\n",
      "simulation/runs/GRGDAPYQ_2024_08_15_18_08_1723745345/307\n"
     ]
    },
    {
     "name": "stderr",
     "output_type": "stream",
     "text": [
      "/home/ubuntu/CTP/simulation/runs/GRGDAPYQ_2024_08_15_18_08_1723745345/307/da.py:62: OptimizeWarning: Covariance of the parameters could not be estimated\n",
      "  popt, _ = curve_fit(super_gaussian, coords, avg_profile, p0=initial_guess, maxfev=20000)\n"
     ]
    },
    {
     "name": "stdout",
     "output_type": "stream",
     "text": [
      "Dense phase concentration: 0.3128010464678019 +/- 0.18297718251698505\n",
      "Dilute phase concentration: 0.09577635951776316 +/- 0.0937890648577579\n",
      "simulation/runs/GRGDAPYQ_2024_08_15_18_08_1723745345/363\n"
     ]
    },
    {
     "name": "stderr",
     "output_type": "stream",
     "text": [
      "/home/ubuntu/CTP/simulation/runs/GRGDAPYQ_2024_08_15_18_08_1723745345/363/da.py:62: OptimizeWarning: Covariance of the parameters could not be estimated\n",
      "  popt, _ = curve_fit(super_gaussian, coords, avg_profile, p0=initial_guess, maxfev=20000)\n"
     ]
    },
    {
     "name": "stdout",
     "output_type": "stream",
     "text": [
      "Dense phase concentration: 0.2386812758513932 +/- 0.00882848254150449\n",
      "Dilute phase concentration: 0.25328094407894736 +/- 0.004136561372324179\n",
      "simulation/runs/GRGDAPYQ_2024_08_15_18_08_1723745345/250\n"
     ]
    },
    {
     "name": "stderr",
     "output_type": "stream",
     "text": [
      "/home/ubuntu/CTP/simulation/runs/GRGDAPYQ_2024_08_15_18_08_1723745345/250/da.py:62: OptimizeWarning: Covariance of the parameters could not be estimated\n",
      "  popt, _ = curve_fit(super_gaussian, coords, avg_profile, p0=initial_guess, maxfev=20000)\n"
     ]
    },
    {
     "name": "stdout",
     "output_type": "stream",
     "text": [
      "Dense phase concentration: 0.419300810861343 +/- 0.3560973592523366\n",
      "Dilute phase concentration: 0.00037783825814536334 +/- 0.0004405876204421076\n",
      "simulation/runs/GRGDAPYQ_2024_08_15_18_08_1723745345/321\n"
     ]
    },
    {
     "name": "stderr",
     "output_type": "stream",
     "text": [
      "Traceback (most recent call last):\n",
      "  File \"/home/ubuntu/CTP/simulation/runs/GRGDAPYQ_2024_08_15_18_08_1723745345/321/da.py\", line 146, in <module>\n",
      "    main()\n",
      "  File \"/home/ubuntu/CTP/simulation/runs/GRGDAPYQ_2024_08_15_18_08_1723745345/321/da.py\", line 133, in main\n",
      "    dense, dilute, dense_stdev, dilute_stdev = process_density_file(file_name)\n",
      "  File \"/home/ubuntu/CTP/simulation/runs/GRGDAPYQ_2024_08_15_18_08_1723745345/321/da.py\", line 121, in process_density_file\n",
      "    dense, dilute, dense_stdev, dilute_stdev = get_dilute_and_dense_concentrations(density, zPosition)\n",
      "  File \"/home/ubuntu/CTP/simulation/runs/GRGDAPYQ_2024_08_15_18_08_1723745345/321/da.py\", line 99, in get_dilute_and_dense_concentrations\n",
      "    left_interface_coord, right_interface_coord = super_gaussian_fd_method(coords, density)\n",
      "  File \"/home/ubuntu/CTP/simulation/runs/GRGDAPYQ_2024_08_15_18_08_1723745345/321/da.py\", line 62, in super_gaussian_fd_method\n",
      "    popt, _ = curve_fit(super_gaussian, coords, avg_profile, p0=initial_guess, maxfev=20000)\n",
      "  File \"/home/ubuntu/anaconda3/envs/lammps/lib/python3.9/site-packages/scipy/optimize/_minpack_py.py\", line 1005, in curve_fit\n",
      "    raise RuntimeError(\"Optimal parameters not found: \" + errmsg)\n",
      "RuntimeError: Optimal parameters not found: Number of calls to function has reached maxfev = 20000.\n",
      "/home/ubuntu/CTP/simulation/runs/GRGDSPYQ_2024_08_15_19_08_1723750361/seq2config.py:67: DeprecationWarning: Conversion of an array with ndim > 0 to a scalar is deprecated, and will error in future. Ensure you extract a single element from your array before performing this operation. (Deprecated NumPy 1.25.)\n",
      "  typescharges.append([int(types[p,1]),float(charges[k,1])])\n"
     ]
    },
    {
     "name": "stdout",
     "output_type": "stream",
     "text": [
      "execution time: 1.3935188890165753 hours\n",
      "15-Aug-24 | 19:32\n",
      "\n",
      "\n",
      "running simulation for GRGDSPYQ\n",
      "15-Aug-24 | 19:32\n",
      "seq len 34\n",
      "total temps 14\n",
      "simulation/runs/GRGDSPYQ_2024_08_15_19_08_1723750361\n",
      "step 1: running input single chain\n",
      "step 2: running compress single chain\n",
      "step 3: direct coexistence\n",
      "running [{'temp': 250, 'dir': 'simulation/runs/GRGDSPYQ_2024_08_15_19_08_1723750361/250'}, {'temp': 270, 'dir': 'simulation/runs/GRGDSPYQ_2024_08_15_19_08_1723750361/270'}, {'temp': 290, 'dir': 'simulation/runs/GRGDSPYQ_2024_08_15_19_08_1723750361/290'}, {'temp': 300, 'dir': 'simulation/runs/GRGDSPYQ_2024_08_15_19_08_1723750361/300'}, {'temp': 307, 'dir': 'simulation/runs/GRGDSPYQ_2024_08_15_19_08_1723750361/307'}, {'temp': 314, 'dir': 'simulation/runs/GRGDSPYQ_2024_08_15_19_08_1723750361/314'}]\n",
      "15-Aug-24 | 19:34\n",
      "execution time: 0.6316206608878242 hours\n",
      "15-Aug-24 | 20:12\n",
      "running [{'temp': 321, 'dir': 'simulation/runs/GRGDSPYQ_2024_08_15_19_08_1723750361/321'}, {'temp': 328, 'dir': 'simulation/runs/GRGDSPYQ_2024_08_15_19_08_1723750361/328'}, {'temp': 335, 'dir': 'simulation/runs/GRGDSPYQ_2024_08_15_19_08_1723750361/335'}, {'temp': 342, 'dir': 'simulation/runs/GRGDSPYQ_2024_08_15_19_08_1723750361/342'}, {'temp': 349, 'dir': 'simulation/runs/GRGDSPYQ_2024_08_15_19_08_1723750361/349'}, {'temp': 356, 'dir': 'simulation/runs/GRGDSPYQ_2024_08_15_19_08_1723750361/356'}]\n",
      "15-Aug-24 | 20:12\n",
      "execution time: 0.4339629913038678 hours\n",
      "15-Aug-24 | 20:38\n",
      "running [{'temp': 363, 'dir': 'simulation/runs/GRGDSPYQ_2024_08_15_19_08_1723750361/363'}, {'temp': 370, 'dir': 'simulation/runs/GRGDSPYQ_2024_08_15_19_08_1723750361/370'}]\n",
      "remaining temp, CPUs_pp = 48\n",
      "15-Aug-24 | 20:38\n",
      "execution time: 0.29331119570467207 hours\n",
      "15-Aug-24 | 20:56\n",
      "calculating ps densities\n",
      "simulation/runs/GRGDSPYQ_2024_08_15_19_08_1723750361/300\n"
     ]
    },
    {
     "name": "stderr",
     "output_type": "stream",
     "text": [
      "/home/ubuntu/CTP/simulation/runs/GRGDSPYQ_2024_08_15_19_08_1723750361/300/da.py:62: OptimizeWarning: Covariance of the parameters could not be estimated\n",
      "  popt, _ = curve_fit(super_gaussian, coords, avg_profile, p0=initial_guess, maxfev=20000)\n"
     ]
    },
    {
     "name": "stdout",
     "output_type": "stream",
     "text": [
      "Dense phase concentration: 0.3055382695121053 +/- 0.24032929865127475\n",
      "Dilute phase concentration: 0.014018549639473682 +/- 0.001633493356012278\n",
      "simulation/runs/GRGDSPYQ_2024_08_15_19_08_1723750361/314\n"
     ]
    },
    {
     "name": "stderr",
     "output_type": "stream",
     "text": [
      "/home/ubuntu/CTP/simulation/runs/GRGDSPYQ_2024_08_15_19_08_1723750361/314/da.py:62: OptimizeWarning: Covariance of the parameters could not be estimated\n",
      "  popt, _ = curve_fit(super_gaussian, coords, avg_profile, p0=initial_guess, maxfev=20000)\n"
     ]
    },
    {
     "name": "stdout",
     "output_type": "stream",
     "text": [
      "Dense phase concentration: 0.3164638829876161 +/- 0.13296220824262078\n",
      "Dilute phase concentration: 0.10012150049342106 +/- 0.03071217694919772\n",
      "simulation/runs/GRGDSPYQ_2024_08_15_19_08_1723750361/290\n"
     ]
    },
    {
     "name": "stderr",
     "output_type": "stream",
     "text": [
      "/home/ubuntu/CTP/simulation/runs/GRGDSPYQ_2024_08_15_19_08_1723750361/290/da.py:62: OptimizeWarning: Covariance of the parameters could not be estimated\n",
      "  popt, _ = curve_fit(super_gaussian, coords, avg_profile, p0=initial_guess, maxfev=20000)\n"
     ]
    },
    {
     "name": "stdout",
     "output_type": "stream",
     "text": [
      "Dense phase concentration: 0.3406482688669591 +/- 0.27572648791470455\n",
      "Dilute phase concentration: 0.007027076327067669 +/- 0.0018962114597142396\n",
      "simulation/runs/GRGDSPYQ_2024_08_15_19_08_1723750361/342\n"
     ]
    },
    {
     "name": "stderr",
     "output_type": "stream",
     "text": [
      "/home/ubuntu/CTP/simulation/runs/GRGDSPYQ_2024_08_15_19_08_1723750361/342/da.py:62: OptimizeWarning: Covariance of the parameters could not be estimated\n",
      "  popt, _ = curve_fit(super_gaussian, coords, avg_profile, p0=initial_guess, maxfev=20000)\n"
     ]
    },
    {
     "name": "stdout",
     "output_type": "stream",
     "text": [
      "Dense phase concentration: 0.23630475278637775 +/- 0.014113691255382059\n",
      "Dilute phase concentration: 0.2704596851973684 +/- 0.010145465686345943\n",
      "simulation/runs/GRGDSPYQ_2024_08_15_19_08_1723750361/328\n"
     ]
    },
    {
     "name": "stderr",
     "output_type": "stream",
     "text": [
      "Traceback (most recent call last):\n",
      "  File \"/home/ubuntu/CTP/simulation/runs/GRGDSPYQ_2024_08_15_19_08_1723750361/328/da.py\", line 146, in <module>\n",
      "    main()\n",
      "  File \"/home/ubuntu/CTP/simulation/runs/GRGDSPYQ_2024_08_15_19_08_1723750361/328/da.py\", line 133, in main\n",
      "    dense, dilute, dense_stdev, dilute_stdev = process_density_file(file_name)\n",
      "  File \"/home/ubuntu/CTP/simulation/runs/GRGDSPYQ_2024_08_15_19_08_1723750361/328/da.py\", line 121, in process_density_file\n",
      "    dense, dilute, dense_stdev, dilute_stdev = get_dilute_and_dense_concentrations(density, zPosition)\n",
      "  File \"/home/ubuntu/CTP/simulation/runs/GRGDSPYQ_2024_08_15_19_08_1723750361/328/da.py\", line 99, in get_dilute_and_dense_concentrations\n",
      "    left_interface_coord, right_interface_coord = super_gaussian_fd_method(coords, density)\n",
      "  File \"/home/ubuntu/CTP/simulation/runs/GRGDSPYQ_2024_08_15_19_08_1723750361/328/da.py\", line 62, in super_gaussian_fd_method\n",
      "    popt, _ = curve_fit(super_gaussian, coords, avg_profile, p0=initial_guess, maxfev=20000)\n",
      "  File \"/home/ubuntu/anaconda3/envs/lammps/lib/python3.9/site-packages/scipy/optimize/_minpack_py.py\", line 1005, in curve_fit\n",
      "    raise RuntimeError(\"Optimal parameters not found: \" + errmsg)\n",
      "RuntimeError: Optimal parameters not found: Number of calls to function has reached maxfev = 20000.\n",
      "/home/ubuntu/CTP/simulation/runs/IDS_P22304_Wildtype_2024_08_15_20_08_1723755380/seq2config.py:67: DeprecationWarning: Conversion of an array with ndim > 0 to a scalar is deprecated, and will error in future. Ensure you extract a single element from your array before performing this operation. (Deprecated NumPy 1.25.)\n",
      "  typescharges.append([int(types[p,1]),float(charges[k,1])])\n"
     ]
    },
    {
     "name": "stdout",
     "output_type": "stream",
     "text": [
      "execution time: 1.3941070483790503 hours\n",
      "15-Aug-24 | 20:56\n",
      "\n",
      "\n",
      "running simulation for IDS_P22304_Wildtype\n",
      "15-Aug-24 | 20:56\n",
      "seq len 34\n",
      "total temps 14\n",
      "simulation/runs/IDS_P22304_Wildtype_2024_08_15_20_08_1723755380\n",
      "step 1: running input single chain\n",
      "step 2: running compress single chain\n",
      "step 3: direct coexistence\n",
      "running [{'temp': 250, 'dir': 'simulation/runs/IDS_P22304_Wildtype_2024_08_15_20_08_1723755380/250'}, {'temp': 270, 'dir': 'simulation/runs/IDS_P22304_Wildtype_2024_08_15_20_08_1723755380/270'}, {'temp': 290, 'dir': 'simulation/runs/IDS_P22304_Wildtype_2024_08_15_20_08_1723755380/290'}, {'temp': 300, 'dir': 'simulation/runs/IDS_P22304_Wildtype_2024_08_15_20_08_1723755380/300'}, {'temp': 307, 'dir': 'simulation/runs/IDS_P22304_Wildtype_2024_08_15_20_08_1723755380/307'}, {'temp': 314, 'dir': 'simulation/runs/IDS_P22304_Wildtype_2024_08_15_20_08_1723755380/314'}]\n",
      "15-Aug-24 | 20:58\n",
      "execution time: 0.28109467936886684 hours\n",
      "15-Aug-24 | 21:14\n",
      "running [{'temp': 321, 'dir': 'simulation/runs/IDS_P22304_Wildtype_2024_08_15_20_08_1723755380/321'}, {'temp': 328, 'dir': 'simulation/runs/IDS_P22304_Wildtype_2024_08_15_20_08_1723755380/328'}, {'temp': 335, 'dir': 'simulation/runs/IDS_P22304_Wildtype_2024_08_15_20_08_1723755380/335'}, {'temp': 342, 'dir': 'simulation/runs/IDS_P22304_Wildtype_2024_08_15_20_08_1723755380/342'}, {'temp': 349, 'dir': 'simulation/runs/IDS_P22304_Wildtype_2024_08_15_20_08_1723755380/349'}, {'temp': 356, 'dir': 'simulation/runs/IDS_P22304_Wildtype_2024_08_15_20_08_1723755380/356'}]\n",
      "15-Aug-24 | 21:14\n",
      "execution time: 0.27886907637119296 hours\n",
      "15-Aug-24 | 21:31\n",
      "running [{'temp': 363, 'dir': 'simulation/runs/IDS_P22304_Wildtype_2024_08_15_20_08_1723755380/363'}, {'temp': 370, 'dir': 'simulation/runs/IDS_P22304_Wildtype_2024_08_15_20_08_1723755380/370'}]\n",
      "remaining temp, CPUs_pp = 48\n",
      "15-Aug-24 | 21:31\n",
      "execution time: 0.23406650443871815 hours\n",
      "15-Aug-24 | 21:45\n",
      "calculating ps densities\n",
      "simulation/runs/IDS_P22304_Wildtype_2024_08_15_20_08_1723755380/300\n"
     ]
    },
    {
     "name": "stderr",
     "output_type": "stream",
     "text": [
      "/home/ubuntu/CTP/simulation/runs/IDS_P22304_Wildtype_2024_08_15_20_08_1723755380/300/da.py:62: OptimizeWarning: Covariance of the parameters could not be estimated\n",
      "  popt, _ = curve_fit(super_gaussian, coords, avg_profile, p0=initial_guess, maxfev=20000)\n"
     ]
    },
    {
     "name": "stdout",
     "output_type": "stream",
     "text": [
      "Dense phase concentration: 0.20706961145510833 +/- 0.00667500344561894\n",
      "Dilute phase concentration: 0.20804520065789472 +/- 0.0038892356238225505\n",
      "simulation/runs/IDS_P22304_Wildtype_2024_08_15_20_08_1723755380/314\n"
     ]
    },
    {
     "name": "stderr",
     "output_type": "stream",
     "text": [
      "/home/ubuntu/CTP/simulation/runs/IDS_P22304_Wildtype_2024_08_15_20_08_1723755380/314/da.py:62: OptimizeWarning: Covariance of the parameters could not be estimated\n",
      "  popt, _ = curve_fit(super_gaussian, coords, avg_profile, p0=initial_guess, maxfev=20000)\n"
     ]
    },
    {
     "name": "stdout",
     "output_type": "stream",
     "text": [
      "Dense phase concentration: 0.20739872755417957 +/- 0.003944801128102086\n",
      "Dilute phase concentration: 0.20734575986842108 +/- 0.0028526276185863505\n",
      "simulation/runs/IDS_P22304_Wildtype_2024_08_15_20_08_1723755380/290\n"
     ]
    },
    {
     "name": "stderr",
     "output_type": "stream",
     "text": [
      "/home/ubuntu/CTP/simulation/runs/IDS_P22304_Wildtype_2024_08_15_20_08_1723755380/290/da.py:62: OptimizeWarning: Covariance of the parameters could not be estimated\n",
      "  popt, _ = curve_fit(super_gaussian, coords, avg_profile, p0=initial_guess, maxfev=20000)\n"
     ]
    },
    {
     "name": "stdout",
     "output_type": "stream",
     "text": [
      "Dense phase concentration: 0.20679675077399381 +/- 0.004104490776338392\n",
      "Dilute phase concentration: 0.2086249967105263 +/- 0.002747761246333465\n",
      "simulation/runs/IDS_P22304_Wildtype_2024_08_15_20_08_1723755380/342\n"
     ]
    },
    {
     "name": "stderr",
     "output_type": "stream",
     "text": [
      "/home/ubuntu/CTP/simulation/runs/IDS_P22304_Wildtype_2024_08_15_20_08_1723755380/342/da.py:62: OptimizeWarning: Covariance of the parameters could not be estimated\n",
      "  popt, _ = curve_fit(super_gaussian, coords, avg_profile, p0=initial_guess, maxfev=20000)\n"
     ]
    },
    {
     "name": "stdout",
     "output_type": "stream",
     "text": [
      "Dense phase concentration: 0.20769369814241484 +/- 0.003518167719409011\n",
      "Dilute phase concentration: 0.20671901644736843 +/- 0.0042427048948394785\n",
      "simulation/runs/IDS_P22304_Wildtype_2024_08_15_20_08_1723755380/328\n"
     ]
    },
    {
     "name": "stderr",
     "output_type": "stream",
     "text": [
      "/home/ubuntu/CTP/simulation/runs/IDS_P22304_Wildtype_2024_08_15_20_08_1723755380/328/da.py:62: OptimizeWarning: Covariance of the parameters could not be estimated\n",
      "  popt, _ = curve_fit(super_gaussian, coords, avg_profile, p0=initial_guess, maxfev=20000)\n"
     ]
    },
    {
     "name": "stdout",
     "output_type": "stream",
     "text": [
      "Dense phase concentration: 0.20667968111455107 +/- 0.0042337954085166565\n",
      "Dilute phase concentration: 0.20887375 +/- 0.005068681643007856\n",
      "simulation/runs/IDS_P22304_Wildtype_2024_08_15_20_08_1723755380/307\n"
     ]
    },
    {
     "name": "stderr",
     "output_type": "stream",
     "text": [
      "/home/ubuntu/CTP/simulation/runs/IDS_P22304_Wildtype_2024_08_15_20_08_1723755380/307/da.py:62: OptimizeWarning: Covariance of the parameters could not be estimated\n",
      "  popt, _ = curve_fit(super_gaussian, coords, avg_profile, p0=initial_guess, maxfev=20000)\n"
     ]
    },
    {
     "name": "stdout",
     "output_type": "stream",
     "text": [
      "Dense phase concentration: 0.20710501547987614 +/- 0.00464507059340863\n",
      "Dilute phase concentration: 0.20796991447368424 +/- 0.00313060122695314\n",
      "simulation/runs/IDS_P22304_Wildtype_2024_08_15_20_08_1723755380/363\n"
     ]
    },
    {
     "name": "stderr",
     "output_type": "stream",
     "text": [
      "/home/ubuntu/CTP/simulation/runs/IDS_P22304_Wildtype_2024_08_15_20_08_1723755380/363/da.py:62: OptimizeWarning: Covariance of the parameters could not be estimated\n",
      "  popt, _ = curve_fit(super_gaussian, coords, avg_profile, p0=initial_guess, maxfev=20000)\n"
     ]
    },
    {
     "name": "stdout",
     "output_type": "stream",
     "text": [
      "Dense phase concentration: 0.2074238885448916 +/- 0.00556927077271653\n",
      "Dilute phase concentration: 0.20729230263157894 +/- 0.0051360560948035\n",
      "simulation/runs/IDS_P22304_Wildtype_2024_08_15_20_08_1723755380/250\n"
     ]
    },
    {
     "name": "stderr",
     "output_type": "stream",
     "text": [
      "/home/ubuntu/CTP/simulation/runs/IDS_P22304_Wildtype_2024_08_15_20_08_1723755380/250/da.py:62: OptimizeWarning: Covariance of the parameters could not be estimated\n",
      "  popt, _ = curve_fit(super_gaussian, coords, avg_profile, p0=initial_guess, maxfev=20000)\n"
     ]
    },
    {
     "name": "stdout",
     "output_type": "stream",
     "text": [
      "Dense phase concentration: 0.20698657120743036 +/- 0.006674615454971947\n",
      "Dilute phase concentration: 0.20822169078947367 +/- 0.005553511664597535\n",
      "simulation/runs/IDS_P22304_Wildtype_2024_08_15_20_08_1723755380/321\n"
     ]
    },
    {
     "name": "stderr",
     "output_type": "stream",
     "text": [
      "/home/ubuntu/CTP/simulation/runs/IDS_P22304_Wildtype_2024_08_15_20_08_1723755380/321/da.py:62: OptimizeWarning: Covariance of the parameters could not be estimated\n",
      "  popt, _ = curve_fit(super_gaussian, coords, avg_profile, p0=initial_guess, maxfev=20000)\n"
     ]
    },
    {
     "name": "stdout",
     "output_type": "stream",
     "text": [
      "Dense phase concentration: 0.20861980804953562 +/- 0.005760084490647465\n",
      "Dilute phase concentration: 0.2047510164473684 +/- 0.003515389028404179\n",
      "simulation/runs/IDS_P22304_Wildtype_2024_08_15_20_08_1723755380/349\n"
     ]
    },
    {
     "name": "stderr",
     "output_type": "stream",
     "text": [
      "/home/ubuntu/CTP/simulation/runs/IDS_P22304_Wildtype_2024_08_15_20_08_1723755380/349/da.py:62: OptimizeWarning: Covariance of the parameters could not be estimated\n",
      "  popt, _ = curve_fit(super_gaussian, coords, avg_profile, p0=initial_guess, maxfev=20000)\n"
     ]
    },
    {
     "name": "stdout",
     "output_type": "stream",
     "text": [
      "Dense phase concentration: 0.20691283436532507 +/- 0.004541526237360042\n",
      "Dilute phase concentration: 0.20837825 +/- 0.002216277649959618\n",
      "simulation/runs/IDS_P22304_Wildtype_2024_08_15_20_08_1723755380/356\n"
     ]
    },
    {
     "name": "stderr",
     "output_type": "stream",
     "text": [
      "/home/ubuntu/CTP/simulation/runs/IDS_P22304_Wildtype_2024_08_15_20_08_1723755380/356/da.py:62: OptimizeWarning: Covariance of the parameters could not be estimated\n",
      "  popt, _ = curve_fit(super_gaussian, coords, avg_profile, p0=initial_guess, maxfev=20000)\n"
     ]
    },
    {
     "name": "stdout",
     "output_type": "stream",
     "text": [
      "Dense phase concentration: 0.20723108359133127 +/- 0.003379067679713303\n",
      "Dilute phase concentration: 0.20770205263157895 +/- 0.0025850559742274792\n",
      "simulation/runs/IDS_P22304_Wildtype_2024_08_15_20_08_1723755380/370\n"
     ]
    },
    {
     "name": "stderr",
     "output_type": "stream",
     "text": [
      "/home/ubuntu/CTP/simulation/runs/IDS_P22304_Wildtype_2024_08_15_20_08_1723755380/370/da.py:62: OptimizeWarning: Covariance of the parameters could not be estimated\n",
      "  popt, _ = curve_fit(super_gaussian, coords, avg_profile, p0=initial_guess, maxfev=20000)\n"
     ]
    },
    {
     "name": "stdout",
     "output_type": "stream",
     "text": [
      "Dense phase concentration: 0.207694693498452 +/- 0.005685666959876653\n",
      "Dilute phase concentration: 0.20671688815789474 +/- 0.0028946022710870313\n",
      "simulation/runs/IDS_P22304_Wildtype_2024_08_15_20_08_1723755380/335\n"
     ]
    },
    {
     "name": "stderr",
     "output_type": "stream",
     "text": [
      "/home/ubuntu/CTP/simulation/runs/IDS_P22304_Wildtype_2024_08_15_20_08_1723755380/335/da.py:62: OptimizeWarning: Covariance of the parameters could not be estimated\n",
      "  popt, _ = curve_fit(super_gaussian, coords, avg_profile, p0=initial_guess, maxfev=20000)\n"
     ]
    },
    {
     "name": "stdout",
     "output_type": "stream",
     "text": [
      "Dense phase concentration: 0.20707156965944273 +/- 0.004461727260130896\n",
      "Dilute phase concentration: 0.20804106249999998 +/- 0.004264320460319901\n",
      "simulation/runs/IDS_P22304_Wildtype_2024_08_15_20_08_1723755380/270\n"
     ]
    },
    {
     "name": "stderr",
     "output_type": "stream",
     "text": [
      "/home/ubuntu/CTP/simulation/runs/IDS_P22304_Wildtype_2024_08_15_20_08_1723755380/270/da.py:62: OptimizeWarning: Covariance of the parameters could not be estimated\n",
      "  popt, _ = curve_fit(super_gaussian, coords, avg_profile, p0=initial_guess, maxfev=20000)\n"
     ]
    },
    {
     "name": "stdout",
     "output_type": "stream",
     "text": [
      "Dense phase concentration: 0.20753269659442725 +/- 0.0059716105801790684\n",
      "Dilute phase concentration: 0.20706114144736842 +/- 0.00688137717077934\n"
     ]
    },
    {
     "name": "stderr",
     "output_type": "stream",
     "text": [
      "/home/ubuntu/anaconda3/envs/lammps/lib/python3.9/site-packages/matplotlib/collections.py:197: ComplexWarning: Casting complex values to real discards the imaginary part\n",
      "  offsets = np.asanyarray(offsets, float)\n",
      "/home/ubuntu/anaconda3/envs/lammps/lib/python3.9/site-packages/matplotlib/cbook.py:1762: ComplexWarning: Casting complex values to real discards the imaginary part\n",
      "  return math.isfinite(val)\n",
      "/home/ubuntu/anaconda3/envs/lammps/lib/python3.9/site-packages/matplotlib/cbook.py:1398: ComplexWarning: Casting complex values to real discards the imaginary part\n",
      "  return np.asarray(x, float)\n"
     ]
    },
    {
     "name": "stdout",
     "output_type": "stream",
     "text": [
      "File densities_chunked_temp250.txt read successfully with 2 lines.\n",
      "Original data lines:\n",
      "Dense phase concentration: 0.20698657120743036 +/- 0.006674615454971947\n",
      "Dilute phase concentration: 0.20822169078947367 +/- 0.005553511664597535\n",
      "Filtered data lines: 2\n",
      "Dense phase concentration: 0.20698657120743036 +/- 0.006674615454971947\n",
      "Dilute phase concentration: 0.20822169078947367 +/- 0.005553511664597535\n",
      "File densities_chunked_temp270.txt read successfully with 2 lines.\n",
      "Original data lines:\n",
      "Dense phase concentration: 0.20753269659442725 +/- 0.0059716105801790684\n",
      "Dilute phase concentration: 0.20706114144736842 +/- 0.00688137717077934\n",
      "Filtered data lines: 2\n",
      "Dense phase concentration: 0.20753269659442725 +/- 0.0059716105801790684\n",
      "Dilute phase concentration: 0.20706114144736842 +/- 0.00688137717077934\n",
      "File densities_chunked_temp290.txt read successfully with 2 lines.\n",
      "Original data lines:\n",
      "Dense phase concentration: 0.20679675077399381 +/- 0.004104490776338392\n",
      "Dilute phase concentration: 0.2086249967105263 +/- 0.002747761246333465\n",
      "Filtered data lines: 2\n",
      "Dense phase concentration: 0.20679675077399381 +/- 0.004104490776338392\n",
      "Dilute phase concentration: 0.2086249967105263 +/- 0.002747761246333465\n",
      "File densities_chunked_temp300.txt read successfully with 2 lines.\n",
      "Original data lines:\n",
      "Dense phase concentration: 0.20706961145510833 +/- 0.00667500344561894\n",
      "Dilute phase concentration: 0.20804520065789472 +/- 0.0038892356238225505\n",
      "Filtered data lines: 2\n",
      "Dense phase concentration: 0.20706961145510833 +/- 0.00667500344561894\n",
      "Dilute phase concentration: 0.20804520065789472 +/- 0.0038892356238225505\n",
      "File densities_chunked_temp307.txt read successfully with 2 lines.\n",
      "Original data lines:\n",
      "Dense phase concentration: 0.20710501547987614 +/- 0.00464507059340863\n",
      "Dilute phase concentration: 0.20796991447368424 +/- 0.00313060122695314\n",
      "Filtered data lines: 2\n",
      "Dense phase concentration: 0.20710501547987614 +/- 0.00464507059340863\n",
      "Dilute phase concentration: 0.20796991447368424 +/- 0.00313060122695314\n",
      "File densities_chunked_temp314.txt read successfully with 2 lines.\n",
      "Original data lines:\n",
      "Dense phase concentration: 0.20739872755417957 +/- 0.003944801128102086\n",
      "Dilute phase concentration: 0.20734575986842108 +/- 0.0028526276185863505\n",
      "Filtered data lines: 2\n",
      "Dense phase concentration: 0.20739872755417957 +/- 0.003944801128102086\n",
      "Dilute phase concentration: 0.20734575986842108 +/- 0.0028526276185863505\n",
      "File densities_chunked_temp321.txt read successfully with 2 lines.\n",
      "Original data lines:\n",
      "Dense phase concentration: 0.20861980804953562 +/- 0.005760084490647465\n",
      "Dilute phase concentration: 0.2047510164473684 +/- 0.003515389028404179\n",
      "Filtered data lines: 2\n",
      "Dense phase concentration: 0.20861980804953562 +/- 0.005760084490647465\n",
      "Dilute phase concentration: 0.2047510164473684 +/- 0.003515389028404179\n",
      "File densities_chunked_temp328.txt read successfully with 2 lines.\n",
      "Original data lines:\n",
      "Dense phase concentration: 0.20667968111455107 +/- 0.0042337954085166565\n",
      "Dilute phase concentration: 0.20887375 +/- 0.005068681643007856\n",
      "Filtered data lines: 2\n",
      "Dense phase concentration: 0.20667968111455107 +/- 0.0042337954085166565\n",
      "Dilute phase concentration: 0.20887375 +/- 0.005068681643007856\n",
      "File densities_chunked_temp335.txt read successfully with 2 lines.\n",
      "Original data lines:\n",
      "Dense phase concentration: 0.20707156965944273 +/- 0.004461727260130896\n",
      "Dilute phase concentration: 0.20804106249999998 +/- 0.004264320460319901\n",
      "Filtered data lines: 2\n",
      "Dense phase concentration: 0.20707156965944273 +/- 0.004461727260130896\n",
      "Dilute phase concentration: 0.20804106249999998 +/- 0.004264320460319901\n",
      "File densities_chunked_temp342.txt read successfully with 2 lines.\n",
      "Original data lines:\n",
      "Dense phase concentration: 0.20769369814241484 +/- 0.003518167719409011\n",
      "Dilute phase concentration: 0.20671901644736843 +/- 0.0042427048948394785\n",
      "Filtered data lines: 2\n",
      "Dense phase concentration: 0.20769369814241484 +/- 0.003518167719409011\n",
      "Dilute phase concentration: 0.20671901644736843 +/- 0.0042427048948394785\n",
      "File densities_chunked_temp349.txt read successfully with 2 lines.\n",
      "Original data lines:\n",
      "Dense phase concentration: 0.20691283436532507 +/- 0.004541526237360042\n",
      "Dilute phase concentration: 0.20837825 +/- 0.002216277649959618\n",
      "Filtered data lines: 2\n",
      "Dense phase concentration: 0.20691283436532507 +/- 0.004541526237360042\n",
      "Dilute phase concentration: 0.20837825 +/- 0.002216277649959618\n",
      "File densities_chunked_temp356.txt read successfully with 2 lines.\n",
      "Original data lines:\n",
      "Dense phase concentration: 0.20723108359133127 +/- 0.003379067679713303\n",
      "Dilute phase concentration: 0.20770205263157895 +/- 0.0025850559742274792\n",
      "Filtered data lines: 2\n",
      "Dense phase concentration: 0.20723108359133127 +/- 0.003379067679713303\n",
      "Dilute phase concentration: 0.20770205263157895 +/- 0.0025850559742274792\n",
      "File densities_chunked_temp363.txt read successfully with 2 lines.\n",
      "Original data lines:\n",
      "Dense phase concentration: 0.2074238885448916 +/- 0.00556927077271653\n",
      "Dilute phase concentration: 0.20729230263157894 +/- 0.0051360560948035\n",
      "Filtered data lines: 2\n",
      "Dense phase concentration: 0.2074238885448916 +/- 0.00556927077271653\n",
      "Dilute phase concentration: 0.20729230263157894 +/- 0.0051360560948035\n",
      "File densities_chunked_temp370.txt read successfully with 2 lines.\n",
      "Original data lines:\n",
      "Dense phase concentration: 0.207694693498452 +/- 0.005685666959876653\n",
      "Dilute phase concentration: 0.20671688815789474 +/- 0.0028946022710870313\n",
      "Filtered data lines: 2\n",
      "Dense phase concentration: 0.207694693498452 +/- 0.005685666959876653\n",
      "Dilute phase concentration: 0.20671688815789474 +/- 0.0028946022710870313\n",
      "Temperatures: [250, 270, 290, 300, 307, 314, 321, 328, 335, 342, 349, 356, 363, 370]\n",
      "Dense phase concentrations: [0.20698657120743036, 0.20753269659442725, 0.20679675077399381, 0.20706961145510833, 0.20710501547987614, 0.20739872755417957, 0.20861980804953562, 0.20667968111455107, 0.20707156965944273, 0.20769369814241484, 0.20691283436532507, 0.20723108359133127, 0.2074238885448916, 0.207694693498452]\n",
      "Dilute phase concentrations: [0.20822169078947367, 0.20706114144736842, 0.2086249967105263, 0.20804520065789472, 0.20796991447368424, 0.20734575986842108, 0.2047510164473684, 0.20887375, 0.20804106249999998, 0.20671901644736843, 0.20837825, 0.20770205263157895, 0.20729230263157894, 0.20671688815789474]\n",
      "Dense std dev: [0.006674615454971947, 0.0059716105801790684, 0.004104490776338392, 0.00667500344561894, 0.00464507059340863, 0.003944801128102086, 0.005760084490647465, 0.0042337954085166565, 0.004461727260130896, 0.003518167719409011, 0.004541526237360042, 0.003379067679713303, 0.00556927077271653, 0.005685666959876653]\n",
      "Dilute std dev: [0.005553511664597535, 0.00688137717077934, 0.002747761246333465, 0.0038892356238225505, 0.00313060122695314, 0.0028526276185863505, 0.003515389028404179, 0.005068681643007856, 0.004264320460319901, 0.0042427048948394785, 0.002216277649959618, 0.0025850559742274792, 0.0051360560948035, 0.0028946022710870313]\n",
      "Critical Solution Temperature: 127.98+51.51j K written to critical_solution_temperature.txt\n",
      "execution time: 0.8268698598941168 hours\n",
      "15-Aug-24 | 21:45\n",
      "\n",
      "\n",
      "running simulation for QYPSDGRG\n",
      "15-Aug-24 | 21:45\n",
      "seq len 34\n",
      "total temps 14\n",
      "simulation/runs/QYPSDGRG_2024_08_15_21_08_1723758357\n",
      "step 1: running input single chain\n"
     ]
    },
    {
     "name": "stderr",
     "output_type": "stream",
     "text": [
      "/home/ubuntu/CTP/simulation/runs/QYPSDGRG_2024_08_15_21_08_1723758357/seq2config.py:67: DeprecationWarning: Conversion of an array with ndim > 0 to a scalar is deprecated, and will error in future. Ensure you extract a single element from your array before performing this operation. (Deprecated NumPy 1.25.)\n",
      "  typescharges.append([int(types[p,1]),float(charges[k,1])])\n"
     ]
    },
    {
     "name": "stdout",
     "output_type": "stream",
     "text": [
      "step 2: running compress single chain\n",
      "step 3: direct coexistence\n",
      "running [{'temp': 250, 'dir': 'simulation/runs/QYPSDGRG_2024_08_15_21_08_1723758357/250'}, {'temp': 270, 'dir': 'simulation/runs/QYPSDGRG_2024_08_15_21_08_1723758357/270'}, {'temp': 290, 'dir': 'simulation/runs/QYPSDGRG_2024_08_15_21_08_1723758357/290'}, {'temp': 300, 'dir': 'simulation/runs/QYPSDGRG_2024_08_15_21_08_1723758357/300'}, {'temp': 307, 'dir': 'simulation/runs/QYPSDGRG_2024_08_15_21_08_1723758357/307'}, {'temp': 314, 'dir': 'simulation/runs/QYPSDGRG_2024_08_15_21_08_1723758357/314'}]\n",
      "15-Aug-24 | 21:47\n",
      "execution time: 0.6374591919448641 hours\n",
      "15-Aug-24 | 22:26\n",
      "running [{'temp': 321, 'dir': 'simulation/runs/QYPSDGRG_2024_08_15_21_08_1723758357/321'}, {'temp': 328, 'dir': 'simulation/runs/QYPSDGRG_2024_08_15_21_08_1723758357/328'}, {'temp': 335, 'dir': 'simulation/runs/QYPSDGRG_2024_08_15_21_08_1723758357/335'}, {'temp': 342, 'dir': 'simulation/runs/QYPSDGRG_2024_08_15_21_08_1723758357/342'}, {'temp': 349, 'dir': 'simulation/runs/QYPSDGRG_2024_08_15_21_08_1723758357/349'}, {'temp': 356, 'dir': 'simulation/runs/QYPSDGRG_2024_08_15_21_08_1723758357/356'}]\n",
      "15-Aug-24 | 22:26\n",
      "execution time: 0.43626303593317667 hours\n",
      "15-Aug-24 | 22:52\n",
      "running [{'temp': 363, 'dir': 'simulation/runs/QYPSDGRG_2024_08_15_21_08_1723758357/363'}, {'temp': 370, 'dir': 'simulation/runs/QYPSDGRG_2024_08_15_21_08_1723758357/370'}]\n",
      "remaining temp, CPUs_pp = 48\n",
      "15-Aug-24 | 22:52\n",
      "execution time: 0.293984010219574 hours\n",
      "15-Aug-24 | 23:10\n",
      "calculating ps densities\n",
      "simulation/runs/QYPSDGRG_2024_08_15_21_08_1723758357/300\n"
     ]
    },
    {
     "name": "stderr",
     "output_type": "stream",
     "text": [
      "/home/ubuntu/CTP/simulation/runs/QYPSDGRG_2024_08_15_21_08_1723758357/300/da.py:62: OptimizeWarning: Covariance of the parameters could not be estimated\n",
      "  popt, _ = curve_fit(super_gaussian, coords, avg_profile, p0=initial_guess, maxfev=20000)\n"
     ]
    },
    {
     "name": "stdout",
     "output_type": "stream",
     "text": [
      "Dense phase concentration: 0.2970441285584083 +/- 0.2145477371478623\n",
      "Dilute phase concentration: 0.024855686495906432 +/- 0.014109984268845528\n",
      "simulation/runs/QYPSDGRG_2024_08_15_21_08_1723758357/314\n"
     ]
    },
    {
     "name": "stderr",
     "output_type": "stream",
     "text": [
      "/home/ubuntu/CTP/simulation/runs/QYPSDGRG_2024_08_15_21_08_1723758357/314/da.py:62: OptimizeWarning: Covariance of the parameters could not be estimated\n",
      "  popt, _ = curve_fit(super_gaussian, coords, avg_profile, p0=initial_guess, maxfev=20000)\n"
     ]
    },
    {
     "name": "stdout",
     "output_type": "stream",
     "text": [
      "Dense phase concentration: 0.24965224597925698 +/- 0.04070949853384222\n",
      "Dilute phase concentration: 0.24464588417993421 +/- 0.024258371161746083\n",
      "simulation/runs/QYPSDGRG_2024_08_15_21_08_1723758357/290\n"
     ]
    },
    {
     "name": "stderr",
     "output_type": "stream",
     "text": [
      "/home/ubuntu/CTP/simulation/runs/QYPSDGRG_2024_08_15_21_08_1723758357/290/da.py:62: OptimizeWarning: Covariance of the parameters could not be estimated\n",
      "  popt, _ = curve_fit(super_gaussian, coords, avg_profile, p0=initial_guess, maxfev=20000)\n"
     ]
    },
    {
     "name": "stdout",
     "output_type": "stream",
     "text": [
      "Dense phase concentration: 0.34172786729210525 +/- 0.2661689299626015\n",
      "Dilute phase concentration: 0.007164785987218044 +/- 0.001821863970220998\n",
      "simulation/runs/QYPSDGRG_2024_08_15_21_08_1723758357/342\n"
     ]
    },
    {
     "name": "stderr",
     "output_type": "stream",
     "text": [
      "/home/ubuntu/CTP/simulation/runs/QYPSDGRG_2024_08_15_21_08_1723758357/342/da.py:62: OptimizeWarning: Covariance of the parameters could not be estimated\n",
      "  popt, _ = curve_fit(super_gaussian, coords, avg_profile, p0=initial_guess, maxfev=20000)\n"
     ]
    },
    {
     "name": "stdout",
     "output_type": "stream",
     "text": [
      "Dense phase concentration: 0.25978301671826626 +/- 0.013724594169204444\n",
      "Dilute phase concentration: 0.2231180345394737 +/- 0.021335771543403652\n",
      "simulation/runs/QYPSDGRG_2024_08_15_21_08_1723758357/328\n"
     ]
    },
    {
     "name": "stderr",
     "output_type": "stream",
     "text": [
      "Traceback (most recent call last):\n",
      "  File \"/home/ubuntu/CTP/simulation/runs/QYPSDGRG_2024_08_15_21_08_1723758357/328/da.py\", line 146, in <module>\n",
      "    main()\n",
      "  File \"/home/ubuntu/CTP/simulation/runs/QYPSDGRG_2024_08_15_21_08_1723758357/328/da.py\", line 133, in main\n",
      "    dense, dilute, dense_stdev, dilute_stdev = process_density_file(file_name)\n",
      "  File \"/home/ubuntu/CTP/simulation/runs/QYPSDGRG_2024_08_15_21_08_1723758357/328/da.py\", line 121, in process_density_file\n",
      "    dense, dilute, dense_stdev, dilute_stdev = get_dilute_and_dense_concentrations(density, zPosition)\n",
      "  File \"/home/ubuntu/CTP/simulation/runs/QYPSDGRG_2024_08_15_21_08_1723758357/328/da.py\", line 99, in get_dilute_and_dense_concentrations\n",
      "    left_interface_coord, right_interface_coord = super_gaussian_fd_method(coords, density)\n",
      "  File \"/home/ubuntu/CTP/simulation/runs/QYPSDGRG_2024_08_15_21_08_1723758357/328/da.py\", line 62, in super_gaussian_fd_method\n",
      "    popt, _ = curve_fit(super_gaussian, coords, avg_profile, p0=initial_guess, maxfev=20000)\n",
      "  File \"/home/ubuntu/anaconda3/envs/lammps/lib/python3.9/site-packages/scipy/optimize/_minpack_py.py\", line 1005, in curve_fit\n",
      "    raise RuntimeError(\"Optimal parameters not found: \" + errmsg)\n",
      "RuntimeError: Optimal parameters not found: Number of calls to function has reached maxfev = 20000.\n",
      "/home/ubuntu/CTP/simulation/runs/VPHSRNGG_2024_08_15_23_08_1723763405/seq2config.py:67: DeprecationWarning: Conversion of an array with ndim > 0 to a scalar is deprecated, and will error in future. Ensure you extract a single element from your array before performing this operation. (Deprecated NumPy 1.25.)\n",
      "  typescharges.append([int(types[p,1]),float(charges[k,1])])\n"
     ]
    },
    {
     "name": "stdout",
     "output_type": "stream",
     "text": [
      "execution time: 1.4022019341919156 hours\n",
      "15-Aug-24 | 23:10\n",
      "\n",
      "\n",
      "running simulation for VPHSRNGG\n",
      "15-Aug-24 | 23:10\n",
      "seq len 34\n",
      "total temps 14\n",
      "simulation/runs/VPHSRNGG_2024_08_15_23_08_1723763405\n",
      "step 1: running input single chain\n",
      "step 2: running compress single chain\n",
      "step 3: direct coexistence\n",
      "running [{'temp': 250, 'dir': 'simulation/runs/VPHSRNGG_2024_08_15_23_08_1723763405/250'}, {'temp': 270, 'dir': 'simulation/runs/VPHSRNGG_2024_08_15_23_08_1723763405/270'}, {'temp': 290, 'dir': 'simulation/runs/VPHSRNGG_2024_08_15_23_08_1723763405/290'}, {'temp': 300, 'dir': 'simulation/runs/VPHSRNGG_2024_08_15_23_08_1723763405/300'}, {'temp': 307, 'dir': 'simulation/runs/VPHSRNGG_2024_08_15_23_08_1723763405/307'}, {'temp': 314, 'dir': 'simulation/runs/VPHSRNGG_2024_08_15_23_08_1723763405/314'}]\n",
      "15-Aug-24 | 23:12\n",
      "execution time: 0.3243069916301303 hours\n",
      "15-Aug-24 | 23:31\n",
      "running [{'temp': 321, 'dir': 'simulation/runs/VPHSRNGG_2024_08_15_23_08_1723763405/321'}, {'temp': 328, 'dir': 'simulation/runs/VPHSRNGG_2024_08_15_23_08_1723763405/328'}, {'temp': 335, 'dir': 'simulation/runs/VPHSRNGG_2024_08_15_23_08_1723763405/335'}, {'temp': 342, 'dir': 'simulation/runs/VPHSRNGG_2024_08_15_23_08_1723763405/342'}, {'temp': 349, 'dir': 'simulation/runs/VPHSRNGG_2024_08_15_23_08_1723763405/349'}, {'temp': 356, 'dir': 'simulation/runs/VPHSRNGG_2024_08_15_23_08_1723763405/356'}]\n",
      "15-Aug-24 | 23:31\n",
      "execution time: 0.32195303837458294 hours\n",
      "15-Aug-24 | 23:50\n",
      "running [{'temp': 363, 'dir': 'simulation/runs/VPHSRNGG_2024_08_15_23_08_1723763405/363'}, {'temp': 370, 'dir': 'simulation/runs/VPHSRNGG_2024_08_15_23_08_1723763405/370'}]\n",
      "remaining temp, CPUs_pp = 48\n",
      "15-Aug-24 | 23:50\n",
      "execution time: 0.2560795636309518 hours\n",
      "16-Aug-24 | 00:06\n",
      "calculating ps densities\n",
      "simulation/runs/VPHSRNGG_2024_08_15_23_08_1723763405/300\n"
     ]
    },
    {
     "name": "stderr",
     "output_type": "stream",
     "text": [
      "/home/ubuntu/CTP/simulation/runs/VPHSRNGG_2024_08_15_23_08_1723763405/300/da.py:62: OptimizeWarning: Covariance of the parameters could not be estimated\n",
      "  popt, _ = curve_fit(super_gaussian, coords, avg_profile, p0=initial_guess, maxfev=20000)\n"
     ]
    },
    {
     "name": "stdout",
     "output_type": "stream",
     "text": [
      "Dense phase concentration: 0.21659471671826624 +/- 0.0044767726773713035\n",
      "Dilute phase concentration: 0.21783398355263156 +/- 0.004397385680291448\n",
      "simulation/runs/VPHSRNGG_2024_08_15_23_08_1723763405/314\n"
     ]
    },
    {
     "name": "stderr",
     "output_type": "stream",
     "text": [
      "/home/ubuntu/CTP/simulation/runs/VPHSRNGG_2024_08_15_23_08_1723763405/314/da.py:62: OptimizeWarning: Covariance of the parameters could not be estimated\n",
      "  popt, _ = curve_fit(super_gaussian, coords, avg_profile, p0=initial_guess, maxfev=20000)\n"
     ]
    },
    {
     "name": "stdout",
     "output_type": "stream",
     "text": [
      "Dense phase concentration: 0.21723072445820432 +/- 0.005000606129010456\n",
      "Dilute phase concentration: 0.21648253289473682 +/- 0.003198217491545161\n",
      "simulation/runs/VPHSRNGG_2024_08_15_23_08_1723763405/290\n"
     ]
    },
    {
     "name": "stderr",
     "output_type": "stream",
     "text": [
      "/home/ubuntu/CTP/simulation/runs/VPHSRNGG_2024_08_15_23_08_1723763405/290/da.py:62: OptimizeWarning: Covariance of the parameters could not be estimated\n",
      "  popt, _ = curve_fit(super_gaussian, coords, avg_profile, p0=initial_guess, maxfev=20000)\n"
     ]
    },
    {
     "name": "stdout",
     "output_type": "stream",
     "text": [
      "Dense phase concentration: 0.218477346749226 +/- 0.005421184025747182\n",
      "Dilute phase concentration: 0.21383340131578948 +/- 0.002799691553788675\n",
      "simulation/runs/VPHSRNGG_2024_08_15_23_08_1723763405/342\n"
     ]
    },
    {
     "name": "stderr",
     "output_type": "stream",
     "text": [
      "/home/ubuntu/CTP/simulation/runs/VPHSRNGG_2024_08_15_23_08_1723763405/342/da.py:62: OptimizeWarning: Covariance of the parameters could not be estimated\n",
      "  popt, _ = curve_fit(super_gaussian, coords, avg_profile, p0=initial_guess, maxfev=20000)\n"
     ]
    },
    {
     "name": "stdout",
     "output_type": "stream",
     "text": [
      "Dense phase concentration: 0.21701957894736842 +/- 0.004021563524167527\n",
      "Dilute phase concentration: 0.21693114144736841 +/- 0.002949518707846391\n",
      "simulation/runs/VPHSRNGG_2024_08_15_23_08_1723763405/328\n"
     ]
    },
    {
     "name": "stderr",
     "output_type": "stream",
     "text": [
      "/home/ubuntu/CTP/simulation/runs/VPHSRNGG_2024_08_15_23_08_1723763405/328/da.py:62: OptimizeWarning: Covariance of the parameters could not be estimated\n",
      "  popt, _ = curve_fit(super_gaussian, coords, avg_profile, p0=initial_guess, maxfev=20000)\n"
     ]
    },
    {
     "name": "stdout",
     "output_type": "stream",
     "text": [
      "Dense phase concentration: 0.21677449535603716 +/- 0.0030484139322040876\n",
      "Dilute phase concentration: 0.21745197368421054 +/- 0.0043716535494287175\n",
      "simulation/runs/VPHSRNGG_2024_08_15_23_08_1723763405/307\n"
     ]
    },
    {
     "name": "stderr",
     "output_type": "stream",
     "text": [
      "/home/ubuntu/CTP/simulation/runs/VPHSRNGG_2024_08_15_23_08_1723763405/307/da.py:62: OptimizeWarning: Covariance of the parameters could not be estimated\n",
      "  popt, _ = curve_fit(super_gaussian, coords, avg_profile, p0=initial_guess, maxfev=20000)\n"
     ]
    },
    {
     "name": "stdout",
     "output_type": "stream",
     "text": [
      "Dense phase concentration: 0.21739235448916408 +/- 0.004066853138978349\n",
      "Dilute phase concentration: 0.21613900657894738 +/- 0.0036765646255157553\n",
      "simulation/runs/VPHSRNGG_2024_08_15_23_08_1723763405/363\n"
     ]
    },
    {
     "name": "stderr",
     "output_type": "stream",
     "text": [
      "/home/ubuntu/CTP/simulation/runs/VPHSRNGG_2024_08_15_23_08_1723763405/363/da.py:62: OptimizeWarning: Covariance of the parameters could not be estimated\n",
      "  popt, _ = curve_fit(super_gaussian, coords, avg_profile, p0=initial_guess, maxfev=20000)\n"
     ]
    },
    {
     "name": "stdout",
     "output_type": "stream",
     "text": [
      "Dense phase concentration: 0.21705315944272446 +/- 0.00385270969865065\n",
      "Dilute phase concentration: 0.21685975328947368 +/- 0.00447127434441911\n",
      "simulation/runs/VPHSRNGG_2024_08_15_23_08_1723763405/250\n"
     ]
    },
    {
     "name": "stderr",
     "output_type": "stream",
     "text": [
      "/home/ubuntu/CTP/simulation/runs/VPHSRNGG_2024_08_15_23_08_1723763405/250/da.py:62: OptimizeWarning: Covariance of the parameters could not be estimated\n",
      "  popt, _ = curve_fit(super_gaussian, coords, avg_profile, p0=initial_guess, maxfev=20000)\n"
     ]
    },
    {
     "name": "stdout",
     "output_type": "stream",
     "text": [
      "Dense phase concentration: 0.21657545665634675 +/- 0.004925332620921174\n",
      "Dilute phase concentration: 0.21787493092105265 +/- 0.004261571502260365\n",
      "simulation/runs/VPHSRNGG_2024_08_15_23_08_1723763405/321\n"
     ]
    },
    {
     "name": "stderr",
     "output_type": "stream",
     "text": [
      "/home/ubuntu/CTP/simulation/runs/VPHSRNGG_2024_08_15_23_08_1723763405/321/da.py:62: OptimizeWarning: Covariance of the parameters could not be estimated\n",
      "  popt, _ = curve_fit(super_gaussian, coords, avg_profile, p0=initial_guess, maxfev=20000)\n"
     ]
    },
    {
     "name": "stdout",
     "output_type": "stream",
     "text": [
      "Dense phase concentration: 0.21796272755417956 +/- 0.0036011679340515017\n",
      "Dilute phase concentration: 0.2149269539473684 +/- 0.004507757957601487\n",
      "simulation/runs/VPHSRNGG_2024_08_15_23_08_1723763405/349\n"
     ]
    },
    {
     "name": "stderr",
     "output_type": "stream",
     "text": [
      "/home/ubuntu/CTP/simulation/runs/VPHSRNGG_2024_08_15_23_08_1723763405/349/da.py:62: OptimizeWarning: Covariance of the parameters could not be estimated\n",
      "  popt, _ = curve_fit(super_gaussian, coords, avg_profile, p0=initial_guess, maxfev=20000)\n"
     ]
    },
    {
     "name": "stdout",
     "output_type": "stream",
     "text": [
      "Dense phase concentration: 0.21740921826625387 +/- 0.0043822379986897374\n",
      "Dilute phase concentration: 0.21610317763157894 +/- 0.0021447625715985802\n",
      "simulation/runs/VPHSRNGG_2024_08_15_23_08_1723763405/356\n"
     ]
    },
    {
     "name": "stderr",
     "output_type": "stream",
     "text": [
      "/home/ubuntu/CTP/simulation/runs/VPHSRNGG_2024_08_15_23_08_1723763405/356/da.py:62: OptimizeWarning: Covariance of the parameters could not be estimated\n",
      "  popt, _ = curve_fit(super_gaussian, coords, avg_profile, p0=initial_guess, maxfev=20000)\n"
     ]
    },
    {
     "name": "stdout",
     "output_type": "stream",
     "text": [
      "Dense phase concentration: 0.2180033452012384 +/- 0.002671403034747384\n",
      "Dilute phase concentration: 0.2148406282894737 +/- 0.0018997233970431363\n",
      "simulation/runs/VPHSRNGG_2024_08_15_23_08_1723763405/370\n"
     ]
    },
    {
     "name": "stderr",
     "output_type": "stream",
     "text": [
      "/home/ubuntu/CTP/simulation/runs/VPHSRNGG_2024_08_15_23_08_1723763405/370/da.py:62: OptimizeWarning: Covariance of the parameters could not be estimated\n",
      "  popt, _ = curve_fit(super_gaussian, coords, avg_profile, p0=initial_guess, maxfev=20000)\n"
     ]
    },
    {
     "name": "stdout",
     "output_type": "stream",
     "text": [
      "Dense phase concentration: 0.21689156346749228 +/- 0.004267423558696606\n",
      "Dilute phase concentration: 0.2172031677631579 +/- 0.0032035494993001607\n",
      "simulation/runs/VPHSRNGG_2024_08_15_23_08_1723763405/335\n"
     ]
    },
    {
     "name": "stderr",
     "output_type": "stream",
     "text": [
      "/home/ubuntu/CTP/simulation/runs/VPHSRNGG_2024_08_15_23_08_1723763405/335/da.py:62: OptimizeWarning: Covariance of the parameters could not be estimated\n",
      "  popt, _ = curve_fit(super_gaussian, coords, avg_profile, p0=initial_guess, maxfev=20000)\n"
     ]
    },
    {
     "name": "stdout",
     "output_type": "stream",
     "text": [
      "Dense phase concentration: 0.21722847523219818 +/- 0.00448254293804061\n",
      "Dilute phase concentration: 0.21648729605263156 +/- 0.005758362610641623\n",
      "simulation/runs/VPHSRNGG_2024_08_15_23_08_1723763405/270\n"
     ]
    },
    {
     "name": "stderr",
     "output_type": "stream",
     "text": [
      "/home/ubuntu/CTP/simulation/runs/VPHSRNGG_2024_08_15_23_08_1723763405/270/da.py:62: OptimizeWarning: Covariance of the parameters could not be estimated\n",
      "  popt, _ = curve_fit(super_gaussian, coords, avg_profile, p0=initial_guess, maxfev=20000)\n"
     ]
    },
    {
     "name": "stdout",
     "output_type": "stream",
     "text": [
      "Dense phase concentration: 0.21783764551083593 +/- 0.004746592001705184\n",
      "Dilute phase concentration: 0.21519279934210528 +/- 0.00767627432264702\n"
     ]
    },
    {
     "name": "stderr",
     "output_type": "stream",
     "text": [
      "/home/ubuntu/anaconda3/envs/lammps/lib/python3.9/site-packages/matplotlib/collections.py:197: ComplexWarning: Casting complex values to real discards the imaginary part\n",
      "  offsets = np.asanyarray(offsets, float)\n",
      "/home/ubuntu/anaconda3/envs/lammps/lib/python3.9/site-packages/matplotlib/cbook.py:1762: ComplexWarning: Casting complex values to real discards the imaginary part\n",
      "  return math.isfinite(val)\n",
      "/home/ubuntu/anaconda3/envs/lammps/lib/python3.9/site-packages/matplotlib/cbook.py:1398: ComplexWarning: Casting complex values to real discards the imaginary part\n",
      "  return np.asarray(x, float)\n"
     ]
    },
    {
     "name": "stdout",
     "output_type": "stream",
     "text": [
      "File densities_chunked_temp250.txt read successfully with 2 lines.\n",
      "Original data lines:\n",
      "Dense phase concentration: 0.21657545665634675 +/- 0.004925332620921174\n",
      "Dilute phase concentration: 0.21787493092105265 +/- 0.004261571502260365\n",
      "Filtered data lines: 2\n",
      "Dense phase concentration: 0.21657545665634675 +/- 0.004925332620921174\n",
      "Dilute phase concentration: 0.21787493092105265 +/- 0.004261571502260365\n",
      "File densities_chunked_temp270.txt read successfully with 2 lines.\n",
      "Original data lines:\n",
      "Dense phase concentration: 0.21783764551083593 +/- 0.004746592001705184\n",
      "Dilute phase concentration: 0.21519279934210528 +/- 0.00767627432264702\n",
      "Filtered data lines: 2\n",
      "Dense phase concentration: 0.21783764551083593 +/- 0.004746592001705184\n",
      "Dilute phase concentration: 0.21519279934210528 +/- 0.00767627432264702\n",
      "File densities_chunked_temp290.txt read successfully with 2 lines.\n",
      "Original data lines:\n",
      "Dense phase concentration: 0.218477346749226 +/- 0.005421184025747182\n",
      "Dilute phase concentration: 0.21383340131578948 +/- 0.002799691553788675\n",
      "Filtered data lines: 2\n",
      "Dense phase concentration: 0.218477346749226 +/- 0.005421184025747182\n",
      "Dilute phase concentration: 0.21383340131578948 +/- 0.002799691553788675\n",
      "File densities_chunked_temp300.txt read successfully with 2 lines.\n",
      "Original data lines:\n",
      "Dense phase concentration: 0.21659471671826624 +/- 0.0044767726773713035\n",
      "Dilute phase concentration: 0.21783398355263156 +/- 0.004397385680291448\n",
      "Filtered data lines: 2\n",
      "Dense phase concentration: 0.21659471671826624 +/- 0.0044767726773713035\n",
      "Dilute phase concentration: 0.21783398355263156 +/- 0.004397385680291448\n",
      "File densities_chunked_temp307.txt read successfully with 2 lines.\n",
      "Original data lines:\n",
      "Dense phase concentration: 0.21739235448916408 +/- 0.004066853138978349\n",
      "Dilute phase concentration: 0.21613900657894738 +/- 0.0036765646255157553\n",
      "Filtered data lines: 2\n",
      "Dense phase concentration: 0.21739235448916408 +/- 0.004066853138978349\n",
      "Dilute phase concentration: 0.21613900657894738 +/- 0.0036765646255157553\n",
      "File densities_chunked_temp314.txt read successfully with 2 lines.\n",
      "Original data lines:\n",
      "Dense phase concentration: 0.21723072445820432 +/- 0.005000606129010456\n",
      "Dilute phase concentration: 0.21648253289473682 +/- 0.003198217491545161\n",
      "Filtered data lines: 2\n",
      "Dense phase concentration: 0.21723072445820432 +/- 0.005000606129010456\n",
      "Dilute phase concentration: 0.21648253289473682 +/- 0.003198217491545161\n",
      "File densities_chunked_temp321.txt read successfully with 2 lines.\n",
      "Original data lines:\n",
      "Dense phase concentration: 0.21796272755417956 +/- 0.0036011679340515017\n",
      "Dilute phase concentration: 0.2149269539473684 +/- 0.004507757957601487\n",
      "Filtered data lines: 2\n",
      "Dense phase concentration: 0.21796272755417956 +/- 0.0036011679340515017\n",
      "Dilute phase concentration: 0.2149269539473684 +/- 0.004507757957601487\n",
      "File densities_chunked_temp328.txt read successfully with 2 lines.\n",
      "Original data lines:\n",
      "Dense phase concentration: 0.21677449535603716 +/- 0.0030484139322040876\n",
      "Dilute phase concentration: 0.21745197368421054 +/- 0.0043716535494287175\n",
      "Filtered data lines: 2\n",
      "Dense phase concentration: 0.21677449535603716 +/- 0.0030484139322040876\n",
      "Dilute phase concentration: 0.21745197368421054 +/- 0.0043716535494287175\n",
      "File densities_chunked_temp335.txt read successfully with 2 lines.\n",
      "Original data lines:\n",
      "Dense phase concentration: 0.21722847523219818 +/- 0.00448254293804061\n",
      "Dilute phase concentration: 0.21648729605263156 +/- 0.005758362610641623\n",
      "Filtered data lines: 2\n",
      "Dense phase concentration: 0.21722847523219818 +/- 0.00448254293804061\n",
      "Dilute phase concentration: 0.21648729605263156 +/- 0.005758362610641623\n",
      "File densities_chunked_temp342.txt read successfully with 2 lines.\n",
      "Original data lines:\n",
      "Dense phase concentration: 0.21701957894736842 +/- 0.004021563524167527\n",
      "Dilute phase concentration: 0.21693114144736841 +/- 0.002949518707846391\n",
      "Filtered data lines: 2\n",
      "Dense phase concentration: 0.21701957894736842 +/- 0.004021563524167527\n",
      "Dilute phase concentration: 0.21693114144736841 +/- 0.002949518707846391\n",
      "File densities_chunked_temp349.txt read successfully with 2 lines.\n",
      "Original data lines:\n",
      "Dense phase concentration: 0.21740921826625387 +/- 0.0043822379986897374\n",
      "Dilute phase concentration: 0.21610317763157894 +/- 0.0021447625715985802\n",
      "Filtered data lines: 2\n",
      "Dense phase concentration: 0.21740921826625387 +/- 0.0043822379986897374\n",
      "Dilute phase concentration: 0.21610317763157894 +/- 0.0021447625715985802\n",
      "File densities_chunked_temp356.txt read successfully with 2 lines.\n",
      "Original data lines:\n",
      "Dense phase concentration: 0.2180033452012384 +/- 0.002671403034747384\n",
      "Dilute phase concentration: 0.2148406282894737 +/- 0.0018997233970431363\n",
      "Filtered data lines: 2\n",
      "Dense phase concentration: 0.2180033452012384 +/- 0.002671403034747384\n",
      "Dilute phase concentration: 0.2148406282894737 +/- 0.0018997233970431363\n",
      "File densities_chunked_temp363.txt read successfully with 2 lines.\n",
      "Original data lines:\n",
      "Dense phase concentration: 0.21705315944272446 +/- 0.00385270969865065\n",
      "Dilute phase concentration: 0.21685975328947368 +/- 0.00447127434441911\n",
      "Filtered data lines: 2\n",
      "Dense phase concentration: 0.21705315944272446 +/- 0.00385270969865065\n",
      "Dilute phase concentration: 0.21685975328947368 +/- 0.00447127434441911\n",
      "File densities_chunked_temp370.txt read successfully with 2 lines.\n",
      "Original data lines:\n",
      "Dense phase concentration: 0.21689156346749228 +/- 0.004267423558696606\n",
      "Dilute phase concentration: 0.2172031677631579 +/- 0.0032035494993001607\n",
      "Filtered data lines: 2\n",
      "Dense phase concentration: 0.21689156346749228 +/- 0.004267423558696606\n",
      "Dilute phase concentration: 0.2172031677631579 +/- 0.0032035494993001607\n",
      "Temperatures: [250, 270, 290, 300, 307, 314, 321, 328, 335, 342, 349, 356, 363, 370]\n",
      "Dense phase concentrations: [0.21657545665634675, 0.21783764551083593, 0.218477346749226, 0.21659471671826624, 0.21739235448916408, 0.21723072445820432, 0.21796272755417956, 0.21677449535603716, 0.21722847523219818, 0.21701957894736842, 0.21740921826625387, 0.2180033452012384, 0.21705315944272446, 0.21689156346749228]\n",
      "Dilute phase concentrations: [0.21787493092105265, 0.21519279934210528, 0.21383340131578948, 0.21783398355263156, 0.21613900657894738, 0.21648253289473682, 0.2149269539473684, 0.21745197368421054, 0.21648729605263156, 0.21693114144736841, 0.21610317763157894, 0.2148406282894737, 0.21685975328947368, 0.2172031677631579]\n",
      "Dense std dev: [0.004925332620921174, 0.004746592001705184, 0.005421184025747182, 0.0044767726773713035, 0.004066853138978349, 0.005000606129010456, 0.0036011679340515017, 0.0030484139322040876, 0.00448254293804061, 0.004021563524167527, 0.0043822379986897374, 0.002671403034747384, 0.00385270969865065, 0.004267423558696606]\n",
      "Dilute std dev: [0.004261571502260365, 0.00767627432264702, 0.002799691553788675, 0.004397385680291448, 0.0036765646255157553, 0.003198217491545161, 0.004507757957601487, 0.0043716535494287175, 0.005758362610641623, 0.002949518707846391, 0.0021447625715985802, 0.0018997233970431363, 0.00447127434441911, 0.0032035494993001607]\n",
      "Critical Solution Temperature: 395.58+0.59j K written to critical_solution_temperature.txt\n",
      "execution time: 0.9393344271183014 hours\n",
      "16-Aug-24 | 00:06\n",
      "\n",
      "\n",
      "Sequence was already calculated LORF1_-5S+5T\n",
      "Sequence was already calculated LORF1_Q9UN81_Wildtype\n",
      "running simulation for TEST_Q9Y6M0_Wildtype\n",
      "16-Aug-24 | 00:06\n",
      "seq len 35\n",
      "total temps 14\n",
      "simulation/runs/TEST_Q9Y6M0_Wildtype_2024_08_16_00_08_1723766786\n",
      "step 1: running input single chain\n"
     ]
    },
    {
     "name": "stderr",
     "output_type": "stream",
     "text": [
      "/home/ubuntu/CTP/simulation/runs/TEST_Q9Y6M0_Wildtype_2024_08_16_00_08_1723766786/seq2config.py:67: DeprecationWarning: Conversion of an array with ndim > 0 to a scalar is deprecated, and will error in future. Ensure you extract a single element from your array before performing this operation. (Deprecated NumPy 1.25.)\n",
      "  typescharges.append([int(types[p,1]),float(charges[k,1])])\n"
     ]
    },
    {
     "name": "stdout",
     "output_type": "stream",
     "text": [
      "step 2: running compress single chain\n",
      "step 3: direct coexistence\n",
      "running [{'temp': 250, 'dir': 'simulation/runs/TEST_Q9Y6M0_Wildtype_2024_08_16_00_08_1723766786/250'}, {'temp': 270, 'dir': 'simulation/runs/TEST_Q9Y6M0_Wildtype_2024_08_16_00_08_1723766786/270'}, {'temp': 290, 'dir': 'simulation/runs/TEST_Q9Y6M0_Wildtype_2024_08_16_00_08_1723766786/290'}, {'temp': 300, 'dir': 'simulation/runs/TEST_Q9Y6M0_Wildtype_2024_08_16_00_08_1723766786/300'}, {'temp': 307, 'dir': 'simulation/runs/TEST_Q9Y6M0_Wildtype_2024_08_16_00_08_1723766786/307'}, {'temp': 314, 'dir': 'simulation/runs/TEST_Q9Y6M0_Wildtype_2024_08_16_00_08_1723766786/314'}]\n",
      "16-Aug-24 | 00:08\n",
      "execution time: 0.2956359000338448 hours\n",
      "16-Aug-24 | 00:26\n",
      "running [{'temp': 321, 'dir': 'simulation/runs/TEST_Q9Y6M0_Wildtype_2024_08_16_00_08_1723766786/321'}, {'temp': 328, 'dir': 'simulation/runs/TEST_Q9Y6M0_Wildtype_2024_08_16_00_08_1723766786/328'}, {'temp': 335, 'dir': 'simulation/runs/TEST_Q9Y6M0_Wildtype_2024_08_16_00_08_1723766786/335'}, {'temp': 342, 'dir': 'simulation/runs/TEST_Q9Y6M0_Wildtype_2024_08_16_00_08_1723766786/342'}, {'temp': 349, 'dir': 'simulation/runs/TEST_Q9Y6M0_Wildtype_2024_08_16_00_08_1723766786/349'}, {'temp': 356, 'dir': 'simulation/runs/TEST_Q9Y6M0_Wildtype_2024_08_16_00_08_1723766786/356'}]\n",
      "16-Aug-24 | 00:26\n",
      "execution time: 0.2904982198609246 hours\n",
      "16-Aug-24 | 00:43\n",
      "running [{'temp': 363, 'dir': 'simulation/runs/TEST_Q9Y6M0_Wildtype_2024_08_16_00_08_1723766786/363'}, {'temp': 370, 'dir': 'simulation/runs/TEST_Q9Y6M0_Wildtype_2024_08_16_00_08_1723766786/370'}]\n",
      "remaining temp, CPUs_pp = 48\n",
      "16-Aug-24 | 00:43\n",
      "execution time: 0.23553499427106644 hours\n",
      "16-Aug-24 | 00:57\n",
      "calculating ps densities\n",
      "simulation/runs/TEST_Q9Y6M0_Wildtype_2024_08_16_00_08_1723766786/300\n"
     ]
    },
    {
     "name": "stderr",
     "output_type": "stream",
     "text": [
      "/home/ubuntu/CTP/simulation/runs/TEST_Q9Y6M0_Wildtype_2024_08_16_00_08_1723766786/300/da.py:62: OptimizeWarning: Covariance of the parameters could not be estimated\n",
      "  popt, _ = curve_fit(super_gaussian, coords, avg_profile, p0=initial_guess, maxfev=20000)\n"
     ]
    },
    {
     "name": "stdout",
     "output_type": "stream",
     "text": [
      "Dense phase concentration: 0.1991894984520124 +/- 0.0025079208655750815\n",
      "Dilute phase concentration: 0.19984391776315788 +/- 0.004078705991201418\n",
      "simulation/runs/TEST_Q9Y6M0_Wildtype_2024_08_16_00_08_1723766786/314\n"
     ]
    },
    {
     "name": "stderr",
     "output_type": "stream",
     "text": [
      "/home/ubuntu/CTP/simulation/runs/TEST_Q9Y6M0_Wildtype_2024_08_16_00_08_1723766786/314/da.py:62: OptimizeWarning: Covariance of the parameters could not be estimated\n",
      "  popt, _ = curve_fit(super_gaussian, coords, avg_profile, p0=initial_guess, maxfev=20000)\n"
     ]
    },
    {
     "name": "stdout",
     "output_type": "stream",
     "text": [
      "Dense phase concentration: 0.19987575077399383 +/- 0.0031658862977946046\n",
      "Dilute phase concentration: 0.1983856052631579 +/- 0.0020646128961650575\n",
      "simulation/runs/TEST_Q9Y6M0_Wildtype_2024_08_16_00_08_1723766786/290\n"
     ]
    },
    {
     "name": "stderr",
     "output_type": "stream",
     "text": [
      "/home/ubuntu/CTP/simulation/runs/TEST_Q9Y6M0_Wildtype_2024_08_16_00_08_1723766786/290/da.py:62: OptimizeWarning: Covariance of the parameters could not be estimated\n",
      "  popt, _ = curve_fit(super_gaussian, coords, avg_profile, p0=initial_guess, maxfev=20000)\n"
     ]
    },
    {
     "name": "stdout",
     "output_type": "stream",
     "text": [
      "Dense phase concentration: 0.1989925185758514 +/- 0.004177396787261493\n",
      "Dilute phase concentration: 0.20026251315789473 +/- 0.0031062669034804245\n",
      "simulation/runs/TEST_Q9Y6M0_Wildtype_2024_08_16_00_08_1723766786/342\n"
     ]
    },
    {
     "name": "stderr",
     "output_type": "stream",
     "text": [
      "/home/ubuntu/CTP/simulation/runs/TEST_Q9Y6M0_Wildtype_2024_08_16_00_08_1723766786/342/da.py:62: OptimizeWarning: Covariance of the parameters could not be estimated\n",
      "  popt, _ = curve_fit(super_gaussian, coords, avg_profile, p0=initial_guess, maxfev=20000)\n"
     ]
    },
    {
     "name": "stdout",
     "output_type": "stream",
     "text": [
      "Dense phase concentration: 0.1986020851393189 +/- 0.002881441327163547\n",
      "Dilute phase concentration: 0.20109218750000002 +/- 0.002589917717195887\n",
      "simulation/runs/TEST_Q9Y6M0_Wildtype_2024_08_16_00_08_1723766786/328\n"
     ]
    },
    {
     "name": "stderr",
     "output_type": "stream",
     "text": [
      "/home/ubuntu/CTP/simulation/runs/TEST_Q9Y6M0_Wildtype_2024_08_16_00_08_1723766786/328/da.py:62: OptimizeWarning: Covariance of the parameters could not be estimated\n",
      "  popt, _ = curve_fit(super_gaussian, coords, avg_profile, p0=initial_guess, maxfev=20000)\n"
     ]
    },
    {
     "name": "stdout",
     "output_type": "stream",
     "text": [
      "Dense phase concentration: 0.20032091950464398 +/- 0.0038716996572544554\n",
      "Dilute phase concentration: 0.19743965789473683 +/- 0.0019612139850138433\n",
      "simulation/runs/TEST_Q9Y6M0_Wildtype_2024_08_16_00_08_1723766786/307\n"
     ]
    },
    {
     "name": "stderr",
     "output_type": "stream",
     "text": [
      "/home/ubuntu/CTP/simulation/runs/TEST_Q9Y6M0_Wildtype_2024_08_16_00_08_1723766786/307/da.py:62: OptimizeWarning: Covariance of the parameters could not be estimated\n",
      "  popt, _ = curve_fit(super_gaussian, coords, avg_profile, p0=initial_guess, maxfev=20000)\n"
     ]
    },
    {
     "name": "stdout",
     "output_type": "stream",
     "text": [
      "Dense phase concentration: 0.19828667337461303 +/- 0.0022308520166487177\n",
      "Dilute phase concentration: 0.20176242763157895 +/- 0.0022018872383197225\n",
      "simulation/runs/TEST_Q9Y6M0_Wildtype_2024_08_16_00_08_1723766786/363\n"
     ]
    },
    {
     "name": "stderr",
     "output_type": "stream",
     "text": [
      "/home/ubuntu/CTP/simulation/runs/TEST_Q9Y6M0_Wildtype_2024_08_16_00_08_1723766786/363/da.py:62: OptimizeWarning: Covariance of the parameters could not be estimated\n",
      "  popt, _ = curve_fit(super_gaussian, coords, avg_profile, p0=initial_guess, maxfev=20000)\n"
     ]
    },
    {
     "name": "stdout",
     "output_type": "stream",
     "text": [
      "Dense phase concentration: 0.19933119195046442 +/- 0.003088733089827067\n",
      "Dilute phase concentration: 0.19954275328947368 +/- 0.00349321115811705\n",
      "simulation/runs/TEST_Q9Y6M0_Wildtype_2024_08_16_00_08_1723766786/250\n"
     ]
    },
    {
     "name": "stderr",
     "output_type": "stream",
     "text": [
      "/home/ubuntu/CTP/simulation/runs/TEST_Q9Y6M0_Wildtype_2024_08_16_00_08_1723766786/250/da.py:62: OptimizeWarning: Covariance of the parameters could not be estimated\n",
      "  popt, _ = curve_fit(super_gaussian, coords, avg_profile, p0=initial_guess, maxfev=20000)\n"
     ]
    },
    {
     "name": "stdout",
     "output_type": "stream",
     "text": [
      "Dense phase concentration: 0.19948332198142416 +/- 0.004433305865103145\n",
      "Dilute phase concentration: 0.19921950657894738 +/- 0.0026788882733035286\n",
      "simulation/runs/TEST_Q9Y6M0_Wildtype_2024_08_16_00_08_1723766786/321\n"
     ]
    },
    {
     "name": "stderr",
     "output_type": "stream",
     "text": [
      "/home/ubuntu/CTP/simulation/runs/TEST_Q9Y6M0_Wildtype_2024_08_16_00_08_1723766786/321/da.py:62: OptimizeWarning: Covariance of the parameters could not be estimated\n",
      "  popt, _ = curve_fit(super_gaussian, coords, avg_profile, p0=initial_guess, maxfev=20000)\n"
     ]
    },
    {
     "name": "stdout",
     "output_type": "stream",
     "text": [
      "Dense phase concentration: 0.19940471671826623 +/- 0.003949586684390639\n",
      "Dilute phase concentration: 0.19938654605263156 +/- 0.003644247588380046\n",
      "simulation/runs/TEST_Q9Y6M0_Wildtype_2024_08_16_00_08_1723766786/349\n"
     ]
    },
    {
     "name": "stderr",
     "output_type": "stream",
     "text": [
      "/home/ubuntu/CTP/simulation/runs/TEST_Q9Y6M0_Wildtype_2024_08_16_00_08_1723766786/349/da.py:62: OptimizeWarning: Covariance of the parameters could not be estimated\n",
      "  popt, _ = curve_fit(super_gaussian, coords, avg_profile, p0=initial_guess, maxfev=20000)\n"
     ]
    },
    {
     "name": "stdout",
     "output_type": "stream",
     "text": [
      "Dense phase concentration: 0.19965664396284827 +/- 0.002691722072273644\n",
      "Dilute phase concentration: 0.1988512467105263 +/- 0.0031056934448045657\n",
      "simulation/runs/TEST_Q9Y6M0_Wildtype_2024_08_16_00_08_1723766786/356\n"
     ]
    },
    {
     "name": "stderr",
     "output_type": "stream",
     "text": [
      "/home/ubuntu/CTP/simulation/runs/TEST_Q9Y6M0_Wildtype_2024_08_16_00_08_1723766786/356/da.py:62: OptimizeWarning: Covariance of the parameters could not be estimated\n",
      "  popt, _ = curve_fit(super_gaussian, coords, avg_profile, p0=initial_guess, maxfev=20000)\n"
     ]
    },
    {
     "name": "stdout",
     "output_type": "stream",
     "text": [
      "Dense phase concentration: 0.19981168885448916 +/- 0.0026963165112947303\n",
      "Dilute phase concentration: 0.19852182236842103 +/- 0.0032905226418512385\n",
      "simulation/runs/TEST_Q9Y6M0_Wildtype_2024_08_16_00_08_1723766786/370\n"
     ]
    },
    {
     "name": "stderr",
     "output_type": "stream",
     "text": [
      "/home/ubuntu/CTP/simulation/runs/TEST_Q9Y6M0_Wildtype_2024_08_16_00_08_1723766786/370/da.py:62: OptimizeWarning: Covariance of the parameters could not be estimated\n",
      "  popt, _ = curve_fit(super_gaussian, coords, avg_profile, p0=initial_guess, maxfev=20000)\n"
     ]
    },
    {
     "name": "stdout",
     "output_type": "stream",
     "text": [
      "Dense phase concentration: 0.19974011764705882 +/- 0.0027196922626040745\n",
      "Dilute phase concentration: 0.19867381907894738 +/- 0.0022709428670773138\n",
      "simulation/runs/TEST_Q9Y6M0_Wildtype_2024_08_16_00_08_1723766786/335\n"
     ]
    },
    {
     "name": "stderr",
     "output_type": "stream",
     "text": [
      "/home/ubuntu/CTP/simulation/runs/TEST_Q9Y6M0_Wildtype_2024_08_16_00_08_1723766786/335/da.py:62: OptimizeWarning: Covariance of the parameters could not be estimated\n",
      "  popt, _ = curve_fit(super_gaussian, coords, avg_profile, p0=initial_guess, maxfev=20000)\n"
     ]
    },
    {
     "name": "stdout",
     "output_type": "stream",
     "text": [
      "Dense phase concentration: 0.19874402476780184 +/- 0.00305863370243476\n",
      "Dilute phase concentration: 0.20079051973684212 +/- 0.003872872195572592\n",
      "simulation/runs/TEST_Q9Y6M0_Wildtype_2024_08_16_00_08_1723766786/270\n"
     ]
    },
    {
     "name": "stderr",
     "output_type": "stream",
     "text": [
      "/home/ubuntu/CTP/simulation/runs/TEST_Q9Y6M0_Wildtype_2024_08_16_00_08_1723766786/270/da.py:62: OptimizeWarning: Covariance of the parameters could not be estimated\n",
      "  popt, _ = curve_fit(super_gaussian, coords, avg_profile, p0=initial_guess, maxfev=20000)\n"
     ]
    },
    {
     "name": "stdout",
     "output_type": "stream",
     "text": [
      "Dense phase concentration: 0.19959590866873064 +/- 0.003666258865116247\n",
      "Dilute phase concentration: 0.19898029276315793 +/- 0.0034774219645774965\n"
     ]
    },
    {
     "name": "stderr",
     "output_type": "stream",
     "text": [
      "/home/ubuntu/anaconda3/envs/lammps/lib/python3.9/site-packages/matplotlib/collections.py:197: ComplexWarning: Casting complex values to real discards the imaginary part\n",
      "  offsets = np.asanyarray(offsets, float)\n",
      "/home/ubuntu/anaconda3/envs/lammps/lib/python3.9/site-packages/matplotlib/cbook.py:1762: ComplexWarning: Casting complex values to real discards the imaginary part\n",
      "  return math.isfinite(val)\n",
      "/home/ubuntu/anaconda3/envs/lammps/lib/python3.9/site-packages/matplotlib/cbook.py:1398: ComplexWarning: Casting complex values to real discards the imaginary part\n",
      "  return np.asarray(x, float)\n"
     ]
    },
    {
     "name": "stdout",
     "output_type": "stream",
     "text": [
      "File densities_chunked_temp250.txt read successfully with 2 lines.\n",
      "Original data lines:\n",
      "Dense phase concentration: 0.19948332198142416 +/- 0.004433305865103145\n",
      "Dilute phase concentration: 0.19921950657894738 +/- 0.0026788882733035286\n",
      "Filtered data lines: 2\n",
      "Dense phase concentration: 0.19948332198142416 +/- 0.004433305865103145\n",
      "Dilute phase concentration: 0.19921950657894738 +/- 0.0026788882733035286\n",
      "File densities_chunked_temp270.txt read successfully with 2 lines.\n",
      "Original data lines:\n",
      "Dense phase concentration: 0.19959590866873064 +/- 0.003666258865116247\n",
      "Dilute phase concentration: 0.19898029276315793 +/- 0.0034774219645774965\n",
      "Filtered data lines: 2\n",
      "Dense phase concentration: 0.19959590866873064 +/- 0.003666258865116247\n",
      "Dilute phase concentration: 0.19898029276315793 +/- 0.0034774219645774965\n",
      "File densities_chunked_temp290.txt read successfully with 2 lines.\n",
      "Original data lines:\n",
      "Dense phase concentration: 0.1989925185758514 +/- 0.004177396787261493\n",
      "Dilute phase concentration: 0.20026251315789473 +/- 0.0031062669034804245\n",
      "Filtered data lines: 2\n",
      "Dense phase concentration: 0.1989925185758514 +/- 0.004177396787261493\n",
      "Dilute phase concentration: 0.20026251315789473 +/- 0.0031062669034804245\n",
      "File densities_chunked_temp300.txt read successfully with 2 lines.\n",
      "Original data lines:\n",
      "Dense phase concentration: 0.1991894984520124 +/- 0.0025079208655750815\n",
      "Dilute phase concentration: 0.19984391776315788 +/- 0.004078705991201418\n",
      "Filtered data lines: 2\n",
      "Dense phase concentration: 0.1991894984520124 +/- 0.0025079208655750815\n",
      "Dilute phase concentration: 0.19984391776315788 +/- 0.004078705991201418\n",
      "File densities_chunked_temp307.txt read successfully with 2 lines.\n",
      "Original data lines:\n",
      "Dense phase concentration: 0.19828667337461303 +/- 0.0022308520166487177\n",
      "Dilute phase concentration: 0.20176242763157895 +/- 0.0022018872383197225\n",
      "Filtered data lines: 2\n",
      "Dense phase concentration: 0.19828667337461303 +/- 0.0022308520166487177\n",
      "Dilute phase concentration: 0.20176242763157895 +/- 0.0022018872383197225\n",
      "File densities_chunked_temp314.txt read successfully with 2 lines.\n",
      "Original data lines:\n",
      "Dense phase concentration: 0.19987575077399383 +/- 0.0031658862977946046\n",
      "Dilute phase concentration: 0.1983856052631579 +/- 0.0020646128961650575\n",
      "Filtered data lines: 2\n",
      "Dense phase concentration: 0.19987575077399383 +/- 0.0031658862977946046\n",
      "Dilute phase concentration: 0.1983856052631579 +/- 0.0020646128961650575\n",
      "File densities_chunked_temp321.txt read successfully with 2 lines.\n",
      "Original data lines:\n",
      "Dense phase concentration: 0.19940471671826623 +/- 0.003949586684390639\n",
      "Dilute phase concentration: 0.19938654605263156 +/- 0.003644247588380046\n",
      "Filtered data lines: 2\n",
      "Dense phase concentration: 0.19940471671826623 +/- 0.003949586684390639\n",
      "Dilute phase concentration: 0.19938654605263156 +/- 0.003644247588380046\n",
      "File densities_chunked_temp328.txt read successfully with 2 lines.\n",
      "Original data lines:\n",
      "Dense phase concentration: 0.20032091950464398 +/- 0.0038716996572544554\n",
      "Dilute phase concentration: 0.19743965789473683 +/- 0.0019612139850138433\n",
      "Filtered data lines: 2\n",
      "Dense phase concentration: 0.20032091950464398 +/- 0.0038716996572544554\n",
      "Dilute phase concentration: 0.19743965789473683 +/- 0.0019612139850138433\n",
      "File densities_chunked_temp335.txt read successfully with 2 lines.\n",
      "Original data lines:\n",
      "Dense phase concentration: 0.19874402476780184 +/- 0.00305863370243476\n",
      "Dilute phase concentration: 0.20079051973684212 +/- 0.003872872195572592\n",
      "Filtered data lines: 2\n",
      "Dense phase concentration: 0.19874402476780184 +/- 0.00305863370243476\n",
      "Dilute phase concentration: 0.20079051973684212 +/- 0.003872872195572592\n",
      "File densities_chunked_temp342.txt read successfully with 2 lines.\n",
      "Original data lines:\n",
      "Dense phase concentration: 0.1986020851393189 +/- 0.002881441327163547\n",
      "Dilute phase concentration: 0.20109218750000002 +/- 0.002589917717195887\n",
      "Filtered data lines: 2\n",
      "Dense phase concentration: 0.1986020851393189 +/- 0.002881441327163547\n",
      "Dilute phase concentration: 0.20109218750000002 +/- 0.002589917717195887\n",
      "File densities_chunked_temp349.txt read successfully with 2 lines.\n",
      "Original data lines:\n",
      "Dense phase concentration: 0.19965664396284827 +/- 0.002691722072273644\n",
      "Dilute phase concentration: 0.1988512467105263 +/- 0.0031056934448045657\n",
      "Filtered data lines: 2\n",
      "Dense phase concentration: 0.19965664396284827 +/- 0.002691722072273644\n",
      "Dilute phase concentration: 0.1988512467105263 +/- 0.0031056934448045657\n",
      "File densities_chunked_temp356.txt read successfully with 2 lines.\n",
      "Original data lines:\n",
      "Dense phase concentration: 0.19981168885448916 +/- 0.0026963165112947303\n",
      "Dilute phase concentration: 0.19852182236842103 +/- 0.0032905226418512385\n",
      "Filtered data lines: 2\n",
      "Dense phase concentration: 0.19981168885448916 +/- 0.0026963165112947303\n",
      "Dilute phase concentration: 0.19852182236842103 +/- 0.0032905226418512385\n",
      "File densities_chunked_temp363.txt read successfully with 2 lines.\n",
      "Original data lines:\n",
      "Dense phase concentration: 0.19933119195046442 +/- 0.003088733089827067\n",
      "Dilute phase concentration: 0.19954275328947368 +/- 0.00349321115811705\n",
      "Filtered data lines: 2\n",
      "Dense phase concentration: 0.19933119195046442 +/- 0.003088733089827067\n",
      "Dilute phase concentration: 0.19954275328947368 +/- 0.00349321115811705\n",
      "File densities_chunked_temp370.txt read successfully with 2 lines.\n",
      "Original data lines:\n",
      "Dense phase concentration: 0.19974011764705882 +/- 0.0027196922626040745\n",
      "Dilute phase concentration: 0.19867381907894738 +/- 0.0022709428670773138\n",
      "Filtered data lines: 2\n",
      "Dense phase concentration: 0.19974011764705882 +/- 0.0027196922626040745\n",
      "Dilute phase concentration: 0.19867381907894738 +/- 0.0022709428670773138\n",
      "Temperatures: [250, 270, 290, 300, 307, 314, 321, 328, 335, 342, 349, 356, 363, 370]\n",
      "Dense phase concentrations: [0.19948332198142416, 0.19959590866873064, 0.1989925185758514, 0.1991894984520124, 0.19828667337461303, 0.19987575077399383, 0.19940471671826623, 0.20032091950464398, 0.19874402476780184, 0.1986020851393189, 0.19965664396284827, 0.19981168885448916, 0.19933119195046442, 0.19974011764705882]\n",
      "Dilute phase concentrations: [0.19921950657894738, 0.19898029276315793, 0.20026251315789473, 0.19984391776315788, 0.20176242763157895, 0.1983856052631579, 0.19938654605263156, 0.19743965789473683, 0.20079051973684212, 0.20109218750000002, 0.1988512467105263, 0.19852182236842103, 0.19954275328947368, 0.19867381907894738]\n",
      "Dense std dev: [0.004433305865103145, 0.003666258865116247, 0.004177396787261493, 0.0025079208655750815, 0.0022308520166487177, 0.0031658862977946046, 0.003949586684390639, 0.0038716996572544554, 0.00305863370243476, 0.002881441327163547, 0.002691722072273644, 0.0026963165112947303, 0.003088733089827067, 0.0027196922626040745]\n",
      "Dilute std dev: [0.0026788882733035286, 0.0034774219645774965, 0.0031062669034804245, 0.004078705991201418, 0.0022018872383197225, 0.0020646128961650575, 0.003644247588380046, 0.0019612139850138433, 0.003872872195572592, 0.002589917717195887, 0.0031056934448045657, 0.0032905226418512385, 0.00349321115811705, 0.0022709428670773138]\n",
      "Critical Solution Temperature: 407.46+22.52j K written to critical_solution_temperature.txt\n",
      "execution time: 0.8562977460357878 hours\n",
      "16-Aug-24 | 00:57\n",
      "\n",
      "\n",
      "running simulation for GAL3B_A0A0B4J2D5_Wildtype\n",
      "16-Aug-24 | 00:57\n",
      "seq len 36\n",
      "total temps 14\n",
      "simulation/runs/GAL3B_A0A0B4J2D5_Wildtype_2024_08_16_00_08_1723769869\n",
      "step 1: running input single chain\n"
     ]
    },
    {
     "name": "stderr",
     "output_type": "stream",
     "text": [
      "/home/ubuntu/CTP/simulation/runs/GAL3B_A0A0B4J2D5_Wildtype_2024_08_16_00_08_1723769869/seq2config.py:67: DeprecationWarning: Conversion of an array with ndim > 0 to a scalar is deprecated, and will error in future. Ensure you extract a single element from your array before performing this operation. (Deprecated NumPy 1.25.)\n",
      "  typescharges.append([int(types[p,1]),float(charges[k,1])])\n"
     ]
    },
    {
     "name": "stdout",
     "output_type": "stream",
     "text": [
      "step 2: running compress single chain\n",
      "step 3: direct coexistence\n",
      "running [{'temp': 250, 'dir': 'simulation/runs/GAL3B_A0A0B4J2D5_Wildtype_2024_08_16_00_08_1723769869/250'}, {'temp': 270, 'dir': 'simulation/runs/GAL3B_A0A0B4J2D5_Wildtype_2024_08_16_00_08_1723769869/270'}, {'temp': 290, 'dir': 'simulation/runs/GAL3B_A0A0B4J2D5_Wildtype_2024_08_16_00_08_1723769869/290'}, {'temp': 300, 'dir': 'simulation/runs/GAL3B_A0A0B4J2D5_Wildtype_2024_08_16_00_08_1723769869/300'}, {'temp': 307, 'dir': 'simulation/runs/GAL3B_A0A0B4J2D5_Wildtype_2024_08_16_00_08_1723769869/307'}, {'temp': 314, 'dir': 'simulation/runs/GAL3B_A0A0B4J2D5_Wildtype_2024_08_16_00_08_1723769869/314'}]\n",
      "16-Aug-24 | 00:59\n",
      "execution time: 0.28932350595792133 hours\n",
      "16-Aug-24 | 01:17\n",
      "running [{'temp': 321, 'dir': 'simulation/runs/GAL3B_A0A0B4J2D5_Wildtype_2024_08_16_00_08_1723769869/321'}, {'temp': 328, 'dir': 'simulation/runs/GAL3B_A0A0B4J2D5_Wildtype_2024_08_16_00_08_1723769869/328'}, {'temp': 335, 'dir': 'simulation/runs/GAL3B_A0A0B4J2D5_Wildtype_2024_08_16_00_08_1723769869/335'}, {'temp': 342, 'dir': 'simulation/runs/GAL3B_A0A0B4J2D5_Wildtype_2024_08_16_00_08_1723769869/342'}, {'temp': 349, 'dir': 'simulation/runs/GAL3B_A0A0B4J2D5_Wildtype_2024_08_16_00_08_1723769869/349'}, {'temp': 356, 'dir': 'simulation/runs/GAL3B_A0A0B4J2D5_Wildtype_2024_08_16_00_08_1723769869/356'}]\n",
      "16-Aug-24 | 01:17\n",
      "execution time: 0.2861221491628223 hours\n",
      "16-Aug-24 | 01:34\n",
      "running [{'temp': 363, 'dir': 'simulation/runs/GAL3B_A0A0B4J2D5_Wildtype_2024_08_16_00_08_1723769869/363'}, {'temp': 370, 'dir': 'simulation/runs/GAL3B_A0A0B4J2D5_Wildtype_2024_08_16_00_08_1723769869/370'}]\n",
      "remaining temp, CPUs_pp = 48\n",
      "16-Aug-24 | 01:34\n",
      "execution time: 0.23620623621675704 hours\n",
      "16-Aug-24 | 01:48\n",
      "calculating ps densities\n",
      "simulation/runs/GAL3B_A0A0B4J2D5_Wildtype_2024_08_16_00_08_1723769869/300\n"
     ]
    },
    {
     "name": "stderr",
     "output_type": "stream",
     "text": [
      "/home/ubuntu/CTP/simulation/runs/GAL3B_A0A0B4J2D5_Wildtype_2024_08_16_00_08_1723769869/300/da.py:62: OptimizeWarning: Covariance of the parameters could not be estimated\n",
      "  popt, _ = curve_fit(super_gaussian, coords, avg_profile, p0=initial_guess, maxfev=20000)\n"
     ]
    },
    {
     "name": "stdout",
     "output_type": "stream",
     "text": [
      "Dense phase concentration: 0.20385734674922604 +/- 0.0027315632409493037\n",
      "Dilute phase concentration: 0.20341265460526317 +/- 0.004062349696813378\n",
      "simulation/runs/GAL3B_A0A0B4J2D5_Wildtype_2024_08_16_00_08_1723769869/314\n"
     ]
    },
    {
     "name": "stderr",
     "output_type": "stream",
     "text": [
      "/home/ubuntu/CTP/simulation/runs/GAL3B_A0A0B4J2D5_Wildtype_2024_08_16_00_08_1723769869/314/da.py:62: OptimizeWarning: Covariance of the parameters could not be estimated\n",
      "  popt, _ = curve_fit(super_gaussian, coords, avg_profile, p0=initial_guess, maxfev=20000)\n"
     ]
    },
    {
     "name": "stdout",
     "output_type": "stream",
     "text": [
      "Dense phase concentration: 0.20407906346749227 +/- 0.0028366866893899897\n",
      "Dilute phase concentration: 0.2029414934210526 +/- 0.0029826568872898295\n",
      "simulation/runs/GAL3B_A0A0B4J2D5_Wildtype_2024_08_16_00_08_1723769869/290\n"
     ]
    },
    {
     "name": "stderr",
     "output_type": "stream",
     "text": [
      "/home/ubuntu/CTP/simulation/runs/GAL3B_A0A0B4J2D5_Wildtype_2024_08_16_00_08_1723769869/290/da.py:62: OptimizeWarning: Covariance of the parameters could not be estimated\n",
      "  popt, _ = curve_fit(super_gaussian, coords, avg_profile, p0=initial_guess, maxfev=20000)\n"
     ]
    },
    {
     "name": "stdout",
     "output_type": "stream",
     "text": [
      "Dense phase concentration: 0.2031942275541796 +/- 0.003928016092482245\n",
      "Dilute phase concentration: 0.20482172368421053 +/- 0.004908469528162411\n",
      "simulation/runs/GAL3B_A0A0B4J2D5_Wildtype_2024_08_16_00_08_1723769869/342\n"
     ]
    },
    {
     "name": "stderr",
     "output_type": "stream",
     "text": [
      "/home/ubuntu/CTP/simulation/runs/GAL3B_A0A0B4J2D5_Wildtype_2024_08_16_00_08_1723769869/342/da.py:62: OptimizeWarning: Covariance of the parameters could not be estimated\n",
      "  popt, _ = curve_fit(super_gaussian, coords, avg_profile, p0=initial_guess, maxfev=20000)\n"
     ]
    },
    {
     "name": "stdout",
     "output_type": "stream",
     "text": [
      "Dense phase concentration: 0.20363484829721362 +/- 0.002390214193768286\n",
      "Dilute phase concentration: 0.20388541776315788 +/- 0.002653195007940854\n",
      "simulation/runs/GAL3B_A0A0B4J2D5_Wildtype_2024_08_16_00_08_1723769869/328\n"
     ]
    },
    {
     "name": "stderr",
     "output_type": "stream",
     "text": [
      "/home/ubuntu/CTP/simulation/runs/GAL3B_A0A0B4J2D5_Wildtype_2024_08_16_00_08_1723769869/328/da.py:62: OptimizeWarning: Covariance of the parameters could not be estimated\n",
      "  popt, _ = curve_fit(super_gaussian, coords, avg_profile, p0=initial_guess, maxfev=20000)\n"
     ]
    },
    {
     "name": "stdout",
     "output_type": "stream",
     "text": [
      "Dense phase concentration: 0.20467139473684212 +/- 0.0029408948654208985\n",
      "Dilute phase concentration: 0.20168275000000002 +/- 0.0025061400349595166\n",
      "simulation/runs/GAL3B_A0A0B4J2D5_Wildtype_2024_08_16_00_08_1723769869/307\n"
     ]
    },
    {
     "name": "stderr",
     "output_type": "stream",
     "text": [
      "/home/ubuntu/CTP/simulation/runs/GAL3B_A0A0B4J2D5_Wildtype_2024_08_16_00_08_1723769869/307/da.py:62: OptimizeWarning: Covariance of the parameters could not be estimated\n",
      "  popt, _ = curve_fit(super_gaussian, coords, avg_profile, p0=initial_guess, maxfev=20000)\n"
     ]
    },
    {
     "name": "stdout",
     "output_type": "stream",
     "text": [
      "Dense phase concentration: 0.20336583436532507 +/- 0.003009287967373214\n",
      "Dilute phase concentration: 0.20445705921052632 +/- 0.004165130588992851\n",
      "simulation/runs/GAL3B_A0A0B4J2D5_Wildtype_2024_08_16_00_08_1723769869/363\n"
     ]
    },
    {
     "name": "stderr",
     "output_type": "stream",
     "text": [
      "/home/ubuntu/CTP/simulation/runs/GAL3B_A0A0B4J2D5_Wildtype_2024_08_16_00_08_1723769869/363/da.py:62: OptimizeWarning: Covariance of the parameters could not be estimated\n",
      "  popt, _ = curve_fit(super_gaussian, coords, avg_profile, p0=initial_guess, maxfev=20000)\n"
     ]
    },
    {
     "name": "stdout",
     "output_type": "stream",
     "text": [
      "Dense phase concentration: 0.2027877244582043 +/- 0.003380831193809132\n",
      "Dilute phase concentration: 0.20568554605263156 +/- 0.0018442260082633718\n",
      "simulation/runs/GAL3B_A0A0B4J2D5_Wildtype_2024_08_16_00_08_1723769869/250\n"
     ]
    },
    {
     "name": "stderr",
     "output_type": "stream",
     "text": [
      "/home/ubuntu/CTP/simulation/runs/GAL3B_A0A0B4J2D5_Wildtype_2024_08_16_00_08_1723769869/250/da.py:62: OptimizeWarning: Covariance of the parameters could not be estimated\n",
      "  popt, _ = curve_fit(super_gaussian, coords, avg_profile, p0=initial_guess, maxfev=20000)\n"
     ]
    },
    {
     "name": "stdout",
     "output_type": "stream",
     "text": [
      "Dense phase concentration: 0.20378609442724457 +/- 0.004256475406165842\n",
      "Dilute phase concentration: 0.2035640427631579 +/- 0.0019457893682661234\n",
      "simulation/runs/GAL3B_A0A0B4J2D5_Wildtype_2024_08_16_00_08_1723769869/321\n"
     ]
    },
    {
     "name": "stderr",
     "output_type": "stream",
     "text": [
      "/home/ubuntu/CTP/simulation/runs/GAL3B_A0A0B4J2D5_Wildtype_2024_08_16_00_08_1723769869/321/da.py:62: OptimizeWarning: Covariance of the parameters could not be estimated\n",
      "  popt, _ = curve_fit(super_gaussian, coords, avg_profile, p0=initial_guess, maxfev=20000)\n"
     ]
    },
    {
     "name": "stdout",
     "output_type": "stream",
     "text": [
      "Dense phase concentration: 0.204584459752322 +/- 0.0034507678750354044\n",
      "Dilute phase concentration: 0.20186749671052628 +/- 0.0023331908901558143\n",
      "simulation/runs/GAL3B_A0A0B4J2D5_Wildtype_2024_08_16_00_08_1723769869/349\n"
     ]
    },
    {
     "name": "stderr",
     "output_type": "stream",
     "text": [
      "/home/ubuntu/CTP/simulation/runs/GAL3B_A0A0B4J2D5_Wildtype_2024_08_16_00_08_1723769869/349/da.py:62: OptimizeWarning: Covariance of the parameters could not be estimated\n",
      "  popt, _ = curve_fit(super_gaussian, coords, avg_profile, p0=initial_guess, maxfev=20000)\n"
     ]
    },
    {
     "name": "stdout",
     "output_type": "stream",
     "text": [
      "Dense phase concentration: 0.20489911764705881 +/- 0.0033793197198718934\n",
      "Dilute phase concentration: 0.20119880592105263 +/- 0.00269419656884287\n",
      "simulation/runs/GAL3B_A0A0B4J2D5_Wildtype_2024_08_16_00_08_1723769869/356\n"
     ]
    },
    {
     "name": "stderr",
     "output_type": "stream",
     "text": [
      "/home/ubuntu/CTP/simulation/runs/GAL3B_A0A0B4J2D5_Wildtype_2024_08_16_00_08_1723769869/356/da.py:62: OptimizeWarning: Covariance of the parameters could not be estimated\n",
      "  popt, _ = curve_fit(super_gaussian, coords, avg_profile, p0=initial_guess, maxfev=20000)\n"
     ]
    },
    {
     "name": "stdout",
     "output_type": "stream",
     "text": [
      "Dense phase concentration: 0.2045799148606811 +/- 0.0032745320710263833\n",
      "Dilute phase concentration: 0.2018771414473684 +/- 0.003964555151866096\n",
      "simulation/runs/GAL3B_A0A0B4J2D5_Wildtype_2024_08_16_00_08_1723769869/370\n"
     ]
    },
    {
     "name": "stderr",
     "output_type": "stream",
     "text": [
      "/home/ubuntu/CTP/simulation/runs/GAL3B_A0A0B4J2D5_Wildtype_2024_08_16_00_08_1723769869/370/da.py:62: OptimizeWarning: Covariance of the parameters could not be estimated\n",
      "  popt, _ = curve_fit(super_gaussian, coords, avg_profile, p0=initial_guess, maxfev=20000)\n"
     ]
    },
    {
     "name": "stdout",
     "output_type": "stream",
     "text": [
      "Dense phase concentration: 0.20259562074303405 +/- 0.0036592154063260643\n",
      "Dilute phase concentration: 0.20609377631578946 +/- 0.0032840153241742477\n",
      "simulation/runs/GAL3B_A0A0B4J2D5_Wildtype_2024_08_16_00_08_1723769869/335\n"
     ]
    },
    {
     "name": "stderr",
     "output_type": "stream",
     "text": [
      "/home/ubuntu/CTP/simulation/runs/GAL3B_A0A0B4J2D5_Wildtype_2024_08_16_00_08_1723769869/335/da.py:62: OptimizeWarning: Covariance of the parameters could not be estimated\n",
      "  popt, _ = curve_fit(super_gaussian, coords, avg_profile, p0=initial_guess, maxfev=20000)\n"
     ]
    },
    {
     "name": "stdout",
     "output_type": "stream",
     "text": [
      "Dense phase concentration: 0.2032594504643963 +/- 0.003725828547039484\n",
      "Dilute phase concentration: 0.2046830986842105 +/- 0.002946054092514805\n",
      "simulation/runs/GAL3B_A0A0B4J2D5_Wildtype_2024_08_16_00_08_1723769869/270\n"
     ]
    },
    {
     "name": "stderr",
     "output_type": "stream",
     "text": [
      "/home/ubuntu/CTP/simulation/runs/GAL3B_A0A0B4J2D5_Wildtype_2024_08_16_00_08_1723769869/270/da.py:62: OptimizeWarning: Covariance of the parameters could not be estimated\n",
      "  popt, _ = curve_fit(super_gaussian, coords, avg_profile, p0=initial_guess, maxfev=20000)\n"
     ]
    },
    {
     "name": "stdout",
     "output_type": "stream",
     "text": [
      "Dense phase concentration: 0.20484132352941176 +/- 0.005319865946352891\n",
      "Dilute phase concentration: 0.2013216315789474 +/- 0.006225845013595359\n"
     ]
    },
    {
     "name": "stderr",
     "output_type": "stream",
     "text": [
      "/home/ubuntu/anaconda3/envs/lammps/lib/python3.9/site-packages/matplotlib/collections.py:197: ComplexWarning: Casting complex values to real discards the imaginary part\n",
      "  offsets = np.asanyarray(offsets, float)\n",
      "/home/ubuntu/anaconda3/envs/lammps/lib/python3.9/site-packages/matplotlib/cbook.py:1762: ComplexWarning: Casting complex values to real discards the imaginary part\n",
      "  return math.isfinite(val)\n",
      "/home/ubuntu/anaconda3/envs/lammps/lib/python3.9/site-packages/matplotlib/cbook.py:1398: ComplexWarning: Casting complex values to real discards the imaginary part\n",
      "  return np.asarray(x, float)\n"
     ]
    },
    {
     "name": "stdout",
     "output_type": "stream",
     "text": [
      "File densities_chunked_temp250.txt read successfully with 2 lines.\n",
      "Original data lines:\n",
      "Dense phase concentration: 0.20378609442724457 +/- 0.004256475406165842\n",
      "Dilute phase concentration: 0.2035640427631579 +/- 0.0019457893682661234\n",
      "Filtered data lines: 2\n",
      "Dense phase concentration: 0.20378609442724457 +/- 0.004256475406165842\n",
      "Dilute phase concentration: 0.2035640427631579 +/- 0.0019457893682661234\n",
      "File densities_chunked_temp270.txt read successfully with 2 lines.\n",
      "Original data lines:\n",
      "Dense phase concentration: 0.20484132352941176 +/- 0.005319865946352891\n",
      "Dilute phase concentration: 0.2013216315789474 +/- 0.006225845013595359\n",
      "Filtered data lines: 2\n",
      "Dense phase concentration: 0.20484132352941176 +/- 0.005319865946352891\n",
      "Dilute phase concentration: 0.2013216315789474 +/- 0.006225845013595359\n",
      "File densities_chunked_temp290.txt read successfully with 2 lines.\n",
      "Original data lines:\n",
      "Dense phase concentration: 0.2031942275541796 +/- 0.003928016092482245\n",
      "Dilute phase concentration: 0.20482172368421053 +/- 0.004908469528162411\n",
      "Filtered data lines: 2\n",
      "Dense phase concentration: 0.2031942275541796 +/- 0.003928016092482245\n",
      "Dilute phase concentration: 0.20482172368421053 +/- 0.004908469528162411\n",
      "File densities_chunked_temp300.txt read successfully with 2 lines.\n",
      "Original data lines:\n",
      "Dense phase concentration: 0.20385734674922604 +/- 0.0027315632409493037\n",
      "Dilute phase concentration: 0.20341265460526317 +/- 0.004062349696813378\n",
      "Filtered data lines: 2\n",
      "Dense phase concentration: 0.20385734674922604 +/- 0.0027315632409493037\n",
      "Dilute phase concentration: 0.20341265460526317 +/- 0.004062349696813378\n",
      "File densities_chunked_temp307.txt read successfully with 2 lines.\n",
      "Original data lines:\n",
      "Dense phase concentration: 0.20336583436532507 +/- 0.003009287967373214\n",
      "Dilute phase concentration: 0.20445705921052632 +/- 0.004165130588992851\n",
      "Filtered data lines: 2\n",
      "Dense phase concentration: 0.20336583436532507 +/- 0.003009287967373214\n",
      "Dilute phase concentration: 0.20445705921052632 +/- 0.004165130588992851\n",
      "File densities_chunked_temp314.txt read successfully with 2 lines.\n",
      "Original data lines:\n",
      "Dense phase concentration: 0.20407906346749227 +/- 0.0028366866893899897\n",
      "Dilute phase concentration: 0.2029414934210526 +/- 0.0029826568872898295\n",
      "Filtered data lines: 2\n",
      "Dense phase concentration: 0.20407906346749227 +/- 0.0028366866893899897\n",
      "Dilute phase concentration: 0.2029414934210526 +/- 0.0029826568872898295\n",
      "File densities_chunked_temp321.txt read successfully with 2 lines.\n",
      "Original data lines:\n",
      "Dense phase concentration: 0.204584459752322 +/- 0.0034507678750354044\n",
      "Dilute phase concentration: 0.20186749671052628 +/- 0.0023331908901558143\n",
      "Filtered data lines: 2\n",
      "Dense phase concentration: 0.204584459752322 +/- 0.0034507678750354044\n",
      "Dilute phase concentration: 0.20186749671052628 +/- 0.0023331908901558143\n",
      "File densities_chunked_temp328.txt read successfully with 2 lines.\n",
      "Original data lines:\n",
      "Dense phase concentration: 0.20467139473684212 +/- 0.0029408948654208985\n",
      "Dilute phase concentration: 0.20168275000000002 +/- 0.0025061400349595166\n",
      "Filtered data lines: 2\n",
      "Dense phase concentration: 0.20467139473684212 +/- 0.0029408948654208985\n",
      "Dilute phase concentration: 0.20168275000000002 +/- 0.0025061400349595166\n",
      "File densities_chunked_temp335.txt read successfully with 2 lines.\n",
      "Original data lines:\n",
      "Dense phase concentration: 0.2032594504643963 +/- 0.003725828547039484\n",
      "Dilute phase concentration: 0.2046830986842105 +/- 0.002946054092514805\n",
      "Filtered data lines: 2\n",
      "Dense phase concentration: 0.2032594504643963 +/- 0.003725828547039484\n",
      "Dilute phase concentration: 0.2046830986842105 +/- 0.002946054092514805\n",
      "File densities_chunked_temp342.txt read successfully with 2 lines.\n",
      "Original data lines:\n",
      "Dense phase concentration: 0.20363484829721362 +/- 0.002390214193768286\n",
      "Dilute phase concentration: 0.20388541776315788 +/- 0.002653195007940854\n",
      "Filtered data lines: 2\n",
      "Dense phase concentration: 0.20363484829721362 +/- 0.002390214193768286\n",
      "Dilute phase concentration: 0.20388541776315788 +/- 0.002653195007940854\n",
      "File densities_chunked_temp349.txt read successfully with 2 lines.\n",
      "Original data lines:\n",
      "Dense phase concentration: 0.20489911764705881 +/- 0.0033793197198718934\n",
      "Dilute phase concentration: 0.20119880592105263 +/- 0.00269419656884287\n",
      "Filtered data lines: 2\n",
      "Dense phase concentration: 0.20489911764705881 +/- 0.0033793197198718934\n",
      "Dilute phase concentration: 0.20119880592105263 +/- 0.00269419656884287\n",
      "File densities_chunked_temp356.txt read successfully with 2 lines.\n",
      "Original data lines:\n",
      "Dense phase concentration: 0.2045799148606811 +/- 0.0032745320710263833\n",
      "Dilute phase concentration: 0.2018771414473684 +/- 0.003964555151866096\n",
      "Filtered data lines: 2\n",
      "Dense phase concentration: 0.2045799148606811 +/- 0.0032745320710263833\n",
      "Dilute phase concentration: 0.2018771414473684 +/- 0.003964555151866096\n",
      "File densities_chunked_temp363.txt read successfully with 2 lines.\n",
      "Original data lines:\n",
      "Dense phase concentration: 0.2027877244582043 +/- 0.003380831193809132\n",
      "Dilute phase concentration: 0.20568554605263156 +/- 0.0018442260082633718\n",
      "Filtered data lines: 2\n",
      "Dense phase concentration: 0.2027877244582043 +/- 0.003380831193809132\n",
      "Dilute phase concentration: 0.20568554605263156 +/- 0.0018442260082633718\n",
      "File densities_chunked_temp370.txt read successfully with 2 lines.\n",
      "Original data lines:\n",
      "Dense phase concentration: 0.20259562074303405 +/- 0.0036592154063260643\n",
      "Dilute phase concentration: 0.20609377631578946 +/- 0.0032840153241742477\n",
      "Filtered data lines: 2\n",
      "Dense phase concentration: 0.20259562074303405 +/- 0.0036592154063260643\n",
      "Dilute phase concentration: 0.20609377631578946 +/- 0.0032840153241742477\n",
      "Temperatures: [250, 270, 290, 300, 307, 314, 321, 328, 335, 342, 349, 356, 363, 370]\n",
      "Dense phase concentrations: [0.20378609442724457, 0.20484132352941176, 0.2031942275541796, 0.20385734674922604, 0.20336583436532507, 0.20407906346749227, 0.204584459752322, 0.20467139473684212, 0.2032594504643963, 0.20363484829721362, 0.20489911764705881, 0.2045799148606811, 0.2027877244582043, 0.20259562074303405]\n",
      "Dilute phase concentrations: [0.2035640427631579, 0.2013216315789474, 0.20482172368421053, 0.20341265460526317, 0.20445705921052632, 0.2029414934210526, 0.20186749671052628, 0.20168275000000002, 0.2046830986842105, 0.20388541776315788, 0.20119880592105263, 0.2018771414473684, 0.20568554605263156, 0.20609377631578946]\n",
      "Dense std dev: [0.004256475406165842, 0.005319865946352891, 0.003928016092482245, 0.0027315632409493037, 0.003009287967373214, 0.0028366866893899897, 0.0034507678750354044, 0.0029408948654208985, 0.003725828547039484, 0.002390214193768286, 0.0033793197198718934, 0.0032745320710263833, 0.003380831193809132, 0.0036592154063260643]\n",
      "Dilute std dev: [0.0019457893682661234, 0.006225845013595359, 0.004908469528162411, 0.004062349696813378, 0.004165130588992851, 0.0029826568872898295, 0.0023331908901558143, 0.0025061400349595166, 0.002946054092514805, 0.002653195007940854, 0.00269419656884287, 0.003964555151866096, 0.0018442260082633718, 0.0032840153241742477]\n",
      "Critical Solution Temperature: 353.72-11.90j K written to critical_solution_temperature.txt\n",
      "execution time: 0.8463520809676912 hours\n",
      "16-Aug-24 | 01:48\n",
      "\n",
      "\n",
      "running simulation for ENO4_A6NNW6_Wildtype\n",
      "16-Aug-24 | 01:48\n",
      "seq len 41\n",
      "total temps 14\n",
      "simulation/runs/ENO4_A6NNW6_Wildtype_2024_08_16_01_08_1723772916\n",
      "step 1: running input single chain\n"
     ]
    },
    {
     "name": "stderr",
     "output_type": "stream",
     "text": [
      "/home/ubuntu/CTP/simulation/runs/ENO4_A6NNW6_Wildtype_2024_08_16_01_08_1723772916/seq2config.py:67: DeprecationWarning: Conversion of an array with ndim > 0 to a scalar is deprecated, and will error in future. Ensure you extract a single element from your array before performing this operation. (Deprecated NumPy 1.25.)\n",
      "  typescharges.append([int(types[p,1]),float(charges[k,1])])\n"
     ]
    },
    {
     "name": "stdout",
     "output_type": "stream",
     "text": [
      "step 2: running compress single chain\n",
      "step 3: direct coexistence\n",
      "running [{'temp': 250, 'dir': 'simulation/runs/ENO4_A6NNW6_Wildtype_2024_08_16_01_08_1723772916/250'}, {'temp': 270, 'dir': 'simulation/runs/ENO4_A6NNW6_Wildtype_2024_08_16_01_08_1723772916/270'}, {'temp': 290, 'dir': 'simulation/runs/ENO4_A6NNW6_Wildtype_2024_08_16_01_08_1723772916/290'}, {'temp': 300, 'dir': 'simulation/runs/ENO4_A6NNW6_Wildtype_2024_08_16_01_08_1723772916/300'}, {'temp': 307, 'dir': 'simulation/runs/ENO4_A6NNW6_Wildtype_2024_08_16_01_08_1723772916/307'}, {'temp': 314, 'dir': 'simulation/runs/ENO4_A6NNW6_Wildtype_2024_08_16_01_08_1723772916/314'}]\n",
      "16-Aug-24 | 01:50\n",
      "execution time: 0.3073816759718789 hours\n",
      "16-Aug-24 | 02:08\n",
      "running [{'temp': 321, 'dir': 'simulation/runs/ENO4_A6NNW6_Wildtype_2024_08_16_01_08_1723772916/321'}, {'temp': 328, 'dir': 'simulation/runs/ENO4_A6NNW6_Wildtype_2024_08_16_01_08_1723772916/328'}, {'temp': 335, 'dir': 'simulation/runs/ENO4_A6NNW6_Wildtype_2024_08_16_01_08_1723772916/335'}, {'temp': 342, 'dir': 'simulation/runs/ENO4_A6NNW6_Wildtype_2024_08_16_01_08_1723772916/342'}, {'temp': 349, 'dir': 'simulation/runs/ENO4_A6NNW6_Wildtype_2024_08_16_01_08_1723772916/349'}, {'temp': 356, 'dir': 'simulation/runs/ENO4_A6NNW6_Wildtype_2024_08_16_01_08_1723772916/356'}]\n",
      "16-Aug-24 | 02:08\n",
      "execution time: 0.3125623757971658 hours\n",
      "16-Aug-24 | 02:27\n",
      "running [{'temp': 363, 'dir': 'simulation/runs/ENO4_A6NNW6_Wildtype_2024_08_16_01_08_1723772916/363'}, {'temp': 370, 'dir': 'simulation/runs/ENO4_A6NNW6_Wildtype_2024_08_16_01_08_1723772916/370'}]\n",
      "remaining temp, CPUs_pp = 48\n",
      "16-Aug-24 | 02:27\n",
      "execution time: 0.2388157976998223 hours\n",
      "16-Aug-24 | 02:41\n",
      "calculating ps densities\n",
      "simulation/runs/ENO4_A6NNW6_Wildtype_2024_08_16_01_08_1723772916/300\n"
     ]
    },
    {
     "name": "stderr",
     "output_type": "stream",
     "text": [
      "/home/ubuntu/CTP/simulation/runs/ENO4_A6NNW6_Wildtype_2024_08_16_01_08_1723772916/300/da.py:62: OptimizeWarning: Covariance of the parameters could not be estimated\n",
      "  popt, _ = curve_fit(super_gaussian, coords, avg_profile, p0=initial_guess, maxfev=20000)\n"
     ]
    },
    {
     "name": "stdout",
     "output_type": "stream",
     "text": [
      "Dense phase concentration: 0.19107507275541796 +/- 0.0026582800286907545\n",
      "Dilute phase concentration: 0.18999454934210525 +/- 0.002812592635776282\n",
      "simulation/runs/ENO4_A6NNW6_Wildtype_2024_08_16_01_08_1723772916/314\n"
     ]
    },
    {
     "name": "stderr",
     "output_type": "stream",
     "text": [
      "/home/ubuntu/CTP/simulation/runs/ENO4_A6NNW6_Wildtype_2024_08_16_01_08_1723772916/314/da.py:62: OptimizeWarning: Covariance of the parameters could not be estimated\n",
      "  popt, _ = curve_fit(super_gaussian, coords, avg_profile, p0=initial_guess, maxfev=20000)\n"
     ]
    },
    {
     "name": "stdout",
     "output_type": "stream",
     "text": [
      "Dense phase concentration: 0.19147705882352942 +/- 0.0033780515555573414\n",
      "Dilute phase concentration: 0.1891403125 +/- 0.00324703133180008\n",
      "simulation/runs/ENO4_A6NNW6_Wildtype_2024_08_16_01_08_1723772916/290\n"
     ]
    },
    {
     "name": "stderr",
     "output_type": "stream",
     "text": [
      "/home/ubuntu/CTP/simulation/runs/ENO4_A6NNW6_Wildtype_2024_08_16_01_08_1723772916/290/da.py:62: OptimizeWarning: Covariance of the parameters could not be estimated\n",
      "  popt, _ = curve_fit(super_gaussian, coords, avg_profile, p0=initial_guess, maxfev=20000)\n"
     ]
    },
    {
     "name": "stdout",
     "output_type": "stream",
     "text": [
      "Dense phase concentration: 0.19135553095975233 +/- 0.002957561244858299\n",
      "Dilute phase concentration: 0.18939855592105265 +/- 0.002453376342830385\n",
      "simulation/runs/ENO4_A6NNW6_Wildtype_2024_08_16_01_08_1723772916/342\n"
     ]
    },
    {
     "name": "stderr",
     "output_type": "stream",
     "text": [
      "/home/ubuntu/CTP/simulation/runs/ENO4_A6NNW6_Wildtype_2024_08_16_01_08_1723772916/342/da.py:62: OptimizeWarning: Covariance of the parameters could not be estimated\n",
      "  popt, _ = curve_fit(super_gaussian, coords, avg_profile, p0=initial_guess, maxfev=20000)\n"
     ]
    },
    {
     "name": "stdout",
     "output_type": "stream",
     "text": [
      "Dense phase concentration: 0.19116051393188851 +/- 0.0026506838236771855\n",
      "Dilute phase concentration: 0.18981293092105261 +/- 0.002692097376944694\n",
      "simulation/runs/ENO4_A6NNW6_Wildtype_2024_08_16_01_08_1723772916/328\n"
     ]
    },
    {
     "name": "stderr",
     "output_type": "stream",
     "text": [
      "/home/ubuntu/CTP/simulation/runs/ENO4_A6NNW6_Wildtype_2024_08_16_01_08_1723772916/328/da.py:62: OptimizeWarning: Covariance of the parameters could not be estimated\n",
      "  popt, _ = curve_fit(super_gaussian, coords, avg_profile, p0=initial_guess, maxfev=20000)\n"
     ]
    },
    {
     "name": "stdout",
     "output_type": "stream",
     "text": [
      "Dense phase concentration: 0.19111980030959752 +/- 0.002817656651168616\n",
      "Dilute phase concentration: 0.18989946710526318 +/- 0.002253879479718907\n",
      "simulation/runs/ENO4_A6NNW6_Wildtype_2024_08_16_01_08_1723772916/307\n"
     ]
    },
    {
     "name": "stderr",
     "output_type": "stream",
     "text": [
      "/home/ubuntu/CTP/simulation/runs/ENO4_A6NNW6_Wildtype_2024_08_16_01_08_1723772916/307/da.py:62: OptimizeWarning: Covariance of the parameters could not be estimated\n",
      "  popt, _ = curve_fit(super_gaussian, coords, avg_profile, p0=initial_guess, maxfev=20000)\n"
     ]
    },
    {
     "name": "stdout",
     "output_type": "stream",
     "text": [
      "Dense phase concentration: 0.19173388390092883 +/- 0.00291646390644193\n",
      "Dilute phase concentration: 0.18859457236842106 +/- 0.002691021317439226\n",
      "simulation/runs/ENO4_A6NNW6_Wildtype_2024_08_16_01_08_1723772916/363\n"
     ]
    },
    {
     "name": "stderr",
     "output_type": "stream",
     "text": [
      "/home/ubuntu/CTP/simulation/runs/ENO4_A6NNW6_Wildtype_2024_08_16_01_08_1723772916/363/da.py:62: OptimizeWarning: Covariance of the parameters could not be estimated\n",
      "  popt, _ = curve_fit(super_gaussian, coords, avg_profile, p0=initial_guess, maxfev=20000)\n"
     ]
    },
    {
     "name": "stdout",
     "output_type": "stream",
     "text": [
      "Dense phase concentration: 0.18988169040247677 +/- 0.002060821072780011\n",
      "Dilute phase concentration: 0.19253047039473684 +/- 0.0020472193764641076\n",
      "simulation/runs/ENO4_A6NNW6_Wildtype_2024_08_16_01_08_1723772916/250\n"
     ]
    },
    {
     "name": "stderr",
     "output_type": "stream",
     "text": [
      "/home/ubuntu/CTP/simulation/runs/ENO4_A6NNW6_Wildtype_2024_08_16_01_08_1723772916/250/da.py:62: OptimizeWarning: Covariance of the parameters could not be estimated\n",
      "  popt, _ = curve_fit(super_gaussian, coords, avg_profile, p0=initial_guess, maxfev=20000)\n"
     ]
    },
    {
     "name": "stdout",
     "output_type": "stream",
     "text": [
      "Dense phase concentration: 0.1916084055727554 +/- 0.004402108759149393\n",
      "Dilute phase concentration: 0.18886124671052634 +/- 0.0013856144424813292\n",
      "simulation/runs/ENO4_A6NNW6_Wildtype_2024_08_16_01_08_1723772916/321\n"
     ]
    },
    {
     "name": "stderr",
     "output_type": "stream",
     "text": [
      "/home/ubuntu/CTP/simulation/runs/ENO4_A6NNW6_Wildtype_2024_08_16_01_08_1723772916/321/da.py:62: OptimizeWarning: Covariance of the parameters could not be estimated\n",
      "  popt, _ = curve_fit(super_gaussian, coords, avg_profile, p0=initial_guess, maxfev=20000)\n"
     ]
    },
    {
     "name": "stdout",
     "output_type": "stream",
     "text": [
      "Dense phase concentration: 0.19148412693498454 +/- 0.002513225683980862\n",
      "Dilute phase concentration: 0.1891252730263158 +/- 0.0026636211113052395\n",
      "simulation/runs/ENO4_A6NNW6_Wildtype_2024_08_16_01_08_1723772916/349\n"
     ]
    },
    {
     "name": "stderr",
     "output_type": "stream",
     "text": [
      "/home/ubuntu/CTP/simulation/runs/ENO4_A6NNW6_Wildtype_2024_08_16_01_08_1723772916/349/da.py:62: OptimizeWarning: Covariance of the parameters could not be estimated\n",
      "  popt, _ = curve_fit(super_gaussian, coords, avg_profile, p0=initial_guess, maxfev=20000)\n"
     ]
    },
    {
     "name": "stdout",
     "output_type": "stream",
     "text": [
      "Dense phase concentration: 0.1911954411764706 +/- 0.0021967078478371525\n",
      "Dilute phase concentration: 0.18973877960526314 +/- 0.0027003823320673843\n",
      "simulation/runs/ENO4_A6NNW6_Wildtype_2024_08_16_01_08_1723772916/356\n"
     ]
    },
    {
     "name": "stderr",
     "output_type": "stream",
     "text": [
      "/home/ubuntu/CTP/simulation/runs/ENO4_A6NNW6_Wildtype_2024_08_16_01_08_1723772916/356/da.py:62: OptimizeWarning: Covariance of the parameters could not be estimated\n",
      "  popt, _ = curve_fit(super_gaussian, coords, avg_profile, p0=initial_guess, maxfev=20000)\n"
     ]
    },
    {
     "name": "stdout",
     "output_type": "stream",
     "text": [
      "Dense phase concentration: 0.19132427399380805 +/- 0.0026071463780153953\n",
      "Dilute phase concentration: 0.18946499013157894 +/- 0.002488969637565705\n",
      "simulation/runs/ENO4_A6NNW6_Wildtype_2024_08_16_01_08_1723772916/370\n"
     ]
    },
    {
     "name": "stderr",
     "output_type": "stream",
     "text": [
      "/home/ubuntu/CTP/simulation/runs/ENO4_A6NNW6_Wildtype_2024_08_16_01_08_1723772916/370/da.py:62: OptimizeWarning: Covariance of the parameters could not be estimated\n",
      "  popt, _ = curve_fit(super_gaussian, coords, avg_profile, p0=initial_guess, maxfev=20000)\n"
     ]
    },
    {
     "name": "stdout",
     "output_type": "stream",
     "text": [
      "Dense phase concentration: 0.19055679566563472 +/- 0.0023195864237854874\n",
      "Dilute phase concentration: 0.19109588486842105 +/- 0.0019181766954348963\n",
      "simulation/runs/ENO4_A6NNW6_Wildtype_2024_08_16_01_08_1723772916/335\n"
     ]
    },
    {
     "name": "stderr",
     "output_type": "stream",
     "text": [
      "/home/ubuntu/CTP/simulation/runs/ENO4_A6NNW6_Wildtype_2024_08_16_01_08_1723772916/335/da.py:62: OptimizeWarning: Covariance of the parameters could not be estimated\n",
      "  popt, _ = curve_fit(super_gaussian, coords, avg_profile, p0=initial_guess, maxfev=20000)\n"
     ]
    },
    {
     "name": "stdout",
     "output_type": "stream",
     "text": [
      "Dense phase concentration: 0.19150406037151702 +/- 0.003318961263363788\n",
      "Dilute phase concentration: 0.18908290131578948 +/- 0.0028798170770237097\n",
      "simulation/runs/ENO4_A6NNW6_Wildtype_2024_08_16_01_08_1723772916/270\n"
     ]
    },
    {
     "name": "stderr",
     "output_type": "stream",
     "text": [
      "/home/ubuntu/CTP/simulation/runs/ENO4_A6NNW6_Wildtype_2024_08_16_01_08_1723772916/270/da.py:62: OptimizeWarning: Covariance of the parameters could not be estimated\n",
      "  popt, _ = curve_fit(super_gaussian, coords, avg_profile, p0=initial_guess, maxfev=20000)\n"
     ]
    },
    {
     "name": "stdout",
     "output_type": "stream",
     "text": [
      "Dense phase concentration: 0.1919631950464396 +/- 0.0037951731798607437\n",
      "Dilute phase concentration: 0.1881072730263158 +/- 0.0027852163829029525\n"
     ]
    },
    {
     "name": "stderr",
     "output_type": "stream",
     "text": [
      "/home/ubuntu/anaconda3/envs/lammps/lib/python3.9/site-packages/matplotlib/collections.py:197: ComplexWarning: Casting complex values to real discards the imaginary part\n",
      "  offsets = np.asanyarray(offsets, float)\n",
      "/home/ubuntu/anaconda3/envs/lammps/lib/python3.9/site-packages/matplotlib/cbook.py:1762: ComplexWarning: Casting complex values to real discards the imaginary part\n",
      "  return math.isfinite(val)\n",
      "/home/ubuntu/anaconda3/envs/lammps/lib/python3.9/site-packages/matplotlib/cbook.py:1398: ComplexWarning: Casting complex values to real discards the imaginary part\n",
      "  return np.asarray(x, float)\n"
     ]
    },
    {
     "name": "stdout",
     "output_type": "stream",
     "text": [
      "File densities_chunked_temp250.txt read successfully with 2 lines.\n",
      "Original data lines:\n",
      "Dense phase concentration: 0.1916084055727554 +/- 0.004402108759149393\n",
      "Dilute phase concentration: 0.18886124671052634 +/- 0.0013856144424813292\n",
      "Filtered data lines: 2\n",
      "Dense phase concentration: 0.1916084055727554 +/- 0.004402108759149393\n",
      "Dilute phase concentration: 0.18886124671052634 +/- 0.0013856144424813292\n",
      "File densities_chunked_temp270.txt read successfully with 2 lines.\n",
      "Original data lines:\n",
      "Dense phase concentration: 0.1919631950464396 +/- 0.0037951731798607437\n",
      "Dilute phase concentration: 0.1881072730263158 +/- 0.0027852163829029525\n",
      "Filtered data lines: 2\n",
      "Dense phase concentration: 0.1919631950464396 +/- 0.0037951731798607437\n",
      "Dilute phase concentration: 0.1881072730263158 +/- 0.0027852163829029525\n",
      "File densities_chunked_temp290.txt read successfully with 2 lines.\n",
      "Original data lines:\n",
      "Dense phase concentration: 0.19135553095975233 +/- 0.002957561244858299\n",
      "Dilute phase concentration: 0.18939855592105265 +/- 0.002453376342830385\n",
      "Filtered data lines: 2\n",
      "Dense phase concentration: 0.19135553095975233 +/- 0.002957561244858299\n",
      "Dilute phase concentration: 0.18939855592105265 +/- 0.002453376342830385\n",
      "File densities_chunked_temp300.txt read successfully with 2 lines.\n",
      "Original data lines:\n",
      "Dense phase concentration: 0.19107507275541796 +/- 0.0026582800286907545\n",
      "Dilute phase concentration: 0.18999454934210525 +/- 0.002812592635776282\n",
      "Filtered data lines: 2\n",
      "Dense phase concentration: 0.19107507275541796 +/- 0.0026582800286907545\n",
      "Dilute phase concentration: 0.18999454934210525 +/- 0.002812592635776282\n",
      "File densities_chunked_temp307.txt read successfully with 2 lines.\n",
      "Original data lines:\n",
      "Dense phase concentration: 0.19173388390092883 +/- 0.00291646390644193\n",
      "Dilute phase concentration: 0.18859457236842106 +/- 0.002691021317439226\n",
      "Filtered data lines: 2\n",
      "Dense phase concentration: 0.19173388390092883 +/- 0.00291646390644193\n",
      "Dilute phase concentration: 0.18859457236842106 +/- 0.002691021317439226\n",
      "File densities_chunked_temp314.txt read successfully with 2 lines.\n",
      "Original data lines:\n",
      "Dense phase concentration: 0.19147705882352942 +/- 0.0033780515555573414\n",
      "Dilute phase concentration: 0.1891403125 +/- 0.00324703133180008\n",
      "Filtered data lines: 2\n",
      "Dense phase concentration: 0.19147705882352942 +/- 0.0033780515555573414\n",
      "Dilute phase concentration: 0.1891403125 +/- 0.00324703133180008\n",
      "File densities_chunked_temp321.txt read successfully with 2 lines.\n",
      "Original data lines:\n",
      "Dense phase concentration: 0.19148412693498454 +/- 0.002513225683980862\n",
      "Dilute phase concentration: 0.1891252730263158 +/- 0.0026636211113052395\n",
      "Filtered data lines: 2\n",
      "Dense phase concentration: 0.19148412693498454 +/- 0.002513225683980862\n",
      "Dilute phase concentration: 0.1891252730263158 +/- 0.0026636211113052395\n",
      "File densities_chunked_temp328.txt read successfully with 2 lines.\n",
      "Original data lines:\n",
      "Dense phase concentration: 0.19111980030959752 +/- 0.002817656651168616\n",
      "Dilute phase concentration: 0.18989946710526318 +/- 0.002253879479718907\n",
      "Filtered data lines: 2\n",
      "Dense phase concentration: 0.19111980030959752 +/- 0.002817656651168616\n",
      "Dilute phase concentration: 0.18989946710526318 +/- 0.002253879479718907\n",
      "File densities_chunked_temp335.txt read successfully with 2 lines.\n",
      "Original data lines:\n",
      "Dense phase concentration: 0.19150406037151702 +/- 0.003318961263363788\n",
      "Dilute phase concentration: 0.18908290131578948 +/- 0.0028798170770237097\n",
      "Filtered data lines: 2\n",
      "Dense phase concentration: 0.19150406037151702 +/- 0.003318961263363788\n",
      "Dilute phase concentration: 0.18908290131578948 +/- 0.0028798170770237097\n",
      "File densities_chunked_temp342.txt read successfully with 2 lines.\n",
      "Original data lines:\n",
      "Dense phase concentration: 0.19116051393188851 +/- 0.0026506838236771855\n",
      "Dilute phase concentration: 0.18981293092105261 +/- 0.002692097376944694\n",
      "Filtered data lines: 2\n",
      "Dense phase concentration: 0.19116051393188851 +/- 0.0026506838236771855\n",
      "Dilute phase concentration: 0.18981293092105261 +/- 0.002692097376944694\n",
      "File densities_chunked_temp349.txt read successfully with 2 lines.\n",
      "Original data lines:\n",
      "Dense phase concentration: 0.1911954411764706 +/- 0.0021967078478371525\n",
      "Dilute phase concentration: 0.18973877960526314 +/- 0.0027003823320673843\n",
      "Filtered data lines: 2\n",
      "Dense phase concentration: 0.1911954411764706 +/- 0.0021967078478371525\n",
      "Dilute phase concentration: 0.18973877960526314 +/- 0.0027003823320673843\n",
      "File densities_chunked_temp356.txt read successfully with 2 lines.\n",
      "Original data lines:\n",
      "Dense phase concentration: 0.19132427399380805 +/- 0.0026071463780153953\n",
      "Dilute phase concentration: 0.18946499013157894 +/- 0.002488969637565705\n",
      "Filtered data lines: 2\n",
      "Dense phase concentration: 0.19132427399380805 +/- 0.0026071463780153953\n",
      "Dilute phase concentration: 0.18946499013157894 +/- 0.002488969637565705\n",
      "File densities_chunked_temp363.txt read successfully with 2 lines.\n",
      "Original data lines:\n",
      "Dense phase concentration: 0.18988169040247677 +/- 0.002060821072780011\n",
      "Dilute phase concentration: 0.19253047039473684 +/- 0.0020472193764641076\n",
      "Filtered data lines: 2\n",
      "Dense phase concentration: 0.18988169040247677 +/- 0.002060821072780011\n",
      "Dilute phase concentration: 0.19253047039473684 +/- 0.0020472193764641076\n",
      "File densities_chunked_temp370.txt read successfully with 2 lines.\n",
      "Original data lines:\n",
      "Dense phase concentration: 0.19055679566563472 +/- 0.0023195864237854874\n",
      "Dilute phase concentration: 0.19109588486842105 +/- 0.0019181766954348963\n",
      "Filtered data lines: 2\n",
      "Dense phase concentration: 0.19055679566563472 +/- 0.0023195864237854874\n",
      "Dilute phase concentration: 0.19109588486842105 +/- 0.0019181766954348963\n",
      "Temperatures: [250, 270, 290, 300, 307, 314, 321, 328, 335, 342, 349, 356, 363, 370]\n",
      "Dense phase concentrations: [0.1916084055727554, 0.1919631950464396, 0.19135553095975233, 0.19107507275541796, 0.19173388390092883, 0.19147705882352942, 0.19148412693498454, 0.19111980030959752, 0.19150406037151702, 0.19116051393188851, 0.1911954411764706, 0.19132427399380805, 0.18988169040247677, 0.19055679566563472]\n",
      "Dilute phase concentrations: [0.18886124671052634, 0.1881072730263158, 0.18939855592105265, 0.18999454934210525, 0.18859457236842106, 0.1891403125, 0.1891252730263158, 0.18989946710526318, 0.18908290131578948, 0.18981293092105261, 0.18973877960526314, 0.18946499013157894, 0.19253047039473684, 0.19109588486842105]\n",
      "Dense std dev: [0.004402108759149393, 0.0037951731798607437, 0.002957561244858299, 0.0026582800286907545, 0.00291646390644193, 0.0033780515555573414, 0.002513225683980862, 0.002817656651168616, 0.003318961263363788, 0.0026506838236771855, 0.0021967078478371525, 0.0026071463780153953, 0.002060821072780011, 0.0023195864237854874]\n",
      "Dilute std dev: [0.0013856144424813292, 0.0027852163829029525, 0.002453376342830385, 0.002812592635776282, 0.002691021317439226, 0.00324703133180008, 0.0026636211113052395, 0.002253879479718907, 0.0028798170770237097, 0.002692097376944694, 0.0027003823320673843, 0.002488969637565705, 0.0020472193764641076, 0.0019181766954348963]\n",
      "Critical Solution Temperature: 353.52-1.61j K written to critical_solution_temperature.txt\n",
      "execution time: 0.8904310538371404 hours\n",
      "16-Aug-24 | 02:42\n",
      "\n",
      "\n",
      "running simulation for FARP1_Q9Y4F1_Wildtype\n",
      "16-Aug-24 | 02:42\n",
      "seq len 41\n",
      "total temps 14\n",
      "simulation/runs/FARP1_Q9Y4F1_Wildtype_2024_08_16_02_08_1723776122\n",
      "step 1: running input single chain\n"
     ]
    },
    {
     "name": "stderr",
     "output_type": "stream",
     "text": [
      "/home/ubuntu/CTP/simulation/runs/FARP1_Q9Y4F1_Wildtype_2024_08_16_02_08_1723776122/seq2config.py:67: DeprecationWarning: Conversion of an array with ndim > 0 to a scalar is deprecated, and will error in future. Ensure you extract a single element from your array before performing this operation. (Deprecated NumPy 1.25.)\n",
      "  typescharges.append([int(types[p,1]),float(charges[k,1])])\n"
     ]
    },
    {
     "name": "stdout",
     "output_type": "stream",
     "text": [
      "step 2: running compress single chain\n",
      "step 3: direct coexistence\n",
      "running [{'temp': 250, 'dir': 'simulation/runs/FARP1_Q9Y4F1_Wildtype_2024_08_16_02_08_1723776122/250'}, {'temp': 270, 'dir': 'simulation/runs/FARP1_Q9Y4F1_Wildtype_2024_08_16_02_08_1723776122/270'}, {'temp': 290, 'dir': 'simulation/runs/FARP1_Q9Y4F1_Wildtype_2024_08_16_02_08_1723776122/290'}, {'temp': 300, 'dir': 'simulation/runs/FARP1_Q9Y4F1_Wildtype_2024_08_16_02_08_1723776122/300'}, {'temp': 307, 'dir': 'simulation/runs/FARP1_Q9Y4F1_Wildtype_2024_08_16_02_08_1723776122/307'}, {'temp': 314, 'dir': 'simulation/runs/FARP1_Q9Y4F1_Wildtype_2024_08_16_02_08_1723776122/314'}]\n",
      "16-Aug-24 | 02:43\n",
      "execution time: 0.33287085248364345 hours\n",
      "16-Aug-24 | 03:03\n",
      "running [{'temp': 321, 'dir': 'simulation/runs/FARP1_Q9Y4F1_Wildtype_2024_08_16_02_08_1723776122/321'}, {'temp': 328, 'dir': 'simulation/runs/FARP1_Q9Y4F1_Wildtype_2024_08_16_02_08_1723776122/328'}, {'temp': 335, 'dir': 'simulation/runs/FARP1_Q9Y4F1_Wildtype_2024_08_16_02_08_1723776122/335'}, {'temp': 342, 'dir': 'simulation/runs/FARP1_Q9Y4F1_Wildtype_2024_08_16_02_08_1723776122/342'}, {'temp': 349, 'dir': 'simulation/runs/FARP1_Q9Y4F1_Wildtype_2024_08_16_02_08_1723776122/349'}, {'temp': 356, 'dir': 'simulation/runs/FARP1_Q9Y4F1_Wildtype_2024_08_16_02_08_1723776122/356'}]\n",
      "16-Aug-24 | 03:03\n",
      "execution time: 0.3353724628686905 hours\n",
      "16-Aug-24 | 03:23\n",
      "running [{'temp': 363, 'dir': 'simulation/runs/FARP1_Q9Y4F1_Wildtype_2024_08_16_02_08_1723776122/363'}, {'temp': 370, 'dir': 'simulation/runs/FARP1_Q9Y4F1_Wildtype_2024_08_16_02_08_1723776122/370'}]\n",
      "remaining temp, CPUs_pp = 48\n",
      "16-Aug-24 | 03:23\n",
      "execution time: 0.2516478637854258 hours\n",
      "16-Aug-24 | 03:39\n",
      "calculating ps densities\n",
      "simulation/runs/FARP1_Q9Y4F1_Wildtype_2024_08_16_02_08_1723776122/300\n"
     ]
    },
    {
     "name": "stderr",
     "output_type": "stream",
     "text": [
      "/home/ubuntu/CTP/simulation/runs/FARP1_Q9Y4F1_Wildtype_2024_08_16_02_08_1723776122/300/da.py:62: OptimizeWarning: Covariance of the parameters could not be estimated\n",
      "  popt, _ = curve_fit(super_gaussian, coords, avg_profile, p0=initial_guess, maxfev=20000)\n"
     ]
    },
    {
     "name": "stdout",
     "output_type": "stream",
     "text": [
      "Dense phase concentration: 0.20889415015479876 +/- 0.005034564513490453\n",
      "Dilute phase concentration: 0.2112897335526316 +/- 0.0031862001036623237\n",
      "simulation/runs/FARP1_Q9Y4F1_Wildtype_2024_08_16_02_08_1723776122/314\n"
     ]
    },
    {
     "name": "stderr",
     "output_type": "stream",
     "text": [
      "/home/ubuntu/CTP/simulation/runs/FARP1_Q9Y4F1_Wildtype_2024_08_16_02_08_1723776122/314/da.py:62: OptimizeWarning: Covariance of the parameters could not be estimated\n",
      "  popt, _ = curve_fit(super_gaussian, coords, avg_profile, p0=initial_guess, maxfev=20000)\n"
     ]
    },
    {
     "name": "stdout",
     "output_type": "stream",
     "text": [
      "Dense phase concentration: 0.209071866873065 +/- 0.004135573140701474\n",
      "Dilute phase concentration: 0.2109121217105263 +/- 0.005568539271134625\n",
      "simulation/runs/FARP1_Q9Y4F1_Wildtype_2024_08_16_02_08_1723776122/290\n"
     ]
    },
    {
     "name": "stderr",
     "output_type": "stream",
     "text": [
      "/home/ubuntu/CTP/simulation/runs/FARP1_Q9Y4F1_Wildtype_2024_08_16_02_08_1723776122/290/da.py:62: OptimizeWarning: Covariance of the parameters could not be estimated\n",
      "  popt, _ = curve_fit(super_gaussian, coords, avg_profile, p0=initial_guess, maxfev=20000)\n"
     ]
    },
    {
     "name": "stdout",
     "output_type": "stream",
     "text": [
      "Dense phase concentration: 0.20973059907120742 +/- 0.004825194168956323\n",
      "Dilute phase concentration: 0.2095123552631579 +/- 0.00428327487885686\n",
      "simulation/runs/FARP1_Q9Y4F1_Wildtype_2024_08_16_02_08_1723776122/342\n"
     ]
    },
    {
     "name": "stderr",
     "output_type": "stream",
     "text": [
      "/home/ubuntu/CTP/simulation/runs/FARP1_Q9Y4F1_Wildtype_2024_08_16_02_08_1723776122/342/da.py:62: OptimizeWarning: Covariance of the parameters could not be estimated\n",
      "  popt, _ = curve_fit(super_gaussian, coords, avg_profile, p0=initial_guess, maxfev=20000)\n"
     ]
    },
    {
     "name": "stdout",
     "output_type": "stream",
     "text": [
      "Dense phase concentration: 0.2106652414860681 +/- 0.0038444176517391216\n",
      "Dilute phase concentration: 0.20752611184210526 +/- 0.003391266746523871\n",
      "simulation/runs/FARP1_Q9Y4F1_Wildtype_2024_08_16_02_08_1723776122/328\n"
     ]
    },
    {
     "name": "stderr",
     "output_type": "stream",
     "text": [
      "/home/ubuntu/CTP/simulation/runs/FARP1_Q9Y4F1_Wildtype_2024_08_16_02_08_1723776122/328/da.py:62: OptimizeWarning: Covariance of the parameters could not be estimated\n",
      "  popt, _ = curve_fit(super_gaussian, coords, avg_profile, p0=initial_guess, maxfev=20000)\n"
     ]
    },
    {
     "name": "stdout",
     "output_type": "stream",
     "text": [
      "Dense phase concentration: 0.21001925541795666 +/- 0.0031020643119738906\n",
      "Dilute phase concentration: 0.20889894407894738 +/- 0.0028755714453446335\n",
      "simulation/runs/FARP1_Q9Y4F1_Wildtype_2024_08_16_02_08_1723776122/307\n"
     ]
    },
    {
     "name": "stderr",
     "output_type": "stream",
     "text": [
      "/home/ubuntu/CTP/simulation/runs/FARP1_Q9Y4F1_Wildtype_2024_08_16_02_08_1723776122/307/da.py:62: OptimizeWarning: Covariance of the parameters could not be estimated\n",
      "  popt, _ = curve_fit(super_gaussian, coords, avg_profile, p0=initial_guess, maxfev=20000)\n"
     ]
    },
    {
     "name": "stdout",
     "output_type": "stream",
     "text": [
      "Dense phase concentration: 0.20985122755417954 +/- 0.003548813352581179\n",
      "Dilute phase concentration: 0.20925597368421053 +/- 0.003566472390517954\n",
      "simulation/runs/FARP1_Q9Y4F1_Wildtype_2024_08_16_02_08_1723776122/363\n"
     ]
    },
    {
     "name": "stderr",
     "output_type": "stream",
     "text": [
      "/home/ubuntu/CTP/simulation/runs/FARP1_Q9Y4F1_Wildtype_2024_08_16_02_08_1723776122/363/da.py:62: OptimizeWarning: Covariance of the parameters could not be estimated\n",
      "  popt, _ = curve_fit(super_gaussian, coords, avg_profile, p0=initial_guess, maxfev=20000)\n"
     ]
    },
    {
     "name": "stdout",
     "output_type": "stream",
     "text": [
      "Dense phase concentration: 0.20973204643962848 +/- 0.0021113425666828747\n",
      "Dilute phase concentration: 0.2095092039473684 +/- 0.0019303431092288494\n",
      "simulation/runs/FARP1_Q9Y4F1_Wildtype_2024_08_16_02_08_1723776122/250\n"
     ]
    },
    {
     "name": "stderr",
     "output_type": "stream",
     "text": [
      "/home/ubuntu/CTP/simulation/runs/FARP1_Q9Y4F1_Wildtype_2024_08_16_02_08_1723776122/250/da.py:62: OptimizeWarning: Covariance of the parameters could not be estimated\n",
      "  popt, _ = curve_fit(super_gaussian, coords, avg_profile, p0=initial_guess, maxfev=20000)\n"
     ]
    },
    {
     "name": "stdout",
     "output_type": "stream",
     "text": [
      "Dense phase concentration: 0.21069308359133126 +/- 0.003519202234961572\n",
      "Dilute phase concentration: 0.20746699342105263 +/- 0.0034221064402183404\n",
      "simulation/runs/FARP1_Q9Y4F1_Wildtype_2024_08_16_02_08_1723776122/321\n"
     ]
    },
    {
     "name": "stderr",
     "output_type": "stream",
     "text": [
      "/home/ubuntu/CTP/simulation/runs/FARP1_Q9Y4F1_Wildtype_2024_08_16_02_08_1723776122/321/da.py:62: OptimizeWarning: Covariance of the parameters could not be estimated\n",
      "  popt, _ = curve_fit(super_gaussian, coords, avg_profile, p0=initial_guess, maxfev=20000)\n"
     ]
    },
    {
     "name": "stdout",
     "output_type": "stream",
     "text": [
      "Dense phase concentration: 0.2098090232198142 +/- 0.0032959458836941385\n",
      "Dilute phase concentration: 0.20934562499999998 +/- 0.003062261932454873\n",
      "simulation/runs/FARP1_Q9Y4F1_Wildtype_2024_08_16_02_08_1723776122/349\n"
     ]
    },
    {
     "name": "stderr",
     "output_type": "stream",
     "text": [
      "/home/ubuntu/CTP/simulation/runs/FARP1_Q9Y4F1_Wildtype_2024_08_16_02_08_1723776122/349/da.py:62: OptimizeWarning: Covariance of the parameters could not be estimated\n",
      "  popt, _ = curve_fit(super_gaussian, coords, avg_profile, p0=initial_guess, maxfev=20000)\n"
     ]
    },
    {
     "name": "stdout",
     "output_type": "stream",
     "text": [
      "Dense phase concentration: 0.21079689938080495 +/- 0.002840787473628088\n",
      "Dilute phase concentration: 0.20724639802631578 +/- 0.0026904419164914275\n",
      "simulation/runs/FARP1_Q9Y4F1_Wildtype_2024_08_16_02_08_1723776122/356\n"
     ]
    },
    {
     "name": "stderr",
     "output_type": "stream",
     "text": [
      "/home/ubuntu/CTP/simulation/runs/FARP1_Q9Y4F1_Wildtype_2024_08_16_02_08_1723776122/356/da.py:62: OptimizeWarning: Covariance of the parameters could not be estimated\n",
      "  popt, _ = curve_fit(super_gaussian, coords, avg_profile, p0=initial_guess, maxfev=20000)\n"
     ]
    },
    {
     "name": "stdout",
     "output_type": "stream",
     "text": [
      "Dense phase concentration: 0.21098707120743032 +/- 0.002645552730177134\n",
      "Dilute phase concentration: 0.20684228947368422 +/- 0.0037922817007604356\n",
      "simulation/runs/FARP1_Q9Y4F1_Wildtype_2024_08_16_02_08_1723776122/370\n"
     ]
    },
    {
     "name": "stderr",
     "output_type": "stream",
     "text": [
      "/home/ubuntu/CTP/simulation/runs/FARP1_Q9Y4F1_Wildtype_2024_08_16_02_08_1723776122/370/da.py:62: OptimizeWarning: Covariance of the parameters could not be estimated\n",
      "  popt, _ = curve_fit(super_gaussian, coords, avg_profile, p0=initial_guess, maxfev=20000)\n"
     ]
    },
    {
     "name": "stdout",
     "output_type": "stream",
     "text": [
      "Dense phase concentration: 0.20942343343653255 +/- 0.0035154229736592546\n",
      "Dilute phase concentration: 0.2101650197368421 +/- 0.0032042959829725643\n",
      "simulation/runs/FARP1_Q9Y4F1_Wildtype_2024_08_16_02_08_1723776122/335\n"
     ]
    },
    {
     "name": "stderr",
     "output_type": "stream",
     "text": [
      "/home/ubuntu/CTP/simulation/runs/FARP1_Q9Y4F1_Wildtype_2024_08_16_02_08_1723776122/335/da.py:62: OptimizeWarning: Covariance of the parameters could not be estimated\n",
      "  popt, _ = curve_fit(super_gaussian, coords, avg_profile, p0=initial_guess, maxfev=20000)\n"
     ]
    },
    {
     "name": "stdout",
     "output_type": "stream",
     "text": [
      "Dense phase concentration: 0.21060937151702785 +/- 0.0034166844727792833\n",
      "Dilute phase concentration: 0.20764490460526314 +/- 0.002351098524349342\n",
      "simulation/runs/FARP1_Q9Y4F1_Wildtype_2024_08_16_02_08_1723776122/270\n"
     ]
    },
    {
     "name": "stderr",
     "output_type": "stream",
     "text": [
      "/home/ubuntu/CTP/simulation/runs/FARP1_Q9Y4F1_Wildtype_2024_08_16_02_08_1723776122/270/da.py:62: OptimizeWarning: Covariance of the parameters could not be estimated\n",
      "  popt, _ = curve_fit(super_gaussian, coords, avg_profile, p0=initial_guess, maxfev=20000)\n"
     ]
    },
    {
     "name": "stdout",
     "output_type": "stream",
     "text": [
      "Dense phase concentration: 0.20978980185758517 +/- 0.004743819360338534\n",
      "Dilute phase concentration: 0.2093865032894737 +/- 0.0033298835939039014\n"
     ]
    },
    {
     "name": "stderr",
     "output_type": "stream",
     "text": [
      "/home/ubuntu/anaconda3/envs/lammps/lib/python3.9/site-packages/matplotlib/collections.py:197: ComplexWarning: Casting complex values to real discards the imaginary part\n",
      "  offsets = np.asanyarray(offsets, float)\n",
      "/home/ubuntu/anaconda3/envs/lammps/lib/python3.9/site-packages/matplotlib/cbook.py:1762: ComplexWarning: Casting complex values to real discards the imaginary part\n",
      "  return math.isfinite(val)\n",
      "/home/ubuntu/anaconda3/envs/lammps/lib/python3.9/site-packages/matplotlib/cbook.py:1398: ComplexWarning: Casting complex values to real discards the imaginary part\n",
      "  return np.asarray(x, float)\n"
     ]
    },
    {
     "name": "stdout",
     "output_type": "stream",
     "text": [
      "File densities_chunked_temp250.txt read successfully with 2 lines.\n",
      "Original data lines:\n",
      "Dense phase concentration: 0.21069308359133126 +/- 0.003519202234961572\n",
      "Dilute phase concentration: 0.20746699342105263 +/- 0.0034221064402183404\n",
      "Filtered data lines: 2\n",
      "Dense phase concentration: 0.21069308359133126 +/- 0.003519202234961572\n",
      "Dilute phase concentration: 0.20746699342105263 +/- 0.0034221064402183404\n",
      "File densities_chunked_temp270.txt read successfully with 2 lines.\n",
      "Original data lines:\n",
      "Dense phase concentration: 0.20978980185758517 +/- 0.004743819360338534\n",
      "Dilute phase concentration: 0.2093865032894737 +/- 0.0033298835939039014\n",
      "Filtered data lines: 2\n",
      "Dense phase concentration: 0.20978980185758517 +/- 0.004743819360338534\n",
      "Dilute phase concentration: 0.2093865032894737 +/- 0.0033298835939039014\n",
      "File densities_chunked_temp290.txt read successfully with 2 lines.\n",
      "Original data lines:\n",
      "Dense phase concentration: 0.20973059907120742 +/- 0.004825194168956323\n",
      "Dilute phase concentration: 0.2095123552631579 +/- 0.00428327487885686\n",
      "Filtered data lines: 2\n",
      "Dense phase concentration: 0.20973059907120742 +/- 0.004825194168956323\n",
      "Dilute phase concentration: 0.2095123552631579 +/- 0.00428327487885686\n",
      "File densities_chunked_temp300.txt read successfully with 2 lines.\n",
      "Original data lines:\n",
      "Dense phase concentration: 0.20889415015479876 +/- 0.005034564513490453\n",
      "Dilute phase concentration: 0.2112897335526316 +/- 0.0031862001036623237\n",
      "Filtered data lines: 2\n",
      "Dense phase concentration: 0.20889415015479876 +/- 0.005034564513490453\n",
      "Dilute phase concentration: 0.2112897335526316 +/- 0.0031862001036623237\n",
      "File densities_chunked_temp307.txt read successfully with 2 lines.\n",
      "Original data lines:\n",
      "Dense phase concentration: 0.20985122755417954 +/- 0.003548813352581179\n",
      "Dilute phase concentration: 0.20925597368421053 +/- 0.003566472390517954\n",
      "Filtered data lines: 2\n",
      "Dense phase concentration: 0.20985122755417954 +/- 0.003548813352581179\n",
      "Dilute phase concentration: 0.20925597368421053 +/- 0.003566472390517954\n",
      "File densities_chunked_temp314.txt read successfully with 2 lines.\n",
      "Original data lines:\n",
      "Dense phase concentration: 0.209071866873065 +/- 0.004135573140701474\n",
      "Dilute phase concentration: 0.2109121217105263 +/- 0.005568539271134625\n",
      "Filtered data lines: 2\n",
      "Dense phase concentration: 0.209071866873065 +/- 0.004135573140701474\n",
      "Dilute phase concentration: 0.2109121217105263 +/- 0.005568539271134625\n",
      "File densities_chunked_temp321.txt read successfully with 2 lines.\n",
      "Original data lines:\n",
      "Dense phase concentration: 0.2098090232198142 +/- 0.0032959458836941385\n",
      "Dilute phase concentration: 0.20934562499999998 +/- 0.003062261932454873\n",
      "Filtered data lines: 2\n",
      "Dense phase concentration: 0.2098090232198142 +/- 0.0032959458836941385\n",
      "Dilute phase concentration: 0.20934562499999998 +/- 0.003062261932454873\n",
      "File densities_chunked_temp328.txt read successfully with 2 lines.\n",
      "Original data lines:\n",
      "Dense phase concentration: 0.21001925541795666 +/- 0.0031020643119738906\n",
      "Dilute phase concentration: 0.20889894407894738 +/- 0.0028755714453446335\n",
      "Filtered data lines: 2\n",
      "Dense phase concentration: 0.21001925541795666 +/- 0.0031020643119738906\n",
      "Dilute phase concentration: 0.20889894407894738 +/- 0.0028755714453446335\n",
      "File densities_chunked_temp335.txt read successfully with 2 lines.\n",
      "Original data lines:\n",
      "Dense phase concentration: 0.21060937151702785 +/- 0.0034166844727792833\n",
      "Dilute phase concentration: 0.20764490460526314 +/- 0.002351098524349342\n",
      "Filtered data lines: 2\n",
      "Dense phase concentration: 0.21060937151702785 +/- 0.0034166844727792833\n",
      "Dilute phase concentration: 0.20764490460526314 +/- 0.002351098524349342\n",
      "File densities_chunked_temp342.txt read successfully with 2 lines.\n",
      "Original data lines:\n",
      "Dense phase concentration: 0.2106652414860681 +/- 0.0038444176517391216\n",
      "Dilute phase concentration: 0.20752611184210526 +/- 0.003391266746523871\n",
      "Filtered data lines: 2\n",
      "Dense phase concentration: 0.2106652414860681 +/- 0.0038444176517391216\n",
      "Dilute phase concentration: 0.20752611184210526 +/- 0.003391266746523871\n",
      "File densities_chunked_temp349.txt read successfully with 2 lines.\n",
      "Original data lines:\n",
      "Dense phase concentration: 0.21079689938080495 +/- 0.002840787473628088\n",
      "Dilute phase concentration: 0.20724639802631578 +/- 0.0026904419164914275\n",
      "Filtered data lines: 2\n",
      "Dense phase concentration: 0.21079689938080495 +/- 0.002840787473628088\n",
      "Dilute phase concentration: 0.20724639802631578 +/- 0.0026904419164914275\n",
      "File densities_chunked_temp356.txt read successfully with 2 lines.\n",
      "Original data lines:\n",
      "Dense phase concentration: 0.21098707120743032 +/- 0.002645552730177134\n",
      "Dilute phase concentration: 0.20684228947368422 +/- 0.0037922817007604356\n",
      "Filtered data lines: 2\n",
      "Dense phase concentration: 0.21098707120743032 +/- 0.002645552730177134\n",
      "Dilute phase concentration: 0.20684228947368422 +/- 0.0037922817007604356\n",
      "File densities_chunked_temp363.txt read successfully with 2 lines.\n",
      "Original data lines:\n",
      "Dense phase concentration: 0.20973204643962848 +/- 0.0021113425666828747\n",
      "Dilute phase concentration: 0.2095092039473684 +/- 0.0019303431092288494\n",
      "Filtered data lines: 2\n",
      "Dense phase concentration: 0.20973204643962848 +/- 0.0021113425666828747\n",
      "Dilute phase concentration: 0.2095092039473684 +/- 0.0019303431092288494\n",
      "File densities_chunked_temp370.txt read successfully with 2 lines.\n",
      "Original data lines:\n",
      "Dense phase concentration: 0.20942343343653255 +/- 0.0035154229736592546\n",
      "Dilute phase concentration: 0.2101650197368421 +/- 0.0032042959829725643\n",
      "Filtered data lines: 2\n",
      "Dense phase concentration: 0.20942343343653255 +/- 0.0035154229736592546\n",
      "Dilute phase concentration: 0.2101650197368421 +/- 0.0032042959829725643\n",
      "Temperatures: [250, 270, 290, 300, 307, 314, 321, 328, 335, 342, 349, 356, 363, 370]\n",
      "Dense phase concentrations: [0.21069308359133126, 0.20978980185758517, 0.20973059907120742, 0.20889415015479876, 0.20985122755417954, 0.209071866873065, 0.2098090232198142, 0.21001925541795666, 0.21060937151702785, 0.2106652414860681, 0.21079689938080495, 0.21098707120743032, 0.20973204643962848, 0.20942343343653255]\n",
      "Dilute phase concentrations: [0.20746699342105263, 0.2093865032894737, 0.2095123552631579, 0.2112897335526316, 0.20925597368421053, 0.2109121217105263, 0.20934562499999998, 0.20889894407894738, 0.20764490460526314, 0.20752611184210526, 0.20724639802631578, 0.20684228947368422, 0.2095092039473684, 0.2101650197368421]\n",
      "Dense std dev: [0.003519202234961572, 0.004743819360338534, 0.004825194168956323, 0.005034564513490453, 0.003548813352581179, 0.004135573140701474, 0.0032959458836941385, 0.0031020643119738906, 0.0034166844727792833, 0.0038444176517391216, 0.002840787473628088, 0.002645552730177134, 0.0021113425666828747, 0.0035154229736592546]\n",
      "Dilute std dev: [0.0034221064402183404, 0.0033298835939039014, 0.00428327487885686, 0.0031862001036623237, 0.003566472390517954, 0.005568539271134625, 0.003062261932454873, 0.0028755714453446335, 0.002351098524349342, 0.003391266746523871, 0.0026904419164914275, 0.0037922817007604356, 0.0019303431092288494, 0.0032042959829725643]\n",
      "Critical Solution Temperature: 240.36+3.31j K written to critical_solution_temperature.txt\n",
      "execution time: 0.9536703857448366 hours\n",
      "16-Aug-24 | 03:39\n",
      "\n",
      "\n",
      "running simulation for CHKB_Q9Y259_Wildtype\n",
      "16-Aug-24 | 03:39\n",
      "seq len 47\n",
      "total temps 14\n",
      "simulation/runs/CHKB_Q9Y259_Wildtype_2024_08_16_03_08_1723779555\n",
      "step 1: running input single chain\n"
     ]
    },
    {
     "name": "stderr",
     "output_type": "stream",
     "text": [
      "/home/ubuntu/CTP/simulation/runs/CHKB_Q9Y259_Wildtype_2024_08_16_03_08_1723779555/seq2config.py:67: DeprecationWarning: Conversion of an array with ndim > 0 to a scalar is deprecated, and will error in future. Ensure you extract a single element from your array before performing this operation. (Deprecated NumPy 1.25.)\n",
      "  typescharges.append([int(types[p,1]),float(charges[k,1])])\n"
     ]
    },
    {
     "name": "stdout",
     "output_type": "stream",
     "text": [
      "step 2: running compress single chain\n",
      "step 3: direct coexistence\n",
      "running [{'temp': 250, 'dir': 'simulation/runs/CHKB_Q9Y259_Wildtype_2024_08_16_03_08_1723779555/250'}, {'temp': 270, 'dir': 'simulation/runs/CHKB_Q9Y259_Wildtype_2024_08_16_03_08_1723779555/270'}, {'temp': 290, 'dir': 'simulation/runs/CHKB_Q9Y259_Wildtype_2024_08_16_03_08_1723779555/290'}, {'temp': 300, 'dir': 'simulation/runs/CHKB_Q9Y259_Wildtype_2024_08_16_03_08_1723779555/300'}, {'temp': 307, 'dir': 'simulation/runs/CHKB_Q9Y259_Wildtype_2024_08_16_03_08_1723779555/307'}, {'temp': 314, 'dir': 'simulation/runs/CHKB_Q9Y259_Wildtype_2024_08_16_03_08_1723779555/314'}]\n",
      "16-Aug-24 | 03:41\n",
      "execution time: 0.37127838333447777 hours\n",
      "16-Aug-24 | 04:03\n",
      "running [{'temp': 321, 'dir': 'simulation/runs/CHKB_Q9Y259_Wildtype_2024_08_16_03_08_1723779555/321'}, {'temp': 328, 'dir': 'simulation/runs/CHKB_Q9Y259_Wildtype_2024_08_16_03_08_1723779555/328'}, {'temp': 335, 'dir': 'simulation/runs/CHKB_Q9Y259_Wildtype_2024_08_16_03_08_1723779555/335'}, {'temp': 342, 'dir': 'simulation/runs/CHKB_Q9Y259_Wildtype_2024_08_16_03_08_1723779555/342'}, {'temp': 349, 'dir': 'simulation/runs/CHKB_Q9Y259_Wildtype_2024_08_16_03_08_1723779555/349'}, {'temp': 356, 'dir': 'simulation/runs/CHKB_Q9Y259_Wildtype_2024_08_16_03_08_1723779555/356'}]\n",
      "16-Aug-24 | 04:03\n",
      "execution time: 0.3742043670018514 hours\n",
      "16-Aug-24 | 04:26\n",
      "running [{'temp': 363, 'dir': 'simulation/runs/CHKB_Q9Y259_Wildtype_2024_08_16_03_08_1723779555/363'}, {'temp': 370, 'dir': 'simulation/runs/CHKB_Q9Y259_Wildtype_2024_08_16_03_08_1723779555/370'}]\n",
      "remaining temp, CPUs_pp = 48\n",
      "16-Aug-24 | 04:26\n",
      "execution time: 0.2812590373886956 hours\n",
      "16-Aug-24 | 04:42\n",
      "calculating ps densities\n",
      "simulation/runs/CHKB_Q9Y259_Wildtype_2024_08_16_03_08_1723779555/300\n"
     ]
    },
    {
     "name": "stderr",
     "output_type": "stream",
     "text": [
      "/home/ubuntu/CTP/simulation/runs/CHKB_Q9Y259_Wildtype_2024_08_16_03_08_1723779555/300/da.py:62: OptimizeWarning: Covariance of the parameters could not be estimated\n",
      "  popt, _ = curve_fit(super_gaussian, coords, avg_profile, p0=initial_guess, maxfev=20000)\n"
     ]
    },
    {
     "name": "stdout",
     "output_type": "stream",
     "text": [
      "Dense phase concentration: 0.21067369504643962 +/- 0.0042336511031634974\n",
      "Dilute phase concentration: 0.20818759210526316 +/- 0.002295487705988617\n",
      "simulation/runs/CHKB_Q9Y259_Wildtype_2024_08_16_03_08_1723779555/314\n"
     ]
    },
    {
     "name": "stderr",
     "output_type": "stream",
     "text": [
      "/home/ubuntu/CTP/simulation/runs/CHKB_Q9Y259_Wildtype_2024_08_16_03_08_1723779555/314/da.py:62: OptimizeWarning: Covariance of the parameters could not be estimated\n",
      "  popt, _ = curve_fit(super_gaussian, coords, avg_profile, p0=initial_guess, maxfev=20000)\n"
     ]
    },
    {
     "name": "stdout",
     "output_type": "stream",
     "text": [
      "Dense phase concentration: 0.21066064241486068 +/- 0.003504006279760382\n",
      "Dilute phase concentration: 0.20821533881578946 +/- 0.0025616255149277325\n",
      "simulation/runs/CHKB_Q9Y259_Wildtype_2024_08_16_03_08_1723779555/290\n"
     ]
    },
    {
     "name": "stderr",
     "output_type": "stream",
     "text": [
      "/home/ubuntu/CTP/simulation/runs/CHKB_Q9Y259_Wildtype_2024_08_16_03_08_1723779555/290/da.py:62: OptimizeWarning: Covariance of the parameters could not be estimated\n",
      "  popt, _ = curve_fit(super_gaussian, coords, avg_profile, p0=initial_guess, maxfev=20000)\n"
     ]
    },
    {
     "name": "stdout",
     "output_type": "stream",
     "text": [
      "Dense phase concentration: 0.21087710216718267 +/- 0.0037549316746600964\n",
      "Dilute phase concentration: 0.20775532236842104 +/- 0.004306713845229741\n",
      "simulation/runs/CHKB_Q9Y259_Wildtype_2024_08_16_03_08_1723779555/342\n"
     ]
    },
    {
     "name": "stderr",
     "output_type": "stream",
     "text": [
      "/home/ubuntu/CTP/simulation/runs/CHKB_Q9Y259_Wildtype_2024_08_16_03_08_1723779555/342/da.py:62: OptimizeWarning: Covariance of the parameters could not be estimated\n",
      "  popt, _ = curve_fit(super_gaussian, coords, avg_profile, p0=initial_guess, maxfev=20000)\n"
     ]
    },
    {
     "name": "stdout",
     "output_type": "stream",
     "text": [
      "Dense phase concentration: 0.2102910495356037 +/- 0.002655751156785771\n",
      "Dilute phase concentration: 0.20900073355263157 +/- 0.0012380512963045681\n",
      "simulation/runs/CHKB_Q9Y259_Wildtype_2024_08_16_03_08_1723779555/328\n"
     ]
    },
    {
     "name": "stderr",
     "output_type": "stream",
     "text": [
      "/home/ubuntu/CTP/simulation/runs/CHKB_Q9Y259_Wildtype_2024_08_16_03_08_1723779555/328/da.py:62: OptimizeWarning: Covariance of the parameters could not be estimated\n",
      "  popt, _ = curve_fit(super_gaussian, coords, avg_profile, p0=initial_guess, maxfev=20000)\n"
     ]
    },
    {
     "name": "stdout",
     "output_type": "stream",
     "text": [
      "Dense phase concentration: 0.21157410835913312 +/- 0.002965181170400874\n",
      "Dilute phase concentration: 0.20627418092105262 +/- 0.002608806610053635\n",
      "simulation/runs/CHKB_Q9Y259_Wildtype_2024_08_16_03_08_1723779555/307\n"
     ]
    },
    {
     "name": "stderr",
     "output_type": "stream",
     "text": [
      "/home/ubuntu/CTP/simulation/runs/CHKB_Q9Y259_Wildtype_2024_08_16_03_08_1723779555/307/da.py:62: OptimizeWarning: Covariance of the parameters could not be estimated\n",
      "  popt, _ = curve_fit(super_gaussian, coords, avg_profile, p0=initial_guess, maxfev=20000)\n"
     ]
    },
    {
     "name": "stdout",
     "output_type": "stream",
     "text": [
      "Dense phase concentration: 0.210514286377709 +/- 0.0023489167244550193\n",
      "Dilute phase concentration: 0.20852634210526316 +/- 0.0035168671328899615\n",
      "simulation/runs/CHKB_Q9Y259_Wildtype_2024_08_16_03_08_1723779555/363\n"
     ]
    },
    {
     "name": "stderr",
     "output_type": "stream",
     "text": [
      "/home/ubuntu/CTP/simulation/runs/CHKB_Q9Y259_Wildtype_2024_08_16_03_08_1723779555/363/da.py:62: OptimizeWarning: Covariance of the parameters could not be estimated\n",
      "  popt, _ = curve_fit(super_gaussian, coords, avg_profile, p0=initial_guess, maxfev=20000)\n"
     ]
    },
    {
     "name": "stdout",
     "output_type": "stream",
     "text": [
      "Dense phase concentration: 0.20962320897832817 +/- 0.0035137174980032293\n",
      "Dilute phase concentration: 0.21041982894736844 +/- 0.002794656242673882\n",
      "simulation/runs/CHKB_Q9Y259_Wildtype_2024_08_16_03_08_1723779555/250\n"
     ]
    },
    {
     "name": "stderr",
     "output_type": "stream",
     "text": [
      "/home/ubuntu/CTP/simulation/runs/CHKB_Q9Y259_Wildtype_2024_08_16_03_08_1723779555/250/da.py:62: OptimizeWarning: Covariance of the parameters could not be estimated\n",
      "  popt, _ = curve_fit(super_gaussian, coords, avg_profile, p0=initial_guess, maxfev=20000)\n"
     ]
    },
    {
     "name": "stdout",
     "output_type": "stream",
     "text": [
      "Dense phase concentration: 0.2105539241486068 +/- 0.004539958037985552\n",
      "Dilute phase concentration: 0.20844207894736844 +/- 0.0034416361814205605\n",
      "simulation/runs/CHKB_Q9Y259_Wildtype_2024_08_16_03_08_1723779555/321\n"
     ]
    },
    {
     "name": "stderr",
     "output_type": "stream",
     "text": [
      "/home/ubuntu/CTP/simulation/runs/CHKB_Q9Y259_Wildtype_2024_08_16_03_08_1723779555/321/da.py:62: OptimizeWarning: Covariance of the parameters could not be estimated\n",
      "  popt, _ = curve_fit(super_gaussian, coords, avg_profile, p0=initial_guess, maxfev=20000)\n"
     ]
    },
    {
     "name": "stdout",
     "output_type": "stream",
     "text": [
      "Dense phase concentration: 0.21002545820433438 +/- 0.0036447733745535154\n",
      "Dilute phase concentration: 0.2095651052631579 +/- 0.0029487635495679216\n",
      "simulation/runs/CHKB_Q9Y259_Wildtype_2024_08_16_03_08_1723779555/349\n"
     ]
    },
    {
     "name": "stderr",
     "output_type": "stream",
     "text": [
      "/home/ubuntu/CTP/simulation/runs/CHKB_Q9Y259_Wildtype_2024_08_16_03_08_1723779555/349/da.py:62: OptimizeWarning: Covariance of the parameters could not be estimated\n",
      "  popt, _ = curve_fit(super_gaussian, coords, avg_profile, p0=initial_guess, maxfev=20000)\n"
     ]
    },
    {
     "name": "stdout",
     "output_type": "stream",
     "text": [
      "Dense phase concentration: 0.21061181269349843 +/- 0.0031594037489556443\n",
      "Dilute phase concentration: 0.20831908552631578 +/- 0.0029150100109987032\n",
      "simulation/runs/CHKB_Q9Y259_Wildtype_2024_08_16_03_08_1723779555/356\n"
     ]
    },
    {
     "name": "stderr",
     "output_type": "stream",
     "text": [
      "/home/ubuntu/CTP/simulation/runs/CHKB_Q9Y259_Wildtype_2024_08_16_03_08_1723779555/356/da.py:62: OptimizeWarning: Covariance of the parameters could not be estimated\n",
      "  popt, _ = curve_fit(super_gaussian, coords, avg_profile, p0=initial_guess, maxfev=20000)\n"
     ]
    },
    {
     "name": "stdout",
     "output_type": "stream",
     "text": [
      "Dense phase concentration: 0.20983771826625386 +/- 0.004673452305382995\n",
      "Dilute phase concentration: 0.20996404605263158 +/- 0.002082119192974248\n",
      "simulation/runs/CHKB_Q9Y259_Wildtype_2024_08_16_03_08_1723779555/370\n"
     ]
    },
    {
     "name": "stderr",
     "output_type": "stream",
     "text": [
      "/home/ubuntu/CTP/simulation/runs/CHKB_Q9Y259_Wildtype_2024_08_16_03_08_1723779555/370/da.py:62: OptimizeWarning: Covariance of the parameters could not be estimated\n",
      "  popt, _ = curve_fit(super_gaussian, coords, avg_profile, p0=initial_guess, maxfev=20000)\n"
     ]
    },
    {
     "name": "stdout",
     "output_type": "stream",
     "text": [
      "Dense phase concentration: 0.20897065015479874 +/- 0.003752641892088756\n",
      "Dilute phase concentration: 0.2118065855263158 +/- 0.002949402316905068\n",
      "simulation/runs/CHKB_Q9Y259_Wildtype_2024_08_16_03_08_1723779555/335\n"
     ]
    },
    {
     "name": "stderr",
     "output_type": "stream",
     "text": [
      "/home/ubuntu/CTP/simulation/runs/CHKB_Q9Y259_Wildtype_2024_08_16_03_08_1723779555/335/da.py:62: OptimizeWarning: Covariance of the parameters could not be estimated\n",
      "  popt, _ = curve_fit(super_gaussian, coords, avg_profile, p0=initial_guess, maxfev=20000)\n"
     ]
    },
    {
     "name": "stdout",
     "output_type": "stream",
     "text": [
      "Dense phase concentration: 0.21020714551083589 +/- 0.003153909675674052\n",
      "Dilute phase concentration: 0.20917892763157894 +/- 0.0027132798382338225\n",
      "simulation/runs/CHKB_Q9Y259_Wildtype_2024_08_16_03_08_1723779555/270\n"
     ]
    },
    {
     "name": "stderr",
     "output_type": "stream",
     "text": [
      "/home/ubuntu/CTP/simulation/runs/CHKB_Q9Y259_Wildtype_2024_08_16_03_08_1723779555/270/da.py:62: OptimizeWarning: Covariance of the parameters could not be estimated\n",
      "  popt, _ = curve_fit(super_gaussian, coords, avg_profile, p0=initial_guess, maxfev=20000)\n"
     ]
    },
    {
     "name": "stdout",
     "output_type": "stream",
     "text": [
      "Dense phase concentration: 0.20935351547987616 +/- 0.005051403487324242\n",
      "Dilute phase concentration: 0.21099295723684208 +/- 0.004411343054333004\n"
     ]
    },
    {
     "name": "stderr",
     "output_type": "stream",
     "text": [
      "/home/ubuntu/anaconda3/envs/lammps/lib/python3.9/site-packages/matplotlib/collections.py:197: ComplexWarning: Casting complex values to real discards the imaginary part\n",
      "  offsets = np.asanyarray(offsets, float)\n",
      "/home/ubuntu/anaconda3/envs/lammps/lib/python3.9/site-packages/matplotlib/cbook.py:1762: ComplexWarning: Casting complex values to real discards the imaginary part\n",
      "  return math.isfinite(val)\n",
      "/home/ubuntu/anaconda3/envs/lammps/lib/python3.9/site-packages/matplotlib/cbook.py:1398: ComplexWarning: Casting complex values to real discards the imaginary part\n",
      "  return np.asarray(x, float)\n"
     ]
    },
    {
     "name": "stdout",
     "output_type": "stream",
     "text": [
      "File densities_chunked_temp250.txt read successfully with 2 lines.\n",
      "Original data lines:\n",
      "Dense phase concentration: 0.2105539241486068 +/- 0.004539958037985552\n",
      "Dilute phase concentration: 0.20844207894736844 +/- 0.0034416361814205605\n",
      "Filtered data lines: 2\n",
      "Dense phase concentration: 0.2105539241486068 +/- 0.004539958037985552\n",
      "Dilute phase concentration: 0.20844207894736844 +/- 0.0034416361814205605\n",
      "File densities_chunked_temp270.txt read successfully with 2 lines.\n",
      "Original data lines:\n",
      "Dense phase concentration: 0.20935351547987616 +/- 0.005051403487324242\n",
      "Dilute phase concentration: 0.21099295723684208 +/- 0.004411343054333004\n",
      "Filtered data lines: 2\n",
      "Dense phase concentration: 0.20935351547987616 +/- 0.005051403487324242\n",
      "Dilute phase concentration: 0.21099295723684208 +/- 0.004411343054333004\n",
      "File densities_chunked_temp290.txt read successfully with 2 lines.\n",
      "Original data lines:\n",
      "Dense phase concentration: 0.21087710216718267 +/- 0.0037549316746600964\n",
      "Dilute phase concentration: 0.20775532236842104 +/- 0.004306713845229741\n",
      "Filtered data lines: 2\n",
      "Dense phase concentration: 0.21087710216718267 +/- 0.0037549316746600964\n",
      "Dilute phase concentration: 0.20775532236842104 +/- 0.004306713845229741\n",
      "File densities_chunked_temp300.txt read successfully with 2 lines.\n",
      "Original data lines:\n",
      "Dense phase concentration: 0.21067369504643962 +/- 0.0042336511031634974\n",
      "Dilute phase concentration: 0.20818759210526316 +/- 0.002295487705988617\n",
      "Filtered data lines: 2\n",
      "Dense phase concentration: 0.21067369504643962 +/- 0.0042336511031634974\n",
      "Dilute phase concentration: 0.20818759210526316 +/- 0.002295487705988617\n",
      "File densities_chunked_temp307.txt read successfully with 2 lines.\n",
      "Original data lines:\n",
      "Dense phase concentration: 0.210514286377709 +/- 0.0023489167244550193\n",
      "Dilute phase concentration: 0.20852634210526316 +/- 0.0035168671328899615\n",
      "Filtered data lines: 2\n",
      "Dense phase concentration: 0.210514286377709 +/- 0.0023489167244550193\n",
      "Dilute phase concentration: 0.20852634210526316 +/- 0.0035168671328899615\n",
      "File densities_chunked_temp314.txt read successfully with 2 lines.\n",
      "Original data lines:\n",
      "Dense phase concentration: 0.21066064241486068 +/- 0.003504006279760382\n",
      "Dilute phase concentration: 0.20821533881578946 +/- 0.0025616255149277325\n",
      "Filtered data lines: 2\n",
      "Dense phase concentration: 0.21066064241486068 +/- 0.003504006279760382\n",
      "Dilute phase concentration: 0.20821533881578946 +/- 0.0025616255149277325\n",
      "File densities_chunked_temp321.txt read successfully with 2 lines.\n",
      "Original data lines:\n",
      "Dense phase concentration: 0.21002545820433438 +/- 0.0036447733745535154\n",
      "Dilute phase concentration: 0.2095651052631579 +/- 0.0029487635495679216\n",
      "Filtered data lines: 2\n",
      "Dense phase concentration: 0.21002545820433438 +/- 0.0036447733745535154\n",
      "Dilute phase concentration: 0.2095651052631579 +/- 0.0029487635495679216\n",
      "File densities_chunked_temp328.txt read successfully with 2 lines.\n",
      "Original data lines:\n",
      "Dense phase concentration: 0.21157410835913312 +/- 0.002965181170400874\n",
      "Dilute phase concentration: 0.20627418092105262 +/- 0.002608806610053635\n",
      "Filtered data lines: 2\n",
      "Dense phase concentration: 0.21157410835913312 +/- 0.002965181170400874\n",
      "Dilute phase concentration: 0.20627418092105262 +/- 0.002608806610053635\n",
      "File densities_chunked_temp335.txt read successfully with 2 lines.\n",
      "Original data lines:\n",
      "Dense phase concentration: 0.21020714551083589 +/- 0.003153909675674052\n",
      "Dilute phase concentration: 0.20917892763157894 +/- 0.0027132798382338225\n",
      "Filtered data lines: 2\n",
      "Dense phase concentration: 0.21020714551083589 +/- 0.003153909675674052\n",
      "Dilute phase concentration: 0.20917892763157894 +/- 0.0027132798382338225\n",
      "File densities_chunked_temp342.txt read successfully with 2 lines.\n",
      "Original data lines:\n",
      "Dense phase concentration: 0.2102910495356037 +/- 0.002655751156785771\n",
      "Dilute phase concentration: 0.20900073355263157 +/- 0.0012380512963045681\n",
      "Filtered data lines: 2\n",
      "Dense phase concentration: 0.2102910495356037 +/- 0.002655751156785771\n",
      "Dilute phase concentration: 0.20900073355263157 +/- 0.0012380512963045681\n",
      "File densities_chunked_temp349.txt read successfully with 2 lines.\n",
      "Original data lines:\n",
      "Dense phase concentration: 0.21061181269349843 +/- 0.0031594037489556443\n",
      "Dilute phase concentration: 0.20831908552631578 +/- 0.0029150100109987032\n",
      "Filtered data lines: 2\n",
      "Dense phase concentration: 0.21061181269349843 +/- 0.0031594037489556443\n",
      "Dilute phase concentration: 0.20831908552631578 +/- 0.0029150100109987032\n",
      "File densities_chunked_temp356.txt read successfully with 2 lines.\n",
      "Original data lines:\n",
      "Dense phase concentration: 0.20983771826625386 +/- 0.004673452305382995\n",
      "Dilute phase concentration: 0.20996404605263158 +/- 0.002082119192974248\n",
      "Filtered data lines: 2\n",
      "Dense phase concentration: 0.20983771826625386 +/- 0.004673452305382995\n",
      "Dilute phase concentration: 0.20996404605263158 +/- 0.002082119192974248\n",
      "File densities_chunked_temp363.txt read successfully with 2 lines.\n",
      "Original data lines:\n",
      "Dense phase concentration: 0.20962320897832817 +/- 0.0035137174980032293\n",
      "Dilute phase concentration: 0.21041982894736844 +/- 0.002794656242673882\n",
      "Filtered data lines: 2\n",
      "Dense phase concentration: 0.20962320897832817 +/- 0.0035137174980032293\n",
      "Dilute phase concentration: 0.21041982894736844 +/- 0.002794656242673882\n",
      "File densities_chunked_temp370.txt read successfully with 2 lines.\n",
      "Original data lines:\n",
      "Dense phase concentration: 0.20897065015479874 +/- 0.003752641892088756\n",
      "Dilute phase concentration: 0.2118065855263158 +/- 0.002949402316905068\n",
      "Filtered data lines: 2\n",
      "Dense phase concentration: 0.20897065015479874 +/- 0.003752641892088756\n",
      "Dilute phase concentration: 0.2118065855263158 +/- 0.002949402316905068\n",
      "Temperatures: [250, 270, 290, 300, 307, 314, 321, 328, 335, 342, 349, 356, 363, 370]\n",
      "Dense phase concentrations: [0.2105539241486068, 0.20935351547987616, 0.21087710216718267, 0.21067369504643962, 0.210514286377709, 0.21066064241486068, 0.21002545820433438, 0.21157410835913312, 0.21020714551083589, 0.2102910495356037, 0.21061181269349843, 0.20983771826625386, 0.20962320897832817, 0.20897065015479874]\n",
      "Dilute phase concentrations: [0.20844207894736844, 0.21099295723684208, 0.20775532236842104, 0.20818759210526316, 0.20852634210526316, 0.20821533881578946, 0.2095651052631579, 0.20627418092105262, 0.20917892763157894, 0.20900073355263157, 0.20831908552631578, 0.20996404605263158, 0.21041982894736844, 0.2118065855263158]\n",
      "Dense std dev: [0.004539958037985552, 0.005051403487324242, 0.0037549316746600964, 0.0042336511031634974, 0.0023489167244550193, 0.003504006279760382, 0.0036447733745535154, 0.002965181170400874, 0.003153909675674052, 0.002655751156785771, 0.0031594037489556443, 0.004673452305382995, 0.0035137174980032293, 0.003752641892088756]\n",
      "Dilute std dev: [0.0034416361814205605, 0.004411343054333004, 0.004306713845229741, 0.002295487705988617, 0.0035168671328899615, 0.0025616255149277325, 0.0029487635495679216, 0.002608806610053635, 0.0027132798382338225, 0.0012380512963045681, 0.0029150100109987032, 0.002082119192974248, 0.002794656242673882, 0.002949402316905068]\n",
      "Critical Solution Temperature: 479.13-20.95j K written to critical_solution_temperature.txt\n",
      "execution time: 1.0639365397559273 hours\n",
      "16-Aug-24 | 04:43\n",
      "\n",
      "\n",
      "Sequence was already calculated HOME3_-4S+4T\n",
      "Sequence was already calculated HOME3_Q9NSC5_Wildtype\n",
      "running simulation for T229A_B2RXF0_Wildtype\n",
      "16-Aug-24 | 04:43\n",
      "seq len 48\n",
      "total temps 14\n",
      "simulation/runs/T229A_B2RXF0_Wildtype_2024_08_16_04_08_1723783385\n",
      "step 1: running input single chain\n"
     ]
    },
    {
     "name": "stderr",
     "output_type": "stream",
     "text": [
      "/home/ubuntu/CTP/simulation/runs/T229A_B2RXF0_Wildtype_2024_08_16_04_08_1723783385/seq2config.py:67: DeprecationWarning: Conversion of an array with ndim > 0 to a scalar is deprecated, and will error in future. Ensure you extract a single element from your array before performing this operation. (Deprecated NumPy 1.25.)\n",
      "  typescharges.append([int(types[p,1]),float(charges[k,1])])\n"
     ]
    },
    {
     "name": "stdout",
     "output_type": "stream",
     "text": [
      "step 2: running compress single chain\n",
      "step 3: direct coexistence\n",
      "running [{'temp': 250, 'dir': 'simulation/runs/T229A_B2RXF0_Wildtype_2024_08_16_04_08_1723783385/250'}, {'temp': 270, 'dir': 'simulation/runs/T229A_B2RXF0_Wildtype_2024_08_16_04_08_1723783385/270'}, {'temp': 290, 'dir': 'simulation/runs/T229A_B2RXF0_Wildtype_2024_08_16_04_08_1723783385/290'}, {'temp': 300, 'dir': 'simulation/runs/T229A_B2RXF0_Wildtype_2024_08_16_04_08_1723783385/300'}, {'temp': 307, 'dir': 'simulation/runs/T229A_B2RXF0_Wildtype_2024_08_16_04_08_1723783385/307'}, {'temp': 314, 'dir': 'simulation/runs/T229A_B2RXF0_Wildtype_2024_08_16_04_08_1723783385/314'}]\n",
      "16-Aug-24 | 04:45\n",
      "execution time: 0.38066613177458447 hours\n",
      "16-Aug-24 | 05:07\n",
      "running [{'temp': 321, 'dir': 'simulation/runs/T229A_B2RXF0_Wildtype_2024_08_16_04_08_1723783385/321'}, {'temp': 328, 'dir': 'simulation/runs/T229A_B2RXF0_Wildtype_2024_08_16_04_08_1723783385/328'}, {'temp': 335, 'dir': 'simulation/runs/T229A_B2RXF0_Wildtype_2024_08_16_04_08_1723783385/335'}, {'temp': 342, 'dir': 'simulation/runs/T229A_B2RXF0_Wildtype_2024_08_16_04_08_1723783385/342'}, {'temp': 349, 'dir': 'simulation/runs/T229A_B2RXF0_Wildtype_2024_08_16_04_08_1723783385/349'}, {'temp': 356, 'dir': 'simulation/runs/T229A_B2RXF0_Wildtype_2024_08_16_04_08_1723783385/356'}]\n",
      "16-Aug-24 | 05:07\n",
      "execution time: 0.3659727088610331 hours\n",
      "16-Aug-24 | 05:29\n",
      "running [{'temp': 363, 'dir': 'simulation/runs/T229A_B2RXF0_Wildtype_2024_08_16_04_08_1723783385/363'}, {'temp': 370, 'dir': 'simulation/runs/T229A_B2RXF0_Wildtype_2024_08_16_04_08_1723783385/370'}]\n",
      "remaining temp, CPUs_pp = 48\n",
      "16-Aug-24 | 05:29\n",
      "execution time: 0.27599296980433996 hours\n",
      "16-Aug-24 | 05:46\n",
      "calculating ps densities\n",
      "simulation/runs/T229A_B2RXF0_Wildtype_2024_08_16_04_08_1723783385/300\n"
     ]
    },
    {
     "name": "stderr",
     "output_type": "stream",
     "text": [
      "/home/ubuntu/CTP/simulation/runs/T229A_B2RXF0_Wildtype_2024_08_16_04_08_1723783385/300/da.py:62: OptimizeWarning: Covariance of the parameters could not be estimated\n",
      "  popt, _ = curve_fit(super_gaussian, coords, avg_profile, p0=initial_guess, maxfev=20000)\n"
     ]
    },
    {
     "name": "stdout",
     "output_type": "stream",
     "text": [
      "Dense phase concentration: 0.21615992879256965 +/- 0.006544403504651141\n",
      "Dilute phase concentration: 0.2161900164473684 +/- 0.004624991014280359\n",
      "simulation/runs/T229A_B2RXF0_Wildtype_2024_08_16_04_08_1723783385/314\n"
     ]
    },
    {
     "name": "stderr",
     "output_type": "stream",
     "text": [
      "/home/ubuntu/CTP/simulation/runs/T229A_B2RXF0_Wildtype_2024_08_16_04_08_1723783385/314/da.py:62: OptimizeWarning: Covariance of the parameters could not be estimated\n",
      "  popt, _ = curve_fit(super_gaussian, coords, avg_profile, p0=initial_guess, maxfev=20000)\n"
     ]
    },
    {
     "name": "stdout",
     "output_type": "stream",
     "text": [
      "Dense phase concentration: 0.21815071671826625 +/- 0.004733735455988522\n",
      "Dilute phase concentration: 0.21195954605263156 +/- 0.005656427425642743\n",
      "simulation/runs/T229A_B2RXF0_Wildtype_2024_08_16_04_08_1723783385/290\n"
     ]
    },
    {
     "name": "stderr",
     "output_type": "stream",
     "text": [
      "Traceback (most recent call last):\n",
      "  File \"/home/ubuntu/CTP/simulation/runs/T229A_B2RXF0_Wildtype_2024_08_16_04_08_1723783385/290/da.py\", line 146, in <module>\n",
      "    main()\n",
      "  File \"/home/ubuntu/CTP/simulation/runs/T229A_B2RXF0_Wildtype_2024_08_16_04_08_1723783385/290/da.py\", line 133, in main\n",
      "    dense, dilute, dense_stdev, dilute_stdev = process_density_file(file_name)\n",
      "  File \"/home/ubuntu/CTP/simulation/runs/T229A_B2RXF0_Wildtype_2024_08_16_04_08_1723783385/290/da.py\", line 121, in process_density_file\n",
      "    dense, dilute, dense_stdev, dilute_stdev = get_dilute_and_dense_concentrations(density, zPosition)\n",
      "  File \"/home/ubuntu/CTP/simulation/runs/T229A_B2RXF0_Wildtype_2024_08_16_04_08_1723783385/290/da.py\", line 99, in get_dilute_and_dense_concentrations\n",
      "    left_interface_coord, right_interface_coord = super_gaussian_fd_method(coords, density)\n",
      "  File \"/home/ubuntu/CTP/simulation/runs/T229A_B2RXF0_Wildtype_2024_08_16_04_08_1723783385/290/da.py\", line 62, in super_gaussian_fd_method\n",
      "    popt, _ = curve_fit(super_gaussian, coords, avg_profile, p0=initial_guess, maxfev=20000)\n",
      "  File \"/home/ubuntu/anaconda3/envs/lammps/lib/python3.9/site-packages/scipy/optimize/_minpack_py.py\", line 1005, in curve_fit\n",
      "    raise RuntimeError(\"Optimal parameters not found: \" + errmsg)\n",
      "RuntimeError: Optimal parameters not found: Number of calls to function has reached maxfev = 20000.\n",
      "/home/ubuntu/CTP/simulation/runs/GAG_HV1H2_P04591_Wildtype_2024_08_16_05_08_1723787185/seq2config.py:67: DeprecationWarning: Conversion of an array with ndim > 0 to a scalar is deprecated, and will error in future. Ensure you extract a single element from your array before performing this operation. (Deprecated NumPy 1.25.)\n",
      "  typescharges.append([int(types[p,1]),float(charges[k,1])])\n"
     ]
    },
    {
     "name": "stdout",
     "output_type": "stream",
     "text": [
      "execution time: 1.0555784444014231 hours\n",
      "16-Aug-24 | 05:46\n",
      "\n",
      "\n",
      "Sequence was already calculated GAG_-5S+5T\n",
      "Sequence was already calculated GAG_-5T+5G\n",
      "running simulation for GAG_HV1H2_P04591_Wildtype\n",
      "16-Aug-24 | 05:46\n",
      "seq len 57\n",
      "total temps 14\n",
      "simulation/runs/GAG_HV1H2_P04591_Wildtype_2024_08_16_05_08_1723787185\n",
      "step 1: running input single chain\n",
      "step 2: running compress single chain\n",
      "step 3: direct coexistence\n",
      "running [{'temp': 250, 'dir': 'simulation/runs/GAG_HV1H2_P04591_Wildtype_2024_08_16_05_08_1723787185/250'}, {'temp': 270, 'dir': 'simulation/runs/GAG_HV1H2_P04591_Wildtype_2024_08_16_05_08_1723787185/270'}, {'temp': 290, 'dir': 'simulation/runs/GAG_HV1H2_P04591_Wildtype_2024_08_16_05_08_1723787185/290'}, {'temp': 300, 'dir': 'simulation/runs/GAG_HV1H2_P04591_Wildtype_2024_08_16_05_08_1723787185/300'}, {'temp': 307, 'dir': 'simulation/runs/GAG_HV1H2_P04591_Wildtype_2024_08_16_05_08_1723787185/307'}, {'temp': 314, 'dir': 'simulation/runs/GAG_HV1H2_P04591_Wildtype_2024_08_16_05_08_1723787185/314'}]\n",
      "16-Aug-24 | 05:48\n",
      "execution time: 0.5388955412970649 hours\n",
      "16-Aug-24 | 06:21\n",
      "running [{'temp': 321, 'dir': 'simulation/runs/GAG_HV1H2_P04591_Wildtype_2024_08_16_05_08_1723787185/321'}, {'temp': 328, 'dir': 'simulation/runs/GAG_HV1H2_P04591_Wildtype_2024_08_16_05_08_1723787185/328'}, {'temp': 335, 'dir': 'simulation/runs/GAG_HV1H2_P04591_Wildtype_2024_08_16_05_08_1723787185/335'}, {'temp': 342, 'dir': 'simulation/runs/GAG_HV1H2_P04591_Wildtype_2024_08_16_05_08_1723787185/342'}, {'temp': 349, 'dir': 'simulation/runs/GAG_HV1H2_P04591_Wildtype_2024_08_16_05_08_1723787185/349'}, {'temp': 356, 'dir': 'simulation/runs/GAG_HV1H2_P04591_Wildtype_2024_08_16_05_08_1723787185/356'}]\n",
      "16-Aug-24 | 06:21\n",
      "execution time: 0.4573963062630759 hours\n",
      "16-Aug-24 | 06:48\n",
      "running [{'temp': 363, 'dir': 'simulation/runs/GAG_HV1H2_P04591_Wildtype_2024_08_16_05_08_1723787185/363'}, {'temp': 370, 'dir': 'simulation/runs/GAG_HV1H2_P04591_Wildtype_2024_08_16_05_08_1723787185/370'}]\n",
      "remaining temp, CPUs_pp = 48\n",
      "16-Aug-24 | 06:48\n",
      "execution time: 0.30667548292213015 hours\n",
      "16-Aug-24 | 07:06\n",
      "calculating ps densities\n",
      "simulation/runs/GAG_HV1H2_P04591_Wildtype_2024_08_16_05_08_1723787185/300\n"
     ]
    },
    {
     "name": "stderr",
     "output_type": "stream",
     "text": [
      "/home/ubuntu/CTP/simulation/runs/GAG_HV1H2_P04591_Wildtype_2024_08_16_05_08_1723787185/300/da.py:62: OptimizeWarning: Covariance of the parameters could not be estimated\n",
      "  popt, _ = curve_fit(super_gaussian, coords, avg_profile, p0=initial_guess, maxfev=20000)\n"
     ]
    },
    {
     "name": "stdout",
     "output_type": "stream",
     "text": [
      "Dense phase concentration: 0.234042133126935 +/- 0.005259432996922548\n",
      "Dilute phase concentration: 0.22063754934210528 +/- 0.009018490694138693\n",
      "simulation/runs/GAG_HV1H2_P04591_Wildtype_2024_08_16_05_08_1723787185/314\n"
     ]
    },
    {
     "name": "stderr",
     "output_type": "stream",
     "text": [
      "/home/ubuntu/CTP/simulation/runs/GAG_HV1H2_P04591_Wildtype_2024_08_16_05_08_1723787185/314/da.py:62: OptimizeWarning: Covariance of the parameters could not be estimated\n",
      "  popt, _ = curve_fit(super_gaussian, coords, avg_profile, p0=initial_guess, maxfev=20000)\n"
     ]
    },
    {
     "name": "stdout",
     "output_type": "stream",
     "text": [
      "Dense phase concentration: 0.23113337151702787 +/- 0.00517385472817306\n",
      "Dilute phase concentration: 0.22681871710526316 +/- 0.005368559614081139\n",
      "simulation/runs/GAG_HV1H2_P04591_Wildtype_2024_08_16_05_08_1723787185/290\n"
     ]
    },
    {
     "name": "stderr",
     "output_type": "stream",
     "text": [
      "/home/ubuntu/CTP/simulation/runs/GAG_HV1H2_P04591_Wildtype_2024_08_16_05_08_1723787185/290/da.py:62: OptimizeWarning: Covariance of the parameters could not be estimated\n",
      "  popt, _ = curve_fit(super_gaussian, coords, avg_profile, p0=initial_guess, maxfev=20000)\n"
     ]
    },
    {
     "name": "stdout",
     "output_type": "stream",
     "text": [
      "Dense phase concentration: 0.23277898916408668 +/- 0.008034962900550814\n",
      "Dilute phase concentration: 0.22332175328947368 +/- 0.006913767581421612\n",
      "simulation/runs/GAG_HV1H2_P04591_Wildtype_2024_08_16_05_08_1723787185/342\n"
     ]
    },
    {
     "name": "stderr",
     "output_type": "stream",
     "text": [
      "/home/ubuntu/CTP/simulation/runs/GAG_HV1H2_P04591_Wildtype_2024_08_16_05_08_1723787185/342/da.py:62: OptimizeWarning: Covariance of the parameters could not be estimated\n",
      "  popt, _ = curve_fit(super_gaussian, coords, avg_profile, p0=initial_guess, maxfev=20000)\n"
     ]
    },
    {
     "name": "stdout",
     "output_type": "stream",
     "text": [
      "Dense phase concentration: 0.23064235913312695 +/- 0.004760687734180244\n",
      "Dilute phase concentration: 0.2278620625 +/- 0.005650564056865519\n",
      "simulation/runs/GAG_HV1H2_P04591_Wildtype_2024_08_16_05_08_1723787185/328\n"
     ]
    },
    {
     "name": "stderr",
     "output_type": "stream",
     "text": [
      "/home/ubuntu/CTP/simulation/runs/GAG_HV1H2_P04591_Wildtype_2024_08_16_05_08_1723787185/328/da.py:62: OptimizeWarning: Covariance of the parameters could not be estimated\n",
      "  popt, _ = curve_fit(super_gaussian, coords, avg_profile, p0=initial_guess, maxfev=20000)\n"
     ]
    },
    {
     "name": "stdout",
     "output_type": "stream",
     "text": [
      "Dense phase concentration: 0.23017224148606813 +/- 0.005989990040588382\n",
      "Dilute phase concentration: 0.2288611019736842 +/- 0.004277975877427237\n",
      "simulation/runs/GAG_HV1H2_P04591_Wildtype_2024_08_16_05_08_1723787185/307\n"
     ]
    },
    {
     "name": "stderr",
     "output_type": "stream",
     "text": [
      "/home/ubuntu/CTP/simulation/runs/GAG_HV1H2_P04591_Wildtype_2024_08_16_05_08_1723787185/307/da.py:62: OptimizeWarning: Covariance of the parameters could not be estimated\n",
      "  popt, _ = curve_fit(super_gaussian, coords, avg_profile, p0=initial_guess, maxfev=20000)\n"
     ]
    },
    {
     "name": "stdout",
     "output_type": "stream",
     "text": [
      "Dense phase concentration: 0.22876263157894736 +/- 0.008531932975190325\n",
      "Dilute phase concentration: 0.23185653289473684 +/- 0.005824790355442821\n",
      "simulation/runs/GAG_HV1H2_P04591_Wildtype_2024_08_16_05_08_1723787185/363\n"
     ]
    },
    {
     "name": "stderr",
     "output_type": "stream",
     "text": [
      "/home/ubuntu/CTP/simulation/runs/GAG_HV1H2_P04591_Wildtype_2024_08_16_05_08_1723787185/363/da.py:62: OptimizeWarning: Covariance of the parameters could not be estimated\n",
      "  popt, _ = curve_fit(super_gaussian, coords, avg_profile, p0=initial_guess, maxfev=20000)\n"
     ]
    },
    {
     "name": "stdout",
     "output_type": "stream",
     "text": [
      "Dense phase concentration: 0.22971299380804955 +/- 0.005898765152420434\n",
      "Dilute phase concentration: 0.22983699013157893 +/- 0.005178325717738828\n",
      "simulation/runs/GAG_HV1H2_P04591_Wildtype_2024_08_16_05_08_1723787185/250\n"
     ]
    },
    {
     "name": "stderr",
     "output_type": "stream",
     "text": [
      "/home/ubuntu/CTP/simulation/runs/GAG_HV1H2_P04591_Wildtype_2024_08_16_05_08_1723787185/250/da.py:62: OptimizeWarning: Covariance of the parameters could not be estimated\n",
      "  popt, _ = curve_fit(super_gaussian, coords, avg_profile, p0=initial_guess, maxfev=20000)\n"
     ]
    },
    {
     "name": "stdout",
     "output_type": "stream",
     "text": [
      "Dense phase concentration: 0.2594553894736842 +/- 0.04686380546462245\n",
      "Dilute phase concentration: 0.16663445394736842 +/- 0.027260191031531752\n",
      "simulation/runs/GAG_HV1H2_P04591_Wildtype_2024_08_16_05_08_1723787185/321\n"
     ]
    },
    {
     "name": "stderr",
     "output_type": "stream",
     "text": [
      "/home/ubuntu/CTP/simulation/runs/GAG_HV1H2_P04591_Wildtype_2024_08_16_05_08_1723787185/321/da.py:62: OptimizeWarning: Covariance of the parameters could not be estimated\n",
      "  popt, _ = curve_fit(super_gaussian, coords, avg_profile, p0=initial_guess, maxfev=20000)\n"
     ]
    },
    {
     "name": "stdout",
     "output_type": "stream",
     "text": [
      "Dense phase concentration: 0.22704173219814244 +/- 0.008547611215452389\n",
      "Dilute phase concentration: 0.2355134342105263 +/- 0.006751088292577432\n",
      "simulation/runs/GAG_HV1H2_P04591_Wildtype_2024_08_16_05_08_1723787185/349\n"
     ]
    },
    {
     "name": "stderr",
     "output_type": "stream",
     "text": [
      "/home/ubuntu/CTP/simulation/runs/GAG_HV1H2_P04591_Wildtype_2024_08_16_05_08_1723787185/349/da.py:62: OptimizeWarning: Covariance of the parameters could not be estimated\n",
      "  popt, _ = curve_fit(super_gaussian, coords, avg_profile, p0=initial_guess, maxfev=20000)\n"
     ]
    },
    {
     "name": "stdout",
     "output_type": "stream",
     "text": [
      "Dense phase concentration: 0.2307036253869969 +/- 0.004562304645120079\n",
      "Dilute phase concentration: 0.22773194407894737 +/- 0.0033141861690485154\n",
      "simulation/runs/GAG_HV1H2_P04591_Wildtype_2024_08_16_05_08_1723787185/356\n"
     ]
    },
    {
     "name": "stderr",
     "output_type": "stream",
     "text": [
      "/home/ubuntu/CTP/simulation/runs/GAG_HV1H2_P04591_Wildtype_2024_08_16_05_08_1723787185/356/da.py:62: OptimizeWarning: Covariance of the parameters could not be estimated\n",
      "  popt, _ = curve_fit(super_gaussian, coords, avg_profile, p0=initial_guess, maxfev=20000)\n"
     ]
    },
    {
     "name": "stdout",
     "output_type": "stream",
     "text": [
      "Dense phase concentration: 0.23175980495356038 +/- 0.005222705651938769\n",
      "Dilute phase concentration: 0.22548755592105263 +/- 0.004191048871050309\n",
      "simulation/runs/GAG_HV1H2_P04591_Wildtype_2024_08_16_05_08_1723787185/370\n"
     ]
    },
    {
     "name": "stderr",
     "output_type": "stream",
     "text": [
      "/home/ubuntu/CTP/simulation/runs/GAG_HV1H2_P04591_Wildtype_2024_08_16_05_08_1723787185/370/da.py:62: OptimizeWarning: Covariance of the parameters could not be estimated\n",
      "  popt, _ = curve_fit(super_gaussian, coords, avg_profile, p0=initial_guess, maxfev=20000)\n"
     ]
    },
    {
     "name": "stdout",
     "output_type": "stream",
     "text": [
      "Dense phase concentration: 0.2297005015479876 +/- 0.007707568590484959\n",
      "Dilute phase concentration: 0.2298635263157895 +/- 0.005168751453087582\n",
      "simulation/runs/GAG_HV1H2_P04591_Wildtype_2024_08_16_05_08_1723787185/335\n"
     ]
    },
    {
     "name": "stderr",
     "output_type": "stream",
     "text": [
      "/home/ubuntu/CTP/simulation/runs/GAG_HV1H2_P04591_Wildtype_2024_08_16_05_08_1723787185/335/da.py:62: OptimizeWarning: Covariance of the parameters could not be estimated\n",
      "  popt, _ = curve_fit(super_gaussian, coords, avg_profile, p0=initial_guess, maxfev=20000)\n"
     ]
    },
    {
     "name": "stdout",
     "output_type": "stream",
     "text": [
      "Dense phase concentration: 0.2300764427244582 +/- 0.004910323346279587\n",
      "Dilute phase concentration: 0.22906467434210526 +/- 0.0028334913989704817\n",
      "simulation/runs/GAG_HV1H2_P04591_Wildtype_2024_08_16_05_08_1723787185/270\n"
     ]
    },
    {
     "name": "stderr",
     "output_type": "stream",
     "text": [
      "/home/ubuntu/CTP/simulation/runs/GAG_HV1H2_P04591_Wildtype_2024_08_16_05_08_1723787185/270/da.py:62: OptimizeWarning: Covariance of the parameters could not be estimated\n",
      "  popt, _ = curve_fit(super_gaussian, coords, avg_profile, p0=initial_guess, maxfev=20000)\n"
     ]
    },
    {
     "name": "stdout",
     "output_type": "stream",
     "text": [
      "Dense phase concentration: 0.22772273018575853 +/- 0.015605962823322179\n",
      "Dilute phase concentration: 0.2340663289473684 +/- 0.010850378988164771\n"
     ]
    },
    {
     "name": "stderr",
     "output_type": "stream",
     "text": [
      "/home/ubuntu/anaconda3/envs/lammps/lib/python3.9/site-packages/matplotlib/collections.py:197: ComplexWarning: Casting complex values to real discards the imaginary part\n",
      "  offsets = np.asanyarray(offsets, float)\n",
      "/home/ubuntu/anaconda3/envs/lammps/lib/python3.9/site-packages/matplotlib/cbook.py:1762: ComplexWarning: Casting complex values to real discards the imaginary part\n",
      "  return math.isfinite(val)\n",
      "/home/ubuntu/anaconda3/envs/lammps/lib/python3.9/site-packages/matplotlib/cbook.py:1398: ComplexWarning: Casting complex values to real discards the imaginary part\n",
      "  return np.asarray(x, float)\n"
     ]
    },
    {
     "name": "stdout",
     "output_type": "stream",
     "text": [
      "File densities_chunked_temp250.txt read successfully with 2 lines.\n",
      "Original data lines:\n",
      "Dense phase concentration: 0.2594553894736842 +/- 0.04686380546462245\n",
      "Dilute phase concentration: 0.16663445394736842 +/- 0.027260191031531752\n",
      "Filtered data lines: 2\n",
      "Dense phase concentration: 0.2594553894736842 +/- 0.04686380546462245\n",
      "Dilute phase concentration: 0.16663445394736842 +/- 0.027260191031531752\n",
      "File densities_chunked_temp270.txt read successfully with 2 lines.\n",
      "Original data lines:\n",
      "Dense phase concentration: 0.22772273018575853 +/- 0.015605962823322179\n",
      "Dilute phase concentration: 0.2340663289473684 +/- 0.010850378988164771\n",
      "Filtered data lines: 2\n",
      "Dense phase concentration: 0.22772273018575853 +/- 0.015605962823322179\n",
      "Dilute phase concentration: 0.2340663289473684 +/- 0.010850378988164771\n",
      "File densities_chunked_temp290.txt read successfully with 2 lines.\n",
      "Original data lines:\n",
      "Dense phase concentration: 0.23277898916408668 +/- 0.008034962900550814\n",
      "Dilute phase concentration: 0.22332175328947368 +/- 0.006913767581421612\n",
      "Filtered data lines: 2\n",
      "Dense phase concentration: 0.23277898916408668 +/- 0.008034962900550814\n",
      "Dilute phase concentration: 0.22332175328947368 +/- 0.006913767581421612\n",
      "File densities_chunked_temp300.txt read successfully with 2 lines.\n",
      "Original data lines:\n",
      "Dense phase concentration: 0.234042133126935 +/- 0.005259432996922548\n",
      "Dilute phase concentration: 0.22063754934210528 +/- 0.009018490694138693\n",
      "Filtered data lines: 2\n",
      "Dense phase concentration: 0.234042133126935 +/- 0.005259432996922548\n",
      "Dilute phase concentration: 0.22063754934210528 +/- 0.009018490694138693\n",
      "File densities_chunked_temp307.txt read successfully with 2 lines.\n",
      "Original data lines:\n",
      "Dense phase concentration: 0.22876263157894736 +/- 0.008531932975190325\n",
      "Dilute phase concentration: 0.23185653289473684 +/- 0.005824790355442821\n",
      "Filtered data lines: 2\n",
      "Dense phase concentration: 0.22876263157894736 +/- 0.008531932975190325\n",
      "Dilute phase concentration: 0.23185653289473684 +/- 0.005824790355442821\n",
      "File densities_chunked_temp314.txt read successfully with 2 lines.\n",
      "Original data lines:\n",
      "Dense phase concentration: 0.23113337151702787 +/- 0.00517385472817306\n",
      "Dilute phase concentration: 0.22681871710526316 +/- 0.005368559614081139\n",
      "Filtered data lines: 2\n",
      "Dense phase concentration: 0.23113337151702787 +/- 0.00517385472817306\n",
      "Dilute phase concentration: 0.22681871710526316 +/- 0.005368559614081139\n",
      "File densities_chunked_temp321.txt read successfully with 2 lines.\n",
      "Original data lines:\n",
      "Dense phase concentration: 0.22704173219814244 +/- 0.008547611215452389\n",
      "Dilute phase concentration: 0.2355134342105263 +/- 0.006751088292577432\n",
      "Filtered data lines: 2\n",
      "Dense phase concentration: 0.22704173219814244 +/- 0.008547611215452389\n",
      "Dilute phase concentration: 0.2355134342105263 +/- 0.006751088292577432\n",
      "File densities_chunked_temp328.txt read successfully with 2 lines.\n",
      "Original data lines:\n",
      "Dense phase concentration: 0.23017224148606813 +/- 0.005989990040588382\n",
      "Dilute phase concentration: 0.2288611019736842 +/- 0.004277975877427237\n",
      "Filtered data lines: 2\n",
      "Dense phase concentration: 0.23017224148606813 +/- 0.005989990040588382\n",
      "Dilute phase concentration: 0.2288611019736842 +/- 0.004277975877427237\n",
      "File densities_chunked_temp335.txt read successfully with 2 lines.\n",
      "Original data lines:\n",
      "Dense phase concentration: 0.2300764427244582 +/- 0.004910323346279587\n",
      "Dilute phase concentration: 0.22906467434210526 +/- 0.0028334913989704817\n",
      "Filtered data lines: 2\n",
      "Dense phase concentration: 0.2300764427244582 +/- 0.004910323346279587\n",
      "Dilute phase concentration: 0.22906467434210526 +/- 0.0028334913989704817\n",
      "File densities_chunked_temp342.txt read successfully with 2 lines.\n",
      "Original data lines:\n",
      "Dense phase concentration: 0.23064235913312695 +/- 0.004760687734180244\n",
      "Dilute phase concentration: 0.2278620625 +/- 0.005650564056865519\n",
      "Filtered data lines: 2\n",
      "Dense phase concentration: 0.23064235913312695 +/- 0.004760687734180244\n",
      "Dilute phase concentration: 0.2278620625 +/- 0.005650564056865519\n",
      "File densities_chunked_temp349.txt read successfully with 2 lines.\n",
      "Original data lines:\n",
      "Dense phase concentration: 0.2307036253869969 +/- 0.004562304645120079\n",
      "Dilute phase concentration: 0.22773194407894737 +/- 0.0033141861690485154\n",
      "Filtered data lines: 2\n",
      "Dense phase concentration: 0.2307036253869969 +/- 0.004562304645120079\n",
      "Dilute phase concentration: 0.22773194407894737 +/- 0.0033141861690485154\n",
      "File densities_chunked_temp356.txt read successfully with 2 lines.\n",
      "Original data lines:\n",
      "Dense phase concentration: 0.23175980495356038 +/- 0.005222705651938769\n",
      "Dilute phase concentration: 0.22548755592105263 +/- 0.004191048871050309\n",
      "Filtered data lines: 2\n",
      "Dense phase concentration: 0.23175980495356038 +/- 0.005222705651938769\n",
      "Dilute phase concentration: 0.22548755592105263 +/- 0.004191048871050309\n",
      "File densities_chunked_temp363.txt read successfully with 2 lines.\n",
      "Original data lines:\n",
      "Dense phase concentration: 0.22971299380804955 +/- 0.005898765152420434\n",
      "Dilute phase concentration: 0.22983699013157893 +/- 0.005178325717738828\n",
      "Filtered data lines: 2\n",
      "Dense phase concentration: 0.22971299380804955 +/- 0.005898765152420434\n",
      "Dilute phase concentration: 0.22983699013157893 +/- 0.005178325717738828\n",
      "File densities_chunked_temp370.txt read successfully with 2 lines.\n",
      "Original data lines:\n",
      "Dense phase concentration: 0.2297005015479876 +/- 0.007707568590484959\n",
      "Dilute phase concentration: 0.2298635263157895 +/- 0.005168751453087582\n",
      "Filtered data lines: 2\n",
      "Dense phase concentration: 0.2297005015479876 +/- 0.007707568590484959\n",
      "Dilute phase concentration: 0.2298635263157895 +/- 0.005168751453087582\n",
      "Temperatures: [250, 270, 290, 300, 307, 314, 321, 328, 335, 342, 349, 356, 363, 370]\n",
      "Dense phase concentrations: [0.2594553894736842, 0.22772273018575853, 0.23277898916408668, 0.234042133126935, 0.22876263157894736, 0.23113337151702787, 0.22704173219814244, 0.23017224148606813, 0.2300764427244582, 0.23064235913312695, 0.2307036253869969, 0.23175980495356038, 0.22971299380804955, 0.2297005015479876]\n",
      "Dilute phase concentrations: [0.16663445394736842, 0.2340663289473684, 0.22332175328947368, 0.22063754934210528, 0.23185653289473684, 0.22681871710526316, 0.2355134342105263, 0.2288611019736842, 0.22906467434210526, 0.2278620625, 0.22773194407894737, 0.22548755592105263, 0.22983699013157893, 0.2298635263157895]\n",
      "Dense std dev: [0.04686380546462245, 0.015605962823322179, 0.008034962900550814, 0.005259432996922548, 0.008531932975190325, 0.00517385472817306, 0.008547611215452389, 0.005989990040588382, 0.004910323346279587, 0.004760687734180244, 0.004562304645120079, 0.005222705651938769, 0.005898765152420434, 0.007707568590484959]\n",
      "Dilute std dev: [0.027260191031531752, 0.010850378988164771, 0.006913767581421612, 0.009018490694138693, 0.005824790355442821, 0.005368559614081139, 0.006751088292577432, 0.004277975877427237, 0.0028334913989704817, 0.005650564056865519, 0.0033141861690485154, 0.004191048871050309, 0.005178325717738828, 0.005168751453087582]\n",
      "Critical Solution Temperature: 337.34-0.00j K written to critical_solution_temperature.txt\n",
      "execution time: 1.3439063388109207 hours\n",
      "16-Aug-24 | 07:07\n",
      "\n",
      "\n",
      "running simulation for DAXX_Q9UER7\n",
      "16-Aug-24 | 07:07\n",
      "seq len 58\n",
      "total temps 14\n",
      "simulation/runs/DAXX_Q9UER7_2024_08_16_07_08_1723792023\n"
     ]
    },
    {
     "name": "stderr",
     "output_type": "stream",
     "text": [
      "/home/ubuntu/CTP/simulation/runs/DAXX_Q9UER7_2024_08_16_07_08_1723792023/seq2config.py:67: DeprecationWarning: Conversion of an array with ndim > 0 to a scalar is deprecated, and will error in future. Ensure you extract a single element from your array before performing this operation. (Deprecated NumPy 1.25.)\n",
      "  typescharges.append([int(types[p,1]),float(charges[k,1])])\n"
     ]
    },
    {
     "name": "stdout",
     "output_type": "stream",
     "text": [
      "step 1: running input single chain\n",
      "step 2: running compress single chain\n",
      "step 3: direct coexistence\n",
      "running [{'temp': 250, 'dir': 'simulation/runs/DAXX_Q9UER7_2024_08_16_07_08_1723792023/250'}, {'temp': 270, 'dir': 'simulation/runs/DAXX_Q9UER7_2024_08_16_07_08_1723792023/270'}, {'temp': 290, 'dir': 'simulation/runs/DAXX_Q9UER7_2024_08_16_07_08_1723792023/290'}, {'temp': 300, 'dir': 'simulation/runs/DAXX_Q9UER7_2024_08_16_07_08_1723792023/300'}, {'temp': 307, 'dir': 'simulation/runs/DAXX_Q9UER7_2024_08_16_07_08_1723792023/307'}, {'temp': 314, 'dir': 'simulation/runs/DAXX_Q9UER7_2024_08_16_07_08_1723792023/314'}]\n",
      "16-Aug-24 | 07:09\n",
      "execution time: 0.43546752075354256 hours\n",
      "16-Aug-24 | 07:35\n",
      "running [{'temp': 321, 'dir': 'simulation/runs/DAXX_Q9UER7_2024_08_16_07_08_1723792023/321'}, {'temp': 328, 'dir': 'simulation/runs/DAXX_Q9UER7_2024_08_16_07_08_1723792023/328'}, {'temp': 335, 'dir': 'simulation/runs/DAXX_Q9UER7_2024_08_16_07_08_1723792023/335'}, {'temp': 342, 'dir': 'simulation/runs/DAXX_Q9UER7_2024_08_16_07_08_1723792023/342'}, {'temp': 349, 'dir': 'simulation/runs/DAXX_Q9UER7_2024_08_16_07_08_1723792023/349'}, {'temp': 356, 'dir': 'simulation/runs/DAXX_Q9UER7_2024_08_16_07_08_1723792023/356'}]\n",
      "16-Aug-24 | 07:35\n",
      "execution time: 0.43889956216017406 hours\n",
      "16-Aug-24 | 08:01\n",
      "running [{'temp': 363, 'dir': 'simulation/runs/DAXX_Q9UER7_2024_08_16_07_08_1723792023/363'}, {'temp': 370, 'dir': 'simulation/runs/DAXX_Q9UER7_2024_08_16_07_08_1723792023/370'}]\n",
      "remaining temp, CPUs_pp = 48\n",
      "16-Aug-24 | 08:01\n",
      "execution time: 0.30418094323741063 hours\n",
      "16-Aug-24 | 08:20\n",
      "calculating ps densities\n",
      "simulation/runs/DAXX_Q9UER7_2024_08_16_07_08_1723792023/300\n"
     ]
    },
    {
     "name": "stderr",
     "output_type": "stream",
     "text": [
      "/home/ubuntu/CTP/simulation/runs/DAXX_Q9UER7_2024_08_16_07_08_1723792023/300/da.py:62: OptimizeWarning: Covariance of the parameters could not be estimated\n",
      "  popt, _ = curve_fit(super_gaussian, coords, avg_profile, p0=initial_guess, maxfev=20000)\n"
     ]
    },
    {
     "name": "stdout",
     "output_type": "stream",
     "text": [
      "Dense phase concentration: 0.20706617801857585 +/- 0.004569058930122004\n",
      "Dilute phase concentration: 0.20529524342105263 +/- 0.0020437283175360056\n",
      "simulation/runs/DAXX_Q9UER7_2024_08_16_07_08_1723792023/314\n"
     ]
    },
    {
     "name": "stderr",
     "output_type": "stream",
     "text": [
      "/home/ubuntu/CTP/simulation/runs/DAXX_Q9UER7_2024_08_16_07_08_1723792023/314/da.py:62: OptimizeWarning: Covariance of the parameters could not be estimated\n",
      "  popt, _ = curve_fit(super_gaussian, coords, avg_profile, p0=initial_guess, maxfev=20000)\n"
     ]
    },
    {
     "name": "stdout",
     "output_type": "stream",
     "text": [
      "Dense phase concentration: 0.20776469504643963 +/- 0.0032334163479345902\n",
      "Dilute phase concentration: 0.20381093421052632 +/- 0.0022811641700546175\n",
      "simulation/runs/DAXX_Q9UER7_2024_08_16_07_08_1723792023/290\n"
     ]
    },
    {
     "name": "stderr",
     "output_type": "stream",
     "text": [
      "/home/ubuntu/CTP/simulation/runs/DAXX_Q9UER7_2024_08_16_07_08_1723792023/290/da.py:62: OptimizeWarning: Covariance of the parameters could not be estimated\n",
      "  popt, _ = curve_fit(super_gaussian, coords, avg_profile, p0=initial_guess, maxfev=20000)\n"
     ]
    },
    {
     "name": "stdout",
     "output_type": "stream",
     "text": [
      "Dense phase concentration: 0.20635859287925698 +/- 0.003483617643530063\n",
      "Dilute phase concentration: 0.20679886842105263 +/- 0.0026422549377687708\n",
      "simulation/runs/DAXX_Q9UER7_2024_08_16_07_08_1723792023/342\n"
     ]
    },
    {
     "name": "stderr",
     "output_type": "stream",
     "text": [
      "/home/ubuntu/CTP/simulation/runs/DAXX_Q9UER7_2024_08_16_07_08_1723792023/342/da.py:62: OptimizeWarning: Covariance of the parameters could not be estimated\n",
      "  popt, _ = curve_fit(super_gaussian, coords, avg_profile, p0=initial_guess, maxfev=20000)\n"
     ]
    },
    {
     "name": "stdout",
     "output_type": "stream",
     "text": [
      "Dense phase concentration: 0.20751031578947368 +/- 0.0028315873836869503\n",
      "Dilute phase concentration: 0.20435150657894735 +/- 0.0027987397373351766\n",
      "simulation/runs/DAXX_Q9UER7_2024_08_16_07_08_1723792023/328\n"
     ]
    },
    {
     "name": "stderr",
     "output_type": "stream",
     "text": [
      "/home/ubuntu/CTP/simulation/runs/DAXX_Q9UER7_2024_08_16_07_08_1723792023/328/da.py:62: OptimizeWarning: Covariance of the parameters could not be estimated\n",
      "  popt, _ = curve_fit(super_gaussian, coords, avg_profile, p0=initial_guess, maxfev=20000)\n"
     ]
    },
    {
     "name": "stdout",
     "output_type": "stream",
     "text": [
      "Dense phase concentration: 0.20703332972136224 +/- 0.0034360463061594644\n",
      "Dilute phase concentration: 0.20536505592105264 +/- 0.0033007774548737376\n",
      "simulation/runs/DAXX_Q9UER7_2024_08_16_07_08_1723792023/307\n"
     ]
    },
    {
     "name": "stderr",
     "output_type": "stream",
     "text": [
      "/home/ubuntu/CTP/simulation/runs/DAXX_Q9UER7_2024_08_16_07_08_1723792023/307/da.py:62: OptimizeWarning: Covariance of the parameters could not be estimated\n",
      "  popt, _ = curve_fit(super_gaussian, coords, avg_profile, p0=initial_guess, maxfev=20000)\n"
     ]
    },
    {
     "name": "stdout",
     "output_type": "stream",
     "text": [
      "Dense phase concentration: 0.2077941609907121 +/- 0.0045878458825570475\n",
      "Dilute phase concentration: 0.20374833881578946 +/- 0.002921066075002776\n",
      "simulation/runs/DAXX_Q9UER7_2024_08_16_07_08_1723792023/363\n"
     ]
    },
    {
     "name": "stderr",
     "output_type": "stream",
     "text": [
      "/home/ubuntu/CTP/simulation/runs/DAXX_Q9UER7_2024_08_16_07_08_1723792023/363/da.py:62: OptimizeWarning: Covariance of the parameters could not be estimated\n",
      "  popt, _ = curve_fit(super_gaussian, coords, avg_profile, p0=initial_guess, maxfev=20000)\n"
     ]
    },
    {
     "name": "stdout",
     "output_type": "stream",
     "text": [
      "Dense phase concentration: 0.2061946238390093 +/- 0.0030705618342085133\n",
      "Dilute phase concentration: 0.20714733223684212 +/- 0.0023722070229798466\n",
      "simulation/runs/DAXX_Q9UER7_2024_08_16_07_08_1723792023/250\n"
     ]
    },
    {
     "name": "stderr",
     "output_type": "stream",
     "text": [
      "/home/ubuntu/CTP/simulation/runs/DAXX_Q9UER7_2024_08_16_07_08_1723792023/250/da.py:62: OptimizeWarning: Covariance of the parameters could not be estimated\n",
      "  popt, _ = curve_fit(super_gaussian, coords, avg_profile, p0=initial_guess, maxfev=20000)\n"
     ]
    },
    {
     "name": "stdout",
     "output_type": "stream",
     "text": [
      "Dense phase concentration: 0.20747437306501548 +/- 0.004854488432848333\n",
      "Dilute phase concentration: 0.20442785526315788 +/- 0.004474362566661668\n",
      "simulation/runs/DAXX_Q9UER7_2024_08_16_07_08_1723792023/321\n"
     ]
    },
    {
     "name": "stderr",
     "output_type": "stream",
     "text": [
      "/home/ubuntu/CTP/simulation/runs/DAXX_Q9UER7_2024_08_16_07_08_1723792023/321/da.py:62: OptimizeWarning: Covariance of the parameters could not be estimated\n",
      "  popt, _ = curve_fit(super_gaussian, coords, avg_profile, p0=initial_guess, maxfev=20000)\n"
     ]
    },
    {
     "name": "stdout",
     "output_type": "stream",
     "text": [
      "Dense phase concentration: 0.2063653544891641 +/- 0.003228451012521191\n",
      "Dilute phase concentration: 0.20678454276315789 +/- 0.0023199958253734576\n",
      "simulation/runs/DAXX_Q9UER7_2024_08_16_07_08_1723792023/349\n"
     ]
    },
    {
     "name": "stderr",
     "output_type": "stream",
     "text": [
      "/home/ubuntu/CTP/simulation/runs/DAXX_Q9UER7_2024_08_16_07_08_1723792023/349/da.py:62: OptimizeWarning: Covariance of the parameters could not be estimated\n",
      "  popt, _ = curve_fit(super_gaussian, coords, avg_profile, p0=initial_guess, maxfev=20000)\n"
     ]
    },
    {
     "name": "stdout",
     "output_type": "stream",
     "text": [
      "Dense phase concentration: 0.20747744582043343 +/- 0.003527036025754962\n",
      "Dilute phase concentration: 0.20442132894736842 +/- 0.003146253329215519\n",
      "simulation/runs/DAXX_Q9UER7_2024_08_16_07_08_1723792023/356\n"
     ]
    },
    {
     "name": "stderr",
     "output_type": "stream",
     "text": [
      "/home/ubuntu/CTP/simulation/runs/DAXX_Q9UER7_2024_08_16_07_08_1723792023/356/da.py:62: OptimizeWarning: Covariance of the parameters could not be estimated\n",
      "  popt, _ = curve_fit(super_gaussian, coords, avg_profile, p0=initial_guess, maxfev=20000)\n"
     ]
    },
    {
     "name": "stdout",
     "output_type": "stream",
     "text": [
      "Dense phase concentration: 0.2067614922600619 +/- 0.0024275926848934455\n",
      "Dilute phase concentration: 0.20594271710526316 +/- 0.003362349500893927\n",
      "simulation/runs/DAXX_Q9UER7_2024_08_16_07_08_1723792023/370\n"
     ]
    },
    {
     "name": "stderr",
     "output_type": "stream",
     "text": [
      "/home/ubuntu/CTP/simulation/runs/DAXX_Q9UER7_2024_08_16_07_08_1723792023/370/da.py:62: OptimizeWarning: Covariance of the parameters could not be estimated\n",
      "  popt, _ = curve_fit(super_gaussian, coords, avg_profile, p0=initial_guess, maxfev=20000)\n"
     ]
    },
    {
     "name": "stdout",
     "output_type": "stream",
     "text": [
      "Dense phase concentration: 0.20615442879256968 +/- 0.003938178114933262\n",
      "Dilute phase concentration: 0.20723275986842105 +/- 0.002764862929770392\n",
      "simulation/runs/DAXX_Q9UER7_2024_08_16_07_08_1723792023/335\n"
     ]
    },
    {
     "name": "stderr",
     "output_type": "stream",
     "text": [
      "/home/ubuntu/CTP/simulation/runs/DAXX_Q9UER7_2024_08_16_07_08_1723792023/335/da.py:62: OptimizeWarning: Covariance of the parameters could not be estimated\n",
      "  popt, _ = curve_fit(super_gaussian, coords, avg_profile, p0=initial_guess, maxfev=20000)\n"
     ]
    },
    {
     "name": "stdout",
     "output_type": "stream",
     "text": [
      "Dense phase concentration: 0.20655266408668732 +/- 0.003719738722381663\n",
      "Dilute phase concentration: 0.20638648684210528 +/- 0.0011761080938595023\n",
      "simulation/runs/DAXX_Q9UER7_2024_08_16_07_08_1723792023/270\n"
     ]
    },
    {
     "name": "stderr",
     "output_type": "stream",
     "text": [
      "/home/ubuntu/CTP/simulation/runs/DAXX_Q9UER7_2024_08_16_07_08_1723792023/270/da.py:62: OptimizeWarning: Covariance of the parameters could not be estimated\n",
      "  popt, _ = curve_fit(super_gaussian, coords, avg_profile, p0=initial_guess, maxfev=20000)\n"
     ]
    },
    {
     "name": "stdout",
     "output_type": "stream",
     "text": [
      "Dense phase concentration: 0.20722641176470585 +/- 0.0033190004789079913\n",
      "Dilute phase concentration: 0.20495476973684212 +/- 0.0025021460689659027\n"
     ]
    },
    {
     "name": "stderr",
     "output_type": "stream",
     "text": [
      "/home/ubuntu/anaconda3/envs/lammps/lib/python3.9/site-packages/matplotlib/collections.py:197: ComplexWarning: Casting complex values to real discards the imaginary part\n",
      "  offsets = np.asanyarray(offsets, float)\n",
      "/home/ubuntu/anaconda3/envs/lammps/lib/python3.9/site-packages/matplotlib/cbook.py:1762: ComplexWarning: Casting complex values to real discards the imaginary part\n",
      "  return math.isfinite(val)\n",
      "/home/ubuntu/anaconda3/envs/lammps/lib/python3.9/site-packages/matplotlib/cbook.py:1398: ComplexWarning: Casting complex values to real discards the imaginary part\n",
      "  return np.asarray(x, float)\n"
     ]
    },
    {
     "name": "stdout",
     "output_type": "stream",
     "text": [
      "File densities_chunked_temp250.txt read successfully with 2 lines.\n",
      "Original data lines:\n",
      "Dense phase concentration: 0.20747437306501548 +/- 0.004854488432848333\n",
      "Dilute phase concentration: 0.20442785526315788 +/- 0.004474362566661668\n",
      "Filtered data lines: 2\n",
      "Dense phase concentration: 0.20747437306501548 +/- 0.004854488432848333\n",
      "Dilute phase concentration: 0.20442785526315788 +/- 0.004474362566661668\n",
      "File densities_chunked_temp270.txt read successfully with 2 lines.\n",
      "Original data lines:\n",
      "Dense phase concentration: 0.20722641176470585 +/- 0.0033190004789079913\n",
      "Dilute phase concentration: 0.20495476973684212 +/- 0.0025021460689659027\n",
      "Filtered data lines: 2\n",
      "Dense phase concentration: 0.20722641176470585 +/- 0.0033190004789079913\n",
      "Dilute phase concentration: 0.20495476973684212 +/- 0.0025021460689659027\n",
      "File densities_chunked_temp290.txt read successfully with 2 lines.\n",
      "Original data lines:\n",
      "Dense phase concentration: 0.20635859287925698 +/- 0.003483617643530063\n",
      "Dilute phase concentration: 0.20679886842105263 +/- 0.0026422549377687708\n",
      "Filtered data lines: 2\n",
      "Dense phase concentration: 0.20635859287925698 +/- 0.003483617643530063\n",
      "Dilute phase concentration: 0.20679886842105263 +/- 0.0026422549377687708\n",
      "File densities_chunked_temp300.txt read successfully with 2 lines.\n",
      "Original data lines:\n",
      "Dense phase concentration: 0.20706617801857585 +/- 0.004569058930122004\n",
      "Dilute phase concentration: 0.20529524342105263 +/- 0.0020437283175360056\n",
      "Filtered data lines: 2\n",
      "Dense phase concentration: 0.20706617801857585 +/- 0.004569058930122004\n",
      "Dilute phase concentration: 0.20529524342105263 +/- 0.0020437283175360056\n",
      "File densities_chunked_temp307.txt read successfully with 2 lines.\n",
      "Original data lines:\n",
      "Dense phase concentration: 0.2077941609907121 +/- 0.0045878458825570475\n",
      "Dilute phase concentration: 0.20374833881578946 +/- 0.002921066075002776\n",
      "Filtered data lines: 2\n",
      "Dense phase concentration: 0.2077941609907121 +/- 0.0045878458825570475\n",
      "Dilute phase concentration: 0.20374833881578946 +/- 0.002921066075002776\n",
      "File densities_chunked_temp314.txt read successfully with 2 lines.\n",
      "Original data lines:\n",
      "Dense phase concentration: 0.20776469504643963 +/- 0.0032334163479345902\n",
      "Dilute phase concentration: 0.20381093421052632 +/- 0.0022811641700546175\n",
      "Filtered data lines: 2\n",
      "Dense phase concentration: 0.20776469504643963 +/- 0.0032334163479345902\n",
      "Dilute phase concentration: 0.20381093421052632 +/- 0.0022811641700546175\n",
      "File densities_chunked_temp321.txt read successfully with 2 lines.\n",
      "Original data lines:\n",
      "Dense phase concentration: 0.2063653544891641 +/- 0.003228451012521191\n",
      "Dilute phase concentration: 0.20678454276315789 +/- 0.0023199958253734576\n",
      "Filtered data lines: 2\n",
      "Dense phase concentration: 0.2063653544891641 +/- 0.003228451012521191\n",
      "Dilute phase concentration: 0.20678454276315789 +/- 0.0023199958253734576\n",
      "File densities_chunked_temp328.txt read successfully with 2 lines.\n",
      "Original data lines:\n",
      "Dense phase concentration: 0.20703332972136224 +/- 0.0034360463061594644\n",
      "Dilute phase concentration: 0.20536505592105264 +/- 0.0033007774548737376\n",
      "Filtered data lines: 2\n",
      "Dense phase concentration: 0.20703332972136224 +/- 0.0034360463061594644\n",
      "Dilute phase concentration: 0.20536505592105264 +/- 0.0033007774548737376\n",
      "File densities_chunked_temp335.txt read successfully with 2 lines.\n",
      "Original data lines:\n",
      "Dense phase concentration: 0.20655266408668732 +/- 0.003719738722381663\n",
      "Dilute phase concentration: 0.20638648684210528 +/- 0.0011761080938595023\n",
      "Filtered data lines: 2\n",
      "Dense phase concentration: 0.20655266408668732 +/- 0.003719738722381663\n",
      "Dilute phase concentration: 0.20638648684210528 +/- 0.0011761080938595023\n",
      "File densities_chunked_temp342.txt read successfully with 2 lines.\n",
      "Original data lines:\n",
      "Dense phase concentration: 0.20751031578947368 +/- 0.0028315873836869503\n",
      "Dilute phase concentration: 0.20435150657894735 +/- 0.0027987397373351766\n",
      "Filtered data lines: 2\n",
      "Dense phase concentration: 0.20751031578947368 +/- 0.0028315873836869503\n",
      "Dilute phase concentration: 0.20435150657894735 +/- 0.0027987397373351766\n",
      "File densities_chunked_temp349.txt read successfully with 2 lines.\n",
      "Original data lines:\n",
      "Dense phase concentration: 0.20747744582043343 +/- 0.003527036025754962\n",
      "Dilute phase concentration: 0.20442132894736842 +/- 0.003146253329215519\n",
      "Filtered data lines: 2\n",
      "Dense phase concentration: 0.20747744582043343 +/- 0.003527036025754962\n",
      "Dilute phase concentration: 0.20442132894736842 +/- 0.003146253329215519\n",
      "File densities_chunked_temp356.txt read successfully with 2 lines.\n",
      "Original data lines:\n",
      "Dense phase concentration: 0.2067614922600619 +/- 0.0024275926848934455\n",
      "Dilute phase concentration: 0.20594271710526316 +/- 0.003362349500893927\n",
      "Filtered data lines: 2\n",
      "Dense phase concentration: 0.2067614922600619 +/- 0.0024275926848934455\n",
      "Dilute phase concentration: 0.20594271710526316 +/- 0.003362349500893927\n",
      "File densities_chunked_temp363.txt read successfully with 2 lines.\n",
      "Original data lines:\n",
      "Dense phase concentration: 0.2061946238390093 +/- 0.0030705618342085133\n",
      "Dilute phase concentration: 0.20714733223684212 +/- 0.0023722070229798466\n",
      "Filtered data lines: 2\n",
      "Dense phase concentration: 0.2061946238390093 +/- 0.0030705618342085133\n",
      "Dilute phase concentration: 0.20714733223684212 +/- 0.0023722070229798466\n",
      "File densities_chunked_temp370.txt read successfully with 2 lines.\n",
      "Original data lines:\n",
      "Dense phase concentration: 0.20615442879256968 +/- 0.003938178114933262\n",
      "Dilute phase concentration: 0.20723275986842105 +/- 0.002764862929770392\n",
      "Filtered data lines: 2\n",
      "Dense phase concentration: 0.20615442879256968 +/- 0.003938178114933262\n",
      "Dilute phase concentration: 0.20723275986842105 +/- 0.002764862929770392\n",
      "Temperatures: [250, 270, 290, 300, 307, 314, 321, 328, 335, 342, 349, 356, 363, 370]\n",
      "Dense phase concentrations: [0.20747437306501548, 0.20722641176470585, 0.20635859287925698, 0.20706617801857585, 0.2077941609907121, 0.20776469504643963, 0.2063653544891641, 0.20703332972136224, 0.20655266408668732, 0.20751031578947368, 0.20747744582043343, 0.2067614922600619, 0.2061946238390093, 0.20615442879256968]\n",
      "Dilute phase concentrations: [0.20442785526315788, 0.20495476973684212, 0.20679886842105263, 0.20529524342105263, 0.20374833881578946, 0.20381093421052632, 0.20678454276315789, 0.20536505592105264, 0.20638648684210528, 0.20435150657894735, 0.20442132894736842, 0.20594271710526316, 0.20714733223684212, 0.20723275986842105]\n",
      "Dense std dev: [0.004854488432848333, 0.0033190004789079913, 0.003483617643530063, 0.004569058930122004, 0.0045878458825570475, 0.0032334163479345902, 0.003228451012521191, 0.0034360463061594644, 0.003719738722381663, 0.0028315873836869503, 0.003527036025754962, 0.0024275926848934455, 0.0030705618342085133, 0.003938178114933262]\n",
      "Dilute std dev: [0.004474362566661668, 0.0025021460689659027, 0.0026422549377687708, 0.0020437283175360056, 0.002921066075002776, 0.0022811641700546175, 0.0023199958253734576, 0.0033007774548737376, 0.0011761080938595023, 0.0027987397373351766, 0.003146253329215519, 0.003362349500893927, 0.0023722070229798466, 0.002764862929770392]\n",
      "Critical Solution Temperature: 423.53-0.81j K written to critical_solution_temperature.txt\n",
      "execution time: 1.2199646026558346 hours\n",
      "16-Aug-24 | 08:20\n",
      "\n",
      "\n",
      "running simulation for UBQL2_-10S+10T\n",
      "16-Aug-24 | 08:20\n",
      "seq len 62\n",
      "total temps 14\n",
      "simulation/runs/UBQL2_-10S+10T_2024_08_16_08_08_1723796415\n"
     ]
    },
    {
     "name": "stderr",
     "output_type": "stream",
     "text": [
      "/home/ubuntu/CTP/simulation/runs/UBQL2_-10S+10T_2024_08_16_08_08_1723796415/seq2config.py:67: DeprecationWarning: Conversion of an array with ndim > 0 to a scalar is deprecated, and will error in future. Ensure you extract a single element from your array before performing this operation. (Deprecated NumPy 1.25.)\n",
      "  typescharges.append([int(types[p,1]),float(charges[k,1])])\n"
     ]
    },
    {
     "name": "stdout",
     "output_type": "stream",
     "text": [
      "step 1: running input single chain\n",
      "step 2: running compress single chain\n",
      "step 3: direct coexistence\n",
      "running [{'temp': 250, 'dir': 'simulation/runs/UBQL2_-10S+10T_2024_08_16_08_08_1723796415/250'}, {'temp': 270, 'dir': 'simulation/runs/UBQL2_-10S+10T_2024_08_16_08_08_1723796415/270'}, {'temp': 290, 'dir': 'simulation/runs/UBQL2_-10S+10T_2024_08_16_08_08_1723796415/290'}, {'temp': 300, 'dir': 'simulation/runs/UBQL2_-10S+10T_2024_08_16_08_08_1723796415/300'}, {'temp': 307, 'dir': 'simulation/runs/UBQL2_-10S+10T_2024_08_16_08_08_1723796415/307'}, {'temp': 314, 'dir': 'simulation/runs/UBQL2_-10S+10T_2024_08_16_08_08_1723796415/314'}]\n",
      "16-Aug-24 | 08:22\n",
      "execution time: 0.41738219843970403 hours\n",
      "16-Aug-24 | 08:47\n",
      "running [{'temp': 321, 'dir': 'simulation/runs/UBQL2_-10S+10T_2024_08_16_08_08_1723796415/321'}, {'temp': 328, 'dir': 'simulation/runs/UBQL2_-10S+10T_2024_08_16_08_08_1723796415/328'}, {'temp': 335, 'dir': 'simulation/runs/UBQL2_-10S+10T_2024_08_16_08_08_1723796415/335'}, {'temp': 342, 'dir': 'simulation/runs/UBQL2_-10S+10T_2024_08_16_08_08_1723796415/342'}, {'temp': 349, 'dir': 'simulation/runs/UBQL2_-10S+10T_2024_08_16_08_08_1723796415/349'}, {'temp': 356, 'dir': 'simulation/runs/UBQL2_-10S+10T_2024_08_16_08_08_1723796415/356'}]\n",
      "16-Aug-24 | 08:47\n",
      "execution time: 0.41386400971147747 hours\n",
      "16-Aug-24 | 09:12\n",
      "running [{'temp': 363, 'dir': 'simulation/runs/UBQL2_-10S+10T_2024_08_16_08_08_1723796415/363'}, {'temp': 370, 'dir': 'simulation/runs/UBQL2_-10S+10T_2024_08_16_08_08_1723796415/370'}]\n",
      "remaining temp, CPUs_pp = 48\n",
      "16-Aug-24 | 09:12\n",
      "execution time: 0.29718914217419096 hours\n",
      "16-Aug-24 | 09:30\n",
      "calculating ps densities\n",
      "simulation/runs/UBQL2_-10S+10T_2024_08_16_08_08_1723796415/300\n"
     ]
    },
    {
     "name": "stderr",
     "output_type": "stream",
     "text": [
      "/home/ubuntu/CTP/simulation/runs/UBQL2_-10S+10T_2024_08_16_08_08_1723796415/300/da.py:62: OptimizeWarning: Covariance of the parameters could not be estimated\n",
      "  popt, _ = curve_fit(super_gaussian, coords, avg_profile, p0=initial_guess, maxfev=20000)\n"
     ]
    },
    {
     "name": "stdout",
     "output_type": "stream",
     "text": [
      "Dense phase concentration: 0.2130283281733746 +/- 0.004844875835173335\n",
      "Dilute phase concentration: 0.20952402960526317 +/- 0.0045003817366543976\n",
      "simulation/runs/UBQL2_-10S+10T_2024_08_16_08_08_1723796415/314\n"
     ]
    },
    {
     "name": "stderr",
     "output_type": "stream",
     "text": [
      "/home/ubuntu/CTP/simulation/runs/UBQL2_-10S+10T_2024_08_16_08_08_1723796415/314/da.py:62: OptimizeWarning: Covariance of the parameters could not be estimated\n",
      "  popt, _ = curve_fit(super_gaussian, coords, avg_profile, p0=initial_guess, maxfev=20000)\n"
     ]
    },
    {
     "name": "stdout",
     "output_type": "stream",
     "text": [
      "Dense phase concentration: 0.21327147368421054 +/- 0.003803511925541534\n",
      "Dilute phase concentration: 0.2090073519736842 +/- 0.00358682491050435\n",
      "simulation/runs/UBQL2_-10S+10T_2024_08_16_08_08_1723796415/290\n"
     ]
    },
    {
     "name": "stderr",
     "output_type": "stream",
     "text": [
      "/home/ubuntu/CTP/simulation/runs/UBQL2_-10S+10T_2024_08_16_08_08_1723796415/290/da.py:62: OptimizeWarning: Covariance of the parameters could not be estimated\n",
      "  popt, _ = curve_fit(super_gaussian, coords, avg_profile, p0=initial_guess, maxfev=20000)\n"
     ]
    },
    {
     "name": "stdout",
     "output_type": "stream",
     "text": [
      "Dense phase concentration: 0.21288991795665635 +/- 0.003971712899870951\n",
      "Dilute phase concentration: 0.20981809539473684 +/- 0.002385639353667753\n",
      "simulation/runs/UBQL2_-10S+10T_2024_08_16_08_08_1723796415/342\n"
     ]
    },
    {
     "name": "stderr",
     "output_type": "stream",
     "text": [
      "/home/ubuntu/CTP/simulation/runs/UBQL2_-10S+10T_2024_08_16_08_08_1723796415/342/da.py:62: OptimizeWarning: Covariance of the parameters could not be estimated\n",
      "  popt, _ = curve_fit(super_gaussian, coords, avg_profile, p0=initial_guess, maxfev=20000)\n"
     ]
    },
    {
     "name": "stdout",
     "output_type": "stream",
     "text": [
      "Dense phase concentration: 0.21068902321981423 +/- 0.0026490603043417085\n",
      "Dilute phase concentration: 0.21449501315789474 +/- 0.004238416799086308\n",
      "simulation/runs/UBQL2_-10S+10T_2024_08_16_08_08_1723796415/328\n"
     ]
    },
    {
     "name": "stderr",
     "output_type": "stream",
     "text": [
      "/home/ubuntu/CTP/simulation/runs/UBQL2_-10S+10T_2024_08_16_08_08_1723796415/328/da.py:62: OptimizeWarning: Covariance of the parameters could not be estimated\n",
      "  popt, _ = curve_fit(super_gaussian, coords, avg_profile, p0=initial_guess, maxfev=20000)\n"
     ]
    },
    {
     "name": "stdout",
     "output_type": "stream",
     "text": [
      "Dense phase concentration: 0.21149260990712074 +/- 0.003936731295255091\n",
      "Dilute phase concentration: 0.21278743421052632 +/- 0.0025485861528089385\n",
      "simulation/runs/UBQL2_-10S+10T_2024_08_16_08_08_1723796415/307\n"
     ]
    },
    {
     "name": "stderr",
     "output_type": "stream",
     "text": [
      "/home/ubuntu/CTP/simulation/runs/UBQL2_-10S+10T_2024_08_16_08_08_1723796415/307/da.py:62: OptimizeWarning: Covariance of the parameters could not be estimated\n",
      "  popt, _ = curve_fit(super_gaussian, coords, avg_profile, p0=initial_guess, maxfev=20000)\n"
     ]
    },
    {
     "name": "stdout",
     "output_type": "stream",
     "text": [
      "Dense phase concentration: 0.21255020743034053 +/- 0.004279969658210946\n",
      "Dilute phase concentration: 0.21053996710526315 +/- 0.003212668780010424\n",
      "simulation/runs/UBQL2_-10S+10T_2024_08_16_08_08_1723796415/363\n"
     ]
    },
    {
     "name": "stderr",
     "output_type": "stream",
     "text": [
      "/home/ubuntu/CTP/simulation/runs/UBQL2_-10S+10T_2024_08_16_08_08_1723796415/363/da.py:62: OptimizeWarning: Covariance of the parameters could not be estimated\n",
      "  popt, _ = curve_fit(super_gaussian, coords, avg_profile, p0=initial_guess, maxfev=20000)\n"
     ]
    },
    {
     "name": "stdout",
     "output_type": "stream",
     "text": [
      "Dense phase concentration: 0.21198652476780186 +/- 0.0036820082860654895\n",
      "Dilute phase concentration: 0.2117378355263158 +/- 0.003140385456996691\n",
      "simulation/runs/UBQL2_-10S+10T_2024_08_16_08_08_1723796415/250\n"
     ]
    },
    {
     "name": "stderr",
     "output_type": "stream",
     "text": [
      "/home/ubuntu/CTP/simulation/runs/UBQL2_-10S+10T_2024_08_16_08_08_1723796415/250/da.py:62: OptimizeWarning: Covariance of the parameters could not be estimated\n",
      "  popt, _ = curve_fit(super_gaussian, coords, avg_profile, p0=initial_guess, maxfev=20000)\n"
     ]
    },
    {
     "name": "stdout",
     "output_type": "stream",
     "text": [
      "Dense phase concentration: 0.2129040882352941 +/- 0.008217847871058412\n",
      "Dilute phase concentration: 0.2097880394736842 +/- 0.0038887226701091494\n",
      "simulation/runs/UBQL2_-10S+10T_2024_08_16_08_08_1723796415/321\n"
     ]
    },
    {
     "name": "stderr",
     "output_type": "stream",
     "text": [
      "/home/ubuntu/CTP/simulation/runs/UBQL2_-10S+10T_2024_08_16_08_08_1723796415/321/da.py:62: OptimizeWarning: Covariance of the parameters could not be estimated\n",
      "  popt, _ = curve_fit(super_gaussian, coords, avg_profile, p0=initial_guess, maxfev=20000)\n"
     ]
    },
    {
     "name": "stdout",
     "output_type": "stream",
     "text": [
      "Dense phase concentration: 0.21260814860681115 +/- 0.0032686720564759097\n",
      "Dilute phase concentration: 0.21041685526315787 +/- 0.0032200229368462225\n",
      "simulation/runs/UBQL2_-10S+10T_2024_08_16_08_08_1723796415/349\n"
     ]
    },
    {
     "name": "stderr",
     "output_type": "stream",
     "text": [
      "/home/ubuntu/CTP/simulation/runs/UBQL2_-10S+10T_2024_08_16_08_08_1723796415/349/da.py:62: OptimizeWarning: Covariance of the parameters could not be estimated\n",
      "  popt, _ = curve_fit(super_gaussian, coords, avg_profile, p0=initial_guess, maxfev=20000)\n"
     ]
    },
    {
     "name": "stdout",
     "output_type": "stream",
     "text": [
      "Dense phase concentration: 0.2117699613003096 +/- 0.004434705556704227\n",
      "Dilute phase concentration: 0.2121980657894737 +/- 0.0030122871754169594\n",
      "simulation/runs/UBQL2_-10S+10T_2024_08_16_08_08_1723796415/356\n"
     ]
    },
    {
     "name": "stderr",
     "output_type": "stream",
     "text": [
      "/home/ubuntu/CTP/simulation/runs/UBQL2_-10S+10T_2024_08_16_08_08_1723796415/356/da.py:62: OptimizeWarning: Covariance of the parameters could not be estimated\n",
      "  popt, _ = curve_fit(super_gaussian, coords, avg_profile, p0=initial_guess, maxfev=20000)\n"
     ]
    },
    {
     "name": "stdout",
     "output_type": "stream",
     "text": [
      "Dense phase concentration: 0.21183047678018577 +/- 0.0030453260733083933\n",
      "Dilute phase concentration: 0.21206943421052632 +/- 0.0022524386392486534\n",
      "simulation/runs/UBQL2_-10S+10T_2024_08_16_08_08_1723796415/370\n"
     ]
    },
    {
     "name": "stderr",
     "output_type": "stream",
     "text": [
      "/home/ubuntu/CTP/simulation/runs/UBQL2_-10S+10T_2024_08_16_08_08_1723796415/370/da.py:62: OptimizeWarning: Covariance of the parameters could not be estimated\n",
      "  popt, _ = curve_fit(super_gaussian, coords, avg_profile, p0=initial_guess, maxfev=20000)\n"
     ]
    },
    {
     "name": "stdout",
     "output_type": "stream",
     "text": [
      "Dense phase concentration: 0.2117527770897833 +/- 0.002624321067691345\n",
      "Dilute phase concentration: 0.2122345460526316 +/- 0.003831005071245977\n",
      "simulation/runs/UBQL2_-10S+10T_2024_08_16_08_08_1723796415/335\n"
     ]
    },
    {
     "name": "stderr",
     "output_type": "stream",
     "text": [
      "/home/ubuntu/CTP/simulation/runs/UBQL2_-10S+10T_2024_08_16_08_08_1723796415/335/da.py:62: OptimizeWarning: Covariance of the parameters could not be estimated\n",
      "  popt, _ = curve_fit(super_gaussian, coords, avg_profile, p0=initial_guess, maxfev=20000)\n"
     ]
    },
    {
     "name": "stdout",
     "output_type": "stream",
     "text": [
      "Dense phase concentration: 0.21227460061919504 +/- 0.003957796430114295\n",
      "Dilute phase concentration: 0.21112572039473684 +/- 0.0043587298604173385\n",
      "simulation/runs/UBQL2_-10S+10T_2024_08_16_08_08_1723796415/270\n"
     ]
    },
    {
     "name": "stderr",
     "output_type": "stream",
     "text": [
      "/home/ubuntu/CTP/simulation/runs/UBQL2_-10S+10T_2024_08_16_08_08_1723796415/270/da.py:62: OptimizeWarning: Covariance of the parameters could not be estimated\n",
      "  popt, _ = curve_fit(super_gaussian, coords, avg_profile, p0=initial_guess, maxfev=20000)\n"
     ]
    },
    {
     "name": "stdout",
     "output_type": "stream",
     "text": [
      "Dense phase concentration: 0.2127515 +/- 0.006795872104804556\n",
      "Dilute phase concentration: 0.21011224342105264 +/- 0.002016894555108133\n"
     ]
    },
    {
     "name": "stderr",
     "output_type": "stream",
     "text": [
      "/home/ubuntu/anaconda3/envs/lammps/lib/python3.9/site-packages/matplotlib/collections.py:197: ComplexWarning: Casting complex values to real discards the imaginary part\n",
      "  offsets = np.asanyarray(offsets, float)\n",
      "/home/ubuntu/anaconda3/envs/lammps/lib/python3.9/site-packages/matplotlib/cbook.py:1762: ComplexWarning: Casting complex values to real discards the imaginary part\n",
      "  return math.isfinite(val)\n",
      "/home/ubuntu/anaconda3/envs/lammps/lib/python3.9/site-packages/matplotlib/cbook.py:1398: ComplexWarning: Casting complex values to real discards the imaginary part\n",
      "  return np.asarray(x, float)\n"
     ]
    },
    {
     "name": "stdout",
     "output_type": "stream",
     "text": [
      "File densities_chunked_temp250.txt read successfully with 2 lines.\n",
      "Original data lines:\n",
      "Dense phase concentration: 0.2129040882352941 +/- 0.008217847871058412\n",
      "Dilute phase concentration: 0.2097880394736842 +/- 0.0038887226701091494\n",
      "Filtered data lines: 2\n",
      "Dense phase concentration: 0.2129040882352941 +/- 0.008217847871058412\n",
      "Dilute phase concentration: 0.2097880394736842 +/- 0.0038887226701091494\n",
      "File densities_chunked_temp270.txt read successfully with 2 lines.\n",
      "Original data lines:\n",
      "Dense phase concentration: 0.2127515 +/- 0.006795872104804556\n",
      "Dilute phase concentration: 0.21011224342105264 +/- 0.002016894555108133\n",
      "Filtered data lines: 2\n",
      "Dense phase concentration: 0.2127515 +/- 0.006795872104804556\n",
      "Dilute phase concentration: 0.21011224342105264 +/- 0.002016894555108133\n",
      "File densities_chunked_temp290.txt read successfully with 2 lines.\n",
      "Original data lines:\n",
      "Dense phase concentration: 0.21288991795665635 +/- 0.003971712899870951\n",
      "Dilute phase concentration: 0.20981809539473684 +/- 0.002385639353667753\n",
      "Filtered data lines: 2\n",
      "Dense phase concentration: 0.21288991795665635 +/- 0.003971712899870951\n",
      "Dilute phase concentration: 0.20981809539473684 +/- 0.002385639353667753\n",
      "File densities_chunked_temp300.txt read successfully with 2 lines.\n",
      "Original data lines:\n",
      "Dense phase concentration: 0.2130283281733746 +/- 0.004844875835173335\n",
      "Dilute phase concentration: 0.20952402960526317 +/- 0.0045003817366543976\n",
      "Filtered data lines: 2\n",
      "Dense phase concentration: 0.2130283281733746 +/- 0.004844875835173335\n",
      "Dilute phase concentration: 0.20952402960526317 +/- 0.0045003817366543976\n",
      "File densities_chunked_temp307.txt read successfully with 2 lines.\n",
      "Original data lines:\n",
      "Dense phase concentration: 0.21255020743034053 +/- 0.004279969658210946\n",
      "Dilute phase concentration: 0.21053996710526315 +/- 0.003212668780010424\n",
      "Filtered data lines: 2\n",
      "Dense phase concentration: 0.21255020743034053 +/- 0.004279969658210946\n",
      "Dilute phase concentration: 0.21053996710526315 +/- 0.003212668780010424\n",
      "File densities_chunked_temp314.txt read successfully with 2 lines.\n",
      "Original data lines:\n",
      "Dense phase concentration: 0.21327147368421054 +/- 0.003803511925541534\n",
      "Dilute phase concentration: 0.2090073519736842 +/- 0.00358682491050435\n",
      "Filtered data lines: 2\n",
      "Dense phase concentration: 0.21327147368421054 +/- 0.003803511925541534\n",
      "Dilute phase concentration: 0.2090073519736842 +/- 0.00358682491050435\n",
      "File densities_chunked_temp321.txt read successfully with 2 lines.\n",
      "Original data lines:\n",
      "Dense phase concentration: 0.21260814860681115 +/- 0.0032686720564759097\n",
      "Dilute phase concentration: 0.21041685526315787 +/- 0.0032200229368462225\n",
      "Filtered data lines: 2\n",
      "Dense phase concentration: 0.21260814860681115 +/- 0.0032686720564759097\n",
      "Dilute phase concentration: 0.21041685526315787 +/- 0.0032200229368462225\n",
      "File densities_chunked_temp328.txt read successfully with 2 lines.\n",
      "Original data lines:\n",
      "Dense phase concentration: 0.21149260990712074 +/- 0.003936731295255091\n",
      "Dilute phase concentration: 0.21278743421052632 +/- 0.0025485861528089385\n",
      "Filtered data lines: 2\n",
      "Dense phase concentration: 0.21149260990712074 +/- 0.003936731295255091\n",
      "Dilute phase concentration: 0.21278743421052632 +/- 0.0025485861528089385\n",
      "File densities_chunked_temp335.txt read successfully with 2 lines.\n",
      "Original data lines:\n",
      "Dense phase concentration: 0.21227460061919504 +/- 0.003957796430114295\n",
      "Dilute phase concentration: 0.21112572039473684 +/- 0.0043587298604173385\n",
      "Filtered data lines: 2\n",
      "Dense phase concentration: 0.21227460061919504 +/- 0.003957796430114295\n",
      "Dilute phase concentration: 0.21112572039473684 +/- 0.0043587298604173385\n",
      "File densities_chunked_temp342.txt read successfully with 2 lines.\n",
      "Original data lines:\n",
      "Dense phase concentration: 0.21068902321981423 +/- 0.0026490603043417085\n",
      "Dilute phase concentration: 0.21449501315789474 +/- 0.004238416799086308\n",
      "Filtered data lines: 2\n",
      "Dense phase concentration: 0.21068902321981423 +/- 0.0026490603043417085\n",
      "Dilute phase concentration: 0.21449501315789474 +/- 0.004238416799086308\n",
      "File densities_chunked_temp349.txt read successfully with 2 lines.\n",
      "Original data lines:\n",
      "Dense phase concentration: 0.2117699613003096 +/- 0.004434705556704227\n",
      "Dilute phase concentration: 0.2121980657894737 +/- 0.0030122871754169594\n",
      "Filtered data lines: 2\n",
      "Dense phase concentration: 0.2117699613003096 +/- 0.004434705556704227\n",
      "Dilute phase concentration: 0.2121980657894737 +/- 0.0030122871754169594\n",
      "File densities_chunked_temp356.txt read successfully with 2 lines.\n",
      "Original data lines:\n",
      "Dense phase concentration: 0.21183047678018577 +/- 0.0030453260733083933\n",
      "Dilute phase concentration: 0.21206943421052632 +/- 0.0022524386392486534\n",
      "Filtered data lines: 2\n",
      "Dense phase concentration: 0.21183047678018577 +/- 0.0030453260733083933\n",
      "Dilute phase concentration: 0.21206943421052632 +/- 0.0022524386392486534\n",
      "File densities_chunked_temp363.txt read successfully with 2 lines.\n",
      "Original data lines:\n",
      "Dense phase concentration: 0.21198652476780186 +/- 0.0036820082860654895\n",
      "Dilute phase concentration: 0.2117378355263158 +/- 0.003140385456996691\n",
      "Filtered data lines: 2\n",
      "Dense phase concentration: 0.21198652476780186 +/- 0.0036820082860654895\n",
      "Dilute phase concentration: 0.2117378355263158 +/- 0.003140385456996691\n",
      "File densities_chunked_temp370.txt read successfully with 2 lines.\n",
      "Original data lines:\n",
      "Dense phase concentration: 0.2117527770897833 +/- 0.002624321067691345\n",
      "Dilute phase concentration: 0.2122345460526316 +/- 0.003831005071245977\n",
      "Filtered data lines: 2\n",
      "Dense phase concentration: 0.2117527770897833 +/- 0.002624321067691345\n",
      "Dilute phase concentration: 0.2122345460526316 +/- 0.003831005071245977\n",
      "Temperatures: [250, 270, 290, 300, 307, 314, 321, 328, 335, 342, 349, 356, 363, 370]\n",
      "Dense phase concentrations: [0.2129040882352941, 0.2127515, 0.21288991795665635, 0.2130283281733746, 0.21255020743034053, 0.21327147368421054, 0.21260814860681115, 0.21149260990712074, 0.21227460061919504, 0.21068902321981423, 0.2117699613003096, 0.21183047678018577, 0.21198652476780186, 0.2117527770897833]\n",
      "Dilute phase concentrations: [0.2097880394736842, 0.21011224342105264, 0.20981809539473684, 0.20952402960526317, 0.21053996710526315, 0.2090073519736842, 0.21041685526315787, 0.21278743421052632, 0.21112572039473684, 0.21449501315789474, 0.2121980657894737, 0.21206943421052632, 0.2117378355263158, 0.2122345460526316]\n",
      "Dense std dev: [0.008217847871058412, 0.006795872104804556, 0.003971712899870951, 0.004844875835173335, 0.004279969658210946, 0.003803511925541534, 0.0032686720564759097, 0.003936731295255091, 0.003957796430114295, 0.0026490603043417085, 0.004434705556704227, 0.0030453260733083933, 0.0036820082860654895, 0.002624321067691345]\n",
      "Dilute std dev: [0.0038887226701091494, 0.002016894555108133, 0.002385639353667753, 0.0045003817366543976, 0.003212668780010424, 0.00358682491050435, 0.0032200229368462225, 0.0025485861528089385, 0.0043587298604173385, 0.004238416799086308, 0.0030122871754169594, 0.0022524386392486534, 0.003140385456996691, 0.003831005071245977]\n",
      "Critical Solution Temperature: 348.89-2.79j K written to critical_solution_temperature.txt\n",
      "execution time: 1.1691358539130952 hours\n",
      "16-Aug-24 | 09:30\n",
      "\n",
      "\n",
      "running simulation for UBQL2_-4Q+4N\n",
      "16-Aug-24 | 09:30\n",
      "seq len 62\n",
      "total temps 14\n",
      "simulation/runs/UBQL2_-4Q+4N_2024_08_16_09_08_1723800624\n"
     ]
    },
    {
     "name": "stderr",
     "output_type": "stream",
     "text": [
      "/home/ubuntu/CTP/simulation/runs/UBQL2_-4Q+4N_2024_08_16_09_08_1723800624/seq2config.py:67: DeprecationWarning: Conversion of an array with ndim > 0 to a scalar is deprecated, and will error in future. Ensure you extract a single element from your array before performing this operation. (Deprecated NumPy 1.25.)\n",
      "  typescharges.append([int(types[p,1]),float(charges[k,1])])\n"
     ]
    },
    {
     "name": "stdout",
     "output_type": "stream",
     "text": [
      "step 1: running input single chain\n",
      "step 2: running compress single chain\n",
      "step 3: direct coexistence\n",
      "running [{'temp': 250, 'dir': 'simulation/runs/UBQL2_-4Q+4N_2024_08_16_09_08_1723800624/250'}, {'temp': 270, 'dir': 'simulation/runs/UBQL2_-4Q+4N_2024_08_16_09_08_1723800624/270'}, {'temp': 290, 'dir': 'simulation/runs/UBQL2_-4Q+4N_2024_08_16_09_08_1723800624/290'}, {'temp': 300, 'dir': 'simulation/runs/UBQL2_-4Q+4N_2024_08_16_09_08_1723800624/300'}, {'temp': 307, 'dir': 'simulation/runs/UBQL2_-4Q+4N_2024_08_16_09_08_1723800624/307'}, {'temp': 314, 'dir': 'simulation/runs/UBQL2_-4Q+4N_2024_08_16_09_08_1723800624/314'}]\n",
      "16-Aug-24 | 09:32\n",
      "execution time: 0.42247241649362777 hours\n",
      "16-Aug-24 | 09:57\n",
      "running [{'temp': 321, 'dir': 'simulation/runs/UBQL2_-4Q+4N_2024_08_16_09_08_1723800624/321'}, {'temp': 328, 'dir': 'simulation/runs/UBQL2_-4Q+4N_2024_08_16_09_08_1723800624/328'}, {'temp': 335, 'dir': 'simulation/runs/UBQL2_-4Q+4N_2024_08_16_09_08_1723800624/335'}, {'temp': 342, 'dir': 'simulation/runs/UBQL2_-4Q+4N_2024_08_16_09_08_1723800624/342'}, {'temp': 349, 'dir': 'simulation/runs/UBQL2_-4Q+4N_2024_08_16_09_08_1723800624/349'}, {'temp': 356, 'dir': 'simulation/runs/UBQL2_-4Q+4N_2024_08_16_09_08_1723800624/356'}]\n",
      "16-Aug-24 | 09:57\n",
      "execution time: 0.40684439486927454 hours\n",
      "16-Aug-24 | 10:22\n",
      "running [{'temp': 363, 'dir': 'simulation/runs/UBQL2_-4Q+4N_2024_08_16_09_08_1723800624/363'}, {'temp': 370, 'dir': 'simulation/runs/UBQL2_-4Q+4N_2024_08_16_09_08_1723800624/370'}]\n",
      "remaining temp, CPUs_pp = 48\n",
      "16-Aug-24 | 10:22\n",
      "execution time: 0.29737531575891707 hours\n",
      "16-Aug-24 | 10:40\n",
      "calculating ps densities\n",
      "simulation/runs/UBQL2_-4Q+4N_2024_08_16_09_08_1723800624/300\n"
     ]
    },
    {
     "name": "stderr",
     "output_type": "stream",
     "text": [
      "/home/ubuntu/CTP/simulation/runs/UBQL2_-4Q+4N_2024_08_16_09_08_1723800624/300/da.py:62: OptimizeWarning: Covariance of the parameters could not be estimated\n",
      "  popt, _ = curve_fit(super_gaussian, coords, avg_profile, p0=initial_guess, maxfev=20000)\n"
     ]
    },
    {
     "name": "stdout",
     "output_type": "stream",
     "text": [
      "Dense phase concentration: 0.2095207956656347 +/- 0.003872999323745679\n",
      "Dilute phase concentration: 0.20809230592105263 +/- 0.0025476855034020016\n",
      "simulation/runs/UBQL2_-4Q+4N_2024_08_16_09_08_1723800624/314\n"
     ]
    },
    {
     "name": "stderr",
     "output_type": "stream",
     "text": [
      "/home/ubuntu/CTP/simulation/runs/UBQL2_-4Q+4N_2024_08_16_09_08_1723800624/314/da.py:62: OptimizeWarning: Covariance of the parameters could not be estimated\n",
      "  popt, _ = curve_fit(super_gaussian, coords, avg_profile, p0=initial_guess, maxfev=20000)\n"
     ]
    },
    {
     "name": "stdout",
     "output_type": "stream",
     "text": [
      "Dense phase concentration: 0.21015367956656344 +/- 0.006155494077264631\n",
      "Dilute phase concentration: 0.20674742434210527 +/- 0.005090072969992055\n",
      "simulation/runs/UBQL2_-4Q+4N_2024_08_16_09_08_1723800624/290\n"
     ]
    },
    {
     "name": "stderr",
     "output_type": "stream",
     "text": [
      "/home/ubuntu/CTP/simulation/runs/UBQL2_-4Q+4N_2024_08_16_09_08_1723800624/290/da.py:62: OptimizeWarning: Covariance of the parameters could not be estimated\n",
      "  popt, _ = curve_fit(super_gaussian, coords, avg_profile, p0=initial_guess, maxfev=20000)\n"
     ]
    },
    {
     "name": "stdout",
     "output_type": "stream",
     "text": [
      "Dense phase concentration: 0.21075414705882353 +/- 0.005515719094285164\n",
      "Dilute phase concentration: 0.205471375 +/- 0.004471066422985881\n",
      "simulation/runs/UBQL2_-4Q+4N_2024_08_16_09_08_1723800624/342\n"
     ]
    },
    {
     "name": "stderr",
     "output_type": "stream",
     "text": [
      "Traceback (most recent call last):\n",
      "  File \"/home/ubuntu/CTP/simulation/runs/UBQL2_-4Q+4N_2024_08_16_09_08_1723800624/342/da.py\", line 146, in <module>\n",
      "    main()\n",
      "  File \"/home/ubuntu/CTP/simulation/runs/UBQL2_-4Q+4N_2024_08_16_09_08_1723800624/342/da.py\", line 133, in main\n",
      "    dense, dilute, dense_stdev, dilute_stdev = process_density_file(file_name)\n",
      "  File \"/home/ubuntu/CTP/simulation/runs/UBQL2_-4Q+4N_2024_08_16_09_08_1723800624/342/da.py\", line 121, in process_density_file\n",
      "    dense, dilute, dense_stdev, dilute_stdev = get_dilute_and_dense_concentrations(density, zPosition)\n",
      "  File \"/home/ubuntu/CTP/simulation/runs/UBQL2_-4Q+4N_2024_08_16_09_08_1723800624/342/da.py\", line 99, in get_dilute_and_dense_concentrations\n",
      "    left_interface_coord, right_interface_coord = super_gaussian_fd_method(coords, density)\n",
      "  File \"/home/ubuntu/CTP/simulation/runs/UBQL2_-4Q+4N_2024_08_16_09_08_1723800624/342/da.py\", line 62, in super_gaussian_fd_method\n",
      "    popt, _ = curve_fit(super_gaussian, coords, avg_profile, p0=initial_guess, maxfev=20000)\n",
      "  File \"/home/ubuntu/anaconda3/envs/lammps/lib/python3.9/site-packages/scipy/optimize/_minpack_py.py\", line 1005, in curve_fit\n",
      "    raise RuntimeError(\"Optimal parameters not found: \" + errmsg)\n",
      "RuntimeError: Optimal parameters not found: Number of calls to function has reached maxfev = 20000.\n",
      "/home/ubuntu/CTP/simulation/runs/UBQL2_-5N+5Q_2024_08_16_10_08_1723804816/seq2config.py:67: DeprecationWarning: Conversion of an array with ndim > 0 to a scalar is deprecated, and will error in future. Ensure you extract a single element from your array before performing this operation. (Deprecated NumPy 1.25.)\n",
      "  typescharges.append([int(types[p,1]),float(charges[k,1])])\n"
     ]
    },
    {
     "name": "stdout",
     "output_type": "stream",
     "text": [
      "execution time: 1.1645583614375856 hours\n",
      "16-Aug-24 | 10:40\n",
      "\n",
      "\n",
      "running simulation for UBQL2_-5N+5Q\n",
      "16-Aug-24 | 10:40\n",
      "seq len 62\n",
      "total temps 14\n",
      "simulation/runs/UBQL2_-5N+5Q_2024_08_16_10_08_1723804816\n",
      "step 1: running input single chain\n",
      "step 2: running compress single chain\n",
      "step 3: direct coexistence\n",
      "running [{'temp': 250, 'dir': 'simulation/runs/UBQL2_-5N+5Q_2024_08_16_10_08_1723804816/250'}, {'temp': 270, 'dir': 'simulation/runs/UBQL2_-5N+5Q_2024_08_16_10_08_1723804816/270'}, {'temp': 290, 'dir': 'simulation/runs/UBQL2_-5N+5Q_2024_08_16_10_08_1723804816/290'}, {'temp': 300, 'dir': 'simulation/runs/UBQL2_-5N+5Q_2024_08_16_10_08_1723804816/300'}, {'temp': 307, 'dir': 'simulation/runs/UBQL2_-5N+5Q_2024_08_16_10_08_1723804816/307'}, {'temp': 314, 'dir': 'simulation/runs/UBQL2_-5N+5Q_2024_08_16_10_08_1723804816/314'}]\n",
      "16-Aug-24 | 10:42\n",
      "execution time: 0.4368127353323831 hours\n",
      "16-Aug-24 | 11:08\n",
      "running [{'temp': 321, 'dir': 'simulation/runs/UBQL2_-5N+5Q_2024_08_16_10_08_1723804816/321'}, {'temp': 328, 'dir': 'simulation/runs/UBQL2_-5N+5Q_2024_08_16_10_08_1723804816/328'}, {'temp': 335, 'dir': 'simulation/runs/UBQL2_-5N+5Q_2024_08_16_10_08_1723804816/335'}, {'temp': 342, 'dir': 'simulation/runs/UBQL2_-5N+5Q_2024_08_16_10_08_1723804816/342'}, {'temp': 349, 'dir': 'simulation/runs/UBQL2_-5N+5Q_2024_08_16_10_08_1723804816/349'}, {'temp': 356, 'dir': 'simulation/runs/UBQL2_-5N+5Q_2024_08_16_10_08_1723804816/356'}]\n",
      "16-Aug-24 | 11:08\n",
      "execution time: 0.4159960839483473 hours\n",
      "16-Aug-24 | 11:33\n",
      "running [{'temp': 363, 'dir': 'simulation/runs/UBQL2_-5N+5Q_2024_08_16_10_08_1723804816/363'}, {'temp': 370, 'dir': 'simulation/runs/UBQL2_-5N+5Q_2024_08_16_10_08_1723804816/370'}]\n",
      "remaining temp, CPUs_pp = 48\n",
      "16-Aug-24 | 11:33\n",
      "execution time: 0.2981642487976286 hours\n",
      "16-Aug-24 | 11:51\n",
      "calculating ps densities\n",
      "simulation/runs/UBQL2_-5N+5Q_2024_08_16_10_08_1723804816/300\n"
     ]
    },
    {
     "name": "stderr",
     "output_type": "stream",
     "text": [
      "/home/ubuntu/CTP/simulation/runs/UBQL2_-5N+5Q_2024_08_16_10_08_1723804816/300/da.py:62: OptimizeWarning: Covariance of the parameters could not be estimated\n",
      "  popt, _ = curve_fit(super_gaussian, coords, avg_profile, p0=initial_guess, maxfev=20000)\n"
     ]
    },
    {
     "name": "stdout",
     "output_type": "stream",
     "text": [
      "Dense phase concentration: 0.2107886826625387 +/- 0.004373512281448327\n",
      "Dilute phase concentration: 0.21196039144736845 +/- 0.003038594039434201\n",
      "simulation/runs/UBQL2_-5N+5Q_2024_08_16_10_08_1723804816/314\n"
     ]
    },
    {
     "name": "stderr",
     "output_type": "stream",
     "text": [
      "/home/ubuntu/CTP/simulation/runs/UBQL2_-5N+5Q_2024_08_16_10_08_1723804816/314/da.py:62: OptimizeWarning: Covariance of the parameters could not be estimated\n",
      "  popt, _ = curve_fit(super_gaussian, coords, avg_profile, p0=initial_guess, maxfev=20000)\n"
     ]
    },
    {
     "name": "stdout",
     "output_type": "stream",
     "text": [
      "Dense phase concentration: 0.21182727089783282 +/- 0.006029351180111292\n",
      "Dilute phase concentration: 0.20975342434210525 +/- 0.0033545743603859758\n",
      "simulation/runs/UBQL2_-5N+5Q_2024_08_16_10_08_1723804816/290\n"
     ]
    },
    {
     "name": "stderr",
     "output_type": "stream",
     "text": [
      "/home/ubuntu/CTP/simulation/runs/UBQL2_-5N+5Q_2024_08_16_10_08_1723804816/290/da.py:62: OptimizeWarning: Covariance of the parameters could not be estimated\n",
      "  popt, _ = curve_fit(super_gaussian, coords, avg_profile, p0=initial_guess, maxfev=20000)\n"
     ]
    },
    {
     "name": "stdout",
     "output_type": "stream",
     "text": [
      "Dense phase concentration: 0.21044217492260062 +/- 0.006542494003475848\n",
      "Dilute phase concentration: 0.21269676644736843 +/- 0.003709522184353129\n",
      "simulation/runs/UBQL2_-5N+5Q_2024_08_16_10_08_1723804816/342\n"
     ]
    },
    {
     "name": "stderr",
     "output_type": "stream",
     "text": [
      "/home/ubuntu/CTP/simulation/runs/UBQL2_-5N+5Q_2024_08_16_10_08_1723804816/342/da.py:62: OptimizeWarning: Covariance of the parameters could not be estimated\n",
      "  popt, _ = curve_fit(super_gaussian, coords, avg_profile, p0=initial_guess, maxfev=20000)\n"
     ]
    },
    {
     "name": "stdout",
     "output_type": "stream",
     "text": [
      "Dense phase concentration: 0.2116680092879257 +/- 0.00392780059656705\n",
      "Dilute phase concentration: 0.2100917927631579 +/- 0.002158222449238675\n",
      "simulation/runs/UBQL2_-5N+5Q_2024_08_16_10_08_1723804816/328\n"
     ]
    },
    {
     "name": "stderr",
     "output_type": "stream",
     "text": [
      "/home/ubuntu/CTP/simulation/runs/UBQL2_-5N+5Q_2024_08_16_10_08_1723804816/328/da.py:62: OptimizeWarning: Covariance of the parameters could not be estimated\n",
      "  popt, _ = curve_fit(super_gaussian, coords, avg_profile, p0=initial_guess, maxfev=20000)\n"
     ]
    },
    {
     "name": "stdout",
     "output_type": "stream",
     "text": [
      "Dense phase concentration: 0.21071681733746125 +/- 0.0035749650229714614\n",
      "Dilute phase concentration: 0.21211308552631578 +/- 0.0022628397467531376\n",
      "simulation/runs/UBQL2_-5N+5Q_2024_08_16_10_08_1723804816/307\n"
     ]
    },
    {
     "name": "stderr",
     "output_type": "stream",
     "text": [
      "/home/ubuntu/CTP/simulation/runs/UBQL2_-5N+5Q_2024_08_16_10_08_1723804816/307/da.py:62: OptimizeWarning: Covariance of the parameters could not be estimated\n",
      "  popt, _ = curve_fit(super_gaussian, coords, avg_profile, p0=initial_guess, maxfev=20000)\n"
     ]
    },
    {
     "name": "stdout",
     "output_type": "stream",
     "text": [
      "Dense phase concentration: 0.2106027708978328 +/- 0.006002376608460472\n",
      "Dilute phase concentration: 0.2123554802631579 +/- 0.0035414934130719505\n",
      "simulation/runs/UBQL2_-5N+5Q_2024_08_16_10_08_1723804816/363\n"
     ]
    },
    {
     "name": "stderr",
     "output_type": "stream",
     "text": [
      "/home/ubuntu/CTP/simulation/runs/UBQL2_-5N+5Q_2024_08_16_10_08_1723804816/363/da.py:62: OptimizeWarning: Covariance of the parameters could not be estimated\n",
      "  popt, _ = curve_fit(super_gaussian, coords, avg_profile, p0=initial_guess, maxfev=20000)\n"
     ]
    },
    {
     "name": "stdout",
     "output_type": "stream",
     "text": [
      "Dense phase concentration: 0.21126324303405572 +/- 0.004145605566947294\n",
      "Dilute phase concentration: 0.21095192105263158 +/- 0.0019196331639331566\n",
      "simulation/runs/UBQL2_-5N+5Q_2024_08_16_10_08_1723804816/250\n"
     ]
    },
    {
     "name": "stderr",
     "output_type": "stream",
     "text": [
      "/home/ubuntu/CTP/simulation/runs/UBQL2_-5N+5Q_2024_08_16_10_08_1723804816/250/da.py:62: OptimizeWarning: Covariance of the parameters could not be estimated\n",
      "  popt, _ = curve_fit(super_gaussian, coords, avg_profile, p0=initial_guess, maxfev=20000)\n"
     ]
    },
    {
     "name": "stdout",
     "output_type": "stream",
     "text": [
      "Dense phase concentration: 0.21416497987616098 +/- 0.009686921825380708\n",
      "Dilute phase concentration: 0.20478573684210527 +/- 0.005053428700039708\n",
      "simulation/runs/UBQL2_-5N+5Q_2024_08_16_10_08_1723804816/321\n"
     ]
    },
    {
     "name": "stderr",
     "output_type": "stream",
     "text": [
      "Traceback (most recent call last):\n",
      "  File \"/home/ubuntu/CTP/simulation/runs/UBQL2_-5N+5Q_2024_08_16_10_08_1723804816/321/da.py\", line 146, in <module>\n",
      "    main()\n",
      "  File \"/home/ubuntu/CTP/simulation/runs/UBQL2_-5N+5Q_2024_08_16_10_08_1723804816/321/da.py\", line 133, in main\n",
      "    dense, dilute, dense_stdev, dilute_stdev = process_density_file(file_name)\n",
      "  File \"/home/ubuntu/CTP/simulation/runs/UBQL2_-5N+5Q_2024_08_16_10_08_1723804816/321/da.py\", line 121, in process_density_file\n",
      "    dense, dilute, dense_stdev, dilute_stdev = get_dilute_and_dense_concentrations(density, zPosition)\n",
      "  File \"/home/ubuntu/CTP/simulation/runs/UBQL2_-5N+5Q_2024_08_16_10_08_1723804816/321/da.py\", line 99, in get_dilute_and_dense_concentrations\n",
      "    left_interface_coord, right_interface_coord = super_gaussian_fd_method(coords, density)\n",
      "  File \"/home/ubuntu/CTP/simulation/runs/UBQL2_-5N+5Q_2024_08_16_10_08_1723804816/321/da.py\", line 62, in super_gaussian_fd_method\n",
      "    popt, _ = curve_fit(super_gaussian, coords, avg_profile, p0=initial_guess, maxfev=20000)\n",
      "  File \"/home/ubuntu/anaconda3/envs/lammps/lib/python3.9/site-packages/scipy/optimize/_minpack_py.py\", line 1005, in curve_fit\n",
      "    raise RuntimeError(\"Optimal parameters not found: \" + errmsg)\n",
      "RuntimeError: Optimal parameters not found: Number of calls to function has reached maxfev = 20000.\n",
      "/home/ubuntu/CTP/simulation/runs/UBQL2_-5S+5T_2024_08_16_11_08_1723809100/seq2config.py:67: DeprecationWarning: Conversion of an array with ndim > 0 to a scalar is deprecated, and will error in future. Ensure you extract a single element from your array before performing this operation. (Deprecated NumPy 1.25.)\n",
      "  typescharges.append([int(types[p,1]),float(charges[k,1])])\n"
     ]
    },
    {
     "name": "stdout",
     "output_type": "stream",
     "text": [
      "execution time: 1.1900424667199452 hours\n",
      "16-Aug-24 | 11:51\n",
      "\n",
      "\n",
      "running simulation for UBQL2_-5S+5T\n",
      "16-Aug-24 | 11:51\n",
      "seq len 62\n",
      "total temps 14\n",
      "simulation/runs/UBQL2_-5S+5T_2024_08_16_11_08_1723809100\n",
      "step 1: running input single chain\n",
      "step 2: running compress single chain\n",
      "step 3: direct coexistence\n",
      "running [{'temp': 250, 'dir': 'simulation/runs/UBQL2_-5S+5T_2024_08_16_11_08_1723809100/250'}, {'temp': 270, 'dir': 'simulation/runs/UBQL2_-5S+5T_2024_08_16_11_08_1723809100/270'}, {'temp': 290, 'dir': 'simulation/runs/UBQL2_-5S+5T_2024_08_16_11_08_1723809100/290'}, {'temp': 300, 'dir': 'simulation/runs/UBQL2_-5S+5T_2024_08_16_11_08_1723809100/300'}, {'temp': 307, 'dir': 'simulation/runs/UBQL2_-5S+5T_2024_08_16_11_08_1723809100/307'}, {'temp': 314, 'dir': 'simulation/runs/UBQL2_-5S+5T_2024_08_16_11_08_1723809100/314'}]\n",
      "16-Aug-24 | 11:53\n",
      "execution time: 0.42542294575108425 hours\n",
      "16-Aug-24 | 12:19\n",
      "running [{'temp': 321, 'dir': 'simulation/runs/UBQL2_-5S+5T_2024_08_16_11_08_1723809100/321'}, {'temp': 328, 'dir': 'simulation/runs/UBQL2_-5S+5T_2024_08_16_11_08_1723809100/328'}, {'temp': 335, 'dir': 'simulation/runs/UBQL2_-5S+5T_2024_08_16_11_08_1723809100/335'}, {'temp': 342, 'dir': 'simulation/runs/UBQL2_-5S+5T_2024_08_16_11_08_1723809100/342'}, {'temp': 349, 'dir': 'simulation/runs/UBQL2_-5S+5T_2024_08_16_11_08_1723809100/349'}, {'temp': 356, 'dir': 'simulation/runs/UBQL2_-5S+5T_2024_08_16_11_08_1723809100/356'}]\n",
      "16-Aug-24 | 12:19\n",
      "execution time: 0.4129337873723772 hours\n",
      "16-Aug-24 | 12:44\n",
      "running [{'temp': 363, 'dir': 'simulation/runs/UBQL2_-5S+5T_2024_08_16_11_08_1723809100/363'}, {'temp': 370, 'dir': 'simulation/runs/UBQL2_-5S+5T_2024_08_16_11_08_1723809100/370'}]\n",
      "remaining temp, CPUs_pp = 48\n",
      "16-Aug-24 | 12:44\n",
      "execution time: 0.29670759154690635 hours\n",
      "16-Aug-24 | 13:01\n",
      "calculating ps densities\n",
      "simulation/runs/UBQL2_-5S+5T_2024_08_16_11_08_1723809100/300\n"
     ]
    },
    {
     "name": "stderr",
     "output_type": "stream",
     "text": [
      "/home/ubuntu/CTP/simulation/runs/UBQL2_-5S+5T_2024_08_16_11_08_1723809100/300/da.py:62: OptimizeWarning: Covariance of the parameters could not be estimated\n",
      "  popt, _ = curve_fit(super_gaussian, coords, avg_profile, p0=initial_guess, maxfev=20000)\n"
     ]
    },
    {
     "name": "stdout",
     "output_type": "stream",
     "text": [
      "Dense phase concentration: 0.21201650309597522 +/- 0.0038837470958695453\n",
      "Dilute phase concentration: 0.20970203289473682 +/- 0.004072514213565561\n",
      "simulation/runs/UBQL2_-5S+5T_2024_08_16_11_08_1723809100/314\n"
     ]
    },
    {
     "name": "stderr",
     "output_type": "stream",
     "text": [
      "/home/ubuntu/CTP/simulation/runs/UBQL2_-5S+5T_2024_08_16_11_08_1723809100/314/da.py:62: OptimizeWarning: Covariance of the parameters could not be estimated\n",
      "  popt, _ = curve_fit(super_gaussian, coords, avg_profile, p0=initial_guess, maxfev=20000)\n"
     ]
    },
    {
     "name": "stdout",
     "output_type": "stream",
     "text": [
      "Dense phase concentration: 0.21075583281733745 +/- 0.0033684569628133865\n",
      "Dilute phase concentration: 0.21238093749999998 +/- 0.0026289923798382313\n",
      "simulation/runs/UBQL2_-5S+5T_2024_08_16_11_08_1723809100/290\n"
     ]
    },
    {
     "name": "stderr",
     "output_type": "stream",
     "text": [
      "/home/ubuntu/CTP/simulation/runs/UBQL2_-5S+5T_2024_08_16_11_08_1723809100/290/da.py:62: OptimizeWarning: Covariance of the parameters could not be estimated\n",
      "  popt, _ = curve_fit(super_gaussian, coords, avg_profile, p0=initial_guess, maxfev=20000)\n"
     ]
    },
    {
     "name": "stdout",
     "output_type": "stream",
     "text": [
      "Dense phase concentration: 0.2111404133126935 +/- 0.004549037997601546\n",
      "Dilute phase concentration: 0.21156373355263158 +/- 0.0034477507660847016\n",
      "simulation/runs/UBQL2_-5S+5T_2024_08_16_11_08_1723809100/342\n"
     ]
    },
    {
     "name": "stderr",
     "output_type": "stream",
     "text": [
      "/home/ubuntu/CTP/simulation/runs/UBQL2_-5S+5T_2024_08_16_11_08_1723809100/342/da.py:62: OptimizeWarning: Covariance of the parameters could not be estimated\n",
      "  popt, _ = curve_fit(super_gaussian, coords, avg_profile, p0=initial_guess, maxfev=20000)\n"
     ]
    },
    {
     "name": "stdout",
     "output_type": "stream",
     "text": [
      "Dense phase concentration: 0.21183401238390087 +/- 0.002603671846812143\n",
      "Dilute phase concentration: 0.21008984539473685 +/- 0.0026461798072286223\n",
      "simulation/runs/UBQL2_-5S+5T_2024_08_16_11_08_1723809100/328\n"
     ]
    },
    {
     "name": "stderr",
     "output_type": "stream",
     "text": [
      "/home/ubuntu/CTP/simulation/runs/UBQL2_-5S+5T_2024_08_16_11_08_1723809100/328/da.py:62: OptimizeWarning: Covariance of the parameters could not be estimated\n",
      "  popt, _ = curve_fit(super_gaussian, coords, avg_profile, p0=initial_guess, maxfev=20000)\n"
     ]
    },
    {
     "name": "stdout",
     "output_type": "stream",
     "text": [
      "Dense phase concentration: 0.2107547306501548 +/- 0.004258284718920903\n",
      "Dilute phase concentration: 0.21238330592105265 +/- 0.0038024686469928784\n",
      "simulation/runs/UBQL2_-5S+5T_2024_08_16_11_08_1723809100/307\n"
     ]
    },
    {
     "name": "stderr",
     "output_type": "stream",
     "text": [
      "/home/ubuntu/CTP/simulation/runs/UBQL2_-5S+5T_2024_08_16_11_08_1723809100/307/da.py:62: OptimizeWarning: Covariance of the parameters could not be estimated\n",
      "  popt, _ = curve_fit(super_gaussian, coords, avg_profile, p0=initial_guess, maxfev=20000)\n"
     ]
    },
    {
     "name": "stdout",
     "output_type": "stream",
     "text": [
      "Dense phase concentration: 0.21252971517027866 +/- 0.004706453113431852\n",
      "Dilute phase concentration: 0.2086114802631579 +/- 0.0038897838667567883\n",
      "simulation/runs/UBQL2_-5S+5T_2024_08_16_11_08_1723809100/363\n"
     ]
    },
    {
     "name": "stderr",
     "output_type": "stream",
     "text": [
      "Traceback (most recent call last):\n",
      "  File \"/home/ubuntu/CTP/simulation/runs/UBQL2_-5S+5T_2024_08_16_11_08_1723809100/363/da.py\", line 146, in <module>\n",
      "    main()\n",
      "  File \"/home/ubuntu/CTP/simulation/runs/UBQL2_-5S+5T_2024_08_16_11_08_1723809100/363/da.py\", line 133, in main\n",
      "    dense, dilute, dense_stdev, dilute_stdev = process_density_file(file_name)\n",
      "  File \"/home/ubuntu/CTP/simulation/runs/UBQL2_-5S+5T_2024_08_16_11_08_1723809100/363/da.py\", line 121, in process_density_file\n",
      "    dense, dilute, dense_stdev, dilute_stdev = get_dilute_and_dense_concentrations(density, zPosition)\n",
      "  File \"/home/ubuntu/CTP/simulation/runs/UBQL2_-5S+5T_2024_08_16_11_08_1723809100/363/da.py\", line 99, in get_dilute_and_dense_concentrations\n",
      "    left_interface_coord, right_interface_coord = super_gaussian_fd_method(coords, density)\n",
      "  File \"/home/ubuntu/CTP/simulation/runs/UBQL2_-5S+5T_2024_08_16_11_08_1723809100/363/da.py\", line 62, in super_gaussian_fd_method\n",
      "    popt, _ = curve_fit(super_gaussian, coords, avg_profile, p0=initial_guess, maxfev=20000)\n",
      "  File \"/home/ubuntu/anaconda3/envs/lammps/lib/python3.9/site-packages/scipy/optimize/_minpack_py.py\", line 1005, in curve_fit\n",
      "    raise RuntimeError(\"Optimal parameters not found: \" + errmsg)\n",
      "RuntimeError: Optimal parameters not found: Number of calls to function has reached maxfev = 20000.\n",
      "/home/ubuntu/CTP/simulation/runs/UBQL2_-5T+5S_2024_08_16_13_08_1723813325/seq2config.py:67: DeprecationWarning: Conversion of an array with ndim > 0 to a scalar is deprecated, and will error in future. Ensure you extract a single element from your array before performing this operation. (Deprecated NumPy 1.25.)\n",
      "  typescharges.append([int(types[p,1]),float(charges[k,1])])\n"
     ]
    },
    {
     "name": "stdout",
     "output_type": "stream",
     "text": [
      "execution time: 1.173622966673639 hours\n",
      "16-Aug-24 | 13:02\n",
      "\n",
      "\n",
      "running simulation for UBQL2_-5T+5S\n",
      "16-Aug-24 | 13:02\n",
      "seq len 62\n",
      "total temps 14\n",
      "simulation/runs/UBQL2_-5T+5S_2024_08_16_13_08_1723813325\n",
      "step 1: running input single chain\n",
      "step 2: running compress single chain\n",
      "step 3: direct coexistence\n",
      "running [{'temp': 250, 'dir': 'simulation/runs/UBQL2_-5T+5S_2024_08_16_13_08_1723813325/250'}, {'temp': 270, 'dir': 'simulation/runs/UBQL2_-5T+5S_2024_08_16_13_08_1723813325/270'}, {'temp': 290, 'dir': 'simulation/runs/UBQL2_-5T+5S_2024_08_16_13_08_1723813325/290'}, {'temp': 300, 'dir': 'simulation/runs/UBQL2_-5T+5S_2024_08_16_13_08_1723813325/300'}, {'temp': 307, 'dir': 'simulation/runs/UBQL2_-5T+5S_2024_08_16_13_08_1723813325/307'}, {'temp': 314, 'dir': 'simulation/runs/UBQL2_-5T+5S_2024_08_16_13_08_1723813325/314'}]\n",
      "16-Aug-24 | 13:04\n",
      "execution time: 0.43257858819431727 hours\n",
      "16-Aug-24 | 13:30\n",
      "running [{'temp': 321, 'dir': 'simulation/runs/UBQL2_-5T+5S_2024_08_16_13_08_1723813325/321'}, {'temp': 328, 'dir': 'simulation/runs/UBQL2_-5T+5S_2024_08_16_13_08_1723813325/328'}, {'temp': 335, 'dir': 'simulation/runs/UBQL2_-5T+5S_2024_08_16_13_08_1723813325/335'}, {'temp': 342, 'dir': 'simulation/runs/UBQL2_-5T+5S_2024_08_16_13_08_1723813325/342'}, {'temp': 349, 'dir': 'simulation/runs/UBQL2_-5T+5S_2024_08_16_13_08_1723813325/349'}, {'temp': 356, 'dir': 'simulation/runs/UBQL2_-5T+5S_2024_08_16_13_08_1723813325/356'}]\n",
      "16-Aug-24 | 13:30\n",
      "execution time: 0.4186858407656352 hours\n",
      "16-Aug-24 | 13:55\n",
      "running [{'temp': 363, 'dir': 'simulation/runs/UBQL2_-5T+5S_2024_08_16_13_08_1723813325/363'}, {'temp': 370, 'dir': 'simulation/runs/UBQL2_-5T+5S_2024_08_16_13_08_1723813325/370'}]\n",
      "remaining temp, CPUs_pp = 48\n",
      "16-Aug-24 | 13:55\n",
      "execution time: 0.2990036168363359 hours\n",
      "16-Aug-24 | 14:13\n",
      "calculating ps densities\n",
      "simulation/runs/UBQL2_-5T+5S_2024_08_16_13_08_1723813325/300\n"
     ]
    },
    {
     "name": "stderr",
     "output_type": "stream",
     "text": [
      "/home/ubuntu/CTP/simulation/runs/UBQL2_-5T+5S_2024_08_16_13_08_1723813325/300/da.py:62: OptimizeWarning: Covariance of the parameters could not be estimated\n",
      "  popt, _ = curve_fit(super_gaussian, coords, avg_profile, p0=initial_guess, maxfev=20000)\n"
     ]
    },
    {
     "name": "stdout",
     "output_type": "stream",
     "text": [
      "Dense phase concentration: 0.2118362414860681 +/- 0.005098259854364974\n",
      "Dilute phase concentration: 0.21332941447368423 +/- 0.005105082640964651\n",
      "simulation/runs/UBQL2_-5T+5S_2024_08_16_13_08_1723813325/314\n"
     ]
    },
    {
     "name": "stderr",
     "output_type": "stream",
     "text": [
      "/home/ubuntu/CTP/simulation/runs/UBQL2_-5T+5S_2024_08_16_13_08_1723813325/314/da.py:62: OptimizeWarning: Covariance of the parameters could not be estimated\n",
      "  popt, _ = curve_fit(super_gaussian, coords, avg_profile, p0=initial_guess, maxfev=20000)\n"
     ]
    },
    {
     "name": "stdout",
     "output_type": "stream",
     "text": [
      "Dense phase concentration: 0.21445792724458204 +/- 0.004351814735273563\n",
      "Dilute phase concentration: 0.2077583125 +/- 0.004399409230024334\n",
      "simulation/runs/UBQL2_-5T+5S_2024_08_16_13_08_1723813325/290\n"
     ]
    },
    {
     "name": "stderr",
     "output_type": "stream",
     "text": [
      "/home/ubuntu/CTP/simulation/runs/UBQL2_-5T+5S_2024_08_16_13_08_1723813325/290/da.py:62: OptimizeWarning: Covariance of the parameters could not be estimated\n",
      "  popt, _ = curve_fit(super_gaussian, coords, avg_profile, p0=initial_guess, maxfev=20000)\n"
     ]
    },
    {
     "name": "stdout",
     "output_type": "stream",
     "text": [
      "Dense phase concentration: 0.21231750619195044 +/- 0.004296070431493993\n",
      "Dilute phase concentration: 0.2123067039473684 +/- 0.005242034472541554\n",
      "simulation/runs/UBQL2_-5T+5S_2024_08_16_13_08_1723813325/342\n"
     ]
    },
    {
     "name": "stderr",
     "output_type": "stream",
     "text": [
      "/home/ubuntu/CTP/simulation/runs/UBQL2_-5T+5S_2024_08_16_13_08_1723813325/342/da.py:62: OptimizeWarning: Covariance of the parameters could not be estimated\n",
      "  popt, _ = curve_fit(super_gaussian, coords, avg_profile, p0=initial_guess, maxfev=20000)\n"
     ]
    },
    {
     "name": "stdout",
     "output_type": "stream",
     "text": [
      "Dense phase concentration: 0.21234401702786376 +/- 0.003882959160745202\n",
      "Dilute phase concentration: 0.21225043421052633 +/- 0.0024672484348281683\n",
      "simulation/runs/UBQL2_-5T+5S_2024_08_16_13_08_1723813325/328\n"
     ]
    },
    {
     "name": "stderr",
     "output_type": "stream",
     "text": [
      "/home/ubuntu/CTP/simulation/runs/UBQL2_-5T+5S_2024_08_16_13_08_1723813325/328/da.py:62: OptimizeWarning: Covariance of the parameters could not be estimated\n",
      "  popt, _ = curve_fit(super_gaussian, coords, avg_profile, p0=initial_guess, maxfev=20000)\n"
     ]
    },
    {
     "name": "stdout",
     "output_type": "stream",
     "text": [
      "Dense phase concentration: 0.2124169102167183 +/- 0.004174955940332784\n",
      "Dilute phase concentration: 0.21209547039473686 +/- 0.004096589816308777\n",
      "simulation/runs/UBQL2_-5T+5S_2024_08_16_13_08_1723813325/307\n"
     ]
    },
    {
     "name": "stderr",
     "output_type": "stream",
     "text": [
      "/home/ubuntu/CTP/simulation/runs/UBQL2_-5T+5S_2024_08_16_13_08_1723813325/307/da.py:62: OptimizeWarning: Covariance of the parameters could not be estimated\n",
      "  popt, _ = curve_fit(super_gaussian, coords, avg_profile, p0=initial_guess, maxfev=20000)\n"
     ]
    },
    {
     "name": "stdout",
     "output_type": "stream",
     "text": [
      "Dense phase concentration: 0.21222290247678016 +/- 0.004040234795736728\n",
      "Dilute phase concentration: 0.21250775 +/- 0.003026357495851055\n",
      "simulation/runs/UBQL2_-5T+5S_2024_08_16_13_08_1723813325/363\n"
     ]
    },
    {
     "name": "stderr",
     "output_type": "stream",
     "text": [
      "/home/ubuntu/CTP/simulation/runs/UBQL2_-5T+5S_2024_08_16_13_08_1723813325/363/da.py:62: OptimizeWarning: Covariance of the parameters could not be estimated\n",
      "  popt, _ = curve_fit(super_gaussian, coords, avg_profile, p0=initial_guess, maxfev=20000)\n"
     ]
    },
    {
     "name": "stdout",
     "output_type": "stream",
     "text": [
      "Dense phase concentration: 0.2122349009287926 +/- 0.0024660085199884867\n",
      "Dilute phase concentration: 0.21248227960526317 +/- 0.0030221298510268776\n",
      "simulation/runs/UBQL2_-5T+5S_2024_08_16_13_08_1723813325/250\n"
     ]
    },
    {
     "name": "stderr",
     "output_type": "stream",
     "text": [
      "/home/ubuntu/CTP/simulation/runs/UBQL2_-5T+5S_2024_08_16_13_08_1723813325/250/da.py:62: OptimizeWarning: Covariance of the parameters could not be estimated\n",
      "  popt, _ = curve_fit(super_gaussian, coords, avg_profile, p0=initial_guess, maxfev=20000)\n"
     ]
    },
    {
     "name": "stdout",
     "output_type": "stream",
     "text": [
      "Dense phase concentration: 0.21602114551083593 +/- 0.005930079949058505\n",
      "Dilute phase concentration: 0.20443643421052632 +/- 0.006608558814732376\n",
      "simulation/runs/UBQL2_-5T+5S_2024_08_16_13_08_1723813325/321\n"
     ]
    },
    {
     "name": "stderr",
     "output_type": "stream",
     "text": [
      "/home/ubuntu/CTP/simulation/runs/UBQL2_-5T+5S_2024_08_16_13_08_1723813325/321/da.py:62: OptimizeWarning: Covariance of the parameters could not be estimated\n",
      "  popt, _ = curve_fit(super_gaussian, coords, avg_profile, p0=initial_guess, maxfev=20000)\n"
     ]
    },
    {
     "name": "stdout",
     "output_type": "stream",
     "text": [
      "Dense phase concentration: 0.21239749845201236 +/- 0.005312580321849407\n",
      "Dilute phase concentration: 0.21213671381578947 +/- 0.005276057216986409\n",
      "simulation/runs/UBQL2_-5T+5S_2024_08_16_13_08_1723813325/349\n"
     ]
    },
    {
     "name": "stderr",
     "output_type": "stream",
     "text": [
      "/home/ubuntu/CTP/simulation/runs/UBQL2_-5T+5S_2024_08_16_13_08_1723813325/349/da.py:62: OptimizeWarning: Covariance of the parameters could not be estimated\n",
      "  popt, _ = curve_fit(super_gaussian, coords, avg_profile, p0=initial_guess, maxfev=20000)\n"
     ]
    },
    {
     "name": "stdout",
     "output_type": "stream",
     "text": [
      "Dense phase concentration: 0.2130529705882353 +/- 0.004417273494661634\n",
      "Dilute phase concentration: 0.2107438947368421 +/- 0.0037940752000474305\n",
      "simulation/runs/UBQL2_-5T+5S_2024_08_16_13_08_1723813325/356\n"
     ]
    },
    {
     "name": "stderr",
     "output_type": "stream",
     "text": [
      "/home/ubuntu/CTP/simulation/runs/UBQL2_-5T+5S_2024_08_16_13_08_1723813325/356/da.py:62: OptimizeWarning: Covariance of the parameters could not be estimated\n",
      "  popt, _ = curve_fit(super_gaussian, coords, avg_profile, p0=initial_guess, maxfev=20000)\n"
     ]
    },
    {
     "name": "stdout",
     "output_type": "stream",
     "text": [
      "Dense phase concentration: 0.2124201547987616 +/- 0.0028791629601568557\n",
      "Dilute phase concentration: 0.21208857565789474 +/- 0.0031627249371719607\n",
      "simulation/runs/UBQL2_-5T+5S_2024_08_16_13_08_1723813325/370\n"
     ]
    },
    {
     "name": "stderr",
     "output_type": "stream",
     "text": [
      "/home/ubuntu/CTP/simulation/runs/UBQL2_-5T+5S_2024_08_16_13_08_1723813325/370/da.py:62: OptimizeWarning: Covariance of the parameters could not be estimated\n",
      "  popt, _ = curve_fit(super_gaussian, coords, avg_profile, p0=initial_guess, maxfev=20000)\n"
     ]
    },
    {
     "name": "stdout",
     "output_type": "stream",
     "text": [
      "Dense phase concentration: 0.21277377399380804 +/- 0.0036587412342921244\n",
      "Dilute phase concentration: 0.21133712500000001 +/- 0.002965755071069964\n",
      "simulation/runs/UBQL2_-5T+5S_2024_08_16_13_08_1723813325/335\n"
     ]
    },
    {
     "name": "stderr",
     "output_type": "stream",
     "text": [
      "/home/ubuntu/CTP/simulation/runs/UBQL2_-5T+5S_2024_08_16_13_08_1723813325/335/da.py:62: OptimizeWarning: Covariance of the parameters could not be estimated\n",
      "  popt, _ = curve_fit(super_gaussian, coords, avg_profile, p0=initial_guess, maxfev=20000)\n"
     ]
    },
    {
     "name": "stdout",
     "output_type": "stream",
     "text": [
      "Dense phase concentration: 0.21108042724458206 +/- 0.0038872699247389265\n",
      "Dilute phase concentration: 0.2149354802631579 +/- 0.0023077918590071384\n",
      "simulation/runs/UBQL2_-5T+5S_2024_08_16_13_08_1723813325/270\n"
     ]
    },
    {
     "name": "stderr",
     "output_type": "stream",
     "text": [
      "/home/ubuntu/CTP/simulation/runs/UBQL2_-5T+5S_2024_08_16_13_08_1723813325/270/da.py:62: OptimizeWarning: Covariance of the parameters could not be estimated\n",
      "  popt, _ = curve_fit(super_gaussian, coords, avg_profile, p0=initial_guess, maxfev=20000)\n"
     ]
    },
    {
     "name": "stdout",
     "output_type": "stream",
     "text": [
      "Dense phase concentration: 0.21417918730650157 +/- 0.005984541084144231\n",
      "Dilute phase concentration: 0.208350625 +/- 0.0030529305796667214\n"
     ]
    },
    {
     "name": "stderr",
     "output_type": "stream",
     "text": [
      "/home/ubuntu/anaconda3/envs/lammps/lib/python3.9/site-packages/matplotlib/collections.py:197: ComplexWarning: Casting complex values to real discards the imaginary part\n",
      "  offsets = np.asanyarray(offsets, float)\n",
      "/home/ubuntu/anaconda3/envs/lammps/lib/python3.9/site-packages/matplotlib/cbook.py:1762: ComplexWarning: Casting complex values to real discards the imaginary part\n",
      "  return math.isfinite(val)\n",
      "/home/ubuntu/anaconda3/envs/lammps/lib/python3.9/site-packages/matplotlib/cbook.py:1398: ComplexWarning: Casting complex values to real discards the imaginary part\n",
      "  return np.asarray(x, float)\n"
     ]
    },
    {
     "name": "stdout",
     "output_type": "stream",
     "text": [
      "File densities_chunked_temp250.txt read successfully with 2 lines.\n",
      "Original data lines:\n",
      "Dense phase concentration: 0.21602114551083593 +/- 0.005930079949058505\n",
      "Dilute phase concentration: 0.20443643421052632 +/- 0.006608558814732376\n",
      "Filtered data lines: 2\n",
      "Dense phase concentration: 0.21602114551083593 +/- 0.005930079949058505\n",
      "Dilute phase concentration: 0.20443643421052632 +/- 0.006608558814732376\n",
      "File densities_chunked_temp270.txt read successfully with 2 lines.\n",
      "Original data lines:\n",
      "Dense phase concentration: 0.21417918730650157 +/- 0.005984541084144231\n",
      "Dilute phase concentration: 0.208350625 +/- 0.0030529305796667214\n",
      "Filtered data lines: 2\n",
      "Dense phase concentration: 0.21417918730650157 +/- 0.005984541084144231\n",
      "Dilute phase concentration: 0.208350625 +/- 0.0030529305796667214\n",
      "File densities_chunked_temp290.txt read successfully with 2 lines.\n",
      "Original data lines:\n",
      "Dense phase concentration: 0.21231750619195044 +/- 0.004296070431493993\n",
      "Dilute phase concentration: 0.2123067039473684 +/- 0.005242034472541554\n",
      "Filtered data lines: 2\n",
      "Dense phase concentration: 0.21231750619195044 +/- 0.004296070431493993\n",
      "Dilute phase concentration: 0.2123067039473684 +/- 0.005242034472541554\n",
      "File densities_chunked_temp300.txt read successfully with 2 lines.\n",
      "Original data lines:\n",
      "Dense phase concentration: 0.2118362414860681 +/- 0.005098259854364974\n",
      "Dilute phase concentration: 0.21332941447368423 +/- 0.005105082640964651\n",
      "Filtered data lines: 2\n",
      "Dense phase concentration: 0.2118362414860681 +/- 0.005098259854364974\n",
      "Dilute phase concentration: 0.21332941447368423 +/- 0.005105082640964651\n",
      "File densities_chunked_temp307.txt read successfully with 2 lines.\n",
      "Original data lines:\n",
      "Dense phase concentration: 0.21222290247678016 +/- 0.004040234795736728\n",
      "Dilute phase concentration: 0.21250775 +/- 0.003026357495851055\n",
      "Filtered data lines: 2\n",
      "Dense phase concentration: 0.21222290247678016 +/- 0.004040234795736728\n",
      "Dilute phase concentration: 0.21250775 +/- 0.003026357495851055\n",
      "File densities_chunked_temp314.txt read successfully with 2 lines.\n",
      "Original data lines:\n",
      "Dense phase concentration: 0.21445792724458204 +/- 0.004351814735273563\n",
      "Dilute phase concentration: 0.2077583125 +/- 0.004399409230024334\n",
      "Filtered data lines: 2\n",
      "Dense phase concentration: 0.21445792724458204 +/- 0.004351814735273563\n",
      "Dilute phase concentration: 0.2077583125 +/- 0.004399409230024334\n",
      "File densities_chunked_temp321.txt read successfully with 2 lines.\n",
      "Original data lines:\n",
      "Dense phase concentration: 0.21239749845201236 +/- 0.005312580321849407\n",
      "Dilute phase concentration: 0.21213671381578947 +/- 0.005276057216986409\n",
      "Filtered data lines: 2\n",
      "Dense phase concentration: 0.21239749845201236 +/- 0.005312580321849407\n",
      "Dilute phase concentration: 0.21213671381578947 +/- 0.005276057216986409\n",
      "File densities_chunked_temp328.txt read successfully with 2 lines.\n",
      "Original data lines:\n",
      "Dense phase concentration: 0.2124169102167183 +/- 0.004174955940332784\n",
      "Dilute phase concentration: 0.21209547039473686 +/- 0.004096589816308777\n",
      "Filtered data lines: 2\n",
      "Dense phase concentration: 0.2124169102167183 +/- 0.004174955940332784\n",
      "Dilute phase concentration: 0.21209547039473686 +/- 0.004096589816308777\n",
      "File densities_chunked_temp335.txt read successfully with 2 lines.\n",
      "Original data lines:\n",
      "Dense phase concentration: 0.21108042724458206 +/- 0.0038872699247389265\n",
      "Dilute phase concentration: 0.2149354802631579 +/- 0.0023077918590071384\n",
      "Filtered data lines: 2\n",
      "Dense phase concentration: 0.21108042724458206 +/- 0.0038872699247389265\n",
      "Dilute phase concentration: 0.2149354802631579 +/- 0.0023077918590071384\n",
      "File densities_chunked_temp342.txt read successfully with 2 lines.\n",
      "Original data lines:\n",
      "Dense phase concentration: 0.21234401702786376 +/- 0.003882959160745202\n",
      "Dilute phase concentration: 0.21225043421052633 +/- 0.0024672484348281683\n",
      "Filtered data lines: 2\n",
      "Dense phase concentration: 0.21234401702786376 +/- 0.003882959160745202\n",
      "Dilute phase concentration: 0.21225043421052633 +/- 0.0024672484348281683\n",
      "File densities_chunked_temp349.txt read successfully with 2 lines.\n",
      "Original data lines:\n",
      "Dense phase concentration: 0.2130529705882353 +/- 0.004417273494661634\n",
      "Dilute phase concentration: 0.2107438947368421 +/- 0.0037940752000474305\n",
      "Filtered data lines: 2\n",
      "Dense phase concentration: 0.2130529705882353 +/- 0.004417273494661634\n",
      "Dilute phase concentration: 0.2107438947368421 +/- 0.0037940752000474305\n",
      "File densities_chunked_temp356.txt read successfully with 2 lines.\n",
      "Original data lines:\n",
      "Dense phase concentration: 0.2124201547987616 +/- 0.0028791629601568557\n",
      "Dilute phase concentration: 0.21208857565789474 +/- 0.0031627249371719607\n",
      "Filtered data lines: 2\n",
      "Dense phase concentration: 0.2124201547987616 +/- 0.0028791629601568557\n",
      "Dilute phase concentration: 0.21208857565789474 +/- 0.0031627249371719607\n",
      "File densities_chunked_temp363.txt read successfully with 2 lines.\n",
      "Original data lines:\n",
      "Dense phase concentration: 0.2122349009287926 +/- 0.0024660085199884867\n",
      "Dilute phase concentration: 0.21248227960526317 +/- 0.0030221298510268776\n",
      "Filtered data lines: 2\n",
      "Dense phase concentration: 0.2122349009287926 +/- 0.0024660085199884867\n",
      "Dilute phase concentration: 0.21248227960526317 +/- 0.0030221298510268776\n",
      "File densities_chunked_temp370.txt read successfully with 2 lines.\n",
      "Original data lines:\n",
      "Dense phase concentration: 0.21277377399380804 +/- 0.0036587412342921244\n",
      "Dilute phase concentration: 0.21133712500000001 +/- 0.002965755071069964\n",
      "Filtered data lines: 2\n",
      "Dense phase concentration: 0.21277377399380804 +/- 0.0036587412342921244\n",
      "Dilute phase concentration: 0.21133712500000001 +/- 0.002965755071069964\n",
      "Temperatures: [250, 270, 290, 300, 307, 314, 321, 328, 335, 342, 349, 356, 363, 370]\n",
      "Dense phase concentrations: [0.21602114551083593, 0.21417918730650157, 0.21231750619195044, 0.2118362414860681, 0.21222290247678016, 0.21445792724458204, 0.21239749845201236, 0.2124169102167183, 0.21108042724458206, 0.21234401702786376, 0.2130529705882353, 0.2124201547987616, 0.2122349009287926, 0.21277377399380804]\n",
      "Dilute phase concentrations: [0.20443643421052632, 0.208350625, 0.2123067039473684, 0.21332941447368423, 0.21250775, 0.2077583125, 0.21213671381578947, 0.21209547039473686, 0.2149354802631579, 0.21225043421052633, 0.2107438947368421, 0.21208857565789474, 0.21248227960526317, 0.21133712500000001]\n",
      "Dense std dev: [0.005930079949058505, 0.005984541084144231, 0.004296070431493993, 0.005098259854364974, 0.004040234795736728, 0.004351814735273563, 0.005312580321849407, 0.004174955940332784, 0.0038872699247389265, 0.003882959160745202, 0.004417273494661634, 0.0028791629601568557, 0.0024660085199884867, 0.0036587412342921244]\n",
      "Dilute std dev: [0.006608558814732376, 0.0030529305796667214, 0.005242034472541554, 0.005105082640964651, 0.003026357495851055, 0.004399409230024334, 0.005276057216986409, 0.004096589816308777, 0.0023077918590071384, 0.0024672484348281683, 0.0037940752000474305, 0.0031627249371719607, 0.0030221298510268776, 0.002965755071069964]\n",
      "Critical Solution Temperature: 339.85-0.12j K written to critical_solution_temperature.txt\n",
      "execution time: 1.1908133182923 hours\n",
      "16-Aug-24 | 14:13\n",
      "\n",
      "\n",
      "running simulation for UBQL2_Q9UHD9+Wildtype\n",
      "16-Aug-24 | 14:13\n",
      "seq len 62\n",
      "total temps 14\n",
      "simulation/runs/UBQL2_Q9UHD9+Wildtype_2024_08_16_14_08_1723817612\n",
      "step 1: running input single chain\n"
     ]
    },
    {
     "name": "stderr",
     "output_type": "stream",
     "text": [
      "/home/ubuntu/CTP/simulation/runs/UBQL2_Q9UHD9+Wildtype_2024_08_16_14_08_1723817612/seq2config.py:67: DeprecationWarning: Conversion of an array with ndim > 0 to a scalar is deprecated, and will error in future. Ensure you extract a single element from your array before performing this operation. (Deprecated NumPy 1.25.)\n",
      "  typescharges.append([int(types[p,1]),float(charges[k,1])])\n"
     ]
    },
    {
     "name": "stdout",
     "output_type": "stream",
     "text": [
      "step 2: running compress single chain\n",
      "step 3: direct coexistence\n",
      "running [{'temp': 250, 'dir': 'simulation/runs/UBQL2_Q9UHD9+Wildtype_2024_08_16_14_08_1723817612/250'}, {'temp': 270, 'dir': 'simulation/runs/UBQL2_Q9UHD9+Wildtype_2024_08_16_14_08_1723817612/270'}, {'temp': 290, 'dir': 'simulation/runs/UBQL2_Q9UHD9+Wildtype_2024_08_16_14_08_1723817612/290'}, {'temp': 300, 'dir': 'simulation/runs/UBQL2_Q9UHD9+Wildtype_2024_08_16_14_08_1723817612/300'}, {'temp': 307, 'dir': 'simulation/runs/UBQL2_Q9UHD9+Wildtype_2024_08_16_14_08_1723817612/307'}, {'temp': 314, 'dir': 'simulation/runs/UBQL2_Q9UHD9+Wildtype_2024_08_16_14_08_1723817612/314'}]\n",
      "16-Aug-24 | 14:15\n",
      "execution time: 0.42094700899389054 hours\n",
      "16-Aug-24 | 14:41\n",
      "running [{'temp': 321, 'dir': 'simulation/runs/UBQL2_Q9UHD9+Wildtype_2024_08_16_14_08_1723817612/321'}, {'temp': 328, 'dir': 'simulation/runs/UBQL2_Q9UHD9+Wildtype_2024_08_16_14_08_1723817612/328'}, {'temp': 335, 'dir': 'simulation/runs/UBQL2_Q9UHD9+Wildtype_2024_08_16_14_08_1723817612/335'}, {'temp': 342, 'dir': 'simulation/runs/UBQL2_Q9UHD9+Wildtype_2024_08_16_14_08_1723817612/342'}, {'temp': 349, 'dir': 'simulation/runs/UBQL2_Q9UHD9+Wildtype_2024_08_16_14_08_1723817612/349'}, {'temp': 356, 'dir': 'simulation/runs/UBQL2_Q9UHD9+Wildtype_2024_08_16_14_08_1723817612/356'}]\n",
      "16-Aug-24 | 14:41\n",
      "execution time: 0.41383091873592803 hours\n",
      "16-Aug-24 | 15:05\n",
      "running [{'temp': 363, 'dir': 'simulation/runs/UBQL2_Q9UHD9+Wildtype_2024_08_16_14_08_1723817612/363'}, {'temp': 370, 'dir': 'simulation/runs/UBQL2_Q9UHD9+Wildtype_2024_08_16_14_08_1723817612/370'}]\n",
      "remaining temp, CPUs_pp = 48\n",
      "16-Aug-24 | 15:05\n",
      "execution time: 0.30072858068678116 hours\n",
      "16-Aug-24 | 15:23\n",
      "calculating ps densities\n",
      "simulation/runs/UBQL2_Q9UHD9+Wildtype_2024_08_16_14_08_1723817612/300\n"
     ]
    },
    {
     "name": "stderr",
     "output_type": "stream",
     "text": [
      "/home/ubuntu/CTP/simulation/runs/UBQL2_Q9UHD9+Wildtype_2024_08_16_14_08_1723817612/300/da.py:62: OptimizeWarning: Covariance of the parameters could not be estimated\n",
      "  popt, _ = curve_fit(super_gaussian, coords, avg_profile, p0=initial_guess, maxfev=20000)\n"
     ]
    },
    {
     "name": "stdout",
     "output_type": "stream",
     "text": [
      "Dense phase concentration: 0.20979440092879256 +/- 0.006082942148126233\n",
      "Dilute phase concentration: 0.21325444736842106 +/- 0.004089108148077759\n",
      "simulation/runs/UBQL2_Q9UHD9+Wildtype_2024_08_16_14_08_1723817612/314\n"
     ]
    },
    {
     "name": "stderr",
     "output_type": "stream",
     "text": [
      "/home/ubuntu/CTP/simulation/runs/UBQL2_Q9UHD9+Wildtype_2024_08_16_14_08_1723817612/314/da.py:62: OptimizeWarning: Covariance of the parameters could not be estimated\n",
      "  popt, _ = curve_fit(super_gaussian, coords, avg_profile, p0=initial_guess, maxfev=20000)\n"
     ]
    },
    {
     "name": "stdout",
     "output_type": "stream",
     "text": [
      "Dense phase concentration: 0.21163598606811146 +/- 0.0036209723303004104\n",
      "Dilute phase concentration: 0.20934109539473683 +/- 0.0024899483136495747\n",
      "simulation/runs/UBQL2_Q9UHD9+Wildtype_2024_08_16_14_08_1723817612/290\n"
     ]
    },
    {
     "name": "stderr",
     "output_type": "stream",
     "text": [
      "/home/ubuntu/CTP/simulation/runs/UBQL2_Q9UHD9+Wildtype_2024_08_16_14_08_1723817612/290/da.py:62: OptimizeWarning: Covariance of the parameters could not be estimated\n",
      "  popt, _ = curve_fit(super_gaussian, coords, avg_profile, p0=initial_guess, maxfev=20000)\n"
     ]
    },
    {
     "name": "stdout",
     "output_type": "stream",
     "text": [
      "Dense phase concentration: 0.2111429520123839 +/- 0.005795470420302133\n",
      "Dilute phase concentration: 0.21038878947368422 +/- 0.006501843354056787\n",
      "simulation/runs/UBQL2_Q9UHD9+Wildtype_2024_08_16_14_08_1723817612/342\n"
     ]
    },
    {
     "name": "stderr",
     "output_type": "stream",
     "text": [
      "/home/ubuntu/CTP/simulation/runs/UBQL2_Q9UHD9+Wildtype_2024_08_16_14_08_1723817612/342/da.py:62: OptimizeWarning: Covariance of the parameters could not be estimated\n",
      "  popt, _ = curve_fit(super_gaussian, coords, avg_profile, p0=initial_guess, maxfev=20000)\n"
     ]
    },
    {
     "name": "stdout",
     "output_type": "stream",
     "text": [
      "Dense phase concentration: 0.2111518374613003 +/- 0.0039683020292891474\n",
      "Dilute phase concentration: 0.21036988157894737 +/- 0.0024911004807293595\n",
      "simulation/runs/UBQL2_Q9UHD9+Wildtype_2024_08_16_14_08_1723817612/328\n"
     ]
    },
    {
     "name": "stderr",
     "output_type": "stream",
     "text": [
      "/home/ubuntu/CTP/simulation/runs/UBQL2_Q9UHD9+Wildtype_2024_08_16_14_08_1723817612/328/da.py:62: OptimizeWarning: Covariance of the parameters could not be estimated\n",
      "  popt, _ = curve_fit(super_gaussian, coords, avg_profile, p0=initial_guess, maxfev=20000)\n"
     ]
    },
    {
     "name": "stdout",
     "output_type": "stream",
     "text": [
      "Dense phase concentration: 0.2112417229102167 +/- 0.0038993387402141864\n",
      "Dilute phase concentration: 0.21017891776315792 +/- 0.00293980368724142\n",
      "simulation/runs/UBQL2_Q9UHD9+Wildtype_2024_08_16_14_08_1723817612/307\n"
     ]
    },
    {
     "name": "stderr",
     "output_type": "stream",
     "text": [
      "/home/ubuntu/CTP/simulation/runs/UBQL2_Q9UHD9+Wildtype_2024_08_16_14_08_1723817612/307/da.py:62: OptimizeWarning: Covariance of the parameters could not be estimated\n",
      "  popt, _ = curve_fit(super_gaussian, coords, avg_profile, p0=initial_guess, maxfev=20000)\n"
     ]
    },
    {
     "name": "stdout",
     "output_type": "stream",
     "text": [
      "Dense phase concentration: 0.2119736656346749 +/- 0.004146769323545197\n",
      "Dilute phase concentration: 0.20862353947368423 +/- 0.0028203721740163003\n",
      "simulation/runs/UBQL2_Q9UHD9+Wildtype_2024_08_16_14_08_1723817612/363\n"
     ]
    },
    {
     "name": "stderr",
     "output_type": "stream",
     "text": [
      "/home/ubuntu/CTP/simulation/runs/UBQL2_Q9UHD9+Wildtype_2024_08_16_14_08_1723817612/363/da.py:62: OptimizeWarning: Covariance of the parameters could not be estimated\n",
      "  popt, _ = curve_fit(super_gaussian, coords, avg_profile, p0=initial_guess, maxfev=20000)\n"
     ]
    },
    {
     "name": "stdout",
     "output_type": "stream",
     "text": [
      "Dense phase concentration: 0.21009901547987617 +/- 0.0045127133864360895\n",
      "Dilute phase concentration: 0.21260719407894735 +/- 0.0036872808836123853\n",
      "simulation/runs/UBQL2_Q9UHD9+Wildtype_2024_08_16_14_08_1723817612/250\n"
     ]
    },
    {
     "name": "stderr",
     "output_type": "stream",
     "text": [
      "/home/ubuntu/CTP/simulation/runs/UBQL2_Q9UHD9+Wildtype_2024_08_16_14_08_1723817612/250/da.py:62: OptimizeWarning: Covariance of the parameters could not be estimated\n",
      "  popt, _ = curve_fit(super_gaussian, coords, avg_profile, p0=initial_guess, maxfev=20000)\n"
     ]
    },
    {
     "name": "stdout",
     "output_type": "stream",
     "text": [
      "Dense phase concentration: 0.21330930495356037 +/- 0.005788018339493949\n",
      "Dilute phase concentration: 0.20578531907894737 +/- 0.006952848490990323\n",
      "simulation/runs/UBQL2_Q9UHD9+Wildtype_2024_08_16_14_08_1723817612/321\n"
     ]
    },
    {
     "name": "stderr",
     "output_type": "stream",
     "text": [
      "/home/ubuntu/CTP/simulation/runs/UBQL2_Q9UHD9+Wildtype_2024_08_16_14_08_1723817612/321/da.py:62: OptimizeWarning: Covariance of the parameters could not be estimated\n",
      "  popt, _ = curve_fit(super_gaussian, coords, avg_profile, p0=initial_guess, maxfev=20000)\n"
     ]
    },
    {
     "name": "stdout",
     "output_type": "stream",
     "text": [
      "Dense phase concentration: 0.2124674814241486 +/- 0.0036685944516217242\n",
      "Dilute phase concentration: 0.20757419078947367 +/- 0.0030288893158204534\n",
      "simulation/runs/UBQL2_Q9UHD9+Wildtype_2024_08_16_14_08_1723817612/349\n"
     ]
    },
    {
     "name": "stderr",
     "output_type": "stream",
     "text": [
      "/home/ubuntu/CTP/simulation/runs/UBQL2_Q9UHD9+Wildtype_2024_08_16_14_08_1723817612/349/da.py:62: OptimizeWarning: Covariance of the parameters could not be estimated\n",
      "  popt, _ = curve_fit(super_gaussian, coords, avg_profile, p0=initial_guess, maxfev=20000)\n"
     ]
    },
    {
     "name": "stdout",
     "output_type": "stream",
     "text": [
      "Dense phase concentration: 0.20997130804953562 +/- 0.002879597762580708\n",
      "Dilute phase concentration: 0.21287846710526315 +/- 0.0031946502335261735\n",
      "simulation/runs/UBQL2_Q9UHD9+Wildtype_2024_08_16_14_08_1723817612/356\n"
     ]
    },
    {
     "name": "stderr",
     "output_type": "stream",
     "text": [
      "/home/ubuntu/CTP/simulation/runs/UBQL2_Q9UHD9+Wildtype_2024_08_16_14_08_1723817612/356/da.py:62: OptimizeWarning: Covariance of the parameters could not be estimated\n",
      "  popt, _ = curve_fit(super_gaussian, coords, avg_profile, p0=initial_guess, maxfev=20000)\n"
     ]
    },
    {
     "name": "stdout",
     "output_type": "stream",
     "text": [
      "Dense phase concentration: 0.21075917337461303 +/- 0.004091424877436418\n",
      "Dilute phase concentration: 0.21120434539473687 +/- 0.0034834222912830267\n",
      "simulation/runs/UBQL2_Q9UHD9+Wildtype_2024_08_16_14_08_1723817612/370\n"
     ]
    },
    {
     "name": "stderr",
     "output_type": "stream",
     "text": [
      "Traceback (most recent call last):\n",
      "  File \"/home/ubuntu/CTP/simulation/runs/UBQL2_Q9UHD9+Wildtype_2024_08_16_14_08_1723817612/370/da.py\", line 146, in <module>\n",
      "    main()\n",
      "  File \"/home/ubuntu/CTP/simulation/runs/UBQL2_Q9UHD9+Wildtype_2024_08_16_14_08_1723817612/370/da.py\", line 133, in main\n",
      "    dense, dilute, dense_stdev, dilute_stdev = process_density_file(file_name)\n",
      "  File \"/home/ubuntu/CTP/simulation/runs/UBQL2_Q9UHD9+Wildtype_2024_08_16_14_08_1723817612/370/da.py\", line 121, in process_density_file\n",
      "    dense, dilute, dense_stdev, dilute_stdev = get_dilute_and_dense_concentrations(density, zPosition)\n",
      "  File \"/home/ubuntu/CTP/simulation/runs/UBQL2_Q9UHD9+Wildtype_2024_08_16_14_08_1723817612/370/da.py\", line 99, in get_dilute_and_dense_concentrations\n",
      "    left_interface_coord, right_interface_coord = super_gaussian_fd_method(coords, density)\n",
      "  File \"/home/ubuntu/CTP/simulation/runs/UBQL2_Q9UHD9+Wildtype_2024_08_16_14_08_1723817612/370/da.py\", line 62, in super_gaussian_fd_method\n",
      "    popt, _ = curve_fit(super_gaussian, coords, avg_profile, p0=initial_guess, maxfev=20000)\n",
      "  File \"/home/ubuntu/anaconda3/envs/lammps/lib/python3.9/site-packages/scipy/optimize/_minpack_py.py\", line 1005, in curve_fit\n",
      "    raise RuntimeError(\"Optimal parameters not found: \" + errmsg)\n",
      "RuntimeError: Optimal parameters not found: Number of calls to function has reached maxfev = 20000.\n",
      "/home/ubuntu/CTP/simulation/runs/TIF1B_Q13263_Wildtype_2024_08_16_15_08_1723821843/seq2config.py:67: DeprecationWarning: Conversion of an array with ndim > 0 to a scalar is deprecated, and will error in future. Ensure you extract a single element from your array before performing this operation. (Deprecated NumPy 1.25.)\n",
      "  typescharges.append([int(types[p,1]),float(charges[k,1])])\n"
     ]
    },
    {
     "name": "stdout",
     "output_type": "stream",
     "text": [
      "execution time: 1.1752840065293841 hours\n",
      "16-Aug-24 | 15:24\n",
      "\n",
      "\n",
      "running simulation for TIF1B_Q13263_Wildtype\n",
      "16-Aug-24 | 15:24\n",
      "seq len 64\n",
      "total temps 14\n",
      "simulation/runs/TIF1B_Q13263_Wildtype_2024_08_16_15_08_1723821843\n",
      "step 1: running input single chain\n",
      "step 2: running compress single chain\n",
      "step 3: direct coexistence\n",
      "running [{'temp': 250, 'dir': 'simulation/runs/TIF1B_Q13263_Wildtype_2024_08_16_15_08_1723821843/250'}, {'temp': 270, 'dir': 'simulation/runs/TIF1B_Q13263_Wildtype_2024_08_16_15_08_1723821843/270'}, {'temp': 290, 'dir': 'simulation/runs/TIF1B_Q13263_Wildtype_2024_08_16_15_08_1723821843/290'}, {'temp': 300, 'dir': 'simulation/runs/TIF1B_Q13263_Wildtype_2024_08_16_15_08_1723821843/300'}, {'temp': 307, 'dir': 'simulation/runs/TIF1B_Q13263_Wildtype_2024_08_16_15_08_1723821843/307'}, {'temp': 314, 'dir': 'simulation/runs/TIF1B_Q13263_Wildtype_2024_08_16_15_08_1723821843/314'}]\n",
      "16-Aug-24 | 15:26\n",
      "execution time: 0.39670254276858435 hours\n",
      "16-Aug-24 | 15:50\n",
      "running [{'temp': 321, 'dir': 'simulation/runs/TIF1B_Q13263_Wildtype_2024_08_16_15_08_1723821843/321'}, {'temp': 328, 'dir': 'simulation/runs/TIF1B_Q13263_Wildtype_2024_08_16_15_08_1723821843/328'}, {'temp': 335, 'dir': 'simulation/runs/TIF1B_Q13263_Wildtype_2024_08_16_15_08_1723821843/335'}, {'temp': 342, 'dir': 'simulation/runs/TIF1B_Q13263_Wildtype_2024_08_16_15_08_1723821843/342'}, {'temp': 349, 'dir': 'simulation/runs/TIF1B_Q13263_Wildtype_2024_08_16_15_08_1723821843/349'}, {'temp': 356, 'dir': 'simulation/runs/TIF1B_Q13263_Wildtype_2024_08_16_15_08_1723821843/356'}]\n",
      "16-Aug-24 | 15:50\n",
      "execution time: 0.402177690466245 hours\n",
      "16-Aug-24 | 16:14\n",
      "running [{'temp': 363, 'dir': 'simulation/runs/TIF1B_Q13263_Wildtype_2024_08_16_15_08_1723821843/363'}, {'temp': 370, 'dir': 'simulation/runs/TIF1B_Q13263_Wildtype_2024_08_16_15_08_1723821843/370'}]\n",
      "remaining temp, CPUs_pp = 48\n",
      "16-Aug-24 | 16:14\n",
      "execution time: 0.3048081565565533 hours\n",
      "16-Aug-24 | 16:32\n",
      "calculating ps densities\n",
      "simulation/runs/TIF1B_Q13263_Wildtype_2024_08_16_15_08_1723821843/300\n"
     ]
    },
    {
     "name": "stderr",
     "output_type": "stream",
     "text": [
      "/home/ubuntu/CTP/simulation/runs/TIF1B_Q13263_Wildtype_2024_08_16_15_08_1723821843/300/da.py:62: OptimizeWarning: Covariance of the parameters could not be estimated\n",
      "  popt, _ = curve_fit(super_gaussian, coords, avg_profile, p0=initial_guess, maxfev=20000)\n"
     ]
    },
    {
     "name": "stdout",
     "output_type": "stream",
     "text": [
      "Dense phase concentration: 0.18686938854489168 +/- 0.001973677075116709\n",
      "Dilute phase concentration: 0.18713173684210527 +/- 0.0014316859058099032\n",
      "simulation/runs/TIF1B_Q13263_Wildtype_2024_08_16_15_08_1723821843/314\n"
     ]
    },
    {
     "name": "stderr",
     "output_type": "stream",
     "text": [
      "/home/ubuntu/CTP/simulation/runs/TIF1B_Q13263_Wildtype_2024_08_16_15_08_1723821843/314/da.py:62: OptimizeWarning: Covariance of the parameters could not be estimated\n",
      "  popt, _ = curve_fit(super_gaussian, coords, avg_profile, p0=initial_guess, maxfev=20000)\n"
     ]
    },
    {
     "name": "stdout",
     "output_type": "stream",
     "text": [
      "Dense phase concentration: 0.18731102167182664 +/- 0.002434234004442632\n",
      "Dilute phase concentration: 0.1861932960526316 +/- 0.0026007628104627993\n",
      "simulation/runs/TIF1B_Q13263_Wildtype_2024_08_16_15_08_1723821843/290\n"
     ]
    },
    {
     "name": "stderr",
     "output_type": "stream",
     "text": [
      "/home/ubuntu/CTP/simulation/runs/TIF1B_Q13263_Wildtype_2024_08_16_15_08_1723821843/290/da.py:62: OptimizeWarning: Covariance of the parameters could not be estimated\n",
      "  popt, _ = curve_fit(super_gaussian, coords, avg_profile, p0=initial_guess, maxfev=20000)\n"
     ]
    },
    {
     "name": "stdout",
     "output_type": "stream",
     "text": [
      "Dense phase concentration: 0.18701482507739942 +/- 0.0027922559008080345\n",
      "Dilute phase concentration: 0.18682273684210526 +/- 0.002750977141558889\n",
      "simulation/runs/TIF1B_Q13263_Wildtype_2024_08_16_15_08_1723821843/342\n"
     ]
    },
    {
     "name": "stderr",
     "output_type": "stream",
     "text": [
      "/home/ubuntu/CTP/simulation/runs/TIF1B_Q13263_Wildtype_2024_08_16_15_08_1723821843/342/da.py:62: OptimizeWarning: Covariance of the parameters could not be estimated\n",
      "  popt, _ = curve_fit(super_gaussian, coords, avg_profile, p0=initial_guess, maxfev=20000)\n"
     ]
    },
    {
     "name": "stdout",
     "output_type": "stream",
     "text": [
      "Dense phase concentration: 0.18799501238390093 +/- 0.0019492620940002447\n",
      "Dilute phase concentration: 0.18473980592105266 +/- 0.0014921585871515459\n",
      "simulation/runs/TIF1B_Q13263_Wildtype_2024_08_16_15_08_1723821843/328\n"
     ]
    },
    {
     "name": "stderr",
     "output_type": "stream",
     "text": [
      "/home/ubuntu/CTP/simulation/runs/TIF1B_Q13263_Wildtype_2024_08_16_15_08_1723821843/328/da.py:62: OptimizeWarning: Covariance of the parameters could not be estimated\n",
      "  popt, _ = curve_fit(super_gaussian, coords, avg_profile, p0=initial_guess, maxfev=20000)\n"
     ]
    },
    {
     "name": "stdout",
     "output_type": "stream",
     "text": [
      "Dense phase concentration: 0.18717711919504643 +/- 0.0021323053033853226\n",
      "Dilute phase concentration: 0.18647782236842103 +/- 0.0019296533749520012\n",
      "simulation/runs/TIF1B_Q13263_Wildtype_2024_08_16_15_08_1723821843/307\n"
     ]
    },
    {
     "name": "stderr",
     "output_type": "stream",
     "text": [
      "/home/ubuntu/CTP/simulation/runs/TIF1B_Q13263_Wildtype_2024_08_16_15_08_1723821843/307/da.py:62: OptimizeWarning: Covariance of the parameters could not be estimated\n",
      "  popt, _ = curve_fit(super_gaussian, coords, avg_profile, p0=initial_guess, maxfev=20000)\n"
     ]
    },
    {
     "name": "stdout",
     "output_type": "stream",
     "text": [
      "Dense phase concentration: 0.1876004256965944 +/- 0.0031950156666868475\n",
      "Dilute phase concentration: 0.18557832894736842 +/- 0.0024230207071901577\n",
      "simulation/runs/TIF1B_Q13263_Wildtype_2024_08_16_15_08_1723821843/363\n"
     ]
    },
    {
     "name": "stderr",
     "output_type": "stream",
     "text": [
      "/home/ubuntu/CTP/simulation/runs/TIF1B_Q13263_Wildtype_2024_08_16_15_08_1723821843/363/da.py:62: OptimizeWarning: Covariance of the parameters could not be estimated\n",
      "  popt, _ = curve_fit(super_gaussian, coords, avg_profile, p0=initial_guess, maxfev=20000)\n"
     ]
    },
    {
     "name": "stdout",
     "output_type": "stream",
     "text": [
      "Dense phase concentration: 0.18700671981424147 +/- 0.0025042904091970427\n",
      "Dilute phase concentration: 0.18683988157894735 +/- 0.0018578894233094575\n",
      "simulation/runs/TIF1B_Q13263_Wildtype_2024_08_16_15_08_1723821843/250\n"
     ]
    },
    {
     "name": "stderr",
     "output_type": "stream",
     "text": [
      "/home/ubuntu/CTP/simulation/runs/TIF1B_Q13263_Wildtype_2024_08_16_15_08_1723821843/250/da.py:62: OptimizeWarning: Covariance of the parameters could not be estimated\n",
      "  popt, _ = curve_fit(super_gaussian, coords, avg_profile, p0=initial_guess, maxfev=20000)\n"
     ]
    },
    {
     "name": "stdout",
     "output_type": "stream",
     "text": [
      "Dense phase concentration: 0.18710951238390092 +/- 0.0022365635144781975\n",
      "Dilute phase concentration: 0.18662145394736843 +/- 0.00200730052529478\n",
      "simulation/runs/TIF1B_Q13263_Wildtype_2024_08_16_15_08_1723821843/321\n"
     ]
    },
    {
     "name": "stderr",
     "output_type": "stream",
     "text": [
      "/home/ubuntu/CTP/simulation/runs/TIF1B_Q13263_Wildtype_2024_08_16_15_08_1723821843/321/da.py:62: OptimizeWarning: Covariance of the parameters could not be estimated\n",
      "  popt, _ = curve_fit(super_gaussian, coords, avg_profile, p0=initial_guess, maxfev=20000)\n"
     ]
    },
    {
     "name": "stdout",
     "output_type": "stream",
     "text": [
      "Dense phase concentration: 0.1877347801857585 +/- 0.0025337830409990826\n",
      "Dilute phase concentration: 0.18529278289473683 +/- 0.0022219318686302727\n",
      "simulation/runs/TIF1B_Q13263_Wildtype_2024_08_16_15_08_1723821843/349\n"
     ]
    },
    {
     "name": "stderr",
     "output_type": "stream",
     "text": [
      "/home/ubuntu/CTP/simulation/runs/TIF1B_Q13263_Wildtype_2024_08_16_15_08_1723821843/349/da.py:62: OptimizeWarning: Covariance of the parameters could not be estimated\n",
      "  popt, _ = curve_fit(super_gaussian, coords, avg_profile, p0=initial_guess, maxfev=20000)\n"
     ]
    },
    {
     "name": "stdout",
     "output_type": "stream",
     "text": [
      "Dense phase concentration: 0.18647893962848297 +/- 0.003454157578934344\n",
      "Dilute phase concentration: 0.1879614572368421 +/- 0.0018300464427411615\n",
      "simulation/runs/TIF1B_Q13263_Wildtype_2024_08_16_15_08_1723821843/356\n"
     ]
    },
    {
     "name": "stderr",
     "output_type": "stream",
     "text": [
      "/home/ubuntu/CTP/simulation/runs/TIF1B_Q13263_Wildtype_2024_08_16_15_08_1723821843/356/da.py:62: OptimizeWarning: Covariance of the parameters could not be estimated\n",
      "  popt, _ = curve_fit(super_gaussian, coords, avg_profile, p0=initial_guess, maxfev=20000)\n"
     ]
    },
    {
     "name": "stdout",
     "output_type": "stream",
     "text": [
      "Dense phase concentration: 0.18732895510835915 +/- 0.0016601034004447492\n",
      "Dilute phase concentration: 0.18615517763157896 +/- 0.0031410189595937393\n",
      "simulation/runs/TIF1B_Q13263_Wildtype_2024_08_16_15_08_1723821843/370\n"
     ]
    },
    {
     "name": "stderr",
     "output_type": "stream",
     "text": [
      "/home/ubuntu/CTP/simulation/runs/TIF1B_Q13263_Wildtype_2024_08_16_15_08_1723821843/370/da.py:62: OptimizeWarning: Covariance of the parameters could not be estimated\n",
      "  popt, _ = curve_fit(super_gaussian, coords, avg_profile, p0=initial_guess, maxfev=20000)\n"
     ]
    },
    {
     "name": "stdout",
     "output_type": "stream",
     "text": [
      "Dense phase concentration: 0.18628980650154794 +/- 0.002123609591329336\n",
      "Dilute phase concentration: 0.1883633782894737 +/- 0.0017805501850947194\n",
      "simulation/runs/TIF1B_Q13263_Wildtype_2024_08_16_15_08_1723821843/335\n"
     ]
    },
    {
     "name": "stderr",
     "output_type": "stream",
     "text": [
      "/home/ubuntu/CTP/simulation/runs/TIF1B_Q13263_Wildtype_2024_08_16_15_08_1723821843/335/da.py:62: OptimizeWarning: Covariance of the parameters could not be estimated\n",
      "  popt, _ = curve_fit(super_gaussian, coords, avg_profile, p0=initial_guess, maxfev=20000)\n"
     ]
    },
    {
     "name": "stdout",
     "output_type": "stream",
     "text": [
      "Dense phase concentration: 0.18689754024767802 +/- 0.0018461578183594804\n",
      "Dilute phase concentration: 0.18707194736842106 +/- 0.002096700721080892\n",
      "simulation/runs/TIF1B_Q13263_Wildtype_2024_08_16_15_08_1723821843/270\n"
     ]
    },
    {
     "name": "stderr",
     "output_type": "stream",
     "text": [
      "/home/ubuntu/CTP/simulation/runs/TIF1B_Q13263_Wildtype_2024_08_16_15_08_1723821843/270/da.py:62: OptimizeWarning: Covariance of the parameters could not be estimated\n",
      "  popt, _ = curve_fit(super_gaussian, coords, avg_profile, p0=initial_guess, maxfev=20000)\n"
     ]
    },
    {
     "name": "stdout",
     "output_type": "stream",
     "text": [
      "Dense phase concentration: 0.18810021671826627 +/- 0.003285942697894266\n",
      "Dilute phase concentration: 0.18451621710526317 +/- 0.0016918525719763512\n"
     ]
    },
    {
     "name": "stderr",
     "output_type": "stream",
     "text": [
      "/home/ubuntu/anaconda3/envs/lammps/lib/python3.9/site-packages/matplotlib/collections.py:197: ComplexWarning: Casting complex values to real discards the imaginary part\n",
      "  offsets = np.asanyarray(offsets, float)\n",
      "/home/ubuntu/anaconda3/envs/lammps/lib/python3.9/site-packages/matplotlib/cbook.py:1762: ComplexWarning: Casting complex values to real discards the imaginary part\n",
      "  return math.isfinite(val)\n",
      "/home/ubuntu/anaconda3/envs/lammps/lib/python3.9/site-packages/matplotlib/cbook.py:1398: ComplexWarning: Casting complex values to real discards the imaginary part\n",
      "  return np.asarray(x, float)\n"
     ]
    },
    {
     "name": "stdout",
     "output_type": "stream",
     "text": [
      "File densities_chunked_temp250.txt read successfully with 2 lines.\n",
      "Original data lines:\n",
      "Dense phase concentration: 0.18710951238390092 +/- 0.0022365635144781975\n",
      "Dilute phase concentration: 0.18662145394736843 +/- 0.00200730052529478\n",
      "Filtered data lines: 2\n",
      "Dense phase concentration: 0.18710951238390092 +/- 0.0022365635144781975\n",
      "Dilute phase concentration: 0.18662145394736843 +/- 0.00200730052529478\n",
      "File densities_chunked_temp270.txt read successfully with 2 lines.\n",
      "Original data lines:\n",
      "Dense phase concentration: 0.18810021671826627 +/- 0.003285942697894266\n",
      "Dilute phase concentration: 0.18451621710526317 +/- 0.0016918525719763512\n",
      "Filtered data lines: 2\n",
      "Dense phase concentration: 0.18810021671826627 +/- 0.003285942697894266\n",
      "Dilute phase concentration: 0.18451621710526317 +/- 0.0016918525719763512\n",
      "File densities_chunked_temp290.txt read successfully with 2 lines.\n",
      "Original data lines:\n",
      "Dense phase concentration: 0.18701482507739942 +/- 0.0027922559008080345\n",
      "Dilute phase concentration: 0.18682273684210526 +/- 0.002750977141558889\n",
      "Filtered data lines: 2\n",
      "Dense phase concentration: 0.18701482507739942 +/- 0.0027922559008080345\n",
      "Dilute phase concentration: 0.18682273684210526 +/- 0.002750977141558889\n",
      "File densities_chunked_temp300.txt read successfully with 2 lines.\n",
      "Original data lines:\n",
      "Dense phase concentration: 0.18686938854489168 +/- 0.001973677075116709\n",
      "Dilute phase concentration: 0.18713173684210527 +/- 0.0014316859058099032\n",
      "Filtered data lines: 2\n",
      "Dense phase concentration: 0.18686938854489168 +/- 0.001973677075116709\n",
      "Dilute phase concentration: 0.18713173684210527 +/- 0.0014316859058099032\n",
      "File densities_chunked_temp307.txt read successfully with 2 lines.\n",
      "Original data lines:\n",
      "Dense phase concentration: 0.1876004256965944 +/- 0.0031950156666868475\n",
      "Dilute phase concentration: 0.18557832894736842 +/- 0.0024230207071901577\n",
      "Filtered data lines: 2\n",
      "Dense phase concentration: 0.1876004256965944 +/- 0.0031950156666868475\n",
      "Dilute phase concentration: 0.18557832894736842 +/- 0.0024230207071901577\n",
      "File densities_chunked_temp314.txt read successfully with 2 lines.\n",
      "Original data lines:\n",
      "Dense phase concentration: 0.18731102167182664 +/- 0.002434234004442632\n",
      "Dilute phase concentration: 0.1861932960526316 +/- 0.0026007628104627993\n",
      "Filtered data lines: 2\n",
      "Dense phase concentration: 0.18731102167182664 +/- 0.002434234004442632\n",
      "Dilute phase concentration: 0.1861932960526316 +/- 0.0026007628104627993\n",
      "File densities_chunked_temp321.txt read successfully with 2 lines.\n",
      "Original data lines:\n",
      "Dense phase concentration: 0.1877347801857585 +/- 0.0025337830409990826\n",
      "Dilute phase concentration: 0.18529278289473683 +/- 0.0022219318686302727\n",
      "Filtered data lines: 2\n",
      "Dense phase concentration: 0.1877347801857585 +/- 0.0025337830409990826\n",
      "Dilute phase concentration: 0.18529278289473683 +/- 0.0022219318686302727\n",
      "File densities_chunked_temp328.txt read successfully with 2 lines.\n",
      "Original data lines:\n",
      "Dense phase concentration: 0.18717711919504643 +/- 0.0021323053033853226\n",
      "Dilute phase concentration: 0.18647782236842103 +/- 0.0019296533749520012\n",
      "Filtered data lines: 2\n",
      "Dense phase concentration: 0.18717711919504643 +/- 0.0021323053033853226\n",
      "Dilute phase concentration: 0.18647782236842103 +/- 0.0019296533749520012\n",
      "File densities_chunked_temp335.txt read successfully with 2 lines.\n",
      "Original data lines:\n",
      "Dense phase concentration: 0.18689754024767802 +/- 0.0018461578183594804\n",
      "Dilute phase concentration: 0.18707194736842106 +/- 0.002096700721080892\n",
      "Filtered data lines: 2\n",
      "Dense phase concentration: 0.18689754024767802 +/- 0.0018461578183594804\n",
      "Dilute phase concentration: 0.18707194736842106 +/- 0.002096700721080892\n",
      "File densities_chunked_temp342.txt read successfully with 2 lines.\n",
      "Original data lines:\n",
      "Dense phase concentration: 0.18799501238390093 +/- 0.0019492620940002447\n",
      "Dilute phase concentration: 0.18473980592105266 +/- 0.0014921585871515459\n",
      "Filtered data lines: 2\n",
      "Dense phase concentration: 0.18799501238390093 +/- 0.0019492620940002447\n",
      "Dilute phase concentration: 0.18473980592105266 +/- 0.0014921585871515459\n",
      "File densities_chunked_temp349.txt read successfully with 2 lines.\n",
      "Original data lines:\n",
      "Dense phase concentration: 0.18647893962848297 +/- 0.003454157578934344\n",
      "Dilute phase concentration: 0.1879614572368421 +/- 0.0018300464427411615\n",
      "Filtered data lines: 2\n",
      "Dense phase concentration: 0.18647893962848297 +/- 0.003454157578934344\n",
      "Dilute phase concentration: 0.1879614572368421 +/- 0.0018300464427411615\n",
      "File densities_chunked_temp356.txt read successfully with 2 lines.\n",
      "Original data lines:\n",
      "Dense phase concentration: 0.18732895510835915 +/- 0.0016601034004447492\n",
      "Dilute phase concentration: 0.18615517763157896 +/- 0.0031410189595937393\n",
      "Filtered data lines: 2\n",
      "Dense phase concentration: 0.18732895510835915 +/- 0.0016601034004447492\n",
      "Dilute phase concentration: 0.18615517763157896 +/- 0.0031410189595937393\n",
      "File densities_chunked_temp363.txt read successfully with 2 lines.\n",
      "Original data lines:\n",
      "Dense phase concentration: 0.18700671981424147 +/- 0.0025042904091970427\n",
      "Dilute phase concentration: 0.18683988157894735 +/- 0.0018578894233094575\n",
      "Filtered data lines: 2\n",
      "Dense phase concentration: 0.18700671981424147 +/- 0.0025042904091970427\n",
      "Dilute phase concentration: 0.18683988157894735 +/- 0.0018578894233094575\n",
      "File densities_chunked_temp370.txt read successfully with 2 lines.\n",
      "Original data lines:\n",
      "Dense phase concentration: 0.18628980650154794 +/- 0.002123609591329336\n",
      "Dilute phase concentration: 0.1883633782894737 +/- 0.0017805501850947194\n",
      "Filtered data lines: 2\n",
      "Dense phase concentration: 0.18628980650154794 +/- 0.002123609591329336\n",
      "Dilute phase concentration: 0.1883633782894737 +/- 0.0017805501850947194\n",
      "Temperatures: [250, 270, 290, 300, 307, 314, 321, 328, 335, 342, 349, 356, 363, 370]\n",
      "Dense phase concentrations: [0.18710951238390092, 0.18810021671826627, 0.18701482507739942, 0.18686938854489168, 0.1876004256965944, 0.18731102167182664, 0.1877347801857585, 0.18717711919504643, 0.18689754024767802, 0.18799501238390093, 0.18647893962848297, 0.18732895510835915, 0.18700671981424147, 0.18628980650154794]\n",
      "Dilute phase concentrations: [0.18662145394736843, 0.18451621710526317, 0.18682273684210526, 0.18713173684210527, 0.18557832894736842, 0.1861932960526316, 0.18529278289473683, 0.18647782236842103, 0.18707194736842106, 0.18473980592105266, 0.1879614572368421, 0.18615517763157896, 0.18683988157894735, 0.1883633782894737]\n",
      "Dense std dev: [0.0022365635144781975, 0.003285942697894266, 0.0027922559008080345, 0.001973677075116709, 0.0031950156666868475, 0.002434234004442632, 0.0025337830409990826, 0.0021323053033853226, 0.0018461578183594804, 0.0019492620940002447, 0.003454157578934344, 0.0016601034004447492, 0.0025042904091970427, 0.002123609591329336]\n",
      "Dilute std dev: [0.00200730052529478, 0.0016918525719763512, 0.002750977141558889, 0.0014316859058099032, 0.0024230207071901577, 0.0026007628104627993, 0.0022219318686302727, 0.0019296533749520012, 0.002096700721080892, 0.0014921585871515459, 0.0018300464427411615, 0.0031410189595937393, 0.0018578894233094575, 0.0017805501850947194]\n",
      "Critical Solution Temperature: 370.18-3.27j K written to critical_solution_temperature.txt\n",
      "execution time: 1.1451790691746606 hours\n",
      "16-Aug-24 | 16:32\n",
      "\n",
      "\n",
      "running simulation for NOG2(Q13823)_Wildtype\n",
      "16-Aug-24 | 16:32\n",
      "seq len 70\n",
      "total temps 14\n",
      "simulation/runs/NOG2(Q13823)_Wildtype_2024_08_16_16_08_1723825966\n"
     ]
    },
    {
     "name": "stderr",
     "output_type": "stream",
     "text": [
      "/home/ubuntu/CTP/simulation/runs/NOG2(Q13823)_Wildtype_2024_08_16_16_08_1723825966/seq2config.py:67: DeprecationWarning: Conversion of an array with ndim > 0 to a scalar is deprecated, and will error in future. Ensure you extract a single element from your array before performing this operation. (Deprecated NumPy 1.25.)\n",
      "  typescharges.append([int(types[p,1]),float(charges[k,1])])\n"
     ]
    },
    {
     "name": "stdout",
     "output_type": "stream",
     "text": [
      "step 1: running input single chain\n",
      "step 2: running compress single chain\n",
      "step 3: direct coexistence\n",
      "running [{'temp': 250, 'dir': 'simulation/runs/NOG2(Q13823)_Wildtype_2024_08_16_16_08_1723825966/250'}, {'temp': 270, 'dir': 'simulation/runs/NOG2(Q13823)_Wildtype_2024_08_16_16_08_1723825966/270'}, {'temp': 290, 'dir': 'simulation/runs/NOG2(Q13823)_Wildtype_2024_08_16_16_08_1723825966/290'}, {'temp': 300, 'dir': 'simulation/runs/NOG2(Q13823)_Wildtype_2024_08_16_16_08_1723825966/300'}, {'temp': 307, 'dir': 'simulation/runs/NOG2(Q13823)_Wildtype_2024_08_16_16_08_1723825966/307'}, {'temp': 314, 'dir': 'simulation/runs/NOG2(Q13823)_Wildtype_2024_08_16_16_08_1723825966/314'}]\n",
      "16-Aug-24 | 16:35\n",
      "execution time: 0.5036688610580232 hours\n",
      "16-Aug-24 | 17:05\n",
      "running [{'temp': 321, 'dir': 'simulation/runs/NOG2(Q13823)_Wildtype_2024_08_16_16_08_1723825966/321'}, {'temp': 328, 'dir': 'simulation/runs/NOG2(Q13823)_Wildtype_2024_08_16_16_08_1723825966/328'}, {'temp': 335, 'dir': 'simulation/runs/NOG2(Q13823)_Wildtype_2024_08_16_16_08_1723825966/335'}, {'temp': 342, 'dir': 'simulation/runs/NOG2(Q13823)_Wildtype_2024_08_16_16_08_1723825966/342'}, {'temp': 349, 'dir': 'simulation/runs/NOG2(Q13823)_Wildtype_2024_08_16_16_08_1723825966/349'}, {'temp': 356, 'dir': 'simulation/runs/NOG2(Q13823)_Wildtype_2024_08_16_16_08_1723825966/356'}]\n",
      "16-Aug-24 | 17:05\n",
      "execution time: 0.4835604984892739 hours\n",
      "16-Aug-24 | 17:34\n",
      "running [{'temp': 363, 'dir': 'simulation/runs/NOG2(Q13823)_Wildtype_2024_08_16_16_08_1723825966/363'}, {'temp': 370, 'dir': 'simulation/runs/NOG2(Q13823)_Wildtype_2024_08_16_16_08_1723825966/370'}]\n",
      "remaining temp, CPUs_pp = 48\n",
      "16-Aug-24 | 17:34\n",
      "execution time: 0.3208137565851212 hours\n",
      "16-Aug-24 | 17:53\n",
      "calculating ps densities\n",
      "simulation/runs/NOG2(Q13823)_Wildtype_2024_08_16_16_08_1723825966/300\n"
     ]
    },
    {
     "name": "stderr",
     "output_type": "stream",
     "text": [
      "/home/ubuntu/CTP/simulation/runs/NOG2(Q13823)_Wildtype_2024_08_16_16_08_1723825966/300/da.py:62: OptimizeWarning: Covariance of the parameters could not be estimated\n",
      "  popt, _ = curve_fit(super_gaussian, coords, avg_profile, p0=initial_guess, maxfev=20000)\n"
     ]
    },
    {
     "name": "stdout",
     "output_type": "stream",
     "text": [
      "Dense phase concentration: 0.21936649845201237 +/- 0.005050491833541621\n",
      "Dilute phase concentration: 0.21670093092105264 +/- 0.005675465097135957\n",
      "simulation/runs/NOG2(Q13823)_Wildtype_2024_08_16_16_08_1723825966/314\n"
     ]
    },
    {
     "name": "stderr",
     "output_type": "stream",
     "text": [
      "/home/ubuntu/CTP/simulation/runs/NOG2(Q13823)_Wildtype_2024_08_16_16_08_1723825966/314/da.py:62: OptimizeWarning: Covariance of the parameters could not be estimated\n",
      "  popt, _ = curve_fit(super_gaussian, coords, avg_profile, p0=initial_guess, maxfev=20000)\n"
     ]
    },
    {
     "name": "stdout",
     "output_type": "stream",
     "text": [
      "Dense phase concentration: 0.2181296346749226 +/- 0.0031408959930093088\n",
      "Dilute phase concentration: 0.2193292269736842 +/- 0.0051678508653054565\n",
      "simulation/runs/NOG2(Q13823)_Wildtype_2024_08_16_16_08_1723825966/290\n"
     ]
    },
    {
     "name": "stderr",
     "output_type": "stream",
     "text": [
      "/home/ubuntu/CTP/simulation/runs/NOG2(Q13823)_Wildtype_2024_08_16_16_08_1723825966/290/da.py:62: OptimizeWarning: Covariance of the parameters could not be estimated\n",
      "  popt, _ = curve_fit(super_gaussian, coords, avg_profile, p0=initial_guess, maxfev=20000)\n"
     ]
    },
    {
     "name": "stdout",
     "output_type": "stream",
     "text": [
      "Dense phase concentration: 0.21838297523219813 +/- 0.005747399631477694\n",
      "Dilute phase concentration: 0.2187909210526316 +/- 0.004696534813508927\n",
      "simulation/runs/NOG2(Q13823)_Wildtype_2024_08_16_16_08_1723825966/342\n"
     ]
    },
    {
     "name": "stderr",
     "output_type": "stream",
     "text": [
      "/home/ubuntu/CTP/simulation/runs/NOG2(Q13823)_Wildtype_2024_08_16_16_08_1723825966/342/da.py:62: OptimizeWarning: Covariance of the parameters could not be estimated\n",
      "  popt, _ = curve_fit(super_gaussian, coords, avg_profile, p0=initial_guess, maxfev=20000)\n"
     ]
    },
    {
     "name": "stdout",
     "output_type": "stream",
     "text": [
      "Dense phase concentration: 0.21794001238390093 +/- 0.0035649917704614056\n",
      "Dilute phase concentration: 0.2197321513157895 +/- 0.005193955425246184\n",
      "simulation/runs/NOG2(Q13823)_Wildtype_2024_08_16_16_08_1723825966/328\n"
     ]
    },
    {
     "name": "stderr",
     "output_type": "stream",
     "text": [
      "/home/ubuntu/CTP/simulation/runs/NOG2(Q13823)_Wildtype_2024_08_16_16_08_1723825966/328/da.py:62: OptimizeWarning: Covariance of the parameters could not be estimated\n",
      "  popt, _ = curve_fit(super_gaussian, coords, avg_profile, p0=initial_guess, maxfev=20000)\n"
     ]
    },
    {
     "name": "stdout",
     "output_type": "stream",
     "text": [
      "Dense phase concentration: 0.2194293390092879 +/- 0.0027100868556308127\n",
      "Dilute phase concentration: 0.21656738157894737 +/- 0.0036702805747049825\n",
      "simulation/runs/NOG2(Q13823)_Wildtype_2024_08_16_16_08_1723825966/307\n"
     ]
    },
    {
     "name": "stderr",
     "output_type": "stream",
     "text": [
      "/home/ubuntu/CTP/simulation/runs/NOG2(Q13823)_Wildtype_2024_08_16_16_08_1723825966/307/da.py:62: OptimizeWarning: Covariance of the parameters could not be estimated\n",
      "  popt, _ = curve_fit(super_gaussian, coords, avg_profile, p0=initial_guess, maxfev=20000)\n"
     ]
    },
    {
     "name": "stdout",
     "output_type": "stream",
     "text": [
      "Dense phase concentration: 0.21832850464396286 +/- 0.004915149053508338\n",
      "Dilute phase concentration: 0.21890665789473684 +/- 0.005089557437127244\n",
      "simulation/runs/NOG2(Q13823)_Wildtype_2024_08_16_16_08_1723825966/363\n"
     ]
    },
    {
     "name": "stderr",
     "output_type": "stream",
     "text": [
      "/home/ubuntu/CTP/simulation/runs/NOG2(Q13823)_Wildtype_2024_08_16_16_08_1723825966/363/da.py:62: OptimizeWarning: Covariance of the parameters could not be estimated\n",
      "  popt, _ = curve_fit(super_gaussian, coords, avg_profile, p0=initial_guess, maxfev=20000)\n"
     ]
    },
    {
     "name": "stdout",
     "output_type": "stream",
     "text": [
      "Dense phase concentration: 0.2177985557275542 +/- 0.004029479584558171\n",
      "Dilute phase concentration: 0.22003280921052631 +/- 0.005519005902888688\n",
      "simulation/runs/NOG2(Q13823)_Wildtype_2024_08_16_16_08_1723825966/250\n"
     ]
    },
    {
     "name": "stderr",
     "output_type": "stream",
     "text": [
      "/home/ubuntu/CTP/simulation/runs/NOG2(Q13823)_Wildtype_2024_08_16_16_08_1723825966/250/da.py:62: OptimizeWarning: Covariance of the parameters could not be estimated\n",
      "  popt, _ = curve_fit(super_gaussian, coords, avg_profile, p0=initial_guess, maxfev=20000)\n"
     ]
    },
    {
     "name": "stdout",
     "output_type": "stream",
     "text": [
      "Dense phase concentration: 0.22081235448916406 +/- 0.008977059029285117\n",
      "Dilute phase concentration: 0.2136284835526316 +/- 0.005907926228910875\n",
      "simulation/runs/NOG2(Q13823)_Wildtype_2024_08_16_16_08_1723825966/321\n"
     ]
    },
    {
     "name": "stderr",
     "output_type": "stream",
     "text": [
      "/home/ubuntu/CTP/simulation/runs/NOG2(Q13823)_Wildtype_2024_08_16_16_08_1723825966/321/da.py:62: OptimizeWarning: Covariance of the parameters could not be estimated\n",
      "  popt, _ = curve_fit(super_gaussian, coords, avg_profile, p0=initial_guess, maxfev=20000)\n"
     ]
    },
    {
     "name": "stdout",
     "output_type": "stream",
     "text": [
      "Dense phase concentration: 0.2187552012383901 +/- 0.0033540136319718337\n",
      "Dilute phase concentration: 0.21799995723684212 +/- 0.004100971643118956\n",
      "simulation/runs/NOG2(Q13823)_Wildtype_2024_08_16_16_08_1723825966/349\n"
     ]
    },
    {
     "name": "stderr",
     "output_type": "stream",
     "text": [
      "/home/ubuntu/CTP/simulation/runs/NOG2(Q13823)_Wildtype_2024_08_16_16_08_1723825966/349/da.py:62: OptimizeWarning: Covariance of the parameters could not be estimated\n",
      "  popt, _ = curve_fit(super_gaussian, coords, avg_profile, p0=initial_guess, maxfev=20000)\n"
     ]
    },
    {
     "name": "stdout",
     "output_type": "stream",
     "text": [
      "Dense phase concentration: 0.21965247832817336 +/- 0.004643311022953898\n",
      "Dilute phase concentration: 0.21609321710526314 +/- 0.004084653262080497\n",
      "simulation/runs/NOG2(Q13823)_Wildtype_2024_08_16_16_08_1723825966/356\n"
     ]
    },
    {
     "name": "stderr",
     "output_type": "stream",
     "text": [
      "/home/ubuntu/CTP/simulation/runs/NOG2(Q13823)_Wildtype_2024_08_16_16_08_1723825966/356/da.py:62: OptimizeWarning: Covariance of the parameters could not be estimated\n",
      "  popt, _ = curve_fit(super_gaussian, coords, avg_profile, p0=initial_guess, maxfev=20000)\n"
     ]
    },
    {
     "name": "stdout",
     "output_type": "stream",
     "text": [
      "Dense phase concentration: 0.21879728947368424 +/- 0.003121047397164069\n",
      "Dilute phase concentration: 0.2179105427631579 +/- 0.0036363108217279247\n",
      "simulation/runs/NOG2(Q13823)_Wildtype_2024_08_16_16_08_1723825966/370\n"
     ]
    },
    {
     "name": "stderr",
     "output_type": "stream",
     "text": [
      "/home/ubuntu/CTP/simulation/runs/NOG2(Q13823)_Wildtype_2024_08_16_16_08_1723825966/370/da.py:62: OptimizeWarning: Covariance of the parameters could not be estimated\n",
      "  popt, _ = curve_fit(super_gaussian, coords, avg_profile, p0=initial_guess, maxfev=20000)\n"
     ]
    },
    {
     "name": "stdout",
     "output_type": "stream",
     "text": [
      "Dense phase concentration: 0.21827104024767802 +/- 0.004150175658521902\n",
      "Dilute phase concentration: 0.21902877960526315 +/- 0.002896168183938936\n",
      "simulation/runs/NOG2(Q13823)_Wildtype_2024_08_16_16_08_1723825966/335\n"
     ]
    },
    {
     "name": "stderr",
     "output_type": "stream",
     "text": [
      "/home/ubuntu/CTP/simulation/runs/NOG2(Q13823)_Wildtype_2024_08_16_16_08_1723825966/335/da.py:62: OptimizeWarning: Covariance of the parameters could not be estimated\n",
      "  popt, _ = curve_fit(super_gaussian, coords, avg_profile, p0=initial_guess, maxfev=20000)\n"
     ]
    },
    {
     "name": "stdout",
     "output_type": "stream",
     "text": [
      "Dense phase concentration: 0.2185504721362229 +/- 0.0036366496567587833\n",
      "Dilute phase concentration: 0.2184349769736842 +/- 0.006233808836478197\n",
      "simulation/runs/NOG2(Q13823)_Wildtype_2024_08_16_16_08_1723825966/270\n"
     ]
    },
    {
     "name": "stderr",
     "output_type": "stream",
     "text": [
      "/home/ubuntu/CTP/simulation/runs/NOG2(Q13823)_Wildtype_2024_08_16_16_08_1723825966/270/da.py:62: OptimizeWarning: Covariance of the parameters could not be estimated\n",
      "  popt, _ = curve_fit(super_gaussian, coords, avg_profile, p0=initial_guess, maxfev=20000)\n"
     ]
    },
    {
     "name": "stdout",
     "output_type": "stream",
     "text": [
      "Dense phase concentration: 0.21795342105263157 +/- 0.007712465208985029\n",
      "Dilute phase concentration: 0.21970367763157894 +/- 0.0023390727261247777\n"
     ]
    },
    {
     "name": "stderr",
     "output_type": "stream",
     "text": [
      "/home/ubuntu/anaconda3/envs/lammps/lib/python3.9/site-packages/matplotlib/collections.py:197: ComplexWarning: Casting complex values to real discards the imaginary part\n",
      "  offsets = np.asanyarray(offsets, float)\n",
      "/home/ubuntu/anaconda3/envs/lammps/lib/python3.9/site-packages/matplotlib/cbook.py:1762: ComplexWarning: Casting complex values to real discards the imaginary part\n",
      "  return math.isfinite(val)\n",
      "/home/ubuntu/anaconda3/envs/lammps/lib/python3.9/site-packages/matplotlib/cbook.py:1398: ComplexWarning: Casting complex values to real discards the imaginary part\n",
      "  return np.asarray(x, float)\n"
     ]
    },
    {
     "name": "stdout",
     "output_type": "stream",
     "text": [
      "File densities_chunked_temp250.txt read successfully with 2 lines.\n",
      "Original data lines:\n",
      "Dense phase concentration: 0.22081235448916406 +/- 0.008977059029285117\n",
      "Dilute phase concentration: 0.2136284835526316 +/- 0.005907926228910875\n",
      "Filtered data lines: 2\n",
      "Dense phase concentration: 0.22081235448916406 +/- 0.008977059029285117\n",
      "Dilute phase concentration: 0.2136284835526316 +/- 0.005907926228910875\n",
      "File densities_chunked_temp270.txt read successfully with 2 lines.\n",
      "Original data lines:\n",
      "Dense phase concentration: 0.21795342105263157 +/- 0.007712465208985029\n",
      "Dilute phase concentration: 0.21970367763157894 +/- 0.0023390727261247777\n",
      "Filtered data lines: 2\n",
      "Dense phase concentration: 0.21795342105263157 +/- 0.007712465208985029\n",
      "Dilute phase concentration: 0.21970367763157894 +/- 0.0023390727261247777\n",
      "File densities_chunked_temp290.txt read successfully with 2 lines.\n",
      "Original data lines:\n",
      "Dense phase concentration: 0.21838297523219813 +/- 0.005747399631477694\n",
      "Dilute phase concentration: 0.2187909210526316 +/- 0.004696534813508927\n",
      "Filtered data lines: 2\n",
      "Dense phase concentration: 0.21838297523219813 +/- 0.005747399631477694\n",
      "Dilute phase concentration: 0.2187909210526316 +/- 0.004696534813508927\n",
      "File densities_chunked_temp300.txt read successfully with 2 lines.\n",
      "Original data lines:\n",
      "Dense phase concentration: 0.21936649845201237 +/- 0.005050491833541621\n",
      "Dilute phase concentration: 0.21670093092105264 +/- 0.005675465097135957\n",
      "Filtered data lines: 2\n",
      "Dense phase concentration: 0.21936649845201237 +/- 0.005050491833541621\n",
      "Dilute phase concentration: 0.21670093092105264 +/- 0.005675465097135957\n",
      "File densities_chunked_temp307.txt read successfully with 2 lines.\n",
      "Original data lines:\n",
      "Dense phase concentration: 0.21832850464396286 +/- 0.004915149053508338\n",
      "Dilute phase concentration: 0.21890665789473684 +/- 0.005089557437127244\n",
      "Filtered data lines: 2\n",
      "Dense phase concentration: 0.21832850464396286 +/- 0.004915149053508338\n",
      "Dilute phase concentration: 0.21890665789473684 +/- 0.005089557437127244\n",
      "File densities_chunked_temp314.txt read successfully with 2 lines.\n",
      "Original data lines:\n",
      "Dense phase concentration: 0.2181296346749226 +/- 0.0031408959930093088\n",
      "Dilute phase concentration: 0.2193292269736842 +/- 0.0051678508653054565\n",
      "Filtered data lines: 2\n",
      "Dense phase concentration: 0.2181296346749226 +/- 0.0031408959930093088\n",
      "Dilute phase concentration: 0.2193292269736842 +/- 0.0051678508653054565\n",
      "File densities_chunked_temp321.txt read successfully with 2 lines.\n",
      "Original data lines:\n",
      "Dense phase concentration: 0.2187552012383901 +/- 0.0033540136319718337\n",
      "Dilute phase concentration: 0.21799995723684212 +/- 0.004100971643118956\n",
      "Filtered data lines: 2\n",
      "Dense phase concentration: 0.2187552012383901 +/- 0.0033540136319718337\n",
      "Dilute phase concentration: 0.21799995723684212 +/- 0.004100971643118956\n",
      "File densities_chunked_temp328.txt read successfully with 2 lines.\n",
      "Original data lines:\n",
      "Dense phase concentration: 0.2194293390092879 +/- 0.0027100868556308127\n",
      "Dilute phase concentration: 0.21656738157894737 +/- 0.0036702805747049825\n",
      "Filtered data lines: 2\n",
      "Dense phase concentration: 0.2194293390092879 +/- 0.0027100868556308127\n",
      "Dilute phase concentration: 0.21656738157894737 +/- 0.0036702805747049825\n",
      "File densities_chunked_temp335.txt read successfully with 2 lines.\n",
      "Original data lines:\n",
      "Dense phase concentration: 0.2185504721362229 +/- 0.0036366496567587833\n",
      "Dilute phase concentration: 0.2184349769736842 +/- 0.006233808836478197\n",
      "Filtered data lines: 2\n",
      "Dense phase concentration: 0.2185504721362229 +/- 0.0036366496567587833\n",
      "Dilute phase concentration: 0.2184349769736842 +/- 0.006233808836478197\n",
      "File densities_chunked_temp342.txt read successfully with 2 lines.\n",
      "Original data lines:\n",
      "Dense phase concentration: 0.21794001238390093 +/- 0.0035649917704614056\n",
      "Dilute phase concentration: 0.2197321513157895 +/- 0.005193955425246184\n",
      "Filtered data lines: 2\n",
      "Dense phase concentration: 0.21794001238390093 +/- 0.0035649917704614056\n",
      "Dilute phase concentration: 0.2197321513157895 +/- 0.005193955425246184\n",
      "File densities_chunked_temp349.txt read successfully with 2 lines.\n",
      "Original data lines:\n",
      "Dense phase concentration: 0.21965247832817336 +/- 0.004643311022953898\n",
      "Dilute phase concentration: 0.21609321710526314 +/- 0.004084653262080497\n",
      "Filtered data lines: 2\n",
      "Dense phase concentration: 0.21965247832817336 +/- 0.004643311022953898\n",
      "Dilute phase concentration: 0.21609321710526314 +/- 0.004084653262080497\n",
      "File densities_chunked_temp356.txt read successfully with 2 lines.\n",
      "Original data lines:\n",
      "Dense phase concentration: 0.21879728947368424 +/- 0.003121047397164069\n",
      "Dilute phase concentration: 0.2179105427631579 +/- 0.0036363108217279247\n",
      "Filtered data lines: 2\n",
      "Dense phase concentration: 0.21879728947368424 +/- 0.003121047397164069\n",
      "Dilute phase concentration: 0.2179105427631579 +/- 0.0036363108217279247\n",
      "File densities_chunked_temp363.txt read successfully with 2 lines.\n",
      "Original data lines:\n",
      "Dense phase concentration: 0.2177985557275542 +/- 0.004029479584558171\n",
      "Dilute phase concentration: 0.22003280921052631 +/- 0.005519005902888688\n",
      "Filtered data lines: 2\n",
      "Dense phase concentration: 0.2177985557275542 +/- 0.004029479584558171\n",
      "Dilute phase concentration: 0.22003280921052631 +/- 0.005519005902888688\n",
      "File densities_chunked_temp370.txt read successfully with 2 lines.\n",
      "Original data lines:\n",
      "Dense phase concentration: 0.21827104024767802 +/- 0.004150175658521902\n",
      "Dilute phase concentration: 0.21902877960526315 +/- 0.002896168183938936\n",
      "Filtered data lines: 2\n",
      "Dense phase concentration: 0.21827104024767802 +/- 0.004150175658521902\n",
      "Dilute phase concentration: 0.21902877960526315 +/- 0.002896168183938936\n",
      "Temperatures: [250, 270, 290, 300, 307, 314, 321, 328, 335, 342, 349, 356, 363, 370]\n",
      "Dense phase concentrations: [0.22081235448916406, 0.21795342105263157, 0.21838297523219813, 0.21936649845201237, 0.21832850464396286, 0.2181296346749226, 0.2187552012383901, 0.2194293390092879, 0.2185504721362229, 0.21794001238390093, 0.21965247832817336, 0.21879728947368424, 0.2177985557275542, 0.21827104024767802]\n",
      "Dilute phase concentrations: [0.2136284835526316, 0.21970367763157894, 0.2187909210526316, 0.21670093092105264, 0.21890665789473684, 0.2193292269736842, 0.21799995723684212, 0.21656738157894737, 0.2184349769736842, 0.2197321513157895, 0.21609321710526314, 0.2179105427631579, 0.22003280921052631, 0.21902877960526315]\n",
      "Dense std dev: [0.008977059029285117, 0.007712465208985029, 0.005747399631477694, 0.005050491833541621, 0.004915149053508338, 0.0031408959930093088, 0.0033540136319718337, 0.0027100868556308127, 0.0036366496567587833, 0.0035649917704614056, 0.004643311022953898, 0.003121047397164069, 0.004029479584558171, 0.004150175658521902]\n",
      "Dilute std dev: [0.005907926228910875, 0.0023390727261247777, 0.004696534813508927, 0.005675465097135957, 0.005089557437127244, 0.0051678508653054565, 0.004100971643118956, 0.0036702805747049825, 0.006233808836478197, 0.005193955425246184, 0.004084653262080497, 0.0036363108217279247, 0.005519005902888688, 0.002896168183938936]\n",
      "Critical Solution Temperature: 340.54-0.23j K written to critical_solution_temperature.txt\n",
      "execution time: 1.3558041139443715 hours\n",
      "16-Aug-24 | 17:54\n",
      "\n",
      "\n",
      "running simulation for VPHSRNGGNSGGRGDSPYG\n",
      "16-Aug-24 | 17:54\n",
      "seq len 78\n",
      "total temps 14\n",
      "simulation/runs/VPHSRNGGNSGGRGDSPYG_2024_08_16_17_08_1723830847\n"
     ]
    },
    {
     "name": "stderr",
     "output_type": "stream",
     "text": [
      "/home/ubuntu/CTP/simulation/runs/VPHSRNGGNSGGRGDSPYG_2024_08_16_17_08_1723830847/seq2config.py:67: DeprecationWarning: Conversion of an array with ndim > 0 to a scalar is deprecated, and will error in future. Ensure you extract a single element from your array before performing this operation. (Deprecated NumPy 1.25.)\n",
      "  typescharges.append([int(types[p,1]),float(charges[k,1])])\n"
     ]
    },
    {
     "name": "stdout",
     "output_type": "stream",
     "text": [
      "step 1: running input single chain\n",
      "step 2: running compress single chain\n",
      "step 3: direct coexistence\n",
      "running [{'temp': 250, 'dir': 'simulation/runs/VPHSRNGGNSGGRGDSPYG_2024_08_16_17_08_1723830847/250'}, {'temp': 270, 'dir': 'simulation/runs/VPHSRNGGNSGGRGDSPYG_2024_08_16_17_08_1723830847/270'}, {'temp': 290, 'dir': 'simulation/runs/VPHSRNGGNSGGRGDSPYG_2024_08_16_17_08_1723830847/290'}, {'temp': 300, 'dir': 'simulation/runs/VPHSRNGGNSGGRGDSPYG_2024_08_16_17_08_1723830847/300'}, {'temp': 307, 'dir': 'simulation/runs/VPHSRNGGNSGGRGDSPYG_2024_08_16_17_08_1723830847/307'}, {'temp': 314, 'dir': 'simulation/runs/VPHSRNGGNSGGRGDSPYG_2024_08_16_17_08_1723830847/314'}]\n",
      "16-Aug-24 | 17:57\n",
      "execution time: 0.8370329655541314 hours\n",
      "16-Aug-24 | 18:47\n",
      "running [{'temp': 321, 'dir': 'simulation/runs/VPHSRNGGNSGGRGDSPYG_2024_08_16_17_08_1723830847/321'}, {'temp': 328, 'dir': 'simulation/runs/VPHSRNGGNSGGRGDSPYG_2024_08_16_17_08_1723830847/328'}, {'temp': 335, 'dir': 'simulation/runs/VPHSRNGGNSGGRGDSPYG_2024_08_16_17_08_1723830847/335'}, {'temp': 342, 'dir': 'simulation/runs/VPHSRNGGNSGGRGDSPYG_2024_08_16_17_08_1723830847/342'}, {'temp': 349, 'dir': 'simulation/runs/VPHSRNGGNSGGRGDSPYG_2024_08_16_17_08_1723830847/349'}, {'temp': 356, 'dir': 'simulation/runs/VPHSRNGGNSGGRGDSPYG_2024_08_16_17_08_1723830847/356'}]\n",
      "16-Aug-24 | 18:47\n",
      "execution time: 0.5731697471936544 hours\n",
      "16-Aug-24 | 19:21\n",
      "running [{'temp': 363, 'dir': 'simulation/runs/VPHSRNGGNSGGRGDSPYG_2024_08_16_17_08_1723830847/363'}, {'temp': 370, 'dir': 'simulation/runs/VPHSRNGGNSGGRGDSPYG_2024_08_16_17_08_1723830847/370'}]\n",
      "remaining temp, CPUs_pp = 48\n",
      "16-Aug-24 | 19:21\n",
      "execution time: 0.3719688818189833 hours\n",
      "16-Aug-24 | 19:44\n",
      "calculating ps densities\n",
      "simulation/runs/VPHSRNGGNSGGRGDSPYG_2024_08_16_17_08_1723830847/300\n"
     ]
    },
    {
     "name": "stderr",
     "output_type": "stream",
     "text": [
      "/home/ubuntu/CTP/simulation/runs/VPHSRNGGNSGGRGDSPYG_2024_08_16_17_08_1723830847/300/da.py:62: OptimizeWarning: Covariance of the parameters could not be estimated\n",
      "  popt, _ = curve_fit(super_gaussian, coords, avg_profile, p0=initial_guess, maxfev=20000)\n"
     ]
    },
    {
     "name": "stdout",
     "output_type": "stream",
     "text": [
      "Dense phase concentration: 0.22888260835913313 +/- 0.014339420724772857\n",
      "Dilute phase concentration: 0.23007911513157897 +/- 0.016272317041368525\n",
      "simulation/runs/VPHSRNGGNSGGRGDSPYG_2024_08_16_17_08_1723830847/314\n"
     ]
    },
    {
     "name": "stderr",
     "output_type": "stream",
     "text": [
      "/home/ubuntu/CTP/simulation/runs/VPHSRNGGNSGGRGDSPYG_2024_08_16_17_08_1723830847/314/da.py:62: OptimizeWarning: Covariance of the parameters could not be estimated\n",
      "  popt, _ = curve_fit(super_gaussian, coords, avg_profile, p0=initial_guess, maxfev=20000)\n"
     ]
    },
    {
     "name": "stdout",
     "output_type": "stream",
     "text": [
      "Dense phase concentration: 0.22939179721362232 +/- 0.007994661180801697\n",
      "Dilute phase concentration: 0.22899714144736844 +/- 0.006322853887756193\n",
      "simulation/runs/VPHSRNGGNSGGRGDSPYG_2024_08_16_17_08_1723830847/290\n"
     ]
    },
    {
     "name": "stderr",
     "output_type": "stream",
     "text": [
      "/home/ubuntu/CTP/simulation/runs/VPHSRNGGNSGGRGDSPYG_2024_08_16_17_08_1723830847/290/da.py:62: OptimizeWarning: Covariance of the parameters could not be estimated\n",
      "  popt, _ = curve_fit(super_gaussian, coords, avg_profile, p0=initial_guess, maxfev=20000)\n"
     ]
    },
    {
     "name": "stdout",
     "output_type": "stream",
     "text": [
      "Dense phase concentration: 0.22532746625386998 +/- 0.010830620990076156\n",
      "Dilute phase concentration: 0.23763381513157894 +/- 0.01674649626316952\n",
      "simulation/runs/VPHSRNGGNSGGRGDSPYG_2024_08_16_17_08_1723830847/342\n"
     ]
    },
    {
     "name": "stderr",
     "output_type": "stream",
     "text": [
      "/home/ubuntu/CTP/simulation/runs/VPHSRNGGNSGGRGDSPYG_2024_08_16_17_08_1723830847/342/da.py:62: OptimizeWarning: Covariance of the parameters could not be estimated\n",
      "  popt, _ = curve_fit(super_gaussian, coords, avg_profile, p0=initial_guess, maxfev=20000)\n"
     ]
    },
    {
     "name": "stdout",
     "output_type": "stream",
     "text": [
      "Dense phase concentration: 0.2293628359133127 +/- 0.005333192689128321\n",
      "Dilute phase concentration: 0.22905866118421053 +/- 0.007221980062574763\n",
      "simulation/runs/VPHSRNGGNSGGRGDSPYG_2024_08_16_17_08_1723830847/328\n"
     ]
    },
    {
     "name": "stderr",
     "output_type": "stream",
     "text": [
      "/home/ubuntu/CTP/simulation/runs/VPHSRNGGNSGGRGDSPYG_2024_08_16_17_08_1723830847/328/da.py:62: OptimizeWarning: Covariance of the parameters could not be estimated\n",
      "  popt, _ = curve_fit(super_gaussian, coords, avg_profile, p0=initial_guess, maxfev=20000)\n"
     ]
    },
    {
     "name": "stdout",
     "output_type": "stream",
     "text": [
      "Dense phase concentration: 0.22904371052631578 +/- 0.005573170642854928\n",
      "Dilute phase concentration: 0.2297367927631579 +/- 0.006102561780270499\n",
      "simulation/runs/VPHSRNGGNSGGRGDSPYG_2024_08_16_17_08_1723830847/307\n"
     ]
    },
    {
     "name": "stderr",
     "output_type": "stream",
     "text": [
      "/home/ubuntu/CTP/simulation/runs/VPHSRNGGNSGGRGDSPYG_2024_08_16_17_08_1723830847/307/da.py:62: OptimizeWarning: Covariance of the parameters could not be estimated\n",
      "  popt, _ = curve_fit(super_gaussian, coords, avg_profile, p0=initial_guess, maxfev=20000)\n"
     ]
    },
    {
     "name": "stdout",
     "output_type": "stream",
     "text": [
      "Dense phase concentration: 0.22729763281733745 +/- 0.011356185077290734\n",
      "Dilute phase concentration: 0.23344728059210526 +/- 0.0064977695861597245\n",
      "simulation/runs/VPHSRNGGNSGGRGDSPYG_2024_08_16_17_08_1723830847/363\n"
     ]
    },
    {
     "name": "stderr",
     "output_type": "stream",
     "text": [
      "/home/ubuntu/CTP/simulation/runs/VPHSRNGGNSGGRGDSPYG_2024_08_16_17_08_1723830847/363/da.py:62: OptimizeWarning: Covariance of the parameters could not be estimated\n",
      "  popt, _ = curve_fit(super_gaussian, coords, avg_profile, p0=initial_guess, maxfev=20000)\n"
     ]
    },
    {
     "name": "stdout",
     "output_type": "stream",
     "text": [
      "Dense phase concentration: 0.22912338854489164 +/- 0.004446720474609155\n",
      "Dilute phase concentration: 0.22956752631578947 +/- 0.005575025577000558\n",
      "simulation/runs/VPHSRNGGNSGGRGDSPYG_2024_08_16_17_08_1723830847/250\n"
     ]
    },
    {
     "name": "stderr",
     "output_type": "stream",
     "text": [
      "/home/ubuntu/CTP/simulation/runs/VPHSRNGGNSGGRGDSPYG_2024_08_16_17_08_1723830847/250/da.py:62: OptimizeWarning: Covariance of the parameters could not be estimated\n",
      "  popt, _ = curve_fit(super_gaussian, coords, avg_profile, p0=initial_guess, maxfev=20000)\n"
     ]
    },
    {
     "name": "stdout",
     "output_type": "stream",
     "text": [
      "Dense phase concentration: 0.28278423944513154 +/- 0.2175184734256406\n",
      "Dilute phase concentration: 0.01519060529 +/- 0.0047510287647080955\n",
      "simulation/runs/VPHSRNGGNSGGRGDSPYG_2024_08_16_17_08_1723830847/321\n"
     ]
    },
    {
     "name": "stderr",
     "output_type": "stream",
     "text": [
      "/home/ubuntu/CTP/simulation/runs/VPHSRNGGNSGGRGDSPYG_2024_08_16_17_08_1723830847/321/da.py:62: OptimizeWarning: Covariance of the parameters could not be estimated\n",
      "  popt, _ = curve_fit(super_gaussian, coords, avg_profile, p0=initial_guess, maxfev=20000)\n"
     ]
    },
    {
     "name": "stdout",
     "output_type": "stream",
     "text": [
      "Dense phase concentration: 0.23159908359133127 +/- 0.0058312032253017045\n",
      "Dilute phase concentration: 0.22430665789473686 +/- 0.010616880705043484\n",
      "simulation/runs/VPHSRNGGNSGGRGDSPYG_2024_08_16_17_08_1723830847/349\n"
     ]
    },
    {
     "name": "stderr",
     "output_type": "stream",
     "text": [
      "/home/ubuntu/CTP/simulation/runs/VPHSRNGGNSGGRGDSPYG_2024_08_16_17_08_1723830847/349/da.py:62: OptimizeWarning: Covariance of the parameters could not be estimated\n",
      "  popt, _ = curve_fit(super_gaussian, coords, avg_profile, p0=initial_guess, maxfev=20000)\n"
     ]
    },
    {
     "name": "stdout",
     "output_type": "stream",
     "text": [
      "Dense phase concentration: 0.22904353560371518 +/- 0.005477636960251975\n",
      "Dilute phase concentration: 0.22973721710526318 +/- 0.004431238107668583\n",
      "simulation/runs/VPHSRNGGNSGGRGDSPYG_2024_08_16_17_08_1723830847/356\n"
     ]
    },
    {
     "name": "stderr",
     "output_type": "stream",
     "text": [
      "/home/ubuntu/CTP/simulation/runs/VPHSRNGGNSGGRGDSPYG_2024_08_16_17_08_1723830847/356/da.py:62: OptimizeWarning: Covariance of the parameters could not be estimated\n",
      "  popt, _ = curve_fit(super_gaussian, coords, avg_profile, p0=initial_guess, maxfev=20000)\n"
     ]
    },
    {
     "name": "stdout",
     "output_type": "stream",
     "text": [
      "Dense phase concentration: 0.2286066826625387 +/- 0.005658999020012584\n",
      "Dilute phase concentration: 0.2306655230263158 +/- 0.0037801628175843974\n",
      "simulation/runs/VPHSRNGGNSGGRGDSPYG_2024_08_16_17_08_1723830847/370\n"
     ]
    },
    {
     "name": "stderr",
     "output_type": "stream",
     "text": [
      "/home/ubuntu/CTP/simulation/runs/VPHSRNGGNSGGRGDSPYG_2024_08_16_17_08_1723830847/370/da.py:62: OptimizeWarning: Covariance of the parameters could not be estimated\n",
      "  popt, _ = curve_fit(super_gaussian, coords, avg_profile, p0=initial_guess, maxfev=20000)\n"
     ]
    },
    {
     "name": "stdout",
     "output_type": "stream",
     "text": [
      "Dense phase concentration: 0.2295075882352941 +/- 0.004208233387656226\n",
      "Dilute phase concentration: 0.22875105921052633 +/- 0.004166706376836978\n",
      "simulation/runs/VPHSRNGGNSGGRGDSPYG_2024_08_16_17_08_1723830847/335\n"
     ]
    },
    {
     "name": "stderr",
     "output_type": "stream",
     "text": [
      "/home/ubuntu/CTP/simulation/runs/VPHSRNGGNSGGRGDSPYG_2024_08_16_17_08_1723830847/335/da.py:62: OptimizeWarning: Covariance of the parameters could not be estimated\n",
      "  popt, _ = curve_fit(super_gaussian, coords, avg_profile, p0=initial_guess, maxfev=20000)\n"
     ]
    },
    {
     "name": "stdout",
     "output_type": "stream",
     "text": [
      "Dense phase concentration: 0.2295702492260062 +/- 0.010875207184804241\n",
      "Dilute phase concentration: 0.22861790460526316 +/- 0.006319289739770822\n",
      "simulation/runs/VPHSRNGGNSGGRGDSPYG_2024_08_16_17_08_1723830847/270\n"
     ]
    },
    {
     "name": "stderr",
     "output_type": "stream",
     "text": [
      "/home/ubuntu/CTP/simulation/runs/VPHSRNGGNSGGRGDSPYG_2024_08_16_17_08_1723830847/270/da.py:62: OptimizeWarning: Covariance of the parameters could not be estimated\n",
      "  popt, _ = curve_fit(super_gaussian, coords, avg_profile, p0=initial_guess, maxfev=20000)\n"
     ]
    },
    {
     "name": "stdout",
     "output_type": "stream",
     "text": [
      "Dense phase concentration: 0.2826640999535604 +/- 0.061425305478403025\n",
      "Dilute phase concentration: 0.11579351446710526 +/- 0.014688108573096466\n"
     ]
    },
    {
     "name": "stderr",
     "output_type": "stream",
     "text": [
      "/home/ubuntu/anaconda3/envs/lammps/lib/python3.9/site-packages/matplotlib/collections.py:197: ComplexWarning: Casting complex values to real discards the imaginary part\n",
      "  offsets = np.asanyarray(offsets, float)\n",
      "/home/ubuntu/anaconda3/envs/lammps/lib/python3.9/site-packages/matplotlib/cbook.py:1762: ComplexWarning: Casting complex values to real discards the imaginary part\n",
      "  return math.isfinite(val)\n",
      "/home/ubuntu/anaconda3/envs/lammps/lib/python3.9/site-packages/matplotlib/cbook.py:1398: ComplexWarning: Casting complex values to real discards the imaginary part\n",
      "  return np.asarray(x, float)\n"
     ]
    },
    {
     "name": "stdout",
     "output_type": "stream",
     "text": [
      "File densities_chunked_temp250.txt read successfully with 2 lines.\n",
      "Original data lines:\n",
      "Dense phase concentration: 0.28278423944513154 +/- 0.2175184734256406\n",
      "Dilute phase concentration: 0.01519060529 +/- 0.0047510287647080955\n",
      "Filtered data lines: 2\n",
      "Dense phase concentration: 0.28278423944513154 +/- 0.2175184734256406\n",
      "Dilute phase concentration: 0.01519060529 +/- 0.0047510287647080955\n",
      "File densities_chunked_temp270.txt read successfully with 2 lines.\n",
      "Original data lines:\n",
      "Dense phase concentration: 0.2826640999535604 +/- 0.061425305478403025\n",
      "Dilute phase concentration: 0.11579351446710526 +/- 0.014688108573096466\n",
      "Filtered data lines: 2\n",
      "Dense phase concentration: 0.2826640999535604 +/- 0.061425305478403025\n",
      "Dilute phase concentration: 0.11579351446710526 +/- 0.014688108573096466\n",
      "File densities_chunked_temp290.txt read successfully with 2 lines.\n",
      "Original data lines:\n",
      "Dense phase concentration: 0.22532746625386998 +/- 0.010830620990076156\n",
      "Dilute phase concentration: 0.23763381513157894 +/- 0.01674649626316952\n",
      "Filtered data lines: 2\n",
      "Dense phase concentration: 0.22532746625386998 +/- 0.010830620990076156\n",
      "Dilute phase concentration: 0.23763381513157894 +/- 0.01674649626316952\n",
      "File densities_chunked_temp300.txt read successfully with 2 lines.\n",
      "Original data lines:\n",
      "Dense phase concentration: 0.22888260835913313 +/- 0.014339420724772857\n",
      "Dilute phase concentration: 0.23007911513157897 +/- 0.016272317041368525\n",
      "Filtered data lines: 2\n",
      "Dense phase concentration: 0.22888260835913313 +/- 0.014339420724772857\n",
      "Dilute phase concentration: 0.23007911513157897 +/- 0.016272317041368525\n",
      "File densities_chunked_temp307.txt read successfully with 2 lines.\n",
      "Original data lines:\n",
      "Dense phase concentration: 0.22729763281733745 +/- 0.011356185077290734\n",
      "Dilute phase concentration: 0.23344728059210526 +/- 0.0064977695861597245\n",
      "Filtered data lines: 2\n",
      "Dense phase concentration: 0.22729763281733745 +/- 0.011356185077290734\n",
      "Dilute phase concentration: 0.23344728059210526 +/- 0.0064977695861597245\n",
      "File densities_chunked_temp314.txt read successfully with 2 lines.\n",
      "Original data lines:\n",
      "Dense phase concentration: 0.22939179721362232 +/- 0.007994661180801697\n",
      "Dilute phase concentration: 0.22899714144736844 +/- 0.006322853887756193\n",
      "Filtered data lines: 2\n",
      "Dense phase concentration: 0.22939179721362232 +/- 0.007994661180801697\n",
      "Dilute phase concentration: 0.22899714144736844 +/- 0.006322853887756193\n",
      "File densities_chunked_temp321.txt read successfully with 2 lines.\n",
      "Original data lines:\n",
      "Dense phase concentration: 0.23159908359133127 +/- 0.0058312032253017045\n",
      "Dilute phase concentration: 0.22430665789473686 +/- 0.010616880705043484\n",
      "Filtered data lines: 2\n",
      "Dense phase concentration: 0.23159908359133127 +/- 0.0058312032253017045\n",
      "Dilute phase concentration: 0.22430665789473686 +/- 0.010616880705043484\n",
      "File densities_chunked_temp328.txt read successfully with 2 lines.\n",
      "Original data lines:\n",
      "Dense phase concentration: 0.22904371052631578 +/- 0.005573170642854928\n",
      "Dilute phase concentration: 0.2297367927631579 +/- 0.006102561780270499\n",
      "Filtered data lines: 2\n",
      "Dense phase concentration: 0.22904371052631578 +/- 0.005573170642854928\n",
      "Dilute phase concentration: 0.2297367927631579 +/- 0.006102561780270499\n",
      "File densities_chunked_temp335.txt read successfully with 2 lines.\n",
      "Original data lines:\n",
      "Dense phase concentration: 0.2295702492260062 +/- 0.010875207184804241\n",
      "Dilute phase concentration: 0.22861790460526316 +/- 0.006319289739770822\n",
      "Filtered data lines: 2\n",
      "Dense phase concentration: 0.2295702492260062 +/- 0.010875207184804241\n",
      "Dilute phase concentration: 0.22861790460526316 +/- 0.006319289739770822\n",
      "File densities_chunked_temp342.txt read successfully with 2 lines.\n",
      "Original data lines:\n",
      "Dense phase concentration: 0.2293628359133127 +/- 0.005333192689128321\n",
      "Dilute phase concentration: 0.22905866118421053 +/- 0.007221980062574763\n",
      "Filtered data lines: 2\n",
      "Dense phase concentration: 0.2293628359133127 +/- 0.005333192689128321\n",
      "Dilute phase concentration: 0.22905866118421053 +/- 0.007221980062574763\n",
      "File densities_chunked_temp349.txt read successfully with 2 lines.\n",
      "Original data lines:\n",
      "Dense phase concentration: 0.22904353560371518 +/- 0.005477636960251975\n",
      "Dilute phase concentration: 0.22973721710526318 +/- 0.004431238107668583\n",
      "Filtered data lines: 2\n",
      "Dense phase concentration: 0.22904353560371518 +/- 0.005477636960251975\n",
      "Dilute phase concentration: 0.22973721710526318 +/- 0.004431238107668583\n",
      "File densities_chunked_temp356.txt read successfully with 2 lines.\n",
      "Original data lines:\n",
      "Dense phase concentration: 0.2286066826625387 +/- 0.005658999020012584\n",
      "Dilute phase concentration: 0.2306655230263158 +/- 0.0037801628175843974\n",
      "Filtered data lines: 2\n",
      "Dense phase concentration: 0.2286066826625387 +/- 0.005658999020012584\n",
      "Dilute phase concentration: 0.2306655230263158 +/- 0.0037801628175843974\n",
      "File densities_chunked_temp363.txt read successfully with 2 lines.\n",
      "Original data lines:\n",
      "Dense phase concentration: 0.22912338854489164 +/- 0.004446720474609155\n",
      "Dilute phase concentration: 0.22956752631578947 +/- 0.005575025577000558\n",
      "Filtered data lines: 2\n",
      "Dense phase concentration: 0.22912338854489164 +/- 0.004446720474609155\n",
      "Dilute phase concentration: 0.22956752631578947 +/- 0.005575025577000558\n",
      "File densities_chunked_temp370.txt read successfully with 2 lines.\n",
      "Original data lines:\n",
      "Dense phase concentration: 0.2295075882352941 +/- 0.004208233387656226\n",
      "Dilute phase concentration: 0.22875105921052633 +/- 0.004166706376836978\n",
      "Filtered data lines: 2\n",
      "Dense phase concentration: 0.2295075882352941 +/- 0.004208233387656226\n",
      "Dilute phase concentration: 0.22875105921052633 +/- 0.004166706376836978\n",
      "Temperatures: [250, 270, 290, 300, 307, 314, 321, 328, 335, 342, 349, 356, 363, 370]\n",
      "Dense phase concentrations: [0.28278423944513154, 0.2826640999535604, 0.22532746625386998, 0.22888260835913313, 0.22729763281733745, 0.22939179721362232, 0.23159908359133127, 0.22904371052631578, 0.2295702492260062, 0.2293628359133127, 0.22904353560371518, 0.2286066826625387, 0.22912338854489164, 0.2295075882352941]\n",
      "Dilute phase concentrations: [0.01519060529, 0.11579351446710526, 0.23763381513157894, 0.23007911513157897, 0.23344728059210526, 0.22899714144736844, 0.22430665789473686, 0.2297367927631579, 0.22861790460526316, 0.22905866118421053, 0.22973721710526318, 0.2306655230263158, 0.22956752631578947, 0.22875105921052633]\n",
      "Dense std dev: [0.2175184734256406, 0.061425305478403025, 0.010830620990076156, 0.014339420724772857, 0.011356185077290734, 0.007994661180801697, 0.0058312032253017045, 0.005573170642854928, 0.010875207184804241, 0.005333192689128321, 0.005477636960251975, 0.005658999020012584, 0.004446720474609155, 0.004208233387656226]\n",
      "Dilute std dev: [0.0047510287647080955, 0.014688108573096466, 0.01674649626316952, 0.016272317041368525, 0.0064977695861597245, 0.006322853887756193, 0.010616880705043484, 0.006102561780270499, 0.006319289739770822, 0.007221980062574763, 0.004431238107668583, 0.0037801628175843974, 0.005575025577000558, 0.004166706376836978]\n",
      "Critical Solution Temperature: 338.22-0.00j K written to critical_solution_temperature.txt\n",
      "execution time: 1.8348362453778584 hours\n",
      "16-Aug-24 | 19:44\n",
      "\n",
      "\n",
      "running simulation for UBP4_Q13107_Wildtype\n",
      "16-Aug-24 | 19:44\n",
      "seq len 84\n",
      "total temps 14\n",
      "simulation/runs/UBP4_Q13107_Wildtype_2024_08_16_19_08_1723837452\n"
     ]
    },
    {
     "name": "stderr",
     "output_type": "stream",
     "text": [
      "/home/ubuntu/CTP/simulation/runs/UBP4_Q13107_Wildtype_2024_08_16_19_08_1723837452/seq2config.py:67: DeprecationWarning: Conversion of an array with ndim > 0 to a scalar is deprecated, and will error in future. Ensure you extract a single element from your array before performing this operation. (Deprecated NumPy 1.25.)\n",
      "  typescharges.append([int(types[p,1]),float(charges[k,1])])\n"
     ]
    },
    {
     "name": "stdout",
     "output_type": "stream",
     "text": [
      "step 1: running input single chain\n",
      "step 2: running compress single chain\n",
      "step 3: direct coexistence\n",
      "running [{'temp': 250, 'dir': 'simulation/runs/UBP4_Q13107_Wildtype_2024_08_16_19_08_1723837452/250'}, {'temp': 270, 'dir': 'simulation/runs/UBP4_Q13107_Wildtype_2024_08_16_19_08_1723837452/270'}, {'temp': 290, 'dir': 'simulation/runs/UBP4_Q13107_Wildtype_2024_08_16_19_08_1723837452/290'}, {'temp': 300, 'dir': 'simulation/runs/UBP4_Q13107_Wildtype_2024_08_16_19_08_1723837452/300'}, {'temp': 307, 'dir': 'simulation/runs/UBP4_Q13107_Wildtype_2024_08_16_19_08_1723837452/307'}, {'temp': 314, 'dir': 'simulation/runs/UBP4_Q13107_Wildtype_2024_08_16_19_08_1723837452/314'}]\n",
      "16-Aug-24 | 19:47\n",
      "execution time: 0.6388149615791109 hours\n",
      "16-Aug-24 | 20:25\n",
      "running [{'temp': 321, 'dir': 'simulation/runs/UBP4_Q13107_Wildtype_2024_08_16_19_08_1723837452/321'}, {'temp': 328, 'dir': 'simulation/runs/UBP4_Q13107_Wildtype_2024_08_16_19_08_1723837452/328'}, {'temp': 335, 'dir': 'simulation/runs/UBP4_Q13107_Wildtype_2024_08_16_19_08_1723837452/335'}, {'temp': 342, 'dir': 'simulation/runs/UBP4_Q13107_Wildtype_2024_08_16_19_08_1723837452/342'}, {'temp': 349, 'dir': 'simulation/runs/UBP4_Q13107_Wildtype_2024_08_16_19_08_1723837452/349'}, {'temp': 356, 'dir': 'simulation/runs/UBP4_Q13107_Wildtype_2024_08_16_19_08_1723837452/356'}]\n",
      "16-Aug-24 | 20:25\n",
      "execution time: 0.5498233028252919 hours\n",
      "16-Aug-24 | 20:58\n",
      "running [{'temp': 363, 'dir': 'simulation/runs/UBP4_Q13107_Wildtype_2024_08_16_19_08_1723837452/363'}, {'temp': 370, 'dir': 'simulation/runs/UBP4_Q13107_Wildtype_2024_08_16_19_08_1723837452/370'}]\n",
      "remaining temp, CPUs_pp = 48\n",
      "16-Aug-24 | 20:58\n",
      "execution time: 0.353990332086881 hours\n",
      "16-Aug-24 | 21:19\n",
      "calculating ps densities\n",
      "simulation/runs/UBP4_Q13107_Wildtype_2024_08_16_19_08_1723837452/300\n"
     ]
    },
    {
     "name": "stderr",
     "output_type": "stream",
     "text": [
      "/home/ubuntu/CTP/simulation/runs/UBP4_Q13107_Wildtype_2024_08_16_19_08_1723837452/300/da.py:62: OptimizeWarning: Covariance of the parameters could not be estimated\n",
      "  popt, _ = curve_fit(super_gaussian, coords, avg_profile, p0=initial_guess, maxfev=20000)\n"
     ]
    },
    {
     "name": "stdout",
     "output_type": "stream",
     "text": [
      "Dense phase concentration: 0.22471741486068111 +/- 0.009266224585410092\n",
      "Dilute phase concentration: 0.22376318421052632 +/- 0.004869507208958879\n",
      "simulation/runs/UBP4_Q13107_Wildtype_2024_08_16_19_08_1723837452/314\n"
     ]
    },
    {
     "name": "stderr",
     "output_type": "stream",
     "text": [
      "Traceback (most recent call last):\n",
      "  File \"/home/ubuntu/CTP/simulation/runs/UBP4_Q13107_Wildtype_2024_08_16_19_08_1723837452/314/da.py\", line 146, in <module>\n",
      "    main()\n",
      "  File \"/home/ubuntu/CTP/simulation/runs/UBP4_Q13107_Wildtype_2024_08_16_19_08_1723837452/314/da.py\", line 133, in main\n",
      "    dense, dilute, dense_stdev, dilute_stdev = process_density_file(file_name)\n",
      "  File \"/home/ubuntu/CTP/simulation/runs/UBP4_Q13107_Wildtype_2024_08_16_19_08_1723837452/314/da.py\", line 121, in process_density_file\n",
      "    dense, dilute, dense_stdev, dilute_stdev = get_dilute_and_dense_concentrations(density, zPosition)\n",
      "  File \"/home/ubuntu/CTP/simulation/runs/UBP4_Q13107_Wildtype_2024_08_16_19_08_1723837452/314/da.py\", line 99, in get_dilute_and_dense_concentrations\n",
      "    left_interface_coord, right_interface_coord = super_gaussian_fd_method(coords, density)\n",
      "  File \"/home/ubuntu/CTP/simulation/runs/UBP4_Q13107_Wildtype_2024_08_16_19_08_1723837452/314/da.py\", line 62, in super_gaussian_fd_method\n",
      "    popt, _ = curve_fit(super_gaussian, coords, avg_profile, p0=initial_guess, maxfev=20000)\n",
      "  File \"/home/ubuntu/anaconda3/envs/lammps/lib/python3.9/site-packages/scipy/optimize/_minpack_py.py\", line 1005, in curve_fit\n",
      "    raise RuntimeError(\"Optimal parameters not found: \" + errmsg)\n",
      "RuntimeError: Optimal parameters not found: Number of calls to function has reached maxfev = 20000.\n",
      "/home/ubuntu/CTP/simulation/runs/SP16H_Q9Y5B9_Wildtype_2024_08_16_21_08_1723843185/seq2config.py:67: DeprecationWarning: Conversion of an array with ndim > 0 to a scalar is deprecated, and will error in future. Ensure you extract a single element from your array before performing this operation. (Deprecated NumPy 1.25.)\n",
      "  typescharges.append([int(types[p,1]),float(charges[k,1])])\n"
     ]
    },
    {
     "name": "stdout",
     "output_type": "stream",
     "text": [
      "execution time: 1.5924916980663935 hours\n",
      "16-Aug-24 | 21:19\n",
      "\n",
      "\n",
      "running simulation for SP16H_Q9Y5B9_Wildtype\n",
      "16-Aug-24 | 21:19\n",
      "seq len 89\n",
      "total temps 14\n",
      "simulation/runs/SP16H_Q9Y5B9_Wildtype_2024_08_16_21_08_1723843185\n",
      "step 1: running input single chain\n",
      "step 2: running compress single chain\n",
      "step 3: direct coexistence\n",
      "running [{'temp': 250, 'dir': 'simulation/runs/SP16H_Q9Y5B9_Wildtype_2024_08_16_21_08_1723843185/250'}, {'temp': 270, 'dir': 'simulation/runs/SP16H_Q9Y5B9_Wildtype_2024_08_16_21_08_1723843185/270'}, {'temp': 290, 'dir': 'simulation/runs/SP16H_Q9Y5B9_Wildtype_2024_08_16_21_08_1723843185/290'}, {'temp': 300, 'dir': 'simulation/runs/SP16H_Q9Y5B9_Wildtype_2024_08_16_21_08_1723843185/300'}, {'temp': 307, 'dir': 'simulation/runs/SP16H_Q9Y5B9_Wildtype_2024_08_16_21_08_1723843185/307'}, {'temp': 314, 'dir': 'simulation/runs/SP16H_Q9Y5B9_Wildtype_2024_08_16_21_08_1723843185/314'}]\n",
      "16-Aug-24 | 21:23\n",
      "execution time: 1.0132399651077058 hours\n",
      "16-Aug-24 | 22:24\n",
      "running [{'temp': 321, 'dir': 'simulation/runs/SP16H_Q9Y5B9_Wildtype_2024_08_16_21_08_1723843185/321'}, {'temp': 328, 'dir': 'simulation/runs/SP16H_Q9Y5B9_Wildtype_2024_08_16_21_08_1723843185/328'}, {'temp': 335, 'dir': 'simulation/runs/SP16H_Q9Y5B9_Wildtype_2024_08_16_21_08_1723843185/335'}, {'temp': 342, 'dir': 'simulation/runs/SP16H_Q9Y5B9_Wildtype_2024_08_16_21_08_1723843185/342'}, {'temp': 349, 'dir': 'simulation/runs/SP16H_Q9Y5B9_Wildtype_2024_08_16_21_08_1723843185/349'}, {'temp': 356, 'dir': 'simulation/runs/SP16H_Q9Y5B9_Wildtype_2024_08_16_21_08_1723843185/356'}]\n",
      "16-Aug-24 | 22:24\n",
      "execution time: 0.8944459016455545 hours\n",
      "16-Aug-24 | 23:18\n",
      "running [{'temp': 363, 'dir': 'simulation/runs/SP16H_Q9Y5B9_Wildtype_2024_08_16_21_08_1723843185/363'}, {'temp': 370, 'dir': 'simulation/runs/SP16H_Q9Y5B9_Wildtype_2024_08_16_21_08_1723843185/370'}]\n",
      "remaining temp, CPUs_pp = 48\n",
      "16-Aug-24 | 23:18\n",
      "execution time: 0.46423584633403353 hours\n",
      "16-Aug-24 | 23:46\n",
      "calculating ps densities\n",
      "simulation/runs/SP16H_Q9Y5B9_Wildtype_2024_08_16_21_08_1723843185/300\n"
     ]
    },
    {
     "name": "stderr",
     "output_type": "stream",
     "text": [
      "/home/ubuntu/CTP/simulation/runs/SP16H_Q9Y5B9_Wildtype_2024_08_16_21_08_1723843185/300/da.py:62: OptimizeWarning: Covariance of the parameters could not be estimated\n",
      "  popt, _ = curve_fit(super_gaussian, coords, avg_profile, p0=initial_guess, maxfev=20000)\n"
     ]
    },
    {
     "name": "stdout",
     "output_type": "stream",
     "text": [
      "Dense phase concentration: 0.2445901083591331 +/- 0.009317579798492615\n",
      "Dilute phase concentration: 0.2477472467105263 +/- 0.005528239848036933\n",
      "simulation/runs/SP16H_Q9Y5B9_Wildtype_2024_08_16_21_08_1723843185/314\n"
     ]
    },
    {
     "name": "stderr",
     "output_type": "stream",
     "text": [
      "/home/ubuntu/CTP/simulation/runs/SP16H_Q9Y5B9_Wildtype_2024_08_16_21_08_1723843185/314/da.py:62: OptimizeWarning: Covariance of the parameters could not be estimated\n",
      "  popt, _ = curve_fit(super_gaussian, coords, avg_profile, p0=initial_guess, maxfev=20000)\n"
     ]
    },
    {
     "name": "stdout",
     "output_type": "stream",
     "text": [
      "Dense phase concentration: 0.2446120448916409 +/- 0.00659396527734924\n",
      "Dilute phase concentration: 0.24770063486842103 +/- 0.004858162522786555\n",
      "simulation/runs/SP16H_Q9Y5B9_Wildtype_2024_08_16_21_08_1723843185/290\n"
     ]
    },
    {
     "name": "stderr",
     "output_type": "stream",
     "text": [
      "/home/ubuntu/CTP/simulation/runs/SP16H_Q9Y5B9_Wildtype_2024_08_16_21_08_1723843185/290/da.py:62: OptimizeWarning: Covariance of the parameters could not be estimated\n",
      "  popt, _ = curve_fit(super_gaussian, coords, avg_profile, p0=initial_guess, maxfev=20000)\n"
     ]
    },
    {
     "name": "stdout",
     "output_type": "stream",
     "text": [
      "Dense phase concentration: 0.24852544117647057 +/- 0.007445877450158064\n",
      "Dilute phase concentration: 0.23938461184210524 +/- 0.005605924483376701\n",
      "simulation/runs/SP16H_Q9Y5B9_Wildtype_2024_08_16_21_08_1723843185/342\n"
     ]
    },
    {
     "name": "stderr",
     "output_type": "stream",
     "text": [
      "/home/ubuntu/CTP/simulation/runs/SP16H_Q9Y5B9_Wildtype_2024_08_16_21_08_1723843185/342/da.py:62: OptimizeWarning: Covariance of the parameters could not be estimated\n",
      "  popt, _ = curve_fit(super_gaussian, coords, avg_profile, p0=initial_guess, maxfev=20000)\n"
     ]
    },
    {
     "name": "stdout",
     "output_type": "stream",
     "text": [
      "Dense phase concentration: 0.24623529411764705 +/- 0.005008303681636641\n",
      "Dilute phase concentration: 0.2442512006578947 +/- 0.005157775755952428\n",
      "simulation/runs/SP16H_Q9Y5B9_Wildtype_2024_08_16_21_08_1723843185/328\n"
     ]
    },
    {
     "name": "stderr",
     "output_type": "stream",
     "text": [
      "/home/ubuntu/CTP/simulation/runs/SP16H_Q9Y5B9_Wildtype_2024_08_16_21_08_1723843185/328/da.py:62: OptimizeWarning: Covariance of the parameters could not be estimated\n",
      "  popt, _ = curve_fit(super_gaussian, coords, avg_profile, p0=initial_guess, maxfev=20000)\n"
     ]
    },
    {
     "name": "stdout",
     "output_type": "stream",
     "text": [
      "Dense phase concentration: 0.24267171362229104 +/- 0.004678212622892213\n",
      "Dilute phase concentration: 0.25182388157894736 +/- 0.004355085671987779\n",
      "simulation/runs/SP16H_Q9Y5B9_Wildtype_2024_08_16_21_08_1723843185/307\n"
     ]
    },
    {
     "name": "stderr",
     "output_type": "stream",
     "text": [
      "/home/ubuntu/CTP/simulation/runs/SP16H_Q9Y5B9_Wildtype_2024_08_16_21_08_1723843185/307/da.py:62: OptimizeWarning: Covariance of the parameters could not be estimated\n",
      "  popt, _ = curve_fit(super_gaussian, coords, avg_profile, p0=initial_guess, maxfev=20000)\n"
     ]
    },
    {
     "name": "stdout",
     "output_type": "stream",
     "text": [
      "Dense phase concentration: 0.2447814278637771 +/- 0.005971514356252059\n",
      "Dilute phase concentration: 0.24734068092105266 +/- 0.005037812402226168\n",
      "simulation/runs/SP16H_Q9Y5B9_Wildtype_2024_08_16_21_08_1723843185/363\n"
     ]
    },
    {
     "name": "stderr",
     "output_type": "stream",
     "text": [
      "/home/ubuntu/CTP/simulation/runs/SP16H_Q9Y5B9_Wildtype_2024_08_16_21_08_1723843185/363/da.py:62: OptimizeWarning: Covariance of the parameters could not be estimated\n",
      "  popt, _ = curve_fit(super_gaussian, coords, avg_profile, p0=initial_guess, maxfev=20000)\n"
     ]
    },
    {
     "name": "stdout",
     "output_type": "stream",
     "text": [
      "Dense phase concentration: 0.24526370897832817 +/- 0.004931235876123375\n",
      "Dilute phase concentration: 0.24631586842105263 +/- 0.004083343895184875\n",
      "simulation/runs/SP16H_Q9Y5B9_Wildtype_2024_08_16_21_08_1723843185/250\n"
     ]
    },
    {
     "name": "stderr",
     "output_type": "stream",
     "text": [
      "/home/ubuntu/CTP/simulation/runs/SP16H_Q9Y5B9_Wildtype_2024_08_16_21_08_1723843185/250/da.py:62: OptimizeWarning: Covariance of the parameters could not be estimated\n",
      "  popt, _ = curve_fit(super_gaussian, coords, avg_profile, p0=initial_guess, maxfev=20000)\n"
     ]
    },
    {
     "name": "stdout",
     "output_type": "stream",
     "text": [
      "Dense phase concentration: 0.25610225557275546 +/- 0.01526505146713695\n",
      "Dilute phase concentration: 0.22328392861842108 +/- 0.04515587191217521\n",
      "simulation/runs/SP16H_Q9Y5B9_Wildtype_2024_08_16_21_08_1723843185/321\n"
     ]
    },
    {
     "name": "stderr",
     "output_type": "stream",
     "text": [
      "/home/ubuntu/CTP/simulation/runs/SP16H_Q9Y5B9_Wildtype_2024_08_16_21_08_1723843185/321/da.py:62: OptimizeWarning: Covariance of the parameters could not be estimated\n",
      "  popt, _ = curve_fit(super_gaussian, coords, avg_profile, p0=initial_guess, maxfev=20000)\n"
     ]
    },
    {
     "name": "stdout",
     "output_type": "stream",
     "text": [
      "Dense phase concentration: 0.24625113622291023 +/- 0.010495539671488197\n",
      "Dilute phase concentration: 0.24421756250000004 +/- 0.006873654110409\n",
      "simulation/runs/SP16H_Q9Y5B9_Wildtype_2024_08_16_21_08_1723843185/349\n"
     ]
    },
    {
     "name": "stderr",
     "output_type": "stream",
     "text": [
      "/home/ubuntu/CTP/simulation/runs/SP16H_Q9Y5B9_Wildtype_2024_08_16_21_08_1723843185/349/da.py:62: OptimizeWarning: Covariance of the parameters could not be estimated\n",
      "  popt, _ = curve_fit(super_gaussian, coords, avg_profile, p0=initial_guess, maxfev=20000)\n"
     ]
    },
    {
     "name": "stdout",
     "output_type": "stream",
     "text": [
      "Dense phase concentration: 0.24409732972136222 +/- 0.007358168761238807\n",
      "Dilute phase concentration: 0.24879437171052632 +/- 0.006781209280165959\n",
      "simulation/runs/SP16H_Q9Y5B9_Wildtype_2024_08_16_21_08_1723843185/356\n"
     ]
    },
    {
     "name": "stderr",
     "output_type": "stream",
     "text": [
      "/home/ubuntu/CTP/simulation/runs/SP16H_Q9Y5B9_Wildtype_2024_08_16_21_08_1723843185/356/da.py:62: OptimizeWarning: Covariance of the parameters could not be estimated\n",
      "  popt, _ = curve_fit(super_gaussian, coords, avg_profile, p0=initial_guess, maxfev=20000)\n"
     ]
    },
    {
     "name": "stdout",
     "output_type": "stream",
     "text": [
      "Dense phase concentration: 0.24545525232198143 +/- 0.004899138306374508\n",
      "Dilute phase concentration: 0.24590884868421053 +/- 0.0038672766331217696\n",
      "simulation/runs/SP16H_Q9Y5B9_Wildtype_2024_08_16_21_08_1723843185/370\n"
     ]
    },
    {
     "name": "stderr",
     "output_type": "stream",
     "text": [
      "/home/ubuntu/CTP/simulation/runs/SP16H_Q9Y5B9_Wildtype_2024_08_16_21_08_1723843185/370/da.py:62: OptimizeWarning: Covariance of the parameters could not be estimated\n",
      "  popt, _ = curve_fit(super_gaussian, coords, avg_profile, p0=initial_guess, maxfev=20000)\n"
     ]
    },
    {
     "name": "stdout",
     "output_type": "stream",
     "text": [
      "Dense phase concentration: 0.24448802476780185 +/- 0.00646642894250069\n",
      "Dilute phase concentration: 0.24796417763157896 +/- 0.00595850613548785\n",
      "simulation/runs/SP16H_Q9Y5B9_Wildtype_2024_08_16_21_08_1723843185/335\n"
     ]
    },
    {
     "name": "stderr",
     "output_type": "stream",
     "text": [
      "/home/ubuntu/CTP/simulation/runs/SP16H_Q9Y5B9_Wildtype_2024_08_16_21_08_1723843185/335/da.py:62: OptimizeWarning: Covariance of the parameters could not be estimated\n",
      "  popt, _ = curve_fit(super_gaussian, coords, avg_profile, p0=initial_guess, maxfev=20000)\n"
     ]
    },
    {
     "name": "stdout",
     "output_type": "stream",
     "text": [
      "Dense phase concentration: 0.24490045046439626 +/- 0.004904562814582159\n",
      "Dilute phase concentration: 0.24708773355263158 +/- 0.006224285925777127\n",
      "simulation/runs/SP16H_Q9Y5B9_Wildtype_2024_08_16_21_08_1723843185/270\n"
     ]
    },
    {
     "name": "stderr",
     "output_type": "stream",
     "text": [
      "/home/ubuntu/CTP/simulation/runs/SP16H_Q9Y5B9_Wildtype_2024_08_16_21_08_1723843185/270/da.py:62: OptimizeWarning: Covariance of the parameters could not be estimated\n",
      "  popt, _ = curve_fit(super_gaussian, coords, avg_profile, p0=initial_guess, maxfev=20000)\n"
     ]
    },
    {
     "name": "stdout",
     "output_type": "stream",
     "text": [
      "Dense phase concentration: 0.24921061609907125 +/- 0.012559822752600942\n",
      "Dilute phase concentration: 0.23792865888157894 +/- 0.006565601011813\n"
     ]
    },
    {
     "name": "stderr",
     "output_type": "stream",
     "text": [
      "/home/ubuntu/anaconda3/envs/lammps/lib/python3.9/site-packages/matplotlib/collections.py:197: ComplexWarning: Casting complex values to real discards the imaginary part\n",
      "  offsets = np.asanyarray(offsets, float)\n",
      "/home/ubuntu/anaconda3/envs/lammps/lib/python3.9/site-packages/matplotlib/cbook.py:1762: ComplexWarning: Casting complex values to real discards the imaginary part\n",
      "  return math.isfinite(val)\n",
      "/home/ubuntu/anaconda3/envs/lammps/lib/python3.9/site-packages/matplotlib/cbook.py:1398: ComplexWarning: Casting complex values to real discards the imaginary part\n",
      "  return np.asarray(x, float)\n"
     ]
    },
    {
     "name": "stdout",
     "output_type": "stream",
     "text": [
      "File densities_chunked_temp250.txt read successfully with 2 lines.\n",
      "Original data lines:\n",
      "Dense phase concentration: 0.25610225557275546 +/- 0.01526505146713695\n",
      "Dilute phase concentration: 0.22328392861842108 +/- 0.04515587191217521\n",
      "Filtered data lines: 2\n",
      "Dense phase concentration: 0.25610225557275546 +/- 0.01526505146713695\n",
      "Dilute phase concentration: 0.22328392861842108 +/- 0.04515587191217521\n",
      "File densities_chunked_temp270.txt read successfully with 2 lines.\n",
      "Original data lines:\n",
      "Dense phase concentration: 0.24921061609907125 +/- 0.012559822752600942\n",
      "Dilute phase concentration: 0.23792865888157894 +/- 0.006565601011813\n",
      "Filtered data lines: 2\n",
      "Dense phase concentration: 0.24921061609907125 +/- 0.012559822752600942\n",
      "Dilute phase concentration: 0.23792865888157894 +/- 0.006565601011813\n",
      "File densities_chunked_temp290.txt read successfully with 2 lines.\n",
      "Original data lines:\n",
      "Dense phase concentration: 0.24852544117647057 +/- 0.007445877450158064\n",
      "Dilute phase concentration: 0.23938461184210524 +/- 0.005605924483376701\n",
      "Filtered data lines: 2\n",
      "Dense phase concentration: 0.24852544117647057 +/- 0.007445877450158064\n",
      "Dilute phase concentration: 0.23938461184210524 +/- 0.005605924483376701\n",
      "File densities_chunked_temp300.txt read successfully with 2 lines.\n",
      "Original data lines:\n",
      "Dense phase concentration: 0.2445901083591331 +/- 0.009317579798492615\n",
      "Dilute phase concentration: 0.2477472467105263 +/- 0.005528239848036933\n",
      "Filtered data lines: 2\n",
      "Dense phase concentration: 0.2445901083591331 +/- 0.009317579798492615\n",
      "Dilute phase concentration: 0.2477472467105263 +/- 0.005528239848036933\n",
      "File densities_chunked_temp307.txt read successfully with 2 lines.\n",
      "Original data lines:\n",
      "Dense phase concentration: 0.2447814278637771 +/- 0.005971514356252059\n",
      "Dilute phase concentration: 0.24734068092105266 +/- 0.005037812402226168\n",
      "Filtered data lines: 2\n",
      "Dense phase concentration: 0.2447814278637771 +/- 0.005971514356252059\n",
      "Dilute phase concentration: 0.24734068092105266 +/- 0.005037812402226168\n",
      "File densities_chunked_temp314.txt read successfully with 2 lines.\n",
      "Original data lines:\n",
      "Dense phase concentration: 0.2446120448916409 +/- 0.00659396527734924\n",
      "Dilute phase concentration: 0.24770063486842103 +/- 0.004858162522786555\n",
      "Filtered data lines: 2\n",
      "Dense phase concentration: 0.2446120448916409 +/- 0.00659396527734924\n",
      "Dilute phase concentration: 0.24770063486842103 +/- 0.004858162522786555\n",
      "File densities_chunked_temp321.txt read successfully with 2 lines.\n",
      "Original data lines:\n",
      "Dense phase concentration: 0.24625113622291023 +/- 0.010495539671488197\n",
      "Dilute phase concentration: 0.24421756250000004 +/- 0.006873654110409\n",
      "Filtered data lines: 2\n",
      "Dense phase concentration: 0.24625113622291023 +/- 0.010495539671488197\n",
      "Dilute phase concentration: 0.24421756250000004 +/- 0.006873654110409\n",
      "File densities_chunked_temp328.txt read successfully with 2 lines.\n",
      "Original data lines:\n",
      "Dense phase concentration: 0.24267171362229104 +/- 0.004678212622892213\n",
      "Dilute phase concentration: 0.25182388157894736 +/- 0.004355085671987779\n",
      "Filtered data lines: 2\n",
      "Dense phase concentration: 0.24267171362229104 +/- 0.004678212622892213\n",
      "Dilute phase concentration: 0.25182388157894736 +/- 0.004355085671987779\n",
      "File densities_chunked_temp335.txt read successfully with 2 lines.\n",
      "Original data lines:\n",
      "Dense phase concentration: 0.24490045046439626 +/- 0.004904562814582159\n",
      "Dilute phase concentration: 0.24708773355263158 +/- 0.006224285925777127\n",
      "Filtered data lines: 2\n",
      "Dense phase concentration: 0.24490045046439626 +/- 0.004904562814582159\n",
      "Dilute phase concentration: 0.24708773355263158 +/- 0.006224285925777127\n",
      "File densities_chunked_temp342.txt read successfully with 2 lines.\n",
      "Original data lines:\n",
      "Dense phase concentration: 0.24623529411764705 +/- 0.005008303681636641\n",
      "Dilute phase concentration: 0.2442512006578947 +/- 0.005157775755952428\n",
      "Filtered data lines: 2\n",
      "Dense phase concentration: 0.24623529411764705 +/- 0.005008303681636641\n",
      "Dilute phase concentration: 0.2442512006578947 +/- 0.005157775755952428\n",
      "File densities_chunked_temp349.txt read successfully with 2 lines.\n",
      "Original data lines:\n",
      "Dense phase concentration: 0.24409732972136222 +/- 0.007358168761238807\n",
      "Dilute phase concentration: 0.24879437171052632 +/- 0.006781209280165959\n",
      "Filtered data lines: 2\n",
      "Dense phase concentration: 0.24409732972136222 +/- 0.007358168761238807\n",
      "Dilute phase concentration: 0.24879437171052632 +/- 0.006781209280165959\n",
      "File densities_chunked_temp356.txt read successfully with 2 lines.\n",
      "Original data lines:\n",
      "Dense phase concentration: 0.24545525232198143 +/- 0.004899138306374508\n",
      "Dilute phase concentration: 0.24590884868421053 +/- 0.0038672766331217696\n",
      "Filtered data lines: 2\n",
      "Dense phase concentration: 0.24545525232198143 +/- 0.004899138306374508\n",
      "Dilute phase concentration: 0.24590884868421053 +/- 0.0038672766331217696\n",
      "File densities_chunked_temp363.txt read successfully with 2 lines.\n",
      "Original data lines:\n",
      "Dense phase concentration: 0.24526370897832817 +/- 0.004931235876123375\n",
      "Dilute phase concentration: 0.24631586842105263 +/- 0.004083343895184875\n",
      "Filtered data lines: 2\n",
      "Dense phase concentration: 0.24526370897832817 +/- 0.004931235876123375\n",
      "Dilute phase concentration: 0.24631586842105263 +/- 0.004083343895184875\n",
      "File densities_chunked_temp370.txt read successfully with 2 lines.\n",
      "Original data lines:\n",
      "Dense phase concentration: 0.24448802476780185 +/- 0.00646642894250069\n",
      "Dilute phase concentration: 0.24796417763157896 +/- 0.00595850613548785\n",
      "Filtered data lines: 2\n",
      "Dense phase concentration: 0.24448802476780185 +/- 0.00646642894250069\n",
      "Dilute phase concentration: 0.24796417763157896 +/- 0.00595850613548785\n",
      "Temperatures: [250, 270, 290, 300, 307, 314, 321, 328, 335, 342, 349, 356, 363, 370]\n",
      "Dense phase concentrations: [0.25610225557275546, 0.24921061609907125, 0.24852544117647057, 0.2445901083591331, 0.2447814278637771, 0.2446120448916409, 0.24625113622291023, 0.24267171362229104, 0.24490045046439626, 0.24623529411764705, 0.24409732972136222, 0.24545525232198143, 0.24526370897832817, 0.24448802476780185]\n",
      "Dilute phase concentrations: [0.22328392861842108, 0.23792865888157894, 0.23938461184210524, 0.2477472467105263, 0.24734068092105266, 0.24770063486842103, 0.24421756250000004, 0.25182388157894736, 0.24708773355263158, 0.2442512006578947, 0.24879437171052632, 0.24590884868421053, 0.24631586842105263, 0.24796417763157896]\n",
      "Dense std dev: [0.01526505146713695, 0.012559822752600942, 0.007445877450158064, 0.009317579798492615, 0.005971514356252059, 0.00659396527734924, 0.010495539671488197, 0.004678212622892213, 0.004904562814582159, 0.005008303681636641, 0.007358168761238807, 0.004899138306374508, 0.004931235876123375, 0.00646642894250069]\n",
      "Dilute std dev: [0.04515587191217521, 0.006565601011813, 0.005605924483376701, 0.005528239848036933, 0.005037812402226168, 0.004858162522786555, 0.006873654110409, 0.004355085671987779, 0.006224285925777127, 0.005157775755952428, 0.006781209280165959, 0.0038672766331217696, 0.004083343895184875, 0.00595850613548785]\n",
      "Critical Solution Temperature: 337.20-0.09j K written to critical_solution_temperature.txt\n",
      "execution time: 2.44419235765934 hours\n",
      "16-Aug-24 | 23:46\n",
      "\n",
      "\n",
      "running simulation for CLPT1_O96005_Wildtype\n",
      "16-Aug-24 | 23:46\n",
      "seq len 90\n",
      "total temps 14\n",
      "simulation/runs/CLPT1_O96005_Wildtype_2024_08_16_23_08_1723851984\n"
     ]
    },
    {
     "name": "stderr",
     "output_type": "stream",
     "text": [
      "/home/ubuntu/CTP/simulation/runs/CLPT1_O96005_Wildtype_2024_08_16_23_08_1723851984/seq2config.py:67: DeprecationWarning: Conversion of an array with ndim > 0 to a scalar is deprecated, and will error in future. Ensure you extract a single element from your array before performing this operation. (Deprecated NumPy 1.25.)\n",
      "  typescharges.append([int(types[p,1]),float(charges[k,1])])\n"
     ]
    },
    {
     "name": "stdout",
     "output_type": "stream",
     "text": [
      "step 1: running input single chain\n",
      "step 2: running compress single chain\n",
      "step 3: direct coexistence\n",
      "running [{'temp': 250, 'dir': 'simulation/runs/CLPT1_O96005_Wildtype_2024_08_16_23_08_1723851984/250'}, {'temp': 270, 'dir': 'simulation/runs/CLPT1_O96005_Wildtype_2024_08_16_23_08_1723851984/270'}, {'temp': 290, 'dir': 'simulation/runs/CLPT1_O96005_Wildtype_2024_08_16_23_08_1723851984/290'}, {'temp': 300, 'dir': 'simulation/runs/CLPT1_O96005_Wildtype_2024_08_16_23_08_1723851984/300'}, {'temp': 307, 'dir': 'simulation/runs/CLPT1_O96005_Wildtype_2024_08_16_23_08_1723851984/307'}, {'temp': 314, 'dir': 'simulation/runs/CLPT1_O96005_Wildtype_2024_08_16_23_08_1723851984/314'}]\n",
      "16-Aug-24 | 23:49\n",
      "execution time: 0.7332354731692208 hours\n",
      "17-Aug-24 | 00:33\n",
      "running [{'temp': 321, 'dir': 'simulation/runs/CLPT1_O96005_Wildtype_2024_08_16_23_08_1723851984/321'}, {'temp': 328, 'dir': 'simulation/runs/CLPT1_O96005_Wildtype_2024_08_16_23_08_1723851984/328'}, {'temp': 335, 'dir': 'simulation/runs/CLPT1_O96005_Wildtype_2024_08_16_23_08_1723851984/335'}, {'temp': 342, 'dir': 'simulation/runs/CLPT1_O96005_Wildtype_2024_08_16_23_08_1723851984/342'}, {'temp': 349, 'dir': 'simulation/runs/CLPT1_O96005_Wildtype_2024_08_16_23_08_1723851984/349'}, {'temp': 356, 'dir': 'simulation/runs/CLPT1_O96005_Wildtype_2024_08_16_23_08_1723851984/356'}]\n",
      "17-Aug-24 | 00:33\n",
      "execution time: 0.5928516903850767 hours\n",
      "17-Aug-24 | 01:09\n",
      "running [{'temp': 363, 'dir': 'simulation/runs/CLPT1_O96005_Wildtype_2024_08_16_23_08_1723851984/363'}, {'temp': 370, 'dir': 'simulation/runs/CLPT1_O96005_Wildtype_2024_08_16_23_08_1723851984/370'}]\n",
      "remaining temp, CPUs_pp = 48\n",
      "17-Aug-24 | 01:09\n",
      "execution time: 0.3656048632330365 hours\n",
      "17-Aug-24 | 01:31\n",
      "calculating ps densities\n",
      "simulation/runs/CLPT1_O96005_Wildtype_2024_08_16_23_08_1723851984/300\n"
     ]
    },
    {
     "name": "stderr",
     "output_type": "stream",
     "text": [
      "/home/ubuntu/CTP/simulation/runs/CLPT1_O96005_Wildtype_2024_08_16_23_08_1723851984/300/da.py:62: OptimizeWarning: Covariance of the parameters could not be estimated\n",
      "  popt, _ = curve_fit(super_gaussian, coords, avg_profile, p0=initial_guess, maxfev=20000)\n"
     ]
    },
    {
     "name": "stdout",
     "output_type": "stream",
     "text": [
      "Dense phase concentration: 0.21958156594427242 +/- 0.024575610376618092\n",
      "Dilute phase concentration: 0.22444462664473686 +/- 0.007352753489870968\n",
      "simulation/runs/CLPT1_O96005_Wildtype_2024_08_16_23_08_1723851984/314\n"
     ]
    },
    {
     "name": "stderr",
     "output_type": "stream",
     "text": [
      "/home/ubuntu/CTP/simulation/runs/CLPT1_O96005_Wildtype_2024_08_16_23_08_1723851984/314/da.py:62: OptimizeWarning: Covariance of the parameters could not be estimated\n",
      "  popt, _ = curve_fit(super_gaussian, coords, avg_profile, p0=initial_guess, maxfev=20000)\n"
     ]
    },
    {
     "name": "stdout",
     "output_type": "stream",
     "text": [
      "Dense phase concentration: 0.22124630232198145 +/- 0.022539119243738675\n",
      "Dilute phase concentration: 0.22090700986842104 +/- 0.014184022984762746\n",
      "simulation/runs/CLPT1_O96005_Wildtype_2024_08_16_23_08_1723851984/290\n"
     ]
    },
    {
     "name": "stderr",
     "output_type": "stream",
     "text": [
      "/home/ubuntu/CTP/simulation/runs/CLPT1_O96005_Wildtype_2024_08_16_23_08_1723851984/290/da.py:62: OptimizeWarning: Covariance of the parameters could not be estimated\n",
      "  popt, _ = curve_fit(super_gaussian, coords, avg_profile, p0=initial_guess, maxfev=20000)\n"
     ]
    },
    {
     "name": "stdout",
     "output_type": "stream",
     "text": [
      "Dense phase concentration: 0.21966124829721362 +/- 0.033347055075611275\n",
      "Dilute phase concentration: 0.22427528552631576 +/- 0.019266943907526257\n",
      "simulation/runs/CLPT1_O96005_Wildtype_2024_08_16_23_08_1723851984/342\n"
     ]
    },
    {
     "name": "stderr",
     "output_type": "stream",
     "text": [
      "/home/ubuntu/CTP/simulation/runs/CLPT1_O96005_Wildtype_2024_08_16_23_08_1723851984/342/da.py:62: OptimizeWarning: Covariance of the parameters could not be estimated\n",
      "  popt, _ = curve_fit(super_gaussian, coords, avg_profile, p0=initial_guess, maxfev=20000)\n"
     ]
    },
    {
     "name": "stdout",
     "output_type": "stream",
     "text": [
      "Dense phase concentration: 0.22305715015479874 +/- 0.008790772678960678\n",
      "Dilute phase concentration: 0.2170590230263158 +/- 0.008974294296902285\n",
      "simulation/runs/CLPT1_O96005_Wildtype_2024_08_16_23_08_1723851984/328\n"
     ]
    },
    {
     "name": "stderr",
     "output_type": "stream",
     "text": [
      "/home/ubuntu/CTP/simulation/runs/CLPT1_O96005_Wildtype_2024_08_16_23_08_1723851984/328/da.py:62: OptimizeWarning: Covariance of the parameters could not be estimated\n",
      "  popt, _ = curve_fit(super_gaussian, coords, avg_profile, p0=initial_guess, maxfev=20000)\n"
     ]
    },
    {
     "name": "stdout",
     "output_type": "stream",
     "text": [
      "Dense phase concentration: 0.21949799535603712 +/- 0.009770852099831483\n",
      "Dilute phase concentration: 0.22462219407894737 +/- 0.005456372449379072\n",
      "simulation/runs/CLPT1_O96005_Wildtype_2024_08_16_23_08_1723851984/307\n"
     ]
    },
    {
     "name": "stderr",
     "output_type": "stream",
     "text": [
      "/home/ubuntu/CTP/simulation/runs/CLPT1_O96005_Wildtype_2024_08_16_23_08_1723851984/307/da.py:62: OptimizeWarning: Covariance of the parameters could not be estimated\n",
      "  popt, _ = curve_fit(super_gaussian, coords, avg_profile, p0=initial_guess, maxfev=20000)\n"
     ]
    },
    {
     "name": "stdout",
     "output_type": "stream",
     "text": [
      "Dense phase concentration: 0.2192239074303406 +/- 0.021569776754218117\n",
      "Dilute phase concentration: 0.22520467763157895 +/- 0.026284080748852724\n",
      "simulation/runs/CLPT1_O96005_Wildtype_2024_08_16_23_08_1723851984/363\n"
     ]
    },
    {
     "name": "stderr",
     "output_type": "stream",
     "text": [
      "/home/ubuntu/CTP/simulation/runs/CLPT1_O96005_Wildtype_2024_08_16_23_08_1723851984/363/da.py:62: OptimizeWarning: Covariance of the parameters could not be estimated\n",
      "  popt, _ = curve_fit(super_gaussian, coords, avg_profile, p0=initial_guess, maxfev=20000)\n"
     ]
    },
    {
     "name": "stdout",
     "output_type": "stream",
     "text": [
      "Dense phase concentration: 0.21883306191950463 +/- 0.007582021567654778\n",
      "Dilute phase concentration: 0.22603516118421052 +/- 0.004136744795856856\n",
      "simulation/runs/CLPT1_O96005_Wildtype_2024_08_16_23_08_1723851984/250\n"
     ]
    },
    {
     "name": "stderr",
     "output_type": "stream",
     "text": [
      "/home/ubuntu/CTP/simulation/runs/CLPT1_O96005_Wildtype_2024_08_16_23_08_1723851984/250/da.py:62: OptimizeWarning: Covariance of the parameters could not be estimated\n",
      "  popt, _ = curve_fit(super_gaussian, coords, avg_profile, p0=initial_guess, maxfev=20000)\n"
     ]
    },
    {
     "name": "stdout",
     "output_type": "stream",
     "text": [
      "Dense phase concentration: 0.2538276458823529 +/- 0.08064715262763292\n",
      "Dilute phase concentration: 0.15167173716776317 +/- 0.09427637214436854\n",
      "simulation/runs/CLPT1_O96005_Wildtype_2024_08_16_23_08_1723851984/321\n"
     ]
    },
    {
     "name": "stderr",
     "output_type": "stream",
     "text": [
      "/home/ubuntu/CTP/simulation/runs/CLPT1_O96005_Wildtype_2024_08_16_23_08_1723851984/321/da.py:62: OptimizeWarning: Covariance of the parameters could not be estimated\n",
      "  popt, _ = curve_fit(super_gaussian, coords, avg_profile, p0=initial_guess, maxfev=20000)\n"
     ]
    },
    {
     "name": "stdout",
     "output_type": "stream",
     "text": [
      "Dense phase concentration: 0.2240695246130031 +/- 0.012476269396733974\n",
      "Dilute phase concentration: 0.2149077282894737 +/- 0.014208296536243585\n",
      "simulation/runs/CLPT1_O96005_Wildtype_2024_08_16_23_08_1723851984/349\n"
     ]
    },
    {
     "name": "stderr",
     "output_type": "stream",
     "text": [
      "/home/ubuntu/CTP/simulation/runs/CLPT1_O96005_Wildtype_2024_08_16_23_08_1723851984/349/da.py:62: OptimizeWarning: Covariance of the parameters could not be estimated\n",
      "  popt, _ = curve_fit(super_gaussian, coords, avg_profile, p0=initial_guess, maxfev=20000)\n"
     ]
    },
    {
     "name": "stdout",
     "output_type": "stream",
     "text": [
      "Dense phase concentration: 0.22214669349845204 +/- 0.005283752163915709\n",
      "Dilute phase concentration: 0.21899365460526315 +/- 0.013788111188324877\n",
      "simulation/runs/CLPT1_O96005_Wildtype_2024_08_16_23_08_1723851984/356\n"
     ]
    },
    {
     "name": "stderr",
     "output_type": "stream",
     "text": [
      "/home/ubuntu/CTP/simulation/runs/CLPT1_O96005_Wildtype_2024_08_16_23_08_1723851984/356/da.py:62: OptimizeWarning: Covariance of the parameters could not be estimated\n",
      "  popt, _ = curve_fit(super_gaussian, coords, avg_profile, p0=initial_guess, maxfev=20000)\n"
     ]
    },
    {
     "name": "stdout",
     "output_type": "stream",
     "text": [
      "Dense phase concentration: 0.21993303405572753 +/- 0.007617169450629893\n",
      "Dilute phase concentration: 0.22369771381578948 +/- 0.005693406458630427\n",
      "simulation/runs/CLPT1_O96005_Wildtype_2024_08_16_23_08_1723851984/370\n"
     ]
    },
    {
     "name": "stderr",
     "output_type": "stream",
     "text": [
      "/home/ubuntu/CTP/simulation/runs/CLPT1_O96005_Wildtype_2024_08_16_23_08_1723851984/370/da.py:62: OptimizeWarning: Covariance of the parameters could not be estimated\n",
      "  popt, _ = curve_fit(super_gaussian, coords, avg_profile, p0=initial_guess, maxfev=20000)\n"
     ]
    },
    {
     "name": "stdout",
     "output_type": "stream",
     "text": [
      "Dense phase concentration: 0.2210361393188854 +/- 0.0070575988873158475\n",
      "Dilute phase concentration: 0.2213536677631579 +/- 0.004422902222270991\n",
      "simulation/runs/CLPT1_O96005_Wildtype_2024_08_16_23_08_1723851984/335\n"
     ]
    },
    {
     "name": "stderr",
     "output_type": "stream",
     "text": [
      "/home/ubuntu/CTP/simulation/runs/CLPT1_O96005_Wildtype_2024_08_16_23_08_1723851984/335/da.py:62: OptimizeWarning: Covariance of the parameters could not be estimated\n",
      "  popt, _ = curve_fit(super_gaussian, coords, avg_profile, p0=initial_guess, maxfev=20000)\n"
     ]
    },
    {
     "name": "stdout",
     "output_type": "stream",
     "text": [
      "Dense phase concentration: 0.22188318730650156 +/- 0.012230063752249817\n",
      "Dilute phase concentration: 0.2195536644736842 +/- 0.0077563524203535265\n",
      "simulation/runs/CLPT1_O96005_Wildtype_2024_08_16_23_08_1723851984/270\n"
     ]
    },
    {
     "name": "stderr",
     "output_type": "stream",
     "text": [
      "/home/ubuntu/CTP/simulation/runs/CLPT1_O96005_Wildtype_2024_08_16_23_08_1723851984/270/da.py:62: OptimizeWarning: Covariance of the parameters could not be estimated\n",
      "  popt, _ = curve_fit(super_gaussian, coords, avg_profile, p0=initial_guess, maxfev=20000)\n"
     ]
    },
    {
     "name": "stdout",
     "output_type": "stream",
     "text": [
      "Dense phase concentration: 0.2270581269349845 +/- 0.05632771436327835\n",
      "Dilute phase concentration: 0.2085568967105263 +/- 0.02402617922526162\n"
     ]
    },
    {
     "name": "stderr",
     "output_type": "stream",
     "text": [
      "/home/ubuntu/anaconda3/envs/lammps/lib/python3.9/site-packages/matplotlib/collections.py:197: ComplexWarning: Casting complex values to real discards the imaginary part\n",
      "  offsets = np.asanyarray(offsets, float)\n",
      "/home/ubuntu/anaconda3/envs/lammps/lib/python3.9/site-packages/matplotlib/cbook.py:1762: ComplexWarning: Casting complex values to real discards the imaginary part\n",
      "  return math.isfinite(val)\n",
      "/home/ubuntu/anaconda3/envs/lammps/lib/python3.9/site-packages/matplotlib/cbook.py:1398: ComplexWarning: Casting complex values to real discards the imaginary part\n",
      "  return np.asarray(x, float)\n"
     ]
    },
    {
     "name": "stdout",
     "output_type": "stream",
     "text": [
      "File densities_chunked_temp250.txt read successfully with 2 lines.\n",
      "Original data lines:\n",
      "Dense phase concentration: 0.2538276458823529 +/- 0.08064715262763292\n",
      "Dilute phase concentration: 0.15167173716776317 +/- 0.09427637214436854\n",
      "Filtered data lines: 2\n",
      "Dense phase concentration: 0.2538276458823529 +/- 0.08064715262763292\n",
      "Dilute phase concentration: 0.15167173716776317 +/- 0.09427637214436854\n",
      "File densities_chunked_temp270.txt read successfully with 2 lines.\n",
      "Original data lines:\n",
      "Dense phase concentration: 0.2270581269349845 +/- 0.05632771436327835\n",
      "Dilute phase concentration: 0.2085568967105263 +/- 0.02402617922526162\n",
      "Filtered data lines: 2\n",
      "Dense phase concentration: 0.2270581269349845 +/- 0.05632771436327835\n",
      "Dilute phase concentration: 0.2085568967105263 +/- 0.02402617922526162\n",
      "File densities_chunked_temp290.txt read successfully with 2 lines.\n",
      "Original data lines:\n",
      "Dense phase concentration: 0.21966124829721362 +/- 0.033347055075611275\n",
      "Dilute phase concentration: 0.22427528552631576 +/- 0.019266943907526257\n",
      "Filtered data lines: 2\n",
      "Dense phase concentration: 0.21966124829721362 +/- 0.033347055075611275\n",
      "Dilute phase concentration: 0.22427528552631576 +/- 0.019266943907526257\n",
      "File densities_chunked_temp300.txt read successfully with 2 lines.\n",
      "Original data lines:\n",
      "Dense phase concentration: 0.21958156594427242 +/- 0.024575610376618092\n",
      "Dilute phase concentration: 0.22444462664473686 +/- 0.007352753489870968\n",
      "Filtered data lines: 2\n",
      "Dense phase concentration: 0.21958156594427242 +/- 0.024575610376618092\n",
      "Dilute phase concentration: 0.22444462664473686 +/- 0.007352753489870968\n",
      "File densities_chunked_temp307.txt read successfully with 2 lines.\n",
      "Original data lines:\n",
      "Dense phase concentration: 0.2192239074303406 +/- 0.021569776754218117\n",
      "Dilute phase concentration: 0.22520467763157895 +/- 0.026284080748852724\n",
      "Filtered data lines: 2\n",
      "Dense phase concentration: 0.2192239074303406 +/- 0.021569776754218117\n",
      "Dilute phase concentration: 0.22520467763157895 +/- 0.026284080748852724\n",
      "File densities_chunked_temp314.txt read successfully with 2 lines.\n",
      "Original data lines:\n",
      "Dense phase concentration: 0.22124630232198145 +/- 0.022539119243738675\n",
      "Dilute phase concentration: 0.22090700986842104 +/- 0.014184022984762746\n",
      "Filtered data lines: 2\n",
      "Dense phase concentration: 0.22124630232198145 +/- 0.022539119243738675\n",
      "Dilute phase concentration: 0.22090700986842104 +/- 0.014184022984762746\n",
      "File densities_chunked_temp321.txt read successfully with 2 lines.\n",
      "Original data lines:\n",
      "Dense phase concentration: 0.2240695246130031 +/- 0.012476269396733974\n",
      "Dilute phase concentration: 0.2149077282894737 +/- 0.014208296536243585\n",
      "Filtered data lines: 2\n",
      "Dense phase concentration: 0.2240695246130031 +/- 0.012476269396733974\n",
      "Dilute phase concentration: 0.2149077282894737 +/- 0.014208296536243585\n",
      "File densities_chunked_temp328.txt read successfully with 2 lines.\n",
      "Original data lines:\n",
      "Dense phase concentration: 0.21949799535603712 +/- 0.009770852099831483\n",
      "Dilute phase concentration: 0.22462219407894737 +/- 0.005456372449379072\n",
      "Filtered data lines: 2\n",
      "Dense phase concentration: 0.21949799535603712 +/- 0.009770852099831483\n",
      "Dilute phase concentration: 0.22462219407894737 +/- 0.005456372449379072\n",
      "File densities_chunked_temp335.txt read successfully with 2 lines.\n",
      "Original data lines:\n",
      "Dense phase concentration: 0.22188318730650156 +/- 0.012230063752249817\n",
      "Dilute phase concentration: 0.2195536644736842 +/- 0.0077563524203535265\n",
      "Filtered data lines: 2\n",
      "Dense phase concentration: 0.22188318730650156 +/- 0.012230063752249817\n",
      "Dilute phase concentration: 0.2195536644736842 +/- 0.0077563524203535265\n",
      "File densities_chunked_temp342.txt read successfully with 2 lines.\n",
      "Original data lines:\n",
      "Dense phase concentration: 0.22305715015479874 +/- 0.008790772678960678\n",
      "Dilute phase concentration: 0.2170590230263158 +/- 0.008974294296902285\n",
      "Filtered data lines: 2\n",
      "Dense phase concentration: 0.22305715015479874 +/- 0.008790772678960678\n",
      "Dilute phase concentration: 0.2170590230263158 +/- 0.008974294296902285\n",
      "File densities_chunked_temp349.txt read successfully with 2 lines.\n",
      "Original data lines:\n",
      "Dense phase concentration: 0.22214669349845204 +/- 0.005283752163915709\n",
      "Dilute phase concentration: 0.21899365460526315 +/- 0.013788111188324877\n",
      "Filtered data lines: 2\n",
      "Dense phase concentration: 0.22214669349845204 +/- 0.005283752163915709\n",
      "Dilute phase concentration: 0.21899365460526315 +/- 0.013788111188324877\n",
      "File densities_chunked_temp356.txt read successfully with 2 lines.\n",
      "Original data lines:\n",
      "Dense phase concentration: 0.21993303405572753 +/- 0.007617169450629893\n",
      "Dilute phase concentration: 0.22369771381578948 +/- 0.005693406458630427\n",
      "Filtered data lines: 2\n",
      "Dense phase concentration: 0.21993303405572753 +/- 0.007617169450629893\n",
      "Dilute phase concentration: 0.22369771381578948 +/- 0.005693406458630427\n",
      "File densities_chunked_temp363.txt read successfully with 2 lines.\n",
      "Original data lines:\n",
      "Dense phase concentration: 0.21883306191950463 +/- 0.007582021567654778\n",
      "Dilute phase concentration: 0.22603516118421052 +/- 0.004136744795856856\n",
      "Filtered data lines: 2\n",
      "Dense phase concentration: 0.21883306191950463 +/- 0.007582021567654778\n",
      "Dilute phase concentration: 0.22603516118421052 +/- 0.004136744795856856\n",
      "File densities_chunked_temp370.txt read successfully with 2 lines.\n",
      "Original data lines:\n",
      "Dense phase concentration: 0.2210361393188854 +/- 0.0070575988873158475\n",
      "Dilute phase concentration: 0.2213536677631579 +/- 0.004422902222270991\n",
      "Filtered data lines: 2\n",
      "Dense phase concentration: 0.2210361393188854 +/- 0.0070575988873158475\n",
      "Dilute phase concentration: 0.2213536677631579 +/- 0.004422902222270991\n",
      "Temperatures: [250, 270, 290, 300, 307, 314, 321, 328, 335, 342, 349, 356, 363, 370]\n",
      "Dense phase concentrations: [0.2538276458823529, 0.2270581269349845, 0.21966124829721362, 0.21958156594427242, 0.2192239074303406, 0.22124630232198145, 0.2240695246130031, 0.21949799535603712, 0.22188318730650156, 0.22305715015479874, 0.22214669349845204, 0.21993303405572753, 0.21883306191950463, 0.2210361393188854]\n",
      "Dilute phase concentrations: [0.15167173716776317, 0.2085568967105263, 0.22427528552631576, 0.22444462664473686, 0.22520467763157895, 0.22090700986842104, 0.2149077282894737, 0.22462219407894737, 0.2195536644736842, 0.2170590230263158, 0.21899365460526315, 0.22369771381578948, 0.22603516118421052, 0.2213536677631579]\n",
      "Dense std dev: [0.08064715262763292, 0.05632771436327835, 0.033347055075611275, 0.024575610376618092, 0.021569776754218117, 0.022539119243738675, 0.012476269396733974, 0.009770852099831483, 0.012230063752249817, 0.008790772678960678, 0.005283752163915709, 0.007617169450629893, 0.007582021567654778, 0.0070575988873158475]\n",
      "Dilute std dev: [0.09427637214436854, 0.02402617922526162, 0.019266943907526257, 0.007352753489870968, 0.026284080748852724, 0.014184022984762746, 0.014208296536243585, 0.005456372449379072, 0.0077563524203535265, 0.008974294296902285, 0.013788111188324877, 0.005693406458630427, 0.004136744795856856, 0.004422902222270991]\n",
      "Critical Solution Temperature: 337.33-0.00j K written to critical_solution_temperature.txt\n",
      "execution time: 1.748385214805603 hours\n",
      "17-Aug-24 | 01:31\n",
      "\n",
      "\n",
      "running simulation for I0FUN3_MACMU_-10Q+10N\n",
      "17-Aug-24 | 01:31\n",
      "seq len 93\n",
      "total temps 14\n",
      "simulation/runs/I0FUN3_MACMU_-10Q+10N_2024_08_17_01_08_1723858279\n"
     ]
    },
    {
     "name": "stderr",
     "output_type": "stream",
     "text": [
      "/home/ubuntu/CTP/simulation/runs/I0FUN3_MACMU_-10Q+10N_2024_08_17_01_08_1723858279/seq2config.py:67: DeprecationWarning: Conversion of an array with ndim > 0 to a scalar is deprecated, and will error in future. Ensure you extract a single element from your array before performing this operation. (Deprecated NumPy 1.25.)\n",
      "  typescharges.append([int(types[p,1]),float(charges[k,1])])\n"
     ]
    },
    {
     "name": "stdout",
     "output_type": "stream",
     "text": [
      "step 1: running input single chain\n",
      "step 2: running compress single chain\n",
      "step 3: direct coexistence\n",
      "running [{'temp': 250, 'dir': 'simulation/runs/I0FUN3_MACMU_-10Q+10N_2024_08_17_01_08_1723858279/250'}, {'temp': 270, 'dir': 'simulation/runs/I0FUN3_MACMU_-10Q+10N_2024_08_17_01_08_1723858279/270'}, {'temp': 290, 'dir': 'simulation/runs/I0FUN3_MACMU_-10Q+10N_2024_08_17_01_08_1723858279/290'}, {'temp': 300, 'dir': 'simulation/runs/I0FUN3_MACMU_-10Q+10N_2024_08_17_01_08_1723858279/300'}, {'temp': 307, 'dir': 'simulation/runs/I0FUN3_MACMU_-10Q+10N_2024_08_17_01_08_1723858279/307'}, {'temp': 314, 'dir': 'simulation/runs/I0FUN3_MACMU_-10Q+10N_2024_08_17_01_08_1723858279/314'}]\n",
      "17-Aug-24 | 01:34\n",
      "execution time: 1.1901965135335921 hours\n",
      "17-Aug-24 | 02:45\n",
      "running [{'temp': 321, 'dir': 'simulation/runs/I0FUN3_MACMU_-10Q+10N_2024_08_17_01_08_1723858279/321'}, {'temp': 328, 'dir': 'simulation/runs/I0FUN3_MACMU_-10Q+10N_2024_08_17_01_08_1723858279/328'}, {'temp': 335, 'dir': 'simulation/runs/I0FUN3_MACMU_-10Q+10N_2024_08_17_01_08_1723858279/335'}, {'temp': 342, 'dir': 'simulation/runs/I0FUN3_MACMU_-10Q+10N_2024_08_17_01_08_1723858279/342'}, {'temp': 349, 'dir': 'simulation/runs/I0FUN3_MACMU_-10Q+10N_2024_08_17_01_08_1723858279/349'}, {'temp': 356, 'dir': 'simulation/runs/I0FUN3_MACMU_-10Q+10N_2024_08_17_01_08_1723858279/356'}]\n",
      "17-Aug-24 | 02:45\n",
      "execution time: 0.9717654855383767 hours\n",
      "17-Aug-24 | 03:44\n",
      "running [{'temp': 363, 'dir': 'simulation/runs/I0FUN3_MACMU_-10Q+10N_2024_08_17_01_08_1723858279/363'}, {'temp': 370, 'dir': 'simulation/runs/I0FUN3_MACMU_-10Q+10N_2024_08_17_01_08_1723858279/370'}]\n",
      "remaining temp, CPUs_pp = 48\n",
      "17-Aug-24 | 03:44\n",
      "execution time: 0.4805261464913686 hours\n",
      "17-Aug-24 | 04:13\n",
      "calculating ps densities\n",
      "simulation/runs/I0FUN3_MACMU_-10Q+10N_2024_08_17_01_08_1723858279/300\n"
     ]
    },
    {
     "name": "stderr",
     "output_type": "stream",
     "text": [
      "/home/ubuntu/CTP/simulation/runs/I0FUN3_MACMU_-10Q+10N_2024_08_17_01_08_1723858279/300/da.py:62: OptimizeWarning: Covariance of the parameters could not be estimated\n",
      "  popt, _ = curve_fit(super_gaussian, coords, avg_profile, p0=initial_guess, maxfev=20000)\n"
     ]
    },
    {
     "name": "stdout",
     "output_type": "stream",
     "text": [
      "Dense phase concentration: 0.3786112111039474 +/- 0.3125482876709275\n",
      "Dilute phase concentration: 1.1115716374269006e-06 +/- 3.144284067307254e-06\n",
      "simulation/runs/I0FUN3_MACMU_-10Q+10N_2024_08_17_01_08_1723858279/314\n"
     ]
    },
    {
     "name": "stderr",
     "output_type": "stream",
     "text": [
      "/home/ubuntu/CTP/simulation/runs/I0FUN3_MACMU_-10Q+10N_2024_08_17_01_08_1723858279/314/da.py:62: OptimizeWarning: Covariance of the parameters could not be estimated\n",
      "  popt, _ = curve_fit(super_gaussian, coords, avg_profile, p0=initial_guess, maxfev=20000)\n"
     ]
    },
    {
     "name": "stdout",
     "output_type": "stream",
     "text": [
      "Dense phase concentration: 0.3563332011727554 +/- 0.2885215510916133\n",
      "Dilute phase concentration: 1.568258552631579e-05 +/- 3.622339301787042e-05\n",
      "simulation/runs/I0FUN3_MACMU_-10Q+10N_2024_08_17_01_08_1723858279/290\n"
     ]
    },
    {
     "name": "stderr",
     "output_type": "stream",
     "text": [
      "/home/ubuntu/CTP/simulation/runs/I0FUN3_MACMU_-10Q+10N_2024_08_17_01_08_1723858279/290/da.py:62: OptimizeWarning: Covariance of the parameters could not be estimated\n",
      "  popt, _ = curve_fit(super_gaussian, coords, avg_profile, p0=initial_guess, maxfev=20000)\n"
     ]
    },
    {
     "name": "stdout",
     "output_type": "stream",
     "text": [
      "Dense phase concentration: 0.39082121011680815 +/- 0.328618241190788\n",
      "Dilute phase concentration: 6.420901108033242e-06 +/- 2.0039917988609016e-05\n",
      "simulation/runs/I0FUN3_MACMU_-10Q+10N_2024_08_17_01_08_1723858279/342\n"
     ]
    },
    {
     "name": "stderr",
     "output_type": "stream",
     "text": [
      "/home/ubuntu/CTP/simulation/runs/I0FUN3_MACMU_-10Q+10N_2024_08_17_01_08_1723858279/342/da.py:62: OptimizeWarning: Covariance of the parameters could not be estimated\n",
      "  popt, _ = curve_fit(super_gaussian, coords, avg_profile, p0=initial_guess, maxfev=20000)\n"
     ]
    },
    {
     "name": "stdout",
     "output_type": "stream",
     "text": [
      "Dense phase concentration: 0.2877706482656641 +/- 0.2306591199763036\n",
      "Dilute phase concentration: 0.0036514500835526315 +/- 0.0010070833543175174\n",
      "simulation/runs/I0FUN3_MACMU_-10Q+10N_2024_08_17_01_08_1723858279/328\n"
     ]
    },
    {
     "name": "stderr",
     "output_type": "stream",
     "text": [
      "/home/ubuntu/CTP/simulation/runs/I0FUN3_MACMU_-10Q+10N_2024_08_17_01_08_1723858279/328/da.py:62: OptimizeWarning: Covariance of the parameters could not be estimated\n",
      "  popt, _ = curve_fit(super_gaussian, coords, avg_profile, p0=initial_guess, maxfev=20000)\n"
     ]
    },
    {
     "name": "stdout",
     "output_type": "stream",
     "text": [
      "Dense phase concentration: 0.3188272351162049 +/- 0.26403705825217305\n",
      "Dilute phase concentration: 1.2034882894736841e-05 +/- 3.908766995804731e-05\n",
      "simulation/runs/I0FUN3_MACMU_-10Q+10N_2024_08_17_01_08_1723858279/307\n"
     ]
    },
    {
     "name": "stderr",
     "output_type": "stream",
     "text": [
      "/home/ubuntu/CTP/simulation/runs/I0FUN3_MACMU_-10Q+10N_2024_08_17_01_08_1723858279/307/da.py:62: OptimizeWarning: Covariance of the parameters could not be estimated\n",
      "  popt, _ = curve_fit(super_gaussian, coords, avg_profile, p0=initial_guess, maxfev=20000)\n"
     ]
    },
    {
     "name": "stdout",
     "output_type": "stream",
     "text": [
      "Dense phase concentration: 0.3671385932191388 +/- 0.30049298594069673\n",
      "Dilute phase concentration: 3.465380804953561e-07 +/- 1.0621925826614518e-06\n",
      "simulation/runs/I0FUN3_MACMU_-10Q+10N_2024_08_17_01_08_1723858279/363\n"
     ]
    },
    {
     "name": "stderr",
     "output_type": "stream",
     "text": [
      "/home/ubuntu/CTP/simulation/runs/I0FUN3_MACMU_-10Q+10N_2024_08_17_01_08_1723858279/363/da.py:62: OptimizeWarning: Covariance of the parameters could not be estimated\n",
      "  popt, _ = curve_fit(super_gaussian, coords, avg_profile, p0=initial_guess, maxfev=20000)\n"
     ]
    },
    {
     "name": "stdout",
     "output_type": "stream",
     "text": [
      "Dense phase concentration: 0.33347412352941175 +/- 0.0739787071624391\n",
      "Dilute phase concentration: 0.04859119864111842 +/- 0.04468484900915097\n",
      "simulation/runs/I0FUN3_MACMU_-10Q+10N_2024_08_17_01_08_1723858279/250\n"
     ]
    },
    {
     "name": "stderr",
     "output_type": "stream",
     "text": [
      "/home/ubuntu/CTP/simulation/runs/I0FUN3_MACMU_-10Q+10N_2024_08_17_01_08_1723858279/250/da.py:62: OptimizeWarning: Covariance of the parameters could not be estimated\n",
      "  popt, _ = curve_fit(super_gaussian, coords, avg_profile, p0=initial_guess, maxfev=20000)\n"
     ]
    },
    {
     "name": "stdout",
     "output_type": "stream",
     "text": [
      "Dense phase concentration: 0.4659833077155871 +/- 0.3826799806108528\n",
      "Dilute phase concentration: 5.562149122807017e-07 +/- 2.6675130100524087e-06\n",
      "simulation/runs/I0FUN3_MACMU_-10Q+10N_2024_08_17_01_08_1723858279/321\n"
     ]
    },
    {
     "name": "stderr",
     "output_type": "stream",
     "text": [
      "/home/ubuntu/CTP/simulation/runs/I0FUN3_MACMU_-10Q+10N_2024_08_17_01_08_1723858279/321/da.py:62: OptimizeWarning: Covariance of the parameters could not be estimated\n",
      "  popt, _ = curve_fit(super_gaussian, coords, avg_profile, p0=initial_guess, maxfev=20000)\n"
     ]
    },
    {
     "name": "stdout",
     "output_type": "stream",
     "text": [
      "Dense phase concentration: 0.33653344570731 +/- 0.27402629309897203\n",
      "Dilute phase concentration: 2.6790263157894736e-05 +/- 8.24853059923989e-05\n",
      "simulation/runs/I0FUN3_MACMU_-10Q+10N_2024_08_17_01_08_1723858279/349\n"
     ]
    },
    {
     "name": "stderr",
     "output_type": "stream",
     "text": [
      "/home/ubuntu/CTP/simulation/runs/I0FUN3_MACMU_-10Q+10N_2024_08_17_01_08_1723858279/349/da.py:62: OptimizeWarning: Covariance of the parameters could not be estimated\n",
      "  popt, _ = curve_fit(super_gaussian, coords, avg_profile, p0=initial_guess, maxfev=20000)\n"
     ]
    },
    {
     "name": "stdout",
     "output_type": "stream",
     "text": [
      "Dense phase concentration: 0.35205661196377713 +/- 0.17228742370750272\n",
      "Dilute phase concentration: 0.009103407299342106 +/- 0.02053412403341303\n",
      "simulation/runs/I0FUN3_MACMU_-10Q+10N_2024_08_17_01_08_1723858279/356\n"
     ]
    },
    {
     "name": "stderr",
     "output_type": "stream",
     "text": [
      "/home/ubuntu/CTP/simulation/runs/I0FUN3_MACMU_-10Q+10N_2024_08_17_01_08_1723858279/356/da.py:62: OptimizeWarning: Covariance of the parameters could not be estimated\n",
      "  popt, _ = curve_fit(super_gaussian, coords, avg_profile, p0=initial_guess, maxfev=20000)\n"
     ]
    },
    {
     "name": "stdout",
     "output_type": "stream",
     "text": [
      "Dense phase concentration: 0.3417573185092879 +/- 0.13036745488859708\n",
      "Dilute phase concentration: 0.03098943731907895 +/- 0.037765285092782756\n",
      "simulation/runs/I0FUN3_MACMU_-10Q+10N_2024_08_17_01_08_1723858279/370\n"
     ]
    },
    {
     "name": "stderr",
     "output_type": "stream",
     "text": [
      "/home/ubuntu/CTP/simulation/runs/I0FUN3_MACMU_-10Q+10N_2024_08_17_01_08_1723858279/370/da.py:62: OptimizeWarning: Covariance of the parameters could not be estimated\n",
      "  popt, _ = curve_fit(super_gaussian, coords, avg_profile, p0=initial_guess, maxfev=20000)\n"
     ]
    },
    {
     "name": "stdout",
     "output_type": "stream",
     "text": [
      "Dense phase concentration: 0.2598902556656346 +/- 0.06854297723466778\n",
      "Dilute phase concentration: 0.20495688342105262 +/- 0.09259949207748354\n",
      "simulation/runs/I0FUN3_MACMU_-10Q+10N_2024_08_17_01_08_1723858279/335\n"
     ]
    },
    {
     "name": "stderr",
     "output_type": "stream",
     "text": [
      "/home/ubuntu/CTP/simulation/runs/I0FUN3_MACMU_-10Q+10N_2024_08_17_01_08_1723858279/335/da.py:62: OptimizeWarning: Covariance of the parameters could not be estimated\n",
      "  popt, _ = curve_fit(super_gaussian, coords, avg_profile, p0=initial_guess, maxfev=20000)\n"
     ]
    },
    {
     "name": "stdout",
     "output_type": "stream",
     "text": [
      "Dense phase concentration: 0.2955019267473684 +/- 0.2478609495798282\n",
      "Dilute phase concentration: 0.0 +/- 0.0\n",
      "simulation/runs/I0FUN3_MACMU_-10Q+10N_2024_08_17_01_08_1723858279/270\n"
     ]
    },
    {
     "name": "stderr",
     "output_type": "stream",
     "text": [
      "/home/ubuntu/CTP/simulation/runs/I0FUN3_MACMU_-10Q+10N_2024_08_17_01_08_1723858279/270/da.py:62: OptimizeWarning: Covariance of the parameters could not be estimated\n",
      "  popt, _ = curve_fit(super_gaussian, coords, avg_profile, p0=initial_guess, maxfev=20000)\n"
     ]
    },
    {
     "name": "stdout",
     "output_type": "stream",
     "text": [
      "Dense phase concentration: 0.43269922659248117 +/- 0.35969941746906753\n",
      "Dilute phase concentration: 7.066866028708134e-08 +/- 3.2384448502666993e-07\n",
      "File densities_chunked_temp250.txt read successfully with 2 lines.\n",
      "Original data lines:\n",
      "Dense phase concentration: 0.4659833077155871 +/- 0.3826799806108528\n",
      "Dilute phase concentration: 5.562149122807017e-07 +/- 2.6675130100524087e-06\n",
      "Filtered data lines: 2\n",
      "Dense phase concentration: 0.4659833077155871 +/- 0.3826799806108528\n",
      "Dilute phase concentration: 5.562149122807017e-07 +/- 2.6675130100524087e-06\n",
      "File densities_chunked_temp270.txt read successfully with 2 lines.\n",
      "Original data lines:\n",
      "Dense phase concentration: 0.43269922659248117 +/- 0.35969941746906753\n",
      "Dilute phase concentration: 7.066866028708134e-08 +/- 3.2384448502666993e-07\n",
      "Filtered data lines: 2\n",
      "Dense phase concentration: 0.43269922659248117 +/- 0.35969941746906753\n",
      "Dilute phase concentration: 7.066866028708134e-08 +/- 3.2384448502666993e-07\n",
      "File densities_chunked_temp290.txt read successfully with 2 lines.\n",
      "Original data lines:\n",
      "Dense phase concentration: 0.39082121011680815 +/- 0.328618241190788\n",
      "Dilute phase concentration: 6.420901108033242e-06 +/- 2.0039917988609016e-05\n",
      "Filtered data lines: 2\n",
      "Dense phase concentration: 0.39082121011680815 +/- 0.328618241190788\n",
      "Dilute phase concentration: 6.420901108033242e-06 +/- 2.0039917988609016e-05\n",
      "File densities_chunked_temp300.txt read successfully with 2 lines.\n",
      "Original data lines:\n",
      "Dense phase concentration: 0.3786112111039474 +/- 0.3125482876709275\n",
      "Dilute phase concentration: 1.1115716374269006e-06 +/- 3.144284067307254e-06\n",
      "Filtered data lines: 2\n",
      "Dense phase concentration: 0.3786112111039474 +/- 0.3125482876709275\n",
      "Dilute phase concentration: 1.1115716374269006e-06 +/- 3.144284067307254e-06\n",
      "File densities_chunked_temp307.txt read successfully with 2 lines.\n",
      "Original data lines:\n",
      "Dense phase concentration: 0.3671385932191388 +/- 0.30049298594069673\n",
      "Dilute phase concentration: 3.465380804953561e-07 +/- 1.0621925826614518e-06\n",
      "Filtered data lines: 2\n",
      "Dense phase concentration: 0.3671385932191388 +/- 0.30049298594069673\n",
      "Dilute phase concentration: 3.465380804953561e-07 +/- 1.0621925826614518e-06\n",
      "File densities_chunked_temp314.txt read successfully with 2 lines.\n",
      "Original data lines:\n",
      "Dense phase concentration: 0.3563332011727554 +/- 0.2885215510916133\n",
      "Dilute phase concentration: 1.568258552631579e-05 +/- 3.622339301787042e-05\n",
      "Filtered data lines: 2\n",
      "Dense phase concentration: 0.3563332011727554 +/- 0.2885215510916133\n",
      "Dilute phase concentration: 1.568258552631579e-05 +/- 3.622339301787042e-05\n",
      "File densities_chunked_temp321.txt read successfully with 2 lines.\n",
      "Original data lines:\n",
      "Dense phase concentration: 0.33653344570731 +/- 0.27402629309897203\n",
      "Dilute phase concentration: 2.6790263157894736e-05 +/- 8.24853059923989e-05\n",
      "Filtered data lines: 2\n",
      "Dense phase concentration: 0.33653344570731 +/- 0.27402629309897203\n",
      "Dilute phase concentration: 2.6790263157894736e-05 +/- 8.24853059923989e-05\n",
      "File densities_chunked_temp328.txt read successfully with 2 lines.\n",
      "Original data lines:\n",
      "Dense phase concentration: 0.3188272351162049 +/- 0.26403705825217305\n",
      "Dilute phase concentration: 1.2034882894736841e-05 +/- 3.908766995804731e-05\n",
      "Filtered data lines: 2\n",
      "Dense phase concentration: 0.3188272351162049 +/- 0.26403705825217305\n",
      "Dilute phase concentration: 1.2034882894736841e-05 +/- 3.908766995804731e-05\n",
      "File densities_chunked_temp335.txt read successfully with 2 lines.\n",
      "Original data lines:\n",
      "Dense phase concentration: 0.2955019267473684 +/- 0.2478609495798282\n",
      "Dilute phase concentration: 0.0 +/- 0.0\n",
      "Filtered data lines: 2\n",
      "Dense phase concentration: 0.2955019267473684 +/- 0.2478609495798282\n",
      "Dilute phase concentration: 0.0 +/- 0.0\n",
      "File densities_chunked_temp342.txt read successfully with 2 lines.\n",
      "Original data lines:\n",
      "Dense phase concentration: 0.2877706482656641 +/- 0.2306591199763036\n",
      "Dilute phase concentration: 0.0036514500835526315 +/- 0.0010070833543175174\n",
      "Filtered data lines: 2\n",
      "Dense phase concentration: 0.2877706482656641 +/- 0.2306591199763036\n",
      "Dilute phase concentration: 0.0036514500835526315 +/- 0.0010070833543175174\n",
      "File densities_chunked_temp349.txt read successfully with 2 lines.\n",
      "Original data lines:\n",
      "Dense phase concentration: 0.35205661196377713 +/- 0.17228742370750272\n",
      "Dilute phase concentration: 0.009103407299342106 +/- 0.02053412403341303\n",
      "Filtered data lines: 2\n",
      "Dense phase concentration: 0.35205661196377713 +/- 0.17228742370750272\n",
      "Dilute phase concentration: 0.009103407299342106 +/- 0.02053412403341303\n",
      "File densities_chunked_temp356.txt read successfully with 2 lines.\n",
      "Original data lines:\n",
      "Dense phase concentration: 0.3417573185092879 +/- 0.13036745488859708\n",
      "Dilute phase concentration: 0.03098943731907895 +/- 0.037765285092782756\n",
      "Filtered data lines: 2\n",
      "Dense phase concentration: 0.3417573185092879 +/- 0.13036745488859708\n",
      "Dilute phase concentration: 0.03098943731907895 +/- 0.037765285092782756\n",
      "File densities_chunked_temp363.txt read successfully with 2 lines.\n",
      "Original data lines:\n",
      "Dense phase concentration: 0.33347412352941175 +/- 0.0739787071624391\n",
      "Dilute phase concentration: 0.04859119864111842 +/- 0.04468484900915097\n",
      "Filtered data lines: 2\n",
      "Dense phase concentration: 0.33347412352941175 +/- 0.0739787071624391\n",
      "Dilute phase concentration: 0.04859119864111842 +/- 0.04468484900915097\n",
      "File densities_chunked_temp370.txt read successfully with 2 lines.\n",
      "Original data lines:\n",
      "Dense phase concentration: 0.2598902556656346 +/- 0.06854297723466778\n",
      "Dilute phase concentration: 0.20495688342105262 +/- 0.09259949207748354\n",
      "Filtered data lines: 2\n",
      "Dense phase concentration: 0.2598902556656346 +/- 0.06854297723466778\n",
      "Dilute phase concentration: 0.20495688342105262 +/- 0.09259949207748354\n",
      "Temperatures: [250, 270, 290, 300, 307, 314, 321, 328, 335, 342, 349, 356, 363, 370]\n",
      "Dense phase concentrations: [0.4659833077155871, 0.43269922659248117, 0.39082121011680815, 0.3786112111039474, 0.3671385932191388, 0.3563332011727554, 0.33653344570731, 0.3188272351162049, 0.2955019267473684, 0.2877706482656641, 0.35205661196377713, 0.3417573185092879, 0.33347412352941175, 0.2598902556656346]\n",
      "Dilute phase concentrations: [5.562149122807017e-07, 7.066866028708134e-08, 6.420901108033242e-06, 1.1115716374269006e-06, 3.465380804953561e-07, 1.568258552631579e-05, 2.6790263157894736e-05, 1.2034882894736841e-05, 0.0, 0.0036514500835526315, 0.009103407299342106, 0.03098943731907895, 0.04859119864111842, 0.20495688342105262]\n",
      "Dense std dev: [0.3826799806108528, 0.35969941746906753, 0.328618241190788, 0.3125482876709275, 0.30049298594069673, 0.2885215510916133, 0.27402629309897203, 0.26403705825217305, 0.2478609495798282, 0.2306591199763036, 0.17228742370750272, 0.13036745488859708, 0.0739787071624391, 0.06854297723466778]\n",
      "Dilute std dev: [2.6675130100524087e-06, 3.2384448502666993e-07, 2.0039917988609016e-05, 3.144284067307254e-06, 1.0621925826614518e-06, 3.622339301787042e-05, 8.24853059923989e-05, 3.908766995804731e-05, 0.0, 0.0010070833543175174, 0.02053412403341303, 0.037765285092782756, 0.04468484900915097, 0.09259949207748354]\n",
      "Critical Solution Temperature: 382.61 K written to critical_solution_temperature.txt\n",
      "execution time: 2.69879244003031 hours\n",
      "17-Aug-24 | 04:13\n",
      "\n",
      "\n",
      "running simulation for I0FUN3_MACMU_-15Q+15N\n",
      "17-Aug-24 | 04:13\n",
      "seq len 93\n",
      "total temps 14\n",
      "simulation/runs/I0FUN3_MACMU_-15Q+15N_2024_08_17_04_08_1723867994\n"
     ]
    },
    {
     "name": "stderr",
     "output_type": "stream",
     "text": [
      "/home/ubuntu/CTP/simulation/runs/I0FUN3_MACMU_-15Q+15N_2024_08_17_04_08_1723867994/seq2config.py:67: DeprecationWarning: Conversion of an array with ndim > 0 to a scalar is deprecated, and will error in future. Ensure you extract a single element from your array before performing this operation. (Deprecated NumPy 1.25.)\n",
      "  typescharges.append([int(types[p,1]),float(charges[k,1])])\n"
     ]
    },
    {
     "name": "stdout",
     "output_type": "stream",
     "text": [
      "step 1: running input single chain\n",
      "step 2: running compress single chain\n",
      "step 3: direct coexistence\n",
      "running [{'temp': 250, 'dir': 'simulation/runs/I0FUN3_MACMU_-15Q+15N_2024_08_17_04_08_1723867994/250'}, {'temp': 270, 'dir': 'simulation/runs/I0FUN3_MACMU_-15Q+15N_2024_08_17_04_08_1723867994/270'}, {'temp': 290, 'dir': 'simulation/runs/I0FUN3_MACMU_-15Q+15N_2024_08_17_04_08_1723867994/290'}, {'temp': 300, 'dir': 'simulation/runs/I0FUN3_MACMU_-15Q+15N_2024_08_17_04_08_1723867994/300'}, {'temp': 307, 'dir': 'simulation/runs/I0FUN3_MACMU_-15Q+15N_2024_08_17_04_08_1723867994/307'}, {'temp': 314, 'dir': 'simulation/runs/I0FUN3_MACMU_-15Q+15N_2024_08_17_04_08_1723867994/314'}]\n",
      "17-Aug-24 | 04:16\n",
      "execution time: 1.1839472379287084 hours\n",
      "17-Aug-24 | 05:27\n",
      "running [{'temp': 321, 'dir': 'simulation/runs/I0FUN3_MACMU_-15Q+15N_2024_08_17_04_08_1723867994/321'}, {'temp': 328, 'dir': 'simulation/runs/I0FUN3_MACMU_-15Q+15N_2024_08_17_04_08_1723867994/328'}, {'temp': 335, 'dir': 'simulation/runs/I0FUN3_MACMU_-15Q+15N_2024_08_17_04_08_1723867994/335'}, {'temp': 342, 'dir': 'simulation/runs/I0FUN3_MACMU_-15Q+15N_2024_08_17_04_08_1723867994/342'}, {'temp': 349, 'dir': 'simulation/runs/I0FUN3_MACMU_-15Q+15N_2024_08_17_04_08_1723867994/349'}, {'temp': 356, 'dir': 'simulation/runs/I0FUN3_MACMU_-15Q+15N_2024_08_17_04_08_1723867994/356'}]\n",
      "17-Aug-24 | 05:27\n",
      "execution time: 0.9638577915562524 hours\n",
      "17-Aug-24 | 06:25\n",
      "running [{'temp': 363, 'dir': 'simulation/runs/I0FUN3_MACMU_-15Q+15N_2024_08_17_04_08_1723867994/363'}, {'temp': 370, 'dir': 'simulation/runs/I0FUN3_MACMU_-15Q+15N_2024_08_17_04_08_1723867994/370'}]\n",
      "remaining temp, CPUs_pp = 48\n",
      "17-Aug-24 | 06:25\n",
      "execution time: 0.47363938106430903 hours\n",
      "17-Aug-24 | 06:53\n",
      "calculating ps densities\n",
      "simulation/runs/I0FUN3_MACMU_-15Q+15N_2024_08_17_04_08_1723867994/300\n"
     ]
    },
    {
     "name": "stderr",
     "output_type": "stream",
     "text": [
      "/home/ubuntu/CTP/simulation/runs/I0FUN3_MACMU_-15Q+15N_2024_08_17_04_08_1723867994/300/da.py:62: OptimizeWarning: Covariance of the parameters could not be estimated\n",
      "  popt, _ = curve_fit(super_gaussian, coords, avg_profile, p0=initial_guess, maxfev=20000)\n"
     ]
    },
    {
     "name": "stdout",
     "output_type": "stream",
     "text": [
      "Dense phase concentration: 0.3662093489210526 +/- 0.3034659735065715\n",
      "Dilute phase concentration: 4.033529411764706e-07 +/- 1.6134117647058823e-06\n",
      "simulation/runs/I0FUN3_MACMU_-15Q+15N_2024_08_17_04_08_1723867994/314\n"
     ]
    },
    {
     "name": "stderr",
     "output_type": "stream",
     "text": [
      "/home/ubuntu/CTP/simulation/runs/I0FUN3_MACMU_-15Q+15N_2024_08_17_04_08_1723867994/314/da.py:62: OptimizeWarning: Covariance of the parameters could not be estimated\n",
      "  popt, _ = curve_fit(super_gaussian, coords, avg_profile, p0=initial_guess, maxfev=20000)\n"
     ]
    },
    {
     "name": "stdout",
     "output_type": "stream",
     "text": [
      "Dense phase concentration: 0.3452832873502256 +/- 0.2841171466851906\n",
      "Dilute phase concentration: 0.0 +/- 0.0\n",
      "simulation/runs/I0FUN3_MACMU_-15Q+15N_2024_08_17_04_08_1723867994/290\n"
     ]
    },
    {
     "name": "stderr",
     "output_type": "stream",
     "text": [
      "/home/ubuntu/CTP/simulation/runs/I0FUN3_MACMU_-15Q+15N_2024_08_17_04_08_1723867994/290/da.py:62: OptimizeWarning: Covariance of the parameters could not be estimated\n",
      "  popt, _ = curve_fit(super_gaussian, coords, avg_profile, p0=initial_guess, maxfev=20000)\n"
     ]
    },
    {
     "name": "stdout",
     "output_type": "stream",
     "text": [
      "Dense phase concentration: 0.38983551165161284 +/- 0.3271063881021221\n",
      "Dilute phase concentration: 7.455235457063711e-07 +/- 3.162988528219284e-06\n",
      "simulation/runs/I0FUN3_MACMU_-15Q+15N_2024_08_17_04_08_1723867994/342\n"
     ]
    },
    {
     "name": "stderr",
     "output_type": "stream",
     "text": [
      "/home/ubuntu/CTP/simulation/runs/I0FUN3_MACMU_-15Q+15N_2024_08_17_04_08_1723867994/342/da.py:62: OptimizeWarning: Covariance of the parameters could not be estimated\n",
      "  popt, _ = curve_fit(super_gaussian, coords, avg_profile, p0=initial_guess, maxfev=20000)\n"
     ]
    },
    {
     "name": "stdout",
     "output_type": "stream",
     "text": [
      "Dense phase concentration: 0.28008525249375765 +/- 0.23251951518176345\n",
      "Dilute phase concentration: 0.0058927433834586465 +/- 0.0010097934708997156\n",
      "simulation/runs/I0FUN3_MACMU_-15Q+15N_2024_08_17_04_08_1723867994/328\n"
     ]
    },
    {
     "name": "stderr",
     "output_type": "stream",
     "text": [
      "/home/ubuntu/CTP/simulation/runs/I0FUN3_MACMU_-15Q+15N_2024_08_17_04_08_1723867994/328/da.py:62: OptimizeWarning: Covariance of the parameters could not be estimated\n",
      "  popt, _ = curve_fit(super_gaussian, coords, avg_profile, p0=initial_guess, maxfev=20000)\n"
     ]
    },
    {
     "name": "stdout",
     "output_type": "stream",
     "text": [
      "Dense phase concentration: 0.3098676573058029 +/- 0.2593899000513295\n",
      "Dilute phase concentration: 6.901416267942584e-06 +/- 2.182419448763746e-05\n",
      "simulation/runs/I0FUN3_MACMU_-15Q+15N_2024_08_17_04_08_1723867994/307\n"
     ]
    },
    {
     "name": "stderr",
     "output_type": "stream",
     "text": [
      "/home/ubuntu/CTP/simulation/runs/I0FUN3_MACMU_-15Q+15N_2024_08_17_04_08_1723867994/307/da.py:62: OptimizeWarning: Covariance of the parameters could not be estimated\n",
      "  popt, _ = curve_fit(super_gaussian, coords, avg_profile, p0=initial_guess, maxfev=20000)\n"
     ]
    },
    {
     "name": "stdout",
     "output_type": "stream",
     "text": [
      "Dense phase concentration: 0.35543670372399383 +/- 0.29922332008792935\n",
      "Dilute phase concentration: 4.178250986842106e-06 +/- 1.2077698491568092e-05\n",
      "simulation/runs/I0FUN3_MACMU_-15Q+15N_2024_08_17_04_08_1723867994/363\n"
     ]
    },
    {
     "name": "stderr",
     "output_type": "stream",
     "text": [
      "/home/ubuntu/CTP/simulation/runs/I0FUN3_MACMU_-15Q+15N_2024_08_17_04_08_1723867994/363/da.py:62: OptimizeWarning: Covariance of the parameters could not be estimated\n",
      "  popt, _ = curve_fit(super_gaussian, coords, avg_profile, p0=initial_guess, maxfev=20000)\n"
     ]
    },
    {
     "name": "stdout",
     "output_type": "stream",
     "text": [
      "Dense phase concentration: 0.3008453915727554 +/- 0.11491077340019913\n",
      "Dilute phase concentration: 0.11601076743980263 +/- 0.073847150898014\n",
      "simulation/runs/I0FUN3_MACMU_-15Q+15N_2024_08_17_04_08_1723867994/250\n"
     ]
    },
    {
     "name": "stderr",
     "output_type": "stream",
     "text": [
      "/home/ubuntu/CTP/simulation/runs/I0FUN3_MACMU_-15Q+15N_2024_08_17_04_08_1723867994/250/da.py:62: OptimizeWarning: Covariance of the parameters could not be estimated\n",
      "  popt, _ = curve_fit(super_gaussian, coords, avg_profile, p0=initial_guess, maxfev=20000)\n"
     ]
    },
    {
     "name": "stdout",
     "output_type": "stream",
     "text": [
      "Dense phase concentration: 0.44758739655009744 +/- 0.38490631446840046\n",
      "Dilute phase concentration: 2.4099567505720825e-06 +/- 1.1303699123376157e-05\n",
      "simulation/runs/I0FUN3_MACMU_-15Q+15N_2024_08_17_04_08_1723867994/321\n"
     ]
    },
    {
     "name": "stderr",
     "output_type": "stream",
     "text": [
      "/home/ubuntu/CTP/simulation/runs/I0FUN3_MACMU_-15Q+15N_2024_08_17_04_08_1723867994/321/da.py:62: OptimizeWarning: Covariance of the parameters could not be estimated\n",
      "  popt, _ = curve_fit(super_gaussian, coords, avg_profile, p0=initial_guess, maxfev=20000)\n"
     ]
    },
    {
     "name": "stdout",
     "output_type": "stream",
     "text": [
      "Dense phase concentration: 0.3266193246456614 +/- 0.2739759419974442\n",
      "Dilute phase concentration: 0.0 +/- 0.0\n",
      "simulation/runs/I0FUN3_MACMU_-15Q+15N_2024_08_17_04_08_1723867994/349\n"
     ]
    },
    {
     "name": "stderr",
     "output_type": "stream",
     "text": [
      "/home/ubuntu/CTP/simulation/runs/I0FUN3_MACMU_-15Q+15N_2024_08_17_04_08_1723867994/349/da.py:62: OptimizeWarning: Covariance of the parameters could not be estimated\n",
      "  popt, _ = curve_fit(super_gaussian, coords, avg_profile, p0=initial_guess, maxfev=20000)\n"
     ]
    },
    {
     "name": "stdout",
     "output_type": "stream",
     "text": [
      "Dense phase concentration: 0.25678886732967526 +/- 0.19888928827921795\n",
      "Dilute phase concentration: 0.005279503801754386 +/- 0.0014332172134238826\n",
      "simulation/runs/I0FUN3_MACMU_-15Q+15N_2024_08_17_04_08_1723867994/356\n"
     ]
    },
    {
     "name": "stderr",
     "output_type": "stream",
     "text": [
      "/home/ubuntu/CTP/simulation/runs/I0FUN3_MACMU_-15Q+15N_2024_08_17_04_08_1723867994/356/da.py:62: OptimizeWarning: Covariance of the parameters could not be estimated\n",
      "  popt, _ = curve_fit(super_gaussian, coords, avg_profile, p0=initial_guess, maxfev=20000)\n"
     ]
    },
    {
     "name": "stdout",
     "output_type": "stream",
     "text": [
      "Dense phase concentration: 0.3323742971687307 +/- 0.10773549588643432\n",
      "Dilute phase concentration: 0.04901182082072368 +/- 0.03784613070613764\n",
      "simulation/runs/I0FUN3_MACMU_-15Q+15N_2024_08_17_04_08_1723867994/370\n"
     ]
    },
    {
     "name": "stderr",
     "output_type": "stream",
     "text": [
      "/home/ubuntu/CTP/simulation/runs/I0FUN3_MACMU_-15Q+15N_2024_08_17_04_08_1723867994/370/da.py:62: OptimizeWarning: Covariance of the parameters could not be estimated\n",
      "  popt, _ = curve_fit(super_gaussian, coords, avg_profile, p0=initial_guess, maxfev=20000)\n"
     ]
    },
    {
     "name": "stdout",
     "output_type": "stream",
     "text": [
      "Dense phase concentration: 0.2845970452012384 +/- 0.04699504164978535\n",
      "Dilute phase concentration: 0.15053847059210526 +/- 0.0782897998616682\n",
      "simulation/runs/I0FUN3_MACMU_-15Q+15N_2024_08_17_04_08_1723867994/335\n"
     ]
    },
    {
     "name": "stderr",
     "output_type": "stream",
     "text": [
      "/home/ubuntu/CTP/simulation/runs/I0FUN3_MACMU_-15Q+15N_2024_08_17_04_08_1723867994/335/da.py:62: OptimizeWarning: Covariance of the parameters could not be estimated\n",
      "  popt, _ = curve_fit(super_gaussian, coords, avg_profile, p0=initial_guess, maxfev=20000)\n"
     ]
    },
    {
     "name": "stdout",
     "output_type": "stream",
     "text": [
      "Dense phase concentration: 0.2936692235634146 +/- 0.24080509772792513\n",
      "Dilute phase concentration: 0.004941821784210526 +/- 0.0017651188545501075\n",
      "simulation/runs/I0FUN3_MACMU_-15Q+15N_2024_08_17_04_08_1723867994/270\n"
     ]
    },
    {
     "name": "stderr",
     "output_type": "stream",
     "text": [
      "/home/ubuntu/CTP/simulation/runs/I0FUN3_MACMU_-15Q+15N_2024_08_17_04_08_1723867994/270/da.py:62: OptimizeWarning: Covariance of the parameters could not be estimated\n",
      "  popt, _ = curve_fit(super_gaussian, coords, avg_profile, p0=initial_guess, maxfev=20000)\n"
     ]
    },
    {
     "name": "stdout",
     "output_type": "stream",
     "text": [
      "Dense phase concentration: 0.41672121358003633 +/- 0.35261076732015717\n",
      "Dilute phase concentration: 0.0 +/- 0.0\n",
      "File densities_chunked_temp250.txt read successfully with 2 lines.\n",
      "Original data lines:\n",
      "Dense phase concentration: 0.44758739655009744 +/- 0.38490631446840046\n",
      "Dilute phase concentration: 2.4099567505720825e-06 +/- 1.1303699123376157e-05\n",
      "Filtered data lines: 2\n",
      "Dense phase concentration: 0.44758739655009744 +/- 0.38490631446840046\n",
      "Dilute phase concentration: 2.4099567505720825e-06 +/- 1.1303699123376157e-05\n",
      "File densities_chunked_temp270.txt read successfully with 2 lines.\n",
      "Original data lines:\n",
      "Dense phase concentration: 0.41672121358003633 +/- 0.35261076732015717\n",
      "Dilute phase concentration: 0.0 +/- 0.0\n",
      "Filtered data lines: 2\n",
      "Dense phase concentration: 0.41672121358003633 +/- 0.35261076732015717\n",
      "Dilute phase concentration: 0.0 +/- 0.0\n",
      "File densities_chunked_temp290.txt read successfully with 2 lines.\n",
      "Original data lines:\n",
      "Dense phase concentration: 0.38983551165161284 +/- 0.3271063881021221\n",
      "Dilute phase concentration: 7.455235457063711e-07 +/- 3.162988528219284e-06\n",
      "Filtered data lines: 2\n",
      "Dense phase concentration: 0.38983551165161284 +/- 0.3271063881021221\n",
      "Dilute phase concentration: 7.455235457063711e-07 +/- 3.162988528219284e-06\n",
      "File densities_chunked_temp300.txt read successfully with 2 lines.\n",
      "Original data lines:\n",
      "Dense phase concentration: 0.3662093489210526 +/- 0.3034659735065715\n",
      "Dilute phase concentration: 4.033529411764706e-07 +/- 1.6134117647058823e-06\n",
      "Filtered data lines: 2\n",
      "Dense phase concentration: 0.3662093489210526 +/- 0.3034659735065715\n",
      "Dilute phase concentration: 4.033529411764706e-07 +/- 1.6134117647058823e-06\n",
      "File densities_chunked_temp307.txt read successfully with 2 lines.\n",
      "Original data lines:\n",
      "Dense phase concentration: 0.35543670372399383 +/- 0.29922332008792935\n",
      "Dilute phase concentration: 4.178250986842106e-06 +/- 1.2077698491568092e-05\n",
      "Filtered data lines: 2\n",
      "Dense phase concentration: 0.35543670372399383 +/- 0.29922332008792935\n",
      "Dilute phase concentration: 4.178250986842106e-06 +/- 1.2077698491568092e-05\n",
      "File densities_chunked_temp314.txt read successfully with 2 lines.\n",
      "Original data lines:\n",
      "Dense phase concentration: 0.3452832873502256 +/- 0.2841171466851906\n",
      "Dilute phase concentration: 0.0 +/- 0.0\n",
      "Filtered data lines: 2\n",
      "Dense phase concentration: 0.3452832873502256 +/- 0.2841171466851906\n",
      "Dilute phase concentration: 0.0 +/- 0.0\n",
      "File densities_chunked_temp321.txt read successfully with 2 lines.\n",
      "Original data lines:\n",
      "Dense phase concentration: 0.3266193246456614 +/- 0.2739759419974442\n",
      "Dilute phase concentration: 0.0 +/- 0.0\n",
      "Filtered data lines: 2\n",
      "Dense phase concentration: 0.3266193246456614 +/- 0.2739759419974442\n",
      "Dilute phase concentration: 0.0 +/- 0.0\n",
      "File densities_chunked_temp328.txt read successfully with 2 lines.\n",
      "Original data lines:\n",
      "Dense phase concentration: 0.3098676573058029 +/- 0.2593899000513295\n",
      "Dilute phase concentration: 6.901416267942584e-06 +/- 2.182419448763746e-05\n",
      "Filtered data lines: 2\n",
      "Dense phase concentration: 0.3098676573058029 +/- 0.2593899000513295\n",
      "Dilute phase concentration: 6.901416267942584e-06 +/- 2.182419448763746e-05\n",
      "File densities_chunked_temp335.txt read successfully with 2 lines.\n",
      "Original data lines:\n",
      "Dense phase concentration: 0.2936692235634146 +/- 0.24080509772792513\n",
      "Dilute phase concentration: 0.004941821784210526 +/- 0.0017651188545501075\n",
      "Filtered data lines: 2\n",
      "Dense phase concentration: 0.2936692235634146 +/- 0.24080509772792513\n",
      "Dilute phase concentration: 0.004941821784210526 +/- 0.0017651188545501075\n",
      "File densities_chunked_temp342.txt read successfully with 2 lines.\n",
      "Original data lines:\n",
      "Dense phase concentration: 0.28008525249375765 +/- 0.23251951518176345\n",
      "Dilute phase concentration: 0.0058927433834586465 +/- 0.0010097934708997156\n",
      "Filtered data lines: 2\n",
      "Dense phase concentration: 0.28008525249375765 +/- 0.23251951518176345\n",
      "Dilute phase concentration: 0.0058927433834586465 +/- 0.0010097934708997156\n",
      "File densities_chunked_temp349.txt read successfully with 2 lines.\n",
      "Original data lines:\n",
      "Dense phase concentration: 0.25678886732967526 +/- 0.19888928827921795\n",
      "Dilute phase concentration: 0.005279503801754386 +/- 0.0014332172134238826\n",
      "Filtered data lines: 2\n",
      "Dense phase concentration: 0.25678886732967526 +/- 0.19888928827921795\n",
      "Dilute phase concentration: 0.005279503801754386 +/- 0.0014332172134238826\n",
      "File densities_chunked_temp356.txt read successfully with 2 lines.\n",
      "Original data lines:\n",
      "Dense phase concentration: 0.3323742971687307 +/- 0.10773549588643432\n",
      "Dilute phase concentration: 0.04901182082072368 +/- 0.03784613070613764\n",
      "Filtered data lines: 2\n",
      "Dense phase concentration: 0.3323742971687307 +/- 0.10773549588643432\n",
      "Dilute phase concentration: 0.04901182082072368 +/- 0.03784613070613764\n",
      "File densities_chunked_temp363.txt read successfully with 2 lines.\n",
      "Original data lines:\n",
      "Dense phase concentration: 0.3008453915727554 +/- 0.11491077340019913\n",
      "Dilute phase concentration: 0.11601076743980263 +/- 0.073847150898014\n",
      "Filtered data lines: 2\n",
      "Dense phase concentration: 0.3008453915727554 +/- 0.11491077340019913\n",
      "Dilute phase concentration: 0.11601076743980263 +/- 0.073847150898014\n",
      "File densities_chunked_temp370.txt read successfully with 2 lines.\n",
      "Original data lines:\n",
      "Dense phase concentration: 0.2845970452012384 +/- 0.04699504164978535\n",
      "Dilute phase concentration: 0.15053847059210526 +/- 0.0782897998616682\n",
      "Filtered data lines: 2\n",
      "Dense phase concentration: 0.2845970452012384 +/- 0.04699504164978535\n",
      "Dilute phase concentration: 0.15053847059210526 +/- 0.0782897998616682\n",
      "Temperatures: [250, 270, 290, 300, 307, 314, 321, 328, 335, 342, 349, 356, 363, 370]\n",
      "Dense phase concentrations: [0.44758739655009744, 0.41672121358003633, 0.38983551165161284, 0.3662093489210526, 0.35543670372399383, 0.3452832873502256, 0.3266193246456614, 0.3098676573058029, 0.2936692235634146, 0.28008525249375765, 0.25678886732967526, 0.3323742971687307, 0.3008453915727554, 0.2845970452012384]\n",
      "Dilute phase concentrations: [2.4099567505720825e-06, 0.0, 7.455235457063711e-07, 4.033529411764706e-07, 4.178250986842106e-06, 0.0, 0.0, 6.901416267942584e-06, 0.004941821784210526, 0.0058927433834586465, 0.005279503801754386, 0.04901182082072368, 0.11601076743980263, 0.15053847059210526]\n",
      "Dense std dev: [0.38490631446840046, 0.35261076732015717, 0.3271063881021221, 0.3034659735065715, 0.29922332008792935, 0.2841171466851906, 0.2739759419974442, 0.2593899000513295, 0.24080509772792513, 0.23251951518176345, 0.19888928827921795, 0.10773549588643432, 0.11491077340019913, 0.04699504164978535]\n",
      "Dilute std dev: [1.1303699123376157e-05, 0.0, 3.162988528219284e-06, 1.6134117647058823e-06, 1.2077698491568092e-05, 0.0, 0.0, 2.182419448763746e-05, 0.0017651188545501075, 0.0010097934708997156, 0.0014332172134238826, 0.03784613070613764, 0.073847150898014, 0.0782897998616682]\n",
      "Critical Solution Temperature: 372.74 K written to critical_solution_temperature.txt\n",
      "execution time: 2.6783869676457512 hours\n",
      "17-Aug-24 | 06:53\n",
      "\n",
      "\n",
      "running simulation for I0FUN3_MACMU_-5N+5Q\n",
      "17-Aug-24 | 06:53\n",
      "seq len 93\n",
      "total temps 14\n",
      "simulation/runs/I0FUN3_MACMU_-5N+5Q_2024_08_17_06_08_1723877636\n"
     ]
    },
    {
     "name": "stderr",
     "output_type": "stream",
     "text": [
      "/home/ubuntu/CTP/simulation/runs/I0FUN3_MACMU_-5N+5Q_2024_08_17_06_08_1723877636/seq2config.py:67: DeprecationWarning: Conversion of an array with ndim > 0 to a scalar is deprecated, and will error in future. Ensure you extract a single element from your array before performing this operation. (Deprecated NumPy 1.25.)\n",
      "  typescharges.append([int(types[p,1]),float(charges[k,1])])\n"
     ]
    },
    {
     "name": "stdout",
     "output_type": "stream",
     "text": [
      "step 1: running input single chain\n",
      "step 2: running compress single chain\n",
      "step 3: direct coexistence\n",
      "running [{'temp': 250, 'dir': 'simulation/runs/I0FUN3_MACMU_-5N+5Q_2024_08_17_06_08_1723877636/250'}, {'temp': 270, 'dir': 'simulation/runs/I0FUN3_MACMU_-5N+5Q_2024_08_17_06_08_1723877636/270'}, {'temp': 290, 'dir': 'simulation/runs/I0FUN3_MACMU_-5N+5Q_2024_08_17_06_08_1723877636/290'}, {'temp': 300, 'dir': 'simulation/runs/I0FUN3_MACMU_-5N+5Q_2024_08_17_06_08_1723877636/300'}, {'temp': 307, 'dir': 'simulation/runs/I0FUN3_MACMU_-5N+5Q_2024_08_17_06_08_1723877636/307'}, {'temp': 314, 'dir': 'simulation/runs/I0FUN3_MACMU_-5N+5Q_2024_08_17_06_08_1723877636/314'}]\n",
      "17-Aug-24 | 06:57\n",
      "execution time: 1.1904954155948426 hours\n",
      "17-Aug-24 | 08:08\n",
      "running [{'temp': 321, 'dir': 'simulation/runs/I0FUN3_MACMU_-5N+5Q_2024_08_17_06_08_1723877636/321'}, {'temp': 328, 'dir': 'simulation/runs/I0FUN3_MACMU_-5N+5Q_2024_08_17_06_08_1723877636/328'}, {'temp': 335, 'dir': 'simulation/runs/I0FUN3_MACMU_-5N+5Q_2024_08_17_06_08_1723877636/335'}, {'temp': 342, 'dir': 'simulation/runs/I0FUN3_MACMU_-5N+5Q_2024_08_17_06_08_1723877636/342'}, {'temp': 349, 'dir': 'simulation/runs/I0FUN3_MACMU_-5N+5Q_2024_08_17_06_08_1723877636/349'}, {'temp': 356, 'dir': 'simulation/runs/I0FUN3_MACMU_-5N+5Q_2024_08_17_06_08_1723877636/356'}]\n",
      "17-Aug-24 | 08:08\n",
      "execution time: 0.991508017314805 hours\n",
      "17-Aug-24 | 09:07\n",
      "running [{'temp': 363, 'dir': 'simulation/runs/I0FUN3_MACMU_-5N+5Q_2024_08_17_06_08_1723877636/363'}, {'temp': 370, 'dir': 'simulation/runs/I0FUN3_MACMU_-5N+5Q_2024_08_17_06_08_1723877636/370'}]\n",
      "remaining temp, CPUs_pp = 48\n",
      "17-Aug-24 | 09:07\n",
      "execution time: 0.505114181637764 hours\n",
      "17-Aug-24 | 09:38\n",
      "calculating ps densities\n",
      "simulation/runs/I0FUN3_MACMU_-5N+5Q_2024_08_17_06_08_1723877636/300\n"
     ]
    },
    {
     "name": "stderr",
     "output_type": "stream",
     "text": [
      "/home/ubuntu/CTP/simulation/runs/I0FUN3_MACMU_-5N+5Q_2024_08_17_06_08_1723877636/300/da.py:62: OptimizeWarning: Covariance of the parameters could not be estimated\n",
      "  popt, _ = curve_fit(super_gaussian, coords, avg_profile, p0=initial_guess, maxfev=20000)\n"
     ]
    },
    {
     "name": "stdout",
     "output_type": "stream",
     "text": [
      "Dense phase concentration: 0.3916349091044143 +/- 0.3240227128228158\n",
      "Dilute phase concentration: 2.2412022160664823e-07 +/- 6.8202573475425e-07\n",
      "simulation/runs/I0FUN3_MACMU_-5N+5Q_2024_08_17_06_08_1723877636/314\n"
     ]
    },
    {
     "name": "stderr",
     "output_type": "stream",
     "text": [
      "/home/ubuntu/CTP/simulation/runs/I0FUN3_MACMU_-5N+5Q_2024_08_17_06_08_1723877636/314/da.py:62: OptimizeWarning: Covariance of the parameters could not be estimated\n",
      "  popt, _ = curve_fit(super_gaussian, coords, avg_profile, p0=initial_guess, maxfev=20000)\n"
     ]
    },
    {
     "name": "stdout",
     "output_type": "stream",
     "text": [
      "Dense phase concentration: 0.36689386627862836 +/- 0.3007416014699293\n",
      "Dilute phase concentration: 0.0019522819074303407 +/- 0.0009563553147623128\n",
      "simulation/runs/I0FUN3_MACMU_-5N+5Q_2024_08_17_06_08_1723877636/290\n"
     ]
    },
    {
     "name": "stderr",
     "output_type": "stream",
     "text": [
      "/home/ubuntu/CTP/simulation/runs/I0FUN3_MACMU_-5N+5Q_2024_08_17_06_08_1723877636/290/da.py:62: OptimizeWarning: Covariance of the parameters could not be estimated\n",
      "  popt, _ = curve_fit(super_gaussian, coords, avg_profile, p0=initial_guess, maxfev=20000)\n"
     ]
    },
    {
     "name": "stdout",
     "output_type": "stream",
     "text": [
      "Dense phase concentration: 0.40468948148543854 +/- 0.33882213613193246\n",
      "Dilute phase concentration: 7.633447368421053e-08 +/- 3.3273425669783854e-07\n",
      "simulation/runs/I0FUN3_MACMU_-5N+5Q_2024_08_17_06_08_1723877636/342\n"
     ]
    },
    {
     "name": "stderr",
     "output_type": "stream",
     "text": [
      "/home/ubuntu/CTP/simulation/runs/I0FUN3_MACMU_-5N+5Q_2024_08_17_06_08_1723877636/342/da.py:62: OptimizeWarning: Covariance of the parameters could not be estimated\n",
      "  popt, _ = curve_fit(super_gaussian, coords, avg_profile, p0=initial_guess, maxfev=20000)\n"
     ]
    },
    {
     "name": "stdout",
     "output_type": "stream",
     "text": [
      "Dense phase concentration: 0.3034454892255263 +/- 0.24488964711234157\n",
      "Dilute phase concentration: 0.00028667203157894743 +/- 0.0004784637388716064\n",
      "simulation/runs/I0FUN3_MACMU_-5N+5Q_2024_08_17_06_08_1723877636/328\n"
     ]
    },
    {
     "name": "stderr",
     "output_type": "stream",
     "text": [
      "/home/ubuntu/CTP/simulation/runs/I0FUN3_MACMU_-5N+5Q_2024_08_17_06_08_1723877636/328/da.py:62: OptimizeWarning: Covariance of the parameters could not be estimated\n",
      "  popt, _ = curve_fit(super_gaussian, coords, avg_profile, p0=initial_guess, maxfev=20000)\n"
     ]
    },
    {
     "name": "stdout",
     "output_type": "stream",
     "text": [
      "Dense phase concentration: 0.3372401348356725 +/- 0.27653213392278925\n",
      "Dilute phase concentration: 2.956237593984963e-06 +/- 9.82635782101869e-06\n",
      "simulation/runs/I0FUN3_MACMU_-5N+5Q_2024_08_17_06_08_1723877636/307\n"
     ]
    },
    {
     "name": "stderr",
     "output_type": "stream",
     "text": [
      "/home/ubuntu/CTP/simulation/runs/I0FUN3_MACMU_-5N+5Q_2024_08_17_06_08_1723877636/307/da.py:62: OptimizeWarning: Covariance of the parameters could not be estimated\n",
      "  popt, _ = curve_fit(super_gaussian, coords, avg_profile, p0=initial_guess, maxfev=20000)\n"
     ]
    },
    {
     "name": "stdout",
     "output_type": "stream",
     "text": [
      "Dense phase concentration: 0.37939620718717104 +/- 0.31197591352218024\n",
      "Dilute phase concentration: 4.3605116959064327e-07 +/- 1.295850369096815e-06\n",
      "simulation/runs/I0FUN3_MACMU_-5N+5Q_2024_08_17_06_08_1723877636/363\n"
     ]
    },
    {
     "name": "stderr",
     "output_type": "stream",
     "text": [
      "/home/ubuntu/CTP/simulation/runs/I0FUN3_MACMU_-5N+5Q_2024_08_17_06_08_1723877636/363/da.py:62: OptimizeWarning: Covariance of the parameters could not be estimated\n",
      "  popt, _ = curve_fit(super_gaussian, coords, avg_profile, p0=initial_guess, maxfev=20000)\n"
     ]
    },
    {
     "name": "stdout",
     "output_type": "stream",
     "text": [
      "Dense phase concentration: 0.3473062533142415 +/- 0.12736162550158878\n",
      "Dilute phase concentration: 0.02076711495328947 +/- 0.02294946120441759\n",
      "simulation/runs/I0FUN3_MACMU_-5N+5Q_2024_08_17_06_08_1723877636/250\n"
     ]
    },
    {
     "name": "stderr",
     "output_type": "stream",
     "text": [
      "/home/ubuntu/CTP/simulation/runs/I0FUN3_MACMU_-5N+5Q_2024_08_17_06_08_1723877636/250/da.py:62: OptimizeWarning: Covariance of the parameters could not be estimated\n",
      "  popt, _ = curve_fit(super_gaussian, coords, avg_profile, p0=initial_guess, maxfev=20000)\n"
     ]
    },
    {
     "name": "stdout",
     "output_type": "stream",
     "text": [
      "Dense phase concentration: 0.4669493864710526 +/- 0.3889177153057231\n",
      "Dilute phase concentration: 6.361206140350877e-08 +/- 3.050727293418517e-07\n",
      "simulation/runs/I0FUN3_MACMU_-5N+5Q_2024_08_17_06_08_1723877636/321\n"
     ]
    },
    {
     "name": "stderr",
     "output_type": "stream",
     "text": [
      "/home/ubuntu/CTP/simulation/runs/I0FUN3_MACMU_-5N+5Q_2024_08_17_06_08_1723877636/321/da.py:62: OptimizeWarning: Covariance of the parameters could not be estimated\n",
      "  popt, _ = curve_fit(super_gaussian, coords, avg_profile, p0=initial_guess, maxfev=20000)\n"
     ]
    },
    {
     "name": "stdout",
     "output_type": "stream",
     "text": [
      "Dense phase concentration: 0.3468626914784963 +/- 0.29038947758555633\n",
      "Dilute phase concentration: 3.278347368421053e-05 +/- 9.72764969881554e-05\n",
      "simulation/runs/I0FUN3_MACMU_-5N+5Q_2024_08_17_06_08_1723877636/349\n"
     ]
    },
    {
     "name": "stderr",
     "output_type": "stream",
     "text": [
      "/home/ubuntu/CTP/simulation/runs/I0FUN3_MACMU_-5N+5Q_2024_08_17_06_08_1723877636/349/da.py:62: OptimizeWarning: Covariance of the parameters could not be estimated\n",
      "  popt, _ = curve_fit(super_gaussian, coords, avg_profile, p0=initial_guess, maxfev=20000)\n"
     ]
    },
    {
     "name": "stdout",
     "output_type": "stream",
     "text": [
      "Dense phase concentration: 0.2818491882164014 +/- 0.22907607828443555\n",
      "Dilute phase concentration: 0.00302440592556391 +/- 0.0027084928247721684\n",
      "simulation/runs/I0FUN3_MACMU_-5N+5Q_2024_08_17_06_08_1723877636/356\n"
     ]
    },
    {
     "name": "stderr",
     "output_type": "stream",
     "text": [
      "/home/ubuntu/CTP/simulation/runs/I0FUN3_MACMU_-5N+5Q_2024_08_17_06_08_1723877636/356/da.py:62: OptimizeWarning: Covariance of the parameters could not be estimated\n",
      "  popt, _ = curve_fit(super_gaussian, coords, avg_profile, p0=initial_guess, maxfev=20000)\n"
     ]
    },
    {
     "name": "stdout",
     "output_type": "stream",
     "text": [
      "Dense phase concentration: 0.35506266493065014 +/- 0.1731053808420029\n",
      "Dilute phase concentration: 0.004284725560526316 +/- 0.00581735081735947\n",
      "simulation/runs/I0FUN3_MACMU_-5N+5Q_2024_08_17_06_08_1723877636/370\n"
     ]
    },
    {
     "name": "stderr",
     "output_type": "stream",
     "text": [
      "/home/ubuntu/CTP/simulation/runs/I0FUN3_MACMU_-5N+5Q_2024_08_17_06_08_1723877636/370/da.py:62: OptimizeWarning: Covariance of the parameters could not be estimated\n",
      "  popt, _ = curve_fit(super_gaussian, coords, avg_profile, p0=initial_guess, maxfev=20000)\n"
     ]
    },
    {
     "name": "stdout",
     "output_type": "stream",
     "text": [
      "Dense phase concentration: 0.24397753278947373 +/- 0.14297730816082674\n",
      "Dilute phase concentration: 0.2403406473394737 +/- 0.06771993314636263\n",
      "simulation/runs/I0FUN3_MACMU_-5N+5Q_2024_08_17_06_08_1723877636/335\n"
     ]
    },
    {
     "name": "stderr",
     "output_type": "stream",
     "text": [
      "/home/ubuntu/CTP/simulation/runs/I0FUN3_MACMU_-5N+5Q_2024_08_17_06_08_1723877636/335/da.py:62: OptimizeWarning: Covariance of the parameters could not be estimated\n",
      "  popt, _ = curve_fit(super_gaussian, coords, avg_profile, p0=initial_guess, maxfev=20000)\n"
     ]
    },
    {
     "name": "stdout",
     "output_type": "stream",
     "text": [
      "Dense phase concentration: 0.3103314027605938 +/- 0.25812944065561855\n",
      "Dilute phase concentration: 0.003432876880382775 +/- 0.002740244996860118\n",
      "simulation/runs/I0FUN3_MACMU_-5N+5Q_2024_08_17_06_08_1723877636/270\n"
     ]
    },
    {
     "name": "stderr",
     "output_type": "stream",
     "text": [
      "/home/ubuntu/CTP/simulation/runs/I0FUN3_MACMU_-5N+5Q_2024_08_17_06_08_1723877636/270/da.py:62: OptimizeWarning: Covariance of the parameters could not be estimated\n",
      "  popt, _ = curve_fit(super_gaussian, coords, avg_profile, p0=initial_guess, maxfev=20000)\n"
     ]
    },
    {
     "name": "stdout",
     "output_type": "stream",
     "text": [
      "Dense phase concentration: 0.43359577731748117 +/- 0.36397013580964266\n",
      "Dilute phase concentration: 1.941e-07 +/- 8.894779423909283e-07\n",
      "File densities_chunked_temp250.txt read successfully with 2 lines.\n",
      "Original data lines:\n",
      "Dense phase concentration: 0.4669493864710526 +/- 0.3889177153057231\n",
      "Dilute phase concentration: 6.361206140350877e-08 +/- 3.050727293418517e-07\n",
      "Filtered data lines: 2\n",
      "Dense phase concentration: 0.4669493864710526 +/- 0.3889177153057231\n",
      "Dilute phase concentration: 6.361206140350877e-08 +/- 3.050727293418517e-07\n",
      "File densities_chunked_temp270.txt read successfully with 2 lines.\n",
      "Original data lines:\n",
      "Dense phase concentration: 0.43359577731748117 +/- 0.36397013580964266\n",
      "Dilute phase concentration: 1.941e-07 +/- 8.894779423909283e-07\n",
      "Filtered data lines: 2\n",
      "Dense phase concentration: 0.43359577731748117 +/- 0.36397013580964266\n",
      "Dilute phase concentration: 1.941e-07 +/- 8.894779423909283e-07\n",
      "File densities_chunked_temp290.txt read successfully with 2 lines.\n",
      "Original data lines:\n",
      "Dense phase concentration: 0.40468948148543854 +/- 0.33882213613193246\n",
      "Dilute phase concentration: 7.633447368421053e-08 +/- 3.3273425669783854e-07\n",
      "Filtered data lines: 2\n",
      "Dense phase concentration: 0.40468948148543854 +/- 0.33882213613193246\n",
      "Dilute phase concentration: 7.633447368421053e-08 +/- 3.3273425669783854e-07\n",
      "File densities_chunked_temp300.txt read successfully with 2 lines.\n",
      "Original data lines:\n",
      "Dense phase concentration: 0.3916349091044143 +/- 0.3240227128228158\n",
      "Dilute phase concentration: 2.2412022160664823e-07 +/- 6.8202573475425e-07\n",
      "Filtered data lines: 2\n",
      "Dense phase concentration: 0.3916349091044143 +/- 0.3240227128228158\n",
      "Dilute phase concentration: 2.2412022160664823e-07 +/- 6.8202573475425e-07\n",
      "File densities_chunked_temp307.txt read successfully with 2 lines.\n",
      "Original data lines:\n",
      "Dense phase concentration: 0.37939620718717104 +/- 0.31197591352218024\n",
      "Dilute phase concentration: 4.3605116959064327e-07 +/- 1.295850369096815e-06\n",
      "Filtered data lines: 2\n",
      "Dense phase concentration: 0.37939620718717104 +/- 0.31197591352218024\n",
      "Dilute phase concentration: 4.3605116959064327e-07 +/- 1.295850369096815e-06\n",
      "File densities_chunked_temp314.txt read successfully with 2 lines.\n",
      "Original data lines:\n",
      "Dense phase concentration: 0.36689386627862836 +/- 0.3007416014699293\n",
      "Dilute phase concentration: 0.0019522819074303407 +/- 0.0009563553147623128\n",
      "Filtered data lines: 2\n",
      "Dense phase concentration: 0.36689386627862836 +/- 0.3007416014699293\n",
      "Dilute phase concentration: 0.0019522819074303407 +/- 0.0009563553147623128\n",
      "File densities_chunked_temp321.txt read successfully with 2 lines.\n",
      "Original data lines:\n",
      "Dense phase concentration: 0.3468626914784963 +/- 0.29038947758555633\n",
      "Dilute phase concentration: 3.278347368421053e-05 +/- 9.72764969881554e-05\n",
      "Filtered data lines: 2\n",
      "Dense phase concentration: 0.3468626914784963 +/- 0.29038947758555633\n",
      "Dilute phase concentration: 3.278347368421053e-05 +/- 9.72764969881554e-05\n",
      "File densities_chunked_temp328.txt read successfully with 2 lines.\n",
      "Original data lines:\n",
      "Dense phase concentration: 0.3372401348356725 +/- 0.27653213392278925\n",
      "Dilute phase concentration: 2.956237593984963e-06 +/- 9.82635782101869e-06\n",
      "Filtered data lines: 2\n",
      "Dense phase concentration: 0.3372401348356725 +/- 0.27653213392278925\n",
      "Dilute phase concentration: 2.956237593984963e-06 +/- 9.82635782101869e-06\n",
      "File densities_chunked_temp335.txt read successfully with 2 lines.\n",
      "Original data lines:\n",
      "Dense phase concentration: 0.3103314027605938 +/- 0.25812944065561855\n",
      "Dilute phase concentration: 0.003432876880382775 +/- 0.002740244996860118\n",
      "Filtered data lines: 2\n",
      "Dense phase concentration: 0.3103314027605938 +/- 0.25812944065561855\n",
      "Dilute phase concentration: 0.003432876880382775 +/- 0.002740244996860118\n",
      "File densities_chunked_temp342.txt read successfully with 2 lines.\n",
      "Original data lines:\n",
      "Dense phase concentration: 0.3034454892255263 +/- 0.24488964711234157\n",
      "Dilute phase concentration: 0.00028667203157894743 +/- 0.0004784637388716064\n",
      "Filtered data lines: 2\n",
      "Dense phase concentration: 0.3034454892255263 +/- 0.24488964711234157\n",
      "Dilute phase concentration: 0.00028667203157894743 +/- 0.0004784637388716064\n",
      "File densities_chunked_temp349.txt read successfully with 2 lines.\n",
      "Original data lines:\n",
      "Dense phase concentration: 0.2818491882164014 +/- 0.22907607828443555\n",
      "Dilute phase concentration: 0.00302440592556391 +/- 0.0027084928247721684\n",
      "Filtered data lines: 2\n",
      "Dense phase concentration: 0.2818491882164014 +/- 0.22907607828443555\n",
      "Dilute phase concentration: 0.00302440592556391 +/- 0.0027084928247721684\n",
      "File densities_chunked_temp356.txt read successfully with 2 lines.\n",
      "Original data lines:\n",
      "Dense phase concentration: 0.35506266493065014 +/- 0.1731053808420029\n",
      "Dilute phase concentration: 0.004284725560526316 +/- 0.00581735081735947\n",
      "Filtered data lines: 2\n",
      "Dense phase concentration: 0.35506266493065014 +/- 0.1731053808420029\n",
      "Dilute phase concentration: 0.004284725560526316 +/- 0.00581735081735947\n",
      "File densities_chunked_temp363.txt read successfully with 2 lines.\n",
      "Original data lines:\n",
      "Dense phase concentration: 0.3473062533142415 +/- 0.12736162550158878\n",
      "Dilute phase concentration: 0.02076711495328947 +/- 0.02294946120441759\n",
      "Filtered data lines: 2\n",
      "Dense phase concentration: 0.3473062533142415 +/- 0.12736162550158878\n",
      "Dilute phase concentration: 0.02076711495328947 +/- 0.02294946120441759\n",
      "File densities_chunked_temp370.txt read successfully with 2 lines.\n",
      "Original data lines:\n",
      "Dense phase concentration: 0.24397753278947373 +/- 0.14297730816082674\n",
      "Dilute phase concentration: 0.2403406473394737 +/- 0.06771993314636263\n",
      "Filtered data lines: 2\n",
      "Dense phase concentration: 0.24397753278947373 +/- 0.14297730816082674\n",
      "Dilute phase concentration: 0.2403406473394737 +/- 0.06771993314636263\n",
      "Temperatures: [250, 270, 290, 300, 307, 314, 321, 328, 335, 342, 349, 356, 363, 370]\n",
      "Dense phase concentrations: [0.4669493864710526, 0.43359577731748117, 0.40468948148543854, 0.3916349091044143, 0.37939620718717104, 0.36689386627862836, 0.3468626914784963, 0.3372401348356725, 0.3103314027605938, 0.3034454892255263, 0.2818491882164014, 0.35506266493065014, 0.3473062533142415, 0.24397753278947373]\n",
      "Dilute phase concentrations: [6.361206140350877e-08, 1.941e-07, 7.633447368421053e-08, 2.2412022160664823e-07, 4.3605116959064327e-07, 0.0019522819074303407, 3.278347368421053e-05, 2.956237593984963e-06, 0.003432876880382775, 0.00028667203157894743, 0.00302440592556391, 0.004284725560526316, 0.02076711495328947, 0.2403406473394737]\n",
      "Dense std dev: [0.3889177153057231, 0.36397013580964266, 0.33882213613193246, 0.3240227128228158, 0.31197591352218024, 0.3007416014699293, 0.29038947758555633, 0.27653213392278925, 0.25812944065561855, 0.24488964711234157, 0.22907607828443555, 0.1731053808420029, 0.12736162550158878, 0.14297730816082674]\n",
      "Dilute std dev: [3.050727293418517e-07, 8.894779423909283e-07, 3.3273425669783854e-07, 6.8202573475425e-07, 1.295850369096815e-06, 0.0009563553147623128, 9.72764969881554e-05, 9.82635782101869e-06, 0.002740244996860118, 0.0004784637388716064, 0.0027084928247721684, 0.00581735081735947, 0.02294946120441759, 0.06771993314636263]\n",
      "Critical Solution Temperature: 387.99 K written to critical_solution_temperature.txt\n",
      "execution time: 2.7424099057912827 hours\n",
      "17-Aug-24 | 09:38\n",
      "\n",
      "\n",
      "running simulation for I0FUN3_MACMU_-5Q+5N\n",
      "17-Aug-24 | 09:38\n",
      "seq len 93\n",
      "total temps 14\n",
      "simulation/runs/I0FUN3_MACMU_-5Q+5N_2024_08_17_09_08_1723887509\n"
     ]
    },
    {
     "name": "stderr",
     "output_type": "stream",
     "text": [
      "/home/ubuntu/CTP/simulation/runs/I0FUN3_MACMU_-5Q+5N_2024_08_17_09_08_1723887509/seq2config.py:67: DeprecationWarning: Conversion of an array with ndim > 0 to a scalar is deprecated, and will error in future. Ensure you extract a single element from your array before performing this operation. (Deprecated NumPy 1.25.)\n",
      "  typescharges.append([int(types[p,1]),float(charges[k,1])])\n"
     ]
    },
    {
     "name": "stdout",
     "output_type": "stream",
     "text": [
      "step 1: running input single chain\n",
      "step 2: running compress single chain\n",
      "step 3: direct coexistence\n",
      "running [{'temp': 250, 'dir': 'simulation/runs/I0FUN3_MACMU_-5Q+5N_2024_08_17_09_08_1723887509/250'}, {'temp': 270, 'dir': 'simulation/runs/I0FUN3_MACMU_-5Q+5N_2024_08_17_09_08_1723887509/270'}, {'temp': 290, 'dir': 'simulation/runs/I0FUN3_MACMU_-5Q+5N_2024_08_17_09_08_1723887509/290'}, {'temp': 300, 'dir': 'simulation/runs/I0FUN3_MACMU_-5Q+5N_2024_08_17_09_08_1723887509/300'}, {'temp': 307, 'dir': 'simulation/runs/I0FUN3_MACMU_-5Q+5N_2024_08_17_09_08_1723887509/307'}, {'temp': 314, 'dir': 'simulation/runs/I0FUN3_MACMU_-5Q+5N_2024_08_17_09_08_1723887509/314'}]\n",
      "17-Aug-24 | 09:41\n",
      "execution time: 1.1836871509419546 hours\n",
      "17-Aug-24 | 10:52\n",
      "running [{'temp': 321, 'dir': 'simulation/runs/I0FUN3_MACMU_-5Q+5N_2024_08_17_09_08_1723887509/321'}, {'temp': 328, 'dir': 'simulation/runs/I0FUN3_MACMU_-5Q+5N_2024_08_17_09_08_1723887509/328'}, {'temp': 335, 'dir': 'simulation/runs/I0FUN3_MACMU_-5Q+5N_2024_08_17_09_08_1723887509/335'}, {'temp': 342, 'dir': 'simulation/runs/I0FUN3_MACMU_-5Q+5N_2024_08_17_09_08_1723887509/342'}, {'temp': 349, 'dir': 'simulation/runs/I0FUN3_MACMU_-5Q+5N_2024_08_17_09_08_1723887509/349'}, {'temp': 356, 'dir': 'simulation/runs/I0FUN3_MACMU_-5Q+5N_2024_08_17_09_08_1723887509/356'}]\n",
      "17-Aug-24 | 10:52\n",
      "execution time: 0.9768397960397932 hours\n",
      "17-Aug-24 | 11:51\n",
      "running [{'temp': 363, 'dir': 'simulation/runs/I0FUN3_MACMU_-5Q+5N_2024_08_17_09_08_1723887509/363'}, {'temp': 370, 'dir': 'simulation/runs/I0FUN3_MACMU_-5Q+5N_2024_08_17_09_08_1723887509/370'}]\n",
      "remaining temp, CPUs_pp = 48\n",
      "17-Aug-24 | 11:51\n",
      "execution time: 0.4865634144677056 hours\n",
      "17-Aug-24 | 12:20\n",
      "calculating ps densities\n",
      "simulation/runs/I0FUN3_MACMU_-5Q+5N_2024_08_17_09_08_1723887509/300\n"
     ]
    },
    {
     "name": "stderr",
     "output_type": "stream",
     "text": [
      "/home/ubuntu/CTP/simulation/runs/I0FUN3_MACMU_-5Q+5N_2024_08_17_09_08_1723887509/300/da.py:62: OptimizeWarning: Covariance of the parameters could not be estimated\n",
      "  popt, _ = curve_fit(super_gaussian, coords, avg_profile, p0=initial_guess, maxfev=20000)\n"
     ]
    },
    {
     "name": "stdout",
     "output_type": "stream",
     "text": [
      "Dense phase concentration: 0.37839509766315793 +/- 0.3167487731798287\n",
      "Dilute phase concentration: 2.3347321637426897e-06 +/- 7.0288404710608935e-06\n",
      "simulation/runs/I0FUN3_MACMU_-5Q+5N_2024_08_17_09_08_1723887509/314\n"
     ]
    },
    {
     "name": "stderr",
     "output_type": "stream",
     "text": [
      "/home/ubuntu/CTP/simulation/runs/I0FUN3_MACMU_-5Q+5N_2024_08_17_09_08_1723887509/314/da.py:62: OptimizeWarning: Covariance of the parameters could not be estimated\n",
      "  popt, _ = curve_fit(super_gaussian, coords, avg_profile, p0=initial_guess, maxfev=20000)\n"
     ]
    },
    {
     "name": "stdout",
     "output_type": "stream",
     "text": [
      "Dense phase concentration: 0.3459598480589473 +/- 0.29257456117035324\n",
      "Dilute phase concentration: 6.067701403508772e-06 +/- 1.4625219377727293e-05\n",
      "simulation/runs/I0FUN3_MACMU_-5Q+5N_2024_08_17_09_08_1723887509/290\n"
     ]
    },
    {
     "name": "stderr",
     "output_type": "stream",
     "text": [
      "/home/ubuntu/CTP/simulation/runs/I0FUN3_MACMU_-5Q+5N_2024_08_17_09_08_1723887509/290/da.py:62: OptimizeWarning: Covariance of the parameters could not be estimated\n",
      "  popt, _ = curve_fit(super_gaussian, coords, avg_profile, p0=initial_guess, maxfev=20000)\n"
     ]
    },
    {
     "name": "stdout",
     "output_type": "stream",
     "text": [
      "Dense phase concentration: 0.40362230056157894 +/- 0.32729953335673556\n",
      "Dilute phase concentration: 8.067263157894736e-07 +/- 3.516438485621196e-06\n",
      "simulation/runs/I0FUN3_MACMU_-5Q+5N_2024_08_17_09_08_1723887509/342\n"
     ]
    },
    {
     "name": "stderr",
     "output_type": "stream",
     "text": [
      "/home/ubuntu/CTP/simulation/runs/I0FUN3_MACMU_-5Q+5N_2024_08_17_09_08_1723887509/342/da.py:62: OptimizeWarning: Covariance of the parameters could not be estimated\n",
      "  popt, _ = curve_fit(super_gaussian, coords, avg_profile, p0=initial_guess, maxfev=20000)\n"
     ]
    },
    {
     "name": "stdout",
     "output_type": "stream",
     "text": [
      "Dense phase concentration: 0.288301318785589 +/- 0.23972540930913533\n",
      "Dilute phase concentration: 3.6538513157894736e-06 +/- 8.158919337467614e-06\n",
      "simulation/runs/I0FUN3_MACMU_-5Q+5N_2024_08_17_09_08_1723887509/328\n"
     ]
    },
    {
     "name": "stderr",
     "output_type": "stream",
     "text": [
      "/home/ubuntu/CTP/simulation/runs/I0FUN3_MACMU_-5Q+5N_2024_08_17_09_08_1723887509/328/da.py:62: OptimizeWarning: Covariance of the parameters could not be estimated\n",
      "  popt, _ = curve_fit(super_gaussian, coords, avg_profile, p0=initial_guess, maxfev=20000)\n"
     ]
    },
    {
     "name": "stdout",
     "output_type": "stream",
     "text": [
      "Dense phase concentration: 0.3186490486029086 +/- 0.26776660201331703\n",
      "Dilute phase concentration: 1.759732456140351e-06 +/- 5.836372288428085e-06\n",
      "simulation/runs/I0FUN3_MACMU_-5Q+5N_2024_08_17_09_08_1723887509/307\n"
     ]
    },
    {
     "name": "stderr",
     "output_type": "stream",
     "text": [
      "/home/ubuntu/CTP/simulation/runs/I0FUN3_MACMU_-5Q+5N_2024_08_17_09_08_1723887509/307/da.py:62: OptimizeWarning: Covariance of the parameters could not be estimated\n",
      "  popt, _ = curve_fit(super_gaussian, coords, avg_profile, p0=initial_guess, maxfev=20000)\n"
     ]
    },
    {
     "name": "stdout",
     "output_type": "stream",
     "text": [
      "Dense phase concentration: 0.366929811569059 +/- 0.3007839344041014\n",
      "Dilute phase concentration: 7.164767801857585e-08 +/- 2.865907120743034e-07\n",
      "simulation/runs/I0FUN3_MACMU_-5Q+5N_2024_08_17_09_08_1723887509/363\n"
     ]
    },
    {
     "name": "stderr",
     "output_type": "stream",
     "text": [
      "/home/ubuntu/CTP/simulation/runs/I0FUN3_MACMU_-5Q+5N_2024_08_17_09_08_1723887509/363/da.py:62: OptimizeWarning: Covariance of the parameters could not be estimated\n",
      "  popt, _ = curve_fit(super_gaussian, coords, avg_profile, p0=initial_guess, maxfev=20000)\n"
     ]
    },
    {
     "name": "stdout",
     "output_type": "stream",
     "text": [
      "Dense phase concentration: 0.3423426690402477 +/- 0.0879937117630033\n",
      "Dilute phase concentration: 0.02931465904276316 +/- 0.03302518296516114\n",
      "simulation/runs/I0FUN3_MACMU_-5Q+5N_2024_08_17_09_08_1723887509/250\n"
     ]
    },
    {
     "name": "stderr",
     "output_type": "stream",
     "text": [
      "/home/ubuntu/CTP/simulation/runs/I0FUN3_MACMU_-5Q+5N_2024_08_17_09_08_1723887509/250/da.py:62: OptimizeWarning: Covariance of the parameters could not be estimated\n",
      "  popt, _ = curve_fit(super_gaussian, coords, avg_profile, p0=initial_guess, maxfev=20000)\n"
     ]
    },
    {
     "name": "stdout",
     "output_type": "stream",
     "text": [
      "Dense phase concentration: 0.4657186565091094 +/- 0.3843330413629753\n",
      "Dilute phase concentration: 0.0 +/- 0.0\n",
      "simulation/runs/I0FUN3_MACMU_-5Q+5N_2024_08_17_09_08_1723887509/321\n"
     ]
    },
    {
     "name": "stderr",
     "output_type": "stream",
     "text": [
      "/home/ubuntu/CTP/simulation/runs/I0FUN3_MACMU_-5Q+5N_2024_08_17_09_08_1723887509/321/da.py:62: OptimizeWarning: Covariance of the parameters could not be estimated\n",
      "  popt, _ = curve_fit(super_gaussian, coords, avg_profile, p0=initial_guess, maxfev=20000)\n"
     ]
    },
    {
     "name": "stdout",
     "output_type": "stream",
     "text": [
      "Dense phase concentration: 0.3363512911004386 +/- 0.28531768604914\n",
      "Dilute phase concentration: 2.7788045112781956e-06 +/- 8.101733074022019e-06\n",
      "simulation/runs/I0FUN3_MACMU_-5Q+5N_2024_08_17_09_08_1723887509/349\n"
     ]
    },
    {
     "name": "stderr",
     "output_type": "stream",
     "text": [
      "/home/ubuntu/CTP/simulation/runs/I0FUN3_MACMU_-5Q+5N_2024_08_17_09_08_1723887509/349/da.py:62: OptimizeWarning: Covariance of the parameters could not be estimated\n",
      "  popt, _ = curve_fit(super_gaussian, coords, avg_profile, p0=initial_guess, maxfev=20000)\n"
     ]
    },
    {
     "name": "stdout",
     "output_type": "stream",
     "text": [
      "Dense phase concentration: 0.27458003704354067 +/- 0.219214320867783\n",
      "Dilute phase concentration: 0.0045271849 +/- 0.0009042853634742607\n",
      "simulation/runs/I0FUN3_MACMU_-5Q+5N_2024_08_17_09_08_1723887509/356\n"
     ]
    },
    {
     "name": "stderr",
     "output_type": "stream",
     "text": [
      "/home/ubuntu/CTP/simulation/runs/I0FUN3_MACMU_-5Q+5N_2024_08_17_09_08_1723887509/356/da.py:62: OptimizeWarning: Covariance of the parameters could not be estimated\n",
      "  popt, _ = curve_fit(super_gaussian, coords, avg_profile, p0=initial_guess, maxfev=20000)\n"
     ]
    },
    {
     "name": "stdout",
     "output_type": "stream",
     "text": [
      "Dense phase concentration: 0.3428660650174922 +/- 0.14117401916222042\n",
      "Dilute phase concentration: 0.02820241258256579 +/- 0.03614294330995617\n",
      "simulation/runs/I0FUN3_MACMU_-5Q+5N_2024_08_17_09_08_1723887509/370\n"
     ]
    },
    {
     "name": "stderr",
     "output_type": "stream",
     "text": [
      "/home/ubuntu/CTP/simulation/runs/I0FUN3_MACMU_-5Q+5N_2024_08_17_09_08_1723887509/370/da.py:62: OptimizeWarning: Covariance of the parameters could not be estimated\n",
      "  popt, _ = curve_fit(super_gaussian, coords, avg_profile, p0=initial_guess, maxfev=20000)\n"
     ]
    },
    {
     "name": "stdout",
     "output_type": "stream",
     "text": [
      "Dense phase concentration: 0.31402909365325077 +/- 0.05978205705433832\n",
      "Dilute phase concentration: 0.0894809869319079 +/- 0.06692001263656386\n",
      "simulation/runs/I0FUN3_MACMU_-5Q+5N_2024_08_17_09_08_1723887509/335\n"
     ]
    },
    {
     "name": "stderr",
     "output_type": "stream",
     "text": [
      "/home/ubuntu/CTP/simulation/runs/I0FUN3_MACMU_-5Q+5N_2024_08_17_09_08_1723887509/335/da.py:62: OptimizeWarning: Covariance of the parameters could not be estimated\n",
      "  popt, _ = curve_fit(super_gaussian, coords, avg_profile, p0=initial_guess, maxfev=20000)\n"
     ]
    },
    {
     "name": "stdout",
     "output_type": "stream",
     "text": [
      "Dense phase concentration: 0.3095617907839407 +/- 0.24957208659283706\n",
      "Dilute phase concentration: 0.003252319690430622 +/- 0.001941389216795531\n",
      "simulation/runs/I0FUN3_MACMU_-5Q+5N_2024_08_17_09_08_1723887509/270\n"
     ]
    },
    {
     "name": "stderr",
     "output_type": "stream",
     "text": [
      "/home/ubuntu/CTP/simulation/runs/I0FUN3_MACMU_-5Q+5N_2024_08_17_09_08_1723887509/270/da.py:62: OptimizeWarning: Covariance of the parameters could not be estimated\n",
      "  popt, _ = curve_fit(super_gaussian, coords, avg_profile, p0=initial_guess, maxfev=20000)\n"
     ]
    },
    {
     "name": "stdout",
     "output_type": "stream",
     "text": [
      "Dense phase concentration: 0.4324521652451128 +/- 0.3572717366800208\n",
      "Dilute phase concentration: 1.1149126794258374e-06 +/- 4.783187400719532e-06\n",
      "File densities_chunked_temp250.txt read successfully with 2 lines.\n",
      "Original data lines:\n",
      "Dense phase concentration: 0.4657186565091094 +/- 0.3843330413629753\n",
      "Dilute phase concentration: 0.0 +/- 0.0\n",
      "Filtered data lines: 2\n",
      "Dense phase concentration: 0.4657186565091094 +/- 0.3843330413629753\n",
      "Dilute phase concentration: 0.0 +/- 0.0\n",
      "File densities_chunked_temp270.txt read successfully with 2 lines.\n",
      "Original data lines:\n",
      "Dense phase concentration: 0.4324521652451128 +/- 0.3572717366800208\n",
      "Dilute phase concentration: 1.1149126794258374e-06 +/- 4.783187400719532e-06\n",
      "Filtered data lines: 2\n",
      "Dense phase concentration: 0.4324521652451128 +/- 0.3572717366800208\n",
      "Dilute phase concentration: 1.1149126794258374e-06 +/- 4.783187400719532e-06\n",
      "File densities_chunked_temp290.txt read successfully with 2 lines.\n",
      "Original data lines:\n",
      "Dense phase concentration: 0.40362230056157894 +/- 0.32729953335673556\n",
      "Dilute phase concentration: 8.067263157894736e-07 +/- 3.516438485621196e-06\n",
      "Filtered data lines: 2\n",
      "Dense phase concentration: 0.40362230056157894 +/- 0.32729953335673556\n",
      "Dilute phase concentration: 8.067263157894736e-07 +/- 3.516438485621196e-06\n",
      "File densities_chunked_temp300.txt read successfully with 2 lines.\n",
      "Original data lines:\n",
      "Dense phase concentration: 0.37839509766315793 +/- 0.3167487731798287\n",
      "Dilute phase concentration: 2.3347321637426897e-06 +/- 7.0288404710608935e-06\n",
      "Filtered data lines: 2\n",
      "Dense phase concentration: 0.37839509766315793 +/- 0.3167487731798287\n",
      "Dilute phase concentration: 2.3347321637426897e-06 +/- 7.0288404710608935e-06\n",
      "File densities_chunked_temp307.txt read successfully with 2 lines.\n",
      "Original data lines:\n",
      "Dense phase concentration: 0.366929811569059 +/- 0.3007839344041014\n",
      "Dilute phase concentration: 7.164767801857585e-08 +/- 2.865907120743034e-07\n",
      "Filtered data lines: 2\n",
      "Dense phase concentration: 0.366929811569059 +/- 0.3007839344041014\n",
      "Dilute phase concentration: 7.164767801857585e-08 +/- 2.865907120743034e-07\n",
      "File densities_chunked_temp314.txt read successfully with 2 lines.\n",
      "Original data lines:\n",
      "Dense phase concentration: 0.3459598480589473 +/- 0.29257456117035324\n",
      "Dilute phase concentration: 6.067701403508772e-06 +/- 1.4625219377727293e-05\n",
      "Filtered data lines: 2\n",
      "Dense phase concentration: 0.3459598480589473 +/- 0.29257456117035324\n",
      "Dilute phase concentration: 6.067701403508772e-06 +/- 1.4625219377727293e-05\n",
      "File densities_chunked_temp321.txt read successfully with 2 lines.\n",
      "Original data lines:\n",
      "Dense phase concentration: 0.3363512911004386 +/- 0.28531768604914\n",
      "Dilute phase concentration: 2.7788045112781956e-06 +/- 8.101733074022019e-06\n",
      "Filtered data lines: 2\n",
      "Dense phase concentration: 0.3363512911004386 +/- 0.28531768604914\n",
      "Dilute phase concentration: 2.7788045112781956e-06 +/- 8.101733074022019e-06\n",
      "File densities_chunked_temp328.txt read successfully with 2 lines.\n",
      "Original data lines:\n",
      "Dense phase concentration: 0.3186490486029086 +/- 0.26776660201331703\n",
      "Dilute phase concentration: 1.759732456140351e-06 +/- 5.836372288428085e-06\n",
      "Filtered data lines: 2\n",
      "Dense phase concentration: 0.3186490486029086 +/- 0.26776660201331703\n",
      "Dilute phase concentration: 1.759732456140351e-06 +/- 5.836372288428085e-06\n",
      "File densities_chunked_temp335.txt read successfully with 2 lines.\n",
      "Original data lines:\n",
      "Dense phase concentration: 0.3095617907839407 +/- 0.24957208659283706\n",
      "Dilute phase concentration: 0.003252319690430622 +/- 0.001941389216795531\n",
      "Filtered data lines: 2\n",
      "Dense phase concentration: 0.3095617907839407 +/- 0.24957208659283706\n",
      "Dilute phase concentration: 0.003252319690430622 +/- 0.001941389216795531\n",
      "File densities_chunked_temp342.txt read successfully with 2 lines.\n",
      "Original data lines:\n",
      "Dense phase concentration: 0.288301318785589 +/- 0.23972540930913533\n",
      "Dilute phase concentration: 3.6538513157894736e-06 +/- 8.158919337467614e-06\n",
      "Filtered data lines: 2\n",
      "Dense phase concentration: 0.288301318785589 +/- 0.23972540930913533\n",
      "Dilute phase concentration: 3.6538513157894736e-06 +/- 8.158919337467614e-06\n",
      "File densities_chunked_temp349.txt read successfully with 2 lines.\n",
      "Original data lines:\n",
      "Dense phase concentration: 0.27458003704354067 +/- 0.219214320867783\n",
      "Dilute phase concentration: 0.0045271849 +/- 0.0009042853634742607\n",
      "Filtered data lines: 2\n",
      "Dense phase concentration: 0.27458003704354067 +/- 0.219214320867783\n",
      "Dilute phase concentration: 0.0045271849 +/- 0.0009042853634742607\n",
      "File densities_chunked_temp356.txt read successfully with 2 lines.\n",
      "Original data lines:\n",
      "Dense phase concentration: 0.3428660650174922 +/- 0.14117401916222042\n",
      "Dilute phase concentration: 0.02820241258256579 +/- 0.03614294330995617\n",
      "Filtered data lines: 2\n",
      "Dense phase concentration: 0.3428660650174922 +/- 0.14117401916222042\n",
      "Dilute phase concentration: 0.02820241258256579 +/- 0.03614294330995617\n",
      "File densities_chunked_temp363.txt read successfully with 2 lines.\n",
      "Original data lines:\n",
      "Dense phase concentration: 0.3423426690402477 +/- 0.0879937117630033\n",
      "Dilute phase concentration: 0.02931465904276316 +/- 0.03302518296516114\n",
      "Filtered data lines: 2\n",
      "Dense phase concentration: 0.3423426690402477 +/- 0.0879937117630033\n",
      "Dilute phase concentration: 0.02931465904276316 +/- 0.03302518296516114\n",
      "File densities_chunked_temp370.txt read successfully with 2 lines.\n",
      "Original data lines:\n",
      "Dense phase concentration: 0.31402909365325077 +/- 0.05978205705433832\n",
      "Dilute phase concentration: 0.0894809869319079 +/- 0.06692001263656386\n",
      "Filtered data lines: 2\n",
      "Dense phase concentration: 0.31402909365325077 +/- 0.05978205705433832\n",
      "Dilute phase concentration: 0.0894809869319079 +/- 0.06692001263656386\n",
      "Temperatures: [250, 270, 290, 300, 307, 314, 321, 328, 335, 342, 349, 356, 363, 370]\n",
      "Dense phase concentrations: [0.4657186565091094, 0.4324521652451128, 0.40362230056157894, 0.37839509766315793, 0.366929811569059, 0.3459598480589473, 0.3363512911004386, 0.3186490486029086, 0.3095617907839407, 0.288301318785589, 0.27458003704354067, 0.3428660650174922, 0.3423426690402477, 0.31402909365325077]\n",
      "Dilute phase concentrations: [0.0, 1.1149126794258374e-06, 8.067263157894736e-07, 2.3347321637426897e-06, 7.164767801857585e-08, 6.067701403508772e-06, 2.7788045112781956e-06, 1.759732456140351e-06, 0.003252319690430622, 3.6538513157894736e-06, 0.0045271849, 0.02820241258256579, 0.02931465904276316, 0.0894809869319079]\n",
      "Dense std dev: [0.3843330413629753, 0.3572717366800208, 0.32729953335673556, 0.3167487731798287, 0.3007839344041014, 0.29257456117035324, 0.28531768604914, 0.26776660201331703, 0.24957208659283706, 0.23972540930913533, 0.219214320867783, 0.14117401916222042, 0.0879937117630033, 0.05978205705433832]\n",
      "Dilute std dev: [0.0, 4.783187400719532e-06, 3.516438485621196e-06, 7.0288404710608935e-06, 2.865907120743034e-07, 1.4625219377727293e-05, 8.101733074022019e-06, 5.836372288428085e-06, 0.001941389216795531, 8.158919337467614e-06, 0.0009042853634742607, 0.03614294330995617, 0.03302518296516114, 0.06692001263656386]\n",
      "Critical Solution Temperature: 384.34 K written to critical_solution_temperature.txt\n",
      "execution time: 2.7043669505914054 hours\n",
      "17-Aug-24 | 12:20\n",
      "\n",
      "\n",
      "running simulation for I0FUN3_MACMU_Wildtype\n",
      "17-Aug-24 | 12:20\n",
      "seq len 93\n",
      "total temps 14\n",
      "simulation/runs/I0FUN3_MACMU_Wildtype_2024_08_17_12_08_1723897245\n"
     ]
    },
    {
     "name": "stderr",
     "output_type": "stream",
     "text": [
      "/home/ubuntu/CTP/simulation/runs/I0FUN3_MACMU_Wildtype_2024_08_17_12_08_1723897245/seq2config.py:67: DeprecationWarning: Conversion of an array with ndim > 0 to a scalar is deprecated, and will error in future. Ensure you extract a single element from your array before performing this operation. (Deprecated NumPy 1.25.)\n",
      "  typescharges.append([int(types[p,1]),float(charges[k,1])])\n"
     ]
    },
    {
     "name": "stdout",
     "output_type": "stream",
     "text": [
      "step 1: running input single chain\n",
      "step 2: running compress single chain\n",
      "step 3: direct coexistence\n",
      "running [{'temp': 250, 'dir': 'simulation/runs/I0FUN3_MACMU_Wildtype_2024_08_17_12_08_1723897245/250'}, {'temp': 270, 'dir': 'simulation/runs/I0FUN3_MACMU_Wildtype_2024_08_17_12_08_1723897245/270'}, {'temp': 290, 'dir': 'simulation/runs/I0FUN3_MACMU_Wildtype_2024_08_17_12_08_1723897245/290'}, {'temp': 300, 'dir': 'simulation/runs/I0FUN3_MACMU_Wildtype_2024_08_17_12_08_1723897245/300'}, {'temp': 307, 'dir': 'simulation/runs/I0FUN3_MACMU_Wildtype_2024_08_17_12_08_1723897245/307'}, {'temp': 314, 'dir': 'simulation/runs/I0FUN3_MACMU_Wildtype_2024_08_17_12_08_1723897245/314'}]\n",
      "17-Aug-24 | 12:23\n"
     ]
    },
    {
     "name": "stderr",
     "output_type": "stream",
     "text": [
      "\n",
      "KeyboardInterrupt\n",
      "\n"
     ]
    }
   ],
   "source": [
    "CPUs=96\n",
    "CPUs_per_process = 16\n",
    "proccesses = CPUs // CPUs_per_process \n",
    "\n",
    "seq_to_run = read_sim_data()\n",
    "\n",
    "log_name = f'simulation_run_{datetime.datetime.now().strftime(\"%Y_%m_%d_%H_%m_%s\")}.log'\n",
    "\n",
    "with open(os.path.join(\"simulation\", \"logs\", log_name), \"w+\") as f:\n",
    "    print(get_curr_time())\n",
    "    mesg = f\"CPUs {CPUs}, proccesses {proccesses}, CPUs_per_process {CPUs_per_process}\\n\"\n",
    "    print(mesg)\n",
    "    f.writelines(mesg+\"\\n\")\n",
    "    \n",
    "    # for seq_name in seq_to_run:\n",
    "    for sim_number, seq_name in enumerate(sorted(seq_to_run, key=lambda x: len(seq_to_run[x]['seq']))):\n",
    "        if seq_name in simulations_completed:\n",
    "            print(f\"Sequence was already calculated {seq_name}\")\n",
    "            continue\n",
    "        \n",
    "        try:\n",
    "            for j in julias_simulations:\n",
    "                if seq_name.lower().startswith(j.lower()):\n",
    "                    print(f\"Julias sequence {seq_name}\")\n",
    "                    raise JuliasExeption\n",
    "        except JuliasExeption:\n",
    "            continue\n",
    "        \n",
    "     \n",
    "        mesg = f\"running simulation for {seq_name}\"\n",
    "        print(mesg)\n",
    "        f.writelines(mesg+\"\\n\")\n",
    "        print(get_curr_time())\n",
    "        \n",
    "        start_time = time.time()\n",
    "        \n",
    "        sim_args = {\"gene_name\": seq_name,\n",
    "                    \"seq\": seq_to_run[seq_name]['seq'],\n",
    "                    \"temps\": seq_to_run[seq_name]['temps']}\n",
    "          \n",
    "        mesg = f\"seq len {len(sim_args['seq'])}\"\n",
    "        print(mesg)\n",
    "        f.writelines(mesg+\"\\n\")\n",
    "    \n",
    "        mesg = f\"total temps {len(sim_args['temps'])}\"\n",
    "        print(mesg)\n",
    "        f.writelines(mesg+\"\\n\")\n",
    "        \n",
    "        run_simulation(** sim_args | {\"CPUs\": CPUs, \"CPUs_per_process\": CPUs_per_process})\n",
    "        # for i in range(111111111):\n",
    "        #     pass\n",
    "        mesg = f'execution time: {(time.time() - start_time) / (60*60)} hours'\n",
    "        print(mesg)\n",
    "        f.writelines(mesg+\"\\n\")\n",
    "        print(get_curr_time())\n",
    "    \n",
    "        mesg = f'\\n'\n",
    "        print(mesg)\n",
    "        f.writelines(mesg+\"\\n\")\n",
    "        #break\n",
    "\n",
    "#f.close()"
   ]
  },
  {
   "cell_type": "code",
   "execution_count": null,
   "id": "ed0834e8-5e32-4cb7-b643-905e33712fe7",
   "metadata": {},
   "outputs": [],
   "source": []
  },
  {
   "cell_type": "code",
   "execution_count": null,
   "id": "596c46cc-1b8e-4334-a24a-d62545fdd2d0",
   "metadata": {},
   "outputs": [],
   "source": []
  },
  {
   "cell_type": "code",
   "execution_count": 123,
   "id": "13787f9a-9d53-4a55-857b-f44cf4398f39",
   "metadata": {},
   "outputs": [],
   "source": [
    "\n",
    "seq_to_run_test = {\"CEP3_HHV11_P04289_Wildtype\": {'seq': 'MGLSFSGARPCCCRNNVLITDDGEVVSLTAHDFDVVDIESEEEGNFYVPPDMRGVTRAPGRQRLRSSDPPSRHTHRRTPGGACPATQFPPPMSDSE',\n",
    "                                                 'temps': [180, 190, 200, 210, 220]}}"
   ]
  },
  {
   "cell_type": "code",
   "execution_count": 139,
   "id": "3bde624b-3def-416f-8f88-dbb98921585e",
   "metadata": {
    "scrolled": true
   },
   "outputs": [
    {
     "name": "stdout",
     "output_type": "stream",
     "text": [
      "11-Aug-24 | 15:45\n",
      "CPUs 96, proccesses 6, CPUs_per_process 16\n",
      "\n",
      "Sequence was already calculated CEP3_HHV11_P04289_Wildtype\n"
     ]
    }
   ],
   "source": [
    "CPUs=96\n",
    "CPUs_per_process = 16\n",
    "proccesses = CPUs // CPUs_per_process \n",
    "\n",
    "seq_to_run = read_sim_data()\n",
    "\n",
    "log_name = f'simulation_run_{datetime.datetime.now().strftime(\"%Y_%m_%d_%H_%m_%s\")}.log'\n",
    "\n",
    "with open(os.path.join(\"simulation\", \"logs\", log_name), \"w+\") as f:\n",
    "    print(get_curr_time())\n",
    "    mesg = f\"CPUs {CPUs}, proccesses {proccesses}, CPUs_per_process {CPUs_per_process}\\n\"\n",
    "    print(mesg)\n",
    "    f.writelines(mesg+\"\\n\")\n",
    "    \n",
    "    # for seq_name in seq_to_run:\n",
    "    for seq_name in sorted(seq_to_run_test, key=lambda x: len(seq_to_run_test[x]['seq'])):\n",
    "        if seq_name in simulations_completed:\n",
    "            print(f\"Sequence was already calculated {seq_name}\")\n",
    "            continue\n",
    "        mesg = f\"running simulation for {seq_name}\"\n",
    "        print(mesg)\n",
    "        f.writelines(mesg+\"\\n\")\n",
    "        print(get_curr_time())\n",
    "        \n",
    "        start_time = time.time()\n",
    "        \n",
    "        sim_args = {\"gene_name\": seq_name,\n",
    "                    \"seq\": seq_to_run_test[seq_name]['seq'],\n",
    "                    \"temps\": seq_to_run_test[seq_name]['temps']}\n",
    "          \n",
    "        mesg = f\"seq len {len(sim_args['seq'])}\"\n",
    "        print(mesg)\n",
    "        f.writelines(mesg+\"\\n\")\n",
    "    \n",
    "        mesg = f\"total temps {len(sim_args['temps'])}\"\n",
    "        print(mesg)\n",
    "        f.writelines(mesg+\"\\n\")\n",
    "        \n",
    "        run_simulation(** sim_args | {\"CPUs\": CPUs, \"CPUs_per_process\": CPUs_per_process})\n",
    "        # for i in range(111111111):\n",
    "        #     pass\n",
    "        mesg = f'execution time: {(time.time() - start_time) / (60*60)} hours'\n",
    "        print(mesg)\n",
    "        f.writelines(mesg+\"\\n\")\n",
    "        print(get_curr_time())\n",
    "    \n",
    "        mesg = f'\\n'\n",
    "        print(mesg)\n",
    "        f.writelines(mesg+\"\\n\")\n",
    "        #break\n",
    "\n",
    "#f.close()"
   ]
  },
  {
   "cell_type": "code",
   "execution_count": 140,
   "id": "51563163-05c7-4427-a2af-49bb13a73e7d",
   "metadata": {
    "scrolled": true
   },
   "outputs": [
    {
     "name": "stdout",
     "output_type": "stream",
     "text": [
      "11-Aug-24 | 15:46\n",
      "CPUs 96, proccesses 6, CPUs_per_process 16\n",
      "\n",
      "Sequence was already calculated MCDB_SYNE7_Q8GJM6_Wildtype\n",
      "Sequence was already calculated SUPT6H(Q7KZ85)_Wildtype\n",
      "Sequence was already calculated LORF1_-5S+5T\n",
      "Sequence was already calculated LORF1_Q9UN81_Wildtype\n",
      "Sequence was already calculated HOME3_-4S+4T\n",
      "running simulation for HOME3_Q9NSC5_Wildtype\n",
      "11-Aug-24 | 15:46\n",
      "seq len 48\n",
      "total temps 14\n",
      "simulation/runs/HOME3_Q9NSC5_Wildtype_2024_08_11_15_08_1723391176\n",
      "step 1: running input single chain\n"
     ]
    },
    {
     "name": "stderr",
     "output_type": "stream",
     "text": [
      "/home/ubuntu/CTP/simulation/runs/HOME3_Q9NSC5_Wildtype_2024_08_11_15_08_1723391176/seq2config.py:67: DeprecationWarning: Conversion of an array with ndim > 0 to a scalar is deprecated, and will error in future. Ensure you extract a single element from your array before performing this operation. (Deprecated NumPy 1.25.)\n",
      "  typescharges.append([int(types[p,1]),float(charges[k,1])])\n"
     ]
    },
    {
     "name": "stdout",
     "output_type": "stream",
     "text": [
      "step 2: running compress single chain\n",
      "step 3: direct coexistence\n",
      "running [{'temp': 250, 'dir': 'simulation/runs/HOME3_Q9NSC5_Wildtype_2024_08_11_15_08_1723391176/250'}, {'temp': 270, 'dir': 'simulation/runs/HOME3_Q9NSC5_Wildtype_2024_08_11_15_08_1723391176/270'}, {'temp': 290, 'dir': 'simulation/runs/HOME3_Q9NSC5_Wildtype_2024_08_11_15_08_1723391176/290'}, {'temp': 300, 'dir': 'simulation/runs/HOME3_Q9NSC5_Wildtype_2024_08_11_15_08_1723391176/300'}, {'temp': 307, 'dir': 'simulation/runs/HOME3_Q9NSC5_Wildtype_2024_08_11_15_08_1723391176/307'}, {'temp': 314, 'dir': 'simulation/runs/HOME3_Q9NSC5_Wildtype_2024_08_11_15_08_1723391176/314'}]\n",
      "11-Aug-24 | 15:54\n",
      "execution time: 3.202032267053922 hours\n",
      "11-Aug-24 | 19:06\n",
      "running [{'temp': 321, 'dir': 'simulation/runs/HOME3_Q9NSC5_Wildtype_2024_08_11_15_08_1723391176/321'}, {'temp': 328, 'dir': 'simulation/runs/HOME3_Q9NSC5_Wildtype_2024_08_11_15_08_1723391176/328'}, {'temp': 335, 'dir': 'simulation/runs/HOME3_Q9NSC5_Wildtype_2024_08_11_15_08_1723391176/335'}, {'temp': 342, 'dir': 'simulation/runs/HOME3_Q9NSC5_Wildtype_2024_08_11_15_08_1723391176/342'}, {'temp': 349, 'dir': 'simulation/runs/HOME3_Q9NSC5_Wildtype_2024_08_11_15_08_1723391176/349'}, {'temp': 356, 'dir': 'simulation/runs/HOME3_Q9NSC5_Wildtype_2024_08_11_15_08_1723391176/356'}]\n",
      "11-Aug-24 | 19:06\n",
      "execution time: 3.1711254471540453 hours\n",
      "11-Aug-24 | 22:17\n",
      "running [{'temp': 363, 'dir': 'simulation/runs/HOME3_Q9NSC5_Wildtype_2024_08_11_15_08_1723391176/363'}, {'temp': 370, 'dir': 'simulation/runs/HOME3_Q9NSC5_Wildtype_2024_08_11_15_08_1723391176/370'}]\n",
      "remaining temp, CPUs_pp = 48\n",
      "11-Aug-24 | 22:17\n",
      "execution time: 2.5198649451467725 hours\n",
      "12-Aug-24 | 00:48\n",
      "calculating ps densities\n",
      "simulation/runs/HOME3_Q9NSC5_Wildtype_2024_08_11_15_08_1723391176/300\n"
     ]
    },
    {
     "name": "stderr",
     "output_type": "stream",
     "text": [
      "/home/ubuntu/CTP/simulation/runs/HOME3_Q9NSC5_Wildtype_2024_08_11_15_08_1723391176/300/da.py:62: OptimizeWarning: Covariance of the parameters could not be estimated\n",
      "  popt, _ = curve_fit(super_gaussian, coords, avg_profile, p0=initial_guess, maxfev=20000)\n"
     ]
    },
    {
     "name": "stdout",
     "output_type": "stream",
     "text": [
      "Dense phase concentration: 0.20839993038723023 +/- 0.0011550685182438267\n",
      "Dilute phase concentration: 0.20768634265075375 +/- 0.001317377572444679\n",
      "simulation/runs/HOME3_Q9NSC5_Wildtype_2024_08_11_15_08_1723391176/314\n"
     ]
    },
    {
     "name": "stderr",
     "output_type": "stream",
     "text": [
      "/home/ubuntu/CTP/simulation/runs/HOME3_Q9NSC5_Wildtype_2024_08_11_15_08_1723391176/314/da.py:62: OptimizeWarning: Covariance of the parameters could not be estimated\n",
      "  popt, _ = curve_fit(super_gaussian, coords, avg_profile, p0=initial_guess, maxfev=20000)\n"
     ]
    },
    {
     "name": "stdout",
     "output_type": "stream",
     "text": [
      "Dense phase concentration: 0.20850045950339938 +/- 0.0008455457697244984\n",
      "Dilute phase concentration: 0.2074727173366834 +/- 0.001113434701956178\n",
      "simulation/runs/HOME3_Q9NSC5_Wildtype_2024_08_11_15_08_1723391176/290\n"
     ]
    },
    {
     "name": "stderr",
     "output_type": "stream",
     "text": [
      "/home/ubuntu/CTP/simulation/runs/HOME3_Q9NSC5_Wildtype_2024_08_11_15_08_1723391176/290/da.py:62: OptimizeWarning: Covariance of the parameters could not be estimated\n",
      "  popt, _ = curve_fit(super_gaussian, coords, avg_profile, p0=initial_guess, maxfev=20000)\n"
     ]
    },
    {
     "name": "stdout",
     "output_type": "stream",
     "text": [
      "Dense phase concentration: 0.20847850753768846 +/- 0.0010258179103632427\n",
      "Dilute phase concentration: 0.20751936055276382 +/- 0.0012364464149250858\n",
      "simulation/runs/HOME3_Q9NSC5_Wildtype_2024_08_11_15_08_1723391176/342\n"
     ]
    },
    {
     "name": "stderr",
     "output_type": "stream",
     "text": [
      "/home/ubuntu/CTP/simulation/runs/HOME3_Q9NSC5_Wildtype_2024_08_11_15_08_1723391176/342/da.py:62: OptimizeWarning: Covariance of the parameters could not be estimated\n",
      "  popt, _ = curve_fit(super_gaussian, coords, avg_profile, p0=initial_guess, maxfev=20000)\n"
     ]
    },
    {
     "name": "stdout",
     "output_type": "stream",
     "text": [
      "Dense phase concentration: 0.20831385486254805 +/- 0.0008810072336976181\n",
      "Dilute phase concentration: 0.20786924623115577 +/- 0.0003936838931517041\n",
      "simulation/runs/HOME3_Q9NSC5_Wildtype_2024_08_11_15_08_1723391176/328\n"
     ]
    },
    {
     "name": "stderr",
     "output_type": "stream",
     "text": [
      "/home/ubuntu/CTP/simulation/runs/HOME3_Q9NSC5_Wildtype_2024_08_11_15_08_1723391176/328/da.py:62: OptimizeWarning: Covariance of the parameters could not be estimated\n",
      "  popt, _ = curve_fit(super_gaussian, coords, avg_profile, p0=initial_guess, maxfev=20000)\n"
     ]
    },
    {
     "name": "stdout",
     "output_type": "stream",
     "text": [
      "Dense phase concentration: 0.2083233229382205 +/- 0.0009683217497467199\n",
      "Dilute phase concentration: 0.2078491243718593 +/- 0.001025027816037201\n",
      "simulation/runs/HOME3_Q9NSC5_Wildtype_2024_08_11_15_08_1723391176/307\n"
     ]
    },
    {
     "name": "stderr",
     "output_type": "stream",
     "text": [
      "/home/ubuntu/CTP/simulation/runs/HOME3_Q9NSC5_Wildtype_2024_08_11_15_08_1723391176/307/da.py:62: OptimizeWarning: Covariance of the parameters could not be estimated\n",
      "  popt, _ = curve_fit(super_gaussian, coords, avg_profile, p0=initial_guess, maxfev=20000)\n"
     ]
    },
    {
     "name": "stdout",
     "output_type": "stream",
     "text": [
      "Dense phase concentration: 0.20821136343482116 +/- 0.001032535307310224\n",
      "Dilute phase concentration: 0.2080870273241206 +/- 0.0012858113921313324\n",
      "simulation/runs/HOME3_Q9NSC5_Wildtype_2024_08_11_15_08_1723391176/363\n"
     ]
    },
    {
     "name": "stderr",
     "output_type": "stream",
     "text": [
      "/home/ubuntu/CTP/simulation/runs/HOME3_Q9NSC5_Wildtype_2024_08_11_15_08_1723391176/363/da.py:62: OptimizeWarning: Covariance of the parameters could not be estimated\n",
      "  popt, _ = curve_fit(super_gaussian, coords, avg_profile, p0=initial_guess, maxfev=20000)\n"
     ]
    },
    {
     "name": "stdout",
     "output_type": "stream",
     "text": [
      "Dense phase concentration: 0.20808934303872306 +/- 0.0009333400857464661\n",
      "Dilute phase concentration: 0.20834633605527636 +/- 0.000696303644540297\n",
      "simulation/runs/HOME3_Q9NSC5_Wildtype_2024_08_11_15_08_1723391176/250\n"
     ]
    },
    {
     "name": "stderr",
     "output_type": "stream",
     "text": [
      "/home/ubuntu/CTP/simulation/runs/HOME3_Q9NSC5_Wildtype_2024_08_11_15_08_1723391176/250/da.py:62: OptimizeWarning: Covariance of the parameters could not be estimated\n",
      "  popt, _ = curve_fit(super_gaussian, coords, avg_profile, p0=initial_guess, maxfev=20000)\n"
     ]
    },
    {
     "name": "stdout",
     "output_type": "stream",
     "text": [
      "Dense phase concentration: 0.20797263567839194 +/- 0.0014531550616111077\n",
      "Dilute phase concentration: 0.20859432569095476 +/- 0.0017369163714584922\n",
      "simulation/runs/HOME3_Q9NSC5_Wildtype_2024_08_11_15_08_1723391176/321\n"
     ]
    },
    {
     "name": "stderr",
     "output_type": "stream",
     "text": [
      "/home/ubuntu/CTP/simulation/runs/HOME3_Q9NSC5_Wildtype_2024_08_11_15_08_1723391176/321/da.py:62: OptimizeWarning: Covariance of the parameters could not be estimated\n",
      "  popt, _ = curve_fit(super_gaussian, coords, avg_profile, p0=initial_guess, maxfev=20000)\n"
     ]
    },
    {
     "name": "stdout",
     "output_type": "stream",
     "text": [
      "Dense phase concentration: 0.20837742684008276 +/- 0.001140778880204592\n",
      "Dilute phase concentration: 0.20773414415829144 +/- 0.0011522343821800134\n",
      "simulation/runs/HOME3_Q9NSC5_Wildtype_2024_08_11_15_08_1723391176/349\n"
     ]
    },
    {
     "name": "stderr",
     "output_type": "stream",
     "text": [
      "/home/ubuntu/CTP/simulation/runs/HOME3_Q9NSC5_Wildtype_2024_08_11_15_08_1723391176/349/da.py:62: OptimizeWarning: Covariance of the parameters could not be estimated\n",
      "  popt, _ = curve_fit(super_gaussian, coords, avg_profile, p0=initial_guess, maxfev=20000)\n"
     ]
    },
    {
     "name": "stdout",
     "output_type": "stream",
     "text": [
      "Dense phase concentration: 0.20846496452852498 +/- 0.0012092228862186137\n",
      "Dilute phase concentration: 0.20754813881909548 +/- 0.0008615597992140562\n",
      "simulation/runs/HOME3_Q9NSC5_Wildtype_2024_08_11_15_08_1723391176/356\n"
     ]
    },
    {
     "name": "stderr",
     "output_type": "stream",
     "text": [
      "/home/ubuntu/CTP/simulation/runs/HOME3_Q9NSC5_Wildtype_2024_08_11_15_08_1723391176/356/da.py:62: OptimizeWarning: Covariance of the parameters could not be estimated\n",
      "  popt, _ = curve_fit(super_gaussian, coords, avg_profile, p0=initial_guess, maxfev=20000)\n"
     ]
    },
    {
     "name": "stdout",
     "output_type": "stream",
     "text": [
      "Dense phase concentration: 0.20856854507833283 +/- 0.0007765615895195551\n",
      "Dilute phase concentration: 0.2073280364321608 +/- 0.0009170476274813198\n",
      "simulation/runs/HOME3_Q9NSC5_Wildtype_2024_08_11_15_08_1723391176/370\n"
     ]
    },
    {
     "name": "stderr",
     "output_type": "stream",
     "text": [
      "/home/ubuntu/CTP/simulation/runs/HOME3_Q9NSC5_Wildtype_2024_08_11_15_08_1723391176/370/da.py:62: OptimizeWarning: Covariance of the parameters could not be estimated\n",
      "  popt, _ = curve_fit(super_gaussian, coords, avg_profile, p0=initial_guess, maxfev=20000)\n"
     ]
    },
    {
     "name": "stdout",
     "output_type": "stream",
     "text": [
      "Dense phase concentration: 0.20813535515814366 +/- 0.0011138973879182778\n",
      "Dilute phase concentration: 0.20824855370603015 +/- 0.000766509692836265\n",
      "simulation/runs/HOME3_Q9NSC5_Wildtype_2024_08_11_15_08_1723391176/335\n"
     ]
    },
    {
     "name": "stderr",
     "output_type": "stream",
     "text": [
      "/home/ubuntu/CTP/simulation/runs/HOME3_Q9NSC5_Wildtype_2024_08_11_15_08_1723391176/335/da.py:62: OptimizeWarning: Covariance of the parameters could not be estimated\n",
      "  popt, _ = curve_fit(super_gaussian, coords, avg_profile, p0=initial_guess, maxfev=20000)\n"
     ]
    },
    {
     "name": "stdout",
     "output_type": "stream",
     "text": [
      "Dense phase concentration: 0.20814443674253622 +/- 0.0009783838215016794\n",
      "Dilute phase concentration: 0.20822925533919598 +/- 0.0005804776558287967\n",
      "simulation/runs/HOME3_Q9NSC5_Wildtype_2024_08_11_15_08_1723391176/270\n"
     ]
    },
    {
     "name": "stderr",
     "output_type": "stream",
     "text": [
      "/home/ubuntu/CTP/simulation/runs/HOME3_Q9NSC5_Wildtype_2024_08_11_15_08_1723391176/270/da.py:62: OptimizeWarning: Covariance of the parameters could not be estimated\n",
      "  popt, _ = curve_fit(super_gaussian, coords, avg_profile, p0=initial_guess, maxfev=20000)\n"
     ]
    },
    {
     "name": "stdout",
     "output_type": "stream",
     "text": [
      "Dense phase concentration: 0.20813770869051137 +/- 0.0015214672167410737\n",
      "Dilute phase concentration: 0.2082435515075377 +/- 0.0014809047713217117\n"
     ]
    },
    {
     "name": "stderr",
     "output_type": "stream",
     "text": [
      "/home/ubuntu/anaconda3/envs/lammps/lib/python3.9/site-packages/matplotlib/collections.py:197: ComplexWarning: Casting complex values to real discards the imaginary part\n",
      "  offsets = np.asanyarray(offsets, float)\n",
      "/home/ubuntu/anaconda3/envs/lammps/lib/python3.9/site-packages/matplotlib/cbook.py:1762: ComplexWarning: Casting complex values to real discards the imaginary part\n",
      "  return math.isfinite(val)\n",
      "/home/ubuntu/anaconda3/envs/lammps/lib/python3.9/site-packages/matplotlib/cbook.py:1398: ComplexWarning: Casting complex values to real discards the imaginary part\n",
      "  return np.asarray(x, float)\n"
     ]
    },
    {
     "name": "stdout",
     "output_type": "stream",
     "text": [
      "File densities_chunked_temp250.txt read successfully with 2 lines.\n",
      "Original data lines:\n",
      "Dense phase concentration: 0.20797263567839194 +/- 0.0014531550616111077\n",
      "Dilute phase concentration: 0.20859432569095476 +/- 0.0017369163714584922\n",
      "Filtered data lines: 2\n",
      "Dense phase concentration: 0.20797263567839194 +/- 0.0014531550616111077\n",
      "Dilute phase concentration: 0.20859432569095476 +/- 0.0017369163714584922\n",
      "File densities_chunked_temp270.txt read successfully with 2 lines.\n",
      "Original data lines:\n",
      "Dense phase concentration: 0.20813770869051137 +/- 0.0015214672167410737\n",
      "Dilute phase concentration: 0.2082435515075377 +/- 0.0014809047713217117\n",
      "Filtered data lines: 2\n",
      "Dense phase concentration: 0.20813770869051137 +/- 0.0015214672167410737\n",
      "Dilute phase concentration: 0.2082435515075377 +/- 0.0014809047713217117\n",
      "File densities_chunked_temp290.txt read successfully with 2 lines.\n",
      "Original data lines:\n",
      "Dense phase concentration: 0.20847850753768846 +/- 0.0010258179103632427\n",
      "Dilute phase concentration: 0.20751936055276382 +/- 0.0012364464149250858\n",
      "Filtered data lines: 2\n",
      "Dense phase concentration: 0.20847850753768846 +/- 0.0010258179103632427\n",
      "Dilute phase concentration: 0.20751936055276382 +/- 0.0012364464149250858\n",
      "File densities_chunked_temp300.txt read successfully with 2 lines.\n",
      "Original data lines:\n",
      "Dense phase concentration: 0.20839993038723023 +/- 0.0011550685182438267\n",
      "Dilute phase concentration: 0.20768634265075375 +/- 0.001317377572444679\n",
      "Filtered data lines: 2\n",
      "Dense phase concentration: 0.20839993038723023 +/- 0.0011550685182438267\n",
      "Dilute phase concentration: 0.20768634265075375 +/- 0.001317377572444679\n",
      "File densities_chunked_temp307.txt read successfully with 2 lines.\n",
      "Original data lines:\n",
      "Dense phase concentration: 0.20821136343482116 +/- 0.001032535307310224\n",
      "Dilute phase concentration: 0.2080870273241206 +/- 0.0012858113921313324\n",
      "Filtered data lines: 2\n",
      "Dense phase concentration: 0.20821136343482116 +/- 0.001032535307310224\n",
      "Dilute phase concentration: 0.2080870273241206 +/- 0.0012858113921313324\n",
      "File densities_chunked_temp314.txt read successfully with 2 lines.\n",
      "Original data lines:\n",
      "Dense phase concentration: 0.20850045950339938 +/- 0.0008455457697244984\n",
      "Dilute phase concentration: 0.2074727173366834 +/- 0.001113434701956178\n",
      "Filtered data lines: 2\n",
      "Dense phase concentration: 0.20850045950339938 +/- 0.0008455457697244984\n",
      "Dilute phase concentration: 0.2074727173366834 +/- 0.001113434701956178\n",
      "File densities_chunked_temp321.txt read successfully with 2 lines.\n",
      "Original data lines:\n",
      "Dense phase concentration: 0.20837742684008276 +/- 0.001140778880204592\n",
      "Dilute phase concentration: 0.20773414415829144 +/- 0.0011522343821800134\n",
      "Filtered data lines: 2\n",
      "Dense phase concentration: 0.20837742684008276 +/- 0.001140778880204592\n",
      "Dilute phase concentration: 0.20773414415829144 +/- 0.0011522343821800134\n",
      "File densities_chunked_temp328.txt read successfully with 2 lines.\n",
      "Original data lines:\n",
      "Dense phase concentration: 0.2083233229382205 +/- 0.0009683217497467199\n",
      "Dilute phase concentration: 0.2078491243718593 +/- 0.001025027816037201\n",
      "Filtered data lines: 2\n",
      "Dense phase concentration: 0.2083233229382205 +/- 0.0009683217497467199\n",
      "Dilute phase concentration: 0.2078491243718593 +/- 0.001025027816037201\n",
      "File densities_chunked_temp335.txt read successfully with 2 lines.\n",
      "Original data lines:\n",
      "Dense phase concentration: 0.20814443674253622 +/- 0.0009783838215016794\n",
      "Dilute phase concentration: 0.20822925533919598 +/- 0.0005804776558287967\n",
      "Filtered data lines: 2\n",
      "Dense phase concentration: 0.20814443674253622 +/- 0.0009783838215016794\n",
      "Dilute phase concentration: 0.20822925533919598 +/- 0.0005804776558287967\n",
      "File densities_chunked_temp342.txt read successfully with 2 lines.\n",
      "Original data lines:\n",
      "Dense phase concentration: 0.20831385486254805 +/- 0.0008810072336976181\n",
      "Dilute phase concentration: 0.20786924623115577 +/- 0.0003936838931517041\n",
      "Filtered data lines: 2\n",
      "Dense phase concentration: 0.20831385486254805 +/- 0.0008810072336976181\n",
      "Dilute phase concentration: 0.20786924623115577 +/- 0.0003936838931517041\n",
      "File densities_chunked_temp349.txt read successfully with 2 lines.\n",
      "Original data lines:\n",
      "Dense phase concentration: 0.20846496452852498 +/- 0.0012092228862186137\n",
      "Dilute phase concentration: 0.20754813881909548 +/- 0.0008615597992140562\n",
      "Filtered data lines: 2\n",
      "Dense phase concentration: 0.20846496452852498 +/- 0.0012092228862186137\n",
      "Dilute phase concentration: 0.20754813881909548 +/- 0.0008615597992140562\n",
      "File densities_chunked_temp356.txt read successfully with 2 lines.\n",
      "Original data lines:\n",
      "Dense phase concentration: 0.20856854507833283 +/- 0.0007765615895195551\n",
      "Dilute phase concentration: 0.2073280364321608 +/- 0.0009170476274813198\n",
      "Filtered data lines: 2\n",
      "Dense phase concentration: 0.20856854507833283 +/- 0.0007765615895195551\n",
      "Dilute phase concentration: 0.2073280364321608 +/- 0.0009170476274813198\n",
      "File densities_chunked_temp363.txt read successfully with 2 lines.\n",
      "Original data lines:\n",
      "Dense phase concentration: 0.20808934303872306 +/- 0.0009333400857464661\n",
      "Dilute phase concentration: 0.20834633605527636 +/- 0.000696303644540297\n",
      "Filtered data lines: 2\n",
      "Dense phase concentration: 0.20808934303872306 +/- 0.0009333400857464661\n",
      "Dilute phase concentration: 0.20834633605527636 +/- 0.000696303644540297\n",
      "File densities_chunked_temp370.txt read successfully with 2 lines.\n",
      "Original data lines:\n",
      "Dense phase concentration: 0.20813535515814366 +/- 0.0011138973879182778\n",
      "Dilute phase concentration: 0.20824855370603015 +/- 0.000766509692836265\n",
      "Filtered data lines: 2\n",
      "Dense phase concentration: 0.20813535515814366 +/- 0.0011138973879182778\n",
      "Dilute phase concentration: 0.20824855370603015 +/- 0.000766509692836265\n",
      "Temperatures: [250, 270, 290, 300, 307, 314, 321, 328, 335, 342, 349, 356, 363, 370]\n",
      "Dense phase concentrations: [0.20797263567839194, 0.20813770869051137, 0.20847850753768846, 0.20839993038723023, 0.20821136343482116, 0.20850045950339938, 0.20837742684008276, 0.2083233229382205, 0.20814443674253622, 0.20831385486254805, 0.20846496452852498, 0.20856854507833283, 0.20808934303872306, 0.20813535515814366]\n",
      "Dilute phase concentrations: [0.20859432569095476, 0.2082435515075377, 0.20751936055276382, 0.20768634265075375, 0.2080870273241206, 0.2074727173366834, 0.20773414415829144, 0.2078491243718593, 0.20822925533919598, 0.20786924623115577, 0.20754813881909548, 0.2073280364321608, 0.20834633605527636, 0.20824855370603015]\n",
      "Dense std dev: [0.0014531550616111077, 0.0015214672167410737, 0.0010258179103632427, 0.0011550685182438267, 0.001032535307310224, 0.0008455457697244984, 0.001140778880204592, 0.0009683217497467199, 0.0009783838215016794, 0.0008810072336976181, 0.0012092228862186137, 0.0007765615895195551, 0.0009333400857464661, 0.0011138973879182778]\n",
      "Dilute std dev: [0.0017369163714584922, 0.0014809047713217117, 0.0012364464149250858, 0.001317377572444679, 0.0012858113921313324, 0.001113434701956178, 0.0011522343821800134, 0.001025027816037201, 0.0005804776558287967, 0.0003936838931517041, 0.0008615597992140562, 0.0009170476274813198, 0.000696303644540297, 0.000766509692836265]\n",
      "Critical Solution Temperature: 227.87+5.16j K written to critical_solution_temperature.txt\n",
      "execution time: 9.035689056184557 hours\n",
      "12-Aug-24 | 00:48\n",
      "\n",
      "\n",
      "running simulation for GAG_-5S+5T\n",
      "12-Aug-24 | 00:48\n",
      "seq len 57\n",
      "total temps 14\n",
      "simulation/runs/GAG_-5S+5T_2024_08_12_00_08_1723423704\n",
      "step 1: running input single chain\n"
     ]
    },
    {
     "name": "stderr",
     "output_type": "stream",
     "text": [
      "/home/ubuntu/CTP/simulation/runs/GAG_-5S+5T_2024_08_12_00_08_1723423704/seq2config.py:67: DeprecationWarning: Conversion of an array with ndim > 0 to a scalar is deprecated, and will error in future. Ensure you extract a single element from your array before performing this operation. (Deprecated NumPy 1.25.)\n",
      "  typescharges.append([int(types[p,1]),float(charges[k,1])])\n"
     ]
    },
    {
     "name": "stdout",
     "output_type": "stream",
     "text": [
      "step 2: running compress single chain\n",
      "step 3: direct coexistence\n",
      "running [{'temp': 250, 'dir': 'simulation/runs/GAG_-5S+5T_2024_08_12_00_08_1723423704/250'}, {'temp': 270, 'dir': 'simulation/runs/GAG_-5S+5T_2024_08_12_00_08_1723423704/270'}, {'temp': 290, 'dir': 'simulation/runs/GAG_-5S+5T_2024_08_12_00_08_1723423704/290'}, {'temp': 300, 'dir': 'simulation/runs/GAG_-5S+5T_2024_08_12_00_08_1723423704/300'}, {'temp': 307, 'dir': 'simulation/runs/GAG_-5S+5T_2024_08_12_00_08_1723423704/307'}, {'temp': 314, 'dir': 'simulation/runs/GAG_-5S+5T_2024_08_12_00_08_1723423704/314'}]\n",
      "12-Aug-24 | 00:59\n",
      "execution time: 4.367516362534629 hours\n",
      "12-Aug-24 | 05:21\n",
      "running [{'temp': 321, 'dir': 'simulation/runs/GAG_-5S+5T_2024_08_12_00_08_1723423704/321'}, {'temp': 328, 'dir': 'simulation/runs/GAG_-5S+5T_2024_08_12_00_08_1723423704/328'}, {'temp': 335, 'dir': 'simulation/runs/GAG_-5S+5T_2024_08_12_00_08_1723423704/335'}, {'temp': 342, 'dir': 'simulation/runs/GAG_-5S+5T_2024_08_12_00_08_1723423704/342'}, {'temp': 349, 'dir': 'simulation/runs/GAG_-5S+5T_2024_08_12_00_08_1723423704/349'}, {'temp': 356, 'dir': 'simulation/runs/GAG_-5S+5T_2024_08_12_00_08_1723423704/356'}]\n",
      "12-Aug-24 | 05:21\n",
      "execution time: 3.8932779293590123 hours\n",
      "12-Aug-24 | 09:15\n",
      "running [{'temp': 363, 'dir': 'simulation/runs/GAG_-5S+5T_2024_08_12_00_08_1723423704/363'}, {'temp': 370, 'dir': 'simulation/runs/GAG_-5S+5T_2024_08_12_00_08_1723423704/370'}]\n",
      "remaining temp, CPUs_pp = 48\n",
      "12-Aug-24 | 09:15\n",
      "execution time: 2.7471241607930925 hours\n",
      "12-Aug-24 | 12:00\n",
      "calculating ps densities\n",
      "simulation/runs/GAG_-5S+5T_2024_08_12_00_08_1723423704/300\n"
     ]
    },
    {
     "name": "stderr",
     "output_type": "stream",
     "text": [
      "/home/ubuntu/CTP/simulation/runs/GAG_-5S+5T_2024_08_12_00_08_1723423704/300/da.py:62: OptimizeWarning: Covariance of the parameters could not be estimated\n",
      "  popt, _ = curve_fit(super_gaussian, coords, avg_profile, p0=initial_guess, maxfev=20000)\n"
     ]
    },
    {
     "name": "stdout",
     "output_type": "stream",
     "text": [
      "Dense phase concentration: 0.23069858291457285 +/- 0.001644284183371195\n",
      "Dilute phase concentration: 0.23231823256909548 +/- 0.001235336353792126\n",
      "simulation/runs/GAG_-5S+5T_2024_08_12_00_08_1723423704/314\n"
     ]
    },
    {
     "name": "stderr",
     "output_type": "stream",
     "text": [
      "/home/ubuntu/CTP/simulation/runs/GAG_-5S+5T_2024_08_12_00_08_1723423704/314/da.py:62: OptimizeWarning: Covariance of the parameters could not be estimated\n",
      "  popt, _ = curve_fit(super_gaussian, coords, avg_profile, p0=initial_guess, maxfev=20000)\n"
     ]
    },
    {
     "name": "stdout",
     "output_type": "stream",
     "text": [
      "Dense phase concentration: 0.23157354906887379 +/- 0.002574165726270826\n",
      "Dilute phase concentration: 0.23045893530150752 +/- 0.00212127321588504\n",
      "simulation/runs/GAG_-5S+5T_2024_08_12_00_08_1723423704/290\n"
     ]
    },
    {
     "name": "stderr",
     "output_type": "stream",
     "text": [
      "/home/ubuntu/CTP/simulation/runs/GAG_-5S+5T_2024_08_12_00_08_1723423704/290/da.py:62: OptimizeWarning: Covariance of the parameters could not be estimated\n",
      "  popt, _ = curve_fit(super_gaussian, coords, avg_profile, p0=initial_guess, maxfev=20000)\n"
     ]
    },
    {
     "name": "stdout",
     "output_type": "stream",
     "text": [
      "Dense phase concentration: 0.23177265651788354 +/- 0.0026980807162664995\n",
      "Dilute phase concentration: 0.23003585612437186 +/- 0.002379779980133588\n",
      "simulation/runs/GAG_-5S+5T_2024_08_12_00_08_1723423704/342\n"
     ]
    },
    {
     "name": "stderr",
     "output_type": "stream",
     "text": [
      "/home/ubuntu/CTP/simulation/runs/GAG_-5S+5T_2024_08_12_00_08_1723423704/342/da.py:62: OptimizeWarning: Covariance of the parameters could not be estimated\n",
      "  popt, _ = curve_fit(super_gaussian, coords, avg_profile, p0=initial_guess, maxfev=20000)\n"
     ]
    },
    {
     "name": "stdout",
     "output_type": "stream",
     "text": [
      "Dense phase concentration: 0.2316445987289388 +/- 0.002153659188701784\n",
      "Dilute phase concentration: 0.23030796545226132 +/- 0.0010043023164534534\n",
      "simulation/runs/GAG_-5S+5T_2024_08_12_00_08_1723423704/328\n"
     ]
    },
    {
     "name": "stderr",
     "output_type": "stream",
     "text": [
      "/home/ubuntu/CTP/simulation/runs/GAG_-5S+5T_2024_08_12_00_08_1723423704/328/da.py:62: OptimizeWarning: Covariance of the parameters could not be estimated\n",
      "  popt, _ = curve_fit(super_gaussian, coords, avg_profile, p0=initial_guess, maxfev=20000)\n"
     ]
    },
    {
     "name": "stdout",
     "output_type": "stream",
     "text": [
      "Dense phase concentration: 0.23119501684895064 +/- 0.0020818394128125843\n",
      "Dilute phase concentration: 0.2312633209798995 +/- 0.0022162535237132343\n",
      "simulation/runs/GAG_-5S+5T_2024_08_12_00_08_1723423704/307\n"
     ]
    },
    {
     "name": "stderr",
     "output_type": "stream",
     "text": [
      "/home/ubuntu/CTP/simulation/runs/GAG_-5S+5T_2024_08_12_00_08_1723423704/307/da.py:62: OptimizeWarning: Covariance of the parameters could not be estimated\n",
      "  popt, _ = curve_fit(super_gaussian, coords, avg_profile, p0=initial_guess, maxfev=20000)\n"
     ]
    },
    {
     "name": "stdout",
     "output_type": "stream",
     "text": [
      "Dense phase concentration: 0.23141418533845698 +/- 0.002963588672712133\n",
      "Dilute phase concentration: 0.23079757694723618 +/- 0.0021181909213075774\n",
      "simulation/runs/GAG_-5S+5T_2024_08_12_00_08_1723423704/363\n"
     ]
    },
    {
     "name": "stderr",
     "output_type": "stream",
     "text": [
      "/home/ubuntu/CTP/simulation/runs/GAG_-5S+5T_2024_08_12_00_08_1723423704/363/da.py:62: OptimizeWarning: Covariance of the parameters could not be estimated\n",
      "  popt, _ = curve_fit(super_gaussian, coords, avg_profile, p0=initial_guess, maxfev=20000)\n"
     ]
    },
    {
     "name": "stdout",
     "output_type": "stream",
     "text": [
      "Dense phase concentration: 0.23138043038723027 +/- 0.0021575795110077775\n",
      "Dilute phase concentration: 0.23086931689698492 +/- 0.0016262047921400844\n",
      "simulation/runs/GAG_-5S+5T_2024_08_12_00_08_1723423704/250\n"
     ]
    },
    {
     "name": "stderr",
     "output_type": "stream",
     "text": [
      "/home/ubuntu/CTP/simulation/runs/GAG_-5S+5T_2024_08_12_00_08_1723423704/250/da.py:62: OptimizeWarning: Covariance of the parameters could not be estimated\n",
      "  popt, _ = curve_fit(super_gaussian, coords, avg_profile, p0=initial_guess, maxfev=20000)\n"
     ]
    },
    {
     "name": "stdout",
     "output_type": "stream",
     "text": [
      "Dense phase concentration: 0.23208823095625186 +/- 0.008248882491091781\n",
      "Dilute phase concentration: 0.2293652493718593 +/- 0.009055276352725348\n",
      "simulation/runs/GAG_-5S+5T_2024_08_12_00_08_1723423704/321\n"
     ]
    },
    {
     "name": "stderr",
     "output_type": "stream",
     "text": [
      "/home/ubuntu/CTP/simulation/runs/GAG_-5S+5T_2024_08_12_00_08_1723423704/321/da.py:62: OptimizeWarning: Covariance of the parameters could not be estimated\n",
      "  popt, _ = curve_fit(super_gaussian, coords, avg_profile, p0=initial_guess, maxfev=20000)\n"
     ]
    },
    {
     "name": "stdout",
     "output_type": "stream",
     "text": [
      "Dense phase concentration: 0.23148304389595034 +/- 0.001899714466586472\n",
      "Dilute phase concentration: 0.23065125942211057 +/- 0.0020133443726449343\n",
      "simulation/runs/GAG_-5S+5T_2024_08_12_00_08_1723423704/349\n"
     ]
    },
    {
     "name": "stderr",
     "output_type": "stream",
     "text": [
      "/home/ubuntu/CTP/simulation/runs/GAG_-5S+5T_2024_08_12_00_08_1723423704/349/da.py:62: OptimizeWarning: Covariance of the parameters could not be estimated\n",
      "  popt, _ = curve_fit(super_gaussian, coords, avg_profile, p0=initial_guess, maxfev=20000)\n"
     ]
    },
    {
     "name": "stdout",
     "output_type": "stream",
     "text": [
      "Dense phase concentration: 0.23141284658587052 +/- 0.0016165750792521115\n",
      "Dilute phase concentration: 0.23080042744974877 +/- 0.002453951820365812\n",
      "simulation/runs/GAG_-5S+5T_2024_08_12_00_08_1723423704/356\n"
     ]
    },
    {
     "name": "stderr",
     "output_type": "stream",
     "text": [
      "/home/ubuntu/CTP/simulation/runs/GAG_-5S+5T_2024_08_12_00_08_1723423704/356/da.py:62: OptimizeWarning: Covariance of the parameters could not be estimated\n",
      "  popt, _ = curve_fit(super_gaussian, coords, avg_profile, p0=initial_guess, maxfev=20000)\n"
     ]
    },
    {
     "name": "stdout",
     "output_type": "stream",
     "text": [
      "Dense phase concentration: 0.2313419988176175 +/- 0.002405030212455996\n",
      "Dilute phase concentration: 0.23095098429648242 +/- 0.0012244868632432038\n",
      "simulation/runs/GAG_-5S+5T_2024_08_12_00_08_1723423704/370\n"
     ]
    },
    {
     "name": "stderr",
     "output_type": "stream",
     "text": [
      "/home/ubuntu/CTP/simulation/runs/GAG_-5S+5T_2024_08_12_00_08_1723423704/370/da.py:62: OptimizeWarning: Covariance of the parameters could not be estimated\n",
      "  popt, _ = curve_fit(super_gaussian, coords, avg_profile, p0=initial_guess, maxfev=20000)\n"
     ]
    },
    {
     "name": "stdout",
     "output_type": "stream",
     "text": [
      "Dense phase concentration: 0.23126132929352644 +/- 0.001241597082081519\n",
      "Dilute phase concentration: 0.23112241300251257 +/- 0.0011820598575607625\n",
      "simulation/runs/GAG_-5S+5T_2024_08_12_00_08_1723423704/335\n"
     ]
    },
    {
     "name": "stderr",
     "output_type": "stream",
     "text": [
      "/home/ubuntu/CTP/simulation/runs/GAG_-5S+5T_2024_08_12_00_08_1723423704/335/da.py:62: OptimizeWarning: Covariance of the parameters could not be estimated\n",
      "  popt, _ = curve_fit(super_gaussian, coords, avg_profile, p0=initial_guess, maxfev=20000)\n"
     ]
    },
    {
     "name": "stdout",
     "output_type": "stream",
     "text": [
      "Dense phase concentration: 0.2311277428318061 +/- 0.00253495938793594\n",
      "Dilute phase concentration: 0.23140627763819097 +/- 0.0015395081342607323\n",
      "simulation/runs/GAG_-5S+5T_2024_08_12_00_08_1723423704/270\n"
     ]
    },
    {
     "name": "stderr",
     "output_type": "stream",
     "text": [
      "/home/ubuntu/CTP/simulation/runs/GAG_-5S+5T_2024_08_12_00_08_1723423704/270/da.py:62: OptimizeWarning: Covariance of the parameters could not be estimated\n",
      "  popt, _ = curve_fit(super_gaussian, coords, avg_profile, p0=initial_guess, maxfev=20000)\n"
     ]
    },
    {
     "name": "stdout",
     "output_type": "stream",
     "text": [
      "Dense phase concentration: 0.23132889847768257 +/- 0.004625163454703434\n",
      "Dilute phase concentration: 0.23097882135678394 +/- 0.0020509016618256853\n"
     ]
    },
    {
     "name": "stderr",
     "output_type": "stream",
     "text": [
      "/home/ubuntu/anaconda3/envs/lammps/lib/python3.9/site-packages/matplotlib/collections.py:197: ComplexWarning: Casting complex values to real discards the imaginary part\n",
      "  offsets = np.asanyarray(offsets, float)\n",
      "/home/ubuntu/anaconda3/envs/lammps/lib/python3.9/site-packages/matplotlib/cbook.py:1762: ComplexWarning: Casting complex values to real discards the imaginary part\n",
      "  return math.isfinite(val)\n",
      "/home/ubuntu/anaconda3/envs/lammps/lib/python3.9/site-packages/matplotlib/cbook.py:1398: ComplexWarning: Casting complex values to real discards the imaginary part\n",
      "  return np.asarray(x, float)\n"
     ]
    },
    {
     "name": "stdout",
     "output_type": "stream",
     "text": [
      "File densities_chunked_temp250.txt read successfully with 2 lines.\n",
      "Original data lines:\n",
      "Dense phase concentration: 0.23208823095625186 +/- 0.008248882491091781\n",
      "Dilute phase concentration: 0.2293652493718593 +/- 0.009055276352725348\n",
      "Filtered data lines: 2\n",
      "Dense phase concentration: 0.23208823095625186 +/- 0.008248882491091781\n",
      "Dilute phase concentration: 0.2293652493718593 +/- 0.009055276352725348\n",
      "File densities_chunked_temp270.txt read successfully with 2 lines.\n",
      "Original data lines:\n",
      "Dense phase concentration: 0.23132889847768257 +/- 0.004625163454703434\n",
      "Dilute phase concentration: 0.23097882135678394 +/- 0.0020509016618256853\n",
      "Filtered data lines: 2\n",
      "Dense phase concentration: 0.23132889847768257 +/- 0.004625163454703434\n",
      "Dilute phase concentration: 0.23097882135678394 +/- 0.0020509016618256853\n",
      "File densities_chunked_temp290.txt read successfully with 2 lines.\n",
      "Original data lines:\n",
      "Dense phase concentration: 0.23177265651788354 +/- 0.0026980807162664995\n",
      "Dilute phase concentration: 0.23003585612437186 +/- 0.002379779980133588\n",
      "Filtered data lines: 2\n",
      "Dense phase concentration: 0.23177265651788354 +/- 0.0026980807162664995\n",
      "Dilute phase concentration: 0.23003585612437186 +/- 0.002379779980133588\n",
      "File densities_chunked_temp300.txt read successfully with 2 lines.\n",
      "Original data lines:\n",
      "Dense phase concentration: 0.23069858291457285 +/- 0.001644284183371195\n",
      "Dilute phase concentration: 0.23231823256909548 +/- 0.001235336353792126\n",
      "Filtered data lines: 2\n",
      "Dense phase concentration: 0.23069858291457285 +/- 0.001644284183371195\n",
      "Dilute phase concentration: 0.23231823256909548 +/- 0.001235336353792126\n",
      "File densities_chunked_temp307.txt read successfully with 2 lines.\n",
      "Original data lines:\n",
      "Dense phase concentration: 0.23141418533845698 +/- 0.002963588672712133\n",
      "Dilute phase concentration: 0.23079757694723618 +/- 0.0021181909213075774\n",
      "Filtered data lines: 2\n",
      "Dense phase concentration: 0.23141418533845698 +/- 0.002963588672712133\n",
      "Dilute phase concentration: 0.23079757694723618 +/- 0.0021181909213075774\n",
      "File densities_chunked_temp314.txt read successfully with 2 lines.\n",
      "Original data lines:\n",
      "Dense phase concentration: 0.23157354906887379 +/- 0.002574165726270826\n",
      "Dilute phase concentration: 0.23045893530150752 +/- 0.00212127321588504\n",
      "Filtered data lines: 2\n",
      "Dense phase concentration: 0.23157354906887379 +/- 0.002574165726270826\n",
      "Dilute phase concentration: 0.23045893530150752 +/- 0.00212127321588504\n",
      "File densities_chunked_temp321.txt read successfully with 2 lines.\n",
      "Original data lines:\n",
      "Dense phase concentration: 0.23148304389595034 +/- 0.001899714466586472\n",
      "Dilute phase concentration: 0.23065125942211057 +/- 0.0020133443726449343\n",
      "Filtered data lines: 2\n",
      "Dense phase concentration: 0.23148304389595034 +/- 0.001899714466586472\n",
      "Dilute phase concentration: 0.23065125942211057 +/- 0.0020133443726449343\n",
      "File densities_chunked_temp328.txt read successfully with 2 lines.\n",
      "Original data lines:\n",
      "Dense phase concentration: 0.23119501684895064 +/- 0.0020818394128125843\n",
      "Dilute phase concentration: 0.2312633209798995 +/- 0.0022162535237132343\n",
      "Filtered data lines: 2\n",
      "Dense phase concentration: 0.23119501684895064 +/- 0.0020818394128125843\n",
      "Dilute phase concentration: 0.2312633209798995 +/- 0.0022162535237132343\n",
      "File densities_chunked_temp335.txt read successfully with 2 lines.\n",
      "Original data lines:\n",
      "Dense phase concentration: 0.2311277428318061 +/- 0.00253495938793594\n",
      "Dilute phase concentration: 0.23140627763819097 +/- 0.0015395081342607323\n",
      "Filtered data lines: 2\n",
      "Dense phase concentration: 0.2311277428318061 +/- 0.00253495938793594\n",
      "Dilute phase concentration: 0.23140627763819097 +/- 0.0015395081342607323\n",
      "File densities_chunked_temp342.txt read successfully with 2 lines.\n",
      "Original data lines:\n",
      "Dense phase concentration: 0.2316445987289388 +/- 0.002153659188701784\n",
      "Dilute phase concentration: 0.23030796545226132 +/- 0.0010043023164534534\n",
      "Filtered data lines: 2\n",
      "Dense phase concentration: 0.2316445987289388 +/- 0.002153659188701784\n",
      "Dilute phase concentration: 0.23030796545226132 +/- 0.0010043023164534534\n",
      "File densities_chunked_temp349.txt read successfully with 2 lines.\n",
      "Original data lines:\n",
      "Dense phase concentration: 0.23141284658587052 +/- 0.0016165750792521115\n",
      "Dilute phase concentration: 0.23080042744974877 +/- 0.002453951820365812\n",
      "Filtered data lines: 2\n",
      "Dense phase concentration: 0.23141284658587052 +/- 0.0016165750792521115\n",
      "Dilute phase concentration: 0.23080042744974877 +/- 0.002453951820365812\n",
      "File densities_chunked_temp356.txt read successfully with 2 lines.\n",
      "Original data lines:\n",
      "Dense phase concentration: 0.2313419988176175 +/- 0.002405030212455996\n",
      "Dilute phase concentration: 0.23095098429648242 +/- 0.0012244868632432038\n",
      "Filtered data lines: 2\n",
      "Dense phase concentration: 0.2313419988176175 +/- 0.002405030212455996\n",
      "Dilute phase concentration: 0.23095098429648242 +/- 0.0012244868632432038\n",
      "File densities_chunked_temp363.txt read successfully with 2 lines.\n",
      "Original data lines:\n",
      "Dense phase concentration: 0.23138043038723027 +/- 0.0021575795110077775\n",
      "Dilute phase concentration: 0.23086931689698492 +/- 0.0016262047921400844\n",
      "Filtered data lines: 2\n",
      "Dense phase concentration: 0.23138043038723027 +/- 0.0021575795110077775\n",
      "Dilute phase concentration: 0.23086931689698492 +/- 0.0016262047921400844\n",
      "File densities_chunked_temp370.txt read successfully with 2 lines.\n",
      "Original data lines:\n",
      "Dense phase concentration: 0.23126132929352644 +/- 0.001241597082081519\n",
      "Dilute phase concentration: 0.23112241300251257 +/- 0.0011820598575607625\n",
      "Filtered data lines: 2\n",
      "Dense phase concentration: 0.23126132929352644 +/- 0.001241597082081519\n",
      "Dilute phase concentration: 0.23112241300251257 +/- 0.0011820598575607625\n",
      "Temperatures: [250, 270, 290, 300, 307, 314, 321, 328, 335, 342, 349, 356, 363, 370]\n",
      "Dense phase concentrations: [0.23208823095625186, 0.23132889847768257, 0.23177265651788354, 0.23069858291457285, 0.23141418533845698, 0.23157354906887379, 0.23148304389595034, 0.23119501684895064, 0.2311277428318061, 0.2316445987289388, 0.23141284658587052, 0.2313419988176175, 0.23138043038723027, 0.23126132929352644]\n",
      "Dilute phase concentrations: [0.2293652493718593, 0.23097882135678394, 0.23003585612437186, 0.23231823256909548, 0.23079757694723618, 0.23045893530150752, 0.23065125942211057, 0.2312633209798995, 0.23140627763819097, 0.23030796545226132, 0.23080042744974877, 0.23095098429648242, 0.23086931689698492, 0.23112241300251257]\n",
      "Dense std dev: [0.008248882491091781, 0.004625163454703434, 0.0026980807162664995, 0.001644284183371195, 0.002963588672712133, 0.002574165726270826, 0.001899714466586472, 0.0020818394128125843, 0.00253495938793594, 0.002153659188701784, 0.0016165750792521115, 0.002405030212455996, 0.0021575795110077775, 0.001241597082081519]\n",
      "Dilute std dev: [0.009055276352725348, 0.0020509016618256853, 0.002379779980133588, 0.001235336353792126, 0.0021181909213075774, 0.00212127321588504, 0.0020133443726449343, 0.0022162535237132343, 0.0015395081342607323, 0.0010043023164534534, 0.002453951820365812, 0.0012244868632432038, 0.0016262047921400844, 0.0011820598575607625]\n",
      "Critical Solution Temperature: 341.59-0.38j K written to critical_solution_temperature.txt\n",
      "execution time: 11.201430659625265 hours\n",
      "12-Aug-24 | 12:00\n",
      "\n",
      "\n",
      "running simulation for GAG_-5T+5G\n",
      "12-Aug-24 | 12:00\n",
      "seq len 57\n",
      "total temps 14\n",
      "simulation/runs/GAG_-5T+5G_2024_08_12_12_08_1723464030\n",
      "step 1: running input single chain\n"
     ]
    },
    {
     "name": "stderr",
     "output_type": "stream",
     "text": [
      "/home/ubuntu/CTP/simulation/runs/GAG_-5T+5G_2024_08_12_12_08_1723464030/seq2config.py:67: DeprecationWarning: Conversion of an array with ndim > 0 to a scalar is deprecated, and will error in future. Ensure you extract a single element from your array before performing this operation. (Deprecated NumPy 1.25.)\n",
      "  typescharges.append([int(types[p,1]),float(charges[k,1])])\n"
     ]
    },
    {
     "name": "stdout",
     "output_type": "stream",
     "text": [
      "step 2: running compress single chain\n",
      "step 3: direct coexistence\n",
      "running [{'temp': 250, 'dir': 'simulation/runs/GAG_-5T+5G_2024_08_12_12_08_1723464030/250'}, {'temp': 270, 'dir': 'simulation/runs/GAG_-5T+5G_2024_08_12_12_08_1723464030/270'}, {'temp': 290, 'dir': 'simulation/runs/GAG_-5T+5G_2024_08_12_12_08_1723464030/290'}, {'temp': 300, 'dir': 'simulation/runs/GAG_-5T+5G_2024_08_12_12_08_1723464030/300'}, {'temp': 307, 'dir': 'simulation/runs/GAG_-5T+5G_2024_08_12_12_08_1723464030/307'}, {'temp': 314, 'dir': 'simulation/runs/GAG_-5T+5G_2024_08_12_12_08_1723464030/314'}]\n",
      "12-Aug-24 | 12:12\n",
      "execution time: 4.577439418170187 hours\n",
      "12-Aug-24 | 16:46\n",
      "running [{'temp': 321, 'dir': 'simulation/runs/GAG_-5T+5G_2024_08_12_12_08_1723464030/321'}, {'temp': 328, 'dir': 'simulation/runs/GAG_-5T+5G_2024_08_12_12_08_1723464030/328'}, {'temp': 335, 'dir': 'simulation/runs/GAG_-5T+5G_2024_08_12_12_08_1723464030/335'}, {'temp': 342, 'dir': 'simulation/runs/GAG_-5T+5G_2024_08_12_12_08_1723464030/342'}, {'temp': 349, 'dir': 'simulation/runs/GAG_-5T+5G_2024_08_12_12_08_1723464030/349'}, {'temp': 356, 'dir': 'simulation/runs/GAG_-5T+5G_2024_08_12_12_08_1723464030/356'}]\n",
      "12-Aug-24 | 16:46\n",
      "execution time: 3.9904433957073424 hours\n",
      "12-Aug-24 | 20:46\n",
      "running [{'temp': 363, 'dir': 'simulation/runs/GAG_-5T+5G_2024_08_12_12_08_1723464030/363'}, {'temp': 370, 'dir': 'simulation/runs/GAG_-5T+5G_2024_08_12_12_08_1723464030/370'}]\n",
      "remaining temp, CPUs_pp = 48\n",
      "12-Aug-24 | 20:46\n",
      "execution time: 2.8225540695587794 hours\n",
      "12-Aug-24 | 23:35\n",
      "calculating ps densities\n",
      "simulation/runs/GAG_-5T+5G_2024_08_12_12_08_1723464030/300\n"
     ]
    },
    {
     "name": "stderr",
     "output_type": "stream",
     "text": [
      "/home/ubuntu/CTP/simulation/runs/GAG_-5T+5G_2024_08_12_12_08_1723464030/300/da.py:62: OptimizeWarning: Covariance of the parameters could not be estimated\n",
      "  popt, _ = curve_fit(super_gaussian, coords, avg_profile, p0=initial_guess, maxfev=20000)\n"
     ]
    },
    {
     "name": "stdout",
     "output_type": "stream",
     "text": [
      "Dense phase concentration: 0.22977990294117645 +/- 0.0039149534113079795\n",
      "Dilute phase concentration: 0.22870990188442214 +/- 0.0030347411087660718\n",
      "simulation/runs/GAG_-5T+5G_2024_08_12_12_08_1723464030/314\n"
     ]
    },
    {
     "name": "stderr",
     "output_type": "stream",
     "text": [
      "/home/ubuntu/CTP/simulation/runs/GAG_-5T+5G_2024_08_12_12_08_1723464030/314/da.py:62: OptimizeWarning: Covariance of the parameters could not be estimated\n",
      "  popt, _ = curve_fit(super_gaussian, coords, avg_profile, p0=initial_guess, maxfev=20000)\n"
     ]
    },
    {
     "name": "stdout",
     "output_type": "stream",
     "text": [
      "Dense phase concentration: 0.22926738338752586 +/- 0.0019546378570964125\n",
      "Dilute phase concentration: 0.22979901695979899 +/- 0.002451209564402473\n",
      "simulation/runs/GAG_-5T+5G_2024_08_12_12_08_1723464030/290\n"
     ]
    },
    {
     "name": "stderr",
     "output_type": "stream",
     "text": [
      "/home/ubuntu/CTP/simulation/runs/GAG_-5T+5G_2024_08_12_12_08_1723464030/290/da.py:62: OptimizeWarning: Covariance of the parameters could not be estimated\n",
      "  popt, _ = curve_fit(super_gaussian, coords, avg_profile, p0=initial_guess, maxfev=20000)\n"
     ]
    },
    {
     "name": "stdout",
     "output_type": "stream",
     "text": [
      "Dense phase concentration: 0.22926933273721548 +/- 0.002610022474327273\n",
      "Dilute phase concentration: 0.22979488316582913 +/- 0.0015191917431181324\n",
      "simulation/runs/GAG_-5T+5G_2024_08_12_12_08_1723464030/342\n"
     ]
    },
    {
     "name": "stderr",
     "output_type": "stream",
     "text": [
      "/home/ubuntu/CTP/simulation/runs/GAG_-5T+5G_2024_08_12_12_08_1723464030/342/da.py:62: OptimizeWarning: Covariance of the parameters could not be estimated\n",
      "  popt, _ = curve_fit(super_gaussian, coords, avg_profile, p0=initial_guess, maxfev=20000)\n"
     ]
    },
    {
     "name": "stdout",
     "output_type": "stream",
     "text": [
      "Dense phase concentration: 0.22972523411173518 +/- 0.0014866117689503167\n",
      "Dilute phase concentration: 0.2288260769472362 +/- 0.002002943332332195\n",
      "simulation/runs/GAG_-5T+5G_2024_08_12_12_08_1723464030/328\n"
     ]
    },
    {
     "name": "stderr",
     "output_type": "stream",
     "text": [
      "/home/ubuntu/CTP/simulation/runs/GAG_-5T+5G_2024_08_12_12_08_1723464030/328/da.py:62: OptimizeWarning: Covariance of the parameters could not be estimated\n",
      "  popt, _ = curve_fit(super_gaussian, coords, avg_profile, p0=initial_guess, maxfev=20000)\n"
     ]
    },
    {
     "name": "stdout",
     "output_type": "stream",
     "text": [
      "Dense phase concentration: 0.2302572818504286 +/- 0.0017457346713944525\n",
      "Dilute phase concentration: 0.22769548209798995 +/- 0.0022949154351866495\n",
      "simulation/runs/GAG_-5T+5G_2024_08_12_12_08_1723464030/307\n"
     ]
    },
    {
     "name": "stderr",
     "output_type": "stream",
     "text": [
      "/home/ubuntu/CTP/simulation/runs/GAG_-5T+5G_2024_08_12_12_08_1723464030/307/da.py:62: OptimizeWarning: Covariance of the parameters could not be estimated\n",
      "  popt, _ = curve_fit(super_gaussian, coords, avg_profile, p0=initial_guess, maxfev=20000)\n"
     ]
    },
    {
     "name": "stdout",
     "output_type": "stream",
     "text": [
      "Dense phase concentration: 0.22925758675731597 +/- 0.001701456750290393\n",
      "Dilute phase concentration: 0.2298198300879397 +/- 0.001123719584880388\n",
      "simulation/runs/GAG_-5T+5G_2024_08_12_12_08_1723464030/363\n"
     ]
    },
    {
     "name": "stderr",
     "output_type": "stream",
     "text": [
      "/home/ubuntu/CTP/simulation/runs/GAG_-5T+5G_2024_08_12_12_08_1723464030/363/da.py:62: OptimizeWarning: Covariance of the parameters could not be estimated\n",
      "  popt, _ = curve_fit(super_gaussian, coords, avg_profile, p0=initial_guess, maxfev=20000)\n"
     ]
    },
    {
     "name": "stdout",
     "output_type": "stream",
     "text": [
      "Dense phase concentration: 0.22953072376588826 +/- 0.0014097269670059922\n",
      "Dilute phase concentration: 0.22923942462311558 +/- 0.0014742425424563064\n",
      "simulation/runs/GAG_-5T+5G_2024_08_12_12_08_1723464030/250\n"
     ]
    },
    {
     "name": "stderr",
     "output_type": "stream",
     "text": [
      "Traceback (most recent call last):\n",
      "  File \"/home/ubuntu/CTP/simulation/runs/GAG_-5T+5G_2024_08_12_12_08_1723464030/250/da.py\", line 146, in <module>\n",
      "    main()\n",
      "  File \"/home/ubuntu/CTP/simulation/runs/GAG_-5T+5G_2024_08_12_12_08_1723464030/250/da.py\", line 133, in main\n",
      "    dense, dilute, dense_stdev, dilute_stdev = process_density_file(file_name)\n",
      "  File \"/home/ubuntu/CTP/simulation/runs/GAG_-5T+5G_2024_08_12_12_08_1723464030/250/da.py\", line 121, in process_density_file\n",
      "    dense, dilute, dense_stdev, dilute_stdev = get_dilute_and_dense_concentrations(density, zPosition)\n",
      "  File \"/home/ubuntu/CTP/simulation/runs/GAG_-5T+5G_2024_08_12_12_08_1723464030/250/da.py\", line 99, in get_dilute_and_dense_concentrations\n",
      "    left_interface_coord, right_interface_coord = super_gaussian_fd_method(coords, density)\n",
      "  File \"/home/ubuntu/CTP/simulation/runs/GAG_-5T+5G_2024_08_12_12_08_1723464030/250/da.py\", line 62, in super_gaussian_fd_method\n",
      "    popt, _ = curve_fit(super_gaussian, coords, avg_profile, p0=initial_guess, maxfev=20000)\n",
      "  File \"/home/ubuntu/anaconda3/envs/lammps/lib/python3.9/site-packages/scipy/optimize/_minpack_py.py\", line 1005, in curve_fit\n",
      "    raise RuntimeError(\"Optimal parameters not found: \" + errmsg)\n",
      "RuntimeError: Optimal parameters not found: Number of calls to function has reached maxfev = 20000.\n"
     ]
    },
    {
     "ename": "FileNotFoundError",
     "evalue": "[Errno 2] No such file or directory: 'simulation/runs/GAG_-5T+5G_2024_08_12_12_08_1723464030/250/densities_chunked2.dat_concentrations.txt' -> 'simulation/runs/GAG_-5T+5G_2024_08_12_12_08_1723464030/ps_densities/densities_chunked_temp250.txt'",
     "output_type": "error",
     "traceback": [
      "\u001b[0;31m---------------------------------------------------------------------------\u001b[0m",
      "\u001b[0;31mFileNotFoundError\u001b[0m                         Traceback (most recent call last)",
      "Cell \u001b[0;32mIn[140], line 39\u001b[0m\n\u001b[1;32m     36\u001b[0m \u001b[38;5;28mprint\u001b[39m(mesg)\n\u001b[1;32m     37\u001b[0m f\u001b[38;5;241m.\u001b[39mwritelines(mesg\u001b[38;5;241m+\u001b[39m\u001b[38;5;124m\"\u001b[39m\u001b[38;5;130;01m\\n\u001b[39;00m\u001b[38;5;124m\"\u001b[39m)\n\u001b[0;32m---> 39\u001b[0m \u001b[43mrun_simulation\u001b[49m\u001b[43m(\u001b[49m\u001b[38;5;241;43m*\u001b[39;49m\u001b[38;5;241;43m*\u001b[39;49m\u001b[43m \u001b[49m\u001b[43msim_args\u001b[49m\u001b[43m \u001b[49m\u001b[38;5;241;43m|\u001b[39;49m\u001b[43m \u001b[49m\u001b[43m{\u001b[49m\u001b[38;5;124;43m\"\u001b[39;49m\u001b[38;5;124;43mCPUs\u001b[39;49m\u001b[38;5;124;43m\"\u001b[39;49m\u001b[43m:\u001b[49m\u001b[43m \u001b[49m\u001b[43mCPUs\u001b[49m\u001b[43m,\u001b[49m\u001b[43m \u001b[49m\u001b[38;5;124;43m\"\u001b[39;49m\u001b[38;5;124;43mCPUs_per_process\u001b[39;49m\u001b[38;5;124;43m\"\u001b[39;49m\u001b[43m:\u001b[49m\u001b[43m \u001b[49m\u001b[43mCPUs_per_process\u001b[49m\u001b[43m}\u001b[49m\u001b[43m)\u001b[49m\n\u001b[1;32m     40\u001b[0m \u001b[38;5;66;03m# for i in range(111111111):\u001b[39;00m\n\u001b[1;32m     41\u001b[0m \u001b[38;5;66;03m#     pass\u001b[39;00m\n\u001b[1;32m     42\u001b[0m mesg \u001b[38;5;241m=\u001b[39m \u001b[38;5;124mf\u001b[39m\u001b[38;5;124m'\u001b[39m\u001b[38;5;124mexecution time: \u001b[39m\u001b[38;5;132;01m{\u001b[39;00m(time\u001b[38;5;241m.\u001b[39mtime()\u001b[38;5;250m \u001b[39m\u001b[38;5;241m-\u001b[39m\u001b[38;5;250m \u001b[39mstart_time)\u001b[38;5;250m \u001b[39m\u001b[38;5;241m/\u001b[39m\u001b[38;5;250m \u001b[39m(\u001b[38;5;241m60\u001b[39m\u001b[38;5;241m*\u001b[39m\u001b[38;5;241m60\u001b[39m)\u001b[38;5;132;01m}\u001b[39;00m\u001b[38;5;124m hours\u001b[39m\u001b[38;5;124m'\u001b[39m\n",
      "Cell \u001b[0;32mIn[137], line 165\u001b[0m, in \u001b[0;36mrun_simulation\u001b[0;34m(gene_name, seq, temps, CPUs, CPUs_per_process, run_dirs, simulation_dir, delete_lammpstrj)\u001b[0m\n\u001b[1;32m    163\u001b[0m         \u001b[38;5;28mprint\u001b[39m(os\u001b[38;5;241m.\u001b[39mpath\u001b[38;5;241m.\u001b[39mjoin(simulation_dir_name, \u001b[38;5;28mstr\u001b[39m(temp)))\n\u001b[1;32m    164\u001b[0m         subprocess\u001b[38;5;241m.\u001b[39mrun([\u001b[38;5;124m\"\u001b[39m\u001b[38;5;124mpython\u001b[39m\u001b[38;5;124m\"\u001b[39m, \u001b[38;5;124m\"\u001b[39m\u001b[38;5;124mda.py\u001b[39m\u001b[38;5;124m\"\u001b[39m, \u001b[38;5;124m\"\u001b[39m\u001b[38;5;124mdensities_chunked2.dat\u001b[39m\u001b[38;5;124m\"\u001b[39m], cwd\u001b[38;5;241m=\u001b[39mos\u001b[38;5;241m.\u001b[39mpath\u001b[38;5;241m.\u001b[39mjoin(simulation_dir_name, \u001b[38;5;28mstr\u001b[39m(temp)))\n\u001b[0;32m--> 165\u001b[0m         \u001b[43mos\u001b[49m\u001b[38;5;241;43m.\u001b[39;49m\u001b[43mrename\u001b[49m\u001b[43m(\u001b[49m\u001b[43mos\u001b[49m\u001b[38;5;241;43m.\u001b[39;49m\u001b[43mpath\u001b[49m\u001b[38;5;241;43m.\u001b[39;49m\u001b[43mjoin\u001b[49m\u001b[43m(\u001b[49m\u001b[43msimulation_dir_name\u001b[49m\u001b[43m,\u001b[49m\u001b[43m \u001b[49m\u001b[43mtemp\u001b[49m\u001b[43m,\u001b[49m\u001b[43m \u001b[49m\u001b[38;5;124;43m\"\u001b[39;49m\u001b[38;5;124;43mdensities_chunked2.dat_concentrations.txt\u001b[39;49m\u001b[38;5;124;43m\"\u001b[39;49m\u001b[43m)\u001b[49m\u001b[43m,\u001b[49m\n\u001b[1;32m    166\u001b[0m \u001b[43m                  \u001b[49m\u001b[43mos\u001b[49m\u001b[38;5;241;43m.\u001b[39;49m\u001b[43mpath\u001b[49m\u001b[38;5;241;43m.\u001b[39;49m\u001b[43mjoin\u001b[49m\u001b[43m(\u001b[49m\u001b[43msimulation_dir_name\u001b[49m\u001b[43m,\u001b[49m\u001b[43m \u001b[49m\u001b[38;5;124;43m\"\u001b[39;49m\u001b[38;5;124;43mps_densities\u001b[39;49m\u001b[38;5;124;43m\"\u001b[39;49m\u001b[43m,\u001b[49m\u001b[43m \u001b[49m\u001b[38;5;124;43mf\u001b[39;49m\u001b[38;5;124;43m\"\u001b[39;49m\u001b[38;5;124;43mdensities_chunked_temp\u001b[39;49m\u001b[38;5;132;43;01m{\u001b[39;49;00m\u001b[43mtemp\u001b[49m\u001b[38;5;132;43;01m}\u001b[39;49;00m\u001b[38;5;124;43m.txt\u001b[39;49m\u001b[38;5;124;43m\"\u001b[39;49m\u001b[43m)\u001b[49m\u001b[43m)\u001b[49m\n\u001b[1;32m    168\u001b[0m subprocess\u001b[38;5;241m.\u001b[39mrun([\u001b[38;5;124m\"\u001b[39m\u001b[38;5;124mpython\u001b[39m\u001b[38;5;124m\"\u001b[39m, \u001b[38;5;124m\"\u001b[39m\u001b[38;5;124mppd.py\u001b[39m\u001b[38;5;124m\"\u001b[39m], cwd\u001b[38;5;241m=\u001b[39mos\u001b[38;5;241m.\u001b[39mpath\u001b[38;5;241m.\u001b[39mjoin(simulation_dir_name, \u001b[38;5;124m\"\u001b[39m\u001b[38;5;124mps_densities\u001b[39m\u001b[38;5;124m\"\u001b[39m))\n",
      "\u001b[0;31mFileNotFoundError\u001b[0m: [Errno 2] No such file or directory: 'simulation/runs/GAG_-5T+5G_2024_08_12_12_08_1723464030/250/densities_chunked2.dat_concentrations.txt' -> 'simulation/runs/GAG_-5T+5G_2024_08_12_12_08_1723464030/ps_densities/densities_chunked_temp250.txt'"
     ]
    }
   ],
   "source": [
    "\n",
    "CPUs=96\n",
    "CPUs_per_process = 16\n",
    "proccesses = CPUs // CPUs_per_process \n",
    "\n",
    "seq_to_run = read_sim_data()\n",
    "\n",
    "log_name = f'simulation_run_{datetime.datetime.now().strftime(\"%Y_%m_%d_%H_%m_%s\")}.log'\n",
    "\n",
    "with open(os.path.join(\"simulation\", \"logs\", log_name), \"w+\") as f:\n",
    "    print(get_curr_time())\n",
    "    mesg = f\"CPUs {CPUs}, proccesses {proccesses}, CPUs_per_process {CPUs_per_process}\\n\"\n",
    "    print(mesg)\n",
    "    f.writelines(mesg+\"\\n\")\n",
    "    \n",
    "    # for seq_name in seq_to_run:\n",
    "    for seq_name in sorted(seq_to_run, key=lambda x: len(seq_to_run[x]['seq'])):\n",
    "        if seq_name in simulations_completed:\n",
    "            print(f\"Sequence was already calculated {seq_name}\")\n",
    "            continue\n",
    "        mesg = f\"running simulation for {seq_name}\"\n",
    "        print(mesg)\n",
    "        f.writelines(mesg+\"\\n\")\n",
    "        print(get_curr_time())\n",
    "        \n",
    "        start_time = time.time()\n",
    "        \n",
    "        sim_args = {\"gene_name\": seq_name,\n",
    "                    \"seq\": seq_to_run[seq_name]['seq'],\n",
    "                    \"temps\": seq_to_run[seq_name]['temps']}\n",
    "          \n",
    "        mesg = f\"seq len {len(sim_args['seq'])}\"\n",
    "        print(mesg)\n",
    "        f.writelines(mesg+\"\\n\")\n",
    "    \n",
    "        mesg = f\"total temps {len(sim_args['temps'])}\"\n",
    "        print(mesg)\n",
    "        f.writelines(mesg+\"\\n\")\n",
    "        \n",
    "        run_simulation(** sim_args | {\"CPUs\": CPUs, \"CPUs_per_process\": CPUs_per_process})\n",
    "        # for i in range(111111111):\n",
    "        #     pass\n",
    "        mesg = f'execution time: {(time.time() - start_time) / (60*60)} hours'\n",
    "        print(mesg)\n",
    "        f.writelines(mesg+\"\\n\")\n",
    "        print(get_curr_time())\n",
    "    \n",
    "        mesg = f'\\n'\n",
    "        print(mesg)\n",
    "        f.writelines(mesg+\"\\n\")\n",
    "        #break\n",
    "\n",
    "#f.close()"
   ]
  },
  {
   "cell_type": "code",
   "execution_count": 98,
   "id": "d980a2ee-e801-4dae-9ee6-33855d7c4798",
   "metadata": {},
   "outputs": [
    {
     "data": {
      "text/plain": [
       "{'gene_name': 'LORF1_-5S+5T',\n",
       " 'seq': 'MGKKQNRKTGNTKTQTASPPPKERTTSPATEQTWM',\n",
       " 'temps': [250,\n",
       "  270,\n",
       "  290,\n",
       "  300,\n",
       "  307,\n",
       "  314,\n",
       "  321,\n",
       "  328,\n",
       "  335,\n",
       "  342,\n",
       "  349,\n",
       "  356,\n",
       "  363,\n",
       "  370]}"
      ]
     },
     "execution_count": 98,
     "metadata": {},
     "output_type": "execute_result"
    }
   ],
   "source": [
    "sim_args"
   ]
  },
  {
   "cell_type": "code",
   "execution_count": 99,
   "id": "d14b5d80-f069-4754-afb9-cc6aa98e1460",
   "metadata": {
    "scrolled": true
   },
   "outputs": [
    {
     "name": "stdout",
     "output_type": "stream",
     "text": [
      "simulation/runs/LORF1_-5S+5T_2024_08_10_10_08_1723286252\n",
      "step 1: running input single chain\n"
     ]
    },
    {
     "name": "stderr",
     "output_type": "stream",
     "text": [
      "/home/ubuntu/CTP/simulation/runs/LORF1_-5S+5T_2024_08_10_10_08_1723286252/seq2config.py:67: DeprecationWarning: Conversion of an array with ndim > 0 to a scalar is deprecated, and will error in future. Ensure you extract a single element from your array before performing this operation. (Deprecated NumPy 1.25.)\n",
      "  typescharges.append([int(types[p,1]),float(charges[k,1])])\n",
      "/home/ubuntu/CTP/simulation/runs/LORF1_-5S+5T_2024_08_10_10_08_1723286252/seq2config.py:67: DeprecationWarning: Conversion of an array with ndim > 0 to a scalar is deprecated, and will error in future. Ensure you extract a single element from your array before performing this operation. (Deprecated NumPy 1.25.)\n",
      "  typescharges.append([int(types[p,1]),float(charges[k,1])])\n"
     ]
    },
    {
     "name": "stdout",
     "output_type": "stream",
     "text": [
      "step 2: running compress single chain\n",
      "step 3: direct coexistence\n",
      "running [{'temp': 250, 'dir': 'simulation/runs/LORF1_-5S+5T_2024_08_10_10_08_1723286252/250'}, {'temp': 270, 'dir': 'simulation/runs/LORF1_-5S+5T_2024_08_10_10_08_1723286252/270'}, {'temp': 290, 'dir': 'simulation/runs/LORF1_-5S+5T_2024_08_10_10_08_1723286252/290'}, {'temp': 300, 'dir': 'simulation/runs/LORF1_-5S+5T_2024_08_10_10_08_1723286252/300'}, {'temp': 307, 'dir': 'simulation/runs/LORF1_-5S+5T_2024_08_10_10_08_1723286252/307'}, {'temp': 314, 'dir': 'simulation/runs/LORF1_-5S+5T_2024_08_10_10_08_1723286252/314'}]\n",
      "10-Aug-24 | 10:44\n"
     ]
    },
    {
     "ename": "TypeError",
     "evalue": "expected str, bytes or os.PathLike object, not tuple",
     "output_type": "error",
     "traceback": [
      "\u001b[0;31m---------------------------------------------------------------------------\u001b[0m",
      "\u001b[0;31mRemoteTraceback\u001b[0m                           Traceback (most recent call last)",
      "\u001b[0;31mRemoteTraceback\u001b[0m: \n\"\"\"\nTraceback (most recent call last):\n  File \"/home/ubuntu/anaconda3/envs/lammps/lib/python3.9/multiprocessing/pool.py\", line 125, in worker\n    result = (True, func(*args, **kwds))\n  File \"/tmp/ipykernel_2213/1515289249.py\", line 2, in run_sample_lmp\n    f = open(os.path.join(temp_dir_name, \"sample.log\"), \"w+\")\n  File \"/home/ubuntu/anaconda3/envs/lammps/lib/python3.9/posixpath.py\", line 76, in join\n    a = os.fspath(a)\nTypeError: expected str, bytes or os.PathLike object, not tuple\n\"\"\"",
      "\nThe above exception was the direct cause of the following exception:\n",
      "\u001b[0;31mTypeError\u001b[0m                                 Traceback (most recent call last)",
      "Cell \u001b[0;32mIn[99], line 125\u001b[0m\n\u001b[1;32m    122\u001b[0m     results \u001b[38;5;241m=\u001b[39m [pool\u001b[38;5;241m.\u001b[39mapply_async(run_sample_lmp, args \u001b[38;5;241m=\u001b[39m (p, CPUs_per_process)) \u001b[38;5;28;01mfor\u001b[39;00m p \u001b[38;5;129;01min\u001b[39;00m params]\n\u001b[1;32m    124\u001b[0m     \u001b[38;5;28;01mfor\u001b[39;00m r \u001b[38;5;129;01min\u001b[39;00m results:\n\u001b[0;32m--> 125\u001b[0m         \u001b[38;5;28mprint\u001b[39m(\u001b[38;5;124m'\u001b[39m\u001b[38;5;130;01m\\t\u001b[39;00m\u001b[38;5;124m'\u001b[39m, \u001b[43mr\u001b[49m\u001b[38;5;241;43m.\u001b[39;49m\u001b[43mget\u001b[49m\u001b[43m(\u001b[49m\u001b[43m)\u001b[49m)\n\u001b[1;32m    126\u001b[0m temp_buf \u001b[38;5;241m=\u001b[39m []\n\u001b[1;32m    127\u001b[0m \u001b[38;5;28mprint\u001b[39m(\u001b[38;5;124mf\u001b[39m\u001b[38;5;124m'\u001b[39m\u001b[38;5;124mexecution time: \u001b[39m\u001b[38;5;132;01m{\u001b[39;00m(time\u001b[38;5;241m.\u001b[39mtime()\u001b[38;5;250m \u001b[39m\u001b[38;5;241m-\u001b[39m\u001b[38;5;250m \u001b[39mstart_time)\u001b[38;5;250m \u001b[39m\u001b[38;5;241m/\u001b[39m\u001b[38;5;250m \u001b[39m(\u001b[38;5;241m60\u001b[39m\u001b[38;5;241m*\u001b[39m\u001b[38;5;241m60\u001b[39m)\u001b[38;5;132;01m}\u001b[39;00m\u001b[38;5;124m hours\u001b[39m\u001b[38;5;124m'\u001b[39m)\n",
      "File \u001b[0;32m~/anaconda3/envs/lammps/lib/python3.9/multiprocessing/pool.py:771\u001b[0m, in \u001b[0;36mApplyResult.get\u001b[0;34m(self, timeout)\u001b[0m\n\u001b[1;32m    769\u001b[0m     \u001b[38;5;28;01mreturn\u001b[39;00m \u001b[38;5;28mself\u001b[39m\u001b[38;5;241m.\u001b[39m_value\n\u001b[1;32m    770\u001b[0m \u001b[38;5;28;01melse\u001b[39;00m:\n\u001b[0;32m--> 771\u001b[0m     \u001b[38;5;28;01mraise\u001b[39;00m \u001b[38;5;28mself\u001b[39m\u001b[38;5;241m.\u001b[39m_value\n",
      "\u001b[0;31mTypeError\u001b[0m: expected str, bytes or os.PathLike object, not tuple"
     ]
    }
   ],
   "source": [
    "gene_name = sim_args['gene_name']\n",
    "seq = sim_args['seq']\n",
    "temps = sim_args['temps']\n",
    "                   \n",
    "run_dirs=SIMULATION_RUN_DIRS\n",
    "                   \n",
    "simulation_dir=SIMULATION_ROOT_DIR\n",
    "                  \n",
    "delete_lammpstrj=True\n",
    "\n",
    "\n",
    "\n",
    "processes =  CPUs // CPUs_per_process\n",
    "\n",
    "simulation_dir_name = create_run_dir_name(gene_name)\n",
    "simulation_dir_name = os.path.join(run_dirs, simulation_dir_name)\n",
    "print(simulation_dir_name)\n",
    "os.mkdir(simulation_dir_name)\n",
    "\n",
    "with open(os.path.join(simulation_dir_name, \"seq.txt\"), \"w+\") as f:\n",
    "    for i, letter in enumerate(seq, start=1):\n",
    "        if i < len(seq):\n",
    "            f.write(letter+\"\\n\")\n",
    "        else:\n",
    "            f.write(letter)\n",
    "    f.truncate()\n",
    "shutil.copy(os.path.join(SIMULATION_LIBS, \"seq2config.py\"), simulation_dir_name)\n",
    "shutil.copy(os.path.join(SIMULATION_LIBS, \"aa_charges_one_letter.txt\"), simulation_dir_name)\n",
    "shutil.copy(os.path.join(SIMULATION_LIBS, \"aa_charges_three_letters.txt\"), simulation_dir_name)\n",
    "shutil.copy(os.path.join(SIMULATION_LIBS, \"aa_types_three_letters.txt\"), simulation_dir_name)\n",
    "shutil.copy(os.path.join(SIMULATION_LIBS, \"aa_types_one_letter.txt\"), simulation_dir_name)\n",
    "shutil.copy(os.path.join(SIMULATION_LIBS, \"potentials.dat\"), simulation_dir_name)\n",
    "\n",
    "shutil.copy(os.path.join(SIMULATION_LIBS, \"inputSingleChain.lmp\"), simulation_dir_name)\n",
    "shutil.copy(os.path.join(SIMULATION_LIBS, \"compress.lmp\"), simulation_dir_name)\n",
    "shutil.copy(os.path.join(SIMULATION_LIBS, \"sample.lmp\"), simulation_dir_name)\n",
    "\n",
    "\n",
    "\n",
    "subprocess.run([\"python\", \"seq2config.py\"], cwd=simulation_dir_name)\n",
    "\n",
    "\n",
    "os.rename(os.path.join(simulation_dir_name, \"myconfig.dat\"), os.path.join(simulation_dir_name, \"initialChainConfig.dat\"))\n",
    "\n",
    "subprocess.run([\"python\", \"seq2config.py\"], cwd=simulation_dir_name)\n",
    "\n",
    "print(\"step 1: running input single chain\")\n",
    "f = open(os.path.join(simulation_dir_name, \"inputSingleChain.log\"), \"w+\")\n",
    "subprocess.run([\"lmp\", \"-in\", \"inputSingleChain.lmp\"], stdout=f, cwd=simulation_dir_name)\n",
    "f.close()\n",
    "os.rename(os.path.join(simulation_dir_name, \"finalSingleChainStructure.dat\"), os.path.join(simulation_dir_name, \"singleChainConfig.dat\"))\n",
    "\n",
    "print(\"step 2: running compress single chain\")\n",
    "f = open(os.path.join(simulation_dir_name, \"compress.log\"), \"w+\")\n",
    "subprocess.run([\"lmp\", \"-in\", \"compress.lmp\"], stdout=f, cwd=simulation_dir_name)\n",
    "f.close()\n",
    "os.rename(os.path.join(simulation_dir_name, \"fusfinalStructureSlab.dat\"), os.path.join(simulation_dir_name, \"initialSlab.dat\"))\n",
    "\n",
    "print(\"step 3: direct coexistence\")\n",
    "with open(os.path.join(simulation_dir_name, \"replicate.lammpstrj\")) as f:\n",
    "    replicate_data = f.readlines()\n",
    "    data_to_copy = []\n",
    "    for line in replicate_data[::-1]:\n",
    "        if line == 'ITEM: ATOMS id mol type q xu yu zu\\n':\n",
    "            break\n",
    "        else:\n",
    "            data_to_copy.append(line)\n",
    "    data_to_copy = [line for line in data_to_copy[::-1]]\n",
    "\n",
    "with open(os.path.join(simulation_dir_name, \"initialSlab.dat\")) as f:\n",
    "    slab_data = f.read()\n",
    "\n",
    "data_to_swap = \"\".join(data_to_copy)\n",
    "\n",
    "slab_data = re.sub(r'(Atoms # full\\n)([\\n\\s0-9-.e]*)', rf'\\1\\n{data_to_swap}', slab_data)\n",
    "slab_data = re.sub(r'Velocities([\\n\\s0-9-.e]*)', r'\\n', slab_data)\n",
    "\n",
    "zlo_zhi = re.findall(r\"\\d.+\\szlo zhi\\n\", slab_data)\n",
    "\n",
    "zlo, zhi = [float(v.strip()) for v in zlo_zhi[0].split(\" \")[:2]]\n",
    "\n",
    "deltaZ = (zhi- zlo)*2\n",
    "\n",
    "zhi = zhi+deltaZ\n",
    "\n",
    "zlo = zlo - deltaZ\n",
    "\n",
    "zlo_zhi_r = f'\\n{zlo} {zhi} zlo zhi'\n",
    "\n",
    "slab_data = re.sub(r'\\n.*zlo zhi', zlo_zhi_r, slab_data)\n",
    "\n",
    "with open(os.path.join(simulation_dir_name, \"initialSlab.dat\"), 'w+') as f:\n",
    "    f.write(slab_data)\n",
    "\n",
    "\n",
    "temp_buf = []\n",
    "for temp in sorted(temps):\n",
    "    temp_dir_name = os.path.join(simulation_dir_name, str(temp))\n",
    "    if not os.path.exists(temp_dir_name):\n",
    "        os.mkdir(temp_dir_name)\n",
    "    shutil.copy(os.path.join(SIMULATION_LIBS, \"potentials.dat\"), temp_dir_name)\n",
    "    shutil.copy(os.path.join(SIMULATION_LIBS, \"da.py\"), temp_dir_name)\n",
    "    shutil.copy(os.path.join(simulation_dir_name, \"initialSlab.dat\"), temp_dir_name)\n",
    "    with open(os.path.join(SIMULATION_LIBS, \"sample.lmp\")) as f:\n",
    "        sample_lmp = f.read()\n",
    "    sample_lmp = re.sub(\n",
    "       r\"(variable temperature equal)(\\s\\d+)\", \n",
    "       rf\"\\1 {temp}\", \n",
    "       sample_lmp\n",
    "    )\n",
    "   \n",
    "    with open(os.path.join(temp_dir_name, \"sample.lmp\"), \"w+\") as f:\n",
    "       f.write(sample_lmp)\n",
    "\n",
    "    temp_buf.append({\"temp\": temp, \"dir\": temp_dir_name})\n",
    "    if len(temp_buf) == proccesses:\n",
    "        print(f\"running {temp_buf}\")\n",
    "        print(get_curr_time())\n",
    "        start_time = time.time()\n",
    "        with multiprocessing.Pool(CPUs_per_process) as pool:\n",
    "            params = [(v[\"dir\"],) for v in temp_buf]\n",
    "            results = [pool.apply_async(run_sample_lmp, args = (p, CPUs_per_process)) for p in params]\n",
    "\n",
    "            for r in results:\n",
    "                print('\\t', r.get())\n",
    "        temp_buf = []\n",
    "        print(f'execution time: {(time.time() - start_time) / (60*60)} hours')\n",
    "        print(get_curr_time())\n",
    "\n",
    "if temp_buf:\n",
    "    print(f\"running {temp_buf}\")\n",
    "    print(get_curr_time())\n",
    "    start_time = time.time()\n",
    "    #with multiprocessing.Pool(CPUs_per_process) as pool:\n",
    "    with multiprocessing.Pool(CPUs//len(temp_buf)) as pool:\n",
    "        params = [(v[\"dir\"],) for v in temp_buf]\n",
    "        results = [pool.apply_async(run_sample_lmp, args = p + (CPUs_per_process,)) for p in params]\n",
    "\n",
    "        for r in results:\n",
    "            print('\\t', r.get())\n",
    "    temp_buf = []\n",
    "    print(f'execution time: {(time.time() - start_time) / (60*60)} hours')\n",
    "    print(get_curr_time())"
   ]
  },
  {
   "cell_type": "code",
   "execution_count": null,
   "id": "a5772027-89dc-409f-bac1-77a8a23635d7",
   "metadata": {},
   "outputs": [],
   "source": [
    "temp_dir_name, CPUs_per_process"
   ]
  },
  {
   "cell_type": "code",
   "execution_count": 106,
   "id": "9a085552-f5e6-4a03-aba1-864cef5d94d2",
   "metadata": {},
   "outputs": [],
   "source": [
    "def run_sample_lmp(temp_dir_name, CPUs_per_process):\n",
    "    f = open(os.path.join(temp_dir_name, \"sample.log\"), \"w+\")\n",
    "    CPUs_per_process_arg = str(CPUs_per_process)\n",
    "    subprocess.run([\"mpiexec\", \"-np\", CPUs_per_process_arg, \"lmp\", \"-in\", \"sample.lmp\"], stdout=f, cwd=temp_dir_name)\n",
    "    f.close()"
   ]
  },
  {
   "cell_type": "code",
   "execution_count": 109,
   "id": "adbac7b8-0b6b-4fee-99d7-201ac6649500",
   "metadata": {},
   "outputs": [
    {
     "data": {
      "text/plain": [
       "('simulation/runs/LORF1_-5S+5T_2024_08_10_10_08_1723286252/250', 'z')"
      ]
     },
     "execution_count": 109,
     "metadata": {},
     "output_type": "execute_result"
    }
   ],
   "source": [
    "params"
   ]
  },
  {
   "cell_type": "code",
   "execution_count": 110,
   "id": "afac9d5b-836c-4763-b67c-63a7a9296be3",
   "metadata": {},
   "outputs": [
    {
     "name": "stdout",
     "output_type": "stream",
     "text": [
      "\t None\n",
      "\t None\n",
      "\t None\n",
      "\t None\n",
      "\t None\n",
      "\t None\n"
     ]
    }
   ],
   "source": [
    "with multiprocessing.Pool(CPUs_per_process) as pool:\n",
    "            params = [(v[\"dir\"],) for v in temp_buf]\n",
    "            results = [pool.apply_async(run_sample_lmp, p+ (CPUs_per_process,)) for p in params]\n",
    "\n",
    "            for r in results:\n",
    "                print('\\t', r.get())"
   ]
  },
  {
   "cell_type": "code",
   "execution_count": null,
   "id": "9d7517ee-621e-4e86-86f7-1b7e40b12ffe",
   "metadata": {},
   "outputs": [],
   "source": []
  },
  {
   "cell_type": "code",
   "execution_count": null,
   "id": "ec72c245-e24a-40fc-992c-58a5f633f634",
   "metadata": {},
   "outputs": [],
   "source": []
  },
  {
   "cell_type": "code",
   "execution_count": null,
   "id": "a43cd2f0-dc3a-4353-ab86-905834f80f81",
   "metadata": {},
   "outputs": [],
   "source": []
  },
  {
   "cell_type": "code",
   "execution_count": null,
   "id": "a3218ce5-54d3-453c-b394-1e24a18adfe7",
   "metadata": {},
   "outputs": [],
   "source": []
  },
  {
   "cell_type": "code",
   "execution_count": null,
   "id": "95e8d623-503f-4a2e-b3ff-9f211fdfd4db",
   "metadata": {},
   "outputs": [],
   "source": [
    "simulation_names = [\"VPAP_HCMVA_P16790_Wildtype\", \"VP22_HHV11_P10233_Wildtype\"]"
   ]
  },
  {
   "cell_type": "code",
   "execution_count": 17,
   "id": "3974a1f8-8791-4dbb-96df-0df6b3221829",
   "metadata": {},
   "outputs": [],
   "source": [
    "simulation_names = [\"VP22_HHV11_P10233_Wildtype\"]"
   ]
  },
  {
   "cell_type": "code",
   "execution_count": 33,
   "id": "1d0ca4be-1d8e-4a7c-b3ed-822f4925ba2b",
   "metadata": {},
   "outputs": [
    {
     "name": "stdout",
     "output_type": "stream",
     "text": [
      "CPUs 32, proccesses 2, CPUs_per_process, 16\n",
      "\n",
      "running simulation for VPAP_HCMVA_P16790_Wildtype\n",
      "seq len 161\n",
      "total temps 14\n",
      "simulation/runs/VPAP_HCMVA_P16790_Wildtype_2024_08_01_11_08_1722512114\n",
      "step 1: running input single chain\n"
     ]
    },
    {
     "name": "stderr",
     "output_type": "stream",
     "text": [
      "/home/ubuntu/CTP/simulation/runs/VPAP_HCMVA_P16790_Wildtype_2024_08_01_11_08_1722512114/seq2config.py:67: DeprecationWarning: Conversion of an array with ndim > 0 to a scalar is deprecated, and will error in future. Ensure you extract a single element from your array before performing this operation. (Deprecated NumPy 1.25.)\n",
      "  typescharges.append([int(types[p,1]),float(charges[k,1])])\n",
      "/home/ubuntu/CTP/simulation/runs/VPAP_HCMVA_P16790_Wildtype_2024_08_01_11_08_1722512114/seq2config.py:67: DeprecationWarning: Conversion of an array with ndim > 0 to a scalar is deprecated, and will error in future. Ensure you extract a single element from your array before performing this operation. (Deprecated NumPy 1.25.)\n",
      "  typescharges.append([int(types[p,1]),float(charges[k,1])])\n"
     ]
    },
    {
     "name": "stdout",
     "output_type": "stream",
     "text": [
      "step 2: running compress single chain\n",
      "step 3: direct coexistence\n",
      "running [{'temp': '250', 'dir': 'simulation/runs/VPAP_HCMVA_P16790_Wildtype_2024_08_01_11_08_1722512114/250'}, {'temp': '270', 'dir': 'simulation/runs/VPAP_HCMVA_P16790_Wildtype_2024_08_01_11_08_1722512114/270'}]\n",
      "\t None\n",
      "\t None\n",
      "execution time: 7.061490030818516 hours\n",
      "running [{'temp': '290', 'dir': 'simulation/runs/VPAP_HCMVA_P16790_Wildtype_2024_08_01_11_08_1722512114/290'}, {'temp': '300', 'dir': 'simulation/runs/VPAP_HCMVA_P16790_Wildtype_2024_08_01_11_08_1722512114/300'}]\n",
      "\t None\n",
      "\t None\n",
      "execution time: 6.668494150373671 hours\n",
      "running [{'temp': '307', 'dir': 'simulation/runs/VPAP_HCMVA_P16790_Wildtype_2024_08_01_11_08_1722512114/307'}, {'temp': '314', 'dir': 'simulation/runs/VPAP_HCMVA_P16790_Wildtype_2024_08_01_11_08_1722512114/314'}]\n",
      "\t None\n",
      "\t None\n",
      "execution time: 6.674376530117459 hours\n",
      "running [{'temp': '321', 'dir': 'simulation/runs/VPAP_HCMVA_P16790_Wildtype_2024_08_01_11_08_1722512114/321'}, {'temp': '328', 'dir': 'simulation/runs/VPAP_HCMVA_P16790_Wildtype_2024_08_01_11_08_1722512114/328'}]\n",
      "\t None\n",
      "\t None\n",
      "execution time: 6.688046311338742 hours\n",
      "running [{'temp': '335', 'dir': 'simulation/runs/VPAP_HCMVA_P16790_Wildtype_2024_08_01_11_08_1722512114/335'}, {'temp': '342', 'dir': 'simulation/runs/VPAP_HCMVA_P16790_Wildtype_2024_08_01_11_08_1722512114/342'}]\n",
      "\t None\n",
      "\t None\n",
      "execution time: 6.803037025133769 hours\n",
      "running [{'temp': '349', 'dir': 'simulation/runs/VPAP_HCMVA_P16790_Wildtype_2024_08_01_11_08_1722512114/349'}, {'temp': '356', 'dir': 'simulation/runs/VPAP_HCMVA_P16790_Wildtype_2024_08_01_11_08_1722512114/356'}]\n",
      "\t None\n",
      "\t None\n",
      "execution time: 6.828600914875667 hours\n",
      "running [{'temp': '363', 'dir': 'simulation/runs/VPAP_HCMVA_P16790_Wildtype_2024_08_01_11_08_1722512114/363'}, {'temp': '370', 'dir': 'simulation/runs/VPAP_HCMVA_P16790_Wildtype_2024_08_01_11_08_1722512114/370'}]\n",
      "\t None\n",
      "\t None\n",
      "execution time: 6.849421299762196 hours\n",
      "calculating ps densities\n",
      "simulation/runs/VPAP_HCMVA_P16790_Wildtype_2024_08_01_11_08_1722512114/300\n"
     ]
    },
    {
     "name": "stderr",
     "output_type": "stream",
     "text": [
      "/home/ubuntu/CTP/simulation/runs/VPAP_HCMVA_P16790_Wildtype_2024_08_01_11_08_1722512114/300/da.py:62: OptimizeWarning: Covariance of the parameters could not be estimated\n",
      "  popt, _ = curve_fit(super_gaussian, coords, avg_profile, p0=initial_guess, maxfev=20000)\n"
     ]
    },
    {
     "name": "stdout",
     "output_type": "stream",
     "text": [
      "Dense phase concentration: 0.22563537865799588 +/- 0.0019390040151780678\n",
      "Dilute phase concentration: 0.22218646576633166 +/- 0.001328993204467062\n",
      "simulation/runs/VPAP_HCMVA_P16790_Wildtype_2024_08_01_11_08_1722512114/314\n"
     ]
    },
    {
     "name": "stderr",
     "output_type": "stream",
     "text": [
      "/home/ubuntu/CTP/simulation/runs/VPAP_HCMVA_P16790_Wildtype_2024_08_01_11_08_1722512114/314/da.py:62: OptimizeWarning: Covariance of the parameters could not be estimated\n",
      "  popt, _ = curve_fit(super_gaussian, coords, avg_profile, p0=initial_guess, maxfev=20000)\n"
     ]
    },
    {
     "name": "stdout",
     "output_type": "stream",
     "text": [
      "Dense phase concentration: 0.22492335205438957 +/- 0.0018368902440444998\n",
      "Dilute phase concentration: 0.2236995358040201 +/- 0.0017861328328657663\n",
      "simulation/runs/VPAP_HCMVA_P16790_Wildtype_2024_08_01_11_08_1722512114/.ipynb_checkpoints\n"
     ]
    },
    {
     "name": "stderr",
     "output_type": "stream",
     "text": [
      "python: can't open file '/home/ubuntu/CTP/simulation/runs/VPAP_HCMVA_P16790_Wildtype_2024_08_01_11_08_1722512114/.ipynb_checkpoints/da.py': [Errno 2] No such file or directory\n"
     ]
    },
    {
     "ename": "FileNotFoundError",
     "evalue": "[Errno 2] No such file or directory: 'simulation/runs/VPAP_HCMVA_P16790_Wildtype_2024_08_01_11_08_1722512114/.ipynb_checkpoints/densities_chunked2.dat_concentrations.txt' -> 'simulation/runs/VPAP_HCMVA_P16790_Wildtype_2024_08_01_11_08_1722512114/ps_densities/densities_chunked_temp.ipynb_checkpoints.txt'",
     "output_type": "error",
     "traceback": [
      "\u001b[0;31m---------------------------------------------------------------------------\u001b[0m",
      "\u001b[0;31mFileNotFoundError\u001b[0m                         Traceback (most recent call last)",
      "Cell \u001b[0;32mIn[33], line 27\u001b[0m\n\u001b[1;32m     24\u001b[0m \u001b[38;5;28mprint\u001b[39m(mesg)\n\u001b[1;32m     25\u001b[0m f\u001b[38;5;241m.\u001b[39mwritelines(mesg\u001b[38;5;241m+\u001b[39m\u001b[38;5;124m\"\u001b[39m\u001b[38;5;130;01m\\n\u001b[39;00m\u001b[38;5;124m\"\u001b[39m)\n\u001b[0;32m---> 27\u001b[0m \u001b[43mrun_simulation\u001b[49m\u001b[43m(\u001b[49m\u001b[38;5;241;43m*\u001b[39;49m\u001b[38;5;241;43m*\u001b[39;49m\u001b[43msim_args\u001b[49m\u001b[43m)\u001b[49m\n\u001b[1;32m     28\u001b[0m \u001b[38;5;66;03m# for i in range(111111111):\u001b[39;00m\n\u001b[1;32m     29\u001b[0m \u001b[38;5;66;03m#     pass\u001b[39;00m\n\u001b[1;32m     30\u001b[0m mesg \u001b[38;5;241m=\u001b[39m \u001b[38;5;124mf\u001b[39m\u001b[38;5;124m'\u001b[39m\u001b[38;5;124mexecution time: \u001b[39m\u001b[38;5;132;01m{\u001b[39;00m(time\u001b[38;5;241m.\u001b[39mtime()\u001b[38;5;250m \u001b[39m\u001b[38;5;241m-\u001b[39m\u001b[38;5;250m \u001b[39mstart_time)\u001b[38;5;250m \u001b[39m\u001b[38;5;241m/\u001b[39m\u001b[38;5;250m \u001b[39m(\u001b[38;5;241m60\u001b[39m\u001b[38;5;241m*\u001b[39m\u001b[38;5;241m60\u001b[39m)\u001b[38;5;132;01m}\u001b[39;00m\u001b[38;5;124m minutes\u001b[39m\u001b[38;5;124m'\u001b[39m\n",
      "Cell \u001b[0;32mIn[30], line 139\u001b[0m, in \u001b[0;36mrun_simulation\u001b[0;34m(gene_name, seq, temps, run_dirs, simulation_dir)\u001b[0m\n\u001b[1;32m    137\u001b[0m         \u001b[38;5;28mprint\u001b[39m(os\u001b[38;5;241m.\u001b[39mpath\u001b[38;5;241m.\u001b[39mjoin(simulation_dir_name, \u001b[38;5;28mstr\u001b[39m(temp)))\n\u001b[1;32m    138\u001b[0m         subprocess\u001b[38;5;241m.\u001b[39mrun([\u001b[38;5;124m\"\u001b[39m\u001b[38;5;124mpython\u001b[39m\u001b[38;5;124m\"\u001b[39m, \u001b[38;5;124m\"\u001b[39m\u001b[38;5;124mda.py\u001b[39m\u001b[38;5;124m\"\u001b[39m, \u001b[38;5;124m\"\u001b[39m\u001b[38;5;124mdensities_chunked2.dat\u001b[39m\u001b[38;5;124m\"\u001b[39m], cwd\u001b[38;5;241m=\u001b[39mos\u001b[38;5;241m.\u001b[39mpath\u001b[38;5;241m.\u001b[39mjoin(simulation_dir_name, \u001b[38;5;28mstr\u001b[39m(temp)))\n\u001b[0;32m--> 139\u001b[0m         \u001b[43mos\u001b[49m\u001b[38;5;241;43m.\u001b[39;49m\u001b[43mrename\u001b[49m\u001b[43m(\u001b[49m\u001b[43mos\u001b[49m\u001b[38;5;241;43m.\u001b[39;49m\u001b[43mpath\u001b[49m\u001b[38;5;241;43m.\u001b[39;49m\u001b[43mjoin\u001b[49m\u001b[43m(\u001b[49m\u001b[43msimulation_dir_name\u001b[49m\u001b[43m,\u001b[49m\u001b[43m \u001b[49m\u001b[43mtemp\u001b[49m\u001b[43m,\u001b[49m\u001b[43m \u001b[49m\u001b[38;5;124;43m\"\u001b[39;49m\u001b[38;5;124;43mdensities_chunked2.dat_concentrations.txt\u001b[39;49m\u001b[38;5;124;43m\"\u001b[39;49m\u001b[43m)\u001b[49m\u001b[43m,\u001b[49m\n\u001b[1;32m    140\u001b[0m \u001b[43m                  \u001b[49m\u001b[43mos\u001b[49m\u001b[38;5;241;43m.\u001b[39;49m\u001b[43mpath\u001b[49m\u001b[38;5;241;43m.\u001b[39;49m\u001b[43mjoin\u001b[49m\u001b[43m(\u001b[49m\u001b[43msimulation_dir_name\u001b[49m\u001b[43m,\u001b[49m\u001b[43m \u001b[49m\u001b[38;5;124;43m\"\u001b[39;49m\u001b[38;5;124;43mps_densities\u001b[39;49m\u001b[38;5;124;43m\"\u001b[39;49m\u001b[43m,\u001b[49m\u001b[43m \u001b[49m\u001b[38;5;124;43mf\u001b[39;49m\u001b[38;5;124;43m\"\u001b[39;49m\u001b[38;5;124;43mdensities_chunked_temp\u001b[39;49m\u001b[38;5;132;43;01m{\u001b[39;49;00m\u001b[43mtemp\u001b[49m\u001b[38;5;132;43;01m}\u001b[39;49;00m\u001b[38;5;124;43m.txt\u001b[39;49m\u001b[38;5;124;43m\"\u001b[39;49m\u001b[43m)\u001b[49m\u001b[43m)\u001b[49m\n\u001b[1;32m    142\u001b[0m subprocess\u001b[38;5;241m.\u001b[39mrun([\u001b[38;5;124m\"\u001b[39m\u001b[38;5;124mpython\u001b[39m\u001b[38;5;124m\"\u001b[39m, \u001b[38;5;124m\"\u001b[39m\u001b[38;5;124mppd.py\u001b[39m\u001b[38;5;124m\"\u001b[39m], cwd\u001b[38;5;241m=\u001b[39mos\u001b[38;5;241m.\u001b[39mpath\u001b[38;5;241m.\u001b[39mjoin(simulation_dir_name, \u001b[38;5;124m\"\u001b[39m\u001b[38;5;124mps_densities\u001b[39m\u001b[38;5;124m\"\u001b[39m))\n",
      "\u001b[0;31mFileNotFoundError\u001b[0m: [Errno 2] No such file or directory: 'simulation/runs/VPAP_HCMVA_P16790_Wildtype_2024_08_01_11_08_1722512114/.ipynb_checkpoints/densities_chunked2.dat_concentrations.txt' -> 'simulation/runs/VPAP_HCMVA_P16790_Wildtype_2024_08_01_11_08_1722512114/ps_densities/densities_chunked_temp.ipynb_checkpoints.txt'"
     ]
    }
   ],
   "source": [
    "\n",
    "CPUs=32\n",
    "proccesses = 2\n",
    "CPUs_per_process = CPUs // proccesses \n",
    "\n",
    "f = open(os.path.join(\"simulation\", \"logs\", f'simulation_run_{datetime.datetime.now().strftime(\"%Y_%m_%d_%H_%m_%s\")}.log'), \"w+\")\n",
    "\n",
    "mesg = f\"CPUs {CPUs}, proccesses {proccesses}, CPUs_per_process, {CPUs_per_process}\\n\"\n",
    "print(mesg)\n",
    "f.writelines(mesg+\"\\n\")\n",
    "\n",
    "for sim_name in simulation_names:\n",
    "    mesg = f\"running simulation for {sim_name}\"\n",
    "    print(mesg)\n",
    "    f.writelines(mesg+\"\\n\")\n",
    "    \n",
    "    start_time = time.time()\n",
    "    sim_args = gen_sim_data(os.path.join(\"simulation\", \"simulation_data_temp\", sim_name))\n",
    "    \n",
    "    mesg = f\"seq len {len(sim_args['seq'])}\"\n",
    "    print(mesg)\n",
    "    f.writelines(mesg+\"\\n\")\n",
    "\n",
    "    mesg = f\"total temps {len(sim_args['temps'])}\"\n",
    "    print(mesg)\n",
    "    f.writelines(mesg+\"\\n\")\n",
    "    \n",
    "    run_simulation(**sim_args)\n",
    "    # for i in range(111111111):\n",
    "    #     pass\n",
    "    mesg = f'execution time: {(time.time() - start_time) / (60*60)} minutes'\n",
    "    print(mesg)\n",
    "    f.writelines(mesg+\"\\n\")\n",
    "\n",
    "    mesg = f'\\n'\n",
    "    print(mesg)\n",
    "    f.writelines(mesg+\"\\n\")\n",
    "\n",
    "f.close()"
   ]
  },
  {
   "cell_type": "code",
   "execution_count": null,
   "id": "d5596b40-5d91-45a0-898a-090f37b2820d",
   "metadata": {},
   "outputs": [],
   "source": []
  },
  {
   "cell_type": "code",
   "execution_count": null,
   "id": "6e641fbd-37e7-445b-93b4-51fafef925b4",
   "metadata": {},
   "outputs": [],
   "source": [
    " "
   ]
  },
  {
   "cell_type": "code",
   "execution_count": null,
   "id": "c9c1a698-da7a-4ab0-b1b6-05cef5e7ca40",
   "metadata": {},
   "outputs": [],
   "source": []
  },
  {
   "cell_type": "code",
   "execution_count": 379,
   "id": "ec5efef7-33af-443f-acbe-79eea8096d89",
   "metadata": {},
   "outputs": [
    {
     "data": {
      "text/plain": [
       "{'gene_name': 'VPAP_HCMVA_P16790_Wildtype',\n",
       " 'seq': 'QRGDPFDKNYVGNSGKSRGGGGGGGSLSSLANAGGLHDDGPGLDNDLMNEPMGLGGLGGGGGGGGKKHDRGGGGGSGTRKMSSGGGGGDHDHGLSSKEKYEQHKITSYLTSKGGSGGGGGGGGGGLDRNSGNYFNDAKEESDSEDSVTFEFVPNTKKQKCG',\n",
       " 'temps': ['ctCoexistence', 'icateChain']}"
      ]
     },
     "execution_count": 379,
     "metadata": {},
     "output_type": "execute_result"
    }
   ],
   "source": [
    "gen_sim_data_done(\"simulation/simulation_data_temp/VPAP_HCMVA_P16790_Wildtype\")"
   ]
  },
  {
   "cell_type": "code",
   "execution_count": 410,
   "id": "791fd7cc-52b1-4372-9eb2-ebe85a586649",
   "metadata": {},
   "outputs": [
    {
     "data": {
      "text/plain": [
       "{'gene_name': 'VP22_HHV11_P10233_Wildtype',\n",
       " 'seq': 'MTSRRSVKSGPREVPRDEYEDLYYTPSSGMASPDSPPDTSRRGALQTRSRQRGEVRFVQYDESDYALYGGSSSEDDEHPEVPRTRRPVSGAVLSGPGPARAPPPPAGSGGAGRTPTTAPRAPRTQRVATKAPAAPAAETTRGRKSAQPESAALPDAPASTAPTRSKTPAQGLARKLHFSTAPPNPDAP',\n",
       " 'temps': ['ctCoexistence', 'icateChain']}"
      ]
     },
     "execution_count": 410,
     "metadata": {},
     "output_type": "execute_result"
    }
   ],
   "source": [
    "gen_sim_data_done(\"simulation/simulation_data_temp/VP22_HHV11_P10233_Wildtype\")"
   ]
  },
  {
   "cell_type": "code",
   "execution_count": 382,
   "id": "8a8d2c01-b093-40d8-9daa-82e63aadc667",
   "metadata": {},
   "outputs": [
    {
     "data": {
      "text/plain": [
       "{'gene_name': 'VPAP_HCMVA_P16790_Wildtype',\n",
       " 'seq': 'QRGDPFDKNYVGNSGKSRGGGGGGGSLSSLANAGGLHDDGPGLDNDLMNEPMGLGGLGGGGGGGGKKHDRGGGGGSGTRKMSSGGGGGDHDHGLSSKEKYEQHKITSYLTSKGGSGGGGGGGGGGLDRNSGNYFNDAKEESDSEDSVTFEFVPNTKKQKCG',\n",
       " 'temps': ['321',\n",
       "  '363',\n",
       "  '314',\n",
       "  '290',\n",
       "  '342',\n",
       "  '356',\n",
       "  '300',\n",
       "  '335',\n",
       "  '270',\n",
       "  '370',\n",
       "  '250',\n",
       "  '328',\n",
       "  '307',\n",
       "  '349']}"
      ]
     },
     "execution_count": 382,
     "metadata": {},
     "output_type": "execute_result"
    }
   ],
   "source": [
    "gen_sim_data(\"simulation/simulation_data_temp/VPAP_HCMVA_P16790_Wildtype\")"
   ]
  },
  {
   "cell_type": "code",
   "execution_count": 373,
   "id": "c480c959-bf87-4f2c-aa7c-ee79f6f720a6",
   "metadata": {},
   "outputs": [
    {
     "name": "stdout",
     "output_type": "stream",
     "text": [
      "simulation/runs/CCMM_SYNE7_-10s+10t_2024_07_27_16_07_1722097353\n",
      "step 1: running input single chain\n"
     ]
    },
    {
     "name": "stderr",
     "output_type": "stream",
     "text": [
      "/home/ubuntu/CTP/simulation/runs/CCMM_SYNE7_-10s+10t_2024_07_27_16_07_1722097353/seq2config.py:67: DeprecationWarning: Conversion of an array with ndim > 0 to a scalar is deprecated, and will error in future. Ensure you extract a single element from your array before performing this operation. (Deprecated NumPy 1.25.)\n",
      "  typescharges.append([int(types[p,1]),float(charges[k,1])])\n",
      "/home/ubuntu/CTP/simulation/runs/CCMM_SYNE7_-10s+10t_2024_07_27_16_07_1722097353/seq2config.py:67: DeprecationWarning: Conversion of an array with ndim > 0 to a scalar is deprecated, and will error in future. Ensure you extract a single element from your array before performing this operation. (Deprecated NumPy 1.25.)\n",
      "  typescharges.append([int(types[p,1]),float(charges[k,1])])\n"
     ]
    },
    {
     "name": "stdout",
     "output_type": "stream",
     "text": [
      "step 2: running compress single chain\n",
      "step 3: direct coexistence\n",
      "running [{'temp': '150', 'dir': 'simulation/runs/CCMM_SYNE7_-10s+10t_2024_07_27_16_07_1722097353/150'}, {'temp': '170', 'dir': 'simulation/runs/CCMM_SYNE7_-10s+10t_2024_07_27_16_07_1722097353/170'}]\n",
      "\t None\n",
      "\t None\n",
      "running [{'temp': '190', 'dir': 'simulation/runs/CCMM_SYNE7_-10s+10t_2024_07_27_16_07_1722097353/190'}, {'temp': '200', 'dir': 'simulation/runs/CCMM_SYNE7_-10s+10t_2024_07_27_16_07_1722097353/200'}]\n",
      "\t None\n",
      "\t None\n",
      "running [{'temp': '205', 'dir': 'simulation/runs/CCMM_SYNE7_-10s+10t_2024_07_27_16_07_1722097353/205'}, {'temp': '210', 'dir': 'simulation/runs/CCMM_SYNE7_-10s+10t_2024_07_27_16_07_1722097353/210'}]\n",
      "\t None\n",
      "\t None\n",
      "running [{'temp': '215', 'dir': 'simulation/runs/CCMM_SYNE7_-10s+10t_2024_07_27_16_07_1722097353/215'}]\n",
      "\t None\n",
      "calculating ps densities\n"
     ]
    },
    {
     "ename": "FileNotFoundError",
     "evalue": "[Errno 2] No such file or directory: 'simulation/libs/pdd.py'",
     "output_type": "error",
     "traceback": [
      "\u001b[0;31m---------------------------------------------------------------------------\u001b[0m",
      "\u001b[0;31mFileNotFoundError\u001b[0m                         Traceback (most recent call last)",
      "Cell \u001b[0;32mIn[373], line 1\u001b[0m\n\u001b[0;32m----> 1\u001b[0m \u001b[43mrun_simulation\u001b[49m\u001b[43m(\u001b[49m\u001b[38;5;241;43m*\u001b[39;49m\u001b[38;5;241;43m*\u001b[39;49m\u001b[43mgen_sim_data_done\u001b[49m\u001b[43m(\u001b[49m\u001b[38;5;124;43m\"\u001b[39;49m\u001b[38;5;124;43msimulation/simulation_data_temp/CCMM_SYNE7_-10s+10t\u001b[39;49m\u001b[38;5;124;43m\"\u001b[39;49m\u001b[43m)\u001b[49m\u001b[43m)\u001b[49m\n",
      "Cell \u001b[0;32mIn[372], line 128\u001b[0m, in \u001b[0;36mrun_simulation\u001b[0;34m(gene_name, seq, temps, run_dirs, simulation_dir)\u001b[0m\n\u001b[1;32m    125\u001b[0m \u001b[38;5;28;01mif\u001b[39;00m \u001b[38;5;129;01mnot\u001b[39;00m os\u001b[38;5;241m.\u001b[39mpath\u001b[38;5;241m.\u001b[39mexists(os\u001b[38;5;241m.\u001b[39mpath\u001b[38;5;241m.\u001b[39mjoin(simulation_dir_name, \u001b[38;5;124m\"\u001b[39m\u001b[38;5;124mps_densities\u001b[39m\u001b[38;5;124m\"\u001b[39m)):\n\u001b[1;32m    126\u001b[0m     os\u001b[38;5;241m.\u001b[39mmkdir(os\u001b[38;5;241m.\u001b[39mpath\u001b[38;5;241m.\u001b[39mjoin(simulation_dir_name, \u001b[38;5;124m\"\u001b[39m\u001b[38;5;124mps_densities\u001b[39m\u001b[38;5;124m\"\u001b[39m))\n\u001b[0;32m--> 128\u001b[0m \u001b[43mshutil\u001b[49m\u001b[38;5;241;43m.\u001b[39;49m\u001b[43mcopy\u001b[49m\u001b[43m(\u001b[49m\u001b[43mos\u001b[49m\u001b[38;5;241;43m.\u001b[39;49m\u001b[43mpath\u001b[49m\u001b[38;5;241;43m.\u001b[39;49m\u001b[43mjoin\u001b[49m\u001b[43m(\u001b[49m\u001b[43mSIMULATION_LIBS\u001b[49m\u001b[43m,\u001b[49m\u001b[43m \u001b[49m\u001b[38;5;124;43m\"\u001b[39;49m\u001b[38;5;124;43mpdd.py\u001b[39;49m\u001b[38;5;124;43m\"\u001b[39;49m\u001b[43m)\u001b[49m\u001b[43m,\u001b[49m\u001b[43m \u001b[49m\u001b[43mos\u001b[49m\u001b[38;5;241;43m.\u001b[39;49m\u001b[43mpath\u001b[49m\u001b[38;5;241;43m.\u001b[39;49m\u001b[43mjoin\u001b[49m\u001b[43m(\u001b[49m\u001b[43msimulation_dir_name\u001b[49m\u001b[43m,\u001b[49m\u001b[43m \u001b[49m\u001b[38;5;124;43m\"\u001b[39;49m\u001b[38;5;124;43mps_densities\u001b[39;49m\u001b[38;5;124;43m\"\u001b[39;49m\u001b[43m)\u001b[49m\u001b[43m)\u001b[49m\n\u001b[1;32m    129\u001b[0m \u001b[38;5;28;01mfor\u001b[39;00m temp \u001b[38;5;129;01min\u001b[39;00m \u001b[38;5;28mnext\u001b[39m(os\u001b[38;5;241m.\u001b[39mwalk(simulation_dir_name))[\u001b[38;5;241m1\u001b[39m]:\n\u001b[1;32m    130\u001b[0m     \u001b[38;5;28;01mif\u001b[39;00m temp \u001b[38;5;241m!=\u001b[39m \u001b[38;5;124m\"\u001b[39m\u001b[38;5;124mps_densities\u001b[39m\u001b[38;5;124m\"\u001b[39m:\n",
      "File \u001b[0;32m~/anaconda3/envs/lammps/lib/python3.9/shutil.py:427\u001b[0m, in \u001b[0;36mcopy\u001b[0;34m(src, dst, follow_symlinks)\u001b[0m\n\u001b[1;32m    425\u001b[0m \u001b[38;5;28;01mif\u001b[39;00m os\u001b[38;5;241m.\u001b[39mpath\u001b[38;5;241m.\u001b[39misdir(dst):\n\u001b[1;32m    426\u001b[0m     dst \u001b[38;5;241m=\u001b[39m os\u001b[38;5;241m.\u001b[39mpath\u001b[38;5;241m.\u001b[39mjoin(dst, os\u001b[38;5;241m.\u001b[39mpath\u001b[38;5;241m.\u001b[39mbasename(src))\n\u001b[0;32m--> 427\u001b[0m \u001b[43mcopyfile\u001b[49m\u001b[43m(\u001b[49m\u001b[43msrc\u001b[49m\u001b[43m,\u001b[49m\u001b[43m \u001b[49m\u001b[43mdst\u001b[49m\u001b[43m,\u001b[49m\u001b[43m \u001b[49m\u001b[43mfollow_symlinks\u001b[49m\u001b[38;5;241;43m=\u001b[39;49m\u001b[43mfollow_symlinks\u001b[49m\u001b[43m)\u001b[49m\n\u001b[1;32m    428\u001b[0m copymode(src, dst, follow_symlinks\u001b[38;5;241m=\u001b[39mfollow_symlinks)\n\u001b[1;32m    429\u001b[0m \u001b[38;5;28;01mreturn\u001b[39;00m dst\n",
      "File \u001b[0;32m~/anaconda3/envs/lammps/lib/python3.9/shutil.py:264\u001b[0m, in \u001b[0;36mcopyfile\u001b[0;34m(src, dst, follow_symlinks)\u001b[0m\n\u001b[1;32m    262\u001b[0m     os\u001b[38;5;241m.\u001b[39msymlink(os\u001b[38;5;241m.\u001b[39mreadlink(src), dst)\n\u001b[1;32m    263\u001b[0m \u001b[38;5;28;01melse\u001b[39;00m:\n\u001b[0;32m--> 264\u001b[0m     \u001b[38;5;28;01mwith\u001b[39;00m \u001b[38;5;28;43mopen\u001b[39;49m\u001b[43m(\u001b[49m\u001b[43msrc\u001b[49m\u001b[43m,\u001b[49m\u001b[43m \u001b[49m\u001b[38;5;124;43m'\u001b[39;49m\u001b[38;5;124;43mrb\u001b[39;49m\u001b[38;5;124;43m'\u001b[39;49m\u001b[43m)\u001b[49m \u001b[38;5;28;01mas\u001b[39;00m fsrc:\n\u001b[1;32m    265\u001b[0m         \u001b[38;5;28;01mtry\u001b[39;00m:\n\u001b[1;32m    266\u001b[0m             \u001b[38;5;28;01mwith\u001b[39;00m \u001b[38;5;28mopen\u001b[39m(dst, \u001b[38;5;124m'\u001b[39m\u001b[38;5;124mwb\u001b[39m\u001b[38;5;124m'\u001b[39m) \u001b[38;5;28;01mas\u001b[39;00m fdst:\n\u001b[1;32m    267\u001b[0m                 \u001b[38;5;66;03m# macOS\u001b[39;00m\n",
      "\u001b[0;31mFileNotFoundError\u001b[0m: [Errno 2] No such file or directory: 'simulation/libs/pdd.py'"
     ]
    }
   ],
   "source": [
    "run_simulation(**gen_sim_data_done(\"simulation/simulation_data_temp/CCMM_SYNE7_-10s+10t\"))"
   ]
  },
  {
   "cell_type": "code",
   "execution_count": 354,
   "id": "74cdf891-60e0-493c-8d67-2c540a62156b",
   "metadata": {
    "scrolled": true
   },
   "outputs": [
    {
     "name": "stdout",
     "output_type": "stream",
     "text": [
      "simulation/runs/UBQL2_-4Q+4N_2024_07_26_20_07_1722026318\n",
      "step 1: running input single chain\n"
     ]
    },
    {
     "name": "stderr",
     "output_type": "stream",
     "text": [
      "/home/ubuntu/CTP/simulation/runs/UBQL2_-4Q+4N_2024_07_26_20_07_1722026318/seq2config.py:67: DeprecationWarning: Conversion of an array with ndim > 0 to a scalar is deprecated, and will error in future. Ensure you extract a single element from your array before performing this operation. (Deprecated NumPy 1.25.)\n",
      "  typescharges.append([int(types[p,1]),float(charges[k,1])])\n",
      "/home/ubuntu/CTP/simulation/runs/UBQL2_-4Q+4N_2024_07_26_20_07_1722026318/seq2config.py:67: DeprecationWarning: Conversion of an array with ndim > 0 to a scalar is deprecated, and will error in future. Ensure you extract a single element from your array before performing this operation. (Deprecated NumPy 1.25.)\n",
      "  typescharges.append([int(types[p,1]),float(charges[k,1])])\n"
     ]
    },
    {
     "name": "stdout",
     "output_type": "stream",
     "text": [
      "step 2: running compress single chain\n",
      "step 3: direct coexistence\n",
      "running [{'temp': '250', 'dir': 'simulation/runs/UBQL2_-4Q+4N_2024_07_26_20_07_1722026318/250'}, {'temp': '270', 'dir': 'simulation/runs/UBQL2_-4Q+4N_2024_07_26_20_07_1722026318/270'}]\n",
      "\t None\n",
      "\t None\n",
      "running [{'temp': '290', 'dir': 'simulation/runs/UBQL2_-4Q+4N_2024_07_26_20_07_1722026318/290'}, {'temp': '300', 'dir': 'simulation/runs/UBQL2_-4Q+4N_2024_07_26_20_07_1722026318/300'}]\n",
      "\t None\n",
      "\t None\n",
      "running [{'temp': '307', 'dir': 'simulation/runs/UBQL2_-4Q+4N_2024_07_26_20_07_1722026318/307'}, {'temp': '314', 'dir': 'simulation/runs/UBQL2_-4Q+4N_2024_07_26_20_07_1722026318/314'}]\n",
      "\t None\n",
      "\t None\n",
      "running [{'temp': '321', 'dir': 'simulation/runs/UBQL2_-4Q+4N_2024_07_26_20_07_1722026318/321'}, {'temp': '328', 'dir': 'simulation/runs/UBQL2_-4Q+4N_2024_07_26_20_07_1722026318/328'}]\n",
      "\t None\n",
      "\t None\n",
      "running [{'temp': '335', 'dir': 'simulation/runs/UBQL2_-4Q+4N_2024_07_26_20_07_1722026318/335'}, {'temp': '342', 'dir': 'simulation/runs/UBQL2_-4Q+4N_2024_07_26_20_07_1722026318/342'}]\n"
     ]
    },
    {
     "name": "stderr",
     "output_type": "stream",
     "text": [
      "\n",
      "KeyboardInterrupt\n",
      "\n"
     ]
    }
   ],
   "source": [
    "run_simulation(**gen_sim_data(\"simulation/simulation_data_temp/UBQL2_-4Q+4N\"))"
   ]
  },
  {
   "cell_type": "code",
   "execution_count": null,
   "id": "69e23af7-3ff9-46cc-bda3-6fcf219b1645",
   "metadata": {},
   "outputs": [],
   "source": []
  }
 ],
 "metadata": {
  "kernelspec": {
   "display_name": "Python 3 (ipykernel)",
   "language": "python",
   "name": "python3"
  },
  "language_info": {
   "codemirror_mode": {
    "name": "ipython",
    "version": 3
   },
   "file_extension": ".py",
   "mimetype": "text/x-python",
   "name": "python",
   "nbconvert_exporter": "python",
   "pygments_lexer": "ipython3",
   "version": "3.9.19"
  }
 },
 "nbformat": 4,
 "nbformat_minor": 5
}
