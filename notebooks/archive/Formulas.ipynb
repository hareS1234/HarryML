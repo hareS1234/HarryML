{
 "cells": [
  {
   "cell_type": "code",
   "execution_count": 16,
   "id": "8640c506-a724-4c71-be0c-09fd52f4c0dd",
   "metadata": {},
   "outputs": [],
   "source": [
    "import numpy as np\n",
    "from Bio.SeqUtils.ProtParam import ProteinAnalysis\n",
    "\n",
    "\n"
   ]
  },
  {
   "cell_type": "code",
   "execution_count": 17,
   "id": "2a20a6e2-76d2-4b94-86cd-03a05541e676",
   "metadata": {},
   "outputs": [],
   "source": [
    "WEIGHT_OF_WATER = 18.01524"
   ]
  },
  {
   "cell_type": "code",
   "execution_count": 18,
   "id": "76a9539b-ccf6-4ca0-9bc5-36cb0ea392a2",
   "metadata": {},
   "outputs": [],
   "source": [
    "X = ProteinAnalysis(\"MAEGEITTFTALTEKFNLPPGNYKKPKLLYCSNGGHFLRILPDGTVDGT\"\n",
    "                    \"RDRSDQHIQLQLSAESVGEVYIKSTETGQYLAMDTSGLLYGSQTPSEEC\"\n",
    "                    \"LFLERLEENHYNTYTSKKHAEKNWFVGLKKNGSCKRGPRTHYGQKAILF\"\n",
    "                    \"LPLPV\")"
   ]
  },
  {
   "cell_type": "code",
   "execution_count": 19,
   "id": "cf69b6f4-12f4-434f-926a-5994ed9d5863",
   "metadata": {},
   "outputs": [
    {
     "data": {
      "text/plain": [
       "152"
      ]
     },
     "execution_count": 19,
     "metadata": {},
     "output_type": "execute_result"
    }
   ],
   "source": [
    "X.length"
   ]
  },
  {
   "cell_type": "code",
   "execution_count": 20,
   "id": "9beb3f3f-7e23-480a-b383-5ef21f751088",
   "metadata": {},
   "outputs": [
    {
     "data": {
      "text/plain": [
       "17103.1617"
      ]
     },
     "execution_count": 20,
     "metadata": {},
     "output_type": "execute_result"
    }
   ],
   "source": [
    "X.molecular_weight()"
   ]
  },
  {
   "cell_type": "code",
   "execution_count": 21,
   "id": "1407eaf9-815b-461c-9c2b-77f1195e9026",
   "metadata": {},
   "outputs": [
    {
     "data": {
      "text/plain": [
       "{'A': 0.039473684210526314,\n",
       " 'C': 0.019736842105263157,\n",
       " 'D': 0.03289473684210526,\n",
       " 'E': 0.07894736842105263,\n",
       " 'F': 0.039473684210526314,\n",
       " 'G': 0.09210526315789473,\n",
       " 'H': 0.03289473684210526,\n",
       " 'I': 0.03289473684210526,\n",
       " 'K': 0.07894736842105263,\n",
       " 'L': 0.11842105263157894,\n",
       " 'M': 0.013157894736842105,\n",
       " 'N': 0.046052631578947366,\n",
       " 'P': 0.05263157894736842,\n",
       " 'Q': 0.039473684210526314,\n",
       " 'R': 0.039473684210526314,\n",
       " 'S': 0.06578947368421052,\n",
       " 'T': 0.08552631578947369,\n",
       " 'V': 0.03289473684210526,\n",
       " 'W': 0.006578947368421052,\n",
       " 'Y': 0.05263157894736842}"
      ]
     },
     "execution_count": 21,
     "metadata": {},
     "output_type": "execute_result"
    }
   ],
   "source": [
    "X.get_amino_acids_percent()"
   ]
  },
  {
   "cell_type": "code",
   "execution_count": 14,
   "id": "cbca5116-e7c8-4620-a38c-4015423985d3",
   "metadata": {},
   "outputs": [
    {
     "data": {
      "text/plain": [
       "17103.1617"
      ]
     },
     "execution_count": 14,
     "metadata": {},
     "output_type": "execute_result"
    }
   ],
   "source": [
    "X.molecular_weight()"
   ]
  },
  {
   "cell_type": "code",
   "execution_count": null,
   "id": "fbe771aa-a546-4bc5-87b4-767c277576f2",
   "metadata": {},
   "outputs": [],
   "source": [
    "from Bio.SeqUtils.ProtParam import ProteinAnalysis"
   ]
  },
  {
   "cell_type": "code",
   "execution_count": 9,
   "id": "d180c8e1-fb99-464b-8fb9-14c420d95d80",
   "metadata": {},
   "outputs": [],
   "source": [
    "def get_molecular_weight(seq: str)-> float:\n",
    "    return ProteinAnalysis(seq).molecular_weight()\n"
   ]
  },
  {
   "cell_type": "code",
   "execution_count": null,
   "id": "8955501a-7f85-4bec-b30e-6820aee0ff9f",
   "metadata": {},
   "outputs": [],
   "source": [
    "def get_molecular_weight(seq: str)-> float:\n",
    "    return ProteinAnalysis(seq).molecular_weight()"
   ]
  },
  {
   "cell_type": "code",
   "execution_count": 1,
   "id": "dab20126-9e08-4ccf-bffb-b7dcc4bee914",
   "metadata": {},
   "outputs": [],
   "source": [
    "from Bio.SeqUtils.IsoelectricPoint import IsoelectricPoint as IP"
   ]
  },
  {
   "cell_type": "code",
   "execution_count": 47,
   "id": "c751c340-ba33-42a3-a5f5-d2e2310e2727",
   "metadata": {},
   "outputs": [],
   "source": [
    "X = ProteinAnalysis(\"MAEGEITTFTALTEKFNLPPGNYKKPKLLYCSNGGHFLRILPDGTVDGT\"\n",
    "        \"RDRSDQHIQLQLSAESVGEVYIKSTETGQYLAMDTSGLLYGSQTPSEEC\"\n",
    "        \"LFLERLEENHYNTYTSKKHAEKNWFVGLKKNGSCKRGPRTHYGQKAILF\"\n",
    "        \"LPLPV\")"
   ]
  },
  {
   "cell_type": "code",
   "execution_count": 48,
   "id": "0605d1e8-d386-49f5-8c5e-a1ee402a2686",
   "metadata": {},
   "outputs": [],
   "source": [
    "Xs = sparrow.Protein(\"MAEGEITTFTALTEKFNLPPGNYKKPKLLYCSNGGHFLRILPDGTVDGT\"\n",
    "                    \"RDRSDQHIQLQLSAESVGEVYIKSTETGQYLAMDTSGLLYGSQTPSEEC\"\n",
    "                    \"LFLERLEENHYNTYTSKKHAEKNWFVGLKKNGSCKRGPRTHYGQKAILF\"\n",
    "                    \"LPLPV\")"
   ]
  },
  {
   "cell_type": "code",
   "execution_count": 3,
   "id": "f7f6cc49-e809-46ea-9550-2d0f0e8e7a47",
   "metadata": {},
   "outputs": [
    {
     "ename": "AttributeError",
     "evalue": "'IsoelectricPoint' object has no attribute 'isoelectric_point'",
     "output_type": "error",
     "traceback": [
      "\u001b[1;31m---------------------------------------------------------------------------\u001b[0m",
      "\u001b[1;31mAttributeError\u001b[0m                            Traceback (most recent call last)",
      "Cell \u001b[1;32mIn[3], line 1\u001b[0m\n\u001b[1;32m----> 1\u001b[0m \u001b[43mX\u001b[49m\u001b[38;5;241;43m.\u001b[39;49m\u001b[43misoelectric_point\u001b[49m()\n",
      "\u001b[1;31mAttributeError\u001b[0m: 'IsoelectricPoint' object has no attribute 'isoelectric_point'"
     ]
    }
   ],
   "source": [
    "X.isoelectric_point()"
   ]
  },
  {
   "cell_type": "code",
   "execution_count": 46,
   "id": "038b80f9-53e8-4a1e-8be7-82c3ae138f64",
   "metadata": {},
   "outputs": [],
   "source": [
    "def test():\n",
    "    print(1)"
   ]
  },
  {
   "cell_type": "code",
   "execution_count": 47,
   "id": "4b818537-48e0-4383-ba20-d9723a420f44",
   "metadata": {},
   "outputs": [],
   "source": [
    "z = test"
   ]
  },
  {
   "cell_type": "code",
   "execution_count": 49,
   "id": "30fce5de-b525-40a9-bde4-a9bead93b006",
   "metadata": {},
   "outputs": [
    {
     "name": "stdout",
     "output_type": "stream",
     "text": [
      "1\n"
     ]
    }
   ],
   "source": [
    "z()"
   ]
  },
  {
   "cell_type": "code",
   "execution_count": 15,
   "id": "2d03dfea-2a78-4de0-a209-47ab79a6fd9b",
   "metadata": {},
   "outputs": [
    {
     "data": {
      "text/plain": [
       "0.09868421052631579"
      ]
     },
     "execution_count": 15,
     "metadata": {},
     "output_type": "execute_result"
    }
   ],
   "source": [
    "X.aromaticity()"
   ]
  },
  {
   "cell_type": "code",
   "execution_count": 26,
   "id": "421917f3-bfa4-4881-b3e0-2cefe654ad54",
   "metadata": {},
   "outputs": [],
   "source": [
    "def get_number_of_mutations(seq: str)-> float:\n",
    "    return sum([1 if l  == \"R\" else 0 for l in seq]) / len(seq)"
   ]
  },
  {
   "cell_type": "code",
   "execution_count": 25,
   "id": "a5ae1387-bf43-4a7b-9811-5791f758bd1b",
   "metadata": {},
   "outputs": [
    {
     "ename": "SyntaxError",
     "evalue": "expression cannot contain assignment, perhaps you meant \"==\"? (1591079900.py, line 1)",
     "output_type": "error",
     "traceback": [
      "\u001b[1;36m  Cell \u001b[1;32mIn[25], line 1\u001b[1;36m\u001b[0m\n\u001b[1;33m    X.charge_at_pH(\"pH\" = 7.75)\u001b[0m\n\u001b[1;37m                   ^\u001b[0m\n\u001b[1;31mSyntaxError\u001b[0m\u001b[1;31m:\u001b[0m expression cannot contain assignment, perhaps you meant \"==\"?\n"
     ]
    }
   ],
   "source": [
    "X.charge_at_pH(\"pH\" = 7.75)"
   ]
  },
  {
   "cell_type": "code",
   "execution_count": 24,
   "id": "655a0119-e112-4055-858c-73d3a0f4c572",
   "metadata": {},
   "outputs": [
    {
     "data": {
      "text/plain": [
       "-0.03035181557159916"
      ]
     },
     "execution_count": 24,
     "metadata": {},
     "output_type": "execute_result"
    }
   ],
   "source": [
    "X.charge_at_pH(7.75)"
   ]
  },
  {
   "cell_type": "code",
   "execution_count": 29,
   "id": "6b66e02f-1d58-4df6-aab7-35d3f368e482",
   "metadata": {},
   "outputs": [
    {
     "data": {
      "text/plain": [
       "-0.03035181557159916"
      ]
     },
     "execution_count": 29,
     "metadata": {},
     "output_type": "execute_result"
    }
   ],
   "source": [
    "X.charge_at_pH(*[7.75])"
   ]
  },
  {
   "cell_type": "code",
   "execution_count": 49,
   "id": "ff3187d4-ca8d-4166-8044-2347bc434bf4",
   "metadata": {},
   "outputs": [
    {
     "data": {
      "text/plain": [
       "-0.597368421052632"
      ]
     },
     "execution_count": 49,
     "metadata": {},
     "output_type": "execute_result"
    }
   ],
   "source": [
    "X.gravy()"
   ]
  },
  {
   "cell_type": "code",
   "execution_count": 50,
   "id": "76d7c196-fc0d-40e5-ab09-6049f1fab92b",
   "metadata": {
    "scrolled": true
   },
   "outputs": [
    {
     "data": {
      "text/plain": [
       "[0.9825119047619049,\n",
       " 1.0166904761904763,\n",
       " 0.9947857142857144,\n",
       " 0.9660238095238095,\n",
       " 0.9890714285714285,\n",
       " 0.9737261904761906,\n",
       " 0.9789166666666669,\n",
       " 1.004547619047619,\n",
       " 1.0235357142857144,\n",
       " 1.0163214285714286,\n",
       " 0.981297619047619,\n",
       " 1.0388809523809523,\n",
       " 0.9956309523809524,\n",
       " 1.0379047619047619,\n",
       " 1.014654761904762,\n",
       " 1.015154761904762,\n",
       " 1.0317619047619049,\n",
       " 1.0100833333333334,\n",
       " 1.0738333333333334,\n",
       " 1.0460952380952382,\n",
       " 1.0333571428571429,\n",
       " 1.0429761904761905,\n",
       " 0.9842738095238095,\n",
       " 0.9984404761904762,\n",
       " 0.9814404761904763,\n",
       " 0.9715357142857144,\n",
       " 1.0063690476190477,\n",
       " 0.988952380952381,\n",
       " 0.9930952380952381,\n",
       " 0.9962619047619047,\n",
       " 0.9774523809523811,\n",
       " 0.9747857142857144,\n",
       " 0.9701547619047618,\n",
       " 0.9759404761904762,\n",
       " 0.9515119047619047,\n",
       " 0.9745714285714286,\n",
       " 1.007642857142857,\n",
       " 1.0024523809523809,\n",
       " 1.0019761904761904,\n",
       " 1.0053571428571428,\n",
       " 1.000595238095238,\n",
       " 1.0385238095238094,\n",
       " 1.0090357142857143,\n",
       " 1.0095,\n",
       " 1.0207142857142857,\n",
       " 1.0371071428571428,\n",
       " 1.0223690476190477,\n",
       " 1.0373809523809523,\n",
       " 1.030095238095238,\n",
       " 1.0166190476190475,\n",
       " 0.9939404761904762,\n",
       " 0.9935833333333335,\n",
       " 1.009547619047619,\n",
       " 0.9678095238095237,\n",
       " 1.0027380952380953,\n",
       " 0.9720595238095241,\n",
       " 1.0215952380952382,\n",
       " 0.996904761904762,\n",
       " 1.0330238095238098,\n",
       " 1.0140714285714285,\n",
       " 0.9977976190476192,\n",
       " 1.0319285714285715,\n",
       " 1.016714285714286,\n",
       " 0.9713928571428571,\n",
       " 0.9921666666666669,\n",
       " 0.9904404761904763,\n",
       " 1.0350238095238096,\n",
       " 1.0021904761904763,\n",
       " 1.0092738095238096,\n",
       " 1.0462380952380952,\n",
       " 1.012392857142857,\n",
       " 1.0289761904761903,\n",
       " 1.0108095238095236,\n",
       " 0.9762619047619049,\n",
       " 0.9885357142857144,\n",
       " 0.9901428571428571,\n",
       " 0.9795119047619048,\n",
       " 1.014059523809524,\n",
       " 0.9857976190476189,\n",
       " 1.0114404761904763,\n",
       " 0.9970357142857144,\n",
       " 0.9755238095238097,\n",
       " 0.9871428571428573,\n",
       " 0.9820952380952382,\n",
       " 1.006095238095238,\n",
       " 0.9997023809523811,\n",
       " 1.0065238095238094,\n",
       " 1.0149047619047618,\n",
       " 1.0451071428571428,\n",
       " 1.0396785714285717,\n",
       " 1.0452142857142857,\n",
       " 1.0262619047619048,\n",
       " 0.9735952380952381,\n",
       " 0.998404761904762,\n",
       " 0.9777976190476191,\n",
       " 0.9773809523809524,\n",
       " 1.008214285714286,\n",
       " 0.9772619047619048,\n",
       " 0.9955000000000002,\n",
       " 1.0482261904761907,\n",
       " 1.0262499999999999,\n",
       " 1.0189404761904763,\n",
       " 0.9988452380952382,\n",
       " 1.0009285714285714,\n",
       " 1.0204404761904762,\n",
       " 0.9839880952380953,\n",
       " 0.9809166666666669,\n",
       " 1.01475,\n",
       " 1.0234166666666669,\n",
       " 1.0355476190476192,\n",
       " 1.033107142857143,\n",
       " 1.011154761904762,\n",
       " 1.0480714285714288,\n",
       " 1.0591190476190477,\n",
       " 1.033809523809524,\n",
       " 1.008107142857143,\n",
       " 0.9757261904761906,\n",
       " 0.9885714285714287,\n",
       " 0.9831428571428572,\n",
       " 1.000595238095238,\n",
       " 0.9739761904761908,\n",
       " 1.0377619047619049,\n",
       " 1.0295357142857142,\n",
       " 1.0269642857142858,\n",
       " 1.0371904761904762,\n",
       " 1.0385476190476193,\n",
       " 1.0057023809523808,\n",
       " 1.06075,\n",
       " 1.006714285714286,\n",
       " 1.0269642857142858,\n",
       " 1.0229761904761905,\n",
       " 1.0046309523809522,\n",
       " 1.0053690476190476,\n",
       " 0.9886666666666667,\n",
       " 0.9931666666666669,\n",
       " 1.01775,\n",
       " 1.003297619047619,\n",
       " 1.0161666666666667,\n",
       " 0.977440476190476,\n",
       " 0.9762738095238096,\n",
       " 0.9785833333333332,\n",
       " 0.9609642857142857,\n",
       " 0.9650833333333334]"
      ]
     },
     "execution_count": 50,
     "metadata": {},
     "output_type": "execute_result"
    }
   ],
   "source": [
    "X.flexibility()"
   ]
  },
  {
   "cell_type": "code",
   "execution_count": 5,
   "id": "9ac6dba6-9bbf-4d74-8edf-75c2f490be52",
   "metadata": {},
   "outputs": [
    {
     "ename": "AttributeError",
     "evalue": "'IsoelectricPoint' object has no attribute 'length'",
     "output_type": "error",
     "traceback": [
      "\u001b[1;31m---------------------------------------------------------------------------\u001b[0m",
      "\u001b[1;31mAttributeError\u001b[0m                            Traceback (most recent call last)",
      "Cell \u001b[1;32mIn[5], line 1\u001b[0m\n\u001b[1;32m----> 1\u001b[0m \u001b[43mX\u001b[49m\u001b[38;5;241;43m.\u001b[39;49m\u001b[43mlength\u001b[49m\n",
      "\u001b[1;31mAttributeError\u001b[0m: 'IsoelectricPoint' object has no attribute 'length'"
     ]
    }
   ],
   "source": [
    "X.length"
   ]
  },
  {
   "cell_type": "code",
   "execution_count": 36,
   "id": "638df6f2-4303-4dc7-8a68-712ac98248d8",
   "metadata": {},
   "outputs": [
    {
     "data": {
      "text/plain": [
       "(0.32894736842105265, 0.28947368421052627, 0.3684210526315789)"
      ]
     },
     "execution_count": 36,
     "metadata": {},
     "output_type": "execute_result"
    }
   ],
   "source": [
    "X.secondary_structure_fraction()"
   ]
  },
  {
   "cell_type": "code",
   "execution_count": 51,
   "id": "e1f0f51e-f827-4698-a4a7-9b1e0c7daa71",
   "metadata": {
    "scrolled": true
   },
   "outputs": [
    {
     "data": {
      "text/plain": [
       "-0.597368421052632"
      ]
     },
     "execution_count": 51,
     "metadata": {},
     "output_type": "execute_result"
    }
   ],
   "source": [
    "X.gravy()"
   ]
  },
  {
   "cell_type": "code",
   "execution_count": 52,
   "id": "aabbd950-aef1-4f3c-a561-42ab47ca5908",
   "metadata": {},
   "outputs": [
    {
     "data": {
      "text/plain": [
       "3.902631578947368"
      ]
     },
     "execution_count": 52,
     "metadata": {},
     "output_type": "execute_result"
    }
   ],
   "source": [
    "Xs.hydrophobicity"
   ]
  },
  {
   "cell_type": "code",
   "execution_count": 53,
   "id": "b94acea9-0698-41e3-81f9-2eba1106571e",
   "metadata": {},
   "outputs": [
    {
     "data": {
      "text/plain": [
       "-0.597368421052632"
      ]
     },
     "execution_count": 53,
     "metadata": {},
     "output_type": "execute_result"
    }
   ],
   "source": [
    "getattr(X, \"gravy\")()"
   ]
  },
  {
   "cell_type": "code",
   "execution_count": 40,
   "id": "bf725588-cfce-469a-a6fa-ca7caa7976e4",
   "metadata": {},
   "outputs": [
    {
     "data": {
      "text/plain": [
       "41.980263157894726"
      ]
     },
     "execution_count": 40,
     "metadata": {},
     "output_type": "execute_result"
    }
   ],
   "source": [
    "X.instability_index()"
   ]
  },
  {
   "cell_type": "code",
   "execution_count": 54,
   "id": "a67ea0b6-417b-40ed-bd7b-3d524cbb6687",
   "metadata": {},
   "outputs": [
    {
     "data": {
      "text/plain": [
       "0.3038917012522031"
      ]
     },
     "execution_count": 54,
     "metadata": {},
     "output_type": "execute_result"
    }
   ],
   "source": [
    "Xs.compute_iwd_charged_weighted(\"+\")"
   ]
  },
  {
   "cell_type": "code",
   "execution_count": 56,
   "id": "a34da6e7-0421-478f-9ad6-ae1e14d8d3aa",
   "metadata": {},
   "outputs": [
    {
     "data": {
      "text/plain": [
       "0.22153901834346268"
      ]
     },
     "execution_count": 56,
     "metadata": {},
     "output_type": "execute_result"
    }
   ],
   "source": [
    "Xs.compute_bivariate_iwd_charged_weighted()"
   ]
  },
  {
   "cell_type": "code",
   "execution_count": 57,
   "id": "e9c88981-6364-48b6-a114-a41f02e8c3ae",
   "metadata": {},
   "outputs": [
    {
     "data": {
      "text/plain": [
       "17088.400000000027"
      ]
     },
     "execution_count": 57,
     "metadata": {},
     "output_type": "execute_result"
    }
   ],
   "source": [
    "Xs.molecular_weight"
   ]
  },
  {
   "cell_type": "code",
   "execution_count": 58,
   "id": "2b128c1b-78d6-416e-bb6f-930c271b2aa4",
   "metadata": {},
   "outputs": [
    {
     "ename": "TypeError",
     "evalue": "'float' object is not callable",
     "output_type": "error",
     "traceback": [
      "\u001b[1;31m---------------------------------------------------------------------------\u001b[0m",
      "\u001b[1;31mTypeError\u001b[0m                                 Traceback (most recent call last)",
      "Cell \u001b[1;32mIn[58], line 1\u001b[0m\n\u001b[1;32m----> 1\u001b[0m \u001b[43mXs\u001b[49m\u001b[38;5;241;43m.\u001b[39;49m\u001b[43mmolecular_weight\u001b[49m\u001b[43m(\u001b[49m\u001b[43m)\u001b[49m\n",
      "\u001b[1;31mTypeError\u001b[0m: 'float' object is not callable"
     ]
    }
   ],
   "source": [
    "Xs.molecular_weight()"
   ]
  },
  {
   "cell_type": "code",
   "execution_count": 41,
   "id": "8cfa351c-c898-4d24-919b-c923e170a6f0",
   "metadata": {},
   "outputs": [
    {
     "data": {
      "text/plain": [
       "Protein|L = 152]|MAEGE..."
      ]
     },
     "execution_count": 41,
     "metadata": {},
     "output_type": "execute_result"
    }
   ],
   "source": [
    "Xs"
   ]
  },
  {
   "cell_type": "code",
   "execution_count": 66,
   "id": "a6f286d3-253a-4b39-826c-adc84808e870",
   "metadata": {},
   "outputs": [],
   "source": [
    "import inspect"
   ]
  },
  {
   "cell_type": "code",
   "execution_count": 60,
   "id": "d9017d64-657a-4b55-905d-31c919073630",
   "metadata": {},
   "outputs": [
    {
     "data": {
      "text/plain": [
       "float"
      ]
     },
     "execution_count": 60,
     "metadata": {},
     "output_type": "execute_result"
    }
   ],
   "source": [
    "type(Xs.complexity)"
   ]
  },
  {
   "cell_type": "code",
   "execution_count": 63,
   "id": "e997d7a7-7a8e-45c6-9c9f-b21231223b1d",
   "metadata": {},
   "outputs": [
    {
     "data": {
      "text/plain": [
       "method"
      ]
     },
     "execution_count": 63,
     "metadata": {},
     "output_type": "execute_result"
    }
   ],
   "source": [
    "type(X.secondary_structure_fraction)"
   ]
  },
  {
   "cell_type": "code",
   "execution_count": 64,
   "id": "ef375c52-4a87-4027-9461-f2c16effa78e",
   "metadata": {},
   "outputs": [
    {
     "ename": "NameError",
     "evalue": "name 'method' is not defined",
     "output_type": "error",
     "traceback": [
      "\u001b[1;31m---------------------------------------------------------------------------\u001b[0m",
      "\u001b[1;31mNameError\u001b[0m                                 Traceback (most recent call last)",
      "Cell \u001b[1;32mIn[64], line 1\u001b[0m\n\u001b[1;32m----> 1\u001b[0m \u001b[38;5;28misinstance\u001b[39m(X\u001b[38;5;241m.\u001b[39msecondary_structure_fraction, \u001b[43mmethod\u001b[49m)\n",
      "\u001b[1;31mNameError\u001b[0m: name 'method' is not defined"
     ]
    }
   ],
   "source": [
    "isinstance(X.secondary_structure_fraction, method)"
   ]
  },
  {
   "cell_type": "code",
   "execution_count": 38,
   "id": "30632ece-4bd2-4386-8bcf-4036eb2e57bc",
   "metadata": {},
   "outputs": [
    {
     "data": {
      "text/plain": [
       "(0.32894736842105265, 0.28947368421052627, 0.3684210526315789)"
      ]
     },
     "execution_count": 38,
     "metadata": {},
     "output_type": "execute_result"
    }
   ],
   "source": [
    "X.secondary_structure_fraction()"
   ]
  },
  {
   "cell_type": "code",
   "execution_count": 67,
   "id": "916936be-9673-40e8-8e08-0162a4857567",
   "metadata": {},
   "outputs": [
    {
     "data": {
      "text/plain": [
       "True"
      ]
     },
     "execution_count": 67,
     "metadata": {},
     "output_type": "execute_result"
    }
   ],
   "source": [
    "inspect.ismethod(X.secondary_structure_fraction)"
   ]
  },
  {
   "cell_type": "code",
   "execution_count": 68,
   "id": "66b35757-a48c-4601-8ea5-453bbaeeb3a0",
   "metadata": {},
   "outputs": [
    {
     "data": {
      "text/plain": [
       "False"
      ]
     },
     "execution_count": 68,
     "metadata": {},
     "output_type": "execute_result"
    }
   ],
   "source": [
    "inspect.ismethod(Xs.complexity)"
   ]
  },
  {
   "cell_type": "code",
   "execution_count": 81,
   "id": "84d91c52-c608-457b-8ac9-e11c04ed3962",
   "metadata": {},
   "outputs": [
    {
     "data": {
      "text/plain": [
       "False"
      ]
     },
     "execution_count": 81,
     "metadata": {},
     "output_type": "execute_result"
    }
   ],
   "source": [
    "inspect.is(X.secondary_structure_fraction)"
   ]
  },
  {
   "cell_type": "code",
   "execution_count": null,
   "id": "19d05653-e41a-4dd0-8497-3bcaf932959e",
   "metadata": {},
   "outputs": [],
   "source": [
    "inspect.ismethod(X.secondary_structure_fraction)"
   ]
  },
  {
   "cell_type": "code",
   "execution_count": 41,
   "id": "d83e1c95-c880-4884-8b6a-f94716c37343",
   "metadata": {},
   "outputs": [
    {
     "data": {
      "text/plain": [
       "(17420, 17545)"
      ]
     },
     "execution_count": 41,
     "metadata": {},
     "output_type": "execute_result"
    }
   ],
   "source": [
    "X.molar_extinction_coefficient()"
   ]
  },
  {
   "cell_type": "code",
   "execution_count": 43,
   "id": "b31b8c79-fdc4-417d-a8ba-d4c72c019e8b",
   "metadata": {},
   "outputs": [],
   "source": [
    "x = getattr(Xs, 'complexity')"
   ]
  },
  {
   "cell_type": "code",
   "execution_count": 44,
   "id": "5a25fb96-5423-45b6-81fe-d9c6f3d68f9e",
   "metadata": {},
   "outputs": [
    {
     "data": {
      "text/plain": [
       "0.9484607488764957"
      ]
     },
     "execution_count": 44,
     "metadata": {},
     "output_type": "execute_result"
    }
   ],
   "source": [
    "x"
   ]
  },
  {
   "cell_type": "code",
   "execution_count": null,
   "id": "c9870447-501f-4cb0-85b4-2a1a9ee4213e",
   "metadata": {},
   "outputs": [],
   "source": [
    "X.com"
   ]
  },
  {
   "cell_type": "code",
   "execution_count": 85,
   "id": "88fcd96c-c150-44a9-bdfd-5595824a7dce",
   "metadata": {},
   "outputs": [],
   "source": [
    "def test(z):\n",
    "    print(z)"
   ]
  },
  {
   "cell_type": "code",
   "execution_count": null,
   "id": "c82cb977-0637-4b78-9d44-aa8b03f8b834",
   "metadata": {},
   "outputs": [],
   "source": []
  },
  {
   "cell_type": "code",
   "execution_count": 87,
   "id": "671c4ed7-f76e-4996-af1a-1edcd012ef66",
   "metadata": {},
   "outputs": [
    {
     "name": "stdout",
     "output_type": "stream",
     "text": [
      "1\n"
     ]
    }
   ],
   "source": [
    "test(**{\"z\": 1})"
   ]
  },
  {
   "cell_type": "code",
   "execution_count": 39,
   "id": "18048b51-1f2d-47b8-a5db-a49562e582ef",
   "metadata": {},
   "outputs": [],
   "source": [
    "Xs = sparrow.Protein(\"MAEGEITTFTALTEKFNLPPGNYKKPKLLYCSNGGHFLRILPDGTVDGT\"\n",
    "                    \"RDRSDQHIQLQLSAESVGEVYIKSTETGQYLAMDTSGLLYGSQTPSEEC\"\n",
    "                    \"LFLERLEENHYNTYTSKKHAEKNWFVGLKKNGSCKRGPRTHYGQKAILF\"\n",
    "                    \"LPLPV\")"
   ]
  },
  {
   "cell_type": "code",
   "execution_count": 34,
   "id": "78a21e93-b94c-4ffa-a1fc-a930ed267f43",
   "metadata": {},
   "outputs": [
    {
     "data": {
      "text/plain": [
       "Protein|L = 152]|MAEGE..."
      ]
     },
     "execution_count": 34,
     "metadata": {},
     "output_type": "execute_result"
    }
   ],
   "source": [
    "Xs"
   ]
  },
  {
   "cell_type": "code",
   "execution_count": 78,
   "id": "43b128a1-cb75-435d-9bd6-702ae1bc4c15",
   "metadata": {},
   "outputs": [
    {
     "data": {
      "text/plain": [
       "35.2593004291915"
      ]
     },
     "execution_count": 78,
     "metadata": {},
     "output_type": "execute_result"
    }
   ],
   "source": [
    "Xs.predictor.radius_of_gyration()"
   ]
  },
  {
   "cell_type": "code",
   "execution_count": 38,
   "id": "d6767b49-78fb-4e6d-a9a6-9a423433608e",
   "metadata": {},
   "outputs": [],
   "source": [
    "import sparrow\n",
    "from sparrow.predictors.batch_predict import batch_predict\n",
    "#from google.colab import data_table\n",
    "import pandas as pd\n",
    "from sparrow.sparrow_exceptions import SparrowException\n",
    "\n",
    "# plotting stuff\n",
    "import matplotlib\n",
    "import matplotlib.pyplot as plt\n",
    "from matplotlib.pyplot import figure\n",
    "\n",
    "#from google.colab import files\n",
    "import io\n",
    "import os\n",
    "from collections import defaultdict\n",
    "import torch\n",
    "import numpy as np\n",
    "\n",
    "\n",
    "# Some plotting formatting stuff for mpl\n",
    "# set to define axes linewidths\n",
    "matplotlib.rcParams['axes.linewidth'] = 0.5\n",
    "\n",
    "# this defines some prefactors so inline figures look nice\n",
    "# on a retina macbook. These can be commented out without any\n",
    "# issue and are solely asthetic.\n",
    "%matplotlib inline\n",
    "%config InlineBackend.figure_format='retina'\n",
    "\n",
    "# UPDATE 2020-12-31 (my preferred font is Avenir...)\n",
    "font = {'family' : 'arial',\n",
    "    \t'weight' : 'normal'}\n",
    "\n",
    "\n",
    "#data_table._DEFAULT_FORMATTERS[float] = lambda x: f\"{x:.3f}\"\n",
    "# set so we can show whole human IDRome...\n",
    "pd.set_option('display.max_rows', 40000)"
   ]
  },
  {
   "cell_type": "code",
   "execution_count": 53,
   "id": "d407dacb-4c93-4cc2-8065-272d4bf7d43f",
   "metadata": {},
   "outputs": [],
   "source": [
    "def process_form():\n",
    "    uploaded_data = files.upload()\n",
    "    uploaded_fasta = list(uploaded_data.keys())[0]\n",
    "    # Load protein objects\n",
    "    try:\n",
    "      protein_objs = sparrow.read_fasta(uploaded_fasta)\n",
    "    except TypeError as e:\n",
    "      print(f\"Received TypeError: Perhaps you didn't upload a file?\")\n",
    "      raise e\n",
    "\n",
    "    return protein_objs\n",
    "\n",
    "\n",
    "\n",
    "sequence = \"THISISANAMINAACIDSEQWENCE\" #@param {type:\"string\"}\n",
    "fasta_file = False #@param {type:\"boolean\"}\n",
    "\n",
    "\n",
    "if fasta_file and len(sequence) > 0:\n",
    "  raise SparrowException(f\"Cannot specify both a sequence and a list of sequences from a fasta file simultaneously\")\n",
    "\n",
    "if fasta_file:\n",
    "    protein_objs = process_form()\n",
    "    for protein in protein_objs:\n",
    "        if len(protein) > 750:\n",
    "            raise SparrowException(f\"Sequences longer than 750 residues are not currently supported.\"\\\n",
    "            \"You entered a protein with length {len(protein)} residues\")\n",
    "else:\n",
    "    if len(sequence) > 750:\n",
    "        raise SparrowException(f\"Sequences longer than 750 residues are not currently supported.\"\\\n",
    "            \"You entered a protein with length {len(sequence)} residues\")\n",
    "\n",
    "protein_objs = sparrow.Protein(sequence)"
   ]
  },
  {
   "cell_type": "code",
   "execution_count": 54,
   "id": "0db29b19-92b3-4bec-980d-782e05363853",
   "metadata": {},
   "outputs": [
    {
     "data": {
      "text/plain": [
       "Protein|L = 25]|THISI..."
      ]
     },
     "execution_count": 54,
     "metadata": {},
     "output_type": "execute_result"
    }
   ],
   "source": [
    "protein_objs"
   ]
  },
  {
   "cell_type": "code",
   "execution_count": 25,
   "id": "da9d42f3-b6a8-49e0-a93a-0acea212e7b9",
   "metadata": {},
   "outputs": [],
   "source": [
    "protein_objs = sparrow.Protein(\"dsda\")"
   ]
  },
  {
   "cell_type": "code",
   "execution_count": 27,
   "id": "45471540-9086-4499-a446-205fdac9a1a1",
   "metadata": {},
   "outputs": [
    {
     "data": {
      "text/plain": [
       "3.0"
      ]
     },
     "execution_count": 27,
     "metadata": {},
     "output_type": "execute_result"
    }
   ],
   "source": [
    "protein_objs.hydrophobicity"
   ]
  },
  {
   "cell_type": "code",
   "execution_count": 16,
   "id": "9c0df08c-41c5-4488-9873-c74027dd942c",
   "metadata": {},
   "outputs": [],
   "source": [
    "radius_of_gyration = True #@param {type:\"boolean\"}\n",
    "end_to_end_distance = True #@param {type:\"boolean\"}\n",
    "asphericity = True #@param {type:\"boolean\"}\n",
    "scaling_exponent = True #@param {type:\"boolean\"}\n",
    "prefactor = True #@param {type:\"boolean\"}\n"
   ]
  },
  {
   "cell_type": "code",
   "execution_count": 18,
   "id": "9ba04da7-c1f9-4de2-a0e7-3d4376327ddc",
   "metadata": {},
   "outputs": [],
   "source": [
    "sequence = \"THISISANAMINAACIDSEQWENCE\""
   ]
  },
  {
   "cell_type": "code",
   "execution_count": 19,
   "id": "32626f2e-8a4d-4672-b257-43767143605f",
   "metadata": {},
   "outputs": [],
   "source": [
    "def return_individual_predictions(protein):\n",
    "    dimensions = dict()\n",
    "    col_names = [\"sequence\",\"length\"]\n",
    "\n",
    "    dimensions[\"sequence\"] = protein.sequence,\n",
    "    dimensions[\"length\"] = int(len(protein))\n",
    "\n",
    "\n",
    "    if radius_of_gyration:\n",
    "        dimensions[\"radius_of_gyration\"] = protein.predictor.radius_of_gyration()\n",
    "        col_names.append(\"radius_of_gyration\")\n",
    "\n",
    "    if end_to_end_distance:\n",
    "        dimensions[\"end_to_end_distance\"] = protein.predictor.end_to_end_distance()\n",
    "        col_names.append(\"end_to_end_distance\")\n",
    "\n",
    "    if scaling_exponent:\n",
    "        dimensions[\"scaling_exponent\"] = protein.predictor.scaling_exponent()\n",
    "        col_names.append(\"scaling_exponent\")\n",
    "\n",
    "    if asphericity:\n",
    "        dimensions[\"asphericity\"] = np.round(protein.predictor.asphericity(),3)\n",
    "        col_names.append(\"asphericity\")\n",
    "\n",
    "    if prefactor:\n",
    "        dimensions[\"prefactor\"] = protein.predictor.prefactor()\n",
    "        col_names.append(\"prefactor\")\n",
    "\n",
    "    df = pd.DataFrame(dimensions,columns=col_names)\n",
    "\n",
    "    return df"
   ]
  },
  {
   "cell_type": "code",
   "execution_count": 28,
   "id": "283e1b32-038c-4c2c-9665-fcedbe7a26d1",
   "metadata": {},
   "outputs": [
    {
     "data": {
      "text/html": [
       "<div>\n",
       "<style scoped>\n",
       "    .dataframe tbody tr th:only-of-type {\n",
       "        vertical-align: middle;\n",
       "    }\n",
       "\n",
       "    .dataframe tbody tr th {\n",
       "        vertical-align: top;\n",
       "    }\n",
       "\n",
       "    .dataframe thead th {\n",
       "        text-align: right;\n",
       "    }\n",
       "</style>\n",
       "<table border=\"1\" class=\"dataframe\">\n",
       "  <thead>\n",
       "    <tr style=\"text-align: right;\">\n",
       "      <th></th>\n",
       "      <th>sequence</th>\n",
       "      <th>length</th>\n",
       "      <th>radius_of_gyration</th>\n",
       "      <th>end_to_end_distance</th>\n",
       "      <th>scaling_exponent</th>\n",
       "      <th>asphericity</th>\n",
       "      <th>prefactor</th>\n",
       "    </tr>\n",
       "  </thead>\n",
       "  <tbody>\n",
       "    <tr>\n",
       "      <th>0</th>\n",
       "      <td>DSDA</td>\n",
       "      <td>4</td>\n",
       "      <td>3.772521</td>\n",
       "      <td>6.252499</td>\n",
       "      <td>0.307707</td>\n",
       "      <td>0.429</td>\n",
       "      <td>7.997146</td>\n",
       "    </tr>\n",
       "  </tbody>\n",
       "</table>\n",
       "</div>"
      ],
      "text/plain": [
       "  sequence  length  radius_of_gyration  end_to_end_distance  scaling_exponent  \\\n",
       "0     DSDA       4            3.772521             6.252499          0.307707   \n",
       "\n",
       "   asphericity  prefactor  \n",
       "0        0.429   7.997146  "
      ]
     },
     "execution_count": 28,
     "metadata": {},
     "output_type": "execute_result"
    }
   ],
   "source": [
    "return_individual_predictions(protein_objs)"
   ]
  },
  {
   "cell_type": "code",
   "execution_count": 30,
   "id": "e155bb1f-af50-4d09-9540-572f0e54a8af",
   "metadata": {},
   "outputs": [
    {
     "data": {
      "text/plain": [
       "6.252498626708984"
      ]
     },
     "execution_count": 30,
     "metadata": {},
     "output_type": "execute_result"
    }
   ],
   "source": [
    "protein_objs.predictor.end_to_end_distance()"
   ]
  },
  {
   "cell_type": "code",
   "execution_count": null,
   "id": "e731115e-53b4-40c5-afd5-c54c907c5569",
   "metadata": {},
   "outputs": [],
   "source": []
  },
  {
   "cell_type": "code",
   "execution_count": null,
   "id": "8f3d4f7e-f5c8-4ede-ba79-4498dd985243",
   "metadata": {},
   "outputs": [],
   "source": []
  },
  {
   "cell_type": "code",
   "execution_count": 56,
   "id": "8aa20823-2aa8-4625-89a8-b5c6ebece497",
   "metadata": {},
   "outputs": [],
   "source": [
    "def __gpu_accelerated_fasta_predictions(protein_objs):\n",
    "\n",
    "    dfs = []\n",
    "    labels = {header : protein.sequence for header,protein in protein_objs.items()}\n",
    "    lengths = {protein.sequence : int(len(protein)) for header, protein in protein_objs.items()}\n",
    "    dfs.append(pd.DataFrame(list(labels.items()), columns=['fasta_header', 'sequence']))\n",
    "    dfs.append(pd.DataFrame(list(lengths.items()), columns=['sequence', 'lengths']))\n",
    "    if radius_of_gyration:\n",
    "        radius_of_gyrations = batch_predict(protein_objs,return_seq2prediction=True,network=\"scaled_rg\")\n",
    "        dfs.append(pd.DataFrame(list(radius_of_gyrations.items()), columns=['sequence', 'radius_of_gyration']))\n",
    "\n",
    "    if end_to_end_distance:\n",
    "        end_to_end_distances = batch_predict(protein_objs,return_seq2prediction=True,network=\"scaled_re\")\n",
    "        dfs.append(pd.DataFrame(list(end_to_end_distances.items()), columns=['sequence', 'end_to_end_distance']))\n",
    "\n",
    "    if scaling_exponent:\n",
    "        scaling_exponents = batch_predict(protein_objs,return_seq2prediction=True,network=\"scaling_exponent\")\n",
    "        dfs.append(pd.DataFrame(list(scaling_exponents.items()), columns=['sequence', 'scaling_exponent']))\n",
    "\n",
    "    if asphericity:\n",
    "        asphericitys = batch_predict(protein_objs,return_seq2prediction=True,network=\"asphericity\")\n",
    "        dfs.append(pd.DataFrame(list(asphericitys.items()), columns=['sequence', 'asphericity']))\n",
    "\n",
    "    if prefactor:\n",
    "        prefactors = batch_predict(protein_objs,return_seq2prediction=True, network=\"prefactor\")\n",
    "        dfs.append(pd.DataFrame(list(prefactors.items()), columns=['sequence', 'prefactor']))\n",
    "\n",
    "    merged_df = dfs[0]  # initialize merged_df with the first dataframe\n",
    "\n",
    "    for df in dfs[1:]:  # iterate over the remaining dataframes\n",
    "        # merge on 'key' column\n",
    "        merged_df = pd.merge(merged_df, df, on='sequence')\n",
    "        # move 'sequence' column to the end\n",
    "        merged_df = merged_df[[col for col in merged_df.columns if col != 'sequence'] + ['sequence']]\n",
    "\n",
    "    return merged_df"
   ]
  },
  {
   "cell_type": "code",
   "execution_count": 58,
   "id": "5cc2d36f-5f33-40b1-bf98-6ca0c370a31b",
   "metadata": {},
   "outputs": [],
   "source": [
    "def __cpu_fasta_predictions(protein_objs):\n",
    "    dimensions = defaultdict(dict)\n",
    "\n",
    "    for i, (header, protein) in enumerate(protein_objs.items(), 1):\n",
    "        dimensions[header].update({\"length\" : int(len(protein))})\n",
    "        dimensions[header].update({\"sequence\" : protein.sequence})\n",
    "\n",
    "        if radius_of_gyration:\n",
    "            dimensions[header].update({\"radius_of_gyration\" : protein.predictor.radius_of_gyration()})\n",
    "\n",
    "        if end_to_end_distance:\n",
    "            dimensions[header].update({\"end_to_end_distance\" : protein.predictor.end_to_end_distance()})\n",
    "\n",
    "        if scaling_exponent:\n",
    "            dimensions[header].update({\"scaling_exponent\" : protein.predictor.scaling_exponent()})\n",
    "\n",
    "        if asphericity:\n",
    "            dimensions[header].update({\"asphericity\" : protein.predictor.asphericity()})\n",
    "\n",
    "        if prefactor:\n",
    "            dimensions[header].update({\"prefactor\" : protein.predictor.prefactor()})\n",
    "\n",
    "    df = pd.DataFrame(dimensions).T\n",
    "    df = df.rename_axis('fasta_header')\n",
    "    df = df[[col for col in df.columns if col != 'sequence'] + ['sequence']]\n",
    "\n",
    "    return df\n",
    "\n",
    "def return_fasta_predictions(protein_objs):\n",
    "    if torch.cuda.is_available():\n",
    "        df = __gpu_accelerated_fasta_predictions(protein_objs)\n",
    "    else:\n",
    "        df = __cpu_fasta_predictions(protein_objs)\n",
    "\n",
    "    return df\n",
    "\n",
    "def return_individual_predictions(protein):\n",
    "    dimensions = dict()\n",
    "    col_names = [\"sequence\",\"length\"]\n",
    "\n",
    "    dimensions[\"sequence\"] = protein.sequence,\n",
    "    dimensions[\"length\"] = int(len(protein))\n",
    "\n",
    "\n",
    "    if radius_of_gyration:\n",
    "        dimensions[\"radius_of_gyration\"] = protein.predictor.radius_of_gyration()\n",
    "        col_names.append(\"radius_of_gyration\")\n",
    "\n",
    "    if end_to_end_distance:\n",
    "        dimensions[\"end_to_end_distance\"] = protein.predictor.end_to_end_distance()\n",
    "        col_names.append(\"end_to_end_distance\")\n",
    "\n",
    "    if scaling_exponent:\n",
    "        dimensions[\"scaling_exponent\"] = protein.predictor.scaling_exponent()\n",
    "        col_names.append(\"scaling_exponent\")\n",
    "\n",
    "    if asphericity:\n",
    "        dimensions[\"asphericity\"] = np.round(protein.predictor.asphericity(),3)\n",
    "        col_names.append(\"asphericity\")\n",
    "\n",
    "    if prefactor:\n",
    "        dimensions[\"prefactor\"] = protein.predictor.prefactor()\n",
    "        col_names.append(\"prefactor\")\n",
    "\n",
    "    df = pd.DataFrame(dimensions,columns=col_names)\n",
    "\n",
    "    return df\n",
    "\n",
    "def is_iterable(obj):\n",
    "    try:\n",
    "        iter(obj)\n",
    "        return True\n",
    "    except TypeError:\n",
    "        return False"
   ]
  },
  {
   "cell_type": "code",
   "execution_count": 60,
   "id": "7f093a5c-e8d8-4557-bc08-6d03d639ea03",
   "metadata": {},
   "outputs": [],
   "source": [
    "if is_iterable(protein_objs):\n",
    "    df = return_fasta_predictions(protein_objs)\n",
    "else:\n",
    "    df = return_individual_predictions(protein_objs)\n",
    "\n",
    "df[\"sequence\"] = df[\"sequence\"].str.wrap(10)\n",
    "\n",
    "\n"
   ]
  },
  {
   "cell_type": "code",
   "execution_count": 61,
   "id": "26f81f2f-578b-4ac7-87d4-415e7b20c611",
   "metadata": {},
   "outputs": [
    {
     "data": {
      "text/html": [
       "<div>\n",
       "<style scoped>\n",
       "    .dataframe tbody tr th:only-of-type {\n",
       "        vertical-align: middle;\n",
       "    }\n",
       "\n",
       "    .dataframe tbody tr th {\n",
       "        vertical-align: top;\n",
       "    }\n",
       "\n",
       "    .dataframe thead th {\n",
       "        text-align: right;\n",
       "    }\n",
       "</style>\n",
       "<table border=\"1\" class=\"dataframe\">\n",
       "  <thead>\n",
       "    <tr style=\"text-align: right;\">\n",
       "      <th></th>\n",
       "      <th>sequence</th>\n",
       "      <th>length</th>\n",
       "      <th>radius_of_gyration</th>\n",
       "      <th>end_to_end_distance</th>\n",
       "      <th>scaling_exponent</th>\n",
       "      <th>asphericity</th>\n",
       "      <th>prefactor</th>\n",
       "    </tr>\n",
       "  </thead>\n",
       "  <tbody>\n",
       "    <tr>\n",
       "      <th>0</th>\n",
       "      <td>THISISANAM\\nINAACIDSEQ\\nWENCE</td>\n",
       "      <td>25</td>\n",
       "      <td>12.87173</td>\n",
       "      <td>32.124577</td>\n",
       "      <td>0.549379</td>\n",
       "      <td>0.468</td>\n",
       "      <td>6.236957</td>\n",
       "    </tr>\n",
       "  </tbody>\n",
       "</table>\n",
       "</div>"
      ],
      "text/plain": [
       "                        sequence  length  radius_of_gyration  \\\n",
       "0  THISISANAM\\nINAACIDSEQ\\nWENCE      25            12.87173   \n",
       "\n",
       "   end_to_end_distance  scaling_exponent  asphericity  prefactor  \n",
       "0            32.124577          0.549379        0.468   6.236957  "
      ]
     },
     "execution_count": 61,
     "metadata": {},
     "output_type": "execute_result"
    }
   ],
   "source": [
    "df"
   ]
  },
  {
   "cell_type": "code",
   "execution_count": null,
   "id": "aa3f92f9-09fa-4cae-9456-667feaeb9a19",
   "metadata": {},
   "outputs": [],
   "source": [
    "prediction_table = data_table.DataTable(df,\n",
    "                                        include_index=False,\n",
    "                                        num_rows_per_page=10,)\n",
    "\n",
    "\n",
    "display(prediction_table)"
   ]
  },
  {
   "cell_type": "code",
   "execution_count": null,
   "id": "f04c10fe-629d-4449-9c17-7d0ec9ea0f63",
   "metadata": {},
   "outputs": [],
   "source": []
  },
  {
   "cell_type": "code",
   "execution_count": null,
   "id": "b948835f-9537-459a-89be-a218f3c3ce6b",
   "metadata": {},
   "outputs": [],
   "source": []
  },
  {
   "cell_type": "code",
   "execution_count": 54,
   "id": "b6c108b9-922c-4b64-801d-a14972568d16",
   "metadata": {},
   "outputs": [],
   "source": [
    "import joblib"
   ]
  },
  {
   "cell_type": "code",
   "execution_count": 62,
   "id": "2eaaa7a3-4a25-4ff6-b178-b658db26b0b2",
   "metadata": {},
   "outputs": [],
   "source": [
    "from joblib import dump, load"
   ]
  },
  {
   "cell_type": "code",
   "execution_count": 55,
   "id": "a98c0515-51f3-4cc1-9293-18ccc0a1ff7f",
   "metadata": {},
   "outputs": [],
   "source": [
    "url = 'https://github.com/KULL-Centre/_2023_Tesei_IDRome/blob/main'"
   ]
  },
  {
   "cell_type": "code",
   "execution_count": 59,
   "id": "8bebd426-82a8-42fb-9736-60abeffd1489",
   "metadata": {},
   "outputs": [],
   "source": [
    "import wget"
   ]
  },
  {
   "cell_type": "code",
   "execution_count": 60,
   "id": "dee81657-607b-4fbf-a647-747168532c04",
   "metadata": {},
   "outputs": [
    {
     "name": "stdout",
     "output_type": "stream",
     "text": [
      "100% [..............................................................................] 63831 / 63831"
     ]
    },
    {
     "data": {
      "text/plain": [
       "'svr_model_nu.joblib'"
      ]
     },
     "execution_count": 60,
     "metadata": {},
     "output_type": "execute_result"
    }
   ],
   "source": [
    "wget.download(url+'/svr_models/svr_model_nu.joblib?raw=true')"
   ]
  },
  {
   "cell_type": "code",
   "execution_count": 63,
   "id": "dfe5a9d0-25a4-4352-a509-2fbe84f93b43",
   "metadata": {},
   "outputs": [
    {
     "name": "stderr",
     "output_type": "stream",
     "text": [
      "C:\\Users\\suvcss\\Anaconda3\\envs\\chemistry\\lib\\site-packages\\sklearn\\base.py:376: InconsistentVersionWarning: Trying to unpickle estimator SVR from version 1.0.2 when using version 1.5.0. This might lead to breaking code or invalid results. Use at your own risk. For more info please refer to:\n",
      "https://scikit-learn.org/stable/model_persistence.html#security-maintainability-limitations\n",
      "  warnings.warn(\n"
     ]
    }
   ],
   "source": [
    "model_nu = load('svr_model_nu.joblib') "
   ]
  },
  {
   "cell_type": "code",
   "execution_count": 64,
   "id": "a6380943-e098-4672-b115-162c2b9a5df9",
   "metadata": {},
   "outputs": [
    {
     "data": {
      "text/html": [
       "<style>#sk-container-id-1 {\n",
       "  /* Definition of color scheme common for light and dark mode */\n",
       "  --sklearn-color-text: black;\n",
       "  --sklearn-color-line: gray;\n",
       "  /* Definition of color scheme for unfitted estimators */\n",
       "  --sklearn-color-unfitted-level-0: #fff5e6;\n",
       "  --sklearn-color-unfitted-level-1: #f6e4d2;\n",
       "  --sklearn-color-unfitted-level-2: #ffe0b3;\n",
       "  --sklearn-color-unfitted-level-3: chocolate;\n",
       "  /* Definition of color scheme for fitted estimators */\n",
       "  --sklearn-color-fitted-level-0: #f0f8ff;\n",
       "  --sklearn-color-fitted-level-1: #d4ebff;\n",
       "  --sklearn-color-fitted-level-2: #b3dbfd;\n",
       "  --sklearn-color-fitted-level-3: cornflowerblue;\n",
       "\n",
       "  /* Specific color for light theme */\n",
       "  --sklearn-color-text-on-default-background: var(--sg-text-color, var(--theme-code-foreground, var(--jp-content-font-color1, black)));\n",
       "  --sklearn-color-background: var(--sg-background-color, var(--theme-background, var(--jp-layout-color0, white)));\n",
       "  --sklearn-color-border-box: var(--sg-text-color, var(--theme-code-foreground, var(--jp-content-font-color1, black)));\n",
       "  --sklearn-color-icon: #696969;\n",
       "\n",
       "  @media (prefers-color-scheme: dark) {\n",
       "    /* Redefinition of color scheme for dark theme */\n",
       "    --sklearn-color-text-on-default-background: var(--sg-text-color, var(--theme-code-foreground, var(--jp-content-font-color1, white)));\n",
       "    --sklearn-color-background: var(--sg-background-color, var(--theme-background, var(--jp-layout-color0, #111)));\n",
       "    --sklearn-color-border-box: var(--sg-text-color, var(--theme-code-foreground, var(--jp-content-font-color1, white)));\n",
       "    --sklearn-color-icon: #878787;\n",
       "  }\n",
       "}\n",
       "\n",
       "#sk-container-id-1 {\n",
       "  color: var(--sklearn-color-text);\n",
       "}\n",
       "\n",
       "#sk-container-id-1 pre {\n",
       "  padding: 0;\n",
       "}\n",
       "\n",
       "#sk-container-id-1 input.sk-hidden--visually {\n",
       "  border: 0;\n",
       "  clip: rect(1px 1px 1px 1px);\n",
       "  clip: rect(1px, 1px, 1px, 1px);\n",
       "  height: 1px;\n",
       "  margin: -1px;\n",
       "  overflow: hidden;\n",
       "  padding: 0;\n",
       "  position: absolute;\n",
       "  width: 1px;\n",
       "}\n",
       "\n",
       "#sk-container-id-1 div.sk-dashed-wrapped {\n",
       "  border: 1px dashed var(--sklearn-color-line);\n",
       "  margin: 0 0.4em 0.5em 0.4em;\n",
       "  box-sizing: border-box;\n",
       "  padding-bottom: 0.4em;\n",
       "  background-color: var(--sklearn-color-background);\n",
       "}\n",
       "\n",
       "#sk-container-id-1 div.sk-container {\n",
       "  /* jupyter's `normalize.less` sets `[hidden] { display: none; }`\n",
       "     but bootstrap.min.css set `[hidden] { display: none !important; }`\n",
       "     so we also need the `!important` here to be able to override the\n",
       "     default hidden behavior on the sphinx rendered scikit-learn.org.\n",
       "     See: https://github.com/scikit-learn/scikit-learn/issues/21755 */\n",
       "  display: inline-block !important;\n",
       "  position: relative;\n",
       "}\n",
       "\n",
       "#sk-container-id-1 div.sk-text-repr-fallback {\n",
       "  display: none;\n",
       "}\n",
       "\n",
       "div.sk-parallel-item,\n",
       "div.sk-serial,\n",
       "div.sk-item {\n",
       "  /* draw centered vertical line to link estimators */\n",
       "  background-image: linear-gradient(var(--sklearn-color-text-on-default-background), var(--sklearn-color-text-on-default-background));\n",
       "  background-size: 2px 100%;\n",
       "  background-repeat: no-repeat;\n",
       "  background-position: center center;\n",
       "}\n",
       "\n",
       "/* Parallel-specific style estimator block */\n",
       "\n",
       "#sk-container-id-1 div.sk-parallel-item::after {\n",
       "  content: \"\";\n",
       "  width: 100%;\n",
       "  border-bottom: 2px solid var(--sklearn-color-text-on-default-background);\n",
       "  flex-grow: 1;\n",
       "}\n",
       "\n",
       "#sk-container-id-1 div.sk-parallel {\n",
       "  display: flex;\n",
       "  align-items: stretch;\n",
       "  justify-content: center;\n",
       "  background-color: var(--sklearn-color-background);\n",
       "  position: relative;\n",
       "}\n",
       "\n",
       "#sk-container-id-1 div.sk-parallel-item {\n",
       "  display: flex;\n",
       "  flex-direction: column;\n",
       "}\n",
       "\n",
       "#sk-container-id-1 div.sk-parallel-item:first-child::after {\n",
       "  align-self: flex-end;\n",
       "  width: 50%;\n",
       "}\n",
       "\n",
       "#sk-container-id-1 div.sk-parallel-item:last-child::after {\n",
       "  align-self: flex-start;\n",
       "  width: 50%;\n",
       "}\n",
       "\n",
       "#sk-container-id-1 div.sk-parallel-item:only-child::after {\n",
       "  width: 0;\n",
       "}\n",
       "\n",
       "/* Serial-specific style estimator block */\n",
       "\n",
       "#sk-container-id-1 div.sk-serial {\n",
       "  display: flex;\n",
       "  flex-direction: column;\n",
       "  align-items: center;\n",
       "  background-color: var(--sklearn-color-background);\n",
       "  padding-right: 1em;\n",
       "  padding-left: 1em;\n",
       "}\n",
       "\n",
       "\n",
       "/* Toggleable style: style used for estimator/Pipeline/ColumnTransformer box that is\n",
       "clickable and can be expanded/collapsed.\n",
       "- Pipeline and ColumnTransformer use this feature and define the default style\n",
       "- Estimators will overwrite some part of the style using the `sk-estimator` class\n",
       "*/\n",
       "\n",
       "/* Pipeline and ColumnTransformer style (default) */\n",
       "\n",
       "#sk-container-id-1 div.sk-toggleable {\n",
       "  /* Default theme specific background. It is overwritten whether we have a\n",
       "  specific estimator or a Pipeline/ColumnTransformer */\n",
       "  background-color: var(--sklearn-color-background);\n",
       "}\n",
       "\n",
       "/* Toggleable label */\n",
       "#sk-container-id-1 label.sk-toggleable__label {\n",
       "  cursor: pointer;\n",
       "  display: block;\n",
       "  width: 100%;\n",
       "  margin-bottom: 0;\n",
       "  padding: 0.5em;\n",
       "  box-sizing: border-box;\n",
       "  text-align: center;\n",
       "}\n",
       "\n",
       "#sk-container-id-1 label.sk-toggleable__label-arrow:before {\n",
       "  /* Arrow on the left of the label */\n",
       "  content: \"▸\";\n",
       "  float: left;\n",
       "  margin-right: 0.25em;\n",
       "  color: var(--sklearn-color-icon);\n",
       "}\n",
       "\n",
       "#sk-container-id-1 label.sk-toggleable__label-arrow:hover:before {\n",
       "  color: var(--sklearn-color-text);\n",
       "}\n",
       "\n",
       "/* Toggleable content - dropdown */\n",
       "\n",
       "#sk-container-id-1 div.sk-toggleable__content {\n",
       "  max-height: 0;\n",
       "  max-width: 0;\n",
       "  overflow: hidden;\n",
       "  text-align: left;\n",
       "  /* unfitted */\n",
       "  background-color: var(--sklearn-color-unfitted-level-0);\n",
       "}\n",
       "\n",
       "#sk-container-id-1 div.sk-toggleable__content.fitted {\n",
       "  /* fitted */\n",
       "  background-color: var(--sklearn-color-fitted-level-0);\n",
       "}\n",
       "\n",
       "#sk-container-id-1 div.sk-toggleable__content pre {\n",
       "  margin: 0.2em;\n",
       "  border-radius: 0.25em;\n",
       "  color: var(--sklearn-color-text);\n",
       "  /* unfitted */\n",
       "  background-color: var(--sklearn-color-unfitted-level-0);\n",
       "}\n",
       "\n",
       "#sk-container-id-1 div.sk-toggleable__content.fitted pre {\n",
       "  /* unfitted */\n",
       "  background-color: var(--sklearn-color-fitted-level-0);\n",
       "}\n",
       "\n",
       "#sk-container-id-1 input.sk-toggleable__control:checked~div.sk-toggleable__content {\n",
       "  /* Expand drop-down */\n",
       "  max-height: 200px;\n",
       "  max-width: 100%;\n",
       "  overflow: auto;\n",
       "}\n",
       "\n",
       "#sk-container-id-1 input.sk-toggleable__control:checked~label.sk-toggleable__label-arrow:before {\n",
       "  content: \"▾\";\n",
       "}\n",
       "\n",
       "/* Pipeline/ColumnTransformer-specific style */\n",
       "\n",
       "#sk-container-id-1 div.sk-label input.sk-toggleable__control:checked~label.sk-toggleable__label {\n",
       "  color: var(--sklearn-color-text);\n",
       "  background-color: var(--sklearn-color-unfitted-level-2);\n",
       "}\n",
       "\n",
       "#sk-container-id-1 div.sk-label.fitted input.sk-toggleable__control:checked~label.sk-toggleable__label {\n",
       "  background-color: var(--sklearn-color-fitted-level-2);\n",
       "}\n",
       "\n",
       "/* Estimator-specific style */\n",
       "\n",
       "/* Colorize estimator box */\n",
       "#sk-container-id-1 div.sk-estimator input.sk-toggleable__control:checked~label.sk-toggleable__label {\n",
       "  /* unfitted */\n",
       "  background-color: var(--sklearn-color-unfitted-level-2);\n",
       "}\n",
       "\n",
       "#sk-container-id-1 div.sk-estimator.fitted input.sk-toggleable__control:checked~label.sk-toggleable__label {\n",
       "  /* fitted */\n",
       "  background-color: var(--sklearn-color-fitted-level-2);\n",
       "}\n",
       "\n",
       "#sk-container-id-1 div.sk-label label.sk-toggleable__label,\n",
       "#sk-container-id-1 div.sk-label label {\n",
       "  /* The background is the default theme color */\n",
       "  color: var(--sklearn-color-text-on-default-background);\n",
       "}\n",
       "\n",
       "/* On hover, darken the color of the background */\n",
       "#sk-container-id-1 div.sk-label:hover label.sk-toggleable__label {\n",
       "  color: var(--sklearn-color-text);\n",
       "  background-color: var(--sklearn-color-unfitted-level-2);\n",
       "}\n",
       "\n",
       "/* Label box, darken color on hover, fitted */\n",
       "#sk-container-id-1 div.sk-label.fitted:hover label.sk-toggleable__label.fitted {\n",
       "  color: var(--sklearn-color-text);\n",
       "  background-color: var(--sklearn-color-fitted-level-2);\n",
       "}\n",
       "\n",
       "/* Estimator label */\n",
       "\n",
       "#sk-container-id-1 div.sk-label label {\n",
       "  font-family: monospace;\n",
       "  font-weight: bold;\n",
       "  display: inline-block;\n",
       "  line-height: 1.2em;\n",
       "}\n",
       "\n",
       "#sk-container-id-1 div.sk-label-container {\n",
       "  text-align: center;\n",
       "}\n",
       "\n",
       "/* Estimator-specific */\n",
       "#sk-container-id-1 div.sk-estimator {\n",
       "  font-family: monospace;\n",
       "  border: 1px dotted var(--sklearn-color-border-box);\n",
       "  border-radius: 0.25em;\n",
       "  box-sizing: border-box;\n",
       "  margin-bottom: 0.5em;\n",
       "  /* unfitted */\n",
       "  background-color: var(--sklearn-color-unfitted-level-0);\n",
       "}\n",
       "\n",
       "#sk-container-id-1 div.sk-estimator.fitted {\n",
       "  /* fitted */\n",
       "  background-color: var(--sklearn-color-fitted-level-0);\n",
       "}\n",
       "\n",
       "/* on hover */\n",
       "#sk-container-id-1 div.sk-estimator:hover {\n",
       "  /* unfitted */\n",
       "  background-color: var(--sklearn-color-unfitted-level-2);\n",
       "}\n",
       "\n",
       "#sk-container-id-1 div.sk-estimator.fitted:hover {\n",
       "  /* fitted */\n",
       "  background-color: var(--sklearn-color-fitted-level-2);\n",
       "}\n",
       "\n",
       "/* Specification for estimator info (e.g. \"i\" and \"?\") */\n",
       "\n",
       "/* Common style for \"i\" and \"?\" */\n",
       "\n",
       ".sk-estimator-doc-link,\n",
       "a:link.sk-estimator-doc-link,\n",
       "a:visited.sk-estimator-doc-link {\n",
       "  float: right;\n",
       "  font-size: smaller;\n",
       "  line-height: 1em;\n",
       "  font-family: monospace;\n",
       "  background-color: var(--sklearn-color-background);\n",
       "  border-radius: 1em;\n",
       "  height: 1em;\n",
       "  width: 1em;\n",
       "  text-decoration: none !important;\n",
       "  margin-left: 1ex;\n",
       "  /* unfitted */\n",
       "  border: var(--sklearn-color-unfitted-level-1) 1pt solid;\n",
       "  color: var(--sklearn-color-unfitted-level-1);\n",
       "}\n",
       "\n",
       ".sk-estimator-doc-link.fitted,\n",
       "a:link.sk-estimator-doc-link.fitted,\n",
       "a:visited.sk-estimator-doc-link.fitted {\n",
       "  /* fitted */\n",
       "  border: var(--sklearn-color-fitted-level-1) 1pt solid;\n",
       "  color: var(--sklearn-color-fitted-level-1);\n",
       "}\n",
       "\n",
       "/* On hover */\n",
       "div.sk-estimator:hover .sk-estimator-doc-link:hover,\n",
       ".sk-estimator-doc-link:hover,\n",
       "div.sk-label-container:hover .sk-estimator-doc-link:hover,\n",
       ".sk-estimator-doc-link:hover {\n",
       "  /* unfitted */\n",
       "  background-color: var(--sklearn-color-unfitted-level-3);\n",
       "  color: var(--sklearn-color-background);\n",
       "  text-decoration: none;\n",
       "}\n",
       "\n",
       "div.sk-estimator.fitted:hover .sk-estimator-doc-link.fitted:hover,\n",
       ".sk-estimator-doc-link.fitted:hover,\n",
       "div.sk-label-container:hover .sk-estimator-doc-link.fitted:hover,\n",
       ".sk-estimator-doc-link.fitted:hover {\n",
       "  /* fitted */\n",
       "  background-color: var(--sklearn-color-fitted-level-3);\n",
       "  color: var(--sklearn-color-background);\n",
       "  text-decoration: none;\n",
       "}\n",
       "\n",
       "/* Span, style for the box shown on hovering the info icon */\n",
       ".sk-estimator-doc-link span {\n",
       "  display: none;\n",
       "  z-index: 9999;\n",
       "  position: relative;\n",
       "  font-weight: normal;\n",
       "  right: .2ex;\n",
       "  padding: .5ex;\n",
       "  margin: .5ex;\n",
       "  width: min-content;\n",
       "  min-width: 20ex;\n",
       "  max-width: 50ex;\n",
       "  color: var(--sklearn-color-text);\n",
       "  box-shadow: 2pt 2pt 4pt #999;\n",
       "  /* unfitted */\n",
       "  background: var(--sklearn-color-unfitted-level-0);\n",
       "  border: .5pt solid var(--sklearn-color-unfitted-level-3);\n",
       "}\n",
       "\n",
       ".sk-estimator-doc-link.fitted span {\n",
       "  /* fitted */\n",
       "  background: var(--sklearn-color-fitted-level-0);\n",
       "  border: var(--sklearn-color-fitted-level-3);\n",
       "}\n",
       "\n",
       ".sk-estimator-doc-link:hover span {\n",
       "  display: block;\n",
       "}\n",
       "\n",
       "/* \"?\"-specific style due to the `<a>` HTML tag */\n",
       "\n",
       "#sk-container-id-1 a.estimator_doc_link {\n",
       "  float: right;\n",
       "  font-size: 1rem;\n",
       "  line-height: 1em;\n",
       "  font-family: monospace;\n",
       "  background-color: var(--sklearn-color-background);\n",
       "  border-radius: 1rem;\n",
       "  height: 1rem;\n",
       "  width: 1rem;\n",
       "  text-decoration: none;\n",
       "  /* unfitted */\n",
       "  color: var(--sklearn-color-unfitted-level-1);\n",
       "  border: var(--sklearn-color-unfitted-level-1) 1pt solid;\n",
       "}\n",
       "\n",
       "#sk-container-id-1 a.estimator_doc_link.fitted {\n",
       "  /* fitted */\n",
       "  border: var(--sklearn-color-fitted-level-1) 1pt solid;\n",
       "  color: var(--sklearn-color-fitted-level-1);\n",
       "}\n",
       "\n",
       "/* On hover */\n",
       "#sk-container-id-1 a.estimator_doc_link:hover {\n",
       "  /* unfitted */\n",
       "  background-color: var(--sklearn-color-unfitted-level-3);\n",
       "  color: var(--sklearn-color-background);\n",
       "  text-decoration: none;\n",
       "}\n",
       "\n",
       "#sk-container-id-1 a.estimator_doc_link.fitted:hover {\n",
       "  /* fitted */\n",
       "  background-color: var(--sklearn-color-fitted-level-3);\n",
       "}\n",
       "</style><div id=\"sk-container-id-1\" class=\"sk-top-container\"><div class=\"sk-text-repr-fallback\"><pre>SVR(C=67, epsilon=0.021, verbose=True)</pre><b>In a Jupyter environment, please rerun this cell to show the HTML representation or trust the notebook. <br />On GitHub, the HTML representation is unable to render, please try loading this page with nbviewer.org.</b></div><div class=\"sk-container\" hidden><div class=\"sk-item\"><div class=\"sk-estimator fitted sk-toggleable\"><input class=\"sk-toggleable__control sk-hidden--visually\" id=\"sk-estimator-id-1\" type=\"checkbox\" checked><label for=\"sk-estimator-id-1\" class=\"sk-toggleable__label fitted sk-toggleable__label-arrow fitted\">&nbsp;&nbsp;SVR<a class=\"sk-estimator-doc-link fitted\" rel=\"noreferrer\" target=\"_blank\" href=\"https://scikit-learn.org/1.5/modules/generated/sklearn.svm.SVR.html\">?<span>Documentation for SVR</span></a><span class=\"sk-estimator-doc-link fitted\">i<span>Fitted</span></span></label><div class=\"sk-toggleable__content fitted\"><pre>SVR(C=67, epsilon=0.021, verbose=True)</pre></div> </div></div></div></div>"
      ],
      "text/plain": [
       "SVR(C=67, epsilon=0.021, verbose=True)"
      ]
     },
     "execution_count": 64,
     "metadata": {},
     "output_type": "execute_result"
    }
   ],
   "source": [
    "model_nu"
   ]
  },
  {
   "cell_type": "code",
   "execution_count": 65,
   "id": "c246bd56-f8cc-4afb-83d4-59106c57d0c0",
   "metadata": {},
   "outputs": [
    {
     "data": {
      "text/plain": [
       "'rbf'"
      ]
     },
     "execution_count": 65,
     "metadata": {},
     "output_type": "execute_result"
    }
   ],
   "source": [
    "model_nu.kernel"
   ]
  },
  {
   "cell_type": "code",
   "execution_count": null,
   "id": "3a27aba9-bda2-4ec7-b8ba-98556ba70c4a",
   "metadata": {},
   "outputs": [],
   "source": []
  }
 ],
 "metadata": {
  "kernelspec": {
   "display_name": "Python 3 (ipykernel)",
   "language": "python",
   "name": "python3"
  },
  "language_info": {
   "codemirror_mode": {
    "name": "ipython",
    "version": 3
   },
   "file_extension": ".py",
   "mimetype": "text/x-python",
   "name": "python",
   "nbconvert_exporter": "python",
   "pygments_lexer": "ipython3",
   "version": "3.9.19"
  }
 },
 "nbformat": 4,
 "nbformat_minor": 5
}
